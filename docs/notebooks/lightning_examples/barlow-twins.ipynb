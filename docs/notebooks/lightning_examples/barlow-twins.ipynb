{
 "cells": [
  {
   "cell_type": "markdown",
   "id": "6f984f11",
   "metadata": {
    "papermill": {
     "duration": 0.005879,
     "end_time": "2024-09-01T12:41:07.405042",
     "exception": false,
     "start_time": "2024-09-01T12:41:07.399163",
     "status": "completed"
    },
    "tags": []
   },
   "source": [
    "\n",
    "# Barlow Twins Tutorial\n",
    "\n",
    "* **Author:** Ananya Harsh Jha\n",
    "* **License:** CC BY-SA\n",
    "* **Generated:** 2024-09-01T12:41:00.424750\n",
    "\n",
    "This notebook describes the self-supervised learning method Barlow Twins.\n",
    "Barlow Twins differs from other recently proposed algorithms as it doesn't\n",
    "fall under the category of either contrastive learning, or methods like knowledge\n",
    "distillation or clustering. The simplicity of the loss function and its effectiveness\n",
    "in comparison to the current state of the art makes Barlow Twins an interesting\n",
    "case study.\n",
    "\n",
    "\n",
    "---\n",
    "Open in [![Open In Colab](data:image/png;base64,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){height=\"20px\" width=\"117px\"}](https://colab.research.google.com/github/PytorchLightning/lightning-tutorials/blob/publication/.notebooks/lightning_examples/barlow-twins.ipynb)\n",
    "\n",
    "Give us a ⭐ [on Github](https://www.github.com/Lightning-AI/lightning/)\n",
    "| Check out [the documentation](https://lightning.ai/docs/)\n",
    "| Join us [on Discord](https://discord.com/invite/tfXFetEZxv)"
   ]
  },
  {
   "cell_type": "markdown",
   "id": "e3f4e069",
   "metadata": {
    "papermill": {
     "duration": 0.005008,
     "end_time": "2024-09-01T12:41:07.415260",
     "exception": false,
     "start_time": "2024-09-01T12:41:07.410252",
     "status": "completed"
    },
    "tags": []
   },
   "source": [
    "## Setup\n",
    "This notebook requires some packages besides pytorch-lightning."
   ]
  },
  {
   "cell_type": "code",
   "execution_count": 1,
   "id": "45766e19",
   "metadata": {
    "colab": {},
    "colab_type": "code",
    "execution": {
     "iopub.execute_input": "2024-09-01T12:41:07.426503Z",
     "iopub.status.busy": "2024-09-01T12:41:07.426306Z",
     "iopub.status.idle": "2024-09-01T12:41:08.699749Z",
     "shell.execute_reply": "2024-09-01T12:41:08.698347Z"
    },
    "id": "LfrJLKPFyhsK",
    "lines_to_next_cell": 0,
    "papermill": {
     "duration": 1.282319,
     "end_time": "2024-09-01T12:41:08.702607",
     "exception": false,
     "start_time": "2024-09-01T12:41:07.420288",
     "status": "completed"
    },
    "tags": []
   },
   "outputs": [
    {
     "name": "stdout",
     "output_type": "stream",
     "text": [
      "\u001b[33mWARNING: Running pip as the 'root' user can result in broken permissions and conflicting behaviour with the system package manager, possibly rendering your system unusable.It is recommended to use a virtual environment instead: https://pip.pypa.io/warnings/venv. Use the --root-user-action option if you know what you are doing and want to suppress this warning.\u001b[0m\u001b[33m\r\n",
      "\u001b[0m"
     ]
    }
   ],
   "source": [
    "! pip install --quiet \"torch>=1.8.1, <2.5\" \"torchmetrics>=1.0, <1.5\" \"matplotlib\" \"numpy <3.0\" \"pytorch-lightning >=2.0,<2.5\" \"torchvision\""
   ]
  },
  {
   "cell_type": "markdown",
   "id": "6b220e67",
   "metadata": {
    "papermill": {
     "duration": 0.008367,
     "end_time": "2024-09-01T12:41:08.719871",
     "exception": false,
     "start_time": "2024-09-01T12:41:08.711504",
     "status": "completed"
    },
    "tags": []
   },
   "source": [
    "## Barlow Twins\n",
    "\n",
    "Barlow Twins finds itself in unique place amongst the current state-of-the-art self-supervised learning methods. It does not fall under the existing categories of contrastive learning, knowledge distillation or clustering based methods. Instead, it creates its own category of redundancy reductionand achieves competitive performance with a simple yet effective loss function. In this tutorial, we look at coding up a small version of Barlow Twins algorithm using PyTorch Lightning."
   ]
  },
  {
   "cell_type": "code",
   "execution_count": 2,
   "id": "b4466dcd",
   "metadata": {
    "execution": {
     "iopub.execute_input": "2024-09-01T12:41:08.738585Z",
     "iopub.status.busy": "2024-09-01T12:41:08.738163Z",
     "iopub.status.idle": "2024-09-01T12:41:12.100139Z",
     "shell.execute_reply": "2024-09-01T12:41:12.098771Z"
    },
    "lines_to_next_cell": 2,
    "papermill": {
     "duration": 3.374788,
     "end_time": "2024-09-01T12:41:12.102961",
     "exception": false,
     "start_time": "2024-09-01T12:41:08.728173",
     "status": "completed"
    },
    "tags": []
   },
   "outputs": [],
   "source": [
    "from functools import partial\n",
    "from typing import Sequence, Tuple, Union\n",
    "\n",
    "import matplotlib.pyplot as plt\n",
    "import numpy as np\n",
    "import pytorch_lightning as pl\n",
    "import torch\n",
    "import torch.nn as nn\n",
    "import torch.nn.functional as F\n",
    "import torchvision.transforms as transforms\n",
    "import torchvision.transforms.functional as VisionF\n",
    "from pytorch_lightning.callbacks import Callback, ModelCheckpoint\n",
    "from torch import Tensor\n",
    "from torch.utils.data import DataLoader\n",
    "from torchmetrics.functional import accuracy\n",
    "from torchvision.datasets import CIFAR10\n",
    "from torchvision.models.resnet import resnet18\n",
    "from torchvision.utils import make_grid\n",
    "\n",
    "batch_size = 32\n",
    "num_workers = 0  # to run notebook on CPU\n",
    "max_epochs = 200\n",
    "z_dim = 128"
   ]
  },
  {
   "cell_type": "markdown",
   "id": "43848d1b",
   "metadata": {
    "lines_to_next_cell": 2,
    "papermill": {
     "duration": 0.008135,
     "end_time": "2024-09-01T12:41:12.121194",
     "exception": false,
     "start_time": "2024-09-01T12:41:12.113059",
     "status": "completed"
    },
    "tags": []
   },
   "source": [
    "### Transforms\n",
    "\n",
    "We first define the data augmentation pipeline used in Barlow Twins. Here, we use pipeline proposed in SimCLR, which generates two copies/views of an input image by applying the following transformations in a sequence.\n",
    "\n",
    "First it takes a random crop of the image and resizes it to a fixed pre-specified size. Then, it applies a left-to-right random flip with a probability of 0.5. This step is followed by a composition of color jitter, conversion to grayscale with a probability of 0.2 and the application of a Gaussian blur filter. Finally, we normalize the image and convert it to a tensor.\n",
    "\n",
    "Within this transform, we add a third view for our online finetuner, which we explain later on. But, to explain things quickly here, we add a another transform to perform perform test our encoder on a downstream classification task."
   ]
  },
  {
   "cell_type": "code",
   "execution_count": 3,
   "id": "afff7c1b",
   "metadata": {
    "execution": {
     "iopub.execute_input": "2024-09-01T12:41:12.139336Z",
     "iopub.status.busy": "2024-09-01T12:41:12.138980Z",
     "iopub.status.idle": "2024-09-01T12:41:12.148435Z",
     "shell.execute_reply": "2024-09-01T12:41:12.147428Z"
    },
    "lines_to_next_cell": 2,
    "papermill": {
     "duration": 0.021379,
     "end_time": "2024-09-01T12:41:12.150811",
     "exception": false,
     "start_time": "2024-09-01T12:41:12.129432",
     "status": "completed"
    },
    "tags": []
   },
   "outputs": [],
   "source": [
    "class BarlowTwinsTransform:\n",
    "    def __init__(self, train=True, input_height=224, gaussian_blur=True, jitter_strength=1.0, normalize=None):\n",
    "        self.input_height = input_height\n",
    "        self.gaussian_blur = gaussian_blur\n",
    "        self.jitter_strength = jitter_strength\n",
    "        self.normalize = normalize\n",
    "        self.train = train\n",
    "\n",
    "        color_jitter = transforms.ColorJitter(\n",
    "            0.8 * self.jitter_strength,\n",
    "            0.8 * self.jitter_strength,\n",
    "            0.8 * self.jitter_strength,\n",
    "            0.2 * self.jitter_strength,\n",
    "        )\n",
    "\n",
    "        color_transform = [transforms.RandomApply([color_jitter], p=0.8), transforms.RandomGrayscale(p=0.2)]\n",
    "\n",
    "        if self.gaussian_blur:\n",
    "            kernel_size = int(0.1 * self.input_height)\n",
    "            if kernel_size % 2 == 0:\n",
    "                kernel_size += 1\n",
    "\n",
    "            color_transform.append(transforms.RandomApply([transforms.GaussianBlur(kernel_size=kernel_size)], p=0.5))\n",
    "\n",
    "        self.color_transform = transforms.Compose(color_transform)\n",
    "\n",
    "        if normalize is None:\n",
    "            self.final_transform = transforms.ToTensor()\n",
    "        else:\n",
    "            self.final_transform = transforms.Compose([transforms.ToTensor(), normalize])\n",
    "\n",
    "        self.transform = transforms.Compose(\n",
    "            [\n",
    "                transforms.RandomResizedCrop(self.input_height),\n",
    "                transforms.RandomHorizontalFlip(p=0.5),\n",
    "                self.color_transform,\n",
    "                self.final_transform,\n",
    "            ]\n",
    "        )\n",
    "\n",
    "        self.finetune_transform = None\n",
    "        if self.train:\n",
    "            self.finetune_transform = transforms.Compose(\n",
    "                [\n",
    "                    transforms.RandomCrop(32, padding=4, padding_mode=\"reflect\"),\n",
    "                    transforms.RandomHorizontalFlip(),\n",
    "                    transforms.ToTensor(),\n",
    "                ]\n",
    "            )\n",
    "        else:\n",
    "            self.finetune_transform = transforms.ToTensor()\n",
    "\n",
    "    def __call__(self, sample):\n",
    "        return self.transform(sample), self.transform(sample), self.finetune_transform(sample)"
   ]
  },
  {
   "cell_type": "markdown",
   "id": "68363abe",
   "metadata": {
    "lines_to_next_cell": 2,
    "papermill": {
     "duration": 0.00814,
     "end_time": "2024-09-01T12:41:12.167253",
     "exception": false,
     "start_time": "2024-09-01T12:41:12.159113",
     "status": "completed"
    },
    "tags": []
   },
   "source": [
    "### Dataset\n",
    "\n",
    "We select CIFAR10 as the dataset to demonstrate the pre-training process for Barlow Twins. CIFAR10 images are 32x32 in size and we do not apply a Gaussian blur transformation on them. In this step, we create the training and validation dataloaders for CIFAR10."
   ]
  },
  {
   "cell_type": "code",
   "execution_count": 4,
   "id": "e414009c",
   "metadata": {
    "execution": {
     "iopub.execute_input": "2024-09-01T12:41:12.183568Z",
     "iopub.status.busy": "2024-09-01T12:41:12.183306Z",
     "iopub.status.idle": "2024-09-01T12:41:23.238611Z",
     "shell.execute_reply": "2024-09-01T12:41:23.236728Z"
    },
    "papermill": {
     "duration": 11.065742,
     "end_time": "2024-09-01T12:41:23.241382",
     "exception": false,
     "start_time": "2024-09-01T12:41:12.175640",
     "status": "completed"
    },
    "tags": []
   },
   "outputs": [
    {
     "name": "stdout",
     "output_type": "stream",
     "text": [
      "Downloading https://www.cs.toronto.edu/~kriz/cifar-10-python.tar.gz to ./cifar-10-python.tar.gz\n"
     ]
    },
    {
     "name": "stderr",
     "output_type": "stream",
     "text": [
      "\r",
      "  0%|          | 0/170498071 [00:00<?, ?it/s]"
     ]
    },
    {
     "name": "stderr",
     "output_type": "stream",
     "text": [
      "\r",
      "  0%|          | 229376/170498071 [00:00<01:29, 1894175.70it/s]"
     ]
    },
    {
     "name": "stderr",
     "output_type": "stream",
     "text": [
      "\r",
      "  1%|          | 2064384/170498071 [00:00<00:15, 10760986.89it/s]"
     ]
    },
    {
     "name": "stderr",
     "output_type": "stream",
     "text": [
      "\r",
      "  3%|▎         | 4718592/170498071 [00:00<00:09, 17448199.11it/s]"
     ]
    },
    {
     "name": "stderr",
     "output_type": "stream",
     "text": [
      "\r",
      "  6%|▌         | 9666560/170498071 [00:00<00:05, 29612063.39it/s]"
     ]
    },
    {
     "name": "stderr",
     "output_type": "stream",
     "text": [
      "\r",
      "  8%|▊         | 13205504/170498071 [00:00<00:04, 31598003.39it/s]"
     ]
    },
    {
     "name": "stderr",
     "output_type": "stream",
     "text": [
      "\r",
      " 10%|▉         | 16777216/170498071 [00:00<00:04, 32906520.82it/s]"
     ]
    },
    {
     "name": "stderr",
     "output_type": "stream",
     "text": [
      "\r",
      " 12%|█▏        | 20447232/170498071 [00:00<00:04, 34074737.67it/s]"
     ]
    },
    {
     "name": "stderr",
     "output_type": "stream",
     "text": [
      "\r",
      " 14%|█▍        | 24084480/170498071 [00:00<00:04, 34753729.46it/s]"
     ]
    },
    {
     "name": "stderr",
     "output_type": "stream",
     "text": [
      "\r",
      " 16%|█▌        | 27590656/170498071 [00:00<00:04, 32498304.70it/s]"
     ]
    },
    {
     "name": "stderr",
     "output_type": "stream",
     "text": [
      "\r",
      " 18%|█▊        | 31031296/170498071 [00:01<00:04, 32946241.63it/s]"
     ]
    },
    {
     "name": "stderr",
     "output_type": "stream",
     "text": [
      "\r",
      " 20%|██        | 34373632/170498071 [00:01<00:04, 30810529.20it/s]"
     ]
    },
    {
     "name": "stderr",
     "output_type": "stream",
     "text": [
      "\r",
      " 22%|██▏       | 37519360/170498071 [00:01<00:04, 29272168.35it/s]"
     ]
    },
    {
     "name": "stderr",
     "output_type": "stream",
     "text": [
      "\r",
      " 24%|██▍       | 40501248/170498071 [00:01<00:04, 28708841.07it/s]"
     ]
    },
    {
     "name": "stderr",
     "output_type": "stream",
     "text": [
      "\r",
      " 25%|██▌       | 43417600/170498071 [00:01<00:04, 28143635.52it/s]"
     ]
    },
    {
     "name": "stderr",
     "output_type": "stream",
     "text": [
      "\r",
      " 27%|██▋       | 46268416/170498071 [00:01<00:04, 27838014.86it/s]"
     ]
    },
    {
     "name": "stderr",
     "output_type": "stream",
     "text": [
      "\r",
      " 29%|██▉       | 49086464/170498071 [00:01<00:04, 27851838.61it/s]"
     ]
    },
    {
     "name": "stderr",
     "output_type": "stream",
     "text": [
      "\r",
      " 30%|███       | 51904512/170498071 [00:01<00:04, 27782849.76it/s]"
     ]
    },
    {
     "name": "stderr",
     "output_type": "stream",
     "text": [
      "\r",
      " 32%|███▏      | 54689792/170498071 [00:01<00:04, 27667255.74it/s]"
     ]
    },
    {
     "name": "stderr",
     "output_type": "stream",
     "text": [
      "\r",
      " 34%|███▍      | 57573376/170498071 [00:02<00:04, 27963586.99it/s]"
     ]
    },
    {
     "name": "stderr",
     "output_type": "stream",
     "text": [
      "\r",
      " 35%|███▌      | 60456960/170498071 [00:02<00:03, 28111588.28it/s]"
     ]
    },
    {
     "name": "stderr",
     "output_type": "stream",
     "text": [
      "\r",
      " 37%|███▋      | 63275008/170498071 [00:02<00:03, 28131836.08it/s]"
     ]
    },
    {
     "name": "stderr",
     "output_type": "stream",
     "text": [
      "\r",
      " 39%|███▉      | 66191360/170498071 [00:02<00:03, 28420124.15it/s]"
     ]
    },
    {
     "name": "stderr",
     "output_type": "stream",
     "text": [
      "\r",
      " 40%|████      | 69042176/170498071 [00:02<00:03, 26555245.49it/s]"
     ]
    },
    {
     "name": "stderr",
     "output_type": "stream",
     "text": [
      "\r",
      " 42%|████▏     | 71729152/170498071 [00:02<00:04, 24616094.70it/s]"
     ]
    },
    {
     "name": "stderr",
     "output_type": "stream",
     "text": [
      "\r",
      " 44%|████▎     | 74252288/170498071 [00:02<00:04, 23418391.48it/s]"
     ]
    },
    {
     "name": "stderr",
     "output_type": "stream",
     "text": [
      "\r",
      " 45%|████▍     | 76644352/170498071 [00:02<00:04, 22637656.06it/s]"
     ]
    },
    {
     "name": "stderr",
     "output_type": "stream",
     "text": [
      "\r",
      " 46%|████▋     | 78938112/170498071 [00:02<00:04, 22450846.12it/s]"
     ]
    },
    {
     "name": "stderr",
     "output_type": "stream",
     "text": [
      "\r",
      " 48%|████▊     | 81199104/170498071 [00:03<00:04, 22164869.98it/s]"
     ]
    },
    {
     "name": "stderr",
     "output_type": "stream",
     "text": [
      "\r",
      " 49%|████▉     | 83427328/170498071 [00:03<00:03, 21915978.32it/s]"
     ]
    },
    {
     "name": "stderr",
     "output_type": "stream",
     "text": [
      "\r",
      " 50%|█████     | 85655552/170498071 [00:03<00:03, 21989815.13it/s]"
     ]
    },
    {
     "name": "stderr",
     "output_type": "stream",
     "text": [
      "\r",
      " 52%|█████▏    | 87883776/170498071 [00:03<00:03, 22035150.95it/s]"
     ]
    },
    {
     "name": "stderr",
     "output_type": "stream",
     "text": [
      "\r",
      " 53%|█████▎    | 90144768/170498071 [00:03<00:03, 22083284.84it/s]"
     ]
    },
    {
     "name": "stderr",
     "output_type": "stream",
     "text": [
      "\r",
      " 54%|█████▍    | 92405760/170498071 [00:03<00:03, 22181877.51it/s]"
     ]
    },
    {
     "name": "stderr",
     "output_type": "stream",
     "text": [
      "\r",
      " 56%|█████▌    | 94666752/170498071 [00:03<00:03, 22259775.36it/s]"
     ]
    },
    {
     "name": "stderr",
     "output_type": "stream",
     "text": [
      "\r",
      " 57%|█████▋    | 96927744/170498071 [00:03<00:03, 22337554.49it/s]"
     ]
    },
    {
     "name": "stderr",
     "output_type": "stream",
     "text": [
      "\r",
      " 58%|█████▊    | 99254272/170498071 [00:03<00:03, 22610814.84it/s]"
     ]
    },
    {
     "name": "stderr",
     "output_type": "stream",
     "text": [
      "\r",
      " 60%|█████▉    | 101548032/170498071 [00:03<00:03, 22594364.62it/s]"
     ]
    },
    {
     "name": "stderr",
     "output_type": "stream",
     "text": [
      "\r",
      " 61%|██████    | 103874560/170498071 [00:04<00:02, 22735364.74it/s]"
     ]
    },
    {
     "name": "stderr",
     "output_type": "stream",
     "text": [
      "\r",
      " 62%|██████▏   | 106201088/170498071 [00:04<00:02, 22785098.01it/s]"
     ]
    },
    {
     "name": "stderr",
     "output_type": "stream",
     "text": [
      "\r",
      " 64%|██████▎   | 108527616/170498071 [00:04<00:02, 22754209.18it/s]"
     ]
    },
    {
     "name": "stderr",
     "output_type": "stream",
     "text": [
      "\r",
      " 65%|██████▌   | 110952448/170498071 [00:04<00:02, 23055404.12it/s]"
     ]
    },
    {
     "name": "stderr",
     "output_type": "stream",
     "text": [
      "\r",
      " 66%|██████▋   | 113344512/170498071 [00:04<00:02, 23242463.99it/s]"
     ]
    },
    {
     "name": "stderr",
     "output_type": "stream",
     "text": [
      "\r",
      " 68%|██████▊   | 115736576/170498071 [00:04<00:02, 23347876.97it/s]"
     ]
    },
    {
     "name": "stderr",
     "output_type": "stream",
     "text": [
      "\r",
      " 69%|██████▉   | 118128640/170498071 [00:04<00:02, 23396995.46it/s]"
     ]
    },
    {
     "name": "stderr",
     "output_type": "stream",
     "text": [
      "\r",
      " 71%|███████   | 120520704/170498071 [00:04<00:02, 23496526.77it/s]"
     ]
    },
    {
     "name": "stderr",
     "output_type": "stream",
     "text": [
      "\r",
      " 72%|███████▏  | 122912768/170498071 [00:04<00:02, 23600171.53it/s]"
     ]
    },
    {
     "name": "stderr",
     "output_type": "stream",
     "text": [
      "\r",
      " 74%|███████▎  | 125337600/170498071 [00:04<00:01, 23751426.71it/s]"
     ]
    },
    {
     "name": "stderr",
     "output_type": "stream",
     "text": [
      "\r",
      " 75%|███████▍  | 127762432/170498071 [00:05<00:01, 23861201.76it/s]"
     ]
    },
    {
     "name": "stderr",
     "output_type": "stream",
     "text": [
      "\r",
      " 76%|███████▋  | 130154496/170498071 [00:05<00:01, 23876105.24it/s]"
     ]
    },
    {
     "name": "stderr",
     "output_type": "stream",
     "text": [
      "\r",
      " 78%|███████▊  | 132579328/170498071 [00:05<00:01, 23927007.92it/s]"
     ]
    },
    {
     "name": "stderr",
     "output_type": "stream",
     "text": [
      "\r",
      " 79%|███████▉  | 135036928/170498071 [00:05<00:01, 24039082.93it/s]"
     ]
    },
    {
     "name": "stderr",
     "output_type": "stream",
     "text": [
      "\r",
      " 81%|████████  | 137494528/170498071 [00:05<00:01, 24031449.53it/s]"
     ]
    },
    {
     "name": "stderr",
     "output_type": "stream",
     "text": [
      "\r",
      " 82%|████████▏ | 139952128/170498071 [00:05<00:01, 24162471.18it/s]"
     ]
    },
    {
     "name": "stderr",
     "output_type": "stream",
     "text": [
      "\r",
      " 84%|████████▎ | 142409728/170498071 [00:05<00:01, 24230337.58it/s]"
     ]
    },
    {
     "name": "stderr",
     "output_type": "stream",
     "text": [
      "\r",
      " 85%|████████▍ | 144834560/170498071 [00:05<00:01, 23885637.36it/s]"
     ]
    },
    {
     "name": "stderr",
     "output_type": "stream",
     "text": [
      "\r",
      " 86%|████████▋ | 147226624/170498071 [00:05<00:01, 21368452.81it/s]"
     ]
    },
    {
     "name": "stderr",
     "output_type": "stream",
     "text": [
      "\r",
      " 88%|████████▊ | 149422080/170498071 [00:06<00:01, 20117021.66it/s]"
     ]
    },
    {
     "name": "stderr",
     "output_type": "stream",
     "text": [
      "\r",
      " 89%|████████▉ | 151486464/170498071 [00:06<00:00, 19468194.98it/s]"
     ]
    },
    {
     "name": "stderr",
     "output_type": "stream",
     "text": [
      "\r",
      " 90%|█████████ | 153485312/170498071 [00:06<00:00, 18896650.28it/s]"
     ]
    },
    {
     "name": "stderr",
     "output_type": "stream",
     "text": [
      "\r",
      " 91%|█████████ | 155418624/170498071 [00:06<00:00, 16564758.27it/s]"
     ]
    },
    {
     "name": "stderr",
     "output_type": "stream",
     "text": [
      "\r",
      " 92%|█████████▏| 157155328/170498071 [00:06<00:00, 15360706.57it/s]"
     ]
    },
    {
     "name": "stderr",
     "output_type": "stream",
     "text": [
      "\r",
      " 93%|█████████▎| 158760960/170498071 [00:06<00:00, 13533487.76it/s]"
     ]
    },
    {
     "name": "stderr",
     "output_type": "stream",
     "text": [
      "\r",
      " 94%|█████████▍| 160169984/170498071 [00:06<00:00, 12209207.85it/s]"
     ]
    },
    {
     "name": "stderr",
     "output_type": "stream",
     "text": [
      "\r",
      " 95%|█████████▍| 161447936/170498071 [00:06<00:00, 11469222.61it/s]"
     ]
    },
    {
     "name": "stderr",
     "output_type": "stream",
     "text": [
      "\r",
      " 95%|█████████▌| 162627584/170498071 [00:07<00:00, 10968670.74it/s]"
     ]
    },
    {
     "name": "stderr",
     "output_type": "stream",
     "text": [
      "\r",
      " 96%|█████████▌| 163741696/170498071 [00:07<00:00, 10618030.76it/s]"
     ]
    },
    {
     "name": "stderr",
     "output_type": "stream",
     "text": [
      "\r",
      " 97%|█████████▋| 164823040/170498071 [00:07<00:00, 10503914.00it/s]"
     ]
    },
    {
     "name": "stderr",
     "output_type": "stream",
     "text": [
      "\r",
      " 97%|█████████▋| 165904384/170498071 [00:07<00:00, 10242162.87it/s]"
     ]
    },
    {
     "name": "stderr",
     "output_type": "stream",
     "text": [
      "\r",
      " 98%|█████████▊| 166952960/170498071 [00:07<00:00, 10200171.12it/s]"
     ]
    },
    {
     "name": "stderr",
     "output_type": "stream",
     "text": [
      "\r",
      " 99%|█████████▊| 168001536/170498071 [00:07<00:00, 10240145.93it/s]"
     ]
    },
    {
     "name": "stderr",
     "output_type": "stream",
     "text": [
      "\r",
      " 99%|█████████▉| 169050112/170498071 [00:07<00:00, 10159953.30it/s]"
     ]
    },
    {
     "name": "stderr",
     "output_type": "stream",
     "text": [
      "\r",
      "100%|█████████▉| 170098688/170498071 [00:07<00:00, 10239880.57it/s]"
     ]
    },
    {
     "name": "stderr",
     "output_type": "stream",
     "text": [
      "\r",
      "100%|██████████| 170498071/170498071 [00:07<00:00, 21591952.59it/s]"
     ]
    },
    {
     "name": "stderr",
     "output_type": "stream",
     "text": [
      "\n"
     ]
    },
    {
     "name": "stdout",
     "output_type": "stream",
     "text": [
      "Extracting ./cifar-10-python.tar.gz to .\n"
     ]
    },
    {
     "name": "stdout",
     "output_type": "stream",
     "text": [
      "Files already downloaded and verified\n"
     ]
    }
   ],
   "source": [
    "def cifar10_normalization():\n",
    "    normalize = transforms.Normalize(\n",
    "        mean=[x / 255.0 for x in [125.3, 123.0, 113.9]], std=[x / 255.0 for x in [63.0, 62.1, 66.7]]\n",
    "    )\n",
    "    return normalize\n",
    "\n",
    "\n",
    "train_transform = BarlowTwinsTransform(\n",
    "    train=True, input_height=32, gaussian_blur=False, jitter_strength=0.5, normalize=cifar10_normalization()\n",
    ")\n",
    "train_dataset = CIFAR10(root=\".\", train=True, download=True, transform=train_transform)\n",
    "\n",
    "val_transform = BarlowTwinsTransform(\n",
    "    train=False, input_height=32, gaussian_blur=False, jitter_strength=0.5, normalize=cifar10_normalization()\n",
    ")\n",
    "val_dataset = CIFAR10(root=\".\", train=False, download=True, transform=train_transform)\n",
    "\n",
    "train_loader = DataLoader(train_dataset, batch_size=batch_size, shuffle=True, num_workers=num_workers, drop_last=True)\n",
    "val_loader = DataLoader(val_dataset, batch_size=batch_size, shuffle=False, num_workers=num_workers, drop_last=True)"
   ]
  },
  {
   "cell_type": "markdown",
   "id": "824e8e09",
   "metadata": {
    "papermill": {
     "duration": 0.007427,
     "end_time": "2024-09-01T12:41:23.264056",
     "exception": false,
     "start_time": "2024-09-01T12:41:23.256629",
     "status": "completed"
    },
    "tags": []
   },
   "source": [
    "### Plot images\n",
    "\n",
    "To see how the CIFAR10 images look after the data augmentation pipeline, we load a few images from the dataloader and plot them here."
   ]
  },
  {
   "cell_type": "code",
   "execution_count": 5,
   "id": "808d2fc4",
   "metadata": {
    "execution": {
     "iopub.execute_input": "2024-09-01T12:41:23.281282Z",
     "iopub.status.busy": "2024-09-01T12:41:23.280979Z",
     "iopub.status.idle": "2024-09-01T12:41:23.502444Z",
     "shell.execute_reply": "2024-09-01T12:41:23.501375Z"
    },
    "lines_to_next_cell": 2,
    "papermill": {
     "duration": 0.233129,
     "end_time": "2024-09-01T12:41:23.504555",
     "exception": false,
     "start_time": "2024-09-01T12:41:23.271426",
     "status": "completed"
    },
    "tags": []
   },
   "outputs": [
    {
     "data": {
      "image/png": "[encoded data removed]",
      "text/plain": [
       "<Figure size 640x480 with 1 Axes>"
      ]
     },
     "metadata": {},
     "output_type": "display_data"
    }
   ],
   "source": [
    "for batch in val_loader:\n",
    "    (img1, img2, _), label = batch\n",
    "    break\n",
    "\n",
    "img_grid = make_grid(img1, normalize=True)\n",
    "\n",
    "\n",
    "def show(imgs):\n",
    "    if not isinstance(imgs, list):\n",
    "        imgs = [imgs]\n",
    "    fix, axs = plt.subplots(ncols=len(imgs), squeeze=False)\n",
    "    for i, img in enumerate(imgs):\n",
    "        img = img.detach()\n",
    "        img = VisionF.to_pil_image(img)\n",
    "        axs[0, i].imshow(np.asarray(img))\n",
    "        axs[0, i].set(xticklabels=[], yticklabels=[], xticks=[], yticks=[])\n",
    "\n",
    "\n",
    "show(img_grid)"
   ]
  },
  {
   "cell_type": "markdown",
   "id": "8484e4e2",
   "metadata": {
    "lines_to_next_cell": 2,
    "papermill": {
     "duration": 0.014553,
     "end_time": "2024-09-01T12:41:23.534321",
     "exception": false,
     "start_time": "2024-09-01T12:41:23.519768",
     "status": "completed"
    },
    "tags": []
   },
   "source": [
    "### Barlow Twins Loss\n",
    "\n",
    "Here we define the loss function for Barlow Twins. It first normalizes the D dimensinonal vectors from the projection head and then computes the DxD cross-correlation matrix between the normalized vectors of the 2 views of each image.\n",
    "\n",
    "Then it splits this cross-correlation matrix into two parts. The first part, the diagonal of this matrix is brought closer to 1, which pushes up the cosine similarity between the latent vectors of two views of each image, thus making the backbone invariant to the transformations applied to the views. The second part of the loss pushes the non-diagonal elements of the cross-corrlelation matrix closes to 0. This reduces the redundancy between the different dimensions of the latent vector."
   ]
  },
  {
   "cell_type": "code",
   "execution_count": 6,
   "id": "b4a8e821",
   "metadata": {
    "execution": {
     "iopub.execute_input": "2024-09-01T12:41:23.564332Z",
     "iopub.status.busy": "2024-09-01T12:41:23.564116Z",
     "iopub.status.idle": "2024-09-01T12:41:23.571839Z",
     "shell.execute_reply": "2024-09-01T12:41:23.570765Z"
    },
    "papermill": {
     "duration": 0.024612,
     "end_time": "2024-09-01T12:41:23.573332",
     "exception": false,
     "start_time": "2024-09-01T12:41:23.548720",
     "status": "completed"
    },
    "tags": []
   },
   "outputs": [],
   "source": [
    "class BarlowTwinsLoss(nn.Module):\n",
    "    def __init__(self, batch_size, lambda_coeff=5e-3, z_dim=128):\n",
    "        super().__init__()\n",
    "\n",
    "        self.z_dim = z_dim\n",
    "        self.batch_size = batch_size\n",
    "        self.lambda_coeff = lambda_coeff\n",
    "\n",
    "    def off_diagonal_ele(self, x):\n",
    "        # taken from: https://github.com/facebookresearch/barlowtwins/blob/main/main.py\n",
    "        # return a flattened view of the off-diagonal elements of a square matrix\n",
    "        n, m = x.shape\n",
    "        assert n == m\n",
    "        return x.flatten()[:-1].view(n - 1, n + 1)[:, 1:].flatten()\n",
    "\n",
    "    def forward(self, z1, z2):\n",
    "        # N x D, where N is the batch size and D is output dim of projection head\n",
    "        z1_norm = (z1 - torch.mean(z1, dim=0)) / torch.std(z1, dim=0)\n",
    "        z2_norm = (z2 - torch.mean(z2, dim=0)) / torch.std(z2, dim=0)\n",
    "\n",
    "        cross_corr = torch.matmul(z1_norm.T, z2_norm) / self.batch_size\n",
    "\n",
    "        on_diag = torch.diagonal(cross_corr).add_(-1).pow_(2).sum()\n",
    "        off_diag = self.off_diagonal_ele(cross_corr).pow_(2).sum()\n",
    "\n",
    "        return on_diag + self.lambda_coeff * off_diag"
   ]
  },
  {
   "cell_type": "markdown",
   "id": "34a0d7d8",
   "metadata": {
    "papermill": {
     "duration": 0.010824,
     "end_time": "2024-09-01T12:41:23.597677",
     "exception": false,
     "start_time": "2024-09-01T12:41:23.586853",
     "status": "completed"
    },
    "tags": []
   },
   "source": [
    "### Backbone\n",
    "\n",
    "This is a standard Resnet backbone that we pre-train using the Barlow Twins method. To accommodate the 32x32 CIFAR10 images, we replace the first 7x7 convolution of the Resnet backbone by a 3x3 filter. We also remove the first Maxpool layer from the network for CIFAR10 images."
   ]
  },
  {
   "cell_type": "code",
   "execution_count": 7,
   "id": "d610078c",
   "metadata": {
    "execution": {
     "iopub.execute_input": "2024-09-01T12:41:23.620749Z",
     "iopub.status.busy": "2024-09-01T12:41:23.620029Z",
     "iopub.status.idle": "2024-09-01T12:41:23.777117Z",
     "shell.execute_reply": "2024-09-01T12:41:23.775792Z"
    },
    "lines_to_next_cell": 2,
    "papermill": {
     "duration": 0.170544,
     "end_time": "2024-09-01T12:41:23.778902",
     "exception": false,
     "start_time": "2024-09-01T12:41:23.608358",
     "status": "completed"
    },
    "tags": []
   },
   "outputs": [],
   "source": [
    "encoder = resnet18()\n",
    "\n",
    "# for CIFAR10, replace the first 7x7 conv with smaller 3x3 conv and remove the first maxpool\n",
    "encoder.conv1 = nn.Conv2d(3, 64, kernel_size=3, stride=1, padding=1, bias=False)\n",
    "encoder.maxpool = nn.MaxPool2d(kernel_size=1, stride=1)\n",
    "\n",
    "# replace classification fc layer of Resnet to obtain representations from the backbone\n",
    "encoder.fc = nn.Identity()"
   ]
  },
  {
   "cell_type": "markdown",
   "id": "e7b987fa",
   "metadata": {
    "lines_to_next_cell": 2,
    "papermill": {
     "duration": 0.010475,
     "end_time": "2024-09-01T12:41:23.800172",
     "exception": false,
     "start_time": "2024-09-01T12:41:23.789697",
     "status": "completed"
    },
    "tags": []
   },
   "source": [
    "### Projection head\n",
    "\n",
    "Unlike SimCLR and BYOL, the downstream performance of Barlow Twins greatly benefits from having a larger projection head after the backbone network. The paper utilizes a 3 layer MLP with 8192 hidden dimensions and 8192 as the output dimension of the projection head. For the purposes of the tutorial, we use a smaller projection head. But, it is imperative to mention here that in practice, Barlow Twins needs to be trained using a bigger projection head as it is highly sensitive to its architecture and output dimensionality."
   ]
  },
  {
   "cell_type": "code",
   "execution_count": 8,
   "id": "1e933ca9",
   "metadata": {
    "execution": {
     "iopub.execute_input": "2024-09-01T12:41:23.822432Z",
     "iopub.status.busy": "2024-09-01T12:41:23.822215Z",
     "iopub.status.idle": "2024-09-01T12:41:23.827895Z",
     "shell.execute_reply": "2024-09-01T12:41:23.826901Z"
    },
    "lines_to_next_cell": 2,
    "papermill": {
     "duration": 0.018569,
     "end_time": "2024-09-01T12:41:23.829274",
     "exception": false,
     "start_time": "2024-09-01T12:41:23.810705",
     "status": "completed"
    },
    "tags": []
   },
   "outputs": [],
   "source": [
    "class ProjectionHead(nn.Module):\n",
    "    def __init__(self, input_dim=2048, hidden_dim=2048, output_dim=128):\n",
    "        super().__init__()\n",
    "\n",
    "        self.projection_head = nn.Sequential(\n",
    "            nn.Linear(input_dim, hidden_dim, bias=True),\n",
    "            nn.BatchNorm1d(hidden_dim),\n",
    "            nn.ReLU(),\n",
    "            nn.Linear(hidden_dim, output_dim, bias=False),\n",
    "        )\n",
    "\n",
    "    def forward(self, x):\n",
    "        return self.projection_head(x)"
   ]
  },
  {
   "cell_type": "markdown",
   "id": "173e588f",
   "metadata": {
    "lines_to_next_cell": 2,
    "papermill": {
     "duration": 0.010524,
     "end_time": "2024-09-01T12:41:23.850426",
     "exception": false,
     "start_time": "2024-09-01T12:41:23.839902",
     "status": "completed"
    },
    "tags": []
   },
   "source": [
    "### Learning rate warmup\n",
    "\n",
    "For the purposes of this tutorial, we keep things simple and use a linear warmup schedule with Adam optimizer. In our previous experiments we have found that linear warmup part is much more important for the final performance of a model than the cosine decay component of the schedule."
   ]
  },
  {
   "cell_type": "code",
   "execution_count": 9,
   "id": "2d6e976c",
   "metadata": {
    "execution": {
     "iopub.execute_input": "2024-09-01T12:41:23.872773Z",
     "iopub.status.busy": "2024-09-01T12:41:23.872374Z",
     "iopub.status.idle": "2024-09-01T12:41:23.877671Z",
     "shell.execute_reply": "2024-09-01T12:41:23.876635Z"
    },
    "lines_to_next_cell": 2,
    "papermill": {
     "duration": 0.018106,
     "end_time": "2024-09-01T12:41:23.879122",
     "exception": false,
     "start_time": "2024-09-01T12:41:23.861016",
     "status": "completed"
    },
    "tags": []
   },
   "outputs": [],
   "source": [
    "def fn(warmup_steps, step):\n",
    "    if step < warmup_steps:\n",
    "        return float(step) / float(max(1, warmup_steps))\n",
    "    else:\n",
    "        return 1.0\n",
    "\n",
    "\n",
    "def linear_warmup_decay(warmup_steps):\n",
    "    return partial(fn, warmup_steps)"
   ]
  },
  {
   "cell_type": "markdown",
   "id": "b7141b83",
   "metadata": {
    "lines_to_next_cell": 2,
    "papermill": {
     "duration": 0.010508,
     "end_time": "2024-09-01T12:41:23.900314",
     "exception": false,
     "start_time": "2024-09-01T12:41:23.889806",
     "status": "completed"
    },
    "tags": []
   },
   "source": [
    "### Barlow Twins Lightning Module\n",
    "\n",
    "We keep the LightningModule for Barlow Twins neat and simple. It takes in an backbone encoder and initializes the projection head and the loss function. We configure the optimizer and the learning rate scheduler in the ``configure_optimizers`` method."
   ]
  },
  {
   "cell_type": "code",
   "execution_count": 10,
   "id": "34cd9370",
   "metadata": {
    "execution": {
     "iopub.execute_input": "2024-09-01T12:41:23.923072Z",
     "iopub.status.busy": "2024-09-01T12:41:23.922683Z",
     "iopub.status.idle": "2024-09-01T12:41:23.940391Z",
     "shell.execute_reply": "2024-09-01T12:41:23.939171Z"
    },
    "lines_to_next_cell": 2,
    "papermill": {
     "duration": 0.031012,
     "end_time": "2024-09-01T12:41:23.941922",
     "exception": false,
     "start_time": "2024-09-01T12:41:23.910910",
     "status": "completed"
    },
    "tags": []
   },
   "outputs": [],
   "source": [
    "class BarlowTwins(pl.LightningModule):\n",
    "    def __init__(\n",
    "        self,\n",
    "        encoder,\n",
    "        encoder_out_dim,\n",
    "        num_training_samples,\n",
    "        batch_size,\n",
    "        lambda_coeff=5e-3,\n",
    "        z_dim=128,\n",
    "        learning_rate=1e-4,\n",
    "        warmup_epochs=10,\n",
    "        max_epochs=200,\n",
    "    ):\n",
    "        super().__init__()\n",
    "\n",
    "        self.encoder = encoder\n",
    "        self.projection_head = ProjectionHead(input_dim=encoder_out_dim, hidden_dim=encoder_out_dim, output_dim=z_dim)\n",
    "        self.loss_fn = BarlowTwinsLoss(batch_size=batch_size, lambda_coeff=lambda_coeff, z_dim=z_dim)\n",
    "\n",
    "        self.learning_rate = learning_rate\n",
    "        self.warmup_epochs = warmup_epochs\n",
    "        self.max_epochs = max_epochs\n",
    "\n",
    "        self.train_iters_per_epoch = num_training_samples // batch_size\n",
    "\n",
    "    def forward(self, x):\n",
    "        return self.encoder(x)\n",
    "\n",
    "    def shared_step(self, batch):\n",
    "        (x1, x2, _), _ = batch\n",
    "\n",
    "        z1 = self.projection_head(self.encoder(x1))\n",
    "        z2 = self.projection_head(self.encoder(x2))\n",
    "\n",
    "        return self.loss_fn(z1, z2)\n",
    "\n",
    "    def training_step(self, batch, batch_idx):\n",
    "        loss = self.shared_step(batch)\n",
    "        self.log(\"train_loss\", loss, on_step=True, on_epoch=False)\n",
    "        return loss\n",
    "\n",
    "    def validation_step(self, batch, batch_idx):\n",
    "        loss = self.shared_step(batch)\n",
    "        self.log(\"val_loss\", loss, on_step=False, on_epoch=True)\n",
    "\n",
    "    def configure_optimizers(self):\n",
    "        optimizer = torch.optim.Adam(self.parameters(), lr=self.learning_rate)\n",
    "\n",
    "        warmup_steps = self.train_iters_per_epoch * self.warmup_epochs\n",
    "\n",
    "        scheduler = {\n",
    "            \"scheduler\": torch.optim.lr_scheduler.LambdaLR(\n",
    "                optimizer,\n",
    "                linear_warmup_decay(warmup_steps),\n",
    "            ),\n",
    "            \"interval\": \"step\",\n",
    "            \"frequency\": 1,\n",
    "        }\n",
    "\n",
    "        return [optimizer], [scheduler]"
   ]
  },
  {
   "cell_type": "markdown",
   "id": "f94c99d9",
   "metadata": {
    "lines_to_next_cell": 2,
    "papermill": {
     "duration": 0.010549,
     "end_time": "2024-09-01T12:41:23.963100",
     "exception": false,
     "start_time": "2024-09-01T12:41:23.952551",
     "status": "completed"
    },
    "tags": []
   },
   "source": [
    "### Evaluation\n",
    "\n",
    "We define a callback which appends a linear layer on top of the encoder and trains the classification evaluation head in an online manner. We make sure not to backpropagate the gradients back to the encoder while tuning the linear layer. This technique was used in SimCLR as well and they showed that the final downstream classification performance is pretty much similar to the results on online finetuning as the training progresses."
   ]
  },
  {
   "cell_type": "code",
   "execution_count": 11,
   "id": "b179997d",
   "metadata": {
    "execution": {
     "iopub.execute_input": "2024-09-01T12:41:23.986681Z",
     "iopub.status.busy": "2024-09-01T12:41:23.986271Z",
     "iopub.status.idle": "2024-09-01T12:41:24.005962Z",
     "shell.execute_reply": "2024-09-01T12:41:24.004743Z"
    },
    "papermill": {
     "duration": 0.033836,
     "end_time": "2024-09-01T12:41:24.007558",
     "exception": false,
     "start_time": "2024-09-01T12:41:23.973722",
     "status": "completed"
    },
    "tags": []
   },
   "outputs": [],
   "source": [
    "class OnlineFineTuner(Callback):\n",
    "    def __init__(\n",
    "        self,\n",
    "        encoder_output_dim: int,\n",
    "        num_classes: int,\n",
    "    ) -> None:\n",
    "        super().__init__()\n",
    "\n",
    "        self.optimizer: torch.optim.Optimizer\n",
    "\n",
    "        self.encoder_output_dim = encoder_output_dim\n",
    "        self.num_classes = num_classes\n",
    "\n",
    "    def on_fit_start(self, trainer: pl.Trainer, pl_module: pl.LightningModule) -> None:\n",
    "        # add linear_eval layer and optimizer\n",
    "        pl_module.online_finetuner = nn.Linear(self.encoder_output_dim, self.num_classes).to(pl_module.device)\n",
    "        self.optimizer = torch.optim.Adam(pl_module.online_finetuner.parameters(), lr=1e-4)\n",
    "\n",
    "    def extract_online_finetuning_view(\n",
    "        self, batch: Sequence, device: Union[str, torch.device]\n",
    "    ) -> Tuple[Tensor, Tensor]:\n",
    "        (_, _, finetune_view), y = batch\n",
    "        finetune_view = finetune_view.to(device)\n",
    "        y = y.to(device)\n",
    "\n",
    "        return finetune_view, y\n",
    "\n",
    "    def on_train_batch_end(\n",
    "        self,\n",
    "        trainer: pl.Trainer,\n",
    "        pl_module: pl.LightningModule,\n",
    "        outputs: Sequence,\n",
    "        batch: Sequence,\n",
    "        batch_idx: int,\n",
    "    ) -> None:\n",
    "        x, y = self.extract_online_finetuning_view(batch, pl_module.device)\n",
    "\n",
    "        with torch.no_grad():\n",
    "            feats = pl_module(x)\n",
    "\n",
    "        feats = feats.detach()\n",
    "        preds = pl_module.online_finetuner(feats)\n",
    "        loss = F.cross_entropy(preds, y)\n",
    "\n",
    "        loss.backward()\n",
    "        self.optimizer.step()\n",
    "        self.optimizer.zero_grad()\n",
    "\n",
    "        acc = accuracy(F.softmax(preds, dim=1), y, task=\"multiclass\", num_classes=10)\n",
    "        pl_module.log(\"online_train_acc\", acc, on_step=True, on_epoch=False)\n",
    "        pl_module.log(\"online_train_loss\", loss, on_step=True, on_epoch=False)\n",
    "\n",
    "    def on_validation_batch_end(\n",
    "        self,\n",
    "        trainer: pl.Trainer,\n",
    "        pl_module: pl.LightningModule,\n",
    "        outputs: Sequence,\n",
    "        batch: Sequence,\n",
    "        batch_idx: int,\n",
    "    ) -> None:\n",
    "        x, y = self.extract_online_finetuning_view(batch, pl_module.device)\n",
    "\n",
    "        with torch.no_grad():\n",
    "            feats = pl_module(x)\n",
    "\n",
    "        feats = feats.detach()\n",
    "        preds = pl_module.online_finetuner(feats)\n",
    "        loss = F.cross_entropy(preds, y)\n",
    "\n",
    "        acc = accuracy(F.softmax(preds, dim=1), y, task=\"multiclass\", num_classes=10)\n",
    "        pl_module.log(\"online_val_acc\", acc, on_step=False, on_epoch=True, sync_dist=True)\n",
    "        pl_module.log(\"online_val_loss\", loss, on_step=False, on_epoch=True, sync_dist=True)"
   ]
  },
  {
   "cell_type": "markdown",
   "id": "0b82d564",
   "metadata": {
    "papermill": {
     "duration": 0.010564,
     "end_time": "2024-09-01T12:41:24.028907",
     "exception": false,
     "start_time": "2024-09-01T12:41:24.018343",
     "status": "completed"
    },
    "tags": []
   },
   "source": [
    "Finally, we define the trainer for training the model. We pass in the ``train_loader`` and ``val_loader`` we had initialized earlier to the ``fit`` function."
   ]
  },
  {
   "cell_type": "code",
   "execution_count": 12,
   "id": "7da295e1",
   "metadata": {
    "execution": {
     "iopub.execute_input": "2024-09-01T12:41:24.051872Z",
     "iopub.status.busy": "2024-09-01T12:41:24.051482Z",
     "iopub.status.idle": "2024-09-01T12:41:24.202483Z",
     "shell.execute_reply": "2024-09-01T12:41:24.201034Z"
    },
    "papermill": {
     "duration": 0.164782,
     "end_time": "2024-09-01T12:41:24.204415",
     "exception": false,
     "start_time": "2024-09-01T12:41:24.039633",
     "status": "completed"
    },
    "tags": []
   },
   "outputs": [
    {
     "name": "stderr",
     "output_type": "stream",
     "text": [
      "GPU available: True (cuda), used: True\n"
     ]
    },
    {
     "name": "stderr",
     "output_type": "stream",
     "text": [
      "TPU available: False, using: 0 TPU cores\n"
     ]
    },
    {
     "name": "stderr",
     "output_type": "stream",
     "text": [
      "HPU available: False, using: 0 HPUs\n"
     ]
    },
    {
     "name": "stderr",
     "output_type": "stream",
     "text": [
      "/usr/local/lib/python3.10/dist-packages/pytorch_lightning/trainer/connectors/logger_connector/logger_connector.py:75: Starting from v1.9.0, `tensorboardX` has been removed as a dependency of the `pytorch_lightning` package, due to potential conflicts with other packages in the ML ecosystem. For this reason, `logger=True` will use `CSVLogger` as the default logger, unless the `tensorboard` or `tensorboardX` packages are found. Please `pip install lightning[extra]` or one of them to enable TensorBoard support by default\n"
     ]
    }
   ],
   "source": [
    "encoder_out_dim = 512\n",
    "\n",
    "model = BarlowTwins(\n",
    "    encoder=encoder,\n",
    "    encoder_out_dim=encoder_out_dim,\n",
    "    num_training_samples=len(train_dataset),\n",
    "    batch_size=batch_size,\n",
    "    z_dim=z_dim,\n",
    ")\n",
    "\n",
    "online_finetuner = OnlineFineTuner(encoder_output_dim=encoder_out_dim, num_classes=10)\n",
    "checkpoint_callback = ModelCheckpoint(every_n_epochs=100, save_top_k=-1, save_last=True)\n",
    "\n",
    "trainer = pl.Trainer(\n",
    "    max_epochs=max_epochs,\n",
    "    accelerator=\"auto\",\n",
    "    devices=1,\n",
    "    callbacks=[online_finetuner, checkpoint_callback],\n",
    ")\n",
    "\n",
    "# uncomment this to train the model\n",
    "# this is done for the tutorial so that the notebook compiles\n",
    "# trainer.fit(model, train_loader, val_loader)"
   ]
  },
  {
   "cell_type": "markdown",
   "id": "f385e268",
   "metadata": {
    "papermill": {
     "duration": 0.014807,
     "end_time": "2024-09-01T12:41:24.234310",
     "exception": false,
     "start_time": "2024-09-01T12:41:24.219503",
     "status": "completed"
    },
    "tags": []
   },
   "source": [
    "### Using the trained encoder for downstream tasks\n",
    "\n",
    "Once the encoder is pretrained on CIFAR10, we can use it to get image embeddings and use them further downstream on tasks like classification, detection, segmentation etc.\n",
    "\n",
    "In this tutorial, we did not completely train our encoder for 100s of epochs using the Barlow Twins pretraining method. So, we will load the pretrained encoder weights from a checkpoint and show the image embeddings obtained from that.\n",
    "\n",
    "To create this checkpoint, the encoder was pretrained for 200 epochs, and obtained a online finetune accuracy of x% on CIFAR-10."
   ]
  },
  {
   "cell_type": "code",
   "execution_count": 13,
   "id": "e1c7a9a5",
   "metadata": {
    "execution": {
     "iopub.execute_input": "2024-09-01T12:41:24.263620Z",
     "iopub.status.busy": "2024-09-01T12:41:24.263205Z",
     "iopub.status.idle": "2024-09-01T12:41:24.657730Z",
     "shell.execute_reply": "2024-09-01T12:41:24.656256Z"
    },
    "papermill": {
     "duration": 0.410426,
     "end_time": "2024-09-01T12:41:24.659865",
     "exception": false,
     "start_time": "2024-09-01T12:41:24.249439",
     "status": "completed"
    },
    "tags": []
   },
   "outputs": [
    {
     "name": "stdout",
     "output_type": "stream",
     "text": [
      "torch.Size([4, 512])\n"
     ]
    }
   ],
   "source": [
    "# ckpt_model = torch.load('')  # upload checkpoint to aws\n",
    "# encoder = ckpt_model.encoder\n",
    "encoder = model.encoder\n",
    "\n",
    "downstream_dataset = CIFAR10(root=\".\", train=False, transform=transforms.ToTensor())\n",
    "dataloader = DataLoader(downstream_dataset, batch_size=4, shuffle=False)\n",
    "\n",
    "for batch in dataloader:\n",
    "    img, label = batch\n",
    "    print(encoder(img).shape)\n",
    "    break"
   ]
  },
  {
   "cell_type": "markdown",
   "id": "42bc38a5",
   "metadata": {
    "papermill": {
     "duration": 0.015351,
     "end_time": "2024-09-01T12:41:24.690769",
     "exception": false,
     "start_time": "2024-09-01T12:41:24.675418",
     "status": "completed"
    },
    "tags": []
   },
   "source": [
    "## Congratulations - Time to Join the Community!\n",
    "\n",
    "Congratulations on completing this notebook tutorial! If you enjoyed this and would like to join the Lightning\n",
    "movement, you can do so in the following ways!\n",
    "\n",
    "### Star [Lightning](https://github.com/Lightning-AI/lightning) on GitHub\n",
    "The easiest way to help our community is just by starring the GitHub repos! This helps raise awareness of the cool\n",
    "tools we're building.\n",
    "\n",
    "### Join our [Discord](https://discord.com/invite/tfXFetEZxv)!\n",
    "The best way to keep up to date on the latest advancements is to join our community! Make sure to introduce yourself\n",
    "and share your interests in `#general` channel\n",
    "\n",
    "\n",
    "### Contributions !\n",
    "The best way to contribute to our community is to become a code contributor! At any time you can go to\n",
    "[Lightning](https://github.com/Lightning-AI/lightning) or [Bolt](https://github.com/Lightning-AI/lightning-bolts)\n",
    "GitHub Issues page and filter for \"good first issue\".\n",
    "\n",
    "* [Lightning good first issue](https://github.com/Lightning-AI/lightning/issues?q=is%3Aopen+is%3Aissue+label%3A%22good+first+issue%22)\n",
    "* [Bolt good first issue](https://github.com/Lightning-AI/lightning-bolts/issues?q=is%3Aopen+is%3Aissue+label%3A%22good+first+issue%22)\n",
    "* You can also contribute your own notebooks with useful examples !\n",
    "\n",
    "### Great thanks from the entire Pytorch Lightning Team for your interest !\n",
    "\n",
    "[![Pytorch Lightning](data:image/png;base64,NDA0OiBOb3QgRm91bmQ=){height=\"60px\" width=\"240px\"}](https://pytorchlightning.ai)"
   ]
  },
  {
   "cell_type": "raw",
   "id": "fb6eebf5",
   "metadata": {
    "raw_mimetype": "text/restructuredtext"
   },
   "source": [
    ".. customcarditem::\n",
    "   :header: Barlow Twins Tutorial\n",
    "   :card_description: This notebook describes the self-supervised learning method Barlow Twins. Barlow Twins differs from other recently proposed algorithms as it doesn't fall under the category of...\n",
    "   :tags: Image,Self-Supervised,GPU/TPU,Lightning-Examples"
   ]
  }
 ],
 "metadata": {
  "jupytext": {
   "cell_metadata_filter": "colab_type,colab,id,-all",
   "formats": "ipynb,py:percent",
   "main_language": "python"
  },
  "language_info": {
   "codemirror_mode": {
    "name": "ipython",
    "version": 3
   },
   "file_extension": ".py",
   "mimetype": "text/x-python",
   "name": "python",
   "nbconvert_exporter": "python",
   "pygments_lexer": "ipython3",
   "version": "3.10.12"
  },
  "papermill": {
   "default_parameters": {},
   "duration": 19.276833,
   "end_time": "2024-09-01T12:41:25.827186",
   "environment_variables": {},
   "exception": null,
   "input_path": "lightning_examples/barlow-twins/barlow_twins.ipynb",
   "output_path": ".notebooks/lightning_examples/barlow-twins.ipynb",
   "parameters": {},
   "start_time": "2024-09-01T12:41:06.550353",
   "version": "2.6.0"
  }
 },
 "nbformat": 4,
 "nbformat_minor": 5
}
