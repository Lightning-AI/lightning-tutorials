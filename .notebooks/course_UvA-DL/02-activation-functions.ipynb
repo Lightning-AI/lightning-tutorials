version https://git-lfs.github.com/spec/v1
oid sha256:2d1693e115db88d6bf57d33d7ab8c95fcea7e60eb456d84dc415ae13e4706a5f
size 3248652
