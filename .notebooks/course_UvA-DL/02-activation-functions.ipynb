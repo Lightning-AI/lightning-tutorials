version https://git-lfs.github.com/spec/v1
oid sha256:676fb2a87d5e30b17c5d164238c939fe20e9f23c36db48af3ec91a2af5a01582
size 3242780
