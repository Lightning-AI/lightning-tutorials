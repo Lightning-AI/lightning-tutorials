version https://git-lfs.github.com/spec/v1
oid sha256:917ae5ca18fdf7f72eaefcd158744458681280e5726a92cb6f44000f07012e96
size 3239601
