version https://git-lfs.github.com/spec/v1
oid sha256:d77267bd941d123cb94ff68094313e15bf33f855888fa61a8d7aedd7f2534c04
size 1669120
