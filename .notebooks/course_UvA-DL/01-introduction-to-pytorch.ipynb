version https://git-lfs.github.com/spec/v1
oid sha256:cf95a8d0ca7d1338a69e7926c6b41e80745d4ef12e5259f900aeb821e0c2fb7d
size 385503
