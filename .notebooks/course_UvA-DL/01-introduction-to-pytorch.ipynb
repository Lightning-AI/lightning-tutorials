{
 "cells": [
  {
   "cell_type": "markdown",
   "id": "a266d0b2",
   "metadata": {
    "papermill": {
     "duration": 0.053405,
     "end_time": "2023-03-24T15:32:46.635233",
     "exception": false,
     "start_time": "2023-03-24T15:32:46.581828",
     "status": "completed"
    },
    "tags": []
   },
   "source": [
    "\n",
    "# Tutorial 1: Introduction to PyTorch\n",
    "\n",
    "* **Author:** Phillip Lippe\n",
    "* **License:** CC BY-SA\n",
    "* **Generated:** 2023-03-24T15:32:38.452027\n",
    "\n",
    "This tutorial will give a short introduction to PyTorch basics, and get you setup for writing your own neural networks.\n",
    "This notebook is part of a lecture series on Deep Learning at the University of Amsterdam.\n",
    "The full list of tutorials can be found at https://uvadlc-notebooks.rtfd.io.\n",
    "\n",
    "\n",
    "---\n",
    "Open in [![Open In Colab](data:image/png;base64,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){height=\"20px\" width=\"117px\"}](https://colab.research.google.com/github/PytorchLightning/lightning-tutorials/blob/publication/.notebooks/course_UvA-DL/01-introduction-to-pytorch.ipynb)\n",
    "\n",
    "Give us a ⭐ [on Github](https://www.github.com/Lightning-AI/lightning/)\n",
    "| Check out [the documentation](https://pytorch-lightning.readthedocs.io/en/stable/)\n",
    "| Join us [on Slack](https://www.pytorchlightning.ai/community)"
   ]
  },
  {
   "cell_type": "markdown",
   "id": "42c519bb",
   "metadata": {
    "papermill": {
     "duration": 0.012354,
     "end_time": "2023-03-24T15:32:46.660516",
     "exception": false,
     "start_time": "2023-03-24T15:32:46.648162",
     "status": "completed"
    },
    "tags": []
   },
   "source": [
    "## Setup\n",
    "This notebook requires some packages besides pytorch-lightning."
   ]
  },
  {
   "cell_type": "code",
   "execution_count": 1,
   "id": "9cb51f52",
   "metadata": {
    "colab": {},
    "colab_type": "code",
    "execution": {
     "iopub.execute_input": "2023-03-24T15:32:46.687345Z",
     "iopub.status.busy": "2023-03-24T15:32:46.686960Z",
     "iopub.status.idle": "2023-03-24T15:32:49.976975Z",
     "shell.execute_reply": "2023-03-24T15:32:49.975569Z"
    },
    "id": "LfrJLKPFyhsK",
    "lines_to_next_cell": 0,
    "papermill": {
     "duration": 3.306556,
     "end_time": "2023-03-24T15:32:49.979843",
     "exception": false,
     "start_time": "2023-03-24T15:32:46.673287",
     "status": "completed"
    },
    "tags": []
   },
   "outputs": [
    {
     "name": "stdout",
     "output_type": "stream",
     "text": [
      "\u001b[33mWARNING: Running pip as the 'root' user can result in broken permissions and conflicting behaviour with the system package manager. It is recommended to use a virtual environment instead: https://pip.pypa.io/warnings/venv\u001b[0m\u001b[33m\r\n",
      "\u001b[0m"
     ]
    }
   ],
   "source": [
    "! pip install --quiet \"matplotlib>=3.0.0, <3.4.0\" \"torch>=1.8.1, <1.14.0\" \"ipython[notebook]>=8.0.0, <8.12.0\" \"lightning>=2.0.0rc0\" \"setuptools==67.4.0\" \"pytorch-lightning>=1.4, <2.0.0\" \"torchmetrics>=0.7, <0.12\" \"matplotlib\""
   ]
  },
  {
   "cell_type": "markdown",
   "id": "62537e78",
   "metadata": {
    "papermill": {
     "duration": 0.012519,
     "end_time": "2023-03-24T15:32:50.009779",
     "exception": false,
     "start_time": "2023-03-24T15:32:49.997260",
     "status": "completed"
    },
    "tags": []
   },
   "source": [
    "<div class=\"center-wrapper\"><div class=\"video-wrapper\"><iframe src=\"https://www.youtube.com/embed/wnKZZgFQY-E\" title=\"YouTube video player\" frameborder=\"0\" allow=\"accelerometer; autoplay; clipboard-write; encrypted-media; gyroscope; picture-in-picture\" allowfullscreen></iframe></div></div>\n",
    "Welcome to our PyTorch tutorial for the Deep Learning course 2020 at the University of Amsterdam!\n",
    "The following notebook is meant to give a short introduction to PyTorch basics, and get you setup for writing your own neural networks.\n",
    "PyTorch is an open source machine learning framework that allows you to write your own neural networks and optimize them efficiently.\n",
    "However, PyTorch is not the only framework of its kind.\n",
    "Alternatives to PyTorch include [TensorFlow](https://www.tensorflow.org/), [JAX](https://github.com/google/jax) and [Caffe](http://caffe.berkeleyvision.org/).\n",
    "We choose to teach PyTorch at the University of Amsterdam because it is well established, has a huge developer community (originally developed by Facebook), is very flexible and especially used in research.\n",
    "Many current papers publish their code in PyTorch, and thus it is good to be familiar with PyTorch as well.\n",
    "Meanwhile, TensorFlow (developed by Google) is usually known for being a production-grade deep learning library.\n",
    "Still, if you know one machine learning framework in depth, it is very easy to learn another one because many of them use the same concepts and ideas.\n",
    "For instance, TensorFlow's version 2 was heavily inspired by the most popular features of PyTorch, making the frameworks even more similar.\n",
    "If you are already familiar with PyTorch and have created your own neural network projects, feel free to just skim this notebook.\n",
    "\n",
    "We are of course not the first ones to create a PyTorch tutorial.\n",
    "There are many great tutorials online, including the [\"60-min blitz\"](https://pytorch.org/tutorials/beginner/deep_learning_60min_blitz.html) on the official [PyTorch website](https://pytorch.org/tutorials/).\n",
    "Yet, we choose to create our own tutorial which is designed to give you the basics particularly necessary for the practicals, but still understand how PyTorch works under the hood.\n",
    "Over the next few weeks, we will also keep exploring new PyTorch features in the series of Jupyter notebook tutorials about deep learning.\n",
    "\n",
    "We will use a set of standard libraries that are often used in machine learning projects.\n",
    "If you are running this notebook on Google Colab, all libraries should be pre-installed.\n",
    "If you are running this notebook locally, make sure you have installed our `dl2020` environment ([link](https://github.com/uvadlc/uvadlc_practicals_2020/blob/master/environment.yml)) and have activated it."
   ]
  },
  {
   "cell_type": "code",
   "execution_count": 2,
   "id": "b8f5f596",
   "metadata": {
    "execution": {
     "iopub.execute_input": "2023-03-24T15:32:50.036727Z",
     "iopub.status.busy": "2023-03-24T15:32:50.036115Z",
     "iopub.status.idle": "2023-03-24T15:32:51.169004Z",
     "shell.execute_reply": "2023-03-24T15:32:51.167710Z"
    },
    "papermill": {
     "duration": 1.149431,
     "end_time": "2023-03-24T15:32:51.171624",
     "exception": false,
     "start_time": "2023-03-24T15:32:50.022193",
     "status": "completed"
    },
    "tags": []
   },
   "outputs": [],
   "source": [
    "import time\n",
    "\n",
    "import matplotlib.pyplot as plt\n",
    "\n",
    "%matplotlib inline\n",
    "import matplotlib_inline.backend_inline\n",
    "import numpy as np\n",
    "import torch\n",
    "import torch.nn as nn\n",
    "import torch.utils.data as data\n",
    "from matplotlib.colors import to_rgba\n",
    "from torch import Tensor\n",
    "from tqdm.notebook import tqdm  # Progress bar\n",
    "\n",
    "matplotlib_inline.backend_inline.set_matplotlib_formats(\"svg\", \"pdf\")  # For export"
   ]
  },
  {
   "cell_type": "markdown",
   "id": "a65075b6",
   "metadata": {
    "papermill": {
     "duration": 0.012784,
     "end_time": "2023-03-24T15:32:51.201765",
     "exception": false,
     "start_time": "2023-03-24T15:32:51.188981",
     "status": "completed"
    },
    "tags": []
   },
   "source": [
    "## The Basics of PyTorch\n",
    "\n",
    "We will start with reviewing the very basic concepts of PyTorch.\n",
    "As a prerequisite, we recommend to be familiar with the `numpy` package as most machine learning frameworks are based on very similar concepts.\n",
    "If you are not familiar with numpy yet, don't worry: here is a [tutorial](https://numpy.org/devdocs/user/quickstart.html) to go through.\n",
    "\n",
    "So, let's start with importing PyTorch.\n",
    "The package is called `torch`, based on its original framework [Torch](http://torch.ch/).\n",
    "As a first step, we can check its version:"
   ]
  },
  {
   "cell_type": "code",
   "execution_count": 3,
   "id": "2ffe09ce",
   "metadata": {
    "execution": {
     "iopub.execute_input": "2023-03-24T15:32:51.229462Z",
     "iopub.status.busy": "2023-03-24T15:32:51.228944Z",
     "iopub.status.idle": "2023-03-24T15:32:51.235704Z",
     "shell.execute_reply": "2023-03-24T15:32:51.234469Z"
    },
    "papermill": {
     "duration": 0.022984,
     "end_time": "2023-03-24T15:32:51.237581",
     "exception": false,
     "start_time": "2023-03-24T15:32:51.214597",
     "status": "completed"
    },
    "tags": []
   },
   "outputs": [
    {
     "name": "stdout",
     "output_type": "stream",
     "text": [
      "Using torch 1.12.1+cu116\n"
     ]
    }
   ],
   "source": [
    "print(\"Using torch\", torch.__version__)"
   ]
  },
  {
   "cell_type": "markdown",
   "id": "26f2d482",
   "metadata": {
    "papermill": {
     "duration": 0.0129,
     "end_time": "2023-03-24T15:32:51.267317",
     "exception": false,
     "start_time": "2023-03-24T15:32:51.254417",
     "status": "completed"
    },
    "tags": []
   },
   "source": [
    "At the time of writing this tutorial (mid of August 2021), the current stable version is 1.9.\n",
    "You should therefore see the output `Using torch 1.9.0`, eventually with some extension for the CUDA version on Colab.\n",
    "In case you use the `dl2020` environment, you should see `Using torch 1.6.0` since the environment was provided in October 2020.\n",
    "It is recommended to update the PyTorch version to the newest one.\n",
    "If you see a lower version number than 1.6, make sure you have installed the correct the environment, or ask one of your TAs.\n",
    "In case PyTorch 1.10 or newer will be published during the time of the course, don't worry.\n",
    "The interface between PyTorch versions doesn't change too much, and hence all code should also be runnable with newer versions.\n",
    "\n",
    "As in every machine learning framework, PyTorch provides functions that are stochastic like generating random numbers.\n",
    "However, a very good practice is to setup your code to be reproducible with the exact same random numbers.\n",
    "This is why we set a seed below."
   ]
  },
  {
   "cell_type": "code",
   "execution_count": 4,
   "id": "c6956fc9",
   "metadata": {
    "execution": {
     "iopub.execute_input": "2023-03-24T15:32:51.294432Z",
     "iopub.status.busy": "2023-03-24T15:32:51.294072Z",
     "iopub.status.idle": "2023-03-24T15:32:51.303132Z",
     "shell.execute_reply": "2023-03-24T15:32:51.302195Z"
    },
    "papermill": {
     "duration": 0.024598,
     "end_time": "2023-03-24T15:32:51.304813",
     "exception": false,
     "start_time": "2023-03-24T15:32:51.280215",
     "status": "completed"
    },
    "tags": []
   },
   "outputs": [
    {
     "data": {
      "text/plain": [
       "<torch._C.Generator at 0x7f13b46cdd90>"
      ]
     },
     "execution_count": 4,
     "metadata": {},
     "output_type": "execute_result"
    }
   ],
   "source": [
    "torch.manual_seed(42)  # Setting the seed"
   ]
  },
  {
   "cell_type": "markdown",
   "id": "ca3b8359",
   "metadata": {
    "papermill": {
     "duration": 0.014785,
     "end_time": "2023-03-24T15:32:51.336602",
     "exception": false,
     "start_time": "2023-03-24T15:32:51.321817",
     "status": "completed"
    },
    "tags": []
   },
   "source": [
    "### Tensors\n",
    "\n",
    "Tensors are the PyTorch equivalent to Numpy arrays, with the addition to also have support for GPU acceleration (more on that later).\n",
    "The name \"tensor\" is a generalization of concepts you already know.\n",
    "For instance, a vector is a 1-D tensor, and a matrix a 2-D tensor.\n",
    "When working with neural networks, we will use tensors of various shapes and number of dimensions.\n",
    "\n",
    "Most common functions you know from numpy can be used on tensors as well.\n",
    "Actually, since numpy arrays are so similar to tensors, we can convert most tensors to numpy arrays (and back) but we don't need it too often.\n",
    "\n",
    "#### Initialization\n",
    "\n",
    "Let's first start by looking at different ways of creating a tensor.\n",
    "There are many possible options, the most simple one is to call\n",
    "`Tensor` passing the desired shape as input argument:"
   ]
  },
  {
   "cell_type": "code",
   "execution_count": 5,
   "id": "355673d7",
   "metadata": {
    "execution": {
     "iopub.execute_input": "2023-03-24T15:32:51.364467Z",
     "iopub.status.busy": "2023-03-24T15:32:51.364113Z",
     "iopub.status.idle": "2023-03-24T15:32:51.375363Z",
     "shell.execute_reply": "2023-03-24T15:32:51.374223Z"
    },
    "papermill": {
     "duration": 0.02799,
     "end_time": "2023-03-24T15:32:51.377778",
     "exception": false,
     "start_time": "2023-03-24T15:32:51.349788",
     "status": "completed"
    },
    "tags": []
   },
   "outputs": [
    {
     "name": "stdout",
     "output_type": "stream",
     "text": [
      "tensor([[[ 1.4013e-45,  0.0000e+00,  1.4013e-45,  0.0000e+00],\n",
      "         [-2.8165e-13,  4.5586e-41,  1.4013e-45,  1.1866e+27],\n",
      "         [-2.7226e-13,  4.5586e-41, -2.7226e-13,  4.5586e-41]],\n",
      "\n",
      "        [[ 0.0000e+00,  0.0000e+00,  7.0625e-43,  0.0000e+00],\n",
      "         [ 2.8026e-45,  0.0000e+00, -2.7226e-13,  4.5586e-41],\n",
      "         [ 2.4570e-38,  0.0000e+00,  8.4078e-45,  0.0000e+00]]])\n"
     ]
    }
   ],
   "source": [
    "x = Tensor(2, 3, 4)\n",
    "print(x)"
   ]
  },
  {
   "cell_type": "markdown",
   "id": "9f46476b",
   "metadata": {
    "papermill": {
     "duration": 0.012836,
     "end_time": "2023-03-24T15:32:51.406837",
     "exception": false,
     "start_time": "2023-03-24T15:32:51.394001",
     "status": "completed"
    },
    "tags": []
   },
   "source": [
    "The function `torch.Tensor` allocates memory for the desired tensor, but reuses any values that have already been in the memory.\n",
    "To directly assign values to the tensor during initialization, there are many alternatives including:\n",
    "\n",
    "* `torch.zeros`: Creates a tensor filled with zeros\n",
    "* `torch.ones`: Creates a tensor filled with ones\n",
    "* `torch.rand`: Creates a tensor with random values uniformly sampled between 0 and 1\n",
    "* `torch.randn`: Creates a tensor with random values sampled from a normal distribution with mean 0 and variance 1\n",
    "* `torch.arange`: Creates a tensor containing the values $N,N+1,N+2,...,M$\n",
    "* `torch.Tensor` (input list): Creates a tensor from the list elements you provide"
   ]
  },
  {
   "cell_type": "code",
   "execution_count": 6,
   "id": "35f28f54",
   "metadata": {
    "execution": {
     "iopub.execute_input": "2023-03-24T15:32:51.434830Z",
     "iopub.status.busy": "2023-03-24T15:32:51.433857Z",
     "iopub.status.idle": "2023-03-24T15:32:51.441223Z",
     "shell.execute_reply": "2023-03-24T15:32:51.440090Z"
    },
    "papermill": {
     "duration": 0.023597,
     "end_time": "2023-03-24T15:32:51.443321",
     "exception": false,
     "start_time": "2023-03-24T15:32:51.419724",
     "status": "completed"
    },
    "tags": []
   },
   "outputs": [
    {
     "name": "stdout",
     "output_type": "stream",
     "text": [
      "tensor([[1., 2.],\n",
      "        [3., 4.]])\n"
     ]
    }
   ],
   "source": [
    "# Create a tensor from a (nested) list\n",
    "x = Tensor([[1, 2], [3, 4]])\n",
    "print(x)"
   ]
  },
  {
   "cell_type": "code",
   "execution_count": 7,
   "id": "08d5b4f4",
   "metadata": {
    "execution": {
     "iopub.execute_input": "2023-03-24T15:32:51.473934Z",
     "iopub.status.busy": "2023-03-24T15:32:51.473699Z",
     "iopub.status.idle": "2023-03-24T15:32:51.479691Z",
     "shell.execute_reply": "2023-03-24T15:32:51.478617Z"
    },
    "papermill": {
     "duration": 0.021571,
     "end_time": "2023-03-24T15:32:51.481418",
     "exception": false,
     "start_time": "2023-03-24T15:32:51.459847",
     "status": "completed"
    },
    "tags": []
   },
   "outputs": [
    {
     "name": "stdout",
     "output_type": "stream",
     "text": [
      "tensor([[[0.8823, 0.9150, 0.3829, 0.9593],\n",
      "         [0.3904, 0.6009, 0.2566, 0.7936],\n",
      "         [0.9408, 0.1332, 0.9346, 0.5936]],\n",
      "\n",
      "        [[0.8694, 0.5677, 0.7411, 0.4294],\n",
      "         [0.8854, 0.5739, 0.2666, 0.6274],\n",
      "         [0.2696, 0.4414, 0.2969, 0.8317]]])\n"
     ]
    }
   ],
   "source": [
    "# Create a tensor with random values between 0 and 1 with the shape [2, 3, 4]\n",
    "x = torch.rand(2, 3, 4)\n",
    "print(x)"
   ]
  },
  {
   "cell_type": "markdown",
   "id": "c4ca6324",
   "metadata": {
    "papermill": {
     "duration": 0.013017,
     "end_time": "2023-03-24T15:32:51.510339",
     "exception": false,
     "start_time": "2023-03-24T15:32:51.497322",
     "status": "completed"
    },
    "tags": []
   },
   "source": [
    "You can obtain the shape of a tensor in the same way as in numpy (`x.shape`), or using the `.size` method:"
   ]
  },
  {
   "cell_type": "code",
   "execution_count": 8,
   "id": "31211440",
   "metadata": {
    "execution": {
     "iopub.execute_input": "2023-03-24T15:32:51.537634Z",
     "iopub.status.busy": "2023-03-24T15:32:51.537259Z",
     "iopub.status.idle": "2023-03-24T15:32:51.543610Z",
     "shell.execute_reply": "2023-03-24T15:32:51.542644Z"
    },
    "papermill": {
     "duration": 0.022039,
     "end_time": "2023-03-24T15:32:51.545405",
     "exception": false,
     "start_time": "2023-03-24T15:32:51.523366",
     "status": "completed"
    },
    "tags": []
   },
   "outputs": [
    {
     "name": "stdout",
     "output_type": "stream",
     "text": [
      "Shape: torch.Size([2, 3, 4])\n",
      "Size: torch.Size([2, 3, 4])\n",
      "Size: 2 3 4\n"
     ]
    }
   ],
   "source": [
    "shape = x.shape\n",
    "print(\"Shape:\", x.shape)\n",
    "\n",
    "size = x.size()\n",
    "print(\"Size:\", size)\n",
    "\n",
    "dim1, dim2, dim3 = x.size()\n",
    "print(\"Size:\", dim1, dim2, dim3)"
   ]
  },
  {
   "cell_type": "markdown",
   "id": "175dc88a",
   "metadata": {
    "papermill": {
     "duration": 0.013004,
     "end_time": "2023-03-24T15:32:51.575516",
     "exception": false,
     "start_time": "2023-03-24T15:32:51.562512",
     "status": "completed"
    },
    "tags": []
   },
   "source": [
    "#### Tensor to Numpy, and Numpy to Tensor\n",
    "\n",
    "Tensors can be converted to numpy arrays, and numpy arrays back to tensors.\n",
    "To transform a numpy array into a tensor, we can use the function `torch.from_numpy`:"
   ]
  },
  {
   "cell_type": "code",
   "execution_count": 9,
   "id": "5c64c849",
   "metadata": {
    "execution": {
     "iopub.execute_input": "2023-03-24T15:32:51.603024Z",
     "iopub.status.busy": "2023-03-24T15:32:51.602658Z",
     "iopub.status.idle": "2023-03-24T15:32:51.608971Z",
     "shell.execute_reply": "2023-03-24T15:32:51.608001Z"
    },
    "papermill": {
     "duration": 0.022063,
     "end_time": "2023-03-24T15:32:51.610723",
     "exception": false,
     "start_time": "2023-03-24T15:32:51.588660",
     "status": "completed"
    },
    "tags": []
   },
   "outputs": [
    {
     "name": "stdout",
     "output_type": "stream",
     "text": [
      "Numpy array: [[1 2]\n",
      " [3 4]]\n",
      "PyTorch tensor: tensor([[1, 2],\n",
      "        [3, 4]])\n"
     ]
    }
   ],
   "source": [
    "np_arr = np.array([[1, 2], [3, 4]])\n",
    "tensor = torch.from_numpy(np_arr)\n",
    "\n",
    "print(\"Numpy array:\", np_arr)\n",
    "print(\"PyTorch tensor:\", tensor)"
   ]
  },
  {
   "cell_type": "markdown",
   "id": "a6e71eab",
   "metadata": {
    "papermill": {
     "duration": 0.013129,
     "end_time": "2023-03-24T15:32:51.639580",
     "exception": false,
     "start_time": "2023-03-24T15:32:51.626451",
     "status": "completed"
    },
    "tags": []
   },
   "source": [
    "To transform a PyTorch tensor back to a numpy array, we can use the function `.numpy()` on tensors:"
   ]
  },
  {
   "cell_type": "code",
   "execution_count": 10,
   "id": "15fff4b7",
   "metadata": {
    "execution": {
     "iopub.execute_input": "2023-03-24T15:32:51.667256Z",
     "iopub.status.busy": "2023-03-24T15:32:51.667001Z",
     "iopub.status.idle": "2023-03-24T15:32:51.673136Z",
     "shell.execute_reply": "2023-03-24T15:32:51.672183Z"
    },
    "papermill": {
     "duration": 0.02203,
     "end_time": "2023-03-24T15:32:51.674842",
     "exception": false,
     "start_time": "2023-03-24T15:32:51.652812",
     "status": "completed"
    },
    "tags": []
   },
   "outputs": [
    {
     "name": "stdout",
     "output_type": "stream",
     "text": [
      "PyTorch tensor: tensor([0, 1, 2, 3])\n",
      "Numpy array: [0 1 2 3]\n"
     ]
    }
   ],
   "source": [
    "tensor = torch.arange(4)\n",
    "np_arr = tensor.numpy()\n",
    "\n",
    "print(\"PyTorch tensor:\", tensor)\n",
    "print(\"Numpy array:\", np_arr)"
   ]
  },
  {
   "cell_type": "markdown",
   "id": "f3f82201",
   "metadata": {
    "papermill": {
     "duration": 0.01583,
     "end_time": "2023-03-24T15:32:51.711664",
     "exception": false,
     "start_time": "2023-03-24T15:32:51.695834",
     "status": "completed"
    },
    "tags": []
   },
   "source": [
    "The conversion of tensors to numpy require the tensor to be on the CPU, and not the GPU (more on GPU support in a later section).\n",
    "In case you have a tensor on GPU, you need to call `.cpu()` on the tensor beforehand.\n",
    "Hence, you get a line like `np_arr = tensor.cpu().numpy()`."
   ]
  },
  {
   "cell_type": "markdown",
   "id": "bd0765a4",
   "metadata": {
    "papermill": {
     "duration": 0.013404,
     "end_time": "2023-03-24T15:32:51.738619",
     "exception": false,
     "start_time": "2023-03-24T15:32:51.725215",
     "status": "completed"
    },
    "tags": []
   },
   "source": [
    "#### Operations\n",
    "\n",
    "Most operations that exist in numpy, also exist in PyTorch.\n",
    "A full list of operations can be found in the [PyTorch documentation](https://pytorch.org/docs/stable/tensors.html#), but we will review the most important ones here.\n",
    "\n",
    "The simplest operation is to add two tensors:"
   ]
  },
  {
   "cell_type": "code",
   "execution_count": 11,
   "id": "30328c79",
   "metadata": {
    "execution": {
     "iopub.execute_input": "2023-03-24T15:32:51.767614Z",
     "iopub.status.busy": "2023-03-24T15:32:51.766542Z",
     "iopub.status.idle": "2023-03-24T15:32:51.775575Z",
     "shell.execute_reply": "2023-03-24T15:32:51.774433Z"
    },
    "papermill": {
     "duration": 0.026022,
     "end_time": "2023-03-24T15:32:51.778014",
     "exception": false,
     "start_time": "2023-03-24T15:32:51.751992",
     "status": "completed"
    },
    "tags": []
   },
   "outputs": [
    {
     "name": "stdout",
     "output_type": "stream",
     "text": [
      "X1 tensor([[0.1053, 0.2695, 0.3588],\n",
      "        [0.1994, 0.5472, 0.0062]])\n",
      "X2 tensor([[0.9516, 0.0753, 0.8860],\n",
      "        [0.5832, 0.3376, 0.8090]])\n",
      "Y tensor([[1.0569, 0.3448, 1.2448],\n",
      "        [0.7826, 0.8848, 0.8151]])\n"
     ]
    }
   ],
   "source": [
    "x1 = torch.rand(2, 3)\n",
    "x2 = torch.rand(2, 3)\n",
    "y = x1 + x2\n",
    "\n",
    "print(\"X1\", x1)\n",
    "print(\"X2\", x2)\n",
    "print(\"Y\", y)"
   ]
  },
  {
   "cell_type": "markdown",
   "id": "35911f59",
   "metadata": {
    "papermill": {
     "duration": 0.013493,
     "end_time": "2023-03-24T15:32:51.810565",
     "exception": false,
     "start_time": "2023-03-24T15:32:51.797072",
     "status": "completed"
    },
    "tags": []
   },
   "source": [
    "Calling `x1 + x2` creates a new tensor containing the sum of the two inputs.\n",
    "However, we can also use in-place operations that are applied directly on the memory of a tensor.\n",
    "We therefore change the values of `x2` without the chance to re-accessing the values of `x2` before the operation.\n",
    "An example is shown below:"
   ]
  },
  {
   "cell_type": "code",
   "execution_count": 12,
   "id": "2ecdde4a",
   "metadata": {
    "execution": {
     "iopub.execute_input": "2023-03-24T15:32:51.838428Z",
     "iopub.status.busy": "2023-03-24T15:32:51.838114Z",
     "iopub.status.idle": "2023-03-24T15:32:51.845743Z",
     "shell.execute_reply": "2023-03-24T15:32:51.844765Z"
    },
    "papermill": {
     "duration": 0.023968,
     "end_time": "2023-03-24T15:32:51.847785",
     "exception": false,
     "start_time": "2023-03-24T15:32:51.823817",
     "status": "completed"
    },
    "tags": []
   },
   "outputs": [
    {
     "name": "stdout",
     "output_type": "stream",
     "text": [
      "X1 (before) tensor([[0.5779, 0.9040, 0.5547],\n",
      "        [0.3423, 0.6343, 0.3644]])\n",
      "X2 (before) tensor([[0.7104, 0.9464, 0.7890],\n",
      "        [0.2814, 0.7886, 0.5895]])\n",
      "X1 (after) tensor([[0.5779, 0.9040, 0.5547],\n",
      "        [0.3423, 0.6343, 0.3644]])\n",
      "X2 (after) tensor([[1.2884, 1.8504, 1.3437],\n",
      "        [0.6237, 1.4230, 0.9539]])\n"
     ]
    }
   ],
   "source": [
    "x1 = torch.rand(2, 3)\n",
    "x2 = torch.rand(2, 3)\n",
    "print(\"X1 (before)\", x1)\n",
    "print(\"X2 (before)\", x2)\n",
    "\n",
    "x2.add_(x1)\n",
    "print(\"X1 (after)\", x1)\n",
    "print(\"X2 (after)\", x2)"
   ]
  },
  {
   "cell_type": "markdown",
   "id": "e162c6df",
   "metadata": {
    "papermill": {
     "duration": 0.013236,
     "end_time": "2023-03-24T15:32:51.878810",
     "exception": false,
     "start_time": "2023-03-24T15:32:51.865574",
     "status": "completed"
    },
    "tags": []
   },
   "source": [
    "In-place operations are usually marked with a underscore postfix (for example `torch.add_` instead of `torch.add`).\n",
    "\n",
    "Another common operation aims at changing the shape of a tensor.\n",
    "A tensor of size (2,3) can be re-organized to any other shape with the same number of elements (e.g. a tensor of size (6), or (3,2), ...).\n",
    "In PyTorch, this operation is called `view`:"
   ]
  },
  {
   "cell_type": "code",
   "execution_count": 13,
   "id": "1ea97106",
   "metadata": {
    "execution": {
     "iopub.execute_input": "2023-03-24T15:32:51.906839Z",
     "iopub.status.busy": "2023-03-24T15:32:51.906543Z",
     "iopub.status.idle": "2023-03-24T15:32:51.912623Z",
     "shell.execute_reply": "2023-03-24T15:32:51.911422Z"
    },
    "papermill": {
     "duration": 0.022015,
     "end_time": "2023-03-24T15:32:51.914204",
     "exception": false,
     "start_time": "2023-03-24T15:32:51.892189",
     "status": "completed"
    },
    "tags": []
   },
   "outputs": [
    {
     "name": "stdout",
     "output_type": "stream",
     "text": [
      "X tensor([0, 1, 2, 3, 4, 5])\n"
     ]
    }
   ],
   "source": [
    "x = torch.arange(6)\n",
    "print(\"X\", x)"
   ]
  },
  {
   "cell_type": "code",
   "execution_count": 14,
   "id": "9da38b19",
   "metadata": {
    "execution": {
     "iopub.execute_input": "2023-03-24T15:32:51.946401Z",
     "iopub.status.busy": "2023-03-24T15:32:51.945681Z",
     "iopub.status.idle": "2023-03-24T15:32:51.951416Z",
     "shell.execute_reply": "2023-03-24T15:32:51.950439Z"
    },
    "papermill": {
     "duration": 0.021795,
     "end_time": "2023-03-24T15:32:51.952881",
     "exception": false,
     "start_time": "2023-03-24T15:32:51.931086",
     "status": "completed"
    },
    "tags": []
   },
   "outputs": [
    {
     "name": "stdout",
     "output_type": "stream",
     "text": [
      "X tensor([[0, 1, 2],\n",
      "        [3, 4, 5]])\n"
     ]
    }
   ],
   "source": [
    "x = x.view(2, 3)\n",
    "print(\"X\", x)"
   ]
  },
  {
   "cell_type": "code",
   "execution_count": 15,
   "id": "6e4d320b",
   "metadata": {
    "execution": {
     "iopub.execute_input": "2023-03-24T15:32:51.983530Z",
     "iopub.status.busy": "2023-03-24T15:32:51.983175Z",
     "iopub.status.idle": "2023-03-24T15:32:51.989907Z",
     "shell.execute_reply": "2023-03-24T15:32:51.988799Z"
    },
    "papermill": {
     "duration": 0.023648,
     "end_time": "2023-03-24T15:32:51.992244",
     "exception": false,
     "start_time": "2023-03-24T15:32:51.968596",
     "status": "completed"
    },
    "tags": []
   },
   "outputs": [
    {
     "name": "stdout",
     "output_type": "stream",
     "text": [
      "X tensor([[0, 3],\n",
      "        [1, 4],\n",
      "        [2, 5]])\n"
     ]
    }
   ],
   "source": [
    "x = x.permute(1, 0)  # Swapping dimension 0 and 1\n",
    "print(\"X\", x)"
   ]
  },
  {
   "cell_type": "markdown",
   "id": "e1da29f4",
   "metadata": {
    "papermill": {
     "duration": 0.013409,
     "end_time": "2023-03-24T15:32:52.023260",
     "exception": false,
     "start_time": "2023-03-24T15:32:52.009851",
     "status": "completed"
    },
    "tags": []
   },
   "source": [
    "Other commonly used operations include matrix multiplications, which are essential for neural networks.\n",
    "Quite often, we have an input vector $\\mathbf{x}$, which is transformed using a learned weight matrix $\\mathbf{W}$.\n",
    "There are multiple ways and functions to perform matrix multiplication, some of which we list below:\n",
    "\n",
    "* `torch.matmul`: Performs the matrix product over two tensors, where the specific behavior depends on the dimensions.\n",
    "If both inputs are matrices (2-dimensional tensors), it performs the standard matrix product.\n",
    "For higher dimensional inputs, the function supports broadcasting (for details see the [documentation](https://pytorch.org/docs/stable/generated/torch.matmul.html?highlight=matmul#torch.matmul)).\n",
    "Can also be written as `a @ b`, similar to numpy.\n",
    "* `torch.mm`: Performs the matrix product over two matrices, but doesn't support broadcasting (see [documentation](https://pytorch.org/docs/stable/generated/torch.mm.html?highlight=torch%20mm#torch.mm))\n",
    "* `torch.bmm`: Performs the matrix product with a support batch dimension.\n",
    "If the first tensor $T$ is of shape ($b\\times n\\times m$), and the second tensor $R$ ($b\\times m\\times p$), the output $O$ is of shape ($b\\times n\\times p$), and has been calculated by performing $b$ matrix multiplications of the submatrices of $T$ and $R$: $O_i = T_i @ R_i$\n",
    "* `torch.einsum`: Performs matrix multiplications and more (i.e. sums of products) using the Einstein summation convention.\n",
    "Explanation of the Einstein sum can be found in assignment 1.\n",
    "\n",
    "Usually, we use `torch.matmul` or `torch.bmm`. We can try a matrix multiplication with `torch.matmul` below."
   ]
  },
  {
   "cell_type": "code",
   "execution_count": 16,
   "id": "80c86318",
   "metadata": {
    "execution": {
     "iopub.execute_input": "2023-03-24T15:32:52.052715Z",
     "iopub.status.busy": "2023-03-24T15:32:52.051677Z",
     "iopub.status.idle": "2023-03-24T15:32:52.058478Z",
     "shell.execute_reply": "2023-03-24T15:32:52.057356Z"
    },
    "papermill": {
     "duration": 0.023542,
     "end_time": "2023-03-24T15:32:52.060463",
     "exception": false,
     "start_time": "2023-03-24T15:32:52.036921",
     "status": "completed"
    },
    "tags": []
   },
   "outputs": [
    {
     "name": "stdout",
     "output_type": "stream",
     "text": [
      "X tensor([[0, 1, 2],\n",
      "        [3, 4, 5]])\n"
     ]
    }
   ],
   "source": [
    "x = torch.arange(6)\n",
    "x = x.view(2, 3)\n",
    "print(\"X\", x)"
   ]
  },
  {
   "cell_type": "code",
   "execution_count": 17,
   "id": "4b3cac7b",
   "metadata": {
    "execution": {
     "iopub.execute_input": "2023-03-24T15:32:52.092688Z",
     "iopub.status.busy": "2023-03-24T15:32:52.092326Z",
     "iopub.status.idle": "2023-03-24T15:32:52.097753Z",
     "shell.execute_reply": "2023-03-24T15:32:52.096812Z"
    },
    "papermill": {
     "duration": 0.021429,
     "end_time": "2023-03-24T15:32:52.099434",
     "exception": false,
     "start_time": "2023-03-24T15:32:52.078005",
     "status": "completed"
    },
    "tags": []
   },
   "outputs": [
    {
     "name": "stdout",
     "output_type": "stream",
     "text": [
      "W tensor([[0, 1, 2],\n",
      "        [3, 4, 5],\n",
      "        [6, 7, 8]])\n"
     ]
    }
   ],
   "source": [
    "W = torch.arange(9).view(3, 3)  # We can also stack multiple operations in a single line\n",
    "print(\"W\", W)"
   ]
  },
  {
   "cell_type": "code",
   "execution_count": 18,
   "id": "c1cbb21e",
   "metadata": {
    "execution": {
     "iopub.execute_input": "2023-03-24T15:32:52.132354Z",
     "iopub.status.busy": "2023-03-24T15:32:52.131997Z",
     "iopub.status.idle": "2023-03-24T15:32:52.138252Z",
     "shell.execute_reply": "2023-03-24T15:32:52.137152Z"
    },
    "papermill": {
     "duration": 0.022543,
     "end_time": "2023-03-24T15:32:52.140064",
     "exception": false,
     "start_time": "2023-03-24T15:32:52.117521",
     "status": "completed"
    },
    "tags": []
   },
   "outputs": [
    {
     "name": "stdout",
     "output_type": "stream",
     "text": [
      "h tensor([[15, 18, 21],\n",
      "        [42, 54, 66]])\n"
     ]
    }
   ],
   "source": [
    "h = torch.matmul(x, W)  # Verify the result by calculating it by hand too!\n",
    "print(\"h\", h)"
   ]
  },
  {
   "cell_type": "markdown",
   "id": "20919839",
   "metadata": {
    "papermill": {
     "duration": 0.013678,
     "end_time": "2023-03-24T15:32:52.171833",
     "exception": false,
     "start_time": "2023-03-24T15:32:52.158155",
     "status": "completed"
    },
    "tags": []
   },
   "source": [
    "#### Indexing\n",
    "\n",
    "We often have the situation where we need to select a part of a tensor.\n",
    "Indexing works just like in numpy, so let's try it:"
   ]
  },
  {
   "cell_type": "code",
   "execution_count": 19,
   "id": "553147c3",
   "metadata": {
    "execution": {
     "iopub.execute_input": "2023-03-24T15:32:52.201244Z",
     "iopub.status.busy": "2023-03-24T15:32:52.200441Z",
     "iopub.status.idle": "2023-03-24T15:32:52.207272Z",
     "shell.execute_reply": "2023-03-24T15:32:52.206141Z"
    },
    "papermill": {
     "duration": 0.02414,
     "end_time": "2023-03-24T15:32:52.209791",
     "exception": false,
     "start_time": "2023-03-24T15:32:52.185651",
     "status": "completed"
    },
    "tags": []
   },
   "outputs": [
    {
     "name": "stdout",
     "output_type": "stream",
     "text": [
      "X tensor([[ 0,  1,  2,  3],\n",
      "        [ 4,  5,  6,  7],\n",
      "        [ 8,  9, 10, 11]])\n"
     ]
    }
   ],
   "source": [
    "x = torch.arange(12).view(3, 4)\n",
    "print(\"X\", x)"
   ]
  },
  {
   "cell_type": "code",
   "execution_count": 20,
   "id": "1b16339f",
   "metadata": {
    "execution": {
     "iopub.execute_input": "2023-03-24T15:32:52.244520Z",
     "iopub.status.busy": "2023-03-24T15:32:52.243720Z",
     "iopub.status.idle": "2023-03-24T15:32:52.248930Z",
     "shell.execute_reply": "2023-03-24T15:32:52.247983Z"
    },
    "papermill": {
     "duration": 0.021691,
     "end_time": "2023-03-24T15:32:52.250853",
     "exception": false,
     "start_time": "2023-03-24T15:32:52.229162",
     "status": "completed"
    },
    "tags": []
   },
   "outputs": [
    {
     "name": "stdout",
     "output_type": "stream",
     "text": [
      "tensor([1, 5, 9])\n"
     ]
    }
   ],
   "source": [
    "print(x[:, 1])  # Second column"
   ]
  },
  {
   "cell_type": "code",
   "execution_count": 21,
   "id": "e92baf05",
   "metadata": {
    "execution": {
     "iopub.execute_input": "2023-03-24T15:32:52.283026Z",
     "iopub.status.busy": "2023-03-24T15:32:52.282331Z",
     "iopub.status.idle": "2023-03-24T15:32:52.288506Z",
     "shell.execute_reply": "2023-03-24T15:32:52.287307Z"
    },
    "papermill": {
     "duration": 0.022789,
     "end_time": "2023-03-24T15:32:52.290014",
     "exception": false,
     "start_time": "2023-03-24T15:32:52.267225",
     "status": "completed"
    },
    "tags": []
   },
   "outputs": [
    {
     "name": "stdout",
     "output_type": "stream",
     "text": [
      "tensor([0, 1, 2, 3])\n"
     ]
    }
   ],
   "source": [
    "print(x[0])  # First row"
   ]
  },
  {
   "cell_type": "code",
   "execution_count": 22,
   "id": "25e99b1b",
   "metadata": {
    "execution": {
     "iopub.execute_input": "2023-03-24T15:32:52.323142Z",
     "iopub.status.busy": "2023-03-24T15:32:52.322288Z",
     "iopub.status.idle": "2023-03-24T15:32:52.326933Z",
     "shell.execute_reply": "2023-03-24T15:32:52.326139Z"
    },
    "papermill": {
     "duration": 0.020831,
     "end_time": "2023-03-24T15:32:52.328318",
     "exception": false,
     "start_time": "2023-03-24T15:32:52.307487",
     "status": "completed"
    },
    "tags": []
   },
   "outputs": [
    {
     "name": "stdout",
     "output_type": "stream",
     "text": [
      "tensor([3, 7])\n"
     ]
    }
   ],
   "source": [
    "print(x[:2, -1])  # First two rows, last column"
   ]
  },
  {
   "cell_type": "code",
   "execution_count": 23,
   "id": "ea2fb2fb",
   "metadata": {
    "execution": {
     "iopub.execute_input": "2023-03-24T15:32:52.360612Z",
     "iopub.status.busy": "2023-03-24T15:32:52.359837Z",
     "iopub.status.idle": "2023-03-24T15:32:52.366030Z",
     "shell.execute_reply": "2023-03-24T15:32:52.364913Z"
    },
    "papermill": {
     "duration": 0.022883,
     "end_time": "2023-03-24T15:32:52.367562",
     "exception": false,
     "start_time": "2023-03-24T15:32:52.344679",
     "status": "completed"
    },
    "tags": []
   },
   "outputs": [
    {
     "name": "stdout",
     "output_type": "stream",
     "text": [
      "tensor([[ 4,  5,  6,  7],\n",
      "        [ 8,  9, 10, 11]])\n"
     ]
    }
   ],
   "source": [
    "print(x[1:3, :])  # Middle two rows"
   ]
  },
  {
   "cell_type": "markdown",
   "id": "3660a578",
   "metadata": {
    "papermill": {
     "duration": 0.014145,
     "end_time": "2023-03-24T15:32:52.402562",
     "exception": false,
     "start_time": "2023-03-24T15:32:52.388417",
     "status": "completed"
    },
    "tags": []
   },
   "source": [
    "### Dynamic Computation Graph and Backpropagation\n",
    "\n",
    "One of the main reasons for using PyTorch in Deep Learning projects is that we can automatically get **gradients/derivatives** of functions that we define.\n",
    "We will mainly use PyTorch for implementing neural networks, and they are just fancy functions.\n",
    "If we use weight matrices in our function that we want to learn, then those are called the **parameters** or simply the **weights**.\n",
    "\n",
    "If our neural network would output a single scalar value, we would talk about taking the **derivative**, but you will see that quite often we will have **multiple** output variables (\"values\"); in that case we talk about **gradients**.\n",
    "It's a more general term.\n",
    "\n",
    "Given an input $\\mathbf{x}$, we define our function by **manipulating** that input, usually by matrix-multiplications with weight matrices and additions with so-called bias vectors.\n",
    "As we manipulate our input, we are automatically creating a **computational graph**.\n",
    "This graph shows how to arrive at our output from our input.\n",
    "PyTorch is a **define-by-run** framework; this means that we can just do our manipulations, and PyTorch will keep track of that graph for us.\n",
    "Thus, we create a dynamic computation graph along the way.\n",
    "\n",
    "So, to recap: the only thing we have to do is to compute the **output**, and then we can ask PyTorch to automatically get the **gradients**.\n",
    "\n",
    "> **Note:  Why do we want gradients?\n",
    "** Consider that we have defined a function, a neural net, that is supposed to compute a certain output $y$ for an input vector $\\mathbf{x}$.\n",
    "We then define an **error measure** that tells us how wrong our network is; how bad it is in predicting output $y$ from input $\\mathbf{x}$.\n",
    "Based on this error measure, we can use the gradients to **update** the weights $\\mathbf{W}$ that were responsible for the output, so that the next time we present input $\\mathbf{x}$ to our network, the output will be closer to what we want.\n",
    "\n",
    "The first thing we have to do is to specify which tensors require gradients.\n",
    "By default, when we create a tensor, it does not require gradients."
   ]
  },
  {
   "cell_type": "code",
   "execution_count": 24,
   "id": "08d60070",
   "metadata": {
    "execution": {
     "iopub.execute_input": "2023-03-24T15:32:52.432066Z",
     "iopub.status.busy": "2023-03-24T15:32:52.431824Z",
     "iopub.status.idle": "2023-03-24T15:32:52.437103Z",
     "shell.execute_reply": "2023-03-24T15:32:52.436056Z"
    },
    "papermill": {
     "duration": 0.021833,
     "end_time": "2023-03-24T15:32:52.438535",
     "exception": false,
     "start_time": "2023-03-24T15:32:52.416702",
     "status": "completed"
    },
    "tags": []
   },
   "outputs": [
    {
     "name": "stdout",
     "output_type": "stream",
     "text": [
      "False\n"
     ]
    }
   ],
   "source": [
    "x = torch.ones((3,))\n",
    "print(x.requires_grad)"
   ]
  },
  {
   "cell_type": "markdown",
   "id": "70d8af35",
   "metadata": {
    "papermill": {
     "duration": 0.014163,
     "end_time": "2023-03-24T15:32:52.470348",
     "exception": false,
     "start_time": "2023-03-24T15:32:52.456185",
     "status": "completed"
    },
    "tags": []
   },
   "source": [
    "We can change this for an existing tensor using the function `requires_grad_()` (underscore indicating that this is a in-place operation).\n",
    "Alternatively, when creating a tensor, you can pass the argument\n",
    "`requires_grad=True` to most initializers we have seen above."
   ]
  },
  {
   "cell_type": "code",
   "execution_count": 25,
   "id": "b38cfd36",
   "metadata": {
    "execution": {
     "iopub.execute_input": "2023-03-24T15:32:52.500050Z",
     "iopub.status.busy": "2023-03-24T15:32:52.499807Z",
     "iopub.status.idle": "2023-03-24T15:32:52.504918Z",
     "shell.execute_reply": "2023-03-24T15:32:52.503757Z"
    },
    "papermill": {
     "duration": 0.022204,
     "end_time": "2023-03-24T15:32:52.506775",
     "exception": false,
     "start_time": "2023-03-24T15:32:52.484571",
     "status": "completed"
    },
    "tags": []
   },
   "outputs": [
    {
     "name": "stdout",
     "output_type": "stream",
     "text": [
      "True\n"
     ]
    }
   ],
   "source": [
    "x.requires_grad_(True)\n",
    "print(x.requires_grad)"
   ]
  },
  {
   "cell_type": "markdown",
   "id": "0c90c036",
   "metadata": {
    "papermill": {
     "duration": 0.014137,
     "end_time": "2023-03-24T15:32:52.537690",
     "exception": false,
     "start_time": "2023-03-24T15:32:52.523553",
     "status": "completed"
    },
    "tags": []
   },
   "source": [
    "In order to get familiar with the concept of a computation graph, we will create one for the following function:\n",
    "\n",
    "$$y = \\frac{1}{|x|}\\sum_i \\left[(x_i + 2)^2 + 3\\right]$$\n",
    "\n",
    "You could imagine that $x$ are our parameters, and we want to optimize (either maximize or minimize) the output $y$.\n",
    "For this, we want to obtain the gradients $\\partial y / \\partial \\mathbf{x}$.\n",
    "For our example, we'll use $\\mathbf{x}=[0,1,2]$ as our input."
   ]
  },
  {
   "cell_type": "code",
   "execution_count": 26,
   "id": "4672a7a2",
   "metadata": {
    "execution": {
     "iopub.execute_input": "2023-03-24T15:32:52.568277Z",
     "iopub.status.busy": "2023-03-24T15:32:52.567555Z",
     "iopub.status.idle": "2023-03-24T15:32:52.574642Z",
     "shell.execute_reply": "2023-03-24T15:32:52.573446Z"
    },
    "papermill": {
     "duration": 0.02474,
     "end_time": "2023-03-24T15:32:52.576768",
     "exception": false,
     "start_time": "2023-03-24T15:32:52.552028",
     "status": "completed"
    },
    "tags": []
   },
   "outputs": [
    {
     "name": "stdout",
     "output_type": "stream",
     "text": [
      "X tensor([0., 1., 2.], requires_grad=True)\n"
     ]
    }
   ],
   "source": [
    "x = torch.arange(3, dtype=torch.float32, requires_grad=True)  # Only float tensors can have gradients\n",
    "print(\"X\", x)"
   ]
  },
  {
   "cell_type": "markdown",
   "id": "0304bfef",
   "metadata": {
    "papermill": {
     "duration": 0.014404,
     "end_time": "2023-03-24T15:32:52.611582",
     "exception": false,
     "start_time": "2023-03-24T15:32:52.597178",
     "status": "completed"
    },
    "tags": []
   },
   "source": [
    "Now let's build the computation graph step by step.\n",
    "You can combine multiple operations in a single line, but we will\n",
    "separate them here to get a better understanding of how each operation\n",
    "is added to the computation graph."
   ]
  },
  {
   "cell_type": "code",
   "execution_count": 27,
   "id": "809dd9c6",
   "metadata": {
    "execution": {
     "iopub.execute_input": "2023-03-24T15:32:52.641923Z",
     "iopub.status.busy": "2023-03-24T15:32:52.641496Z",
     "iopub.status.idle": "2023-03-24T15:32:52.647795Z",
     "shell.execute_reply": "2023-03-24T15:32:52.646835Z"
    },
    "papermill": {
     "duration": 0.023283,
     "end_time": "2023-03-24T15:32:52.649343",
     "exception": false,
     "start_time": "2023-03-24T15:32:52.626060",
     "status": "completed"
    },
    "tags": []
   },
   "outputs": [
    {
     "name": "stdout",
     "output_type": "stream",
     "text": [
      "Y tensor(12.6667, grad_fn=<MeanBackward0>)\n"
     ]
    }
   ],
   "source": [
    "a = x + 2\n",
    "b = a**2\n",
    "c = b + 3\n",
    "y = c.mean()\n",
    "print(\"Y\", y)"
   ]
  },
  {
   "cell_type": "markdown",
   "id": "a82d6f0f",
   "metadata": {
    "papermill": {
     "duration": 0.014497,
     "end_time": "2023-03-24T15:32:52.681182",
     "exception": false,
     "start_time": "2023-03-24T15:32:52.666685",
     "status": "completed"
    },
    "tags": []
   },
   "source": [
    "Using the statements above, we have created a computation graph that looks similar to the figure below:\n",
    "\n",
    "<center style=\"width: 100%\"><img src=\"https://github.com/Lightning-AI/lightning-tutorials/raw/main/course_UvA-DL/01-introduction-to-pytorch/pytorch_computation_graph.svg\" width=\"200px\"></center>\n",
    "\n",
    "We calculate $a$ based on the inputs $x$ and the constant $2$, $b$ is $a$ squared, and so on.\n",
    "The visualization is an abstraction of the dependencies between inputs and outputs of the operations we have applied.\n",
    "Each node of the computation graph has automatically defined a function for calculating the gradients with respect to its inputs, `grad_fn`.\n",
    "You can see this when we printed the output tensor $y$.\n",
    "This is why the computation graph is usually visualized in the reverse direction (arrows point from the result to the inputs).\n",
    "We can perform backpropagation on the computation graph by calling the\n",
    "function `backward()` on the last output, which effectively calculates\n",
    "the gradients for each tensor that has the property\n",
    "`requires_grad=True`:"
   ]
  },
  {
   "cell_type": "code",
   "execution_count": 28,
   "id": "4e62d270",
   "metadata": {
    "execution": {
     "iopub.execute_input": "2023-03-24T15:32:52.712193Z",
     "iopub.status.busy": "2023-03-24T15:32:52.711821Z",
     "iopub.status.idle": "2023-03-24T15:32:52.829562Z",
     "shell.execute_reply": "2023-03-24T15:32:52.828284Z"
    },
    "papermill": {
     "duration": 0.136032,
     "end_time": "2023-03-24T15:32:52.831984",
     "exception": false,
     "start_time": "2023-03-24T15:32:52.695952",
     "status": "completed"
    },
    "tags": []
   },
   "outputs": [],
   "source": [
    "y.backward()"
   ]
  },
  {
   "cell_type": "markdown",
   "id": "122ab054",
   "metadata": {
    "papermill": {
     "duration": 0.014438,
     "end_time": "2023-03-24T15:32:52.865293",
     "exception": false,
     "start_time": "2023-03-24T15:32:52.850855",
     "status": "completed"
    },
    "tags": []
   },
   "source": [
    "`x.grad` will now contain the gradient $\\partial y/ \\partial \\mathcal{x}$, and this gradient indicates how a change in $\\mathbf{x}$ will affect output $y$ given the current input $\\mathbf{x}=[0,1,2]$:"
   ]
  },
  {
   "cell_type": "code",
   "execution_count": 29,
   "id": "6ae46ecc",
   "metadata": {
    "execution": {
     "iopub.execute_input": "2023-03-24T15:32:52.896989Z",
     "iopub.status.busy": "2023-03-24T15:32:52.895982Z",
     "iopub.status.idle": "2023-03-24T15:32:52.903091Z",
     "shell.execute_reply": "2023-03-24T15:32:52.901936Z"
    },
    "papermill": {
     "duration": 0.025737,
     "end_time": "2023-03-24T15:32:52.905615",
     "exception": false,
     "start_time": "2023-03-24T15:32:52.879878",
     "status": "completed"
    },
    "tags": []
   },
   "outputs": [
    {
     "name": "stdout",
     "output_type": "stream",
     "text": [
      "tensor([1.3333, 2.0000, 2.6667])\n"
     ]
    }
   ],
   "source": [
    "print(x.grad)"
   ]
  },
  {
   "cell_type": "markdown",
   "id": "8beecc76",
   "metadata": {
    "papermill": {
     "duration": 0.014582,
     "end_time": "2023-03-24T15:32:52.938345",
     "exception": false,
     "start_time": "2023-03-24T15:32:52.923763",
     "status": "completed"
    },
    "tags": []
   },
   "source": [
    "We can also verify these gradients by hand.\n",
    "We will calculate the gradients using the chain rule, in the same way as PyTorch did it:\n",
    "\n",
    "$$\\frac{\\partial y}{\\partial x_i} = \\frac{\\partial y}{\\partial c_i}\\frac{\\partial c_i}{\\partial b_i}\\frac{\\partial b_i}{\\partial a_i}\\frac{\\partial a_i}{\\partial x_i}$$\n",
    "\n",
    "Note that we have simplified this equation to index notation, and by using the fact that all operation besides the mean do not combine the elements in the tensor.\n",
    "The partial derivatives are:\n",
    "\n",
    "$$\n",
    "\\frac{\\partial a_i}{\\partial x_i} = 1,\\hspace{1cm}\n",
    "\\frac{\\partial b_i}{\\partial a_i} = 2\\cdot a_i\\hspace{1cm}\n",
    "\\frac{\\partial c_i}{\\partial b_i} = 1\\hspace{1cm}\n",
    "\\frac{\\partial y}{\\partial c_i} = \\frac{1}{3}\n",
    "$$\n",
    "\n",
    "Hence, with the input being $\\mathbf{x}=[0,1,2]$, our gradients are $\\partial y/\\partial \\mathbf{x}=[4/3,2,8/3]$.\n",
    "The previous code cell should have printed the same result."
   ]
  },
  {
   "cell_type": "markdown",
   "id": "f3de0e8f",
   "metadata": {
    "papermill": {
     "duration": 0.014473,
     "end_time": "2023-03-24T15:32:52.967547",
     "exception": false,
     "start_time": "2023-03-24T15:32:52.953074",
     "status": "completed"
    },
    "tags": []
   },
   "source": [
    "### GPU support\n",
    "\n",
    "A crucial feature of PyTorch is the support of GPUs, short for Graphics Processing Unit.\n",
    "A GPU can perform many thousands of small operations in parallel, making it very well suitable for performing large matrix operations in neural networks.\n",
    "When comparing GPUs to CPUs, we can list the following main differences (credit: [Kevin Krewell, 2009](https://blogs.nvidia.com/blog/2009/12/16/whats-the-difference-between-a-cpu-and-a-gpu/))\n",
    "\n",
    "<center style=\"width: 100%\"><img src=\"https://github.com/Lightning-AI/lightning-tutorials/raw/main/course_UvA-DL/01-introduction-to-pytorch/comparison_CPU_GPU.png\" width=\"700px\"></center>\n",
    "\n",
    "CPUs and GPUs have both different advantages and disadvantages, which is why many computers contain both components and use them for different tasks.\n",
    "In case you are not familiar with GPUs, you can read up more details in this [NVIDIA blog post](https://blogs.nvidia.com/blog/2009/12/16/whats-the-difference-between-a-cpu-and-a-gpu/) or [here](https://www.intel.com/content/www/us/en/products/docs/processors/what-is-a-gpu.html).\n",
    "\n",
    "GPUs can accelerate the training of your network up to a factor of $100$ which is essential for large neural networks.\n",
    "PyTorch implements a lot of functionality for supporting GPUs (mostly those of NVIDIA due to the libraries [CUDA](https://developer.nvidia.com/cuda-zone) and [cuDNN](https://developer.nvidia.com/cudnn)).\n",
    "First, let's check whether you have a GPU available:"
   ]
  },
  {
   "cell_type": "code",
   "execution_count": 30,
   "id": "b41a65e5",
   "metadata": {
    "execution": {
     "iopub.execute_input": "2023-03-24T15:32:52.998362Z",
     "iopub.status.busy": "2023-03-24T15:32:52.997515Z",
     "iopub.status.idle": "2023-03-24T15:32:53.002792Z",
     "shell.execute_reply": "2023-03-24T15:32:53.001712Z"
    },
    "papermill": {
     "duration": 0.022484,
     "end_time": "2023-03-24T15:32:53.004518",
     "exception": false,
     "start_time": "2023-03-24T15:32:52.982034",
     "status": "completed"
    },
    "tags": []
   },
   "outputs": [
    {
     "name": "stdout",
     "output_type": "stream",
     "text": [
      "Is the GPU available? True\n"
     ]
    }
   ],
   "source": [
    "gpu_avail = torch.cuda.is_available()\n",
    "print(f\"Is the GPU available? {gpu_avail}\")"
   ]
  },
  {
   "cell_type": "markdown",
   "id": "f64ed8f6",
   "metadata": {
    "papermill": {
     "duration": 0.014604,
     "end_time": "2023-03-24T15:32:53.038017",
     "exception": false,
     "start_time": "2023-03-24T15:32:53.023413",
     "status": "completed"
    },
    "tags": []
   },
   "source": [
    "If you have a GPU on your computer but the command above returns False, make sure you have the correct CUDA-version installed.\n",
    "The `dl2020` environment comes with the CUDA-toolkit 10.1, which is selected for the Lisa supercomputer.\n",
    "Please change it if necessary (CUDA 10.2 is currently common).\n",
    "On Google Colab, make sure that you have selected a GPU in your runtime setup (in the menu, check under `Runtime -> Change runtime type`).\n",
    "\n",
    "By default, all tensors you create are stored on the CPU.\n",
    "We can push a tensor to the GPU by using the function `.to(...)`, or `.cuda()`.\n",
    "However, it is often a good practice to define a `device` object in your code which points to the GPU if you have one, and otherwise to the CPU.\n",
    "Then, you can write your code with respect to this device object, and it allows you to run the same code on both a CPU-only system, and one with a GPU.\n",
    "Let's try it below.\n",
    "We can specify the device as follows:"
   ]
  },
  {
   "cell_type": "code",
   "execution_count": 31,
   "id": "45b02d1e",
   "metadata": {
    "execution": {
     "iopub.execute_input": "2023-03-24T15:32:53.068687Z",
     "iopub.status.busy": "2023-03-24T15:32:53.068360Z",
     "iopub.status.idle": "2023-03-24T15:32:53.073114Z",
     "shell.execute_reply": "2023-03-24T15:32:53.072312Z"
    },
    "papermill": {
     "duration": 0.022116,
     "end_time": "2023-03-24T15:32:53.074824",
     "exception": false,
     "start_time": "2023-03-24T15:32:53.052708",
     "status": "completed"
    },
    "tags": []
   },
   "outputs": [
    {
     "name": "stdout",
     "output_type": "stream",
     "text": [
      "Device cuda\n"
     ]
    }
   ],
   "source": [
    "device = torch.device(\"cuda\") if torch.cuda.is_available() else torch.device(\"cpu\")\n",
    "print(\"Device\", device)"
   ]
  },
  {
   "cell_type": "markdown",
   "id": "e4cad083",
   "metadata": {
    "papermill": {
     "duration": 0.014691,
     "end_time": "2023-03-24T15:32:53.106747",
     "exception": false,
     "start_time": "2023-03-24T15:32:53.092056",
     "status": "completed"
    },
    "tags": []
   },
   "source": [
    "Now let's create a tensor and push it to the device:"
   ]
  },
  {
   "cell_type": "code",
   "execution_count": 32,
   "id": "b8c6eb70",
   "metadata": {
    "execution": {
     "iopub.execute_input": "2023-03-24T15:32:53.138367Z",
     "iopub.status.busy": "2023-03-24T15:32:53.137596Z",
     "iopub.status.idle": "2023-03-24T15:32:54.311152Z",
     "shell.execute_reply": "2023-03-24T15:32:54.309867Z"
    },
    "papermill": {
     "duration": 1.192202,
     "end_time": "2023-03-24T15:32:54.313784",
     "exception": false,
     "start_time": "2023-03-24T15:32:53.121582",
     "status": "completed"
    },
    "tags": []
   },
   "outputs": [
    {
     "name": "stdout",
     "output_type": "stream",
     "text": [
      "X tensor([[0., 0., 0.],\n",
      "        [0., 0., 0.]], device='cuda:0')\n"
     ]
    }
   ],
   "source": [
    "x = torch.zeros(2, 3)\n",
    "x = x.to(device)\n",
    "print(\"X\", x)"
   ]
  },
  {
   "cell_type": "markdown",
   "id": "57d8fe27",
   "metadata": {
    "papermill": {
     "duration": 0.014719,
     "end_time": "2023-03-24T15:32:54.346652",
     "exception": false,
     "start_time": "2023-03-24T15:32:54.331933",
     "status": "completed"
    },
    "tags": []
   },
   "source": [
    "In case you have a GPU, you should now see the attribute `device='cuda:0'` being printed next to your tensor.\n",
    "The zero next to cuda indicates that this is the zero-th GPU device on your computer.\n",
    "PyTorch also supports multi-GPU systems, but this you will only need once you have very big networks to train (if interested, see the [PyTorch documentation](https://pytorch.org/docs/stable/distributed.html#distributed-basics)).\n",
    "We can also compare the runtime of a large matrix multiplication on the CPU with a operation on the GPU:"
   ]
  },
  {
   "cell_type": "code",
   "execution_count": 33,
   "id": "b581f46c",
   "metadata": {
    "execution": {
     "iopub.execute_input": "2023-03-24T15:32:54.378753Z",
     "iopub.status.busy": "2023-03-24T15:32:54.377678Z",
     "iopub.status.idle": "2023-03-24T15:32:56.073088Z",
     "shell.execute_reply": "2023-03-24T15:32:56.071254Z"
    },
    "papermill": {
     "duration": 1.714388,
     "end_time": "2023-03-24T15:32:56.075865",
     "exception": false,
     "start_time": "2023-03-24T15:32:54.361477",
     "status": "completed"
    },
    "tags": []
   },
   "outputs": [
    {
     "name": "stdout",
     "output_type": "stream",
     "text": [
      "CPU time: 0.64224s\n"
     ]
    },
    {
     "name": "stdout",
     "output_type": "stream",
     "text": [
      "GPU time: 0.85397s\n"
     ]
    }
   ],
   "source": [
    "x = torch.randn(5000, 5000)\n",
    "\n",
    "# CPU version\n",
    "start_time = time.time()\n",
    "_ = torch.matmul(x, x)\n",
    "end_time = time.time()\n",
    "print(f\"CPU time: {(end_time - start_time):6.5f}s\")\n",
    "\n",
    "# GPU version\n",
    "if torch.cuda.is_available():\n",
    "    x = x.to(device)\n",
    "    # CUDA is asynchronous, so we need to use different timing functions\n",
    "    start = torch.cuda.Event(enable_timing=True)\n",
    "    end = torch.cuda.Event(enable_timing=True)\n",
    "    start.record()\n",
    "    _ = torch.matmul(x, x)\n",
    "    end.record()\n",
    "    torch.cuda.synchronize()  # Waits for everything to finish running on the GPU\n",
    "    print(f\"GPU time: {0.001 * start.elapsed_time(end):6.5f}s\")  # Milliseconds to seconds"
   ]
  },
  {
   "cell_type": "markdown",
   "id": "6bc6d5c4",
   "metadata": {
    "papermill": {
     "duration": 0.014906,
     "end_time": "2023-03-24T15:32:56.110492",
     "exception": false,
     "start_time": "2023-03-24T15:32:56.095586",
     "status": "completed"
    },
    "tags": []
   },
   "source": [
    "Depending on the size of the operation and the CPU/GPU in your system, the speedup of this operation can be >50x.\n",
    "As `matmul` operations are very common in neural networks, we can already see the great benefit of training a NN on a GPU.\n",
    "The time estimate can be relatively noisy here because we haven't run it for multiple times.\n",
    "Feel free to extend this, but it also takes longer to run.\n",
    "\n",
    "When generating random numbers, the seed between CPU and GPU is not synchronized.\n",
    "Hence, we need to set the seed on the GPU separately to ensure a reproducible code.\n",
    "Note that due to different GPU architectures, running the same code on different GPUs does not guarantee the same random numbers.\n",
    "Still, we don't want that our code gives us a different output every time we run it on the exact same hardware.\n",
    "Hence, we also set the seed on the GPU:"
   ]
  },
  {
   "cell_type": "code",
   "execution_count": 34,
   "id": "bfe1f28d",
   "metadata": {
    "execution": {
     "iopub.execute_input": "2023-03-24T15:32:56.143598Z",
     "iopub.status.busy": "2023-03-24T15:32:56.142485Z",
     "iopub.status.idle": "2023-03-24T15:32:56.149689Z",
     "shell.execute_reply": "2023-03-24T15:32:56.148575Z"
    },
    "papermill": {
     "duration": 0.025993,
     "end_time": "2023-03-24T15:32:56.151568",
     "exception": false,
     "start_time": "2023-03-24T15:32:56.125575",
     "status": "completed"
    },
    "tags": []
   },
   "outputs": [],
   "source": [
    "# GPU operations have a separate seed we also want to set\n",
    "if torch.cuda.is_available():\n",
    "    torch.cuda.manual_seed(42)\n",
    "    torch.cuda.manual_seed_all(42)\n",
    "\n",
    "# Additionally, some operations on a GPU are implemented stochastic for efficiency\n",
    "# We want to ensure that all operations are deterministic on GPU (if used) for reproducibility\n",
    "torch.backends.cudnn.deterministic = True\n",
    "torch.backends.cudnn.benchmark = False"
   ]
  },
  {
   "cell_type": "markdown",
   "id": "adce4407",
   "metadata": {
    "papermill": {
     "duration": 0.014972,
     "end_time": "2023-03-24T15:32:56.186139",
     "exception": false,
     "start_time": "2023-03-24T15:32:56.171167",
     "status": "completed"
    },
    "tags": []
   },
   "source": [
    "## Learning by example: Continuous XOR\n",
    "<div class=\"center-wrapper\"><div class=\"video-wrapper\"><iframe src=\"https://www.youtube.com/embed/schbjeU5X2g\" title=\"YouTube video player\" frameborder=\"0\" allow=\"accelerometer; autoplay; clipboard-write; encrypted-media; gyroscope; picture-in-picture\" allowfullscreen></iframe></div></div>\n",
    "\n",
    "If we want to build a neural network in PyTorch, we could specify all our parameters (weight matrices, bias vectors) using `Tensors` (with `requires_grad=True`), ask PyTorch to calculate the gradients and then adjust the parameters.\n",
    "But things can quickly get cumbersome if we have a lot of parameters.\n",
    "In PyTorch, there is a package called `torch.nn` that makes building neural networks more convenient.\n",
    "\n",
    "We will introduce the libraries and all additional parts you might need to train a neural network in PyTorch, using a simple example classifier on a simple yet well known example: XOR.\n",
    "Given two binary inputs $x_1$ and $x_2$, the label to predict is $1$ if either $x_1$ or $x_2$ is $1$ while the other is $0$, or the label is $0$ in all other cases.\n",
    "The example became famous by the fact that a single neuron, i.e. a linear classifier, cannot learn this simple function.\n",
    "Hence, we will learn how to build a small neural network that can learn this function.\n",
    "To make it a little bit more interesting, we move the XOR into continuous space and introduce some gaussian noise on the binary inputs.\n",
    "Our desired separation of an XOR dataset could look as follows:\n",
    "\n",
    "<center style=\"width: 100%\"><img src=\"https://github.com/Lightning-AI/lightning-tutorials/raw/main/course_UvA-DL/01-introduction-to-pytorch/continuous_xor.svg\" width=\"350px\"></center>"
   ]
  },
  {
   "cell_type": "markdown",
   "id": "f4e723f3",
   "metadata": {
    "papermill": {
     "duration": 0.015021,
     "end_time": "2023-03-24T15:32:56.216244",
     "exception": false,
     "start_time": "2023-03-24T15:32:56.201223",
     "status": "completed"
    },
    "tags": []
   },
   "source": [
    "### The model\n",
    "\n",
    "The package `torch.nn` defines a series of useful classes like linear networks layers, activation functions, loss functions etc.\n",
    "A full list can be found [here](https://pytorch.org/docs/stable/nn.html).\n",
    "In case you need a certain network layer, check the documentation of the package first before writing the layer yourself as the package likely contains the code for it already.\n",
    "We import it below:"
   ]
  },
  {
   "cell_type": "code",
   "execution_count": null,
   "id": "ac130170",
   "metadata": {
    "lines_to_next_cell": 0,
    "papermill": {
     "duration": 0.014898,
     "end_time": "2023-03-24T15:32:56.246282",
     "exception": false,
     "start_time": "2023-03-24T15:32:56.231384",
     "status": "completed"
    },
    "tags": []
   },
   "outputs": [],
   "source": []
  },
  {
   "cell_type": "code",
   "execution_count": null,
   "id": "4f0e31b1",
   "metadata": {
    "papermill": {
     "duration": 0.014963,
     "end_time": "2023-03-24T15:32:56.276198",
     "exception": false,
     "start_time": "2023-03-24T15:32:56.261235",
     "status": "completed"
    },
    "tags": []
   },
   "outputs": [],
   "source": []
  },
  {
   "cell_type": "markdown",
   "id": "d6109369",
   "metadata": {
    "papermill": {
     "duration": 0.015034,
     "end_time": "2023-03-24T15:32:56.306329",
     "exception": false,
     "start_time": "2023-03-24T15:32:56.291295",
     "status": "completed"
    },
    "tags": []
   },
   "source": [
    "Additionally to `torch.nn`, there is also `torch.nn.functional`.\n",
    "It contains functions that are used in network layers.\n",
    "This is in contrast to `torch.nn` which defines them as `nn.Modules` (more on it below), and `torch.nn` actually uses a lot of functionalities from `torch.nn.functional`.\n",
    "Hence, the functional package is useful in many situations, and so we import it as well here."
   ]
  },
  {
   "cell_type": "markdown",
   "id": "2d94f325",
   "metadata": {
    "lines_to_next_cell": 2,
    "papermill": {
     "duration": 0.015018,
     "end_time": "2023-03-24T15:32:56.336485",
     "exception": false,
     "start_time": "2023-03-24T15:32:56.321467",
     "status": "completed"
    },
    "tags": []
   },
   "source": [
    "#### nn.Module\n",
    "\n",
    "In PyTorch, a neural network is built up out of modules.\n",
    "Modules can contain other modules, and a neural network is considered to be a module itself as well.\n",
    "The basic template of a module is as follows:"
   ]
  },
  {
   "cell_type": "code",
   "execution_count": 35,
   "id": "8cba1f53",
   "metadata": {
    "execution": {
     "iopub.execute_input": "2023-03-24T15:32:56.367939Z",
     "iopub.status.busy": "2023-03-24T15:32:56.367689Z",
     "iopub.status.idle": "2023-03-24T15:32:56.372906Z",
     "shell.execute_reply": "2023-03-24T15:32:56.371889Z"
    },
    "lines_to_next_cell": 2,
    "papermill": {
     "duration": 0.022785,
     "end_time": "2023-03-24T15:32:56.374364",
     "exception": false,
     "start_time": "2023-03-24T15:32:56.351579",
     "status": "completed"
    },
    "tags": []
   },
   "outputs": [],
   "source": [
    "class MyModule(nn.Module):\n",
    "    def __init__(self):\n",
    "        super().__init__()\n",
    "        # Some init for my module\n",
    "\n",
    "    def forward(self, x):\n",
    "        # Function for performing the calculation of the module.\n",
    "        pass"
   ]
  },
  {
   "cell_type": "markdown",
   "id": "fe1e4d85",
   "metadata": {
    "lines_to_next_cell": 2,
    "papermill": {
     "duration": 0.014927,
     "end_time": "2023-03-24T15:32:56.407769",
     "exception": false,
     "start_time": "2023-03-24T15:32:56.392842",
     "status": "completed"
    },
    "tags": []
   },
   "source": [
    "The forward function is where the computation of the module is taken place, and is executed when you call the module (`nn = MyModule(); nn(x)`).\n",
    "In the init function, we usually create the parameters of the module, using `nn.Parameter`, or defining other modules that are used in the forward function.\n",
    "The backward calculation is done automatically, but could be overwritten as well if wanted.\n",
    "\n",
    "#### Simple classifier\n",
    "We can now make use of the pre-defined modules in the `torch.nn` package, and define our own small neural network.\n",
    "We will use a minimal network with a input layer, one hidden layer with tanh as activation function, and a output layer.\n",
    "In other words, our networks should look something like this:\n",
    "\n",
    "<center width=\"100%\"><img src=\"https://github.com/Lightning-AI/lightning-tutorials/raw/main/course_UvA-DL/01-introduction-to-pytorch/small_neural_network.svg\" width=\"300px\"></center>\n",
    "\n",
    "The input neurons are shown in blue, which represent the coordinates $x_1$ and $x_2$ of a data point.\n",
    "The hidden neurons including a tanh activation are shown in white, and the output neuron in red.\n",
    "In PyTorch, we can define this as follows:"
   ]
  },
  {
   "cell_type": "code",
   "execution_count": 36,
   "id": "42216aef",
   "metadata": {
    "execution": {
     "iopub.execute_input": "2023-03-24T15:32:56.439671Z",
     "iopub.status.busy": "2023-03-24T15:32:56.438814Z",
     "iopub.status.idle": "2023-03-24T15:32:56.445173Z",
     "shell.execute_reply": "2023-03-24T15:32:56.444158Z"
    },
    "papermill": {
     "duration": 0.023735,
     "end_time": "2023-03-24T15:32:56.446573",
     "exception": false,
     "start_time": "2023-03-24T15:32:56.422838",
     "status": "completed"
    },
    "tags": []
   },
   "outputs": [],
   "source": [
    "class SimpleClassifier(nn.Module):\n",
    "    def __init__(self, num_inputs, num_hidden, num_outputs):\n",
    "        super().__init__()\n",
    "        # Initialize the modules we need to build the network\n",
    "        self.linear1 = nn.Linear(num_inputs, num_hidden)\n",
    "        self.act_fn = nn.Tanh()\n",
    "        self.linear2 = nn.Linear(num_hidden, num_outputs)\n",
    "\n",
    "    def forward(self, x):\n",
    "        # Perform the calculation of the model to determine the prediction\n",
    "        x = self.linear1(x)\n",
    "        x = self.act_fn(x)\n",
    "        x = self.linear2(x)\n",
    "        return x"
   ]
  },
  {
   "cell_type": "markdown",
   "id": "60fb51e2",
   "metadata": {
    "papermill": {
     "duration": 0.014922,
     "end_time": "2023-03-24T15:32:56.483203",
     "exception": false,
     "start_time": "2023-03-24T15:32:56.468281",
     "status": "completed"
    },
    "tags": []
   },
   "source": [
    "For the examples in this notebook, we will use a tiny neural network with two input neurons and four hidden neurons.\n",
    "As we perform binary classification, we will use a single output neuron.\n",
    "Note that we do not apply a sigmoid on the output yet.\n",
    "This is because other functions, especially the loss, are more efficient and precise to calculate on the original outputs instead of the sigmoid output.\n",
    "We will discuss the detailed reason later."
   ]
  },
  {
   "cell_type": "code",
   "execution_count": 37,
   "id": "39b6bab8",
   "metadata": {
    "execution": {
     "iopub.execute_input": "2023-03-24T15:32:56.514960Z",
     "iopub.status.busy": "2023-03-24T15:32:56.514368Z",
     "iopub.status.idle": "2023-03-24T15:32:56.520559Z",
     "shell.execute_reply": "2023-03-24T15:32:56.519474Z"
    },
    "papermill": {
     "duration": 0.024023,
     "end_time": "2023-03-24T15:32:56.522267",
     "exception": false,
     "start_time": "2023-03-24T15:32:56.498244",
     "status": "completed"
    },
    "tags": []
   },
   "outputs": [
    {
     "name": "stdout",
     "output_type": "stream",
     "text": [
      "SimpleClassifier(\n",
      "  (linear1): Linear(in_features=2, out_features=4, bias=True)\n",
      "  (act_fn): Tanh()\n",
      "  (linear2): Linear(in_features=4, out_features=1, bias=True)\n",
      ")\n"
     ]
    }
   ],
   "source": [
    "model = SimpleClassifier(num_inputs=2, num_hidden=4, num_outputs=1)\n",
    "# Printing a module shows all its submodules\n",
    "print(model)"
   ]
  },
  {
   "cell_type": "markdown",
   "id": "b033c592",
   "metadata": {
    "papermill": {
     "duration": 0.015048,
     "end_time": "2023-03-24T15:32:56.555030",
     "exception": false,
     "start_time": "2023-03-24T15:32:56.539982",
     "status": "completed"
    },
    "tags": []
   },
   "source": [
    "Printing the model lists all submodules it contains.\n",
    "The parameters of a module can be obtained by using its `parameters()` functions, or `named_parameters()` to get a name to each parameter object.\n",
    "For our small neural network, we have the following parameters:"
   ]
  },
  {
   "cell_type": "code",
   "execution_count": 38,
   "id": "ff8b95c4",
   "metadata": {
    "execution": {
     "iopub.execute_input": "2023-03-24T15:32:56.587172Z",
     "iopub.status.busy": "2023-03-24T15:32:56.586372Z",
     "iopub.status.idle": "2023-03-24T15:32:56.591753Z",
     "shell.execute_reply": "2023-03-24T15:32:56.590660Z"
    },
    "papermill": {
     "duration": 0.023257,
     "end_time": "2023-03-24T15:32:56.593515",
     "exception": false,
     "start_time": "2023-03-24T15:32:56.570258",
     "status": "completed"
    },
    "tags": []
   },
   "outputs": [
    {
     "name": "stdout",
     "output_type": "stream",
     "text": [
      "Parameter linear1.weight, shape torch.Size([4, 2])\n",
      "Parameter linear1.bias, shape torch.Size([4])\n",
      "Parameter linear2.weight, shape torch.Size([1, 4])\n",
      "Parameter linear2.bias, shape torch.Size([1])\n"
     ]
    }
   ],
   "source": [
    "for name, param in model.named_parameters():\n",
    "    print(f\"Parameter {name}, shape {param.shape}\")"
   ]
  },
  {
   "cell_type": "markdown",
   "id": "f2cee916",
   "metadata": {
    "papermill": {
     "duration": 0.015348,
     "end_time": "2023-03-24T15:32:56.626957",
     "exception": false,
     "start_time": "2023-03-24T15:32:56.611609",
     "status": "completed"
    },
    "tags": []
   },
   "source": [
    "Each linear layer has a weight matrix of the shape `[output, input]`, and a bias of the shape `[output]`.\n",
    "The tanh activation function does not have any parameters.\n",
    "Note that parameters are only registered for `nn.Module` objects that are direct object attributes, i.e. `self.a = ...`.\n",
    "If you define a list of modules, the parameters of those are not registered for the outer module and can cause some issues when you try to optimize your module.\n",
    "There are alternatives, like `nn.ModuleList`, `nn.ModuleDict` and `nn.Sequential`, that allow you to have different data structures of modules.\n",
    "We will use them in a few later tutorials and explain them there."
   ]
  },
  {
   "cell_type": "markdown",
   "id": "9825f1ca",
   "metadata": {
    "papermill": {
     "duration": 0.01527,
     "end_time": "2023-03-24T15:32:56.657502",
     "exception": false,
     "start_time": "2023-03-24T15:32:56.642232",
     "status": "completed"
    },
    "tags": []
   },
   "source": [
    "### The data\n",
    "\n",
    "PyTorch also provides a few functionalities to load the training and\n",
    "test data efficiently, summarized in the package `torch.utils.data`."
   ]
  },
  {
   "cell_type": "code",
   "execution_count": null,
   "id": "0629439c",
   "metadata": {
    "papermill": {
     "duration": 0.015174,
     "end_time": "2023-03-24T15:32:56.688063",
     "exception": false,
     "start_time": "2023-03-24T15:32:56.672889",
     "status": "completed"
    },
    "tags": []
   },
   "outputs": [],
   "source": []
  },
  {
   "cell_type": "markdown",
   "id": "d84717d5",
   "metadata": {
    "papermill": {
     "duration": 0.01536,
     "end_time": "2023-03-24T15:32:56.719035",
     "exception": false,
     "start_time": "2023-03-24T15:32:56.703675",
     "status": "completed"
    },
    "tags": []
   },
   "source": [
    "The data package defines two classes which are the standard interface for handling data in PyTorch: `data.Dataset`, and `data.DataLoader`.\n",
    "The dataset class provides an uniform interface to access the\n",
    "training/test data, while the data loader makes sure to efficiently load\n",
    "and stack the data points from the dataset into batches during training."
   ]
  },
  {
   "cell_type": "markdown",
   "id": "7184533e",
   "metadata": {
    "papermill": {
     "duration": 0.015205,
     "end_time": "2023-03-24T15:32:56.749561",
     "exception": false,
     "start_time": "2023-03-24T15:32:56.734356",
     "status": "completed"
    },
    "tags": []
   },
   "source": [
    "#### The dataset class\n",
    "\n",
    "The dataset class summarizes the basic functionality of a dataset in a natural way.\n",
    "To define a dataset in PyTorch, we simply specify two functions: `__getitem__`, and `__len__`.\n",
    "The get-item function has to return the $i$-th data point in the dataset, while the len function returns the size of the dataset.\n",
    "For the XOR dataset, we can define the dataset class as follows:"
   ]
  },
  {
   "cell_type": "code",
   "execution_count": 39,
   "id": "b091f474",
   "metadata": {
    "execution": {
     "iopub.execute_input": "2023-03-24T15:32:56.781874Z",
     "iopub.status.busy": "2023-03-24T15:32:56.781210Z",
     "iopub.status.idle": "2023-03-24T15:32:56.793741Z",
     "shell.execute_reply": "2023-03-24T15:32:56.792808Z"
    },
    "papermill": {
     "duration": 0.031153,
     "end_time": "2023-03-24T15:32:56.796032",
     "exception": false,
     "start_time": "2023-03-24T15:32:56.764879",
     "status": "completed"
    },
    "tags": []
   },
   "outputs": [],
   "source": [
    "\n",
    "\n",
    "class XORDataset(data.Dataset):\n",
    "    def __init__(self, size, std=0.1):\n",
    "        \"\"\"XORDataset.\n",
    "\n",
    "        Args:\n",
    "            size: Number of data points we want to generate\n",
    "            std: Standard deviation of the noise (see generate_continuous_xor function)\n",
    "        \"\"\"\n",
    "        super().__init__()\n",
    "        self.size = size\n",
    "        self.std = std\n",
    "        self.generate_continuous_xor()\n",
    "\n",
    "    def generate_continuous_xor(self):\n",
    "        # Each data point in the XOR dataset has two variables, x and y, that can be either 0 or 1\n",
    "        # The label is their XOR combination, i.e. 1 if only x or only y is 1 while the other is 0.\n",
    "        # If x=y, the label is 0.\n",
    "        data = torch.randint(low=0, high=2, size=(self.size, 2), dtype=torch.float32)\n",
    "        label = (data.sum(dim=1) == 1).to(torch.long)\n",
    "        # To make it slightly more challenging, we add a bit of gaussian noise to the data points.\n",
    "        data += self.std * torch.randn(data.shape)\n",
    "\n",
    "        self.data = data\n",
    "        self.label = label\n",
    "\n",
    "    def __len__(self):\n",
    "        # Number of data point we have. Alternatively self.data.shape[0], or self.label.shape[0]\n",
    "        return self.size\n",
    "\n",
    "    def __getitem__(self, idx):\n",
    "        # Return the idx-th data point of the dataset\n",
    "        # If we have multiple things to return (data point and label), we can return them as tuple\n",
    "        data_point = self.data[idx]\n",
    "        data_label = self.label[idx]\n",
    "        return data_point, data_label"
   ]
  },
  {
   "cell_type": "markdown",
   "id": "1b02eeb0",
   "metadata": {
    "papermill": {
     "duration": 0.015386,
     "end_time": "2023-03-24T15:32:56.832291",
     "exception": false,
     "start_time": "2023-03-24T15:32:56.816905",
     "status": "completed"
    },
    "tags": []
   },
   "source": [
    "Let's try to create such a dataset and inspect it:"
   ]
  },
  {
   "cell_type": "code",
   "execution_count": 40,
   "id": "46fc8065",
   "metadata": {
    "execution": {
     "iopub.execute_input": "2023-03-24T15:32:56.864402Z",
     "iopub.status.busy": "2023-03-24T15:32:56.864036Z",
     "iopub.status.idle": "2023-03-24T15:32:56.872078Z",
     "shell.execute_reply": "2023-03-24T15:32:56.870857Z"
    },
    "papermill": {
     "duration": 0.027002,
     "end_time": "2023-03-24T15:32:56.874609",
     "exception": false,
     "start_time": "2023-03-24T15:32:56.847607",
     "status": "completed"
    },
    "tags": []
   },
   "outputs": [
    {
     "name": "stdout",
     "output_type": "stream",
     "text": [
      "Size of dataset: 200\n",
      "Data point 0: (tensor([0.9632, 0.1117]), tensor(1))\n"
     ]
    }
   ],
   "source": [
    "dataset = XORDataset(size=200)\n",
    "print(\"Size of dataset:\", len(dataset))\n",
    "print(\"Data point 0:\", dataset[0])"
   ]
  },
  {
   "cell_type": "markdown",
   "id": "474706ba",
   "metadata": {
    "lines_to_next_cell": 2,
    "papermill": {
     "duration": 0.015497,
     "end_time": "2023-03-24T15:32:56.911918",
     "exception": false,
     "start_time": "2023-03-24T15:32:56.896421",
     "status": "completed"
    },
    "tags": []
   },
   "source": [
    "To better relate to the dataset, we visualize the samples below."
   ]
  },
  {
   "cell_type": "code",
   "execution_count": 41,
   "id": "d8fe6c7f",
   "metadata": {
    "execution": {
     "iopub.execute_input": "2023-03-24T15:32:56.944886Z",
     "iopub.status.busy": "2023-03-24T15:32:56.944301Z",
     "iopub.status.idle": "2023-03-24T15:32:56.951308Z",
     "shell.execute_reply": "2023-03-24T15:32:56.950278Z"
    },
    "papermill": {
     "duration": 0.025324,
     "end_time": "2023-03-24T15:32:56.952887",
     "exception": false,
     "start_time": "2023-03-24T15:32:56.927563",
     "status": "completed"
    },
    "tags": []
   },
   "outputs": [],
   "source": [
    "def visualize_samples(data, label):\n",
    "    if isinstance(data, Tensor):\n",
    "        data = data.cpu().numpy()\n",
    "    if isinstance(label, Tensor):\n",
    "        label = label.cpu().numpy()\n",
    "    data_0 = data[label == 0]\n",
    "    data_1 = data[label == 1]\n",
    "\n",
    "    plt.figure(figsize=(4, 4))\n",
    "    plt.scatter(data_0[:, 0], data_0[:, 1], edgecolor=\"#333\", label=\"Class 0\")\n",
    "    plt.scatter(data_1[:, 0], data_1[:, 1], edgecolor=\"#333\", label=\"Class 1\")\n",
    "    plt.title(\"Dataset samples\")\n",
    "    plt.ylabel(r\"$x_2$\")\n",
    "    plt.xlabel(r\"$x_1$\")\n",
    "    plt.legend()"
   ]
  },
  {
   "cell_type": "code",
   "execution_count": 42,
   "id": "19ac7c34",
   "metadata": {
    "execution": {
     "iopub.execute_input": "2023-03-24T15:32:56.991468Z",
     "iopub.status.busy": "2023-03-24T15:32:56.990837Z",
     "iopub.status.idle": "2023-03-24T15:32:57.374350Z",
     "shell.execute_reply": "2023-03-24T15:32:57.373253Z"
    },
    "papermill": {
     "duration": 0.403192,
     "end_time": "2023-03-24T15:32:57.377571",
     "exception": false,
     "start_time": "2023-03-24T15:32:56.974379",
     "status": "completed"
    },
    "tags": []
   },
   "outputs": [
    {
     "data": {
      "application/pdf": "[encoded data removed]",
      "image/svg+xml": [
       "<?xml version=\"1.0\" encoding=\"utf-8\" standalone=\"no\"?>\n",
       "<!DOCTYPE svg PUBLIC \"-//W3C//DTD SVG 1.1//EN\"\n",
       "  \"http://www.w3.org/Graphics/SVG/1.1/DTD/svg11.dtd\">\n",
       "<!-- Created with matplotlib (https://matplotlib.org/) -->\n",
       "<svg height=\"281.634375pt\" version=\"1.1\" viewBox=\"0 0 288.985258 281.634375\" width=\"288.985258pt\" xmlns=\"http://www.w3.org/2000/svg\" xmlns:xlink=\"http://www.w3.org/1999/xlink\">\n",
       " <metadata>\n",
       "  <rdf:RDF xmlns:cc=\"http://creativecommons.org/ns#\" xmlns:dc=\"http://purl.org/dc/elements/1.1/\" xmlns:rdf=\"http://www.w3.org/1999/02/22-rdf-syntax-ns#\">\n",
       "   <cc:Work>\n",
       "    <dc:type rdf:resource=\"http://purl.org/dc/dcmitype/StillImage\"/>\n",
       "    <dc:date>2023-03-24T15:32:57.182584</dc:date>\n",
       "    <dc:format>image/svg+xml</dc:format>\n",
       "    <dc:creator>\n",
       "     <cc:Agent>\n",
       "      <dc:title>Matplotlib v3.3.4, https://matplotlib.org/</dc:title>\n",
       "     </cc:Agent>\n",
       "    </dc:creator>\n",
       "   </cc:Work>\n",
       "  </rdf:RDF>\n",
       " </metadata>\n",
       " <defs>\n",
       "  <style type=\"text/css\">*{stroke-linecap:butt;stroke-linejoin:round;}</style>\n",
       " </defs>\n",
       " <g id=\"figure_1\">\n",
       "  <g id=\"patch_1\">\n",
       "   <path d=\"M 0 281.634375 \n",
       "L 288.985258 281.634375 \n",
       "L 288.985258 0 \n",
       "L 0 0 \n",
       "z\n",
       "\" style=\"fill:#ffffff;\"/>\n",
       "  </g>\n",
       "  <g id=\"axes_1\">\n",
       "   <g id=\"patch_2\">\n",
       "    <path d=\"M 52.160938 244.078125 \n",
       "L 275.360937 244.078125 \n",
       "L 275.360937 22.318125 \n",
       "L 52.160938 22.318125 \n",
       "z\n",
       "\" style=\"fill:#ffffff;\"/>\n",
       "   </g>\n",
       "   <g id=\"PathCollection_1\">\n",
       "    <defs>\n",
       "     <path d=\"M 0 3 \n",
       "C 0.795609 3 1.55874 2.683901 2.12132 2.12132 \n",
       "C 2.683901 1.55874 3 0.795609 3 0 \n",
       "C 3 -0.795609 2.683901 -1.55874 2.12132 -2.12132 \n",
       "C 1.55874 -2.683901 0.795609 -3 0 -3 \n",
       "C -0.795609 -3 -1.55874 -2.683901 -2.12132 -2.12132 \n",
       "C -2.683901 -1.55874 -3 -0.795609 -3 0 \n",
       "C -3 0.795609 -2.683901 1.55874 -2.12132 2.12132 \n",
       "C -1.55874 2.683901 -0.795609 3 0 3 \n",
       "z\n",
       "\" id=\"m00f956e56a\" style=\"stroke:#333333;\"/>\n",
       "    </defs>\n",
       "    <g clip-path=\"url(#p998531341d)\">\n",
       "     <use style=\"fill:#1f77b4;stroke:#333333;\" x=\"96.31168\" xlink:href=\"#m00f956e56a\" y=\"196.722839\"/>\n",
       "     <use style=\"fill:#1f77b4;stroke:#333333;\" x=\"232.057657\" xlink:href=\"#m00f956e56a\" y=\"62.936312\"/>\n",
       "     <use style=\"fill:#1f77b4;stroke:#333333;\" x=\"258.979442\" xlink:href=\"#m00f956e56a\" y=\"64.604217\"/>\n",
       "     <use style=\"fill:#1f77b4;stroke:#333333;\" x=\"108.913368\" xlink:href=\"#m00f956e56a\" y=\"208.027289\"/>\n",
       "     <use style=\"fill:#1f77b4;stroke:#333333;\" x=\"101.325808\" xlink:href=\"#m00f956e56a\" y=\"208.673311\"/>\n",
       "     <use style=\"fill:#1f77b4;stroke:#333333;\" x=\"70.983454\" xlink:href=\"#m00f956e56a\" y=\"192.883124\"/>\n",
       "     <use style=\"fill:#1f77b4;stroke:#333333;\" x=\"242.885541\" xlink:href=\"#m00f956e56a\" y=\"59.286292\"/>\n",
       "     <use style=\"fill:#1f77b4;stroke:#333333;\" x=\"232.016709\" xlink:href=\"#m00f956e56a\" y=\"52.019112\"/>\n",
       "     <use style=\"fill:#1f77b4;stroke:#333333;\" x=\"93.978943\" xlink:href=\"#m00f956e56a\" y=\"208.171202\"/>\n",
       "     <use style=\"fill:#1f77b4;stroke:#333333;\" x=\"237.538974\" xlink:href=\"#m00f956e56a\" y=\"54.192986\"/>\n",
       "     <use style=\"fill:#1f77b4;stroke:#333333;\" x=\"103.543109\" xlink:href=\"#m00f956e56a\" y=\"203.846094\"/>\n",
       "     <use style=\"fill:#1f77b4;stroke:#333333;\" x=\"255.555098\" xlink:href=\"#m00f956e56a\" y=\"32.398125\"/>\n",
       "     <use style=\"fill:#1f77b4;stroke:#333333;\" x=\"238.058002\" xlink:href=\"#m00f956e56a\" y=\"63.389821\"/>\n",
       "     <use style=\"fill:#1f77b4;stroke:#333333;\" x=\"232.170061\" xlink:href=\"#m00f956e56a\" y=\"58.458486\"/>\n",
       "     <use style=\"fill:#1f77b4;stroke:#333333;\" x=\"94.264177\" xlink:href=\"#m00f956e56a\" y=\"216.407122\"/>\n",
       "     <use style=\"fill:#1f77b4;stroke:#333333;\" x=\"89.231835\" xlink:href=\"#m00f956e56a\" y=\"188.27051\"/>\n",
       "     <use style=\"fill:#1f77b4;stroke:#333333;\" x=\"251.267421\" xlink:href=\"#m00f956e56a\" y=\"92.174531\"/>\n",
       "     <use style=\"fill:#1f77b4;stroke:#333333;\" x=\"254.815479\" xlink:href=\"#m00f956e56a\" y=\"84.973665\"/>\n",
       "     <use style=\"fill:#1f77b4;stroke:#333333;\" x=\"226.105337\" xlink:href=\"#m00f956e56a\" y=\"59.869761\"/>\n",
       "     <use style=\"fill:#1f77b4;stroke:#333333;\" x=\"82.022892\" xlink:href=\"#m00f956e56a\" y=\"212.915172\"/>\n",
       "     <use style=\"fill:#1f77b4;stroke:#333333;\" x=\"253.973129\" xlink:href=\"#m00f956e56a\" y=\"32.829691\"/>\n",
       "     <use style=\"fill:#1f77b4;stroke:#333333;\" x=\"245.15091\" xlink:href=\"#m00f956e56a\" y=\"60.703566\"/>\n",
       "     <use style=\"fill:#1f77b4;stroke:#333333;\" x=\"114.421987\" xlink:href=\"#m00f956e56a\" y=\"178.887482\"/>\n",
       "     <use style=\"fill:#1f77b4;stroke:#333333;\" x=\"228.657784\" xlink:href=\"#m00f956e56a\" y=\"32.535284\"/>\n",
       "     <use style=\"fill:#1f77b4;stroke:#333333;\" x=\"99.781014\" xlink:href=\"#m00f956e56a\" y=\"198.203555\"/>\n",
       "     <use style=\"fill:#1f77b4;stroke:#333333;\" x=\"227.807175\" xlink:href=\"#m00f956e56a\" y=\"52.08478\"/>\n",
       "     <use style=\"fill:#1f77b4;stroke:#333333;\" x=\"86.881354\" xlink:href=\"#m00f956e56a\" y=\"182.615423\"/>\n",
       "     <use style=\"fill:#1f77b4;stroke:#333333;\" x=\"250.727063\" xlink:href=\"#m00f956e56a\" y=\"49.299705\"/>\n",
       "     <use style=\"fill:#1f77b4;stroke:#333333;\" x=\"246.39628\" xlink:href=\"#m00f956e56a\" y=\"62.291446\"/>\n",
       "     <use style=\"fill:#1f77b4;stroke:#333333;\" x=\"240.179519\" xlink:href=\"#m00f956e56a\" y=\"44.118696\"/>\n",
       "     <use style=\"fill:#1f77b4;stroke:#333333;\" x=\"92.34098\" xlink:href=\"#m00f956e56a\" y=\"187.59289\"/>\n",
       "     <use style=\"fill:#1f77b4;stroke:#333333;\" x=\"104.506115\" xlink:href=\"#m00f956e56a\" y=\"213.43273\"/>\n",
       "     <use style=\"fill:#1f77b4;stroke:#333333;\" x=\"87.360439\" xlink:href=\"#m00f956e56a\" y=\"172.552241\"/>\n",
       "     <use style=\"fill:#1f77b4;stroke:#333333;\" x=\"97.745486\" xlink:href=\"#m00f956e56a\" y=\"204.875134\"/>\n",
       "     <use style=\"fill:#1f77b4;stroke:#333333;\" x=\"112.202457\" xlink:href=\"#m00f956e56a\" y=\"204.414963\"/>\n",
       "     <use style=\"fill:#1f77b4;stroke:#333333;\" x=\"93.386735\" xlink:href=\"#m00f956e56a\" y=\"199.146562\"/>\n",
       "     <use style=\"fill:#1f77b4;stroke:#333333;\" x=\"112.962408\" xlink:href=\"#m00f956e56a\" y=\"215.984474\"/>\n",
       "     <use style=\"fill:#1f77b4;stroke:#333333;\" x=\"213.923524\" xlink:href=\"#m00f956e56a\" y=\"39.964075\"/>\n",
       "     <use style=\"fill:#1f77b4;stroke:#333333;\" x=\"253.408944\" xlink:href=\"#m00f956e56a\" y=\"65.444962\"/>\n",
       "     <use style=\"fill:#1f77b4;stroke:#333333;\" x=\"238.202599\" xlink:href=\"#m00f956e56a\" y=\"64.58313\"/>\n",
       "     <use style=\"fill:#1f77b4;stroke:#333333;\" x=\"93.334759\" xlink:href=\"#m00f956e56a\" y=\"209.048204\"/>\n",
       "     <use style=\"fill:#1f77b4;stroke:#333333;\" x=\"222.697015\" xlink:href=\"#m00f956e56a\" y=\"90.419292\"/>\n",
       "     <use style=\"fill:#1f77b4;stroke:#333333;\" x=\"246.067518\" xlink:href=\"#m00f956e56a\" y=\"57.466065\"/>\n",
       "     <use style=\"fill:#1f77b4;stroke:#333333;\" x=\"97.908356\" xlink:href=\"#m00f956e56a\" y=\"215.89812\"/>\n",
       "     <use style=\"fill:#1f77b4;stroke:#333333;\" x=\"110.608912\" xlink:href=\"#m00f956e56a\" y=\"221.55911\"/>\n",
       "     <use style=\"fill:#1f77b4;stroke:#333333;\" x=\"119.278606\" xlink:href=\"#m00f956e56a\" y=\"180.101675\"/>\n",
       "     <use style=\"fill:#1f77b4;stroke:#333333;\" x=\"229.431275\" xlink:href=\"#m00f956e56a\" y=\"72.852515\"/>\n",
       "     <use style=\"fill:#1f77b4;stroke:#333333;\" x=\"217.108023\" xlink:href=\"#m00f956e56a\" y=\"44.796606\"/>\n",
       "     <use style=\"fill:#1f77b4;stroke:#333333;\" x=\"90.421001\" xlink:href=\"#m00f956e56a\" y=\"209.459161\"/>\n",
       "     <use style=\"fill:#1f77b4;stroke:#333333;\" x=\"230.637614\" xlink:href=\"#m00f956e56a\" y=\"69.402923\"/>\n",
       "     <use style=\"fill:#1f77b4;stroke:#333333;\" x=\"98.642521\" xlink:href=\"#m00f956e56a\" y=\"204.583978\"/>\n",
       "     <use style=\"fill:#1f77b4;stroke:#333333;\" x=\"242.296554\" xlink:href=\"#m00f956e56a\" y=\"33.833591\"/>\n",
       "     <use style=\"fill:#1f77b4;stroke:#333333;\" x=\"95.167044\" xlink:href=\"#m00f956e56a\" y=\"192.066827\"/>\n",
       "     <use style=\"fill:#1f77b4;stroke:#333333;\" x=\"227.659933\" xlink:href=\"#m00f956e56a\" y=\"77.653923\"/>\n",
       "     <use style=\"fill:#1f77b4;stroke:#333333;\" x=\"239.162594\" xlink:href=\"#m00f956e56a\" y=\"47.935546\"/>\n",
       "     <use style=\"fill:#1f77b4;stroke:#333333;\" x=\"70.985535\" xlink:href=\"#m00f956e56a\" y=\"193.95253\"/>\n",
       "     <use style=\"fill:#1f77b4;stroke:#333333;\" x=\"216.984682\" xlink:href=\"#m00f956e56a\" y=\"47.691351\"/>\n",
       "     <use style=\"fill:#1f77b4;stroke:#333333;\" x=\"247.342435\" xlink:href=\"#m00f956e56a\" y=\"66.4751\"/>\n",
       "     <use style=\"fill:#1f77b4;stroke:#333333;\" x=\"82.942512\" xlink:href=\"#m00f956e56a\" y=\"200.290075\"/>\n",
       "     <use style=\"fill:#1f77b4;stroke:#333333;\" x=\"94.610207\" xlink:href=\"#m00f956e56a\" y=\"233.998125\"/>\n",
       "     <use style=\"fill:#1f77b4;stroke:#333333;\" x=\"94.065144\" xlink:href=\"#m00f956e56a\" y=\"203.39981\"/>\n",
       "     <use style=\"fill:#1f77b4;stroke:#333333;\" x=\"75.9265\" xlink:href=\"#m00f956e56a\" y=\"203.53779\"/>\n",
       "     <use style=\"fill:#1f77b4;stroke:#333333;\" x=\"261.562131\" xlink:href=\"#m00f956e56a\" y=\"66.615549\"/>\n",
       "     <use style=\"fill:#1f77b4;stroke:#333333;\" x=\"227.651459\" xlink:href=\"#m00f956e56a\" y=\"74.78159\"/>\n",
       "     <use style=\"fill:#1f77b4;stroke:#333333;\" x=\"253.566025\" xlink:href=\"#m00f956e56a\" y=\"40.024793\"/>\n",
       "     <use style=\"fill:#1f77b4;stroke:#333333;\" x=\"76.490724\" xlink:href=\"#m00f956e56a\" y=\"188.559525\"/>\n",
       "     <use style=\"fill:#1f77b4;stroke:#333333;\" x=\"238.897525\" xlink:href=\"#m00f956e56a\" y=\"83.623854\"/>\n",
       "     <use style=\"fill:#1f77b4;stroke:#333333;\" x=\"249.223089\" xlink:href=\"#m00f956e56a\" y=\"90.999539\"/>\n",
       "     <use style=\"fill:#1f77b4;stroke:#333333;\" x=\"118.387936\" xlink:href=\"#m00f956e56a\" y=\"222.197319\"/>\n",
       "     <use style=\"fill:#1f77b4;stroke:#333333;\" x=\"108.710707\" xlink:href=\"#m00f956e56a\" y=\"210.741125\"/>\n",
       "     <use style=\"fill:#1f77b4;stroke:#333333;\" x=\"94.960359\" xlink:href=\"#m00f956e56a\" y=\"193.355747\"/>\n",
       "     <use style=\"fill:#1f77b4;stroke:#333333;\" x=\"95.804305\" xlink:href=\"#m00f956e56a\" y=\"190.997518\"/>\n",
       "     <use style=\"fill:#1f77b4;stroke:#333333;\" x=\"239.509346\" xlink:href=\"#m00f956e56a\" y=\"54.496271\"/>\n",
       "     <use style=\"fill:#1f77b4;stroke:#333333;\" x=\"226.971018\" xlink:href=\"#m00f956e56a\" y=\"89.462105\"/>\n",
       "     <use style=\"fill:#1f77b4;stroke:#333333;\" x=\"94.916859\" xlink:href=\"#m00f956e56a\" y=\"198.962686\"/>\n",
       "     <use style=\"fill:#1f77b4;stroke:#333333;\" x=\"106.991269\" xlink:href=\"#m00f956e56a\" y=\"190.119326\"/>\n",
       "     <use style=\"fill:#1f77b4;stroke:#333333;\" x=\"108.567957\" xlink:href=\"#m00f956e56a\" y=\"197.531041\"/>\n",
       "     <use style=\"fill:#1f77b4;stroke:#333333;\" x=\"239.227411\" xlink:href=\"#m00f956e56a\" y=\"37.893897\"/>\n",
       "     <use style=\"fill:#1f77b4;stroke:#333333;\" x=\"238.317384\" xlink:href=\"#m00f956e56a\" y=\"36.021226\"/>\n",
       "     <use style=\"fill:#1f77b4;stroke:#333333;\" x=\"96.994499\" xlink:href=\"#m00f956e56a\" y=\"211.79954\"/>\n",
       "     <use style=\"fill:#1f77b4;stroke:#333333;\" x=\"250.032038\" xlink:href=\"#m00f956e56a\" y=\"38.007226\"/>\n",
       "     <use style=\"fill:#1f77b4;stroke:#333333;\" x=\"232.359401\" xlink:href=\"#m00f956e56a\" y=\"73.3692\"/>\n",
       "     <use style=\"fill:#1f77b4;stroke:#333333;\" x=\"248.199716\" xlink:href=\"#m00f956e56a\" y=\"33.797493\"/>\n",
       "     <use style=\"fill:#1f77b4;stroke:#333333;\" x=\"88.429047\" xlink:href=\"#m00f956e56a\" y=\"196.343137\"/>\n",
       "     <use style=\"fill:#1f77b4;stroke:#333333;\" x=\"234.27057\" xlink:href=\"#m00f956e56a\" y=\"48.50558\"/>\n",
       "     <use style=\"fill:#1f77b4;stroke:#333333;\" x=\"98.536004\" xlink:href=\"#m00f956e56a\" y=\"216.294179\"/>\n",
       "     <use style=\"fill:#1f77b4;stroke:#333333;\" x=\"107.800107\" xlink:href=\"#m00f956e56a\" y=\"207.926453\"/>\n",
       "     <use style=\"fill:#1f77b4;stroke:#333333;\" x=\"87.726796\" xlink:href=\"#m00f956e56a\" y=\"194.572188\"/>\n",
       "     <use style=\"fill:#1f77b4;stroke:#333333;\" x=\"212.816998\" xlink:href=\"#m00f956e56a\" y=\"54.467641\"/>\n",
       "     <use style=\"fill:#1f77b4;stroke:#333333;\" x=\"225.168168\" xlink:href=\"#m00f956e56a\" y=\"48.348216\"/>\n",
       "     <use style=\"fill:#1f77b4;stroke:#333333;\" x=\"202.642744\" xlink:href=\"#m00f956e56a\" y=\"45.13765\"/>\n",
       "     <use style=\"fill:#1f77b4;stroke:#333333;\" x=\"86.981531\" xlink:href=\"#m00f956e56a\" y=\"194.89677\"/>\n",
       "     <use style=\"fill:#1f77b4;stroke:#333333;\" x=\"116.687423\" xlink:href=\"#m00f956e56a\" y=\"210.643828\"/>\n",
       "     <use style=\"fill:#1f77b4;stroke:#333333;\" x=\"91.776781\" xlink:href=\"#m00f956e56a\" y=\"213.543031\"/>\n",
       "     <use style=\"fill:#1f77b4;stroke:#333333;\" x=\"225.892096\" xlink:href=\"#m00f956e56a\" y=\"92.064122\"/>\n",
       "     <use style=\"fill:#1f77b4;stroke:#333333;\" x=\"102.087238\" xlink:href=\"#m00f956e56a\" y=\"198.740065\"/>\n",
       "     <use style=\"fill:#1f77b4;stroke:#333333;\" x=\"94.905243\" xlink:href=\"#m00f956e56a\" y=\"192.46262\"/>\n",
       "     <use style=\"fill:#1f77b4;stroke:#333333;\" x=\"89.515988\" xlink:href=\"#m00f956e56a\" y=\"203.757936\"/>\n",
       "     <use style=\"fill:#1f77b4;stroke:#333333;\" x=\"99.167164\" xlink:href=\"#m00f956e56a\" y=\"211.899265\"/>\n",
       "     <use style=\"fill:#1f77b4;stroke:#333333;\" x=\"211.577945\" xlink:href=\"#m00f956e56a\" y=\"58.574265\"/>\n",
       "     <use style=\"fill:#1f77b4;stroke:#333333;\" x=\"220.751413\" xlink:href=\"#m00f956e56a\" y=\"41.850088\"/>\n",
       "     <use style=\"fill:#1f77b4;stroke:#333333;\" x=\"72.137778\" xlink:href=\"#m00f956e56a\" y=\"218.262582\"/>\n",
       "     <use style=\"fill:#1f77b4;stroke:#333333;\" x=\"235.916363\" xlink:href=\"#m00f956e56a\" y=\"81.620158\"/>\n",
       "    </g>\n",
       "   </g>\n",
       "   <g id=\"PathCollection_2\">\n",
       "    <defs>\n",
       "     <path d=\"M 0 3 \n",
       "C 0.795609 3 1.55874 2.683901 2.12132 2.12132 \n",
       "C 2.683901 1.55874 3 0.795609 3 0 \n",
       "C 3 -0.795609 2.683901 -1.55874 2.12132 -2.12132 \n",
       "C 1.55874 -2.683901 0.795609 -3 0 -3 \n",
       "C -0.795609 -3 -1.55874 -2.683901 -2.12132 -2.12132 \n",
       "C -2.683901 -1.55874 -3 -0.795609 -3 0 \n",
       "C -3 0.795609 -2.683901 1.55874 -2.12132 2.12132 \n",
       "C -1.55874 2.683901 -0.795609 3 0 3 \n",
       "z\n",
       "\" id=\"m9a436396b8\" style=\"stroke:#333333;\"/>\n",
       "    </defs>\n",
       "    <g clip-path=\"url(#p998531341d)\">\n",
       "     <use style=\"fill:#ff7f0e;stroke:#333333;\" x=\"230.877063\" xlink:href=\"#m9a436396b8\" y=\"184.064459\"/>\n",
       "     <use style=\"fill:#ff7f0e;stroke:#333333;\" x=\"243.842427\" xlink:href=\"#m9a436396b8\" y=\"184.340261\"/>\n",
       "     <use style=\"fill:#ff7f0e;stroke:#333333;\" x=\"232.017097\" xlink:href=\"#m9a436396b8\" y=\"202.441215\"/>\n",
       "     <use style=\"fill:#ff7f0e;stroke:#333333;\" x=\"89.746376\" xlink:href=\"#m9a436396b8\" y=\"45.851439\"/>\n",
       "     <use style=\"fill:#ff7f0e;stroke:#333333;\" x=\"250.686437\" xlink:href=\"#m9a436396b8\" y=\"205.161614\"/>\n",
       "     <use style=\"fill:#ff7f0e;stroke:#333333;\" x=\"100.400405\" xlink:href=\"#m9a436396b8\" y=\"64.372734\"/>\n",
       "     <use style=\"fill:#ff7f0e;stroke:#333333;\" x=\"219.862038\" xlink:href=\"#m9a436396b8\" y=\"215.105614\"/>\n",
       "     <use style=\"fill:#ff7f0e;stroke:#333333;\" x=\"130.59866\" xlink:href=\"#m9a436396b8\" y=\"60.339707\"/>\n",
       "     <use style=\"fill:#ff7f0e;stroke:#333333;\" x=\"247.536058\" xlink:href=\"#m9a436396b8\" y=\"221.068731\"/>\n",
       "     <use style=\"fill:#ff7f0e;stroke:#333333;\" x=\"214.797166\" xlink:href=\"#m9a436396b8\" y=\"188.801084\"/>\n",
       "     <use style=\"fill:#ff7f0e;stroke:#333333;\" x=\"229.906907\" xlink:href=\"#m9a436396b8\" y=\"176.011923\"/>\n",
       "     <use style=\"fill:#ff7f0e;stroke:#333333;\" x=\"65.731142\" xlink:href=\"#m9a436396b8\" y=\"45.008831\"/>\n",
       "     <use style=\"fill:#ff7f0e;stroke:#333333;\" x=\"116.585574\" xlink:href=\"#m9a436396b8\" y=\"45.994237\"/>\n",
       "     <use style=\"fill:#ff7f0e;stroke:#333333;\" x=\"96.4775\" xlink:href=\"#m9a436396b8\" y=\"77.572203\"/>\n",
       "     <use style=\"fill:#ff7f0e;stroke:#333333;\" x=\"96.788387\" xlink:href=\"#m9a436396b8\" y=\"42.484313\"/>\n",
       "     <use style=\"fill:#ff7f0e;stroke:#333333;\" x=\"75.708547\" xlink:href=\"#m9a436396b8\" y=\"39.362608\"/>\n",
       "     <use style=\"fill:#ff7f0e;stroke:#333333;\" x=\"233.922057\" xlink:href=\"#m9a436396b8\" y=\"205.322233\"/>\n",
       "     <use style=\"fill:#ff7f0e;stroke:#333333;\" x=\"216.28277\" xlink:href=\"#m9a436396b8\" y=\"183.914717\"/>\n",
       "     <use style=\"fill:#ff7f0e;stroke:#333333;\" x=\"225.945553\" xlink:href=\"#m9a436396b8\" y=\"186.021764\"/>\n",
       "     <use style=\"fill:#ff7f0e;stroke:#333333;\" x=\"107.888844\" xlink:href=\"#m9a436396b8\" y=\"59.992966\"/>\n",
       "     <use style=\"fill:#ff7f0e;stroke:#333333;\" x=\"212.266314\" xlink:href=\"#m9a436396b8\" y=\"195.521501\"/>\n",
       "     <use style=\"fill:#ff7f0e;stroke:#333333;\" x=\"257.089413\" xlink:href=\"#m9a436396b8\" y=\"204.08342\"/>\n",
       "     <use style=\"fill:#ff7f0e;stroke:#333333;\" x=\"248.528097\" xlink:href=\"#m9a436396b8\" y=\"201.600425\"/>\n",
       "     <use style=\"fill:#ff7f0e;stroke:#333333;\" x=\"223.275659\" xlink:href=\"#m9a436396b8\" y=\"205.687898\"/>\n",
       "     <use style=\"fill:#ff7f0e;stroke:#333333;\" x=\"254.62465\" xlink:href=\"#m9a436396b8\" y=\"179.518498\"/>\n",
       "     <use style=\"fill:#ff7f0e;stroke:#333333;\" x=\"83.200733\" xlink:href=\"#m9a436396b8\" y=\"71.126184\"/>\n",
       "     <use style=\"fill:#ff7f0e;stroke:#333333;\" x=\"251.724096\" xlink:href=\"#m9a436396b8\" y=\"182.510698\"/>\n",
       "     <use style=\"fill:#ff7f0e;stroke:#333333;\" x=\"110.819287\" xlink:href=\"#m9a436396b8\" y=\"55.774959\"/>\n",
       "     <use style=\"fill:#ff7f0e;stroke:#333333;\" x=\"232.126351\" xlink:href=\"#m9a436396b8\" y=\"181.775374\"/>\n",
       "     <use style=\"fill:#ff7f0e;stroke:#333333;\" x=\"68.497902\" xlink:href=\"#m9a436396b8\" y=\"57.662146\"/>\n",
       "     <use style=\"fill:#ff7f0e;stroke:#333333;\" x=\"95.226666\" xlink:href=\"#m9a436396b8\" y=\"66.990484\"/>\n",
       "     <use style=\"fill:#ff7f0e;stroke:#333333;\" x=\"223.392974\" xlink:href=\"#m9a436396b8\" y=\"212.375041\"/>\n",
       "     <use style=\"fill:#ff7f0e;stroke:#333333;\" x=\"214.945261\" xlink:href=\"#m9a436396b8\" y=\"186.328734\"/>\n",
       "     <use style=\"fill:#ff7f0e;stroke:#333333;\" x=\"100.205618\" xlink:href=\"#m9a436396b8\" y=\"61.423422\"/>\n",
       "     <use style=\"fill:#ff7f0e;stroke:#333333;\" x=\"244.127174\" xlink:href=\"#m9a436396b8\" y=\"187.069023\"/>\n",
       "     <use style=\"fill:#ff7f0e;stroke:#333333;\" x=\"100.782099\" xlink:href=\"#m9a436396b8\" y=\"69.452204\"/>\n",
       "     <use style=\"fill:#ff7f0e;stroke:#333333;\" x=\"97.685973\" xlink:href=\"#m9a436396b8\" y=\"72.257232\"/>\n",
       "     <use style=\"fill:#ff7f0e;stroke:#333333;\" x=\"261.24119\" xlink:href=\"#m9a436396b8\" y=\"213.073602\"/>\n",
       "     <use style=\"fill:#ff7f0e;stroke:#333333;\" x=\"231.536281\" xlink:href=\"#m9a436396b8\" y=\"183.208803\"/>\n",
       "     <use style=\"fill:#ff7f0e;stroke:#333333;\" x=\"84.432042\" xlink:href=\"#m9a436396b8\" y=\"56.491819\"/>\n",
       "     <use style=\"fill:#ff7f0e;stroke:#333333;\" x=\"114.704427\" xlink:href=\"#m9a436396b8\" y=\"58.587926\"/>\n",
       "     <use style=\"fill:#ff7f0e;stroke:#333333;\" x=\"118.139583\" xlink:href=\"#m9a436396b8\" y=\"40.639434\"/>\n",
       "     <use style=\"fill:#ff7f0e;stroke:#333333;\" x=\"244.331312\" xlink:href=\"#m9a436396b8\" y=\"209.984157\"/>\n",
       "     <use style=\"fill:#ff7f0e;stroke:#333333;\" x=\"84.937455\" xlink:href=\"#m9a436396b8\" y=\"60.733388\"/>\n",
       "     <use style=\"fill:#ff7f0e;stroke:#333333;\" x=\"229.111028\" xlink:href=\"#m9a436396b8\" y=\"188.491788\"/>\n",
       "     <use style=\"fill:#ff7f0e;stroke:#333333;\" x=\"99.865846\" xlink:href=\"#m9a436396b8\" y=\"74.521377\"/>\n",
       "     <use style=\"fill:#ff7f0e;stroke:#333333;\" x=\"107.774522\" xlink:href=\"#m9a436396b8\" y=\"50.680713\"/>\n",
       "     <use style=\"fill:#ff7f0e;stroke:#333333;\" x=\"106.681533\" xlink:href=\"#m9a436396b8\" y=\"54.197282\"/>\n",
       "     <use style=\"fill:#ff7f0e;stroke:#333333;\" x=\"220.300095\" xlink:href=\"#m9a436396b8\" y=\"189.409162\"/>\n",
       "     <use style=\"fill:#ff7f0e;stroke:#333333;\" x=\"84.93114\" xlink:href=\"#m9a436396b8\" y=\"78.604599\"/>\n",
       "     <use style=\"fill:#ff7f0e;stroke:#333333;\" x=\"105.491498\" xlink:href=\"#m9a436396b8\" y=\"48.675045\"/>\n",
       "     <use style=\"fill:#ff7f0e;stroke:#333333;\" x=\"212.017878\" xlink:href=\"#m9a436396b8\" y=\"185.380972\"/>\n",
       "     <use style=\"fill:#ff7f0e;stroke:#333333;\" x=\"238.780524\" xlink:href=\"#m9a436396b8\" y=\"214.332575\"/>\n",
       "     <use style=\"fill:#ff7f0e;stroke:#333333;\" x=\"102.920944\" xlink:href=\"#m9a436396b8\" y=\"49.194851\"/>\n",
       "     <use style=\"fill:#ff7f0e;stroke:#333333;\" x=\"109.227118\" xlink:href=\"#m9a436396b8\" y=\"68.69468\"/>\n",
       "     <use style=\"fill:#ff7f0e;stroke:#333333;\" x=\"218.916511\" xlink:href=\"#m9a436396b8\" y=\"198.5437\"/>\n",
       "     <use style=\"fill:#ff7f0e;stroke:#333333;\" x=\"210.412471\" xlink:href=\"#m9a436396b8\" y=\"201.294091\"/>\n",
       "     <use style=\"fill:#ff7f0e;stroke:#333333;\" x=\"106.409234\" xlink:href=\"#m9a436396b8\" y=\"63.165772\"/>\n",
       "     <use style=\"fill:#ff7f0e;stroke:#333333;\" x=\"62.306392\" xlink:href=\"#m9a436396b8\" y=\"70.4775\"/>\n",
       "     <use style=\"fill:#ff7f0e;stroke:#333333;\" x=\"91.834453\" xlink:href=\"#m9a436396b8\" y=\"78.564893\"/>\n",
       "     <use style=\"fill:#ff7f0e;stroke:#333333;\" x=\"109.483259\" xlink:href=\"#m9a436396b8\" y=\"52.708383\"/>\n",
       "     <use style=\"fill:#ff7f0e;stroke:#333333;\" x=\"87.52736\" xlink:href=\"#m9a436396b8\" y=\"64.035928\"/>\n",
       "     <use style=\"fill:#ff7f0e;stroke:#333333;\" x=\"94.034599\" xlink:href=\"#m9a436396b8\" y=\"56.433368\"/>\n",
       "     <use style=\"fill:#ff7f0e;stroke:#333333;\" x=\"110.113367\" xlink:href=\"#m9a436396b8\" y=\"69.173857\"/>\n",
       "     <use style=\"fill:#ff7f0e;stroke:#333333;\" x=\"257.318305\" xlink:href=\"#m9a436396b8\" y=\"205.893872\"/>\n",
       "     <use style=\"fill:#ff7f0e;stroke:#333333;\" x=\"79.762115\" xlink:href=\"#m9a436396b8\" y=\"40.196254\"/>\n",
       "     <use style=\"fill:#ff7f0e;stroke:#333333;\" x=\"258.048499\" xlink:href=\"#m9a436396b8\" y=\"188.24511\"/>\n",
       "     <use style=\"fill:#ff7f0e;stroke:#333333;\" x=\"244.789162\" xlink:href=\"#m9a436396b8\" y=\"174.836438\"/>\n",
       "     <use style=\"fill:#ff7f0e;stroke:#333333;\" x=\"214.47439\" xlink:href=\"#m9a436396b8\" y=\"215.053945\"/>\n",
       "     <use style=\"fill:#ff7f0e;stroke:#333333;\" x=\"218.387835\" xlink:href=\"#m9a436396b8\" y=\"231.325231\"/>\n",
       "     <use style=\"fill:#ff7f0e;stroke:#333333;\" x=\"98.247032\" xlink:href=\"#m9a436396b8\" y=\"41.725431\"/>\n",
       "     <use style=\"fill:#ff7f0e;stroke:#333333;\" x=\"221.09122\" xlink:href=\"#m9a436396b8\" y=\"182.071913\"/>\n",
       "     <use style=\"fill:#ff7f0e;stroke:#333333;\" x=\"207.783237\" xlink:href=\"#m9a436396b8\" y=\"167.860073\"/>\n",
       "     <use style=\"fill:#ff7f0e;stroke:#333333;\" x=\"84.486389\" xlink:href=\"#m9a436396b8\" y=\"47.613063\"/>\n",
       "     <use style=\"fill:#ff7f0e;stroke:#333333;\" x=\"108.320496\" xlink:href=\"#m9a436396b8\" y=\"60.592713\"/>\n",
       "     <use style=\"fill:#ff7f0e;stroke:#333333;\" x=\"247.02495\" xlink:href=\"#m9a436396b8\" y=\"187.512004\"/>\n",
       "     <use style=\"fill:#ff7f0e;stroke:#333333;\" x=\"92.024123\" xlink:href=\"#m9a436396b8\" y=\"51.977778\"/>\n",
       "     <use style=\"fill:#ff7f0e;stroke:#333333;\" x=\"103.976033\" xlink:href=\"#m9a436396b8\" y=\"62.358549\"/>\n",
       "     <use style=\"fill:#ff7f0e;stroke:#333333;\" x=\"102.375453\" xlink:href=\"#m9a436396b8\" y=\"65.661131\"/>\n",
       "     <use style=\"fill:#ff7f0e;stroke:#333333;\" x=\"230.527021\" xlink:href=\"#m9a436396b8\" y=\"180.24788\"/>\n",
       "     <use style=\"fill:#ff7f0e;stroke:#333333;\" x=\"238.484799\" xlink:href=\"#m9a436396b8\" y=\"170.843528\"/>\n",
       "     <use style=\"fill:#ff7f0e;stroke:#333333;\" x=\"247.340005\" xlink:href=\"#m9a436396b8\" y=\"188.41563\"/>\n",
       "     <use style=\"fill:#ff7f0e;stroke:#333333;\" x=\"134.8086\" xlink:href=\"#m9a436396b8\" y=\"60.039544\"/>\n",
       "     <use style=\"fill:#ff7f0e;stroke:#333333;\" x=\"213.726653\" xlink:href=\"#m9a436396b8\" y=\"217.37803\"/>\n",
       "     <use style=\"fill:#ff7f0e;stroke:#333333;\" x=\"265.215483\" xlink:href=\"#m9a436396b8\" y=\"216.407409\"/>\n",
       "     <use style=\"fill:#ff7f0e;stroke:#333333;\" x=\"226.839442\" xlink:href=\"#m9a436396b8\" y=\"213.313899\"/>\n",
       "     <use style=\"fill:#ff7f0e;stroke:#333333;\" x=\"88.454985\" xlink:href=\"#m9a436396b8\" y=\"70.745677\"/>\n",
       "     <use style=\"fill:#ff7f0e;stroke:#333333;\" x=\"86.200641\" xlink:href=\"#m9a436396b8\" y=\"60.036238\"/>\n",
       "     <use style=\"fill:#ff7f0e;stroke:#333333;\" x=\"249.708568\" xlink:href=\"#m9a436396b8\" y=\"216.244964\"/>\n",
       "     <use style=\"fill:#ff7f0e;stroke:#333333;\" x=\"86.639713\" xlink:href=\"#m9a436396b8\" y=\"67.616948\"/>\n",
       "     <use style=\"fill:#ff7f0e;stroke:#333333;\" x=\"72.549088\" xlink:href=\"#m9a436396b8\" y=\"62.572016\"/>\n",
       "     <use style=\"fill:#ff7f0e;stroke:#333333;\" x=\"116.327234\" xlink:href=\"#m9a436396b8\" y=\"49.138967\"/>\n",
       "     <use style=\"fill:#ff7f0e;stroke:#333333;\" x=\"89.624632\" xlink:href=\"#m9a436396b8\" y=\"52.173154\"/>\n",
       "     <use style=\"fill:#ff7f0e;stroke:#333333;\" x=\"257.369976\" xlink:href=\"#m9a436396b8\" y=\"213.711341\"/>\n",
       "     <use style=\"fill:#ff7f0e;stroke:#333333;\" x=\"209.334228\" xlink:href=\"#m9a436396b8\" y=\"195.325995\"/>\n",
       "     <use style=\"fill:#ff7f0e;stroke:#333333;\" x=\"98.138755\" xlink:href=\"#m9a436396b8\" y=\"45.008294\"/>\n",
       "     <use style=\"fill:#ff7f0e;stroke:#333333;\" x=\"254.619078\" xlink:href=\"#m9a436396b8\" y=\"211.240618\"/>\n",
       "    </g>\n",
       "   </g>\n",
       "   <g id=\"matplotlib.axis_1\">\n",
       "    <g id=\"xtick_1\">\n",
       "     <g id=\"line2d_1\">\n",
       "      <defs>\n",
       "       <path d=\"M 0 0 \n",
       "L 0 3.5 \n",
       "\" id=\"m37c7d14f71\" style=\"stroke:#000000;stroke-width:0.8;\"/>\n",
       "      </defs>\n",
       "      <g>\n",
       "       <use style=\"stroke:#000000;stroke-width:0.8;\" x=\"62.596276\" xlink:href=\"#m37c7d14f71\" y=\"244.078125\"/>\n",
       "      </g>\n",
       "     </g>\n",
       "     <g id=\"text_1\">\n",
       "      <!-- −0.25 -->\n",
       "      <g transform=\"translate(47.27362 258.676562)scale(0.1 -0.1)\">\n",
       "       <defs>\n",
       "        <path d=\"M 10.59375 35.5 \n",
       "L 73.1875 35.5 \n",
       "L 73.1875 27.203125 \n",
       "L 10.59375 27.203125 \n",
       "z\n",
       "\" id=\"DejaVuSans-8722\"/>\n",
       "        <path d=\"M 31.78125 66.40625 \n",
       "Q 24.171875 66.40625 20.328125 58.90625 \n",
       "Q 16.5 51.421875 16.5 36.375 \n",
       "Q 16.5 21.390625 20.328125 13.890625 \n",
       "Q 24.171875 6.390625 31.78125 6.390625 \n",
       "Q 39.453125 6.390625 43.28125 13.890625 \n",
       "Q 47.125 21.390625 47.125 36.375 \n",
       "Q 47.125 51.421875 43.28125 58.90625 \n",
       "Q 39.453125 66.40625 31.78125 66.40625 \n",
       "z\n",
       "M 31.78125 74.21875 \n",
       "Q 44.046875 74.21875 50.515625 64.515625 \n",
       "Q 56.984375 54.828125 56.984375 36.375 \n",
       "Q 56.984375 17.96875 50.515625 8.265625 \n",
       "Q 44.046875 -1.421875 31.78125 -1.421875 \n",
       "Q 19.53125 -1.421875 13.0625 8.265625 \n",
       "Q 6.59375 17.96875 6.59375 36.375 \n",
       "Q 6.59375 54.828125 13.0625 64.515625 \n",
       "Q 19.53125 74.21875 31.78125 74.21875 \n",
       "z\n",
       "\" id=\"DejaVuSans-48\"/>\n",
       "        <path d=\"M 10.6875 12.40625 \n",
       "L 21 12.40625 \n",
       "L 21 0 \n",
       "L 10.6875 0 \n",
       "z\n",
       "\" id=\"DejaVuSans-46\"/>\n",
       "        <path d=\"M 19.1875 8.296875 \n",
       "L 53.609375 8.296875 \n",
       "L 53.609375 0 \n",
       "L 7.328125 0 \n",
       "L 7.328125 8.296875 \n",
       "Q 12.9375 14.109375 22.625 23.890625 \n",
       "Q 32.328125 33.6875 34.8125 36.53125 \n",
       "Q 39.546875 41.84375 41.421875 45.53125 \n",
       "Q 43.3125 49.21875 43.3125 52.78125 \n",
       "Q 43.3125 58.59375 39.234375 62.25 \n",
       "Q 35.15625 65.921875 28.609375 65.921875 \n",
       "Q 23.96875 65.921875 18.8125 64.3125 \n",
       "Q 13.671875 62.703125 7.8125 59.421875 \n",
       "L 7.8125 69.390625 \n",
       "Q 13.765625 71.78125 18.9375 73 \n",
       "Q 24.125 74.21875 28.421875 74.21875 \n",
       "Q 39.75 74.21875 46.484375 68.546875 \n",
       "Q 53.21875 62.890625 53.21875 53.421875 \n",
       "Q 53.21875 48.921875 51.53125 44.890625 \n",
       "Q 49.859375 40.875 45.40625 35.40625 \n",
       "Q 44.1875 33.984375 37.640625 27.21875 \n",
       "Q 31.109375 20.453125 19.1875 8.296875 \n",
       "z\n",
       "\" id=\"DejaVuSans-50\"/>\n",
       "        <path d=\"M 10.796875 72.90625 \n",
       "L 49.515625 72.90625 \n",
       "L 49.515625 64.59375 \n",
       "L 19.828125 64.59375 \n",
       "L 19.828125 46.734375 \n",
       "Q 21.96875 47.46875 24.109375 47.828125 \n",
       "Q 26.265625 48.1875 28.421875 48.1875 \n",
       "Q 40.625 48.1875 47.75 41.5 \n",
       "Q 54.890625 34.8125 54.890625 23.390625 \n",
       "Q 54.890625 11.625 47.5625 5.09375 \n",
       "Q 40.234375 -1.421875 26.90625 -1.421875 \n",
       "Q 22.3125 -1.421875 17.546875 -0.640625 \n",
       "Q 12.796875 0.140625 7.71875 1.703125 \n",
       "L 7.71875 11.625 \n",
       "Q 12.109375 9.234375 16.796875 8.0625 \n",
       "Q 21.484375 6.890625 26.703125 6.890625 \n",
       "Q 35.15625 6.890625 40.078125 11.328125 \n",
       "Q 45.015625 15.765625 45.015625 23.390625 \n",
       "Q 45.015625 31 40.078125 35.4375 \n",
       "Q 35.15625 39.890625 26.703125 39.890625 \n",
       "Q 22.75 39.890625 18.8125 39.015625 \n",
       "Q 14.890625 38.140625 10.796875 36.28125 \n",
       "z\n",
       "\" id=\"DejaVuSans-53\"/>\n",
       "       </defs>\n",
       "       <use xlink:href=\"#DejaVuSans-8722\"/>\n",
       "       <use x=\"83.789062\" xlink:href=\"#DejaVuSans-48\"/>\n",
       "       <use x=\"147.412109\" xlink:href=\"#DejaVuSans-46\"/>\n",
       "       <use x=\"179.199219\" xlink:href=\"#DejaVuSans-50\"/>\n",
       "       <use x=\"242.822266\" xlink:href=\"#DejaVuSans-53\"/>\n",
       "      </g>\n",
       "     </g>\n",
       "    </g>\n",
       "    <g id=\"xtick_2\">\n",
       "     <g id=\"line2d_2\">\n",
       "      <g>\n",
       "       <use style=\"stroke:#000000;stroke-width:0.8;\" x=\"97.272305\" xlink:href=\"#m37c7d14f71\" y=\"244.078125\"/>\n",
       "      </g>\n",
       "     </g>\n",
       "     <g id=\"text_2\">\n",
       "      <!-- 0.00 -->\n",
       "      <g transform=\"translate(86.139492 258.676562)scale(0.1 -0.1)\">\n",
       "       <use xlink:href=\"#DejaVuSans-48\"/>\n",
       "       <use x=\"63.623047\" xlink:href=\"#DejaVuSans-46\"/>\n",
       "       <use x=\"95.410156\" xlink:href=\"#DejaVuSans-48\"/>\n",
       "       <use x=\"159.033203\" xlink:href=\"#DejaVuSans-48\"/>\n",
       "      </g>\n",
       "     </g>\n",
       "    </g>\n",
       "    <g id=\"xtick_3\">\n",
       "     <g id=\"line2d_3\">\n",
       "      <g>\n",
       "       <use style=\"stroke:#000000;stroke-width:0.8;\" x=\"131.948333\" xlink:href=\"#m37c7d14f71\" y=\"244.078125\"/>\n",
       "      </g>\n",
       "     </g>\n",
       "     <g id=\"text_3\">\n",
       "      <!-- 0.25 -->\n",
       "      <g transform=\"translate(120.81552 258.676562)scale(0.1 -0.1)\">\n",
       "       <use xlink:href=\"#DejaVuSans-48\"/>\n",
       "       <use x=\"63.623047\" xlink:href=\"#DejaVuSans-46\"/>\n",
       "       <use x=\"95.410156\" xlink:href=\"#DejaVuSans-50\"/>\n",
       "       <use x=\"159.033203\" xlink:href=\"#DejaVuSans-53\"/>\n",
       "      </g>\n",
       "     </g>\n",
       "    </g>\n",
       "    <g id=\"xtick_4\">\n",
       "     <g id=\"line2d_4\">\n",
       "      <g>\n",
       "       <use style=\"stroke:#000000;stroke-width:0.8;\" x=\"166.624361\" xlink:href=\"#m37c7d14f71\" y=\"244.078125\"/>\n",
       "      </g>\n",
       "     </g>\n",
       "     <g id=\"text_4\">\n",
       "      <!-- 0.50 -->\n",
       "      <g transform=\"translate(155.491548 258.676562)scale(0.1 -0.1)\">\n",
       "       <use xlink:href=\"#DejaVuSans-48\"/>\n",
       "       <use x=\"63.623047\" xlink:href=\"#DejaVuSans-46\"/>\n",
       "       <use x=\"95.410156\" xlink:href=\"#DejaVuSans-53\"/>\n",
       "       <use x=\"159.033203\" xlink:href=\"#DejaVuSans-48\"/>\n",
       "      </g>\n",
       "     </g>\n",
       "    </g>\n",
       "    <g id=\"xtick_5\">\n",
       "     <g id=\"line2d_5\">\n",
       "      <g>\n",
       "       <use style=\"stroke:#000000;stroke-width:0.8;\" x=\"201.300389\" xlink:href=\"#m37c7d14f71\" y=\"244.078125\"/>\n",
       "      </g>\n",
       "     </g>\n",
       "     <g id=\"text_5\">\n",
       "      <!-- 0.75 -->\n",
       "      <g transform=\"translate(190.167577 258.676562)scale(0.1 -0.1)\">\n",
       "       <defs>\n",
       "        <path d=\"M 8.203125 72.90625 \n",
       "L 55.078125 72.90625 \n",
       "L 55.078125 68.703125 \n",
       "L 28.609375 0 \n",
       "L 18.3125 0 \n",
       "L 43.21875 64.59375 \n",
       "L 8.203125 64.59375 \n",
       "z\n",
       "\" id=\"DejaVuSans-55\"/>\n",
       "       </defs>\n",
       "       <use xlink:href=\"#DejaVuSans-48\"/>\n",
       "       <use x=\"63.623047\" xlink:href=\"#DejaVuSans-46\"/>\n",
       "       <use x=\"95.410156\" xlink:href=\"#DejaVuSans-55\"/>\n",
       "       <use x=\"159.033203\" xlink:href=\"#DejaVuSans-53\"/>\n",
       "      </g>\n",
       "     </g>\n",
       "    </g>\n",
       "    <g id=\"xtick_6\">\n",
       "     <g id=\"line2d_6\">\n",
       "      <g>\n",
       "       <use style=\"stroke:#000000;stroke-width:0.8;\" x=\"235.976417\" xlink:href=\"#m37c7d14f71\" y=\"244.078125\"/>\n",
       "      </g>\n",
       "     </g>\n",
       "     <g id=\"text_6\">\n",
       "      <!-- 1.00 -->\n",
       "      <g transform=\"translate(224.843605 258.676562)scale(0.1 -0.1)\">\n",
       "       <defs>\n",
       "        <path d=\"M 12.40625 8.296875 \n",
       "L 28.515625 8.296875 \n",
       "L 28.515625 63.921875 \n",
       "L 10.984375 60.40625 \n",
       "L 10.984375 69.390625 \n",
       "L 28.421875 72.90625 \n",
       "L 38.28125 72.90625 \n",
       "L 38.28125 8.296875 \n",
       "L 54.390625 8.296875 \n",
       "L 54.390625 0 \n",
       "L 12.40625 0 \n",
       "z\n",
       "\" id=\"DejaVuSans-49\"/>\n",
       "       </defs>\n",
       "       <use xlink:href=\"#DejaVuSans-49\"/>\n",
       "       <use x=\"63.623047\" xlink:href=\"#DejaVuSans-46\"/>\n",
       "       <use x=\"95.410156\" xlink:href=\"#DejaVuSans-48\"/>\n",
       "       <use x=\"159.033203\" xlink:href=\"#DejaVuSans-48\"/>\n",
       "      </g>\n",
       "     </g>\n",
       "    </g>\n",
       "    <g id=\"xtick_7\">\n",
       "     <g id=\"line2d_7\">\n",
       "      <g>\n",
       "       <use style=\"stroke:#000000;stroke-width:0.8;\" x=\"270.652446\" xlink:href=\"#m37c7d14f71\" y=\"244.078125\"/>\n",
       "      </g>\n",
       "     </g>\n",
       "     <g id=\"text_7\">\n",
       "      <!-- 1.25 -->\n",
       "      <g transform=\"translate(259.519633 258.676562)scale(0.1 -0.1)\">\n",
       "       <use xlink:href=\"#DejaVuSans-49\"/>\n",
       "       <use x=\"63.623047\" xlink:href=\"#DejaVuSans-46\"/>\n",
       "       <use x=\"95.410156\" xlink:href=\"#DejaVuSans-50\"/>\n",
       "       <use x=\"159.033203\" xlink:href=\"#DejaVuSans-53\"/>\n",
       "      </g>\n",
       "     </g>\n",
       "    </g>\n",
       "    <g id=\"text_8\">\n",
       "     <!-- $x_1$ -->\n",
       "     <g transform=\"translate(158.410938 272.354687)scale(0.1 -0.1)\">\n",
       "      <defs>\n",
       "       <path d=\"M 60.015625 54.6875 \n",
       "L 34.90625 27.875 \n",
       "L 50.296875 0 \n",
       "L 39.984375 0 \n",
       "L 28.421875 21.6875 \n",
       "L 8.296875 0 \n",
       "L -2.59375 0 \n",
       "L 24.3125 28.8125 \n",
       "L 10.015625 54.6875 \n",
       "L 20.3125 54.6875 \n",
       "L 30.8125 34.90625 \n",
       "L 49.125 54.6875 \n",
       "z\n",
       "\" id=\"DejaVuSans-Oblique-120\"/>\n",
       "      </defs>\n",
       "      <use transform=\"translate(0 0.3125)\" xlink:href=\"#DejaVuSans-Oblique-120\"/>\n",
       "      <use transform=\"translate(59.179688 -16.09375)scale(0.7)\" xlink:href=\"#DejaVuSans-49\"/>\n",
       "     </g>\n",
       "    </g>\n",
       "   </g>\n",
       "   <g id=\"matplotlib.axis_2\">\n",
       "    <g id=\"ytick_1\">\n",
       "     <g id=\"line2d_8\">\n",
       "      <defs>\n",
       "       <path d=\"M 0 0 \n",
       "L -3.5 0 \n",
       "\" id=\"me26901cc0a\" style=\"stroke:#000000;stroke-width:0.8;\"/>\n",
       "      </defs>\n",
       "      <g>\n",
       "       <use style=\"stroke:#000000;stroke-width:0.8;\" x=\"52.160938\" xlink:href=\"#me26901cc0a\" y=\"227.948456\"/>\n",
       "      </g>\n",
       "     </g>\n",
       "     <g id=\"text_9\">\n",
       "      <!-- −0.2 -->\n",
       "      <g transform=\"translate(20.878125 231.747675)scale(0.1 -0.1)\">\n",
       "       <use xlink:href=\"#DejaVuSans-8722\"/>\n",
       "       <use x=\"83.789062\" xlink:href=\"#DejaVuSans-48\"/>\n",
       "       <use x=\"147.412109\" xlink:href=\"#DejaVuSans-46\"/>\n",
       "       <use x=\"179.199219\" xlink:href=\"#DejaVuSans-50\"/>\n",
       "      </g>\n",
       "     </g>\n",
       "    </g>\n",
       "    <g id=\"ytick_2\">\n",
       "     <g id=\"line2d_9\">\n",
       "      <g>\n",
       "       <use style=\"stroke:#000000;stroke-width:0.8;\" x=\"52.160938\" xlink:href=\"#me26901cc0a\" y=\"199.792918\"/>\n",
       "      </g>\n",
       "     </g>\n",
       "     <g id=\"text_10\">\n",
       "      <!-- 0.0 -->\n",
       "      <g transform=\"translate(29.257812 203.592137)scale(0.1 -0.1)\">\n",
       "       <use xlink:href=\"#DejaVuSans-48\"/>\n",
       "       <use x=\"63.623047\" xlink:href=\"#DejaVuSans-46\"/>\n",
       "       <use x=\"95.410156\" xlink:href=\"#DejaVuSans-48\"/>\n",
       "      </g>\n",
       "     </g>\n",
       "    </g>\n",
       "    <g id=\"ytick_3\">\n",
       "     <g id=\"line2d_10\">\n",
       "      <g>\n",
       "       <use style=\"stroke:#000000;stroke-width:0.8;\" x=\"52.160938\" xlink:href=\"#me26901cc0a\" y=\"171.63738\"/>\n",
       "      </g>\n",
       "     </g>\n",
       "     <g id=\"text_11\">\n",
       "      <!-- 0.2 -->\n",
       "      <g transform=\"translate(29.257812 175.436599)scale(0.1 -0.1)\">\n",
       "       <use xlink:href=\"#DejaVuSans-48\"/>\n",
       "       <use x=\"63.623047\" xlink:href=\"#DejaVuSans-46\"/>\n",
       "       <use x=\"95.410156\" xlink:href=\"#DejaVuSans-50\"/>\n",
       "      </g>\n",
       "     </g>\n",
       "    </g>\n",
       "    <g id=\"ytick_4\">\n",
       "     <g id=\"line2d_11\">\n",
       "      <g>\n",
       "       <use style=\"stroke:#000000;stroke-width:0.8;\" x=\"52.160938\" xlink:href=\"#me26901cc0a\" y=\"143.481843\"/>\n",
       "      </g>\n",
       "     </g>\n",
       "     <g id=\"text_12\">\n",
       "      <!-- 0.4 -->\n",
       "      <g transform=\"translate(29.257812 147.281061)scale(0.1 -0.1)\">\n",
       "       <defs>\n",
       "        <path d=\"M 37.796875 64.3125 \n",
       "L 12.890625 25.390625 \n",
       "L 37.796875 25.390625 \n",
       "z\n",
       "M 35.203125 72.90625 \n",
       "L 47.609375 72.90625 \n",
       "L 47.609375 25.390625 \n",
       "L 58.015625 25.390625 \n",
       "L 58.015625 17.1875 \n",
       "L 47.609375 17.1875 \n",
       "L 47.609375 0 \n",
       "L 37.796875 0 \n",
       "L 37.796875 17.1875 \n",
       "L 4.890625 17.1875 \n",
       "L 4.890625 26.703125 \n",
       "z\n",
       "\" id=\"DejaVuSans-52\"/>\n",
       "       </defs>\n",
       "       <use xlink:href=\"#DejaVuSans-48\"/>\n",
       "       <use x=\"63.623047\" xlink:href=\"#DejaVuSans-46\"/>\n",
       "       <use x=\"95.410156\" xlink:href=\"#DejaVuSans-52\"/>\n",
       "      </g>\n",
       "     </g>\n",
       "    </g>\n",
       "    <g id=\"ytick_5\">\n",
       "     <g id=\"line2d_12\">\n",
       "      <g>\n",
       "       <use style=\"stroke:#000000;stroke-width:0.8;\" x=\"52.160938\" xlink:href=\"#me26901cc0a\" y=\"115.326305\"/>\n",
       "      </g>\n",
       "     </g>\n",
       "     <g id=\"text_13\">\n",
       "      <!-- 0.6 -->\n",
       "      <g transform=\"translate(29.257812 119.125524)scale(0.1 -0.1)\">\n",
       "       <defs>\n",
       "        <path d=\"M 33.015625 40.375 \n",
       "Q 26.375 40.375 22.484375 35.828125 \n",
       "Q 18.609375 31.296875 18.609375 23.390625 \n",
       "Q 18.609375 15.53125 22.484375 10.953125 \n",
       "Q 26.375 6.390625 33.015625 6.390625 \n",
       "Q 39.65625 6.390625 43.53125 10.953125 \n",
       "Q 47.40625 15.53125 47.40625 23.390625 \n",
       "Q 47.40625 31.296875 43.53125 35.828125 \n",
       "Q 39.65625 40.375 33.015625 40.375 \n",
       "z\n",
       "M 52.59375 71.296875 \n",
       "L 52.59375 62.3125 \n",
       "Q 48.875 64.0625 45.09375 64.984375 \n",
       "Q 41.3125 65.921875 37.59375 65.921875 \n",
       "Q 27.828125 65.921875 22.671875 59.328125 \n",
       "Q 17.53125 52.734375 16.796875 39.40625 \n",
       "Q 19.671875 43.65625 24.015625 45.921875 \n",
       "Q 28.375 48.1875 33.59375 48.1875 \n",
       "Q 44.578125 48.1875 50.953125 41.515625 \n",
       "Q 57.328125 34.859375 57.328125 23.390625 \n",
       "Q 57.328125 12.15625 50.6875 5.359375 \n",
       "Q 44.046875 -1.421875 33.015625 -1.421875 \n",
       "Q 20.359375 -1.421875 13.671875 8.265625 \n",
       "Q 6.984375 17.96875 6.984375 36.375 \n",
       "Q 6.984375 53.65625 15.1875 63.9375 \n",
       "Q 23.390625 74.21875 37.203125 74.21875 \n",
       "Q 40.921875 74.21875 44.703125 73.484375 \n",
       "Q 48.484375 72.75 52.59375 71.296875 \n",
       "z\n",
       "\" id=\"DejaVuSans-54\"/>\n",
       "       </defs>\n",
       "       <use xlink:href=\"#DejaVuSans-48\"/>\n",
       "       <use x=\"63.623047\" xlink:href=\"#DejaVuSans-46\"/>\n",
       "       <use x=\"95.410156\" xlink:href=\"#DejaVuSans-54\"/>\n",
       "      </g>\n",
       "     </g>\n",
       "    </g>\n",
       "    <g id=\"ytick_6\">\n",
       "     <g id=\"line2d_13\">\n",
       "      <g>\n",
       "       <use style=\"stroke:#000000;stroke-width:0.8;\" x=\"52.160938\" xlink:href=\"#me26901cc0a\" y=\"87.170767\"/>\n",
       "      </g>\n",
       "     </g>\n",
       "     <g id=\"text_14\">\n",
       "      <!-- 0.8 -->\n",
       "      <g transform=\"translate(29.257812 90.969986)scale(0.1 -0.1)\">\n",
       "       <defs>\n",
       "        <path d=\"M 31.78125 34.625 \n",
       "Q 24.75 34.625 20.71875 30.859375 \n",
       "Q 16.703125 27.09375 16.703125 20.515625 \n",
       "Q 16.703125 13.921875 20.71875 10.15625 \n",
       "Q 24.75 6.390625 31.78125 6.390625 \n",
       "Q 38.8125 6.390625 42.859375 10.171875 \n",
       "Q 46.921875 13.96875 46.921875 20.515625 \n",
       "Q 46.921875 27.09375 42.890625 30.859375 \n",
       "Q 38.875 34.625 31.78125 34.625 \n",
       "z\n",
       "M 21.921875 38.8125 \n",
       "Q 15.578125 40.375 12.03125 44.71875 \n",
       "Q 8.5 49.078125 8.5 55.328125 \n",
       "Q 8.5 64.0625 14.71875 69.140625 \n",
       "Q 20.953125 74.21875 31.78125 74.21875 \n",
       "Q 42.671875 74.21875 48.875 69.140625 \n",
       "Q 55.078125 64.0625 55.078125 55.328125 \n",
       "Q 55.078125 49.078125 51.53125 44.71875 \n",
       "Q 48 40.375 41.703125 38.8125 \n",
       "Q 48.828125 37.15625 52.796875 32.3125 \n",
       "Q 56.78125 27.484375 56.78125 20.515625 \n",
       "Q 56.78125 9.90625 50.3125 4.234375 \n",
       "Q 43.84375 -1.421875 31.78125 -1.421875 \n",
       "Q 19.734375 -1.421875 13.25 4.234375 \n",
       "Q 6.78125 9.90625 6.78125 20.515625 \n",
       "Q 6.78125 27.484375 10.78125 32.3125 \n",
       "Q 14.796875 37.15625 21.921875 38.8125 \n",
       "z\n",
       "M 18.3125 54.390625 \n",
       "Q 18.3125 48.734375 21.84375 45.5625 \n",
       "Q 25.390625 42.390625 31.78125 42.390625 \n",
       "Q 38.140625 42.390625 41.71875 45.5625 \n",
       "Q 45.3125 48.734375 45.3125 54.390625 \n",
       "Q 45.3125 60.0625 41.71875 63.234375 \n",
       "Q 38.140625 66.40625 31.78125 66.40625 \n",
       "Q 25.390625 66.40625 21.84375 63.234375 \n",
       "Q 18.3125 60.0625 18.3125 54.390625 \n",
       "z\n",
       "\" id=\"DejaVuSans-56\"/>\n",
       "       </defs>\n",
       "       <use xlink:href=\"#DejaVuSans-48\"/>\n",
       "       <use x=\"63.623047\" xlink:href=\"#DejaVuSans-46\"/>\n",
       "       <use x=\"95.410156\" xlink:href=\"#DejaVuSans-56\"/>\n",
       "      </g>\n",
       "     </g>\n",
       "    </g>\n",
       "    <g id=\"ytick_7\">\n",
       "     <g id=\"line2d_14\">\n",
       "      <g>\n",
       "       <use style=\"stroke:#000000;stroke-width:0.8;\" x=\"52.160938\" xlink:href=\"#me26901cc0a\" y=\"59.015229\"/>\n",
       "      </g>\n",
       "     </g>\n",
       "     <g id=\"text_15\">\n",
       "      <!-- 1.0 -->\n",
       "      <g transform=\"translate(29.257812 62.814448)scale(0.1 -0.1)\">\n",
       "       <use xlink:href=\"#DejaVuSans-49\"/>\n",
       "       <use x=\"63.623047\" xlink:href=\"#DejaVuSans-46\"/>\n",
       "       <use x=\"95.410156\" xlink:href=\"#DejaVuSans-48\"/>\n",
       "      </g>\n",
       "     </g>\n",
       "    </g>\n",
       "    <g id=\"ytick_8\">\n",
       "     <g id=\"line2d_15\">\n",
       "      <g>\n",
       "       <use style=\"stroke:#000000;stroke-width:0.8;\" x=\"52.160938\" xlink:href=\"#me26901cc0a\" y=\"30.859691\"/>\n",
       "      </g>\n",
       "     </g>\n",
       "     <g id=\"text_16\">\n",
       "      <!-- 1.2 -->\n",
       "      <g transform=\"translate(29.257812 34.65891)scale(0.1 -0.1)\">\n",
       "       <use xlink:href=\"#DejaVuSans-49\"/>\n",
       "       <use x=\"63.623047\" xlink:href=\"#DejaVuSans-46\"/>\n",
       "       <use x=\"95.410156\" xlink:href=\"#DejaVuSans-50\"/>\n",
       "      </g>\n",
       "     </g>\n",
       "    </g>\n",
       "    <g id=\"text_17\">\n",
       "     <!-- $x_2$ -->\n",
       "     <g transform=\"translate(14.798438 138.548125)rotate(-90)scale(0.1 -0.1)\">\n",
       "      <use transform=\"translate(0 0.3125)\" xlink:href=\"#DejaVuSans-Oblique-120\"/>\n",
       "      <use transform=\"translate(59.179688 -16.09375)scale(0.7)\" xlink:href=\"#DejaVuSans-50\"/>\n",
       "     </g>\n",
       "    </g>\n",
       "   </g>\n",
       "   <g id=\"patch_3\">\n",
       "    <path d=\"M 52.160938 244.078125 \n",
       "L 52.160938 22.318125 \n",
       "\" style=\"fill:none;stroke:#000000;stroke-linecap:square;stroke-linejoin:miter;stroke-width:0.8;\"/>\n",
       "   </g>\n",
       "   <g id=\"patch_4\">\n",
       "    <path d=\"M 275.360937 244.078125 \n",
       "L 275.360937 22.318125 \n",
       "\" style=\"fill:none;stroke:#000000;stroke-linecap:square;stroke-linejoin:miter;stroke-width:0.8;\"/>\n",
       "   </g>\n",
       "   <g id=\"patch_5\">\n",
       "    <path d=\"M 52.160937 244.078125 \n",
       "L 275.360937 244.078125 \n",
       "\" style=\"fill:none;stroke:#000000;stroke-linecap:square;stroke-linejoin:miter;stroke-width:0.8;\"/>\n",
       "   </g>\n",
       "   <g id=\"patch_6\">\n",
       "    <path d=\"M 52.160937 22.318125 \n",
       "L 275.360937 22.318125 \n",
       "\" style=\"fill:none;stroke:#000000;stroke-linecap:square;stroke-linejoin:miter;stroke-width:0.8;\"/>\n",
       "   </g>\n",
       "   <g id=\"text_18\">\n",
       "    <!-- Dataset samples -->\n",
       "    <g transform=\"translate(113.418125 16.318125)scale(0.12 -0.12)\">\n",
       "     <defs>\n",
       "      <path d=\"M 19.671875 64.796875 \n",
       "L 19.671875 8.109375 \n",
       "L 31.59375 8.109375 \n",
       "Q 46.6875 8.109375 53.6875 14.9375 \n",
       "Q 60.6875 21.78125 60.6875 36.53125 \n",
       "Q 60.6875 51.171875 53.6875 57.984375 \n",
       "Q 46.6875 64.796875 31.59375 64.796875 \n",
       "z\n",
       "M 9.8125 72.90625 \n",
       "L 30.078125 72.90625 \n",
       "Q 51.265625 72.90625 61.171875 64.09375 \n",
       "Q 71.09375 55.28125 71.09375 36.53125 \n",
       "Q 71.09375 17.671875 61.125 8.828125 \n",
       "Q 51.171875 0 30.078125 0 \n",
       "L 9.8125 0 \n",
       "z\n",
       "\" id=\"DejaVuSans-68\"/>\n",
       "      <path d=\"M 34.28125 27.484375 \n",
       "Q 23.390625 27.484375 19.1875 25 \n",
       "Q 14.984375 22.515625 14.984375 16.5 \n",
       "Q 14.984375 11.71875 18.140625 8.90625 \n",
       "Q 21.296875 6.109375 26.703125 6.109375 \n",
       "Q 34.1875 6.109375 38.703125 11.40625 \n",
       "Q 43.21875 16.703125 43.21875 25.484375 \n",
       "L 43.21875 27.484375 \n",
       "z\n",
       "M 52.203125 31.203125 \n",
       "L 52.203125 0 \n",
       "L 43.21875 0 \n",
       "L 43.21875 8.296875 \n",
       "Q 40.140625 3.328125 35.546875 0.953125 \n",
       "Q 30.953125 -1.421875 24.3125 -1.421875 \n",
       "Q 15.921875 -1.421875 10.953125 3.296875 \n",
       "Q 6 8.015625 6 15.921875 \n",
       "Q 6 25.140625 12.171875 29.828125 \n",
       "Q 18.359375 34.515625 30.609375 34.515625 \n",
       "L 43.21875 34.515625 \n",
       "L 43.21875 35.40625 \n",
       "Q 43.21875 41.609375 39.140625 45 \n",
       "Q 35.0625 48.390625 27.6875 48.390625 \n",
       "Q 23 48.390625 18.546875 47.265625 \n",
       "Q 14.109375 46.140625 10.015625 43.890625 \n",
       "L 10.015625 52.203125 \n",
       "Q 14.9375 54.109375 19.578125 55.046875 \n",
       "Q 24.21875 56 28.609375 56 \n",
       "Q 40.484375 56 46.34375 49.84375 \n",
       "Q 52.203125 43.703125 52.203125 31.203125 \n",
       "z\n",
       "\" id=\"DejaVuSans-97\"/>\n",
       "      <path d=\"M 18.3125 70.21875 \n",
       "L 18.3125 54.6875 \n",
       "L 36.8125 54.6875 \n",
       "L 36.8125 47.703125 \n",
       "L 18.3125 47.703125 \n",
       "L 18.3125 18.015625 \n",
       "Q 18.3125 11.328125 20.140625 9.421875 \n",
       "Q 21.96875 7.515625 27.59375 7.515625 \n",
       "L 36.8125 7.515625 \n",
       "L 36.8125 0 \n",
       "L 27.59375 0 \n",
       "Q 17.1875 0 13.234375 3.875 \n",
       "Q 9.28125 7.765625 9.28125 18.015625 \n",
       "L 9.28125 47.703125 \n",
       "L 2.6875 47.703125 \n",
       "L 2.6875 54.6875 \n",
       "L 9.28125 54.6875 \n",
       "L 9.28125 70.21875 \n",
       "z\n",
       "\" id=\"DejaVuSans-116\"/>\n",
       "      <path d=\"M 44.28125 53.078125 \n",
       "L 44.28125 44.578125 \n",
       "Q 40.484375 46.53125 36.375 47.5 \n",
       "Q 32.28125 48.484375 27.875 48.484375 \n",
       "Q 21.1875 48.484375 17.84375 46.4375 \n",
       "Q 14.5 44.390625 14.5 40.28125 \n",
       "Q 14.5 37.15625 16.890625 35.375 \n",
       "Q 19.28125 33.59375 26.515625 31.984375 \n",
       "L 29.59375 31.296875 \n",
       "Q 39.15625 29.25 43.1875 25.515625 \n",
       "Q 47.21875 21.78125 47.21875 15.09375 \n",
       "Q 47.21875 7.46875 41.1875 3.015625 \n",
       "Q 35.15625 -1.421875 24.609375 -1.421875 \n",
       "Q 20.21875 -1.421875 15.453125 -0.5625 \n",
       "Q 10.6875 0.296875 5.421875 2 \n",
       "L 5.421875 11.28125 \n",
       "Q 10.40625 8.6875 15.234375 7.390625 \n",
       "Q 20.0625 6.109375 24.8125 6.109375 \n",
       "Q 31.15625 6.109375 34.5625 8.28125 \n",
       "Q 37.984375 10.453125 37.984375 14.40625 \n",
       "Q 37.984375 18.0625 35.515625 20.015625 \n",
       "Q 33.0625 21.96875 24.703125 23.78125 \n",
       "L 21.578125 24.515625 \n",
       "Q 13.234375 26.265625 9.515625 29.90625 \n",
       "Q 5.8125 33.546875 5.8125 39.890625 \n",
       "Q 5.8125 47.609375 11.28125 51.796875 \n",
       "Q 16.75 56 26.8125 56 \n",
       "Q 31.78125 56 36.171875 55.265625 \n",
       "Q 40.578125 54.546875 44.28125 53.078125 \n",
       "z\n",
       "\" id=\"DejaVuSans-115\"/>\n",
       "      <path d=\"M 56.203125 29.59375 \n",
       "L 56.203125 25.203125 \n",
       "L 14.890625 25.203125 \n",
       "Q 15.484375 15.921875 20.484375 11.0625 \n",
       "Q 25.484375 6.203125 34.421875 6.203125 \n",
       "Q 39.59375 6.203125 44.453125 7.46875 \n",
       "Q 49.3125 8.734375 54.109375 11.28125 \n",
       "L 54.109375 2.78125 \n",
       "Q 49.265625 0.734375 44.1875 -0.34375 \n",
       "Q 39.109375 -1.421875 33.890625 -1.421875 \n",
       "Q 20.796875 -1.421875 13.15625 6.1875 \n",
       "Q 5.515625 13.8125 5.515625 26.8125 \n",
       "Q 5.515625 40.234375 12.765625 48.109375 \n",
       "Q 20.015625 56 32.328125 56 \n",
       "Q 43.359375 56 49.78125 48.890625 \n",
       "Q 56.203125 41.796875 56.203125 29.59375 \n",
       "z\n",
       "M 47.21875 32.234375 \n",
       "Q 47.125 39.59375 43.09375 43.984375 \n",
       "Q 39.0625 48.390625 32.421875 48.390625 \n",
       "Q 24.90625 48.390625 20.390625 44.140625 \n",
       "Q 15.875 39.890625 15.1875 32.171875 \n",
       "z\n",
       "\" id=\"DejaVuSans-101\"/>\n",
       "      <path id=\"DejaVuSans-32\"/>\n",
       "      <path d=\"M 52 44.1875 \n",
       "Q 55.375 50.25 60.0625 53.125 \n",
       "Q 64.75 56 71.09375 56 \n",
       "Q 79.640625 56 84.28125 50.015625 \n",
       "Q 88.921875 44.046875 88.921875 33.015625 \n",
       "L 88.921875 0 \n",
       "L 79.890625 0 \n",
       "L 79.890625 32.71875 \n",
       "Q 79.890625 40.578125 77.09375 44.375 \n",
       "Q 74.3125 48.1875 68.609375 48.1875 \n",
       "Q 61.625 48.1875 57.5625 43.546875 \n",
       "Q 53.515625 38.921875 53.515625 30.90625 \n",
       "L 53.515625 0 \n",
       "L 44.484375 0 \n",
       "L 44.484375 32.71875 \n",
       "Q 44.484375 40.625 41.703125 44.40625 \n",
       "Q 38.921875 48.1875 33.109375 48.1875 \n",
       "Q 26.21875 48.1875 22.15625 43.53125 \n",
       "Q 18.109375 38.875 18.109375 30.90625 \n",
       "L 18.109375 0 \n",
       "L 9.078125 0 \n",
       "L 9.078125 54.6875 \n",
       "L 18.109375 54.6875 \n",
       "L 18.109375 46.1875 \n",
       "Q 21.1875 51.21875 25.484375 53.609375 \n",
       "Q 29.78125 56 35.6875 56 \n",
       "Q 41.65625 56 45.828125 52.96875 \n",
       "Q 50 49.953125 52 44.1875 \n",
       "z\n",
       "\" id=\"DejaVuSans-109\"/>\n",
       "      <path d=\"M 18.109375 8.203125 \n",
       "L 18.109375 -20.796875 \n",
       "L 9.078125 -20.796875 \n",
       "L 9.078125 54.6875 \n",
       "L 18.109375 54.6875 \n",
       "L 18.109375 46.390625 \n",
       "Q 20.953125 51.265625 25.265625 53.625 \n",
       "Q 29.59375 56 35.59375 56 \n",
       "Q 45.5625 56 51.78125 48.09375 \n",
       "Q 58.015625 40.1875 58.015625 27.296875 \n",
       "Q 58.015625 14.40625 51.78125 6.484375 \n",
       "Q 45.5625 -1.421875 35.59375 -1.421875 \n",
       "Q 29.59375 -1.421875 25.265625 0.953125 \n",
       "Q 20.953125 3.328125 18.109375 8.203125 \n",
       "z\n",
       "M 48.6875 27.296875 \n",
       "Q 48.6875 37.203125 44.609375 42.84375 \n",
       "Q 40.53125 48.484375 33.40625 48.484375 \n",
       "Q 26.265625 48.484375 22.1875 42.84375 \n",
       "Q 18.109375 37.203125 18.109375 27.296875 \n",
       "Q 18.109375 17.390625 22.1875 11.75 \n",
       "Q 26.265625 6.109375 33.40625 6.109375 \n",
       "Q 40.53125 6.109375 44.609375 11.75 \n",
       "Q 48.6875 17.390625 48.6875 27.296875 \n",
       "z\n",
       "\" id=\"DejaVuSans-112\"/>\n",
       "      <path d=\"M 9.421875 75.984375 \n",
       "L 18.40625 75.984375 \n",
       "L 18.40625 0 \n",
       "L 9.421875 0 \n",
       "z\n",
       "\" id=\"DejaVuSans-108\"/>\n",
       "     </defs>\n",
       "     <use xlink:href=\"#DejaVuSans-68\"/>\n",
       "     <use x=\"77.001953\" xlink:href=\"#DejaVuSans-97\"/>\n",
       "     <use x=\"138.28125\" xlink:href=\"#DejaVuSans-116\"/>\n",
       "     <use x=\"177.490234\" xlink:href=\"#DejaVuSans-97\"/>\n",
       "     <use x=\"238.769531\" xlink:href=\"#DejaVuSans-115\"/>\n",
       "     <use x=\"290.869141\" xlink:href=\"#DejaVuSans-101\"/>\n",
       "     <use x=\"352.392578\" xlink:href=\"#DejaVuSans-116\"/>\n",
       "     <use x=\"391.601562\" xlink:href=\"#DejaVuSans-32\"/>\n",
       "     <use x=\"423.388672\" xlink:href=\"#DejaVuSans-115\"/>\n",
       "     <use x=\"475.488281\" xlink:href=\"#DejaVuSans-97\"/>\n",
       "     <use x=\"536.767578\" xlink:href=\"#DejaVuSans-109\"/>\n",
       "     <use x=\"634.179688\" xlink:href=\"#DejaVuSans-112\"/>\n",
       "     <use x=\"697.65625\" xlink:href=\"#DejaVuSans-108\"/>\n",
       "     <use x=\"725.439453\" xlink:href=\"#DejaVuSans-101\"/>\n",
       "     <use x=\"786.962891\" xlink:href=\"#DejaVuSans-115\"/>\n",
       "    </g>\n",
       "   </g>\n",
       "   <g id=\"legend_1\">\n",
       "    <g id=\"patch_7\">\n",
       "     <path d=\"M 200.5125 149.37625 \n",
       "L 268.360937 149.37625 \n",
       "Q 270.360937 149.37625 270.360937 147.37625 \n",
       "L 270.360937 119.02 \n",
       "Q 270.360937 117.02 268.360937 117.02 \n",
       "L 200.5125 117.02 \n",
       "Q 198.5125 117.02 198.5125 119.02 \n",
       "L 198.5125 147.37625 \n",
       "Q 198.5125 149.37625 200.5125 149.37625 \n",
       "z\n",
       "\" style=\"fill:#ffffff;opacity:0.8;stroke:#cccccc;stroke-linejoin:miter;\"/>\n",
       "    </g>\n",
       "    <g id=\"PathCollection_3\">\n",
       "     <g>\n",
       "      <use style=\"fill:#1f77b4;stroke:#333333;\" x=\"212.5125\" xlink:href=\"#m00f956e56a\" y=\"125.993437\"/>\n",
       "     </g>\n",
       "    </g>\n",
       "    <g id=\"text_19\">\n",
       "     <!-- Class 0 -->\n",
       "     <g transform=\"translate(230.5125 128.618437)scale(0.1 -0.1)\">\n",
       "      <defs>\n",
       "       <path d=\"M 64.40625 67.28125 \n",
       "L 64.40625 56.890625 \n",
       "Q 59.421875 61.53125 53.78125 63.8125 \n",
       "Q 48.140625 66.109375 41.796875 66.109375 \n",
       "Q 29.296875 66.109375 22.65625 58.46875 \n",
       "Q 16.015625 50.828125 16.015625 36.375 \n",
       "Q 16.015625 21.96875 22.65625 14.328125 \n",
       "Q 29.296875 6.6875 41.796875 6.6875 \n",
       "Q 48.140625 6.6875 53.78125 8.984375 \n",
       "Q 59.421875 11.28125 64.40625 15.921875 \n",
       "L 64.40625 5.609375 \n",
       "Q 59.234375 2.09375 53.4375 0.328125 \n",
       "Q 47.65625 -1.421875 41.21875 -1.421875 \n",
       "Q 24.65625 -1.421875 15.125 8.703125 \n",
       "Q 5.609375 18.84375 5.609375 36.375 \n",
       "Q 5.609375 53.953125 15.125 64.078125 \n",
       "Q 24.65625 74.21875 41.21875 74.21875 \n",
       "Q 47.75 74.21875 53.53125 72.484375 \n",
       "Q 59.328125 70.75 64.40625 67.28125 \n",
       "z\n",
       "\" id=\"DejaVuSans-67\"/>\n",
       "      </defs>\n",
       "      <use xlink:href=\"#DejaVuSans-67\"/>\n",
       "      <use x=\"69.824219\" xlink:href=\"#DejaVuSans-108\"/>\n",
       "      <use x=\"97.607422\" xlink:href=\"#DejaVuSans-97\"/>\n",
       "      <use x=\"158.886719\" xlink:href=\"#DejaVuSans-115\"/>\n",
       "      <use x=\"210.986328\" xlink:href=\"#DejaVuSans-115\"/>\n",
       "      <use x=\"263.085938\" xlink:href=\"#DejaVuSans-32\"/>\n",
       "      <use x=\"294.873047\" xlink:href=\"#DejaVuSans-48\"/>\n",
       "     </g>\n",
       "    </g>\n",
       "    <g id=\"PathCollection_4\">\n",
       "     <g>\n",
       "      <use style=\"fill:#ff7f0e;stroke:#333333;\" x=\"212.5125\" xlink:href=\"#m9a436396b8\" y=\"140.671562\"/>\n",
       "     </g>\n",
       "    </g>\n",
       "    <g id=\"text_20\">\n",
       "     <!-- Class 1 -->\n",
       "     <g transform=\"translate(230.5125 143.296562)scale(0.1 -0.1)\">\n",
       "      <use xlink:href=\"#DejaVuSans-67\"/>\n",
       "      <use x=\"69.824219\" xlink:href=\"#DejaVuSans-108\"/>\n",
       "      <use x=\"97.607422\" xlink:href=\"#DejaVuSans-97\"/>\n",
       "      <use x=\"158.886719\" xlink:href=\"#DejaVuSans-115\"/>\n",
       "      <use x=\"210.986328\" xlink:href=\"#DejaVuSans-115\"/>\n",
       "      <use x=\"263.085938\" xlink:href=\"#DejaVuSans-32\"/>\n",
       "      <use x=\"294.873047\" xlink:href=\"#DejaVuSans-49\"/>\n",
       "     </g>\n",
       "    </g>\n",
       "   </g>\n",
       "  </g>\n",
       " </g>\n",
       " <defs>\n",
       "  <clipPath id=\"p998531341d\">\n",
       "   <rect height=\"221.76\" width=\"223.2\" x=\"52.160938\" y=\"22.318125\"/>\n",
       "  </clipPath>\n",
       " </defs>\n",
       "</svg>\n"
      ],
      "text/plain": [
       "<Figure size 400x400 with 1 Axes>"
      ]
     },
     "metadata": {},
     "output_type": "display_data"
    }
   ],
   "source": [
    "visualize_samples(dataset.data, dataset.label)\n",
    "plt.show()"
   ]
  },
  {
   "cell_type": "markdown",
   "id": "3de8115d",
   "metadata": {
    "papermill": {
     "duration": 0.016879,
     "end_time": "2023-03-24T15:32:57.415395",
     "exception": false,
     "start_time": "2023-03-24T15:32:57.398516",
     "status": "completed"
    },
    "tags": []
   },
   "source": [
    "#### The data loader class\n",
    "\n",
    "The class `torch.utils.data.DataLoader` represents a Python iterable over a dataset with support for automatic batching, multi-process data loading and many more features.\n",
    "The data loader communicates with the dataset using the function `__getitem__`, and stacks its outputs as tensors over the first dimension to form a batch.\n",
    "In contrast to the dataset class, we usually don't have to define our own data loader class, but can just create an object of it with the dataset as input.\n",
    "Additionally, we can configure our data loader with the following input arguments (only a selection, see full list [here](https://pytorch.org/docs/stable/data.html#torch.utils.data.DataLoader)):\n",
    "\n",
    "* `batch_size`: Number of samples to stack per batch\n",
    "* `shuffle`: If True, the data is returned in a random order.\n",
    "This is important during training for introducing stochasticity.\n",
    "* `num_workers`: Number of subprocesses to use for data loading.\n",
    "The default, 0, means that the data will be loaded in the main process which can slow down training for datasets where loading a data point takes a considerable amount of time (e.g. large images).\n",
    "More workers are recommended for those, but can cause issues on Windows computers.\n",
    "For tiny datasets as ours, 0 workers are usually faster.\n",
    "* `pin_memory`: If True, the data loader will copy Tensors into CUDA pinned memory before returning them.\n",
    "This can save some time for large data points on GPUs.\n",
    "Usually a good practice to use for a training set, but not necessarily for validation and test to save memory on the GPU.\n",
    "* `drop_last`: If True, the last batch is dropped in case it is smaller than the specified batch size.\n",
    "This occurs when the dataset size is not a multiple of the batch size.\n",
    "Only potentially helpful during training to keep a consistent batch size.\n",
    "\n",
    "Let's create a simple data loader below:"
   ]
  },
  {
   "cell_type": "code",
   "execution_count": 43,
   "id": "80c101cb",
   "metadata": {
    "execution": {
     "iopub.execute_input": "2023-03-24T15:32:57.450821Z",
     "iopub.status.busy": "2023-03-24T15:32:57.450446Z",
     "iopub.status.idle": "2023-03-24T15:32:57.456965Z",
     "shell.execute_reply": "2023-03-24T15:32:57.455881Z"
    },
    "papermill": {
     "duration": 0.02701,
     "end_time": "2023-03-24T15:32:57.459276",
     "exception": false,
     "start_time": "2023-03-24T15:32:57.432266",
     "status": "completed"
    },
    "tags": []
   },
   "outputs": [],
   "source": [
    "data_loader = data.DataLoader(dataset, batch_size=8, shuffle=True)"
   ]
  },
  {
   "cell_type": "code",
   "execution_count": 44,
   "id": "4c111c84",
   "metadata": {
    "execution": {
     "iopub.execute_input": "2023-03-24T15:32:57.498810Z",
     "iopub.status.busy": "2023-03-24T15:32:57.498278Z",
     "iopub.status.idle": "2023-03-24T15:32:57.506054Z",
     "shell.execute_reply": "2023-03-24T15:32:57.505014Z"
    },
    "papermill": {
     "duration": 0.027245,
     "end_time": "2023-03-24T15:32:57.507828",
     "exception": false,
     "start_time": "2023-03-24T15:32:57.480583",
     "status": "completed"
    },
    "tags": []
   },
   "outputs": [
    {
     "name": "stdout",
     "output_type": "stream",
     "text": [
      "Data inputs torch.Size([8, 2]) \n",
      " tensor([[-0.0890,  0.8608],\n",
      "        [ 1.0905, -0.0128],\n",
      "        [ 0.7967,  0.2268],\n",
      "        [-0.0688,  0.0371],\n",
      "        [ 0.8732, -0.2240],\n",
      "        [-0.0559, -0.0282],\n",
      "        [ 0.9277,  0.0978],\n",
      "        [ 1.0150,  0.9689]])\n",
      "Data labels torch.Size([8]) \n",
      " tensor([1, 1, 1, 0, 1, 0, 1, 0])\n"
     ]
    }
   ],
   "source": [
    "# next(iter(...)) catches the first batch of the data loader\n",
    "# If shuffle is True, this will return a different batch every time we run this cell\n",
    "# For iterating over the whole dataset, we can simple use \"for batch in data_loader: ...\"\n",
    "data_inputs, data_labels = next(iter(data_loader))\n",
    "\n",
    "# The shape of the outputs are [batch_size, d_1,...,d_N] where d_1,...,d_N are the\n",
    "# dimensions of the data point returned from the dataset class\n",
    "print(\"Data inputs\", data_inputs.shape, \"\\n\", data_inputs)\n",
    "print(\"Data labels\", data_labels.shape, \"\\n\", data_labels)"
   ]
  },
  {
   "cell_type": "markdown",
   "id": "0a7bb1cf",
   "metadata": {
    "papermill": {
     "duration": 0.016695,
     "end_time": "2023-03-24T15:32:57.543491",
     "exception": false,
     "start_time": "2023-03-24T15:32:57.526796",
     "status": "completed"
    },
    "tags": []
   },
   "source": [
    "### Optimization\n",
    "\n",
    "After defining the model and the dataset, it is time to prepare the optimization of the model.\n",
    "During training, we will perform the following steps:\n",
    "\n",
    "1. Get a batch from the data loader\n",
    "2. Obtain the predictions from the model for the batch\n",
    "3. Calculate the loss based on the difference between predictions and labels\n",
    "4. Backpropagation: calculate the gradients for every parameter with respect to the loss\n",
    "5. Update the parameters of the model in the direction of the gradients\n",
    "\n",
    "We have seen how we can do step 1, 2 and 4 in PyTorch. Now, we will look at step 3 and 5."
   ]
  },
  {
   "cell_type": "markdown",
   "id": "97a1418e",
   "metadata": {
    "papermill": {
     "duration": 0.016603,
     "end_time": "2023-03-24T15:32:57.576873",
     "exception": false,
     "start_time": "2023-03-24T15:32:57.560270",
     "status": "completed"
    },
    "tags": []
   },
   "source": [
    "#### Loss modules\n",
    "\n",
    "We can calculate the loss for a batch by simply performing a few tensor operations as those are automatically added to the computation graph.\n",
    "For instance, for binary classification, we can use Binary Cross Entropy (BCE) which is defined as follows:\n",
    "\n",
    "$$\\mathcal{L}_{BCE} = -\\sum_i \\left[ y_i \\log x_i + (1 - y_i) \\log (1 - x_i) \\right]$$\n",
    "\n",
    "where $y$ are our labels, and $x$ our predictions, both in the range of $[0,1]$.\n",
    "However, PyTorch already provides a list of predefined loss functions which we can use (see [here](https://pytorch.org/docs/stable/nn.html#loss-functions) for a full list).\n",
    "For instance, for BCE, PyTorch has two modules: `nn.BCELoss()`, `nn.BCEWithLogitsLoss()`.\n",
    "While `nn.BCELoss` expects the inputs $x$ to be in the range $[0,1]$, i.e. the output of a sigmoid, `nn.BCEWithLogitsLoss` combines a sigmoid layer and the BCE loss in a single class.\n",
    "This version is numerically more stable than using a plain Sigmoid followed by a BCE loss because of the logarithms applied in the loss function.\n",
    "Hence, it is adviced to use loss functions applied on \"logits\" where possible (remember to not apply a sigmoid on the output of the model in this case!).\n",
    "For our model defined above, we therefore use the module `nn.BCEWithLogitsLoss`."
   ]
  },
  {
   "cell_type": "code",
   "execution_count": 45,
   "id": "949a093a",
   "metadata": {
    "execution": {
     "iopub.execute_input": "2023-03-24T15:32:57.611359Z",
     "iopub.status.busy": "2023-03-24T15:32:57.611124Z",
     "iopub.status.idle": "2023-03-24T15:32:57.615344Z",
     "shell.execute_reply": "2023-03-24T15:32:57.614400Z"
    },
    "papermill": {
     "duration": 0.023515,
     "end_time": "2023-03-24T15:32:57.617053",
     "exception": false,
     "start_time": "2023-03-24T15:32:57.593538",
     "status": "completed"
    },
    "tags": []
   },
   "outputs": [],
   "source": [
    "loss_module = nn.BCEWithLogitsLoss()"
   ]
  },
  {
   "cell_type": "markdown",
   "id": "7a63fcd6",
   "metadata": {
    "papermill": {
     "duration": 0.016851,
     "end_time": "2023-03-24T15:32:57.653655",
     "exception": false,
     "start_time": "2023-03-24T15:32:57.636804",
     "status": "completed"
    },
    "tags": []
   },
   "source": [
    "#### Stochastic Gradient Descent\n",
    "\n",
    "For updating the parameters, PyTorch provides the package `torch.optim` that has most popular optimizers implemented.\n",
    "We will discuss the specific optimizers and their differences later in the course, but will for now use the simplest of them: `torch.optim.SGD`.\n",
    "Stochastic Gradient Descent updates parameters by multiplying the gradients with a small constant, called learning rate, and subtracting those from the parameters (hence minimizing the loss).\n",
    "Therefore, we slowly move towards the direction of minimizing the loss.\n",
    "A good default value of the learning rate for a small network as ours is 0.1."
   ]
  },
  {
   "cell_type": "code",
   "execution_count": 46,
   "id": "219cce16",
   "metadata": {
    "execution": {
     "iopub.execute_input": "2023-03-24T15:32:57.689178Z",
     "iopub.status.busy": "2023-03-24T15:32:57.688497Z",
     "iopub.status.idle": "2023-03-24T15:32:57.693062Z",
     "shell.execute_reply": "2023-03-24T15:32:57.692136Z"
    },
    "papermill": {
     "duration": 0.023819,
     "end_time": "2023-03-24T15:32:57.694421",
     "exception": false,
     "start_time": "2023-03-24T15:32:57.670602",
     "status": "completed"
    },
    "tags": []
   },
   "outputs": [],
   "source": [
    "# Input to the optimizer are the parameters of the model: model.parameters()\n",
    "optimizer = torch.optim.SGD(model.parameters(), lr=0.1)"
   ]
  },
  {
   "cell_type": "markdown",
   "id": "08469649",
   "metadata": {
    "papermill": {
     "duration": 0.016849,
     "end_time": "2023-03-24T15:32:57.731914",
     "exception": false,
     "start_time": "2023-03-24T15:32:57.715065",
     "status": "completed"
    },
    "tags": []
   },
   "source": [
    "The optimizer provides two useful functions: `optimizer.step()`, and `optimizer.zero_grad()`.\n",
    "The step function updates the parameters based on the gradients as explained above.\n",
    "The function `optimizer.zero_grad()` sets the gradients of all parameters to zero.\n",
    "While this function seems less relevant at first, it is a crucial pre-step before performing backpropagation.\n",
    "If we would call the `backward` function on the loss while the parameter gradients are non-zero from the previous batch, the new gradients would actually be added to the previous ones instead of overwriting them.\n",
    "This is done because a parameter might occur multiple times in a computation graph, and we need to sum the gradients in this case instead of replacing them.\n",
    "Hence, remember to call `optimizer.zero_grad()` before calculating the gradients of a batch."
   ]
  },
  {
   "cell_type": "markdown",
   "id": "af6a2412",
   "metadata": {
    "papermill": {
     "duration": 0.016688,
     "end_time": "2023-03-24T15:32:57.765433",
     "exception": false,
     "start_time": "2023-03-24T15:32:57.748745",
     "status": "completed"
    },
    "tags": []
   },
   "source": [
    "### Training\n",
    "\n",
    "Finally, we are ready to train our model.\n",
    "As a first step, we create a slightly larger dataset and specify a data loader with a larger batch size."
   ]
  },
  {
   "cell_type": "code",
   "execution_count": 47,
   "id": "7929cf6a",
   "metadata": {
    "execution": {
     "iopub.execute_input": "2023-03-24T15:32:57.801022Z",
     "iopub.status.busy": "2023-03-24T15:32:57.800274Z",
     "iopub.status.idle": "2023-03-24T15:32:57.806303Z",
     "shell.execute_reply": "2023-03-24T15:32:57.805240Z"
    },
    "papermill": {
     "duration": 0.025906,
     "end_time": "2023-03-24T15:32:57.808203",
     "exception": false,
     "start_time": "2023-03-24T15:32:57.782297",
     "status": "completed"
    },
    "tags": []
   },
   "outputs": [],
   "source": [
    "train_dataset = XORDataset(size=1000)\n",
    "train_data_loader = data.DataLoader(train_dataset, batch_size=128, shuffle=True)"
   ]
  },
  {
   "cell_type": "markdown",
   "id": "dfde6892",
   "metadata": {
    "papermill": {
     "duration": 0.016814,
     "end_time": "2023-03-24T15:32:57.845195",
     "exception": false,
     "start_time": "2023-03-24T15:32:57.828381",
     "status": "completed"
    },
    "tags": []
   },
   "source": [
    "Now, we can write a small training function.\n",
    "Remember our five steps: load a batch, obtain the predictions, calculate the loss, backpropagate, and update.\n",
    "Additionally, we have to push all data and model parameters to the device of our choice (GPU if available).\n",
    "For the tiny neural network we have, communicating the data to the GPU actually takes much more time than we could save from running the operation on GPU.\n",
    "For large networks, the communication time is significantly smaller than the actual runtime making a GPU crucial in these cases.\n",
    "Still, to practice, we will push the data to GPU here."
   ]
  },
  {
   "cell_type": "code",
   "execution_count": 48,
   "id": "00a2dffb",
   "metadata": {
    "execution": {
     "iopub.execute_input": "2023-03-24T15:32:57.880099Z",
     "iopub.status.busy": "2023-03-24T15:32:57.879860Z",
     "iopub.status.idle": "2023-03-24T15:32:57.896214Z",
     "shell.execute_reply": "2023-03-24T15:32:57.895076Z"
    },
    "papermill": {
     "duration": 0.036549,
     "end_time": "2023-03-24T15:32:57.898580",
     "exception": false,
     "start_time": "2023-03-24T15:32:57.862031",
     "status": "completed"
    },
    "tags": []
   },
   "outputs": [
    {
     "data": {
      "text/plain": [
       "SimpleClassifier(\n",
       "  (linear1): Linear(in_features=2, out_features=4, bias=True)\n",
       "  (act_fn): Tanh()\n",
       "  (linear2): Linear(in_features=4, out_features=1, bias=True)\n",
       ")"
      ]
     },
     "execution_count": 48,
     "metadata": {},
     "output_type": "execute_result"
    }
   ],
   "source": [
    "# Push model to device. Has to be only done once\n",
    "model.to(device)"
   ]
  },
  {
   "cell_type": "markdown",
   "id": "7d5ecb5f",
   "metadata": {
    "lines_to_next_cell": 2,
    "papermill": {
     "duration": 0.016913,
     "end_time": "2023-03-24T15:32:57.937600",
     "exception": false,
     "start_time": "2023-03-24T15:32:57.920687",
     "status": "completed"
    },
    "tags": []
   },
   "source": [
    "In addition, we set our model to training mode.\n",
    "This is done by calling `model.train()`.\n",
    "There exist certain modules that need to perform a different forward\n",
    "step during training than during testing (e.g. BatchNorm and Dropout),\n",
    "and we can switch between them using `model.train()` and `model.eval()`."
   ]
  },
  {
   "cell_type": "code",
   "execution_count": 49,
   "id": "6f5af5bf",
   "metadata": {
    "execution": {
     "iopub.execute_input": "2023-03-24T15:32:57.973878Z",
     "iopub.status.busy": "2023-03-24T15:32:57.973345Z",
     "iopub.status.idle": "2023-03-24T15:32:57.983422Z",
     "shell.execute_reply": "2023-03-24T15:32:57.982639Z"
    },
    "papermill": {
     "duration": 0.031069,
     "end_time": "2023-03-24T15:32:57.985710",
     "exception": false,
     "start_time": "2023-03-24T15:32:57.954641",
     "status": "completed"
    },
    "tags": []
   },
   "outputs": [],
   "source": [
    "def train_model(model, optimizer, data_loader, loss_module, num_epochs=100):\n",
    "    # Set model to train mode\n",
    "    model.train()\n",
    "\n",
    "    # Training loop\n",
    "    for epoch in tqdm(range(num_epochs)):\n",
    "        for data_inputs, data_labels in data_loader:\n",
    "\n",
    "            # Step 1: Move input data to device (only strictly necessary if we use GPU)\n",
    "            data_inputs = data_inputs.to(device)\n",
    "            data_labels = data_labels.to(device)\n",
    "\n",
    "            # Step 2: Run the model on the input data\n",
    "            preds = model(data_inputs)\n",
    "            preds = preds.squeeze(dim=1)  # Output is [Batch size, 1], but we want [Batch size]\n",
    "\n",
    "            # Step 3: Calculate the loss\n",
    "            loss = loss_module(preds, data_labels.float())\n",
    "\n",
    "            # Step 4: Perform backpropagation\n",
    "            # Before calculating the gradients, we need to ensure that they are all zero.\n",
    "            # The gradients would not be overwritten, but actually added to the existing ones.\n",
    "            optimizer.zero_grad()\n",
    "            # Perform backpropagation\n",
    "            loss.backward()\n",
    "\n",
    "            # Step 5: Update the parameters\n",
    "            optimizer.step()"
   ]
  },
  {
   "cell_type": "code",
   "execution_count": 50,
   "id": "755e141f",
   "metadata": {
    "execution": {
     "iopub.execute_input": "2023-03-24T15:32:58.025893Z",
     "iopub.status.busy": "2023-03-24T15:32:58.025445Z",
     "iopub.status.idle": "2023-03-24T15:32:59.511081Z",
     "shell.execute_reply": "2023-03-24T15:32:59.509881Z"
    },
    "papermill": {
     "duration": 1.506623,
     "end_time": "2023-03-24T15:32:59.513864",
     "exception": false,
     "start_time": "2023-03-24T15:32:58.007241",
     "status": "completed"
    },
    "tags": []
   },
   "outputs": [
    {
     "data": {
      "application/vnd.jupyter.widget-view+json": {
       "model_id": "5bd804994e1d499cb5c4fe461455bb23",
       "version_major": 2,
       "version_minor": 0
      },
      "text/plain": [
       "  0%|          | 0/100 [00:00<?, ?it/s]"
      ]
     },
     "metadata": {},
     "output_type": "display_data"
    }
   ],
   "source": [
    "train_model(model, optimizer, train_data_loader, loss_module)"
   ]
  },
  {
   "cell_type": "markdown",
   "id": "1f3cca6f",
   "metadata": {
    "papermill": {
     "duration": 0.017149,
     "end_time": "2023-03-24T15:32:59.552350",
     "exception": false,
     "start_time": "2023-03-24T15:32:59.535201",
     "status": "completed"
    },
    "tags": []
   },
   "source": [
    "#### Saving a model\n",
    "\n",
    "After finish training a model, we save the model to disk so that we can load the same weights at a later time.\n",
    "For this, we extract the so-called `state_dict` from the model which contains all learnable parameters.\n",
    "For our simple model, the state dict contains the following entries:"
   ]
  },
  {
   "cell_type": "code",
   "execution_count": 51,
   "id": "44b40efd",
   "metadata": {
    "execution": {
     "iopub.execute_input": "2023-03-24T15:32:59.588380Z",
     "iopub.status.busy": "2023-03-24T15:32:59.588006Z",
     "iopub.status.idle": "2023-03-24T15:32:59.598519Z",
     "shell.execute_reply": "2023-03-24T15:32:59.597635Z"
    },
    "papermill": {
     "duration": 0.031242,
     "end_time": "2023-03-24T15:32:59.600704",
     "exception": false,
     "start_time": "2023-03-24T15:32:59.569462",
     "status": "completed"
    },
    "tags": []
   },
   "outputs": [
    {
     "name": "stdout",
     "output_type": "stream",
     "text": [
      "OrderedDict([('linear1.weight', tensor([[-2.0209, -2.3101],\n",
      "        [ 1.3066, -1.8463],\n",
      "        [-1.5089, -0.6550],\n",
      "        [-0.7824, -0.9385]], device='cuda:0')), ('linear1.bias', tensor([ 0.7382, -0.9136,  1.4607, -0.1769], device='cuda:0')), ('linear2.weight', tensor([[-2.5543,  1.9722,  2.1591, -0.4553]], device='cuda:0')), ('linear2.bias', tensor([-1.0225], device='cuda:0'))])\n"
     ]
    }
   ],
   "source": [
    "state_dict = model.state_dict()\n",
    "print(state_dict)"
   ]
  },
  {
   "cell_type": "markdown",
   "id": "0c57600b",
   "metadata": {
    "papermill": {
     "duration": 0.017119,
     "end_time": "2023-03-24T15:32:59.642204",
     "exception": false,
     "start_time": "2023-03-24T15:32:59.625085",
     "status": "completed"
    },
    "tags": []
   },
   "source": [
    "To save the state dictionary, we can use `torch.save`:"
   ]
  },
  {
   "cell_type": "code",
   "execution_count": 52,
   "id": "a57d59da",
   "metadata": {
    "execution": {
     "iopub.execute_input": "2023-03-24T15:32:59.678475Z",
     "iopub.status.busy": "2023-03-24T15:32:59.677841Z",
     "iopub.status.idle": "2023-03-24T15:32:59.684634Z",
     "shell.execute_reply": "2023-03-24T15:32:59.683452Z"
    },
    "papermill": {
     "duration": 0.027271,
     "end_time": "2023-03-24T15:32:59.686765",
     "exception": false,
     "start_time": "2023-03-24T15:32:59.659494",
     "status": "completed"
    },
    "tags": []
   },
   "outputs": [],
   "source": [
    "# torch.save(object, filename). For the filename, any extension can be used\n",
    "torch.save(state_dict, \"our_model.tar\")"
   ]
  },
  {
   "cell_type": "markdown",
   "id": "3bb3274d",
   "metadata": {
    "papermill": {
     "duration": 0.017954,
     "end_time": "2023-03-24T15:32:59.726936",
     "exception": false,
     "start_time": "2023-03-24T15:32:59.708982",
     "status": "completed"
    },
    "tags": []
   },
   "source": [
    "To load a model from a state dict, we use the function `torch.load` to\n",
    "load the state dict from the disk, and the module function\n",
    "`load_state_dict` to overwrite our parameters with the new values:"
   ]
  },
  {
   "cell_type": "code",
   "execution_count": 53,
   "id": "51dacc95",
   "metadata": {
    "execution": {
     "iopub.execute_input": "2023-03-24T15:32:59.763222Z",
     "iopub.status.busy": "2023-03-24T15:32:59.762607Z",
     "iopub.status.idle": "2023-03-24T15:32:59.776218Z",
     "shell.execute_reply": "2023-03-24T15:32:59.775221Z"
    },
    "papermill": {
     "duration": 0.034371,
     "end_time": "2023-03-24T15:32:59.778586",
     "exception": false,
     "start_time": "2023-03-24T15:32:59.744215",
     "status": "completed"
    },
    "tags": []
   },
   "outputs": [
    {
     "name": "stdout",
     "output_type": "stream",
     "text": [
      "Original model\n",
      " OrderedDict([('linear1.weight', tensor([[-2.0209, -2.3101],\n",
      "        [ 1.3066, -1.8463],\n",
      "        [-1.5089, -0.6550],\n",
      "        [-0.7824, -0.9385]], device='cuda:0')), ('linear1.bias', tensor([ 0.7382, -0.9136,  1.4607, -0.1769], device='cuda:0')), ('linear2.weight', tensor([[-2.5543,  1.9722,  2.1591, -0.4553]], device='cuda:0')), ('linear2.bias', tensor([-1.0225], device='cuda:0'))])\n",
      "\n",
      "Loaded model\n",
      " OrderedDict([('linear1.weight', tensor([[-2.0209, -2.3101],\n",
      "        [ 1.3066, -1.8463],\n",
      "        [-1.5089, -0.6550],\n",
      "        [-0.7824, -0.9385]])), ('linear1.bias', tensor([ 0.7382, -0.9136,  1.4607, -0.1769])), ('linear2.weight', tensor([[-2.5543,  1.9722,  2.1591, -0.4553]])), ('linear2.bias', tensor([-1.0225]))])\n"
     ]
    }
   ],
   "source": [
    "# Load state dict from the disk (make sure it is the same name as above)\n",
    "state_dict = torch.load(\"our_model.tar\")\n",
    "\n",
    "# Create a new model and load the state\n",
    "new_model = SimpleClassifier(num_inputs=2, num_hidden=4, num_outputs=1)\n",
    "new_model.load_state_dict(state_dict)\n",
    "\n",
    "# Verify that the parameters are the same\n",
    "print(\"Original model\\n\", model.state_dict())\n",
    "print(\"\\nLoaded model\\n\", new_model.state_dict())"
   ]
  },
  {
   "cell_type": "markdown",
   "id": "a5e98337",
   "metadata": {
    "papermill": {
     "duration": 0.017307,
     "end_time": "2023-03-24T15:32:59.817319",
     "exception": false,
     "start_time": "2023-03-24T15:32:59.800012",
     "status": "completed"
    },
    "tags": []
   },
   "source": [
    "A detailed tutorial on saving and loading models in PyTorch can be found\n",
    "[here](https://pytorch.org/tutorials/beginner/saving_loading_models.html)."
   ]
  },
  {
   "cell_type": "markdown",
   "id": "56bf3892",
   "metadata": {
    "papermill": {
     "duration": 0.017429,
     "end_time": "2023-03-24T15:32:59.852176",
     "exception": false,
     "start_time": "2023-03-24T15:32:59.834747",
     "status": "completed"
    },
    "tags": []
   },
   "source": [
    "### Evaluation\n",
    "\n",
    "Once we have trained a model, it is time to evaluate it on a held-out test set.\n",
    "As our dataset consist of randomly generated data points, we need to\n",
    "first create a test set with a corresponding data loader."
   ]
  },
  {
   "cell_type": "code",
   "execution_count": 54,
   "id": "0f67567b",
   "metadata": {
    "execution": {
     "iopub.execute_input": "2023-03-24T15:32:59.889235Z",
     "iopub.status.busy": "2023-03-24T15:32:59.888187Z",
     "iopub.status.idle": "2023-03-24T15:32:59.894911Z",
     "shell.execute_reply": "2023-03-24T15:32:59.893722Z"
    },
    "papermill": {
     "duration": 0.027868,
     "end_time": "2023-03-24T15:32:59.897440",
     "exception": false,
     "start_time": "2023-03-24T15:32:59.869572",
     "status": "completed"
    },
    "tags": []
   },
   "outputs": [],
   "source": [
    "test_dataset = XORDataset(size=500)\n",
    "# drop_last -> Don't drop the last batch although it is smaller than 128\n",
    "test_data_loader = data.DataLoader(test_dataset, batch_size=128, shuffle=False, drop_last=False)"
   ]
  },
  {
   "cell_type": "markdown",
   "id": "b12dfa54",
   "metadata": {
    "lines_to_next_cell": 2,
    "papermill": {
     "duration": 0.017327,
     "end_time": "2023-03-24T15:32:59.935623",
     "exception": false,
     "start_time": "2023-03-24T15:32:59.918296",
     "status": "completed"
    },
    "tags": []
   },
   "source": [
    "As metric, we will use accuracy which is calculated as follows:\n",
    "\n",
    "$$acc = \\frac{\\#\\text{correct predictions}}{\\#\\text{all predictions}} = \\frac{TP+TN}{TP+TN+FP+FN}$$\n",
    "\n",
    "where TP are the true positives, TN true negatives, FP false positives, and FN the fale negatives.\n",
    "\n",
    "When evaluating the model, we don't need to keep track of the computation graph as we don't intend to calculate the gradients.\n",
    "This reduces the required memory and speed up the model.\n",
    "In PyTorch, we can deactivate the computation graph using `with torch.no_grad(): ...`.\n",
    "Remember to additionally set the model to eval mode."
   ]
  },
  {
   "cell_type": "code",
   "execution_count": 55,
   "id": "0798141e",
   "metadata": {
    "execution": {
     "iopub.execute_input": "2023-03-24T15:32:59.972196Z",
     "iopub.status.busy": "2023-03-24T15:32:59.971553Z",
     "iopub.status.idle": "2023-03-24T15:32:59.980783Z",
     "shell.execute_reply": "2023-03-24T15:32:59.979874Z"
    },
    "papermill": {
     "duration": 0.03015,
     "end_time": "2023-03-24T15:32:59.983133",
     "exception": false,
     "start_time": "2023-03-24T15:32:59.952983",
     "status": "completed"
    },
    "tags": []
   },
   "outputs": [],
   "source": [
    "def eval_model(model, data_loader):\n",
    "    model.eval()  # Set model to eval mode\n",
    "    true_preds, num_preds = 0.0, 0.0\n",
    "\n",
    "    with torch.no_grad():  # Deactivate gradients for the following code\n",
    "        for data_inputs, data_labels in data_loader:\n",
    "\n",
    "            # Determine prediction of model on dev set\n",
    "            data_inputs, data_labels = data_inputs.to(device), data_labels.to(device)\n",
    "            preds = model(data_inputs)\n",
    "            preds = preds.squeeze(dim=1)\n",
    "            preds = torch.sigmoid(preds)  # Sigmoid to map predictions between 0 and 1\n",
    "            pred_labels = (preds >= 0.5).long()  # Binarize predictions to 0 and 1\n",
    "\n",
    "            # Keep records of predictions for the accuracy metric (true_preds=TP+TN, num_preds=TP+TN+FP+FN)\n",
    "            true_preds += (pred_labels == data_labels).sum()\n",
    "            num_preds += data_labels.shape[0]\n",
    "\n",
    "    acc = true_preds / num_preds\n",
    "    print(f\"Accuracy of the model: {100.0*acc:4.2f}%\")"
   ]
  },
  {
   "cell_type": "code",
   "execution_count": 56,
   "id": "70556b76",
   "metadata": {
    "execution": {
     "iopub.execute_input": "2023-03-24T15:33:00.024263Z",
     "iopub.status.busy": "2023-03-24T15:33:00.023961Z",
     "iopub.status.idle": "2023-03-24T15:33:00.036441Z",
     "shell.execute_reply": "2023-03-24T15:33:00.035418Z"
    },
    "papermill": {
     "duration": 0.033188,
     "end_time": "2023-03-24T15:33:00.038754",
     "exception": false,
     "start_time": "2023-03-24T15:33:00.005566",
     "status": "completed"
    },
    "tags": []
   },
   "outputs": [
    {
     "name": "stdout",
     "output_type": "stream",
     "text": [
      "Accuracy of the model: 100.00%\n"
     ]
    }
   ],
   "source": [
    "eval_model(model, test_data_loader)"
   ]
  },
  {
   "cell_type": "markdown",
   "id": "7401ee73",
   "metadata": {
    "papermill": {
     "duration": 0.017501,
     "end_time": "2023-03-24T15:33:00.079951",
     "exception": false,
     "start_time": "2023-03-24T15:33:00.062450",
     "status": "completed"
    },
    "tags": []
   },
   "source": [
    "If we trained our model correctly, we should see a score close to 100% accuracy.\n",
    "However, this is only possible because of our simple task, and\n",
    "unfortunately, we usually don't get such high scores on test sets of\n",
    "more complex tasks."
   ]
  },
  {
   "cell_type": "markdown",
   "id": "dd6f7cad",
   "metadata": {
    "lines_to_next_cell": 2,
    "papermill": {
     "duration": 0.01746,
     "end_time": "2023-03-24T15:33:00.114896",
     "exception": false,
     "start_time": "2023-03-24T15:33:00.097436",
     "status": "completed"
    },
    "tags": []
   },
   "source": [
    "#### Visualizing classification boundaries\n",
    "\n",
    "To visualize what our model has learned, we can perform a prediction for every data point in a range of $[-0.5, 1.5]$, and visualize the predicted class as in the sample figure at the beginning of this section.\n",
    "This shows where the model has created decision boundaries, and which points would be classified as $0$, and which as $1$.\n",
    "We therefore get a background image out of blue (class 0) and orange (class 1).\n",
    "The spots where the model is uncertain we will see a blurry overlap.\n",
    "The specific code is less relevant compared to the output figure which\n",
    "should hopefully show us a clear separation of classes:"
   ]
  },
  {
   "cell_type": "code",
   "execution_count": 57,
   "id": "3cd4cdd3",
   "metadata": {
    "execution": {
     "iopub.execute_input": "2023-03-24T15:33:00.152369Z",
     "iopub.status.busy": "2023-03-24T15:33:00.151714Z",
     "iopub.status.idle": "2023-03-24T15:33:00.521773Z",
     "shell.execute_reply": "2023-03-24T15:33:00.520647Z"
    },
    "papermill": {
     "duration": 0.393455,
     "end_time": "2023-03-24T15:33:00.526032",
     "exception": false,
     "start_time": "2023-03-24T15:33:00.132577",
     "status": "completed"
    },
    "tags": []
   },
   "outputs": [
    {
     "name": "stderr",
     "output_type": "stream",
     "text": [
      "/usr/local/lib/python3.9/dist-packages/torch/functional.py:478: UserWarning: torch.meshgrid: in an upcoming release, it will be required to pass the indexing argument. (Triggered internally at  ../aten/src/ATen/native/TensorShape.cpp:2894.)\n",
      "  return _VF.meshgrid(tensors, **kwargs)  # type: ignore[attr-defined]\n"
     ]
    },
    {
     "data": {
      "application/pdf": "[encoded data removed]",
      "image/svg+xml": [
       "<?xml version=\"1.0\" encoding=\"utf-8\" standalone=\"no\"?>\n",
       "<!DOCTYPE svg PUBLIC \"-//W3C//DTD SVG 1.1//EN\"\n",
       "  \"http://www.w3.org/Graphics/SVG/1.1/DTD/svg11.dtd\">\n",
       "<!-- Created with matplotlib (https://matplotlib.org/) -->\n",
       "<svg height=\"281.634375pt\" version=\"1.1\" viewBox=\"0 0 295.435 281.634375\" width=\"295.435pt\" xmlns=\"http://www.w3.org/2000/svg\" xmlns:xlink=\"http://www.w3.org/1999/xlink\">\n",
       " <metadata>\n",
       "  <rdf:RDF xmlns:cc=\"http://creativecommons.org/ns#\" xmlns:dc=\"http://purl.org/dc/elements/1.1/\" xmlns:rdf=\"http://www.w3.org/1999/02/22-rdf-syntax-ns#\">\n",
       "   <cc:Work>\n",
       "    <dc:type rdf:resource=\"http://purl.org/dc/dcmitype/StillImage\"/>\n",
       "    <dc:date>2023-03-24T15:33:00.264652</dc:date>\n",
       "    <dc:format>image/svg+xml</dc:format>\n",
       "    <dc:creator>\n",
       "     <cc:Agent>\n",
       "      <dc:title>Matplotlib v3.3.4, https://matplotlib.org/</dc:title>\n",
       "     </cc:Agent>\n",
       "    </dc:creator>\n",
       "   </cc:Work>\n",
       "  </rdf:RDF>\n",
       " </metadata>\n",
       " <defs>\n",
       "  <style type=\"text/css\">*{stroke-linecap:butt;stroke-linejoin:round;}</style>\n",
       " </defs>\n",
       " <g id=\"figure_1\">\n",
       "  <g id=\"patch_1\">\n",
       "   <path d=\"M 0 281.634375 \n",
       "L 295.435 281.634375 \n",
       "L 295.435 0 \n",
       "L 0 0 \n",
       "z\n",
       "\" style=\"fill:#ffffff;\"/>\n",
       "  </g>\n",
       "  <g id=\"axes_1\">\n",
       "   <g id=\"patch_2\">\n",
       "    <path d=\"M 58.523438 244.078125 \n",
       "L 280.283437 244.078125 \n",
       "L 280.283437 22.318125 \n",
       "L 58.523438 22.318125 \n",
       "z\n",
       "\" style=\"fill:#ffffff;\"/>\n",
       "   </g>\n",
       "   <g clip-path=\"url(#p663b3ad15e)\">\n",
       "    <image height=\"221.76\" id=\"image3e1c7a7910\" transform=\"scale(1 -1)translate(0 -221.76)\" width=\"221.76\" x=\"58.523438\" xlink:href=\"data:image/png;base64,\n",
       "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\" y=\"-22.318125\"/>\n",
       "   </g>\n",
       "   <g id=\"PathCollection_1\">\n",
       "    <defs>\n",
       "     <path d=\"M 0 3 \n",
       "C 0.795609 3 1.55874 2.683901 2.12132 2.12132 \n",
       "C 2.683901 1.55874 3 0.795609 3 0 \n",
       "C 3 -0.795609 2.683901 -1.55874 2.12132 -2.12132 \n",
       "C 1.55874 -2.683901 0.795609 -3 0 -3 \n",
       "C -0.795609 -3 -1.55874 -2.683901 -2.12132 -2.12132 \n",
       "C -2.683901 -1.55874 -3 -0.795609 -3 0 \n",
       "C -3 0.795609 -2.683901 1.55874 -2.12132 2.12132 \n",
       "C -1.55874 2.683901 -0.795609 3 0 3 \n",
       "z\n",
       "\" id=\"mb2f0aaa9cc\" style=\"stroke:#333333;\"/>\n",
       "    </defs>\n",
       "    <g clip-path=\"url(#p663b3ad15e)\">\n",
       "     <use style=\"fill:#1f77b4;stroke:#333333;\" x=\"113.195515\" xlink:href=\"#mb2f0aaa9cc\" y=\"186.220054\"/>\n",
       "     <use style=\"fill:#1f77b4;stroke:#333333;\" x=\"221.710782\" xlink:href=\"#mb2f0aaa9cc\" y=\"80.846467\"/>\n",
       "     <use style=\"fill:#1f77b4;stroke:#333333;\" x=\"243.232044\" xlink:href=\"#mb2f0aaa9cc\" y=\"82.16015\"/>\n",
       "     <use style=\"fill:#1f77b4;stroke:#333333;\" x=\"123.269298\" xlink:href=\"#mb2f0aaa9cc\" y=\"195.12372\"/>\n",
       "     <use style=\"fill:#1f77b4;stroke:#333333;\" x=\"117.203806\" xlink:href=\"#mb2f0aaa9cc\" y=\"195.632543\"/>\n",
       "     <use style=\"fill:#1f77b4;stroke:#333333;\" x=\"92.948143\" xlink:href=\"#mb2f0aaa9cc\" y=\"183.1958\"/>\n",
       "     <use style=\"fill:#1f77b4;stroke:#333333;\" x=\"230.366588\" xlink:href=\"#mb2f0aaa9cc\" y=\"77.971621\"/>\n",
       "     <use style=\"fill:#1f77b4;stroke:#333333;\" x=\"221.678048\" xlink:href=\"#mb2f0aaa9cc\" y=\"72.24781\"/>\n",
       "     <use style=\"fill:#1f77b4;stroke:#333333;\" x=\"111.330726\" xlink:href=\"#mb2f0aaa9cc\" y=\"195.237069\"/>\n",
       "     <use style=\"fill:#1f77b4;stroke:#333333;\" x=\"226.092545\" xlink:href=\"#mb2f0aaa9cc\" y=\"73.960007\"/>\n",
       "     <use style=\"fill:#1f77b4;stroke:#333333;\" x=\"118.976316\" xlink:href=\"#mb2f0aaa9cc\" y=\"191.830507\"/>\n",
       "     <use style=\"fill:#1f77b4;stroke:#333333;\" x=\"240.494625\" xlink:href=\"#mb2f0aaa9cc\" y=\"56.793833\"/>\n",
       "     <use style=\"fill:#1f77b4;stroke:#333333;\" x=\"226.507455\" xlink:href=\"#mb2f0aaa9cc\" y=\"81.203662\"/>\n",
       "     <use style=\"fill:#1f77b4;stroke:#333333;\" x=\"221.800638\" xlink:href=\"#mb2f0aaa9cc\" y=\"77.31962\"/>\n",
       "     <use style=\"fill:#1f77b4;stroke:#333333;\" x=\"111.558742\" xlink:href=\"#mb2f0aaa9cc\" y=\"201.723884\"/>\n",
       "     <use style=\"fill:#1f77b4;stroke:#333333;\" x=\"107.53589\" xlink:href=\"#mb2f0aaa9cc\" y=\"179.56279\"/>\n",
       "     <use style=\"fill:#1f77b4;stroke:#333333;\" x=\"237.067058\" xlink:href=\"#mb2f0aaa9cc\" y=\"103.875214\"/>\n",
       "     <use style=\"fill:#1f77b4;stroke:#333333;\" x=\"239.903374\" xlink:href=\"#mb2f0aaa9cc\" y=\"98.203633\"/>\n",
       "     <use style=\"fill:#1f77b4;stroke:#333333;\" x=\"216.952501\" xlink:href=\"#mb2f0aaa9cc\" y=\"78.431175\"/>\n",
       "     <use style=\"fill:#1f77b4;stroke:#333333;\" x=\"101.773065\" xlink:href=\"#mb2f0aaa9cc\" y=\"198.973538\"/>\n",
       "     <use style=\"fill:#1f77b4;stroke:#333333;\" x=\"239.23\" xlink:href=\"#mb2f0aaa9cc\" y=\"57.133746\"/>\n",
       "     <use style=\"fill:#1f77b4;stroke:#333333;\" x=\"232.177523\" xlink:href=\"#mb2f0aaa9cc\" y=\"79.087901\"/>\n",
       "     <use style=\"fill:#1f77b4;stroke:#333333;\" x=\"127.672885\" xlink:href=\"#mb2f0aaa9cc\" y=\"172.172485\"/>\n",
       "     <use style=\"fill:#1f77b4;stroke:#333333;\" x=\"218.992926\" xlink:href=\"#mb2f0aaa9cc\" y=\"56.901864\"/>\n",
       "     <use style=\"fill:#1f77b4;stroke:#333333;\" x=\"115.968899\" xlink:href=\"#mb2f0aaa9cc\" y=\"187.386303\"/>\n",
       "     <use style=\"fill:#1f77b4;stroke:#333333;\" x=\"218.312949\" xlink:href=\"#mb2f0aaa9cc\" y=\"72.299531\"/>\n",
       "     <use style=\"fill:#1f77b4;stroke:#333333;\" x=\"105.656917\" xlink:href=\"#mb2f0aaa9cc\" y=\"175.108704\"/>\n",
       "     <use style=\"fill:#1f77b4;stroke:#333333;\" x=\"236.635096\" xlink:href=\"#mb2f0aaa9cc\" y=\"70.105937\"/>\n",
       "     <use style=\"fill:#1f77b4;stroke:#333333;\" x=\"233.17307\" xlink:href=\"#mb2f0aaa9cc\" y=\"80.338555\"/>\n",
       "     <use style=\"fill:#1f77b4;stroke:#333333;\" x=\"228.203395\" xlink:href=\"#mb2f0aaa9cc\" y=\"66.025246\"/>\n",
       "     <use style=\"fill:#1f77b4;stroke:#333333;\" x=\"110.021339\" xlink:href=\"#mb2f0aaa9cc\" y=\"179.02908\"/>\n",
       "     <use style=\"fill:#1f77b4;stroke:#333333;\" x=\"119.746142\" xlink:href=\"#mb2f0aaa9cc\" y=\"199.381179\"/>\n",
       "     <use style=\"fill:#1f77b4;stroke:#333333;\" x=\"106.039897\" xlink:href=\"#mb2f0aaa9cc\" y=\"167.182692\"/>\n",
       "     <use style=\"fill:#1f77b4;stroke:#333333;\" x=\"114.341698\" xlink:href=\"#mb2f0aaa9cc\" y=\"192.641004\"/>\n",
       "     <use style=\"fill:#1f77b4;stroke:#333333;\" x=\"125.898594\" xlink:href=\"#mb2f0aaa9cc\" y=\"192.278562\"/>\n",
       "     <use style=\"fill:#1f77b4;stroke:#333333;\" x=\"110.857315\" xlink:href=\"#mb2f0aaa9cc\" y=\"188.129039\"/>\n",
       "     <use style=\"fill:#1f77b4;stroke:#333333;\" x=\"126.506099\" xlink:href=\"#mb2f0aaa9cc\" y=\"201.390996\"/>\n",
       "     <use style=\"fill:#1f77b4;stroke:#333333;\" x=\"207.214366\" xlink:href=\"#mb2f0aaa9cc\" y=\"62.752964\"/>\n",
       "     <use style=\"fill:#1f77b4;stroke:#333333;\" x=\"238.778991\" xlink:href=\"#mb2f0aaa9cc\" y=\"82.822342\"/>\n",
       "     <use style=\"fill:#1f77b4;stroke:#333333;\" x=\"226.623046\" xlink:href=\"#mb2f0aaa9cc\" y=\"82.143542\"/>\n",
       "     <use style=\"fill:#1f77b4;stroke:#333333;\" x=\"110.815765\" xlink:href=\"#mb2f0aaa9cc\" y=\"195.927818\"/>\n",
       "     <use style=\"fill:#1f77b4;stroke:#333333;\" x=\"214.22789\" xlink:href=\"#mb2f0aaa9cc\" y=\"102.492744\"/>\n",
       "     <use style=\"fill:#1f77b4;stroke:#333333;\" x=\"232.910258\" xlink:href=\"#mb2f0aaa9cc\" y=\"76.537965\"/>\n",
       "     <use style=\"fill:#1f77b4;stroke:#333333;\" x=\"114.471897\" xlink:href=\"#mb2f0aaa9cc\" y=\"201.322981\"/>\n",
       "     <use style=\"fill:#1f77b4;stroke:#333333;\" x=\"124.624715\" xlink:href=\"#mb2f0aaa9cc\" y=\"205.781717\"/>\n",
       "     <use style=\"fill:#1f77b4;stroke:#333333;\" x=\"131.555264\" xlink:href=\"#mb2f0aaa9cc\" y=\"173.128814\"/>\n",
       "     <use style=\"fill:#1f77b4;stroke:#333333;\" x=\"219.611254\" xlink:href=\"#mb2f0aaa9cc\" y=\"88.656715\"/>\n",
       "     <use style=\"fill:#1f77b4;stroke:#333333;\" x=\"209.760052\" xlink:href=\"#mb2f0aaa9cc\" y=\"66.559184\"/>\n",
       "     <use style=\"fill:#1f77b4;stroke:#333333;\" x=\"108.486509\" xlink:href=\"#mb2f0aaa9cc\" y=\"196.251498\"/>\n",
       "     <use style=\"fill:#1f77b4;stroke:#333333;\" x=\"220.575601\" xlink:href=\"#mb2f0aaa9cc\" y=\"85.93973\"/>\n",
       "     <use style=\"fill:#1f77b4;stroke:#333333;\" x=\"115.058788\" xlink:href=\"#mb2f0aaa9cc\" y=\"192.411682\"/>\n",
       "     <use style=\"fill:#1f77b4;stroke:#333333;\" x=\"229.895752\" xlink:href=\"#mb2f0aaa9cc\" y=\"57.924442\"/>\n",
       "     <use style=\"fill:#1f77b4;stroke:#333333;\" x=\"112.280493\" xlink:href=\"#mb2f0aaa9cc\" y=\"182.552864\"/>\n",
       "     <use style=\"fill:#1f77b4;stroke:#333333;\" x=\"218.195244\" xlink:href=\"#mb2f0aaa9cc\" y=\"92.438423\"/>\n",
       "     <use style=\"fill:#1f77b4;stroke:#333333;\" x=\"227.390466\" xlink:href=\"#mb2f0aaa9cc\" y=\"69.031492\"/>\n",
       "     <use style=\"fill:#1f77b4;stroke:#333333;\" x=\"92.949807\" xlink:href=\"#mb2f0aaa9cc\" y=\"184.038091\"/>\n",
       "     <use style=\"fill:#1f77b4;stroke:#333333;\" x=\"209.661453\" xlink:href=\"#mb2f0aaa9cc\" y=\"68.839158\"/>\n",
       "     <use style=\"fill:#1f77b4;stroke:#333333;\" x=\"233.929427\" xlink:href=\"#mb2f0aaa9cc\" y=\"83.633705\"/>\n",
       "     <use style=\"fill:#1f77b4;stroke:#333333;\" x=\"102.508209\" xlink:href=\"#mb2f0aaa9cc\" y=\"189.029698\"/>\n",
       "     <use style=\"fill:#1f77b4;stroke:#333333;\" x=\"111.835358\" xlink:href=\"#mb2f0aaa9cc\" y=\"215.578994\"/>\n",
       "     <use style=\"fill:#1f77b4;stroke:#333333;\" x=\"111.399635\" xlink:href=\"#mb2f0aaa9cc\" y=\"191.479002\"/>\n",
       "     <use style=\"fill:#1f77b4;stroke:#333333;\" x=\"96.899612\" xlink:href=\"#mb2f0aaa9cc\" y=\"191.587679\"/>\n",
       "     <use style=\"fill:#1f77b4;stroke:#333333;\" x=\"245.296645\" xlink:href=\"#mb2f0aaa9cc\" y=\"83.744325\"/>\n",
       "     <use style=\"fill:#1f77b4;stroke:#333333;\" x=\"218.188469\" xlink:href=\"#mb2f0aaa9cc\" y=\"90.176102\"/>\n",
       "     <use style=\"fill:#1f77b4;stroke:#333333;\" x=\"238.904561\" xlink:href=\"#mb2f0aaa9cc\" y=\"62.800786\"/>\n",
       "     <use style=\"fill:#1f77b4;stroke:#333333;\" x=\"97.350652\" xlink:href=\"#mb2f0aaa9cc\" y=\"179.790426\"/>\n",
       "     <use style=\"fill:#1f77b4;stroke:#333333;\" x=\"227.178569\" xlink:href=\"#mb2f0aaa9cc\" y=\"97.140489\"/>\n",
       "     <use style=\"fill:#1f77b4;stroke:#333333;\" x=\"235.43282\" xlink:href=\"#mb2f0aaa9cc\" y=\"102.94976\"/>\n",
       "     <use style=\"fill:#1f77b4;stroke:#333333;\" x=\"130.843263\" xlink:href=\"#mb2f0aaa9cc\" y=\"206.284387\"/>\n",
       "     <use style=\"fill:#1f77b4;stroke:#333333;\" x=\"123.107291\" xlink:href=\"#mb2f0aaa9cc\" y=\"197.261204\"/>\n",
       "     <use style=\"fill:#1f77b4;stroke:#333333;\" x=\"112.11527\" xlink:href=\"#mb2f0aaa9cc\" y=\"183.56805\"/>\n",
       "     <use style=\"fill:#1f77b4;stroke:#333333;\" x=\"112.789919\" xlink:href=\"#mb2f0aaa9cc\" y=\"181.71065\"/>\n",
       "     <use style=\"fill:#1f77b4;stroke:#333333;\" x=\"227.667659\" xlink:href=\"#mb2f0aaa9cc\" y=\"74.198881\"/>\n",
       "     <use style=\"fill:#1f77b4;stroke:#333333;\" x=\"217.644525\" xlink:href=\"#mb2f0aaa9cc\" y=\"101.73884\"/>\n",
       "     <use style=\"fill:#1f77b4;stroke:#333333;\" x=\"112.080495\" xlink:href=\"#mb2f0aaa9cc\" y=\"187.984213\"/>\n",
       "     <use style=\"fill:#1f77b4;stroke:#333333;\" x=\"121.732773\" xlink:href=\"#mb2f0aaa9cc\" y=\"181.018964\"/>\n",
       "     <use style=\"fill:#1f77b4;stroke:#333333;\" x=\"122.993177\" xlink:href=\"#mb2f0aaa9cc\" y=\"186.856615\"/>\n",
       "     <use style=\"fill:#1f77b4;stroke:#333333;\" x=\"227.44228\" xlink:href=\"#mb2f0aaa9cc\" y=\"61.12244\"/>\n",
       "     <use style=\"fill:#1f77b4;stroke:#333333;\" x=\"226.714805\" xlink:href=\"#mb2f0aaa9cc\" y=\"59.647478\"/>\n",
       "     <use style=\"fill:#1f77b4;stroke:#333333;\" x=\"113.74136\" xlink:href=\"#mb2f0aaa9cc\" y=\"198.094838\"/>\n",
       "     <use style=\"fill:#1f77b4;stroke:#333333;\" x=\"236.079494\" xlink:href=\"#mb2f0aaa9cc\" y=\"61.2117\"/>\n",
       "     <use style=\"fill:#1f77b4;stroke:#333333;\" x=\"221.951996\" xlink:href=\"#mb2f0aaa9cc\" y=\"89.063668\"/>\n",
       "     <use style=\"fill:#1f77b4;stroke:#333333;\" x=\"234.614736\" xlink:href=\"#mb2f0aaa9cc\" y=\"57.89601\"/>\n",
       "     <use style=\"fill:#1f77b4;stroke:#333333;\" x=\"106.894142\" xlink:href=\"#mb2f0aaa9cc\" y=\"185.920992\"/>\n",
       "     <use style=\"fill:#1f77b4;stroke:#333333;\" x=\"223.479784\" xlink:href=\"#mb2f0aaa9cc\" y=\"69.480465\"/>\n",
       "     <use style=\"fill:#1f77b4;stroke:#333333;\" x=\"114.973638\" xlink:href=\"#mb2f0aaa9cc\" y=\"201.634928\"/>\n",
       "     <use style=\"fill:#1f77b4;stroke:#333333;\" x=\"122.379358\" xlink:href=\"#mb2f0aaa9cc\" y=\"195.044299\"/>\n",
       "     <use style=\"fill:#1f77b4;stroke:#333333;\" x=\"106.332763\" xlink:href=\"#mb2f0aaa9cc\" y=\"184.526148\"/>\n",
       "     <use style=\"fill:#1f77b4;stroke:#333333;\" x=\"206.329809\" xlink:href=\"#mb2f0aaa9cc\" y=\"74.176331\"/>\n",
       "     <use style=\"fill:#1f77b4;stroke:#333333;\" x=\"216.203329\" xlink:href=\"#mb2f0aaa9cc\" y=\"69.35652\"/>\n",
       "     <use style=\"fill:#1f77b4;stroke:#333333;\" x=\"198.196515\" xlink:href=\"#mb2f0aaa9cc\" y=\"66.827799\"/>\n",
       "     <use style=\"fill:#1f77b4;stroke:#333333;\" x=\"105.736999\" xlink:href=\"#mb2f0aaa9cc\" y=\"184.781798\"/>\n",
       "     <use style=\"fill:#1f77b4;stroke:#333333;\" x=\"129.483873\" xlink:href=\"#mb2f0aaa9cc\" y=\"197.184571\"/>\n",
       "     <use style=\"fill:#1f77b4;stroke:#333333;\" x=\"109.570319\" xlink:href=\"#mb2f0aaa9cc\" y=\"199.468055\"/>\n",
       "     <use style=\"fill:#1f77b4;stroke:#333333;\" x=\"216.782036\" xlink:href=\"#mb2f0aaa9cc\" y=\"103.788253\"/>\n",
       "     <use style=\"fill:#1f77b4;stroke:#333333;\" x=\"117.812493\" xlink:href=\"#mb2f0aaa9cc\" y=\"187.808871\"/>\n",
       "     <use style=\"fill:#1f77b4;stroke:#333333;\" x=\"112.07121\" xlink:href=\"#mb2f0aaa9cc\" y=\"182.8646\"/>\n",
       "     <use style=\"fill:#1f77b4;stroke:#333333;\" x=\"107.763042\" xlink:href=\"#mb2f0aaa9cc\" y=\"191.761072\"/>\n",
       "     <use style=\"fill:#1f77b4;stroke:#333333;\" x=\"115.478187\" xlink:href=\"#mb2f0aaa9cc\" y=\"198.173384\"/>\n",
       "     <use style=\"fill:#1f77b4;stroke:#333333;\" x=\"205.33931\" xlink:href=\"#mb2f0aaa9cc\" y=\"77.410811\"/>\n",
       "     <use style=\"fill:#1f77b4;stroke:#333333;\" x=\"212.672576\" xlink:href=\"#mb2f0aaa9cc\" y=\"64.238434\"/>\n",
       "     <use style=\"fill:#1f77b4;stroke:#333333;\" x=\"93.870909\" xlink:href=\"#mb2f0aaa9cc\" y=\"203.18529\"/>\n",
       "     <use style=\"fill:#1f77b4;stroke:#333333;\" x=\"224.79543\" xlink:href=\"#mb2f0aaa9cc\" y=\"95.562328\"/>\n",
       "    </g>\n",
       "   </g>\n",
       "   <g id=\"PathCollection_2\">\n",
       "    <defs>\n",
       "     <path d=\"M 0 3 \n",
       "C 0.795609 3 1.55874 2.683901 2.12132 2.12132 \n",
       "C 2.683901 1.55874 3 0.795609 3 0 \n",
       "C 3 -0.795609 2.683901 -1.55874 2.12132 -2.12132 \n",
       "C 1.55874 -2.683901 0.795609 -3 0 -3 \n",
       "C -0.795609 -3 -1.55874 -2.683901 -2.12132 -2.12132 \n",
       "C -2.683901 -1.55874 -3 -0.795609 -3 0 \n",
       "C -3 0.795609 -2.683901 1.55874 -2.12132 2.12132 \n",
       "C -1.55874 2.683901 -0.795609 3 0 3 \n",
       "z\n",
       "\" id=\"m3990c72bb0\" style=\"stroke:#333333;\"/>\n",
       "    </defs>\n",
       "    <g clip-path=\"url(#p663b3ad15e)\">\n",
       "     <use style=\"fill:#ff7f0e;stroke:#333333;\" x=\"220.767016\" xlink:href=\"#m3990c72bb0\" y=\"176.250001\"/>\n",
       "     <use style=\"fill:#ff7f0e;stroke:#333333;\" x=\"231.131522\" xlink:href=\"#m3990c72bb0\" y=\"176.467229\"/>\n",
       "     <use style=\"fill:#ff7f0e;stroke:#333333;\" x=\"221.678359\" xlink:href=\"#m3990c72bb0\" y=\"190.72399\"/>\n",
       "     <use style=\"fill:#ff7f0e;stroke:#333333;\" x=\"107.947214\" xlink:href=\"#m3990c72bb0\" y=\"67.389997\"/>\n",
       "     <use style=\"fill:#ff7f0e;stroke:#333333;\" x=\"236.60262\" xlink:href=\"#m3990c72bb0\" y=\"192.866643\"/>\n",
       "     <use style=\"fill:#ff7f0e;stroke:#333333;\" x=\"116.464039\" xlink:href=\"#m3990c72bb0\" y=\"81.977829\"/>\n",
       "     <use style=\"fill:#ff7f0e;stroke:#333333;\" x=\"211.96161\" xlink:href=\"#m3990c72bb0\" y=\"200.698784\"/>\n",
       "     <use style=\"fill:#ff7f0e;stroke:#333333;\" x=\"140.604509\" xlink:href=\"#m3990c72bb0\" y=\"78.801317\"/>\n",
       "     <use style=\"fill:#ff7f0e;stroke:#333333;\" x=\"234.084209\" xlink:href=\"#m3990c72bb0\" y=\"205.395483\"/>\n",
       "     <use style=\"fill:#ff7f0e;stroke:#333333;\" x=\"207.912755\" xlink:href=\"#m3990c72bb0\" y=\"179.980683\"/>\n",
       "     <use style=\"fill:#ff7f0e;stroke:#333333;\" x=\"219.991474\" xlink:href=\"#m3990c72bb0\" y=\"169.907623\"/>\n",
       "     <use style=\"fill:#ff7f0e;stroke:#333333;\" x=\"88.749447\" xlink:href=\"#m3990c72bb0\" y=\"66.726338\"/>\n",
       "     <use style=\"fill:#ff7f0e;stroke:#333333;\" x=\"129.402456\" xlink:href=\"#m3990c72bb0\" y=\"67.502468\"/>\n",
       "     <use style=\"fill:#ff7f0e;stroke:#333333;\" x=\"113.328071\" xlink:href=\"#m3990c72bb0\" y=\"92.374058\"/>\n",
       "     <use style=\"fill:#ff7f0e;stroke:#333333;\" x=\"113.576594\" xlink:href=\"#m3990c72bb0\" y=\"64.737966\"/>\n",
       "     <use style=\"fill:#ff7f0e;stroke:#333333;\" x=\"96.72538\" xlink:href=\"#m3990c72bb0\" y=\"62.279233\"/>\n",
       "     <use style=\"fill:#ff7f0e;stroke:#333333;\" x=\"223.201183\" xlink:href=\"#m3990c72bb0\" y=\"192.99315\"/>\n",
       "     <use style=\"fill:#ff7f0e;stroke:#333333;\" x=\"209.100346\" xlink:href=\"#m3990c72bb0\" y=\"176.132059\"/>\n",
       "     <use style=\"fill:#ff7f0e;stroke:#333333;\" x=\"216.824769\" xlink:href=\"#m3990c72bb0\" y=\"177.791622\"/>\n",
       "     <use style=\"fill:#ff7f0e;stroke:#333333;\" x=\"122.450294\" xlink:href=\"#m3990c72bb0\" y=\"78.528215\"/>\n",
       "     <use style=\"fill:#ff7f0e;stroke:#333333;\" x=\"205.889592\" xlink:href=\"#m3990c72bb0\" y=\"185.273851\"/>\n",
       "     <use style=\"fill:#ff7f0e;stroke:#333333;\" x=\"241.721156\" xlink:href=\"#m3990c72bb0\" y=\"192.01743\"/>\n",
       "     <use style=\"fill:#ff7f0e;stroke:#333333;\" x=\"234.877244\" xlink:href=\"#m3990c72bb0\" y=\"190.061763\"/>\n",
       "     <use style=\"fill:#ff7f0e;stroke:#333333;\" x=\"214.690458\" xlink:href=\"#m3990c72bb0\" y=\"193.281157\"/>\n",
       "     <use style=\"fill:#ff7f0e;stroke:#333333;\" x=\"239.750826\" xlink:href=\"#m3990c72bb0\" y=\"172.669489\"/>\n",
       "     <use style=\"fill:#ff7f0e;stroke:#333333;\" x=\"102.71463\" xlink:href=\"#m3990c72bb0\" y=\"87.297013\"/>\n",
       "     <use style=\"fill:#ff7f0e;stroke:#333333;\" x=\"237.432124\" xlink:href=\"#m3990c72bb0\" y=\"175.02622\"/>\n",
       "     <use style=\"fill:#ff7f0e;stroke:#333333;\" x=\"124.792888\" xlink:href=\"#m3990c72bb0\" y=\"75.206008\"/>\n",
       "     <use style=\"fill:#ff7f0e;stroke:#333333;\" x=\"221.765696\" xlink:href=\"#m3990c72bb0\" y=\"174.447061\"/>\n",
       "     <use style=\"fill:#ff7f0e;stroke:#333333;\" x=\"90.961195\" xlink:href=\"#m3990c72bb0\" y=\"76.692403\"/>\n",
       "     <use style=\"fill:#ff7f0e;stroke:#333333;\" x=\"112.328155\" xlink:href=\"#m3990c72bb0\" y=\"84.039634\"/>\n",
       "     <use style=\"fill:#ff7f0e;stroke:#333333;\" x=\"214.784239\" xlink:href=\"#m3990c72bb0\" y=\"198.548117\"/>\n",
       "     <use style=\"fill:#ff7f0e;stroke:#333333;\" x=\"208.031141\" xlink:href=\"#m3990c72bb0\" y=\"178.033399\"/>\n",
       "     <use style=\"fill:#ff7f0e;stroke:#333333;\" x=\"116.308327\" xlink:href=\"#m3990c72bb0\" y=\"79.654878\"/>\n",
       "     <use style=\"fill:#ff7f0e;stroke:#333333;\" x=\"231.359148\" xlink:href=\"#m3990c72bb0\" y=\"178.616469\"/>\n",
       "     <use style=\"fill:#ff7f0e;stroke:#333333;\" x=\"116.769166\" xlink:href=\"#m3990c72bb0\" y=\"85.978545\"/>\n",
       "     <use style=\"fill:#ff7f0e;stroke:#333333;\" x=\"114.294124\" xlink:href=\"#m3990c72bb0\" y=\"88.187855\"/>\n",
       "     <use style=\"fill:#ff7f0e;stroke:#333333;\" x=\"245.040085\" xlink:href=\"#m3990c72bb0\" y=\"199.098321\"/>\n",
       "     <use style=\"fill:#ff7f0e;stroke:#333333;\" x=\"221.293995\" xlink:href=\"#m3990c72bb0\" y=\"175.576065\"/>\n",
       "     <use style=\"fill:#ff7f0e;stroke:#333333;\" x=\"103.698938\" xlink:href=\"#m3990c72bb0\" y=\"75.770625\"/>\n",
       "     <use style=\"fill:#ff7f0e;stroke:#333333;\" x=\"127.898667\" xlink:href=\"#m3990c72bb0\" y=\"77.42157\"/>\n",
       "     <use style=\"fill:#ff7f0e;stroke:#333333;\" x=\"130.644729\" xlink:href=\"#m3990c72bb0\" y=\"63.284893\"/>\n",
       "     <use style=\"fill:#ff7f0e;stroke:#333333;\" x=\"231.522337\" xlink:href=\"#m3990c72bb0\" y=\"196.664997\"/>\n",
       "     <use style=\"fill:#ff7f0e;stroke:#333333;\" x=\"104.102965\" xlink:href=\"#m3990c72bb0\" y=\"79.111389\"/>\n",
       "     <use style=\"fill:#ff7f0e;stroke:#333333;\" x=\"219.355249\" xlink:href=\"#m3990c72bb0\" y=\"179.737074\"/>\n",
       "     <use style=\"fill:#ff7f0e;stroke:#333333;\" x=\"116.036713\" xlink:href=\"#m3990c72bb0\" y=\"89.971152\"/>\n",
       "     <use style=\"fill:#ff7f0e;stroke:#333333;\" x=\"122.358905\" xlink:href=\"#m3990c72bb0\" y=\"71.193654\"/>\n",
       "     <use style=\"fill:#ff7f0e;stroke:#333333;\" x=\"121.48517\" xlink:href=\"#m3990c72bb0\" y=\"73.963391\"/>\n",
       "     <use style=\"fill:#ff7f0e;stroke:#333333;\" x=\"212.311793\" xlink:href=\"#m3990c72bb0\" y=\"180.459621\"/>\n",
       "     <use style=\"fill:#ff7f0e;stroke:#333333;\" x=\"104.097916\" xlink:href=\"#m3990c72bb0\" y=\"93.187199\"/>\n",
       "     <use style=\"fill:#ff7f0e;stroke:#333333;\" x=\"120.533857\" xlink:href=\"#m3990c72bb0\" y=\"69.61394\"/>\n",
       "     <use style=\"fill:#ff7f0e;stroke:#333333;\" x=\"205.690993\" xlink:href=\"#m3990c72bb0\" y=\"177.286919\"/>\n",
       "     <use style=\"fill:#ff7f0e;stroke:#333333;\" x=\"227.085039\" xlink:href=\"#m3990c72bb0\" y=\"200.08992\"/>\n",
       "     <use style=\"fill:#ff7f0e;stroke:#333333;\" x=\"118.478957\" xlink:href=\"#m3990c72bb0\" y=\"70.023352\"/>\n",
       "     <use style=\"fill:#ff7f0e;stroke:#333333;\" x=\"123.52011\" xlink:href=\"#m3990c72bb0\" y=\"85.381901\"/>\n",
       "     <use style=\"fill:#ff7f0e;stroke:#333333;\" x=\"211.205756\" xlink:href=\"#m3990c72bb0\" y=\"187.65421\"/>\n",
       "     <use style=\"fill:#ff7f0e;stroke:#333333;\" x=\"204.407632\" xlink:href=\"#m3990c72bb0\" y=\"189.820486\"/>\n",
       "     <use style=\"fill:#ff7f0e;stroke:#333333;\" x=\"121.267494\" xlink:href=\"#m3990c72bb0\" y=\"81.027196\"/>\n",
       "     <use style=\"fill:#ff7f0e;stroke:#333333;\" x=\"86.011704\" xlink:href=\"#m3990c72bb0\" y=\"86.786094\"/>\n",
       "     <use style=\"fill:#ff7f0e;stroke:#333333;\" x=\"109.616422\" xlink:href=\"#m3990c72bb0\" y=\"93.155925\"/>\n",
       "     <use style=\"fill:#ff7f0e;stroke:#333333;\" x=\"123.724868\" xlink:href=\"#m3990c72bb0\" y=\"72.790696\"/>\n",
       "     <use style=\"fill:#ff7f0e;stroke:#333333;\" x=\"106.173334\" xlink:href=\"#m3990c72bb0\" y=\"81.712552\"/>\n",
       "     <use style=\"fill:#ff7f0e;stroke:#333333;\" x=\"111.375217\" xlink:href=\"#m3990c72bb0\" y=\"75.724587\"/>\n",
       "     <use style=\"fill:#ff7f0e;stroke:#333333;\" x=\"124.228576\" xlink:href=\"#m3990c72bb0\" y=\"85.759312\"/>\n",
       "     <use style=\"fill:#ff7f0e;stroke:#333333;\" x=\"241.904132\" xlink:href=\"#m3990c72bb0\" y=\"193.443387\"/>\n",
       "     <use style=\"fill:#ff7f0e;stroke:#333333;\" x=\"99.965801\" xlink:href=\"#m3990c72bb0\" y=\"62.935834\"/>\n",
       "     <use style=\"fill:#ff7f0e;stroke:#333333;\" x=\"242.487849\" xlink:href=\"#m3990c72bb0\" y=\"179.542785\"/>\n",
       "     <use style=\"fill:#ff7f0e;stroke:#333333;\" x=\"231.888341\" xlink:href=\"#m3990c72bb0\" y=\"168.981782\"/>\n",
       "     <use style=\"fill:#ff7f0e;stroke:#333333;\" x=\"207.654728\" xlink:href=\"#m3990c72bb0\" y=\"200.658088\"/>\n",
       "     <use style=\"fill:#ff7f0e;stroke:#333333;\" x=\"210.783133\" xlink:href=\"#m3990c72bb0\" y=\"213.473757\"/>\n",
       "     <use style=\"fill:#ff7f0e;stroke:#333333;\" x=\"114.742634\" xlink:href=\"#m3990c72bb0\" y=\"64.140251\"/>\n",
       "     <use style=\"fill:#ff7f0e;stroke:#333333;\" x=\"212.944218\" xlink:href=\"#m3990c72bb0\" y=\"174.680621\"/>\n",
       "     <use style=\"fill:#ff7f0e;stroke:#333333;\" x=\"202.305823\" xlink:href=\"#m3990c72bb0\" y=\"163.487024\"/>\n",
       "     <use style=\"fill:#ff7f0e;stroke:#333333;\" x=\"103.742383\" xlink:href=\"#m3990c72bb0\" y=\"68.777496\"/>\n",
       "     <use style=\"fill:#ff7f0e;stroke:#333333;\" x=\"122.795357\" xlink:href=\"#m3990c72bb0\" y=\"79.00059\"/>\n",
       "     <use style=\"fill:#ff7f0e;stroke:#333333;\" x=\"233.675629\" xlink:href=\"#m3990c72bb0\" y=\"178.965372\"/>\n",
       "     <use style=\"fill:#ff7f0e;stroke:#333333;\" x=\"109.768043\" xlink:href=\"#m3990c72bb0\" y=\"72.215254\"/>\n",
       "     <use style=\"fill:#ff7f0e;stroke:#333333;\" x=\"119.322394\" xlink:href=\"#m3990c72bb0\" y=\"80.391407\"/>\n",
       "     <use style=\"fill:#ff7f0e;stroke:#333333;\" x=\"118.042892\" xlink:href=\"#m3990c72bb0\" y=\"82.992602\"/>\n",
       "     <use style=\"fill:#ff7f0e;stroke:#333333;\" x=\"220.487192\" xlink:href=\"#m3990c72bb0\" y=\"173.243968\"/>\n",
       "     <use style=\"fill:#ff7f0e;stroke:#333333;\" x=\"226.848637\" xlink:href=\"#m3990c72bb0\" y=\"165.836867\"/>\n",
       "     <use style=\"fill:#ff7f0e;stroke:#333333;\" x=\"233.927484\" xlink:href=\"#m3990c72bb0\" y=\"179.677091\"/>\n",
       "     <use style=\"fill:#ff7f0e;stroke:#333333;\" x=\"143.969934\" xlink:href=\"#m3990c72bb0\" y=\"78.564901\"/>\n",
       "     <use style=\"fill:#ff7f0e;stroke:#333333;\" x=\"207.056986\" xlink:href=\"#m3990c72bb0\" y=\"202.488595\"/>\n",
       "     <use style=\"fill:#ff7f0e;stroke:#333333;\" x=\"248.217132\" xlink:href=\"#m3990c72bb0\" y=\"201.72411\"/>\n",
       "     <use style=\"fill:#ff7f0e;stroke:#333333;\" x=\"217.539344\" xlink:href=\"#m3990c72bb0\" y=\"199.287585\"/>\n",
       "     <use style=\"fill:#ff7f0e;stroke:#333333;\" x=\"106.914877\" xlink:href=\"#m3990c72bb0\" y=\"86.997317\"/>\n",
       "     <use style=\"fill:#ff7f0e;stroke:#333333;\" x=\"105.112755\" xlink:href=\"#m3990c72bb0\" y=\"78.562297\"/>\n",
       "     <use style=\"fill:#ff7f0e;stroke:#333333;\" x=\"235.820912\" xlink:href=\"#m3990c72bb0\" y=\"201.596164\"/>\n",
       "     <use style=\"fill:#ff7f0e;stroke:#333333;\" x=\"105.463749\" xlink:href=\"#m3990c72bb0\" y=\"84.533052\"/>\n",
       "     <use style=\"fill:#ff7f0e;stroke:#333333;\" x=\"94.19971\" xlink:href=\"#m3990c72bb0\" y=\"80.559539\"/>\n",
       "     <use style=\"fill:#ff7f0e;stroke:#333333;\" x=\"129.195939\" xlink:href=\"#m3990c72bb0\" y=\"69.979336\"/>\n",
       "     <use style=\"fill:#ff7f0e;stroke:#333333;\" x=\"107.849891\" xlink:href=\"#m3990c72bb0\" y=\"72.369137\"/>\n",
       "     <use style=\"fill:#ff7f0e;stroke:#333333;\" x=\"241.945438\" xlink:href=\"#m3990c72bb0\" y=\"199.60062\"/>\n",
       "     <use style=\"fill:#ff7f0e;stroke:#333333;\" x=\"203.545684\" xlink:href=\"#m3990c72bb0\" y=\"185.119865\"/>\n",
       "     <use style=\"fill:#ff7f0e;stroke:#333333;\" x=\"114.656078\" xlink:href=\"#m3990c72bb0\" y=\"66.725915\"/>\n",
       "     <use style=\"fill:#ff7f0e;stroke:#333333;\" x=\"239.746372\" xlink:href=\"#m3990c72bb0\" y=\"197.654618\"/>\n",
       "    </g>\n",
       "   </g>\n",
       "   <g id=\"matplotlib.axis_1\">\n",
       "    <g id=\"xtick_1\">\n",
       "     <g id=\"line2d_1\">\n",
       "      <defs>\n",
       "       <path d=\"M 0 0 \n",
       "L 0 3.5 \n",
       "\" id=\"m8b8a2ac1fc\" style=\"stroke:#000000;stroke-width:0.8;\"/>\n",
       "      </defs>\n",
       "      <g>\n",
       "       <use style=\"stroke:#000000;stroke-width:0.8;\" x=\"58.523438\" xlink:href=\"#m8b8a2ac1fc\" y=\"244.078125\"/>\n",
       "      </g>\n",
       "     </g>\n",
       "     <g id=\"text_1\">\n",
       "      <!-- −0.5 -->\n",
       "      <g transform=\"translate(46.382031 258.676562)scale(0.1 -0.1)\">\n",
       "       <defs>\n",
       "        <path d=\"M 10.59375 35.5 \n",
       "L 73.1875 35.5 \n",
       "L 73.1875 27.203125 \n",
       "L 10.59375 27.203125 \n",
       "z\n",
       "\" id=\"DejaVuSans-8722\"/>\n",
       "        <path d=\"M 31.78125 66.40625 \n",
       "Q 24.171875 66.40625 20.328125 58.90625 \n",
       "Q 16.5 51.421875 16.5 36.375 \n",
       "Q 16.5 21.390625 20.328125 13.890625 \n",
       "Q 24.171875 6.390625 31.78125 6.390625 \n",
       "Q 39.453125 6.390625 43.28125 13.890625 \n",
       "Q 47.125 21.390625 47.125 36.375 \n",
       "Q 47.125 51.421875 43.28125 58.90625 \n",
       "Q 39.453125 66.40625 31.78125 66.40625 \n",
       "z\n",
       "M 31.78125 74.21875 \n",
       "Q 44.046875 74.21875 50.515625 64.515625 \n",
       "Q 56.984375 54.828125 56.984375 36.375 \n",
       "Q 56.984375 17.96875 50.515625 8.265625 \n",
       "Q 44.046875 -1.421875 31.78125 -1.421875 \n",
       "Q 19.53125 -1.421875 13.0625 8.265625 \n",
       "Q 6.59375 17.96875 6.59375 36.375 \n",
       "Q 6.59375 54.828125 13.0625 64.515625 \n",
       "Q 19.53125 74.21875 31.78125 74.21875 \n",
       "z\n",
       "\" id=\"DejaVuSans-48\"/>\n",
       "        <path d=\"M 10.6875 12.40625 \n",
       "L 21 12.40625 \n",
       "L 21 0 \n",
       "L 10.6875 0 \n",
       "z\n",
       "\" id=\"DejaVuSans-46\"/>\n",
       "        <path d=\"M 10.796875 72.90625 \n",
       "L 49.515625 72.90625 \n",
       "L 49.515625 64.59375 \n",
       "L 19.828125 64.59375 \n",
       "L 19.828125 46.734375 \n",
       "Q 21.96875 47.46875 24.109375 47.828125 \n",
       "Q 26.265625 48.1875 28.421875 48.1875 \n",
       "Q 40.625 48.1875 47.75 41.5 \n",
       "Q 54.890625 34.8125 54.890625 23.390625 \n",
       "Q 54.890625 11.625 47.5625 5.09375 \n",
       "Q 40.234375 -1.421875 26.90625 -1.421875 \n",
       "Q 22.3125 -1.421875 17.546875 -0.640625 \n",
       "Q 12.796875 0.140625 7.71875 1.703125 \n",
       "L 7.71875 11.625 \n",
       "Q 12.109375 9.234375 16.796875 8.0625 \n",
       "Q 21.484375 6.890625 26.703125 6.890625 \n",
       "Q 35.15625 6.890625 40.078125 11.328125 \n",
       "Q 45.015625 15.765625 45.015625 23.390625 \n",
       "Q 45.015625 31 40.078125 35.4375 \n",
       "Q 35.15625 39.890625 26.703125 39.890625 \n",
       "Q 22.75 39.890625 18.8125 39.015625 \n",
       "Q 14.890625 38.140625 10.796875 36.28125 \n",
       "z\n",
       "\" id=\"DejaVuSans-53\"/>\n",
       "       </defs>\n",
       "       <use xlink:href=\"#DejaVuSans-8722\"/>\n",
       "       <use x=\"83.789062\" xlink:href=\"#DejaVuSans-48\"/>\n",
       "       <use x=\"147.412109\" xlink:href=\"#DejaVuSans-46\"/>\n",
       "       <use x=\"179.199219\" xlink:href=\"#DejaVuSans-53\"/>\n",
       "      </g>\n",
       "     </g>\n",
       "    </g>\n",
       "    <g id=\"xtick_2\">\n",
       "     <g id=\"line2d_2\">\n",
       "      <g>\n",
       "       <use style=\"stroke:#000000;stroke-width:0.8;\" x=\"113.963437\" xlink:href=\"#m8b8a2ac1fc\" y=\"244.078125\"/>\n",
       "      </g>\n",
       "     </g>\n",
       "     <g id=\"text_2\">\n",
       "      <!-- 0.0 -->\n",
       "      <g transform=\"translate(106.011875 258.676562)scale(0.1 -0.1)\">\n",
       "       <use xlink:href=\"#DejaVuSans-48\"/>\n",
       "       <use x=\"63.623047\" xlink:href=\"#DejaVuSans-46\"/>\n",
       "       <use x=\"95.410156\" xlink:href=\"#DejaVuSans-48\"/>\n",
       "      </g>\n",
       "     </g>\n",
       "    </g>\n",
       "    <g id=\"xtick_3\">\n",
       "     <g id=\"line2d_3\">\n",
       "      <g>\n",
       "       <use style=\"stroke:#000000;stroke-width:0.8;\" x=\"169.403437\" xlink:href=\"#m8b8a2ac1fc\" y=\"244.078125\"/>\n",
       "      </g>\n",
       "     </g>\n",
       "     <g id=\"text_3\">\n",
       "      <!-- 0.5 -->\n",
       "      <g transform=\"translate(161.451875 258.676562)scale(0.1 -0.1)\">\n",
       "       <use xlink:href=\"#DejaVuSans-48\"/>\n",
       "       <use x=\"63.623047\" xlink:href=\"#DejaVuSans-46\"/>\n",
       "       <use x=\"95.410156\" xlink:href=\"#DejaVuSans-53\"/>\n",
       "      </g>\n",
       "     </g>\n",
       "    </g>\n",
       "    <g id=\"xtick_4\">\n",
       "     <g id=\"line2d_4\">\n",
       "      <g>\n",
       "       <use style=\"stroke:#000000;stroke-width:0.8;\" x=\"224.843437\" xlink:href=\"#m8b8a2ac1fc\" y=\"244.078125\"/>\n",
       "      </g>\n",
       "     </g>\n",
       "     <g id=\"text_4\">\n",
       "      <!-- 1.0 -->\n",
       "      <g transform=\"translate(216.891875 258.676562)scale(0.1 -0.1)\">\n",
       "       <defs>\n",
       "        <path d=\"M 12.40625 8.296875 \n",
       "L 28.515625 8.296875 \n",
       "L 28.515625 63.921875 \n",
       "L 10.984375 60.40625 \n",
       "L 10.984375 69.390625 \n",
       "L 28.421875 72.90625 \n",
       "L 38.28125 72.90625 \n",
       "L 38.28125 8.296875 \n",
       "L 54.390625 8.296875 \n",
       "L 54.390625 0 \n",
       "L 12.40625 0 \n",
       "z\n",
       "\" id=\"DejaVuSans-49\"/>\n",
       "       </defs>\n",
       "       <use xlink:href=\"#DejaVuSans-49\"/>\n",
       "       <use x=\"63.623047\" xlink:href=\"#DejaVuSans-46\"/>\n",
       "       <use x=\"95.410156\" xlink:href=\"#DejaVuSans-48\"/>\n",
       "      </g>\n",
       "     </g>\n",
       "    </g>\n",
       "    <g id=\"xtick_5\">\n",
       "     <g id=\"line2d_5\">\n",
       "      <g>\n",
       "       <use style=\"stroke:#000000;stroke-width:0.8;\" x=\"280.283437\" xlink:href=\"#m8b8a2ac1fc\" y=\"244.078125\"/>\n",
       "      </g>\n",
       "     </g>\n",
       "     <g id=\"text_5\">\n",
       "      <!-- 1.5 -->\n",
       "      <g transform=\"translate(272.331875 258.676562)scale(0.1 -0.1)\">\n",
       "       <use xlink:href=\"#DejaVuSans-49\"/>\n",
       "       <use x=\"63.623047\" xlink:href=\"#DejaVuSans-46\"/>\n",
       "       <use x=\"95.410156\" xlink:href=\"#DejaVuSans-53\"/>\n",
       "      </g>\n",
       "     </g>\n",
       "    </g>\n",
       "    <g id=\"text_6\">\n",
       "     <!-- $x_1$ -->\n",
       "     <g transform=\"translate(164.053438 272.354687)scale(0.1 -0.1)\">\n",
       "      <defs>\n",
       "       <path d=\"M 60.015625 54.6875 \n",
       "L 34.90625 27.875 \n",
       "L 50.296875 0 \n",
       "L 39.984375 0 \n",
       "L 28.421875 21.6875 \n",
       "L 8.296875 0 \n",
       "L -2.59375 0 \n",
       "L 24.3125 28.8125 \n",
       "L 10.015625 54.6875 \n",
       "L 20.3125 54.6875 \n",
       "L 30.8125 34.90625 \n",
       "L 49.125 54.6875 \n",
       "z\n",
       "\" id=\"DejaVuSans-Oblique-120\"/>\n",
       "      </defs>\n",
       "      <use transform=\"translate(0 0.3125)\" xlink:href=\"#DejaVuSans-Oblique-120\"/>\n",
       "      <use transform=\"translate(59.179688 -16.09375)scale(0.7)\" xlink:href=\"#DejaVuSans-49\"/>\n",
       "     </g>\n",
       "    </g>\n",
       "   </g>\n",
       "   <g id=\"matplotlib.axis_2\">\n",
       "    <g id=\"ytick_1\">\n",
       "     <g id=\"line2d_6\">\n",
       "      <defs>\n",
       "       <path d=\"M 0 0 \n",
       "L -3.5 0 \n",
       "\" id=\"mbd16776a93\" style=\"stroke:#000000;stroke-width:0.8;\"/>\n",
       "      </defs>\n",
       "      <g>\n",
       "       <use style=\"stroke:#000000;stroke-width:0.8;\" x=\"58.523438\" xlink:href=\"#mbd16776a93\" y=\"244.078125\"/>\n",
       "      </g>\n",
       "     </g>\n",
       "     <g id=\"text_7\">\n",
       "      <!-- −0.50 -->\n",
       "      <g transform=\"translate(20.878125 247.877344)scale(0.1 -0.1)\">\n",
       "       <use xlink:href=\"#DejaVuSans-8722\"/>\n",
       "       <use x=\"83.789062\" xlink:href=\"#DejaVuSans-48\"/>\n",
       "       <use x=\"147.412109\" xlink:href=\"#DejaVuSans-46\"/>\n",
       "       <use x=\"179.199219\" xlink:href=\"#DejaVuSans-53\"/>\n",
       "       <use x=\"242.822266\" xlink:href=\"#DejaVuSans-48\"/>\n",
       "      </g>\n",
       "     </g>\n",
       "    </g>\n",
       "    <g id=\"ytick_2\">\n",
       "     <g id=\"line2d_7\">\n",
       "      <g>\n",
       "       <use style=\"stroke:#000000;stroke-width:0.8;\" x=\"58.523438\" xlink:href=\"#mbd16776a93\" y=\"216.358125\"/>\n",
       "      </g>\n",
       "     </g>\n",
       "     <g id=\"text_8\">\n",
       "      <!-- −0.25 -->\n",
       "      <g transform=\"translate(20.878125 220.157344)scale(0.1 -0.1)\">\n",
       "       <defs>\n",
       "        <path d=\"M 19.1875 8.296875 \n",
       "L 53.609375 8.296875 \n",
       "L 53.609375 0 \n",
       "L 7.328125 0 \n",
       "L 7.328125 8.296875 \n",
       "Q 12.9375 14.109375 22.625 23.890625 \n",
       "Q 32.328125 33.6875 34.8125 36.53125 \n",
       "Q 39.546875 41.84375 41.421875 45.53125 \n",
       "Q 43.3125 49.21875 43.3125 52.78125 \n",
       "Q 43.3125 58.59375 39.234375 62.25 \n",
       "Q 35.15625 65.921875 28.609375 65.921875 \n",
       "Q 23.96875 65.921875 18.8125 64.3125 \n",
       "Q 13.671875 62.703125 7.8125 59.421875 \n",
       "L 7.8125 69.390625 \n",
       "Q 13.765625 71.78125 18.9375 73 \n",
       "Q 24.125 74.21875 28.421875 74.21875 \n",
       "Q 39.75 74.21875 46.484375 68.546875 \n",
       "Q 53.21875 62.890625 53.21875 53.421875 \n",
       "Q 53.21875 48.921875 51.53125 44.890625 \n",
       "Q 49.859375 40.875 45.40625 35.40625 \n",
       "Q 44.1875 33.984375 37.640625 27.21875 \n",
       "Q 31.109375 20.453125 19.1875 8.296875 \n",
       "z\n",
       "\" id=\"DejaVuSans-50\"/>\n",
       "       </defs>\n",
       "       <use xlink:href=\"#DejaVuSans-8722\"/>\n",
       "       <use x=\"83.789062\" xlink:href=\"#DejaVuSans-48\"/>\n",
       "       <use x=\"147.412109\" xlink:href=\"#DejaVuSans-46\"/>\n",
       "       <use x=\"179.199219\" xlink:href=\"#DejaVuSans-50\"/>\n",
       "       <use x=\"242.822266\" xlink:href=\"#DejaVuSans-53\"/>\n",
       "      </g>\n",
       "     </g>\n",
       "    </g>\n",
       "    <g id=\"ytick_3\">\n",
       "     <g id=\"line2d_8\">\n",
       "      <g>\n",
       "       <use style=\"stroke:#000000;stroke-width:0.8;\" x=\"58.523438\" xlink:href=\"#mbd16776a93\" y=\"188.638125\"/>\n",
       "      </g>\n",
       "     </g>\n",
       "     <g id=\"text_9\">\n",
       "      <!-- 0.00 -->\n",
       "      <g transform=\"translate(29.257812 192.437344)scale(0.1 -0.1)\">\n",
       "       <use xlink:href=\"#DejaVuSans-48\"/>\n",
       "       <use x=\"63.623047\" xlink:href=\"#DejaVuSans-46\"/>\n",
       "       <use x=\"95.410156\" xlink:href=\"#DejaVuSans-48\"/>\n",
       "       <use x=\"159.033203\" xlink:href=\"#DejaVuSans-48\"/>\n",
       "      </g>\n",
       "     </g>\n",
       "    </g>\n",
       "    <g id=\"ytick_4\">\n",
       "     <g id=\"line2d_9\">\n",
       "      <g>\n",
       "       <use style=\"stroke:#000000;stroke-width:0.8;\" x=\"58.523438\" xlink:href=\"#mbd16776a93\" y=\"160.918125\"/>\n",
       "      </g>\n",
       "     </g>\n",
       "     <g id=\"text_10\">\n",
       "      <!-- 0.25 -->\n",
       "      <g transform=\"translate(29.257812 164.717344)scale(0.1 -0.1)\">\n",
       "       <use xlink:href=\"#DejaVuSans-48\"/>\n",
       "       <use x=\"63.623047\" xlink:href=\"#DejaVuSans-46\"/>\n",
       "       <use x=\"95.410156\" xlink:href=\"#DejaVuSans-50\"/>\n",
       "       <use x=\"159.033203\" xlink:href=\"#DejaVuSans-53\"/>\n",
       "      </g>\n",
       "     </g>\n",
       "    </g>\n",
       "    <g id=\"ytick_5\">\n",
       "     <g id=\"line2d_10\">\n",
       "      <g>\n",
       "       <use style=\"stroke:#000000;stroke-width:0.8;\" x=\"58.523438\" xlink:href=\"#mbd16776a93\" y=\"133.198125\"/>\n",
       "      </g>\n",
       "     </g>\n",
       "     <g id=\"text_11\">\n",
       "      <!-- 0.50 -->\n",
       "      <g transform=\"translate(29.257812 136.997344)scale(0.1 -0.1)\">\n",
       "       <use xlink:href=\"#DejaVuSans-48\"/>\n",
       "       <use x=\"63.623047\" xlink:href=\"#DejaVuSans-46\"/>\n",
       "       <use x=\"95.410156\" xlink:href=\"#DejaVuSans-53\"/>\n",
       "       <use x=\"159.033203\" xlink:href=\"#DejaVuSans-48\"/>\n",
       "      </g>\n",
       "     </g>\n",
       "    </g>\n",
       "    <g id=\"ytick_6\">\n",
       "     <g id=\"line2d_11\">\n",
       "      <g>\n",
       "       <use style=\"stroke:#000000;stroke-width:0.8;\" x=\"58.523438\" xlink:href=\"#mbd16776a93\" y=\"105.478125\"/>\n",
       "      </g>\n",
       "     </g>\n",
       "     <g id=\"text_12\">\n",
       "      <!-- 0.75 -->\n",
       "      <g transform=\"translate(29.257812 109.277344)scale(0.1 -0.1)\">\n",
       "       <defs>\n",
       "        <path d=\"M 8.203125 72.90625 \n",
       "L 55.078125 72.90625 \n",
       "L 55.078125 68.703125 \n",
       "L 28.609375 0 \n",
       "L 18.3125 0 \n",
       "L 43.21875 64.59375 \n",
       "L 8.203125 64.59375 \n",
       "z\n",
       "\" id=\"DejaVuSans-55\"/>\n",
       "       </defs>\n",
       "       <use xlink:href=\"#DejaVuSans-48\"/>\n",
       "       <use x=\"63.623047\" xlink:href=\"#DejaVuSans-46\"/>\n",
       "       <use x=\"95.410156\" xlink:href=\"#DejaVuSans-55\"/>\n",
       "       <use x=\"159.033203\" xlink:href=\"#DejaVuSans-53\"/>\n",
       "      </g>\n",
       "     </g>\n",
       "    </g>\n",
       "    <g id=\"ytick_7\">\n",
       "     <g id=\"line2d_12\">\n",
       "      <g>\n",
       "       <use style=\"stroke:#000000;stroke-width:0.8;\" x=\"58.523438\" xlink:href=\"#mbd16776a93\" y=\"77.758125\"/>\n",
       "      </g>\n",
       "     </g>\n",
       "     <g id=\"text_13\">\n",
       "      <!-- 1.00 -->\n",
       "      <g transform=\"translate(29.257812 81.557344)scale(0.1 -0.1)\">\n",
       "       <use xlink:href=\"#DejaVuSans-49\"/>\n",
       "       <use x=\"63.623047\" xlink:href=\"#DejaVuSans-46\"/>\n",
       "       <use x=\"95.410156\" xlink:href=\"#DejaVuSans-48\"/>\n",
       "       <use x=\"159.033203\" xlink:href=\"#DejaVuSans-48\"/>\n",
       "      </g>\n",
       "     </g>\n",
       "    </g>\n",
       "    <g id=\"ytick_8\">\n",
       "     <g id=\"line2d_13\">\n",
       "      <g>\n",
       "       <use style=\"stroke:#000000;stroke-width:0.8;\" x=\"58.523438\" xlink:href=\"#mbd16776a93\" y=\"50.038125\"/>\n",
       "      </g>\n",
       "     </g>\n",
       "     <g id=\"text_14\">\n",
       "      <!-- 1.25 -->\n",
       "      <g transform=\"translate(29.257812 53.837344)scale(0.1 -0.1)\">\n",
       "       <use xlink:href=\"#DejaVuSans-49\"/>\n",
       "       <use x=\"63.623047\" xlink:href=\"#DejaVuSans-46\"/>\n",
       "       <use x=\"95.410156\" xlink:href=\"#DejaVuSans-50\"/>\n",
       "       <use x=\"159.033203\" xlink:href=\"#DejaVuSans-53\"/>\n",
       "      </g>\n",
       "     </g>\n",
       "    </g>\n",
       "    <g id=\"ytick_9\">\n",
       "     <g id=\"line2d_14\">\n",
       "      <g>\n",
       "       <use style=\"stroke:#000000;stroke-width:0.8;\" x=\"58.523438\" xlink:href=\"#mbd16776a93\" y=\"22.318125\"/>\n",
       "      </g>\n",
       "     </g>\n",
       "     <g id=\"text_15\">\n",
       "      <!-- 1.50 -->\n",
       "      <g transform=\"translate(29.257812 26.117344)scale(0.1 -0.1)\">\n",
       "       <use xlink:href=\"#DejaVuSans-49\"/>\n",
       "       <use x=\"63.623047\" xlink:href=\"#DejaVuSans-46\"/>\n",
       "       <use x=\"95.410156\" xlink:href=\"#DejaVuSans-53\"/>\n",
       "       <use x=\"159.033203\" xlink:href=\"#DejaVuSans-48\"/>\n",
       "      </g>\n",
       "     </g>\n",
       "    </g>\n",
       "    <g id=\"text_16\">\n",
       "     <!-- $x_2$ -->\n",
       "     <g transform=\"translate(14.798437 138.548125)rotate(-90)scale(0.1 -0.1)\">\n",
       "      <use transform=\"translate(0 0.3125)\" xlink:href=\"#DejaVuSans-Oblique-120\"/>\n",
       "      <use transform=\"translate(59.179688 -16.09375)scale(0.7)\" xlink:href=\"#DejaVuSans-50\"/>\n",
       "     </g>\n",
       "    </g>\n",
       "   </g>\n",
       "   <g id=\"patch_3\">\n",
       "    <path d=\"M 58.523438 244.078125 \n",
       "L 58.523438 22.318125 \n",
       "\" style=\"fill:none;stroke:#000000;stroke-linecap:square;stroke-linejoin:miter;stroke-width:0.8;\"/>\n",
       "   </g>\n",
       "   <g id=\"patch_4\">\n",
       "    <path d=\"M 280.283437 244.078125 \n",
       "L 280.283437 22.318125 \n",
       "\" style=\"fill:none;stroke:#000000;stroke-linecap:square;stroke-linejoin:miter;stroke-width:0.8;\"/>\n",
       "   </g>\n",
       "   <g id=\"patch_5\">\n",
       "    <path d=\"M 58.523438 244.078125 \n",
       "L 280.283437 244.078125 \n",
       "\" style=\"fill:none;stroke:#000000;stroke-linecap:square;stroke-linejoin:miter;stroke-width:0.8;\"/>\n",
       "   </g>\n",
       "   <g id=\"patch_6\">\n",
       "    <path d=\"M 58.523438 22.318125 \n",
       "L 280.283437 22.318125 \n",
       "\" style=\"fill:none;stroke:#000000;stroke-linecap:square;stroke-linejoin:miter;stroke-width:0.8;\"/>\n",
       "   </g>\n",
       "   <g id=\"text_17\">\n",
       "    <!-- Dataset samples -->\n",
       "    <g transform=\"translate(119.060625 16.318125)scale(0.12 -0.12)\">\n",
       "     <defs>\n",
       "      <path d=\"M 19.671875 64.796875 \n",
       "L 19.671875 8.109375 \n",
       "L 31.59375 8.109375 \n",
       "Q 46.6875 8.109375 53.6875 14.9375 \n",
       "Q 60.6875 21.78125 60.6875 36.53125 \n",
       "Q 60.6875 51.171875 53.6875 57.984375 \n",
       "Q 46.6875 64.796875 31.59375 64.796875 \n",
       "z\n",
       "M 9.8125 72.90625 \n",
       "L 30.078125 72.90625 \n",
       "Q 51.265625 72.90625 61.171875 64.09375 \n",
       "Q 71.09375 55.28125 71.09375 36.53125 \n",
       "Q 71.09375 17.671875 61.125 8.828125 \n",
       "Q 51.171875 0 30.078125 0 \n",
       "L 9.8125 0 \n",
       "z\n",
       "\" id=\"DejaVuSans-68\"/>\n",
       "      <path d=\"M 34.28125 27.484375 \n",
       "Q 23.390625 27.484375 19.1875 25 \n",
       "Q 14.984375 22.515625 14.984375 16.5 \n",
       "Q 14.984375 11.71875 18.140625 8.90625 \n",
       "Q 21.296875 6.109375 26.703125 6.109375 \n",
       "Q 34.1875 6.109375 38.703125 11.40625 \n",
       "Q 43.21875 16.703125 43.21875 25.484375 \n",
       "L 43.21875 27.484375 \n",
       "z\n",
       "M 52.203125 31.203125 \n",
       "L 52.203125 0 \n",
       "L 43.21875 0 \n",
       "L 43.21875 8.296875 \n",
       "Q 40.140625 3.328125 35.546875 0.953125 \n",
       "Q 30.953125 -1.421875 24.3125 -1.421875 \n",
       "Q 15.921875 -1.421875 10.953125 3.296875 \n",
       "Q 6 8.015625 6 15.921875 \n",
       "Q 6 25.140625 12.171875 29.828125 \n",
       "Q 18.359375 34.515625 30.609375 34.515625 \n",
       "L 43.21875 34.515625 \n",
       "L 43.21875 35.40625 \n",
       "Q 43.21875 41.609375 39.140625 45 \n",
       "Q 35.0625 48.390625 27.6875 48.390625 \n",
       "Q 23 48.390625 18.546875 47.265625 \n",
       "Q 14.109375 46.140625 10.015625 43.890625 \n",
       "L 10.015625 52.203125 \n",
       "Q 14.9375 54.109375 19.578125 55.046875 \n",
       "Q 24.21875 56 28.609375 56 \n",
       "Q 40.484375 56 46.34375 49.84375 \n",
       "Q 52.203125 43.703125 52.203125 31.203125 \n",
       "z\n",
       "\" id=\"DejaVuSans-97\"/>\n",
       "      <path d=\"M 18.3125 70.21875 \n",
       "L 18.3125 54.6875 \n",
       "L 36.8125 54.6875 \n",
       "L 36.8125 47.703125 \n",
       "L 18.3125 47.703125 \n",
       "L 18.3125 18.015625 \n",
       "Q 18.3125 11.328125 20.140625 9.421875 \n",
       "Q 21.96875 7.515625 27.59375 7.515625 \n",
       "L 36.8125 7.515625 \n",
       "L 36.8125 0 \n",
       "L 27.59375 0 \n",
       "Q 17.1875 0 13.234375 3.875 \n",
       "Q 9.28125 7.765625 9.28125 18.015625 \n",
       "L 9.28125 47.703125 \n",
       "L 2.6875 47.703125 \n",
       "L 2.6875 54.6875 \n",
       "L 9.28125 54.6875 \n",
       "L 9.28125 70.21875 \n",
       "z\n",
       "\" id=\"DejaVuSans-116\"/>\n",
       "      <path d=\"M 44.28125 53.078125 \n",
       "L 44.28125 44.578125 \n",
       "Q 40.484375 46.53125 36.375 47.5 \n",
       "Q 32.28125 48.484375 27.875 48.484375 \n",
       "Q 21.1875 48.484375 17.84375 46.4375 \n",
       "Q 14.5 44.390625 14.5 40.28125 \n",
       "Q 14.5 37.15625 16.890625 35.375 \n",
       "Q 19.28125 33.59375 26.515625 31.984375 \n",
       "L 29.59375 31.296875 \n",
       "Q 39.15625 29.25 43.1875 25.515625 \n",
       "Q 47.21875 21.78125 47.21875 15.09375 \n",
       "Q 47.21875 7.46875 41.1875 3.015625 \n",
       "Q 35.15625 -1.421875 24.609375 -1.421875 \n",
       "Q 20.21875 -1.421875 15.453125 -0.5625 \n",
       "Q 10.6875 0.296875 5.421875 2 \n",
       "L 5.421875 11.28125 \n",
       "Q 10.40625 8.6875 15.234375 7.390625 \n",
       "Q 20.0625 6.109375 24.8125 6.109375 \n",
       "Q 31.15625 6.109375 34.5625 8.28125 \n",
       "Q 37.984375 10.453125 37.984375 14.40625 \n",
       "Q 37.984375 18.0625 35.515625 20.015625 \n",
       "Q 33.0625 21.96875 24.703125 23.78125 \n",
       "L 21.578125 24.515625 \n",
       "Q 13.234375 26.265625 9.515625 29.90625 \n",
       "Q 5.8125 33.546875 5.8125 39.890625 \n",
       "Q 5.8125 47.609375 11.28125 51.796875 \n",
       "Q 16.75 56 26.8125 56 \n",
       "Q 31.78125 56 36.171875 55.265625 \n",
       "Q 40.578125 54.546875 44.28125 53.078125 \n",
       "z\n",
       "\" id=\"DejaVuSans-115\"/>\n",
       "      <path d=\"M 56.203125 29.59375 \n",
       "L 56.203125 25.203125 \n",
       "L 14.890625 25.203125 \n",
       "Q 15.484375 15.921875 20.484375 11.0625 \n",
       "Q 25.484375 6.203125 34.421875 6.203125 \n",
       "Q 39.59375 6.203125 44.453125 7.46875 \n",
       "Q 49.3125 8.734375 54.109375 11.28125 \n",
       "L 54.109375 2.78125 \n",
       "Q 49.265625 0.734375 44.1875 -0.34375 \n",
       "Q 39.109375 -1.421875 33.890625 -1.421875 \n",
       "Q 20.796875 -1.421875 13.15625 6.1875 \n",
       "Q 5.515625 13.8125 5.515625 26.8125 \n",
       "Q 5.515625 40.234375 12.765625 48.109375 \n",
       "Q 20.015625 56 32.328125 56 \n",
       "Q 43.359375 56 49.78125 48.890625 \n",
       "Q 56.203125 41.796875 56.203125 29.59375 \n",
       "z\n",
       "M 47.21875 32.234375 \n",
       "Q 47.125 39.59375 43.09375 43.984375 \n",
       "Q 39.0625 48.390625 32.421875 48.390625 \n",
       "Q 24.90625 48.390625 20.390625 44.140625 \n",
       "Q 15.875 39.890625 15.1875 32.171875 \n",
       "z\n",
       "\" id=\"DejaVuSans-101\"/>\n",
       "      <path id=\"DejaVuSans-32\"/>\n",
       "      <path d=\"M 52 44.1875 \n",
       "Q 55.375 50.25 60.0625 53.125 \n",
       "Q 64.75 56 71.09375 56 \n",
       "Q 79.640625 56 84.28125 50.015625 \n",
       "Q 88.921875 44.046875 88.921875 33.015625 \n",
       "L 88.921875 0 \n",
       "L 79.890625 0 \n",
       "L 79.890625 32.71875 \n",
       "Q 79.890625 40.578125 77.09375 44.375 \n",
       "Q 74.3125 48.1875 68.609375 48.1875 \n",
       "Q 61.625 48.1875 57.5625 43.546875 \n",
       "Q 53.515625 38.921875 53.515625 30.90625 \n",
       "L 53.515625 0 \n",
       "L 44.484375 0 \n",
       "L 44.484375 32.71875 \n",
       "Q 44.484375 40.625 41.703125 44.40625 \n",
       "Q 38.921875 48.1875 33.109375 48.1875 \n",
       "Q 26.21875 48.1875 22.15625 43.53125 \n",
       "Q 18.109375 38.875 18.109375 30.90625 \n",
       "L 18.109375 0 \n",
       "L 9.078125 0 \n",
       "L 9.078125 54.6875 \n",
       "L 18.109375 54.6875 \n",
       "L 18.109375 46.1875 \n",
       "Q 21.1875 51.21875 25.484375 53.609375 \n",
       "Q 29.78125 56 35.6875 56 \n",
       "Q 41.65625 56 45.828125 52.96875 \n",
       "Q 50 49.953125 52 44.1875 \n",
       "z\n",
       "\" id=\"DejaVuSans-109\"/>\n",
       "      <path d=\"M 18.109375 8.203125 \n",
       "L 18.109375 -20.796875 \n",
       "L 9.078125 -20.796875 \n",
       "L 9.078125 54.6875 \n",
       "L 18.109375 54.6875 \n",
       "L 18.109375 46.390625 \n",
       "Q 20.953125 51.265625 25.265625 53.625 \n",
       "Q 29.59375 56 35.59375 56 \n",
       "Q 45.5625 56 51.78125 48.09375 \n",
       "Q 58.015625 40.1875 58.015625 27.296875 \n",
       "Q 58.015625 14.40625 51.78125 6.484375 \n",
       "Q 45.5625 -1.421875 35.59375 -1.421875 \n",
       "Q 29.59375 -1.421875 25.265625 0.953125 \n",
       "Q 20.953125 3.328125 18.109375 8.203125 \n",
       "z\n",
       "M 48.6875 27.296875 \n",
       "Q 48.6875 37.203125 44.609375 42.84375 \n",
       "Q 40.53125 48.484375 33.40625 48.484375 \n",
       "Q 26.265625 48.484375 22.1875 42.84375 \n",
       "Q 18.109375 37.203125 18.109375 27.296875 \n",
       "Q 18.109375 17.390625 22.1875 11.75 \n",
       "Q 26.265625 6.109375 33.40625 6.109375 \n",
       "Q 40.53125 6.109375 44.609375 11.75 \n",
       "Q 48.6875 17.390625 48.6875 27.296875 \n",
       "z\n",
       "\" id=\"DejaVuSans-112\"/>\n",
       "      <path d=\"M 9.421875 75.984375 \n",
       "L 18.40625 75.984375 \n",
       "L 18.40625 0 \n",
       "L 9.421875 0 \n",
       "z\n",
       "\" id=\"DejaVuSans-108\"/>\n",
       "     </defs>\n",
       "     <use xlink:href=\"#DejaVuSans-68\"/>\n",
       "     <use x=\"77.001953\" xlink:href=\"#DejaVuSans-97\"/>\n",
       "     <use x=\"138.28125\" xlink:href=\"#DejaVuSans-116\"/>\n",
       "     <use x=\"177.490234\" xlink:href=\"#DejaVuSans-97\"/>\n",
       "     <use x=\"238.769531\" xlink:href=\"#DejaVuSans-115\"/>\n",
       "     <use x=\"290.869141\" xlink:href=\"#DejaVuSans-101\"/>\n",
       "     <use x=\"352.392578\" xlink:href=\"#DejaVuSans-116\"/>\n",
       "     <use x=\"391.601562\" xlink:href=\"#DejaVuSans-32\"/>\n",
       "     <use x=\"423.388672\" xlink:href=\"#DejaVuSans-115\"/>\n",
       "     <use x=\"475.488281\" xlink:href=\"#DejaVuSans-97\"/>\n",
       "     <use x=\"536.767578\" xlink:href=\"#DejaVuSans-109\"/>\n",
       "     <use x=\"634.179688\" xlink:href=\"#DejaVuSans-112\"/>\n",
       "     <use x=\"697.65625\" xlink:href=\"#DejaVuSans-108\"/>\n",
       "     <use x=\"725.439453\" xlink:href=\"#DejaVuSans-101\"/>\n",
       "     <use x=\"786.962891\" xlink:href=\"#DejaVuSans-115\"/>\n",
       "    </g>\n",
       "   </g>\n",
       "   <g id=\"legend_1\">\n",
       "    <g id=\"patch_7\">\n",
       "     <path d=\"M 65.523438 59.674375 \n",
       "L 133.371875 59.674375 \n",
       "Q 135.371875 59.674375 135.371875 57.674375 \n",
       "L 135.371875 29.318125 \n",
       "Q 135.371875 27.318125 133.371875 27.318125 \n",
       "L 65.523438 27.318125 \n",
       "Q 63.523438 27.318125 63.523438 29.318125 \n",
       "L 63.523438 57.674375 \n",
       "Q 63.523438 59.674375 65.523438 59.674375 \n",
       "z\n",
       "\" style=\"fill:#ffffff;opacity:0.8;stroke:#cccccc;stroke-linejoin:miter;\"/>\n",
       "    </g>\n",
       "    <g id=\"PathCollection_3\">\n",
       "     <g>\n",
       "      <use style=\"fill:#1f77b4;stroke:#333333;\" x=\"77.523438\" xlink:href=\"#mb2f0aaa9cc\" y=\"36.291562\"/>\n",
       "     </g>\n",
       "    </g>\n",
       "    <g id=\"text_18\">\n",
       "     <!-- Class 0 -->\n",
       "     <g transform=\"translate(95.523438 38.916562)scale(0.1 -0.1)\">\n",
       "      <defs>\n",
       "       <path d=\"M 64.40625 67.28125 \n",
       "L 64.40625 56.890625 \n",
       "Q 59.421875 61.53125 53.78125 63.8125 \n",
       "Q 48.140625 66.109375 41.796875 66.109375 \n",
       "Q 29.296875 66.109375 22.65625 58.46875 \n",
       "Q 16.015625 50.828125 16.015625 36.375 \n",
       "Q 16.015625 21.96875 22.65625 14.328125 \n",
       "Q 29.296875 6.6875 41.796875 6.6875 \n",
       "Q 48.140625 6.6875 53.78125 8.984375 \n",
       "Q 59.421875 11.28125 64.40625 15.921875 \n",
       "L 64.40625 5.609375 \n",
       "Q 59.234375 2.09375 53.4375 0.328125 \n",
       "Q 47.65625 -1.421875 41.21875 -1.421875 \n",
       "Q 24.65625 -1.421875 15.125 8.703125 \n",
       "Q 5.609375 18.84375 5.609375 36.375 \n",
       "Q 5.609375 53.953125 15.125 64.078125 \n",
       "Q 24.65625 74.21875 41.21875 74.21875 \n",
       "Q 47.75 74.21875 53.53125 72.484375 \n",
       "Q 59.328125 70.75 64.40625 67.28125 \n",
       "z\n",
       "\" id=\"DejaVuSans-67\"/>\n",
       "      </defs>\n",
       "      <use xlink:href=\"#DejaVuSans-67\"/>\n",
       "      <use x=\"69.824219\" xlink:href=\"#DejaVuSans-108\"/>\n",
       "      <use x=\"97.607422\" xlink:href=\"#DejaVuSans-97\"/>\n",
       "      <use x=\"158.886719\" xlink:href=\"#DejaVuSans-115\"/>\n",
       "      <use x=\"210.986328\" xlink:href=\"#DejaVuSans-115\"/>\n",
       "      <use x=\"263.085938\" xlink:href=\"#DejaVuSans-32\"/>\n",
       "      <use x=\"294.873047\" xlink:href=\"#DejaVuSans-48\"/>\n",
       "     </g>\n",
       "    </g>\n",
       "    <g id=\"PathCollection_4\">\n",
       "     <g>\n",
       "      <use style=\"fill:#ff7f0e;stroke:#333333;\" x=\"77.523438\" xlink:href=\"#m3990c72bb0\" y=\"50.969687\"/>\n",
       "     </g>\n",
       "    </g>\n",
       "    <g id=\"text_19\">\n",
       "     <!-- Class 1 -->\n",
       "     <g transform=\"translate(95.523438 53.594687)scale(0.1 -0.1)\">\n",
       "      <use xlink:href=\"#DejaVuSans-67\"/>\n",
       "      <use x=\"69.824219\" xlink:href=\"#DejaVuSans-108\"/>\n",
       "      <use x=\"97.607422\" xlink:href=\"#DejaVuSans-97\"/>\n",
       "      <use x=\"158.886719\" xlink:href=\"#DejaVuSans-115\"/>\n",
       "      <use x=\"210.986328\" xlink:href=\"#DejaVuSans-115\"/>\n",
       "      <use x=\"263.085938\" xlink:href=\"#DejaVuSans-32\"/>\n",
       "      <use x=\"294.873047\" xlink:href=\"#DejaVuSans-49\"/>\n",
       "     </g>\n",
       "    </g>\n",
       "   </g>\n",
       "  </g>\n",
       " </g>\n",
       " <defs>\n",
       "  <clipPath id=\"p663b3ad15e\">\n",
       "   <rect height=\"221.76\" width=\"221.76\" x=\"58.523438\" y=\"22.318125\"/>\n",
       "  </clipPath>\n",
       " </defs>\n",
       "</svg>\n"
      ],
      "text/plain": [
       "<Figure size 400x400 with 1 Axes>"
      ]
     },
     "metadata": {},
     "output_type": "display_data"
    }
   ],
   "source": [
    "@torch.no_grad()  # Decorator, same effect as \"with torch.no_grad(): ...\" over the whole function.\n",
    "def visualize_classification(model, data, label):\n",
    "    if isinstance(data, Tensor):\n",
    "        data = data.cpu().numpy()\n",
    "    if isinstance(label, Tensor):\n",
    "        label = label.cpu().numpy()\n",
    "    data_0 = data[label == 0]\n",
    "    data_1 = data[label == 1]\n",
    "\n",
    "    plt.figure(figsize=(4, 4))\n",
    "    plt.scatter(data_0[:, 0], data_0[:, 1], edgecolor=\"#333\", label=\"Class 0\")\n",
    "    plt.scatter(data_1[:, 0], data_1[:, 1], edgecolor=\"#333\", label=\"Class 1\")\n",
    "    plt.title(\"Dataset samples\")\n",
    "    plt.ylabel(r\"$x_2$\")\n",
    "    plt.xlabel(r\"$x_1$\")\n",
    "    plt.legend()\n",
    "\n",
    "    # Let's make use of a lot of operations we have learned above\n",
    "    model.to(device)\n",
    "    c0 = Tensor(to_rgba(\"C0\")).to(device)\n",
    "    c1 = Tensor(to_rgba(\"C1\")).to(device)\n",
    "    x1 = torch.arange(-0.5, 1.5, step=0.01, device=device)\n",
    "    x2 = torch.arange(-0.5, 1.5, step=0.01, device=device)\n",
    "    xx1, xx2 = torch.meshgrid(x1, x2)  # Meshgrid function as in numpy\n",
    "    model_inputs = torch.stack([xx1, xx2], dim=-1)\n",
    "    preds = model(model_inputs)\n",
    "    preds = torch.sigmoid(preds)\n",
    "    # Specifying \"None\" in a dimension creates a new one\n",
    "    output_image = (1 - preds) * c0[None, None] + preds * c1[None, None]\n",
    "    output_image = (\n",
    "        output_image.cpu().numpy()\n",
    "    )  # Convert to numpy array. This only works for tensors on CPU, hence first push to CPU\n",
    "    plt.imshow(output_image, origin=\"lower\", extent=(-0.5, 1.5, -0.5, 1.5))\n",
    "    plt.grid(False)\n",
    "\n",
    "\n",
    "visualize_classification(model, dataset.data, dataset.label)\n",
    "plt.show()"
   ]
  },
  {
   "cell_type": "markdown",
   "id": "30c0cfdb",
   "metadata": {
    "papermill": {
     "duration": 0.0195,
     "end_time": "2023-03-24T15:33:00.571473",
     "exception": false,
     "start_time": "2023-03-24T15:33:00.551973",
     "status": "completed"
    },
    "tags": []
   },
   "source": [
    "The decision boundaries might not look exactly as in the figure in the preamble of this section which can be caused by running it on CPU or a different GPU architecture.\n",
    "Nevertheless, the result on the accuracy metric should be the approximately the same."
   ]
  },
  {
   "cell_type": "markdown",
   "id": "2aa9324c",
   "metadata": {
    "papermill": {
     "duration": 0.019506,
     "end_time": "2023-03-24T15:33:00.610354",
     "exception": false,
     "start_time": "2023-03-24T15:33:00.590848",
     "status": "completed"
    },
    "tags": []
   },
   "source": [
    "## Additional features we didn't get to discuss yet\n",
    "\n",
    "Finally, you are all set to start with your own PyTorch project!\n",
    "In summary, we have looked at how we can build neural networks in PyTorch, and train and test them on data.\n",
    "However, there is still much more to PyTorch we haven't discussed yet.\n",
    "In the comming series of Jupyter notebooks, we will discover more and more functionalities of PyTorch, so that you also get familiar to PyTorch concepts beyond the basics.\n",
    "If you are already interested in learning more of PyTorch, we recommend the official [tutorial website](https://pytorch.org/tutorials/) that contains many tutorials on various topics.\n",
    "Especially logging with Tensorboard ([tutorial\n",
    "here](https://pytorch.org/tutorials/intermediate/tensorboard_tutorial.html))\n",
    "is a good practice that we will explore from Tutorial 5 on."
   ]
  },
  {
   "cell_type": "markdown",
   "id": "d8d795a9",
   "metadata": {
    "papermill": {
     "duration": 0.019478,
     "end_time": "2023-03-24T15:33:00.649309",
     "exception": false,
     "start_time": "2023-03-24T15:33:00.629831",
     "status": "completed"
    },
    "tags": []
   },
   "source": [
    "## Congratulations - Time to Join the Community!\n",
    "\n",
    "Congratulations on completing this notebook tutorial! If you enjoyed this and would like to join the Lightning\n",
    "movement, you can do so in the following ways!\n",
    "\n",
    "### Star [Lightning](https://github.com/Lightning-AI/lightning) on GitHub\n",
    "The easiest way to help our community is just by starring the GitHub repos! This helps raise awareness of the cool\n",
    "tools we're building.\n",
    "\n",
    "### Join our [Slack](https://www.pytorchlightning.ai/community)!\n",
    "The best way to keep up to date on the latest advancements is to join our community! Make sure to introduce yourself\n",
    "and share your interests in `#general` channel\n",
    "\n",
    "\n",
    "### Contributions !\n",
    "The best way to contribute to our community is to become a code contributor! At any time you can go to\n",
    "[Lightning](https://github.com/Lightning-AI/lightning) or [Bolt](https://github.com/Lightning-AI/lightning-bolts)\n",
    "GitHub Issues page and filter for \"good first issue\".\n",
    "\n",
    "* [Lightning good first issue](https://github.com/Lightning-AI/lightning/issues?q=is%3Aopen+is%3Aissue+label%3A%22good+first+issue%22)\n",
    "* [Bolt good first issue](https://github.com/Lightning-AI/lightning-bolts/issues?q=is%3Aopen+is%3Aissue+label%3A%22good+first+issue%22)\n",
    "* You can also contribute your own notebooks with useful examples !\n",
    "\n",
    "### Great thanks from the entire Pytorch Lightning Team for your interest !\n",
    "\n",
    "[![Pytorch Lightning](data:image/png;base64,NDA0OiBOb3QgRm91bmQ=){height=\"60px\" width=\"240px\"}](https://pytorchlightning.ai)"
   ]
  }
 ],
 "metadata": {
  "jupytext": {
   "cell_metadata_filter": "id,colab_type,colab,-all",
   "formats": "ipynb,py:percent",
   "main_language": "python"
  },
  "language_info": {
   "codemirror_mode": {
    "name": "ipython",
    "version": 3
   },
   "file_extension": ".py",
   "mimetype": "text/x-python",
   "name": "python",
   "nbconvert_exporter": "python",
   "pygments_lexer": "ipython3",
   "version": "3.9.16"
  },
  "papermill": {
   "default_parameters": {},
   "duration": 16.169288,
   "end_time": "2023-03-24T15:33:01.488507",
   "environment_variables": {},
   "exception": null,
   "input_path": "course_UvA-DL/01-introduction-to-pytorch/Introduction_to_PyTorch.ipynb",
   "output_path": ".notebooks/course_UvA-DL/01-introduction-to-pytorch.ipynb",
   "parameters": {},
   "start_time": "2023-03-24T15:32:45.319219",
   "version": "2.4.0"
  },
  "widgets": {
   "application/vnd.jupyter.widget-state+json": {
    "state": {
     "13fd75171e654e9783dfefe296587876": {
      "model_module": "@jupyter-widgets/controls",
      "model_module_version": "2.0.0",
      "model_name": "HTMLModel",
      "state": {
       "_dom_classes": [],
       "_model_module": "@jupyter-widgets/controls",
       "_model_module_version": "2.0.0",
       "_model_name": "HTMLModel",
       "_view_count": null,
       "_view_module": "@jupyter-widgets/controls",
       "_view_module_version": "2.0.0",
       "_view_name": "HTMLView",
       "description": "",
       "description_allow_html": false,
       "layout": "IPY_MODEL_749d355c3a594250b2cc60ce170f8bb3",
       "placeholder": "​",
       "style": "IPY_MODEL_93b4b7b4a8ae47ee92d778282e81398a",
       "tabbable": null,
       "tooltip": null,
       "value": "100%"
      }
     },
     "25b891bb38e04b0a8f83d3d026425446": {
      "model_module": "@jupyter-widgets/base",
      "model_module_version": "2.0.0",
      "model_name": "LayoutModel",
      "state": {
       "_model_module": "@jupyter-widgets/base",
       "_model_module_version": "2.0.0",
       "_model_name": "LayoutModel",
       "_view_count": null,
       "_view_module": "@jupyter-widgets/base",
       "_view_module_version": "2.0.0",
       "_view_name": "LayoutView",
       "align_content": null,
       "align_items": null,
       "align_self": null,
       "border_bottom": null,
       "border_left": null,
       "border_right": null,
       "border_top": null,
       "bottom": null,
       "display": null,
       "flex": null,
       "flex_flow": null,
       "grid_area": null,
       "grid_auto_columns": null,
       "grid_auto_flow": null,
       "grid_auto_rows": null,
       "grid_column": null,
       "grid_gap": null,
       "grid_row": null,
       "grid_template_areas": null,
       "grid_template_columns": null,
       "grid_template_rows": null,
       "height": null,
       "justify_content": null,
       "justify_items": null,
       "left": null,
       "margin": null,
       "max_height": null,
       "max_width": null,
       "min_height": null,
       "min_width": null,
       "object_fit": null,
       "object_position": null,
       "order": null,
       "overflow": null,
       "padding": null,
       "right": null,
       "top": null,
       "visibility": null,
       "width": null
      }
     },
     "3618efa7151044d381f9857815ce0b21": {
      "model_module": "@jupyter-widgets/controls",
      "model_module_version": "2.0.0",
      "model_name": "HTMLStyleModel",
      "state": {
       "_model_module": "@jupyter-widgets/controls",
       "_model_module_version": "2.0.0",
       "_model_name": "HTMLStyleModel",
       "_view_count": null,
       "_view_module": "@jupyter-widgets/base",
       "_view_module_version": "2.0.0",
       "_view_name": "StyleView",
       "background": null,
       "description_width": "",
       "font_size": null,
       "text_color": null
      }
     },
     "3c487c1debf54a2fb6c788f7458ac944": {
      "model_module": "@jupyter-widgets/base",
      "model_module_version": "2.0.0",
      "model_name": "LayoutModel",
      "state": {
       "_model_module": "@jupyter-widgets/base",
       "_model_module_version": "2.0.0",
       "_model_name": "LayoutModel",
       "_view_count": null,
       "_view_module": "@jupyter-widgets/base",
       "_view_module_version": "2.0.0",
       "_view_name": "LayoutView",
       "align_content": null,
       "align_items": null,
       "align_self": null,
       "border_bottom": null,
       "border_left": null,
       "border_right": null,
       "border_top": null,
       "bottom": null,
       "display": null,
       "flex": null,
       "flex_flow": null,
       "grid_area": null,
       "grid_auto_columns": null,
       "grid_auto_flow": null,
       "grid_auto_rows": null,
       "grid_column": null,
       "grid_gap": null,
       "grid_row": null,
       "grid_template_areas": null,
       "grid_template_columns": null,
       "grid_template_rows": null,
       "height": null,
       "justify_content": null,
       "justify_items": null,
       "left": null,
       "margin": null,
       "max_height": null,
       "max_width": null,
       "min_height": null,
       "min_width": null,
       "object_fit": null,
       "object_position": null,
       "order": null,
       "overflow": null,
       "padding": null,
       "right": null,
       "top": null,
       "visibility": null,
       "width": null
      }
     },
     "5bd804994e1d499cb5c4fe461455bb23": {
      "model_module": "@jupyter-widgets/controls",
      "model_module_version": "2.0.0",
      "model_name": "HBoxModel",
      "state": {
       "_dom_classes": [],
       "_model_module": "@jupyter-widgets/controls",
       "_model_module_version": "2.0.0",
       "_model_name": "HBoxModel",
       "_view_count": null,
       "_view_module": "@jupyter-widgets/controls",
       "_view_module_version": "2.0.0",
       "_view_name": "HBoxView",
       "box_style": "",
       "children": [
        "IPY_MODEL_13fd75171e654e9783dfefe296587876",
        "IPY_MODEL_d10661b292e242dda189a17f1c15466d",
        "IPY_MODEL_c29947b73502487c9c7ae207468cddaa"
       ],
       "layout": "IPY_MODEL_3c487c1debf54a2fb6c788f7458ac944",
       "tabbable": null,
       "tooltip": null
      }
     },
     "6bd485f12e48490e8445a4e0c21143ad": {
      "model_module": "@jupyter-widgets/controls",
      "model_module_version": "2.0.0",
      "model_name": "ProgressStyleModel",
      "state": {
       "_model_module": "@jupyter-widgets/controls",
       "_model_module_version": "2.0.0",
       "_model_name": "ProgressStyleModel",
       "_view_count": null,
       "_view_module": "@jupyter-widgets/base",
       "_view_module_version": "2.0.0",
       "_view_name": "StyleView",
       "bar_color": null,
       "description_width": ""
      }
     },
     "749d355c3a594250b2cc60ce170f8bb3": {
      "model_module": "@jupyter-widgets/base",
      "model_module_version": "2.0.0",
      "model_name": "LayoutModel",
      "state": {
       "_model_module": "@jupyter-widgets/base",
       "_model_module_version": "2.0.0",
       "_model_name": "LayoutModel",
       "_view_count": null,
       "_view_module": "@jupyter-widgets/base",
       "_view_module_version": "2.0.0",
       "_view_name": "LayoutView",
       "align_content": null,
       "align_items": null,
       "align_self": null,
       "border_bottom": null,
       "border_left": null,
       "border_right": null,
       "border_top": null,
       "bottom": null,
       "display": null,
       "flex": null,
       "flex_flow": null,
       "grid_area": null,
       "grid_auto_columns": null,
       "grid_auto_flow": null,
       "grid_auto_rows": null,
       "grid_column": null,
       "grid_gap": null,
       "grid_row": null,
       "grid_template_areas": null,
       "grid_template_columns": null,
       "grid_template_rows": null,
       "height": null,
       "justify_content": null,
       "justify_items": null,
       "left": null,
       "margin": null,
       "max_height": null,
       "max_width": null,
       "min_height": null,
       "min_width": null,
       "object_fit": null,
       "object_position": null,
       "order": null,
       "overflow": null,
       "padding": null,
       "right": null,
       "top": null,
       "visibility": null,
       "width": null
      }
     },
     "93b4b7b4a8ae47ee92d778282e81398a": {
      "model_module": "@jupyter-widgets/controls",
      "model_module_version": "2.0.0",
      "model_name": "HTMLStyleModel",
      "state": {
       "_model_module": "@jupyter-widgets/controls",
       "_model_module_version": "2.0.0",
       "_model_name": "HTMLStyleModel",
       "_view_count": null,
       "_view_module": "@jupyter-widgets/base",
       "_view_module_version": "2.0.0",
       "_view_name": "StyleView",
       "background": null,
       "description_width": "",
       "font_size": null,
       "text_color": null
      }
     },
     "bd62ace7e8584184b9ffcbd1163bdb21": {
      "model_module": "@jupyter-widgets/base",
      "model_module_version": "2.0.0",
      "model_name": "LayoutModel",
      "state": {
       "_model_module": "@jupyter-widgets/base",
       "_model_module_version": "2.0.0",
       "_model_name": "LayoutModel",
       "_view_count": null,
       "_view_module": "@jupyter-widgets/base",
       "_view_module_version": "2.0.0",
       "_view_name": "LayoutView",
       "align_content": null,
       "align_items": null,
       "align_self": null,
       "border_bottom": null,
       "border_left": null,
       "border_right": null,
       "border_top": null,
       "bottom": null,
       "display": null,
       "flex": null,
       "flex_flow": null,
       "grid_area": null,
       "grid_auto_columns": null,
       "grid_auto_flow": null,
       "grid_auto_rows": null,
       "grid_column": null,
       "grid_gap": null,
       "grid_row": null,
       "grid_template_areas": null,
       "grid_template_columns": null,
       "grid_template_rows": null,
       "height": null,
       "justify_content": null,
       "justify_items": null,
       "left": null,
       "margin": null,
       "max_height": null,
       "max_width": null,
       "min_height": null,
       "min_width": null,
       "object_fit": null,
       "object_position": null,
       "order": null,
       "overflow": null,
       "padding": null,
       "right": null,
       "top": null,
       "visibility": null,
       "width": null
      }
     },
     "c29947b73502487c9c7ae207468cddaa": {
      "model_module": "@jupyter-widgets/controls",
      "model_module_version": "2.0.0",
      "model_name": "HTMLModel",
      "state": {
       "_dom_classes": [],
       "_model_module": "@jupyter-widgets/controls",
       "_model_module_version": "2.0.0",
       "_model_name": "HTMLModel",
       "_view_count": null,
       "_view_module": "@jupyter-widgets/controls",
       "_view_module_version": "2.0.0",
       "_view_name": "HTMLView",
       "description": "",
       "description_allow_html": false,
       "layout": "IPY_MODEL_bd62ace7e8584184b9ffcbd1163bdb21",
       "placeholder": "​",
       "style": "IPY_MODEL_3618efa7151044d381f9857815ce0b21",
       "tabbable": null,
       "tooltip": null,
       "value": " 100/100 [00:01&lt;00:00, 69.18it/s]"
      }
     },
     "d10661b292e242dda189a17f1c15466d": {
      "model_module": "@jupyter-widgets/controls",
      "model_module_version": "2.0.0",
      "model_name": "FloatProgressModel",
      "state": {
       "_dom_classes": [],
       "_model_module": "@jupyter-widgets/controls",
       "_model_module_version": "2.0.0",
       "_model_name": "FloatProgressModel",
       "_view_count": null,
       "_view_module": "@jupyter-widgets/controls",
       "_view_module_version": "2.0.0",
       "_view_name": "ProgressView",
       "bar_style": "success",
       "description": "",
       "description_allow_html": false,
       "layout": "IPY_MODEL_25b891bb38e04b0a8f83d3d026425446",
       "max": 100.0,
       "min": 0.0,
       "orientation": "horizontal",
       "style": "IPY_MODEL_6bd485f12e48490e8445a4e0c21143ad",
       "tabbable": null,
       "tooltip": null,
       "value": 100.0
      }
     }
    },
    "version_major": 2,
    "version_minor": 0
   }
  }
 },
 "nbformat": 4,
 "nbformat_minor": 5
}