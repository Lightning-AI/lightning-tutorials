version https://git-lfs.github.com/spec/v1
oid sha256:6477df895d7e44e2e31d2ef342b049f1238a23f3f5409601f66a1df1a332d7b8
size 386563
