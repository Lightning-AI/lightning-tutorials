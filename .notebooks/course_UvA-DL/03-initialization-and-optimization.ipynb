version https://git-lfs.github.com/spec/v1
oid sha256:ce323313e0a04484772d1a029c0a2667060d24929b3143d951e19fdf46d83060
size 5671885
