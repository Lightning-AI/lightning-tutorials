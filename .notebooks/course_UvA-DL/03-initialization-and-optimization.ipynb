version https://git-lfs.github.com/spec/v1
oid sha256:520f59de07e35001a42430ffe26377e1007123e1c0bf8f7cfb425624cdb28c41
size 5671570
