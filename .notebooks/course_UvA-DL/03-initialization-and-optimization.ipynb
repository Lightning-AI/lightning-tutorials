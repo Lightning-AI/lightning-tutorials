version https://git-lfs.github.com/spec/v1
oid sha256:9f7367546206d693c72814b49c56d4a0f0689249e7b1e13866e63c540755ed2b
size 5671909
