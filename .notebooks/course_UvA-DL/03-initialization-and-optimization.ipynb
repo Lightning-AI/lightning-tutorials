version https://git-lfs.github.com/spec/v1
oid sha256:65b9c2b52b93162c3faa33c73071fa3531646b8833e9117b10aa00a0df1a942f
size 5684040
