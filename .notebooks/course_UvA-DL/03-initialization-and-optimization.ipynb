version https://git-lfs.github.com/spec/v1
oid sha256:92a689345e3d3d8bd356970f936e716fabef46c95fd924a524ef4e3f556f4bef
size 5669577
