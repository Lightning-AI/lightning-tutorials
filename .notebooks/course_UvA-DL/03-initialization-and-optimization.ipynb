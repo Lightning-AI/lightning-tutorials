version https://git-lfs.github.com/spec/v1
oid sha256:c8b9c5b51f8c389e3513e7892c8bfe8fa09fab5241b12b7e246b8ea54dbe6722
size 5677862
