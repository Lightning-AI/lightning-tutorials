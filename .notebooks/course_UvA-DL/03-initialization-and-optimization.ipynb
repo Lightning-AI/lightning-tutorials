version https://git-lfs.github.com/spec/v1
oid sha256:15974fe90cdc17049b2122b51e4951ec5cb27ea241236dd0a2acef96bd543917
size 5669887
