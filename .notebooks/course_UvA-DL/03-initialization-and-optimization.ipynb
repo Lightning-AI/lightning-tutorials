version https://git-lfs.github.com/spec/v1
oid sha256:dbda9d3fb6e3625c1c6f7fe373df6c827c3c363fae45607b56d8eac530535d55
size 5679196
