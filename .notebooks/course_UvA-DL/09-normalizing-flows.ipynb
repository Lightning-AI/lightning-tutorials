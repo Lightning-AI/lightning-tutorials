version https://git-lfs.github.com/spec/v1
oid sha256:29078a25dfed8eac6bca3192f88a0ab4e6078d38d8963ab14fa41f0ef3ecf8e2
size 1065463
