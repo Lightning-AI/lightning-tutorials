version https://git-lfs.github.com/spec/v1
oid sha256:16a0a2e76664a5a68a99e151975c4e05183432a201dbe228e6bf4d425bd74e36
size 1066400
