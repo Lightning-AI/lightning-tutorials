{
 "cells": [
  {
   "cell_type": "markdown",
   "id": "e6e3f672",
   "metadata": {
    "papermill": {
     "duration": 0.032355,
     "end_time": "2021-09-13T14:15:05.844230",
     "exception": false,
     "start_time": "2021-09-13T14:15:05.811875",
     "status": "completed"
    },
    "tags": []
   },
   "source": [
    "\n",
    "# Inception, ResNet and DenseNet\n",
    "\n",
    "* **Author:** Phillip Lippe\n",
    "* **License:** CC BY-SA\n",
    "* **Generated:** 2021-09-13T16:08:57.119643\n",
    "\n",
    "In this tutorial, we will implement and discuss variants of modern CNN architectures.\n",
    "There have been many different architectures been proposed over the past few years.\n",
    "Some of the most impactful ones, and still relevant today, are the following: [GoogleNet](https://arxiv.org/abs/1409.4842)/Inception architecture (winner of ILSVRC 2014), [ResNet](https://arxiv.org/abs/1512.03385) (winner of ILSVRC 2015), and [DenseNet](https://arxiv.org/abs/1608.06993) (best paper award CVPR 2017).\n",
    "All of them were state-of-the-art models when being proposed, and the core ideas of these networks are the foundations for most current state-of-the-art architectures.\n",
    "Thus, it is important to understand these architectures in detail and learn how to implement them.\n",
    "This notebook is part of a lecture series on Deep Learning at the University of Amsterdam.\n",
    "The full list of tutorials can be found at https://uvadlc-notebooks.rtfd.io.\n",
    "\n",
    "\n",
    "---\n",
    "Open in [![Open In Colab](data:image/png;base64,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){height=\"20px\" width=\"117px\"}](https://colab.research.google.com/github/PytorchLightning/lightning-tutorials/blob/publication/.notebooks/course_UvA-DL/inception-resnet-densenet.ipynb)\n",
    "\n",
    "Give us a ⭐ [on Github](https://www.github.com/PytorchLightning/pytorch-lightning/)\n",
    "| Check out [the documentation](https://pytorch-lightning.readthedocs.io/en/latest/)\n",
    "| Join us [on Slack](https://join.slack.com/t/pytorch-lightning/shared_invite/zt-pw5v393p-qRaDgEk24~EjiZNBpSQFgQ)"
   ]
  },
  {
   "cell_type": "markdown",
   "id": "a857d1f9",
   "metadata": {
    "papermill": {
     "duration": 0.031251,
     "end_time": "2021-09-13T14:15:05.907450",
     "exception": false,
     "start_time": "2021-09-13T14:15:05.876199",
     "status": "completed"
    },
    "tags": []
   },
   "source": [
    "## Setup\n",
    "This notebook requires some packages besides pytorch-lightning."
   ]
  },
  {
   "cell_type": "code",
   "execution_count": 1,
   "id": "f205659f",
   "metadata": {
    "colab": {},
    "colab_type": "code",
    "execution": {
     "iopub.execute_input": "2021-09-13T14:15:05.972690Z",
     "iopub.status.busy": "2021-09-13T14:15:05.972185Z",
     "iopub.status.idle": "2021-09-13T14:15:05.973763Z",
     "shell.execute_reply": "2021-09-13T14:15:05.974153Z"
    },
    "id": "LfrJLKPFyhsK",
    "lines_to_next_cell": 0,
    "papermill": {
     "duration": 0.036904,
     "end_time": "2021-09-13T14:15:05.974343",
     "exception": false,
     "start_time": "2021-09-13T14:15:05.937439",
     "status": "completed"
    },
    "tags": []
   },
   "outputs": [],
   "source": [
    "# ! pip install --quiet \"tabulate\" \"torch>=1.6, <1.9\" \"matplotlib\" \"torchmetrics>=0.3\" \"seaborn\" \"torchvision\" \"pytorch-lightning>=1.3\""
   ]
  },
  {
   "cell_type": "markdown",
   "id": "ebab363d",
   "metadata": {
    "papermill": {
     "duration": 0.032991,
     "end_time": "2021-09-13T14:15:06.038370",
     "exception": false,
     "start_time": "2021-09-13T14:15:06.005379",
     "status": "completed"
    },
    "tags": []
   },
   "source": [
    "Let's start with importing our standard libraries here."
   ]
  },
  {
   "cell_type": "code",
   "execution_count": 2,
   "id": "042e36a5",
   "metadata": {
    "execution": {
     "iopub.execute_input": "2021-09-13T14:15:06.109942Z",
     "iopub.status.busy": "2021-09-13T14:15:06.109449Z",
     "iopub.status.idle": "2021-09-13T14:15:07.770606Z",
     "shell.execute_reply": "2021-09-13T14:15:07.770156Z"
    },
    "papermill": {
     "duration": 1.69864,
     "end_time": "2021-09-13T14:15:07.770723",
     "exception": false,
     "start_time": "2021-09-13T14:15:06.072083",
     "status": "completed"
    },
    "tags": []
   },
   "outputs": [
    {
     "name": "stderr",
     "output_type": "stream",
     "text": [
      "/tmp/ipykernel_2469/1951796227.py:25: DeprecationWarning: `set_matplotlib_formats` is deprecated since IPython 7.23, directly use `matplotlib_inline.backend_inline.set_matplotlib_formats()`\n",
      "  set_matplotlib_formats(\"svg\", \"pdf\")  # For export\n"
     ]
    }
   ],
   "source": [
    "import os\n",
    "import urllib.request\n",
    "from types import SimpleNamespace\n",
    "from urllib.error import HTTPError\n",
    "\n",
    "import matplotlib\n",
    "import matplotlib.pyplot as plt\n",
    "import numpy as np\n",
    "import pytorch_lightning as pl\n",
    "import seaborn as sns\n",
    "import tabulate\n",
    "import torch\n",
    "import torch.nn as nn\n",
    "import torch.optim as optim\n",
    "import torch.utils.data as data\n",
    "import torchvision\n",
    "\n",
    "# %matplotlib inline\n",
    "from IPython.display import HTML, display, set_matplotlib_formats\n",
    "from PIL import Image\n",
    "from pytorch_lightning.callbacks import LearningRateMonitor, ModelCheckpoint\n",
    "from torchvision import transforms\n",
    "from torchvision.datasets import CIFAR10\n",
    "\n",
    "set_matplotlib_formats(\"svg\", \"pdf\")  # For export\n",
    "matplotlib.rcParams[\"lines.linewidth\"] = 2.0\n",
    "sns.reset_orig()\n",
    "\n",
    "# PyTorch\n",
    "# Torchvision"
   ]
  },
  {
   "cell_type": "markdown",
   "id": "84032094",
   "metadata": {
    "papermill": {
     "duration": 0.030547,
     "end_time": "2021-09-13T14:15:07.832971",
     "exception": false,
     "start_time": "2021-09-13T14:15:07.802424",
     "status": "completed"
    },
    "tags": []
   },
   "source": [
    "We will use the same `set_seed` function as in the previous tutorials, as well as the path variables `DATASET_PATH` and `CHECKPOINT_PATH`.\n",
    "Adjust the paths if necessary."
   ]
  },
  {
   "cell_type": "code",
   "execution_count": 3,
   "id": "a57573c2",
   "metadata": {
    "execution": {
     "iopub.execute_input": "2021-09-13T14:15:07.898674Z",
     "iopub.status.busy": "2021-09-13T14:15:07.898175Z",
     "iopub.status.idle": "2021-09-13T14:15:07.971705Z",
     "shell.execute_reply": "2021-09-13T14:15:07.971188Z"
    },
    "papermill": {
     "duration": 0.108057,
     "end_time": "2021-09-13T14:15:07.971822",
     "exception": false,
     "start_time": "2021-09-13T14:15:07.863765",
     "status": "completed"
    },
    "tags": []
   },
   "outputs": [
    {
     "name": "stderr",
     "output_type": "stream",
     "text": [
      "Global seed set to 42\n"
     ]
    }
   ],
   "source": [
    "# Path to the folder where the datasets are/should be downloaded (e.g. CIFAR10)\n",
    "DATASET_PATH = os.environ.get(\"PATH_DATASETS\", \"data/\")\n",
    "# Path to the folder where the pretrained models are saved\n",
    "CHECKPOINT_PATH = os.environ.get(\"PATH_CHECKPOINT\", \"saved_models/ConvNets\")\n",
    "\n",
    "\n",
    "# Function for setting the seed\n",
    "pl.seed_everything(42)\n",
    "\n",
    "# Ensure that all operations are deterministic on GPU (if used) for reproducibility\n",
    "torch.backends.cudnn.determinstic = True\n",
    "torch.backends.cudnn.benchmark = False\n",
    "\n",
    "device = torch.device(\"cuda:0\") if torch.cuda.is_available() else torch.device(\"cpu\")"
   ]
  },
  {
   "cell_type": "markdown",
   "id": "7386554f",
   "metadata": {
    "papermill": {
     "duration": 0.030925,
     "end_time": "2021-09-13T14:15:08.034279",
     "exception": false,
     "start_time": "2021-09-13T14:15:08.003354",
     "status": "completed"
    },
    "tags": []
   },
   "source": [
    "We also have pretrained models and Tensorboards (more on this later) for this tutorial, and download them below."
   ]
  },
  {
   "cell_type": "code",
   "execution_count": 4,
   "id": "15e97cd4",
   "metadata": {
    "execution": {
     "iopub.execute_input": "2021-09-13T14:15:08.101402Z",
     "iopub.status.busy": "2021-09-13T14:15:08.100911Z",
     "iopub.status.idle": "2021-09-13T14:15:09.498993Z",
     "shell.execute_reply": "2021-09-13T14:15:09.498499Z"
    },
    "papermill": {
     "duration": 1.434079,
     "end_time": "2021-09-13T14:15:09.499108",
     "exception": false,
     "start_time": "2021-09-13T14:15:08.065029",
     "status": "completed"
    },
    "tags": []
   },
   "outputs": [
    {
     "name": "stdout",
     "output_type": "stream",
     "text": [
      "Downloading https://raw.githubusercontent.com/phlippe/saved_models/main/tutorial5/GoogleNet.ckpt...\n"
     ]
    },
    {
     "name": "stdout",
     "output_type": "stream",
     "text": [
      "Downloading https://raw.githubusercontent.com/phlippe/saved_models/main/tutorial5/ResNet.ckpt...\n",
      "Downloading https://raw.githubusercontent.com/phlippe/saved_models/main/tutorial5/ResNetPreAct.ckpt...\n"
     ]
    },
    {
     "name": "stdout",
     "output_type": "stream",
     "text": [
      "Downloading https://raw.githubusercontent.com/phlippe/saved_models/main/tutorial5/DenseNet.ckpt...\n",
      "Downloading https://raw.githubusercontent.com/phlippe/saved_models/main/tutorial5/tensorboards/GoogleNet/events.out.tfevents.googlenet...\n"
     ]
    },
    {
     "name": "stdout",
     "output_type": "stream",
     "text": [
      "Downloading https://raw.githubusercontent.com/phlippe/saved_models/main/tutorial5/tensorboards/ResNet/events.out.tfevents.resnet...\n",
      "Downloading https://raw.githubusercontent.com/phlippe/saved_models/main/tutorial5/tensorboards/ResNetPreAct/events.out.tfevents.resnetpreact...\n"
     ]
    },
    {
     "name": "stdout",
     "output_type": "stream",
     "text": [
      "Downloading https://raw.githubusercontent.com/phlippe/saved_models/main/tutorial5/tensorboards/DenseNet/events.out.tfevents.densenet...\n"
     ]
    }
   ],
   "source": [
    "# Github URL where saved models are stored for this tutorial\n",
    "base_url = \"https://raw.githubusercontent.com/phlippe/saved_models/main/tutorial5/\"\n",
    "# Files to download\n",
    "pretrained_files = [\n",
    "    \"GoogleNet.ckpt\",\n",
    "    \"ResNet.ckpt\",\n",
    "    \"ResNetPreAct.ckpt\",\n",
    "    \"DenseNet.ckpt\",\n",
    "    \"tensorboards/GoogleNet/events.out.tfevents.googlenet\",\n",
    "    \"tensorboards/ResNet/events.out.tfevents.resnet\",\n",
    "    \"tensorboards/ResNetPreAct/events.out.tfevents.resnetpreact\",\n",
    "    \"tensorboards/DenseNet/events.out.tfevents.densenet\",\n",
    "]\n",
    "# Create checkpoint path if it doesn't exist yet\n",
    "os.makedirs(CHECKPOINT_PATH, exist_ok=True)\n",
    "\n",
    "# For each file, check whether it already exists. If not, try downloading it.\n",
    "for file_name in pretrained_files:\n",
    "    file_path = os.path.join(CHECKPOINT_PATH, file_name)\n",
    "    if \"/\" in file_name:\n",
    "        os.makedirs(file_path.rsplit(\"/\", 1)[0], exist_ok=True)\n",
    "    if not os.path.isfile(file_path):\n",
    "        file_url = base_url + file_name\n",
    "        print(f\"Downloading {file_url}...\")\n",
    "        try:\n",
    "            urllib.request.urlretrieve(file_url, file_path)\n",
    "        except HTTPError as e:\n",
    "            print(\n",
    "                \"Something went wrong. Please try to download the file from the GDrive folder, or contact the author with the full output including the following error:\\n\",\n",
    "                e,\n",
    "            )"
   ]
  },
  {
   "cell_type": "markdown",
   "id": "0ea4d9b5",
   "metadata": {
    "papermill": {
     "duration": 0.032071,
     "end_time": "2021-09-13T14:15:09.563783",
     "exception": false,
     "start_time": "2021-09-13T14:15:09.531712",
     "status": "completed"
    },
    "tags": []
   },
   "source": [
    "Throughout this tutorial, we will train and evaluate the models on the CIFAR10 dataset.\n",
    "This allows you to compare the results obtained here with the model you have implemented in the first assignment.\n",
    "As we have learned from the previous tutorial about initialization, it is important to have the data preprocessed with a zero mean.\n",
    "Therefore, as a first step, we will calculate the mean and standard deviation of the CIFAR dataset:"
   ]
  },
  {
   "cell_type": "code",
   "execution_count": 5,
   "id": "d7d86722",
   "metadata": {
    "execution": {
     "iopub.execute_input": "2021-09-13T14:15:09.631676Z",
     "iopub.status.busy": "2021-09-13T14:15:09.631207Z",
     "iopub.status.idle": "2021-09-13T14:15:12.673101Z",
     "shell.execute_reply": "2021-09-13T14:15:12.672672Z"
    },
    "papermill": {
     "duration": 3.07755,
     "end_time": "2021-09-13T14:15:12.673219",
     "exception": false,
     "start_time": "2021-09-13T14:15:09.595669",
     "status": "completed"
    },
    "tags": []
   },
   "outputs": [
    {
     "name": "stdout",
     "output_type": "stream",
     "text": [
      "Files already downloaded and verified\n"
     ]
    },
    {
     "name": "stdout",
     "output_type": "stream",
     "text": [
      "Data mean [0.49139968 0.48215841 0.44653091]\n",
      "Data std [0.24703223 0.24348513 0.26158784]\n"
     ]
    }
   ],
   "source": [
    "train_dataset = CIFAR10(root=DATASET_PATH, train=True, download=True)\n",
    "DATA_MEANS = (train_dataset.data / 255.0).mean(axis=(0, 1, 2))\n",
    "DATA_STD = (train_dataset.data / 255.0).std(axis=(0, 1, 2))\n",
    "print(\"Data mean\", DATA_MEANS)\n",
    "print(\"Data std\", DATA_STD)"
   ]
  },
  {
   "cell_type": "markdown",
   "id": "17bae3a1",
   "metadata": {
    "papermill": {
     "duration": 0.032677,
     "end_time": "2021-09-13T14:15:12.739975",
     "exception": false,
     "start_time": "2021-09-13T14:15:12.707298",
     "status": "completed"
    },
    "tags": []
   },
   "source": [
    "We will use this information to define a `transforms.Normalize` module which will normalize our data accordingly.\n",
    "Additionally, we will use data augmentation during training.\n",
    "This reduces the risk of overfitting and helps CNNs to generalize better.\n",
    "Specifically, we will apply two random augmentations.\n",
    "\n",
    "First, we will flip each image horizontally by a chance of 50% (`transforms.RandomHorizontalFlip`).\n",
    "The object class usually does not change when flipping an image, and we don't expect any image information to be dependent on the horizontal orientation.\n",
    "This would be however different if we would try to detect digits or letters in an image, as those have a certain orientation.\n",
    "\n",
    "The second augmentation we use is called `transforms.RandomResizedCrop`.\n",
    "This transformation scales the image in a small range, while eventually changing the aspect ratio, and crops it afterward in the previous size.\n",
    "Therefore, the actual pixel values change while the content or overall semantics of the image stays the same.\n",
    "\n",
    "We will randomly split the training dataset into a training and a validation set.\n",
    "The validation set will be used for determining early stopping.\n",
    "After finishing the training, we test the models on the CIFAR test set."
   ]
  },
  {
   "cell_type": "code",
   "execution_count": 6,
   "id": "95c86d89",
   "metadata": {
    "execution": {
     "iopub.execute_input": "2021-09-13T14:15:12.812260Z",
     "iopub.status.busy": "2021-09-13T14:15:12.807420Z",
     "iopub.status.idle": "2021-09-13T14:15:15.071008Z",
     "shell.execute_reply": "2021-09-13T14:15:15.070554Z"
    },
    "papermill": {
     "duration": 2.298301,
     "end_time": "2021-09-13T14:15:15.071128",
     "exception": false,
     "start_time": "2021-09-13T14:15:12.772827",
     "status": "completed"
    },
    "tags": []
   },
   "outputs": [
    {
     "name": "stdout",
     "output_type": "stream",
     "text": [
      "Files already downloaded and verified\n"
     ]
    },
    {
     "name": "stdout",
     "output_type": "stream",
     "text": [
      "Files already downloaded and verified\n"
     ]
    },
    {
     "name": "stderr",
     "output_type": "stream",
     "text": [
      "Global seed set to 42\n"
     ]
    },
    {
     "name": "stderr",
     "output_type": "stream",
     "text": [
      "Global seed set to 42\n"
     ]
    },
    {
     "name": "stdout",
     "output_type": "stream",
     "text": [
      "Files already downloaded and verified\n"
     ]
    }
   ],
   "source": [
    "test_transform = transforms.Compose([transforms.ToTensor(), transforms.Normalize(DATA_MEANS, DATA_STD)])\n",
    "# For training, we add some augmentation. Networks are too powerful and would overfit.\n",
    "train_transform = transforms.Compose(\n",
    "    [\n",
    "        transforms.RandomHorizontalFlip(),\n",
    "        transforms.RandomResizedCrop((32, 32), scale=(0.8, 1.0), ratio=(0.9, 1.1)),\n",
    "        transforms.ToTensor(),\n",
    "        transforms.Normalize(DATA_MEANS, DATA_STD),\n",
    "    ]\n",
    ")\n",
    "# Loading the training dataset. We need to split it into a training and validation part\n",
    "# We need to do a little trick because the validation set should not use the augmentation.\n",
    "train_dataset = CIFAR10(root=DATASET_PATH, train=True, transform=train_transform, download=True)\n",
    "val_dataset = CIFAR10(root=DATASET_PATH, train=True, transform=test_transform, download=True)\n",
    "pl.seed_everything(42)\n",
    "train_set, _ = torch.utils.data.random_split(train_dataset, [45000, 5000])\n",
    "pl.seed_everything(42)\n",
    "_, val_set = torch.utils.data.random_split(val_dataset, [45000, 5000])\n",
    "\n",
    "# Loading the test set\n",
    "test_set = CIFAR10(root=DATASET_PATH, train=False, transform=test_transform, download=True)\n",
    "\n",
    "# We define a set of data loaders that we can use for various purposes later.\n",
    "train_loader = data.DataLoader(train_set, batch_size=128, shuffle=True, drop_last=True, pin_memory=True, num_workers=4)\n",
    "val_loader = data.DataLoader(val_set, batch_size=128, shuffle=False, drop_last=False, num_workers=4)\n",
    "test_loader = data.DataLoader(test_set, batch_size=128, shuffle=False, drop_last=False, num_workers=4)"
   ]
  },
  {
   "cell_type": "markdown",
   "id": "964052be",
   "metadata": {
    "papermill": {
     "duration": 0.033579,
     "end_time": "2021-09-13T14:15:15.138897",
     "exception": false,
     "start_time": "2021-09-13T14:15:15.105318",
     "status": "completed"
    },
    "tags": []
   },
   "source": [
    "To verify that our normalization works, we can print out the mean and standard deviation of the single batch.\n",
    "The mean should be close to 0 and the standard deviation close to 1 for each channel:"
   ]
  },
  {
   "cell_type": "code",
   "execution_count": 7,
   "id": "dcd2d2d4",
   "metadata": {
    "execution": {
     "iopub.execute_input": "2021-09-13T14:15:15.210704Z",
     "iopub.status.busy": "2021-09-13T14:15:15.210207Z",
     "iopub.status.idle": "2021-09-13T14:15:18.055300Z",
     "shell.execute_reply": "2021-09-13T14:15:18.054873Z"
    },
    "papermill": {
     "duration": 2.882646,
     "end_time": "2021-09-13T14:15:18.055416",
     "exception": false,
     "start_time": "2021-09-13T14:15:15.172770",
     "status": "completed"
    },
    "tags": []
   },
   "outputs": [
    {
     "name": "stdout",
     "output_type": "stream",
     "text": [
      "Batch mean tensor([-0.0088, -0.0180, -0.0446])\n",
      "Batch std tensor([0.9446, 0.9240, 0.9487])\n"
     ]
    }
   ],
   "source": [
    "imgs, _ = next(iter(train_loader))\n",
    "print(\"Batch mean\", imgs.mean(dim=[0, 2, 3]))\n",
    "print(\"Batch std\", imgs.std(dim=[0, 2, 3]))"
   ]
  },
  {
   "cell_type": "markdown",
   "id": "e3e7f7ab",
   "metadata": {
    "papermill": {
     "duration": 0.034437,
     "end_time": "2021-09-13T14:15:18.126036",
     "exception": false,
     "start_time": "2021-09-13T14:15:18.091599",
     "status": "completed"
    },
    "tags": []
   },
   "source": [
    "Finally, let's visualize a few images from the training set, and how they look like after random data augmentation:"
   ]
  },
  {
   "cell_type": "code",
   "execution_count": 8,
   "id": "ba05eca0",
   "metadata": {
    "execution": {
     "iopub.execute_input": "2021-09-13T14:15:18.199770Z",
     "iopub.status.busy": "2021-09-13T14:15:18.199289Z",
     "iopub.status.idle": "2021-09-13T14:15:18.339222Z",
     "shell.execute_reply": "2021-09-13T14:15:18.339613Z"
    },
    "papermill": {
     "duration": 0.179625,
     "end_time": "2021-09-13T14:15:18.339748",
     "exception": false,
     "start_time": "2021-09-13T14:15:18.160123",
     "status": "completed"
    },
    "tags": []
   },
   "outputs": [
    {
     "data": {
      "application/pdf": "[encoded data removed]",
      "image/svg+xml": [
       "<?xml version=\"1.0\" encoding=\"utf-8\" standalone=\"no\"?>\n",
       "<!DOCTYPE svg PUBLIC \"-//W3C//DTD SVG 1.1//EN\"\n",
       "  \"http://www.w3.org/Graphics/SVG/1.1/DTD/svg11.dtd\">\n",
       "<svg height=\"255.952908pt\" version=\"1.1\" viewBox=\"0 0 460.8 255.952908\" width=\"460.8pt\" xmlns=\"http://www.w3.org/2000/svg\" xmlns:xlink=\"http://www.w3.org/1999/xlink\">\n",
       " <metadata>\n",
       "  <rdf:RDF xmlns:cc=\"http://creativecommons.org/ns#\" xmlns:dc=\"http://purl.org/dc/elements/1.1/\" xmlns:rdf=\"http://www.w3.org/1999/02/22-rdf-syntax-ns#\">\n",
       "   <cc:Work>\n",
       "    <dc:type rdf:resource=\"http://purl.org/dc/dcmitype/StillImage\"/>\n",
       "    <dc:date>2021-09-13T16:15:18.260108</dc:date>\n",
       "    <dc:format>image/svg+xml</dc:format>\n",
       "    <dc:creator>\n",
       "     <cc:Agent>\n",
       "      <dc:title>Matplotlib v3.4.3, https://matplotlib.org/</dc:title>\n",
       "     </cc:Agent>\n",
       "    </dc:creator>\n",
       "   </cc:Work>\n",
       "  </rdf:RDF>\n",
       " </metadata>\n",
       " <defs>\n",
       "  <style type=\"text/css\">*{stroke-linecap:butt;stroke-linejoin:round;}</style>\n",
       " </defs>\n",
       " <g id=\"figure_1\">\n",
       "  <g id=\"patch_1\">\n",
       "   <path d=\"M 0 255.952908 \n",
       "L 460.8 255.952908 \n",
       "L 460.8 0 \n",
       "L 0 0 \n",
       "z\n",
       "\" style=\"fill:none;\"/>\n",
       "  </g>\n",
       "  <g id=\"axes_1\">\n",
       "   <g clip-path=\"url(#pbda3513ab0)\">\n",
       "    <image height=\"227\" id=\"imagee1ab73b8fa\" transform=\"scale(1 -1)translate(0 -227)\" width=\"447\" x=\"7.2\" xlink:href=\"data:image/png;base64,\n",
       "iVBORw0KGgoAAAANSUhEUgAAAb8AAADjCAYAAAAVKBpKAAB11ElEQVR4nO29V5ct23kdtirs2jl0jqdPn3xuBC5yBgFRpCxTYWho6NF+8Rj+GfgdHvaDrRcPSvYYpigG0SJBggAR7gVwE3Dvyblz986poh9I1Zzfur2PmyJFgdrffFq7914VVq2q6jW/+c3P+c53vpMZhUKhUCjmCO5/7QNQKBQKheLvGvryUygUCsXcQV9+CoVCoZg76MtPoVAoFHMHffkpFAqFYu7gz/riUwup+DzuHuftaj3M26Xiad5uLDmiT2ulhA9unDeHI2y7c1biLqZ74mGfQxxeEhfwo0y+s9MY25uMp3k7CIK87fmyT38Cket4MMnbpQznVnexrfaoL/o/iXBsRQfbqhSwz/E4En2enwzydrVaydvf/sbrefuN16+IPn/6J++g/94Q+7z2mpmFKyu4DhH9f1MoVfP22fFE9Pnf/pd/k7cPDnFNnUIxb3/+C58Sfb765U/n7V63l7fHdA2GE7TvPn0h+j96/BR9RuO8nZH+uNRYFn18D+Pbb+M4h70OjtlI+B7+0qyX8/bm2lLebi2tiT6rm7vn/m6hgTEMPDmnPA9z1zjUpvnaDw/MLBz2MD+mU4xbHOPeCUM5p6YxBitO0eYxEMdljHFdHA/fSlGcoL8jRzFJ8F1G+/HoevB27W1kdFGzFPdrkkqxOZ/rZCLn6H9CoYBnAR+XMcaMhqNzv+NnQbkUiD6VAu5lPms+/rde2T33WIwx5vHP/+Lcfdoyer+CZ11GO0ppPOwxbHc76JNibJplbKsW4PhdV17rMV1gh8a66GMM69Wq6NMd4TljEuzTNTi3ZkP26dHcLdD2Trr4++BUPkNbLdxXp8NO3i6VaX5m8hXVPsP1HdAzo0TjUS6XRZ8vf+MfmPOgKz+FQqFQzB305adQKBSKuYO+/BQKhUIxd5gZ8/OiU/G5EL6btwMXnHDgIwYRjyTX2t4HsT0Ygi8mGtu0TymWZ4yhMI7xUsTFPIPYUxzFRkDw5xz3wLvd8+V+Yp95Zfw9Il69m4CvHo/BLxtjTCHG0E0pNuES39zpyZjFo/tneftgD9z1Vgu/qZdGhvH2j97P2z06hDdfEvNzA/DfaYrzjAv4ey8KRZ/PfOkrebvk4xyCZiNvL622uItZXsZ3q5vYz8Ym4mcUzjA/ef8j0X/143t5u+BjPPcPjvL26ZmME1ze3cnbnWPEoftdjO1oNBV9el1sY0jxjI/vPMnbXvFE9HnDYAw+/uhjHCfFhDfXZTxydWUlby+trObtUpHiIzLcJFCg2FOanm+8FFpzP46jc79LMwy8Y0VBOQboUvzM9fF3jr0ZI2N2fGxpyjFIuR+OX3ne+f9nh6Gch7xfn+YEHzMfix3zmxU/8/zZYzui2JHroE+p9JKLRRhTHNZ1MQaeJx+vfKyDEe5zPp9Goy76NFst2jb+XuL90HZ9S9vgUawzDSlmV8d246mMI3O4l7dWCfAM5rlqjDHlMr4rVnHveDS/lqo10acQ4PleXULb9SgmbD3qazUcd6eP5zPPG47vvgy68lMoFArF3EFffgqFQqGYO8ykPbcuy8/TBqikpIQl5jTG+3M4EF3MkKjOQa98fnsgaYtogiVvmeg7ljd7nqQtHFrqTyagUViSnVh0UbWIU2eqIE2wn0IRUtyJ0xH9vTOcbKWG82ksLubt+qoc3p6L302mkP0HVVA6h90j0efjJ3s4Bw+UyJtmNir1a3l73AelEWXYf4vk+8YY87U19Akc0AYZSYiLFUknpBNQiP0+qMWzLuheh2mkckv0PzpCn5Mj0I7LK6ATb9y8KfosLWMbo143bzfqoGBbC5J+b7Uwd6dEe0ZT0F1+SfZ59fVX8/b77/wkbx9SusaThw+sY8NxLy6hvbuzm7evv75hZoFpumIRY82S+ziRcz9K8V2pQnQTbctOj5hQGgW3nQjb4utmjDEuHQMfJ6cZMX1njDEZ3dpRyKkOTFtafYi2jGkDYSbPIf+9lddSLGK+Ms3IY+AUZAhE0GR0DmEsn02zENHY+ER1hhZnV6L9Mj3LlG4YyfMsE4UYFEEtphPM3W4fc3qhJWnTCc3xoov+4yGlFsmsNkFRB4ZSJ+h8olCGFgoFmm9TonQp5adclM8Pr4jxGNDxxAme4UlsU/ZEoy618vZ4PKG2DFHNgq78FAqFQjF30JefQqFQKOYOM2nPWk0u2afkTjLok2PFGJvonEp1Y69Nm09AR1RLUMI1K3LNPfRAZfVHUPAlRNnVKg3RZ0rr9pA2F03JscKiZByiHWo1HJtPirdwjDHodaQKs0DqpjpRDV4B/WsWvXJ9F5To+iIogE9/BpTjYCj3Y0iteTIYmotgOAB10iUKcv8EFGoaym15EcYqTYjKIkrGVsyyqmvjynreTkKiQJ9DkfnweUf0Pzk8zNunx6A9m1Vc362NbdGnWsO4v32CuZJFuL5rW9KtpVwhpR9RNwEp1vxAnlurDmXazgbm66VVXOu3f/qB6HP1tTfy9piuo1O42P+YmWEKEXRPwcc5l4pyWyHRhjHTUkT5pZbXCCsfiy7aMd0TqaWiTGgbfCt5LA28YGXQlDbgWfQqs6AJ0Y4x0YHifFxJizlMyRK9mnEfy70mpbFmtSerTV+GISlWK/T8sEnTlFThrCTl44wt2rPXx1bKdF+Ou5j7Hikdnzx9Lvo3VlrY1hj35agL2pLnlzHG1OnZtFqDUnlEz8A0lBc7IAozo/uqTRL1qrWf1iIp5ol+9ws4z9FIvlPYHaxIND+HBoLCxa6brvwUCoVCMXfQl59CoVAo5g4z14fxRNKekx6W4+0elvbtIZITTw5FF8N51LUaLdkNqLDUEnEx5RaNsOSPyqQASiQ16LlYcgdEO8bEgdqMjENKUq+EdhRjP2NSNFXrOE9jjKnV8JmpFmEInMiTqxh8bi2j/0INl2F5cUH0+fav3cjb73xwbC6CChu7khHsH/3Bf8jbWSTVWg0y3Y1IGTshFZVv/a+0s7uVt99661/l7dd2QIH+7BTU9YeWUfHN67t5e+GLMM0+PgYlu3cg1a+vvnE9b/P1CTyMZ6UszdLDkNSnRJGXRRK2vBUOnkPV2SPnhedPKTE+kDTO5mUc24RUpdsbK/SrnpmFXg+0lGvYvBmzN4otaR4rQYm65qRfW7nJSsOI7rdZifXGWInxhmlCUoh6lvSS+/P+XTqfUJKDTDuWyxiDmKisiM4tTq3+dJwcwmCq1j7PcEaSemQl+s9CSGMYU2jCDrUU6Xg8Qa+S0YBlTG1oTOtExRdoHg/OMKcm1nN7mZ6HBQdjWCWT+6NDafBwfIztrVI4oBBgWyNHntuIn7U0bn2iPf2avMcOj8iYPsa93Gji2EoVqV5NDbY9IrV5Zvi6mQtBV34KhUKhmDvoy0+hUCgUcwd9+SkUCoVi7jAz5tdry3hVOEUcqX0EvveQwlBhIjP4ayRLZ9lwQNyxF8j3bzQlWTrFbiYReOhSRcZ06rUmjueok7enBZJ7W1YQtQbOJ6PAI8dd/AL6LC9hH8bIQqZTzq+g8xxOpeXNlFwZoiH6P7mPoq6vfU4Ws/36N27nbctUYSamETmFlHDcX/7KN/L2imVSvbYKx5eI5NbtNiTVZiIPwKdxax/idw8ojjMcY2zWF6SrzMExgsQPHj/L214JPP+9O9IM+8OP30X/U/TfXEVKRKEqY3EBOdNkUwQEaj7+Hlmxo8ePENsrOxREoN+NLQPtjz6C40s0Rex4SnGYV27IIqCMU4qPcooLh57CUAY0ihzfpCnOjhe2qTSHvBK6LxKO/yUythiQO0eZ9smG5LbDC2+Pv+O4uG3E7AYch0U7irhQMMcc5SNsVgHdhAbRTuPgMH2BilFfNNVhOsa1TslofIUcSIwxxqf4G7vHcOpJGMkxdEmt0Ou28QWlV2TkghJP5XiyS1afnkflEo4lKMtn40ITKVkNOmZDaROndL8bY0yPYnunR5jH13av5u2zttQsFAJKUaNLcmcfBZ9rzZZh1Om5Xali3J7vYZ+ZO/seY+jKT6FQKBRzB335KRQKhWLuMHNd/+yZpD2ffwyKZ5yASiuVQVEVXUknMGtQJVeWShlt26R6oQWpf/sMUtbOBPvcubUr+rx4Djl8cx2S9w0yrz49lvUJO2f4zCatrDSeDkEtDAayrlypTGNQxxiwxDwpSuoooVSHCW3u/jMs8xe2W6LPxiaMkBdXQMXJKmgSQ6LjvAJogs984XN5u1iUkmqfKCY2Ll7dRDqDZ2QflqmPQ9Aej9toO3WkPVSmRNsYY44Pcd1++fhh3r75OtIe2OT2L/vAwSKl75aXMKeCsqQ90gzHXSKqpEIU13QiKerwIVJEXIM2p9KYVBroHr0AfR1FuPa7lzfNRcCUG48t1+ybTuV4SGNo0FcTMvd1LdrT4UnObUGBWg4vDoUQfJzblM2bbdoztdIy/tP+OT3CqgHI+2WzdKZhuVZh9hKHl1kUqGfRmZyCwIbipZKkz2dhRKbM1RJSA4qWw1NMYQIOLQQUnokii5Ll+qRco5HmhEdjkFlm3KMu5kvRx7OR3avqVRnSaVVw3BVKMTkhF5bBRO7niNIjJiMc22iE/RwTHWqMMbdeJWcroo6zDq57tyPp1UmIe/HGTTxblui2yKiAwMugKz+FQqFQzB305adQKBSKucNM2vPw2DKcnoCO9MgdoFrFUppNnf/yM+2I6M2M6L9yVTqaBGVSjAZY8n72M1/I26uXdkWf+iZRmCMsmYfH+3n76GBP9BmPsXxukqNAswkKMyFK594DUFrGGPPzj6Hsc4sYg8Ya1FW7r0t3giL8kc30DBTCcRuUwbt3fyn6vBngEi1utPL2wfnlzf7ydysY03/3e9/L2/ceP8rbniuvLxsUM03GtdeCknS5MQWc6ybRs7/xm9/O23Uyn13Yx/Uwxpgr93bzdoccUdgQvDeVrjAZ0asB0T3/4JtfzNu/fE/W2dvfA73aaLVw+ORewTUZjTGm2cCcOHsBVWmbFJmZVYvu5MX9vL2xBfXpt775WRzLi4/NLCwvQWXX65GLUYZztthIMx2B75mMqW7hdLY0mKlBlxSvBaprx44uxhiTxjhXVrkKavMTBjHnm2Gzi4rFegolJocQmLZk55XkE6bd7PByvhK1XLboTDqGCSmyHcsAexZqNMdbNG+MRfuGREWzC1NIz6LQcrzxyRTdpe0VqL5hhe7LaCyv++AU99XKCqmtia3u9SW16FZwDPWFVt7+0S/u5e3jUCr7p0SDNmp4/jy6j1BNsynvsQIpfTM6oCopOm1Doz4VjR0QvcqOOdORVVh2BnTlp1AoFIq5g778FAqFQjF3mEl7hrGd5AqqIHNAtbgJaIZKRSYxjxJQVmFEBslELbDSyhhjjsj8uL64jG0T/Xf87JHow0bGP3z7x9h/BxRVIZAUBteFqxBtwfQIm6Wub0FZZIwxExf77HRI9UjGtidnkrLb3KD9bIDqaBdAOwwn0vh4qYMxvfYqEkYP3jMzsU918u4/Bu3w/ACqUjeSx1ZhBRybJbN6zJFzot4C3dI7hFqzaEA7fOrTb+K49mSSa5Hopxtkch1OsJ+SZaCbEEX01lufztuv3oSp9Du/8weiT7UL497Oc1ItU8W1kaVkzdgE2KfE5WWq3Vi0TB2qoFG3SeG50sI57L8wM1GrgzLzKGZQKfPfJUV1PMQc75FKbkwUW7ks6SamPacx5gGrfO0Eb0/UdSQ6kf59tpPcRR+hJiaK3fr3m0232YCa/56Q0YCt9uRagawcdURivLVPShhnY2zXvZirRIeocDclPrEi6dXFFoypeQwTCg/1LQUxH2tKSl9OTF9dxJx86st7dEqU5oNjNrDmcIa8CJe/8HreXiCVfkr3xHAk4y6nZC6SUrTHzVj1vCP6DAY4tskU9zWrm+NUXqwihdbaZ1SfsI/nZtOmtWdAV34KhUKhmDvoy0+hUCgUcwd9+SkUCoVi7jAz5pdmku+eTMFFlygGMSJp7TCUMZ36CmJ2pyeIhZUCxCDWm6uiT0rv43IF+5n24A6SWq4fd+9Byu7GJIWnGJVdWLJG0nY2uQgpTsCFQ+0YyI1tnFu6CV66F+I8Q1/y95MO4itcnLdW44KTkuMe9nHe5WtWocsZqC9hTH/tn/3LvN3vIhb4vd/9d6LPrau7eXswAP/e7yN+5/iS5//St97K2wFJvI8eIbAVhOjfKEoZ95UdjOGbr8PQu7kAqXS1IeNqz58jbrm6vEG/Q2z081/6vOjTvvejvJ2QMfR9KpS7+cqW6HP9FcRXmw3ENpsLiIGUrZhOg2J+hRLHwnHd3zezEZN8PSVHlRoZcxdimT4Tk5T9jKp4OuSIUrJiIB6lkqRdXOuMHF6GXeloxM4hAadE0LHFlhk2u7fUalX+IodvOQ1xqgPH7BLav4gtWsbYMTmncMpOQO45JrOO02Uz6/NTJV4Gn+7ZpSbmRxzK+79BBbB5P50O7pFqWbrCePRw8jhAGuH6rCziWfbpNy6J/kuLcG9pNtG+fw+6icxKF7l9A9soZphv/SHm18GBdGsqUPA3o7SYlXXc4wXrWoWUKlT0MYZlKmA7mUojd4di4ZxJwmlP1eBiazpd+SkUCoVi7qAvP4VCoVDMHWau611XLoVF6kOMdybTEREZABtjTJMcNJa3LuftxTW0axuSbgpHkKy2jyDTP7wPQ+NLV7ZFnxWqRdchs+SUZMdlX1I/Di2zhxOifkjyHhIN5BhJR9TI0DsmqrVWhktH4kpKZ2/vMT5UW3mzTtRPMZWXZHSCYzgVxrDSjJbB9QVv3n4F2+rj2P783/+u6MPuHkvLGCuubxhOJe3pVyDdbq6sYFsJzuEf/eav5+1KXdZhHJILCSuaY6KlJrGk37cvg255+ujg3N997R9+TfR5soBzcKkm4cIB5s0XfuPTos/OLijViJx+iiWMk13zzqH5ljqUSuK8zIacUGaTaPTxp7jHyokcjzSj2olEK53Q3F0g029jjHFLuA5pH8eZEHVkU35Bcn76y9IK5lR/IGk+ni/L5BTS7eAaFi3T7e6AHDz6oHQzGutqFfMusYycpzEZOZNblEOhkqJbE32cIsaD05vSTFJus7C9iTSoFaLFC568R2NKL2o0QO2nMbvayOcu1woskxvPzuXdvH3zGtJqXrspn407uzi2eg3nfXZ2C8dZkNea6dr+Ka5Ph1Np+vJZv76ylrcX6hiDRp3cr2ryGVwip7C1AH36FEprp3I/nMriUFpKo4X+bnaxFBVd+SkUCoVi7qAvP4VCoVDMHV4iZ5LvRdcnlQ370nItLEf26Xc7efuf/g//Y95ev/5G3n706Ii7mPYeVEjdF3fz9mCIJXecSqpjNCEV0hEolSVyIEksFeUamT+HRJWe9shhZglKpd0br4r+21dwDgOiako+luUf/PRHos+9j7CEL5MrTUq0y9SX6sYTMupOPdDApnTFzML/9X/+dt5ubcP5JEtAIw36HdFn/wAKzeUljM1kMnvc730IV5elU/yu/QKq398r/hk6WFT6iGhPl5wbHj99lrfv3nss+pyewsScDcn/xb/8rbx9+7Vrok9pDOVmkajJm97tvO1Jf3Uzpvp+LlNh1E4iSXuyQ0pKlEx8wf8xm+QAEhaJYj4DDXVCLj3GGFNycQvfvEpKP3L5iSbSzceQc0qV3V6I2a/ULPeaCn7XJeX3yjqo4/RY1muLyLB9TA4eTNVmlgG3T6bV4ZBqKlIIobSIYxtHkooP6P7h6RZOQB/2E0vJ6hFFTOpI15fzdRaWF9CHDeLrVWkEH5O6cUyOJDUKH3iuDK906ViLBfS/fR2hoxtXQG36vnzOFah+ZSFA/1L1/BqGxhgzHeN3J0eYO6x0frMlVfp1D9vga1AkZ61KVZ5by2/Q78jRaEDz1apvyGEprj/pkDq6XNR6fgqFQqFQnAt9+SkUCoVi7jBb7ekE1h+w3MxIVVYg2iVLpDoqolps7/303by9eBl00yuffoO7mKMGFEGn9+De7FHi86Xrt0SfvT4pTj30H5AqdTIcij4uJSEvLoG66Y5BF1XIaHjbUpjefAPnYBKM1dkzULUfTWXS/5IPCsMhRdWkC/pskEnaIitjfH2XqFozG7/+LdQ+TAo4h04bx7P6m1IRyRTRlAx0N7dBbySppIFKTHWkGOudbSh43/vwo7x99x7Gxhhj+mQCvn0FlJ1H6rMNSw385a+gbt/2JRzb7lWoMzPJrpiQzLFP2FmazNLXmsvcxXhc546olgIZuY86Ut0YEZ1XJmruJaUXBVxS6TI1GZHSMbJqZh6dgubnZG3OJE97cu5nGejEEtGzpRboouUlqVRcq4Oa22tjn3tEw/aHcjx8Sjae0Hz3Czi2Qigp2RIZU5Spll3i8rZAlU6mkhZj0+yUxjMh5aZN862s4FwX6LxTi+afhYCuCVOdvuXaXScVZL+PZ0FEJuTGl/usV3H/lon2bNQQKil4OM9iUSoqI5q7EcWrHHpOisKrxpiggvtiNAX9v74OenU4lLO6QVTjlFS+XDe0UpFzt17CfmJStTZLOB53qSX6+HSsIRlWxHR9+wNJa8+CrvwUCoVCMXfQl59CoVAo5g768lMoFArF3GFmzK9omeGOyWA0IUfREhnbepajSTwAN/+7v/2H6FOGI8FX/tE/FH0WdyDhT8jtpFkFX76ye130qfiIhU0Njjukwqe9niwCevICjjGdIfjmjQ1IiDcvI47UqMl41/On7+bt9TWkQTRaGI9KSfZpUfyOXR0o68E0LMeLyhLOp0qXZPQSFfY/+6dwVbl8FTJ/lptnlnsFx/mGZGwdkpR8ajm8xOT6E9HvuD0aIZ4xHn5V9qd5VFvE9a2TOXCrLgskl8iJJkkp8ukQ/9+X13owwfG0ybC5schuHNatkFGMO8Q1OTxAqsX+k0PZhQqMXqvtYp8XjEEMzyB/P+mg7VDsurgoY3HP7z/N2y7dzmVKTbLqm5qMXG5Cgy+3XsF9+dZnZWpP5xCxvaUKjmEwoeLPYxnzW6bCv2Pa55hjkJHsU6LUqVWKxXVG6M8ZVVkqTy4NcV95dG7GZYcYKYVvNOgzF6PNLhbzcyg+O6FnjmvFFiNKQ/ApvcJQbLPbk3PlyX3MsSvbcNOJIhSGjcnVpuJKF6XIUBoVjc1ggHuiar0GEjpvvkdfuY3n7t2PHog+i2T+3uvi+kYR2mkq01ocCs67tJ9GGdsqF+X5jEaIERfouJ2AzjO6mKOSrvwUCoVCMXfQl59CoVAo5g4zac8okUv+FhmUBmQsWyID3H5P0mIPSYbdbKL/g5/9cd7e2ZLv3xvf+Ad5u0D7HD+H68fx3Q9Fn2BlN2+/dhM0n0fm0eNQ8oSHe5C8tw/38nZKNExQB8/4wV04zxhjDK3MzdIy5PiTkBxRSnLJXiEaNcxo+U5S/KBoURBEjx7ukevIhpmJfpfk7wmuSZnrXPmS+ilV8Lm12MJ+HDb6lWMojJ3ZcJYk3iGlvwSeTOM4bcMRZEguJFwXzknlnArJ8YGPRrirWNO6T+bNDjloFKkupWs5ayQp6DeXZOH9PmjPJ0+lO9Gtt0DZO5QC1CU3j5ehS7Rnv4trvU3pHpd3Los+T4+JHqU0mQJR0idPXog+7FmdEmX3fH8/b+/2N7mLmcag8x4+vpe3R/u4HkVXPjO8KY5hjZ4ZvRhju7ApnUKImTNZkegvMoL+8CM4C42tNA6PNlAunJ+elVl19gbkRMUhHY+pcJlxI3BwAmoyo/SIRk0aaG8vYr4FJVwrTmXpTSSN+5DckhYWMR77R6D2l5aoVuJQUovsbBWRew4Xw5sMZbrJqAfa0CX6/9IiOdFcXxF9rl9HKtjhfidv7+2f5O0O1QY1xhjfofcIp17QvWPXYZ1QegM7jbn0nPE9GX6bBV35KRQKhWLuoC8/hUKhUMwdZju8WCXny0VyB6AaSx6tpBNLeXX/oJO3l8lFxX8AGub9739f9KmvwUVg5xqcXL7/wx9jW41fij6lddBnrcuv5e3VJXAVVTJrNsaY5gqOJxqTwpRMe+/fB71z8lDSnl/+0mfy9uIa+h+RoskpS7VXFrbytkc0XUKOFeOppCB6x6A3pn1Qc82X0J5jMgQekqHveAyKqNqsiz585ZjqZBWkZ80Jl1Rq/E1K88CnOnBuJvs7VLdvQDXeygHoHa9oOd6Qg4dxyF2IqGPjSarEI7onJucTQ4rIzFIqT4nCS0guOSzh786apI6Xr4IKapO6cZTKc5iFgJRtlSL2ee0K5tdv/ZP/XvQZkBL1Jz/5Wd5eI+p6eV0qZhNS4O7v4d5pUw3Cr3zjy6JPOsD1Scnw+UkEqnSpKanj+gLOe3MTtFgYsdJRjs3iEsbw8nW4KP3sXdyLf/7nP0EHy7S7QtTvRp1U4HQNK2SIbowxaytw9/nol/fRh1TC5jWpfmWkRLmVSCXvWDR/QErllOpPcjjBC+ScqpOZdKWGe/bRU1Ct18jdKAwltTgY4TOHVCoVVvPL++X0BH3CGOewvopxeuX1HdGnTDRuRqEalxxZnh8+E32GlEHglXDeMf09spSb05jvS9yzAwoZFPyZrzUBXfkpFAqFYu6gLz+FQqFQzB1mrg8tf2XjFYgiIuooNliiOmVJezDLdUYmwP4Yy9Wf/+g+dzGLG+/k7ZtvwMR4SrWfHj0/EX1eW4My7eAI322+idMrtSy3Y1Ixjc5wDpMpqMFrW6BNlptfEt1bK1fpE1RLjTqogWhkBE4eY9uOi2V+SgpGx6IG/YTqiwXSeGAWfvY+DKQ7MaiWvRegqLY2JQ1848Zu3l5bAfWUxqB+eicyeXxKJ+gQHVkjM94qUTU8h4wxpkg038P7MB1YWwVFtntTGk5HpP50HFzDhNTJqVW70SNaiY2PgzKugefKWyFlVRlRZvUl9PnU6iuizygmxWuA8x5NpCJxFqqU3B+TUnJKCd5NMkc2xpjLl0A//dH/i9qJW5fWsK1AhiM2roAma22h/w8++Hne/rf/978Xfa6uYL+XthBOKBVwnq1FOXc3LoG+7vdw/7eKmNNVSxEZBPj84R2Yov/O//MHeTscg5arufJab9Sx7VWi9qZFMoVelnO/WqI6imPMr5NjOd9noULhjRol0Fcqsp4f14LMaL4VyWD92UePRZ8iUaURza+DPaiOT447eTuwEutPuwl9RyYIZVJ0WmP4jOqbXrqMxPZFooeX1uQ87JxClTqi+dpjhacd9iBV5pieMzGZZHi+DEf0yUjBK+E50xvhfGpVeS/LAA+gKz+FQqFQzB305adQKBSKuYO+/BQKhUIxd5gZ80ss42Sf3DBS5m4p1uJFMrawQCGecgW8cquKL9ptaeT6zneR+lAJwPe++QXIve+8947ok5Cp6dZV/C6egrMf7h2IPtEUsUGPJPfjE5J0h+CelxdlnKAzfJK3p4+wn3EHEuTUMvbwQhynQzx/gcysrfqXJpogruZ7F/tf5Xs/RBHgX+4h3tTu4DgvX5IODQcUk62VHuOYyUV4aJmDT0Y4wTLFOm6+ciNvX7pM5rUF6dYyoDhQuQo5/s8/hCT6wZ50UXnzU9fy9mILbD4XVY6syZtEFJemuItLRXPTWM7djAybDaUdBBS35BiMMcYEZcSbjk4wr3/w54ilvfb6m2YWruzu5u3xIq57tUROR2MZSN7YRBzmMhVcXttBXG9iGQpfuYZ75MkHJD8nt5cH9x+LPqfPMA+q5NZUW8D+e1aqUzfG/Gg0cK0cUvNzsVNjjDk7RizrP/4hngV7L/B3Li68bDkibVAKj0/XdxhgDrzod0SfgIzDM3IaCSoyHjkLO5egOeB91usy2hRRsV82Icmoz9hyQWHnoSOK7dXJNP/BQ8Tyl1dkWsujfdz/xSK21aBr6FkpGcdUaPd6A8/9QhXPr7OufG6zmfWTZ3DMOuvg72Ei7/8iFa1lpyF2jipYOoEepRBlIY6bY35nXXmPLF8z50JXfgqFQqGYO+jLT6FQKBRzh5m0Z721KD7HA8qmpzp9ToKlfGyZYVdqkMPyMnkSwZWB3TeMMeaYJLx77/8gb3/zN+D2kg6lnHcQd/L2dUppOHwAA+xyfMpdTGJwDEMyg2Vv3pCW3/tHkOIbY8xwiv309nFu/VPQdO3DM9GHHTwmIUuNyYzXqivnkfuCSxSA9LWw4GN8YhftLnV61pWU3eAhKKpwQrLlHmgYy4zD1KvY9vIGrvXJvU7eXumhUzKQFOb4BOPz4ftw0PnoIajjdUtSvb0DI+RGDRRVkVJHHKsM24ToppSoFzZeiSzKjmvjnZ2AusnIPaK+KCmmJ887efv3/v138/bxycWMrb/8hS/kbZ/2ExH9fvehrKP2wftwOyJVvOlRTcPYlxdu7wjXtzvA7xpEXW9tSQePJtW8Y/n5lAzjQ8tt5egF7qv2PsZgYxsHWmxKB4+f/vnHefvRx5gvJTJBrtAtcqkl3VpqVBzTW8bciVYwVyKLauVwxOZ1pHG0RtIAexYcCg2EdK2SRO6nUGb6GtvOiPKzaeCU6guKb4jmf0p1JT++84R/ZR4f4ZpwqkNrAZRstSqfp80FjMdf/BiuQVxns1qTdGRM59PpECVK6UhxIudhj+4Ln0zIPQrvTHuSBk6J8k7I1cnxcX09y6R+FnTlp1AoFIq5g778FAqFQjF3mEl7djrSlSIjV4WMHDN8MhFuLlruEwmWn+Ej0IZ+AX1WtqULwuQQKswXL9Cns0fGp5bq0NRBNTx/D8v0o2PQO62W3I+b4tgCogb3j6GcKpFR79AynN57Suqmu+gThqSustRiTJkVSGHlkQJxau2HiQKmv14GJwPvVyAlWaWO43E8SXXUGy3sJwAV1azh7+OBnBNTcmU4bENh1XMwbtMirtvoUNJ/2Rnm1MMnUOMeUY229e010ccjM2rXJbqI3TMiyXt2zjp5u0SqY4+olsFYjvuwT/XBKlD6OuRO8t5H0qj3F78EBRlSXbeVNUmPzsKrr8CUPWb1KU2CZ0/lPh89wD1yaQMKz1O6R9pDSR0dPQdNNjnDddvawFj/+q9/Q/S5vAs6sFgExbRHbkv2/Lx5HbUHB1TTkKak+b0/+APuYt4nA+uYbKZq9H/6jSVyGmlK1yOHanBe+9Kn8rZLjkbdWKoBPSYU6dk2nZJK9lCGZxjPDzAGVXJ1GYcy1NJo4RhOyS2pfQr6f3mxKfrExM0XA1C86+v4XToFzdjpWm5CpF5dXqV7ycE5j6ZSDRye4fPeAY6Tld+VinReCYhqZBp4yqbyqWWMT+GZgJSoMfXJjKRKx2TUn3rnv744vPQy6MpPoVAoFHMHffkpFAqFYu4wk/b0MrmsdcQSE8vS4QB00aQvlVvFApbcV7ZB/fSoxtQy1e8zxpixB9pg7xAGzX/yp1C5jSZyKbxFCevHVCuw3e3k7XJLGiT3T7Gcv7QOOqBDtfCu3IbCdGVBHqcTYT/3f/Ewb3dJnXR5SSa5JpRMHxEtxsayiZWgnZEK0ZGXZCYOnkLxtXQF5sslSpZea0iV3BIlck9iXMfpENe6WJD/K/VJzZZRHz9Be9QDJXN8KumV+gTbDoiCzEjxxqo4Y4yhYTMu1fPzqB5fapktOHSctSrooowcBUJLmVcnc+92D9+988Nf5O3hWM53h1SQNRpfz73ghTO4X1yXEvOJRmo2pAr7a1/5St7+OlHpB0T5/+idn4k+P3nn3bw9ofl+/fIl2q6s57dCydMeZWjvbrPKT4YjLm8j+dsl1fJHH8Cw+uO3H4s+0yFR2aT626Ik+RuLGIOsbBlbfw7zffdzb+Tt9gD3pTeyajc6OO6Q6scV6WfySksMQkzKcQzasVyRtfl6U9CgB89A8y81EY64cXVL9NkjSjU1oAmndL/tbFE9P8usYdLB7xq0nx4l+jvWEqjVwj0y6OGebYgwjhyRowNSttN91VjAthwjx71MRv31Oql0qX9qqbAfPUUC/XBEdWVpTlo+3TOhKz+FQqFQzB305adQKBSKuYO+/BQKhUIxd5gZ8yuX5FeOR6bM/HeSI6cTyQP79MsKFYxsLSL2VCxZqQ5UOPTJCfj/3hQxECsbwNw7Qhzm5jXw3+4UXHzcl24rvV4nb98hI9SYYo7HZ4jlXbshufhHTxGPPCJzbnbZiEIpqY4pFuayZJ8kv0IHbowJSfbrOxcjs0cDmHNH1KVFcc+KtamKj/+DCqQU7j7HuYWplJX3M0jbgyo494UCuYFQnCLNpPOCSwG8wSliICHFoZKxjJs6IeaHm2E/GcWk00TK0qMhjnM8QNsvYk7WF1ZFn+fPEQf63d+HW8vBfidv71yWLiiJQ3E6ir917NScC4Gdj9FsWc5LXNyWYzeXd3Bs66vy3GIq2NrrIQXhK1+Fw8zKojQ+L/p8HXFAbN5c9OX8MCRt399DesW//l//bd6++750JKmQNL9axjW9QSkvC2Syv3Ab6RTGGPPVf/FbedtdQ7xp2KFUi1Smwuz3EEfqkanzhBxrnjx6bGZhQM+Z/T1sq16vnvdzY4wxJRorn9qjgUxL8SiVLKI4X0aP7jqZeS+vyvlxNGRDf1z3GrkjRVYWR7mC4/YNxS0ptulbxZ+dDJ/Z6YuL2Q5GUs9Qr+JZG03IKYyeeY2mvP9XlxF77lL6XEjPhRUr5W4WdOWnUCgUirmDvvwUCoVCMXeYSXuaVK6FswhLZoey+acT/H00lDSfS8tfh7gbh2XtkXSFqFSwHK8st/L2w31IfjOLfiuFWDKffgS3lXUP5/DpBdmnEZI5b4Blcofo1ZMXMFv+xV0Y7hpjzIj2ORzhPDc3QBk4jqQ9uDRVSu7LETmlWGUUTUp/ybLUXAQrl0ANHByAuk2jp/h7KLeVJSh6desmJOrN13EOT/cl39w9BA2TUE00z8FYF3yiQC3nBSekWoFd0NIujUcaSscKV1C/1KZ/4wYTWWvsyR7SUm4ukzOGwbl9+KGk395+54O8/eIF5lRAlO7RkawRWSIq6fgY81XcF2+YC0Gcp2hafDW56WR8j9FPtre2DeO3/vFv5m2uD3jrlZt5O7DqqDlUw5MF65mhep5WXbghUV6/9zv/IW//2Xf/gjYg+zRov9e3QL0uLeBa1ZutvP3Ff/Qt0f8apSeN6dh8orUDK3ywNsJ8n4Y8p9H/yU/+dzMLx+RUxHXlYkc+XhdboNlTmrBjSplxmvIeqVSo5h1FldIMz6mP79zJ21ubOBdjjCkWqeZdF6kWrQUcSxLLZzA7OTnk0hXzcVpvjipRpUVKW3hIaVdJKs/Nq2MjSYTnaYGcsF48fSH6rK3jOi5QOtGEXGomI0kdz4Ku/BQKhUIxd9CXn0KhUCjmDjNpz/bJifg8PgP145fJZJocBZLQkg1RvSU2cnbpd8OhpLWaVGfq9lXQHp0zojbbcj9DUgeFIzaWBm3xmc9L6qdBxs4/OcVy/OPHcMY4pLpUqVUkjlgH41KdqoBcPrKCNI/m8YhoDFJSn00tc+ACuVwE3sXUnl/8xq/l7R+9B+r28V0oVJO+pKgfPQKte/8ulHWvvQLHjMNjSXueHGMbK+u4VkkCGrlCqtZqXVLPzhRj5dO5XVps5e0rO5LGYZXu3buYE2+8eTtvl1vSWePWF1/H9m6Bdzw6xVh/+P5j0afbBnXSbOB8Tk+x/8mZVBBfvn41bzfIKDyObTL7AnAu2IcoPKZE2Xzesziq69dBcUcx6KIgIAWyZfshts01Jum+cI28R374gx/m7d//XdCe05D2WZKuH5dWMNbXSblYq2Lu3Pz6W3n7ylswAzfGGI8eaTVDZsvu+TSyMcYsVMl4vMo/u9j9ViSl9PoKjrlSlUr2WhOfHXJyYuVkqSLVjcUKniGDF6hvmNB9VaxQnVCrluUumYvfvQvTcH/MdfZkp3YHz/4CqW89MtkOi3JOpWQ/xUbZ5Sro1YFVHnFAlPsKFR4IyPnlxZ58D/VJuR2UyBWG6PJOp2MuAl35KRQKhWLuoC8/hUKhUMwdZtKexxal4xNVUSlhKV4jNVLBYglCykavkMk1UzKOIxVA8QT7IcbPXN1GLaw0kcd20sd6OolxSj0yFD6OZW29YAX8xr1HUCQ9PkMybpxiib3YlP1vryOJeHSMY15tYDxaRTkgPTq3XhfHPCaFaWwZW69vwlD7yTGouK1dMxPXrn0mb3cGUDdO+xiPyo40JOgNO3n77kPUjLt3H2PT6UuKukM18Hyqx7W8hmT6tR0c6KVd0I/GGHOphAt86TJMBHavgOpctIzPD49wfV5/A8o+9o52Akk3v/qlz+ftDz5GYuw9qhc57Uvqp0L0EyvrhkSrN1rWnCLqhWvbsRLu4mA17mz6LZtpfHC+EtYYY1wyrWeq0xFU5+x9im9Igdxpy/p1P/jeD/L20T7CJuUyrk+jIa/V9R2o+ZolHNv2LVC1b3wTyfjFhrwGDkUNXFKS8jilFqXsX5DenIVNompZIVquyGfbhGroBUQbhkM8F17st0WfrQ2MB3uvd0lVGsY4/mcv5LOxuYHnZqmBZ8GEtlWtyjE0ZF6R0k4LJTzDS5Zp92SM+yIiGrVI254YaWwf0HtkQEnuozOEmxLrFXXaxn6ay7hHB0M8i846qvZUKBQKheJc6MtPoVAoFHMHffkpFAqFYu4wM+Z31pey9kZADg/shEpOJ4Ev+XuufSrlp+CoC2VpQlolXrlHrh81Mrm9tiv7lI7BUQ9IPk81Uc3v/PQD7mJ8OriPT4k/p3gIG0nHqYwL1FuQR2djcpIoUDzBk9reyQRcdEia5BEZDTuWOfD9J5D6HlJhya3Pm5noULyWjYc3diF7TmIZG2gUkN6QTBFfGVOcb8eVrjDjKbj5LhkC9yl9ZdKHofCL+++L/lNy0N6lY1vbRNrE5SvSuPgGxX6WljAPfB/X5/m+lEe/8yNc+0FCZsuUPjM+PhJ9koRSHcgNo16HJNu3XFCGQ2wvpFSWouVsczHMcLJ5ya9mf2G7wlCTDIlnpU3YyGZ8evr4qfhmRHOiXsUY8KjdviSLTC8uYr6Wm0gbeJWK9i5uouiu7RDDhuJ8oBzOdK04qfMJX6W/Hrjgakox0MFAxsiTgNIBBpD5L5QpJcKqxHpITkEDci4ZURx6yuliU5kGFh3gORNQLNwnA/2TQxmrLRXJ9JrmMcfVJzJ8JwptT0kL0Odnm5X6VShwmgule5QwBgMrFW5MO66GlIZB83VtWZqyz4Ku/BQKhUIxd9CXn0KhUCjmDjNpz71j6QDSL2D5urlMjibl2fRMRlxDsQLqaDwFzXjWl7LUiGgDh5wPuuS24hbl8vnyVitvJwlRC2MskaeJlPbHDqS6i0SfFYjaa5C7QmS5ZLx358O8vbMMZw+H+nTH0q1lQnW/2CVjSubexyeWKfMz0IYJ1az7ppmN0QgUXq0KefPNW6A2N9dviT7dAcaqfQqq4cUetlWwHGZ4rKZkjjuiuo5XroG2PDqA24wxxvzs+2/n7d3tr+ftr3z9a3l7Y0PWJysQXeMR1ZmSi0q3J6916uP6lqroX+6QjNtKWxiRk4RDNFm1jt8dHVkuSBPM90YD9F3FkoVfDH+L/5d+gvVk3lM6rFwIlKrkEhdW8CUNXCOT+u01SO6Xqc7d1rJ0QQkq+Hzr80jZuXQbTkMumXl/4twukLXwiZ84f7OxzmiLTHc71sEUyqB+S+RiwgYrUSop2JgKDCTkoBOSi0qzhjlZqcq0Gk6dyugeyTIyJLfm2pjqGDouvmtTXcriVIZn2OmHwwEFonoTq44i10vkEFOR5o3Xl6GWiFKNemc4Nh7qVat+5Szoyk+hUCgUcwd9+SkUCoVi7jCT9jzpSLXn0EDJtlgDNZEG2MRgKNWNvGDNiDaMSHGXWQpCj7bnO6AQHQ/LfK4tZowxtQB0QhrR0tojKs56z7N6dHkB5+ORC0GdjJiDOuhDY4wZD0EvVDxSi4agwiYTSXs6pNCqValOVobjzzxJQ5VI/TqJLva/ypQUXzWXaOUprs9uQzqnXPo0DIL7ZBR+7/le3u6N5PUddECDnHWgHt0/wN+HRANVl0G7GmNMb4rxqbVAE94khWcUS1qc68ftP8M+O2RE/fj+oezjYdvH+3B1CVzQQHFBjq3L6uYimQCn51O9xhjj+5hHfVI6BsF/BrX4Kw1ShRJturUtTcjZlHyzBuq3Ts4to4Gk+VcuQcn5xudgYF2mZ05C18Bz/zN4z79lcG0+n5S9QUE+XotESVbIlPmM6PPGolS/RlTnbpTgmby1gXuJVZzh0FLplzDuPtXJ43qT9pixkwszwlxb1PXl/cIKT59cgyrk5nN61hF9HFLQjyJc05rBM6NUkWNYqSAMEvaIBqbnzKjXMxeBrvwUCoVCMXfQl59CoVAo5g6z6/lNpTJnEIHa6xK96aegPcpFqfZySY3HSp/xiGqAWSXv2BjWEAXqEZ3gW1Tp6iooyX4PKtUC0QEVi4JkhVaZaK0oxP8DKSXQJlOZ1VnwQQGMQlA30xDjFFjjwconj1y7K1VQEytWPa6E1F8vDiVFNAtFUszFEeiI3hmojrfffk/0efgMdQx3roN6unkVhtMFuz4h0X5cF+5wH3TkaIRrFblShdly/0ne/vQrN/J2lmBbUST7nFACf6eDa801wN5661XR5/vf/7O8PSQ60iP1rOfKW4FNhI+PYTa8vQ26aWlxibuYQR/HOqX50ulcjIb5+wJWMfI9srAolbmXd1FDc1jEfC/TfX1smZDf+tSb2N4qKMBUKFSZdv27pzltnJ5gThbLmIe1uky2PjzAPcaJ5L02wgSOtR4p0rNpaRnj0aU55VJIKbH6RzErc+mZR8btrkUdZwU24Ka6gWTWPrWehzUyzU4SUJAFCuOsrsj7pd/FNkhALO7l5oJUA09HbKaPucNGA6wifRl05adQKBSKuYO+/BQKhUIxd9CXn0KhUCjmDjNjfpNMyrPbfZK/v+jk7XgN7hlbZemSsbiIz8zNF6l44ySSRqzjkMhfivckZIcbx5JvPqNitqTSN0EJfHFJht9MRPGqIXHEBYpHpMRXh4kMxrFDw5jcY1yKIyUyNGkMfVepYdwiYYgs+WqXYh3NqnRVmAWfZNRZxmkY2PbGssW/U9rBz9/9KG/fJAlzyUoHmPYRq1heQgzh1jok7s0m9hP5cgz/8VchZacQqnEpzjmJZDyi0cC4ra8h/laka/2nf/J90efkGIVUK5Ti0u9h3JuNlujjOTjuZ2Tu3aM+RSum6/kYa5+k4HEs5/hFwAWff6VBMb9CUTrZbFLawk8fPMzbp6cYw0JNphAtbWzgg3d+igiH+X4VxqnbQ5qN00ccOo7kA2A4xndtejjEpHPodWVqz/oW4oYFSiHYe4Z0Hi6GvbYp3U3cGGPNht4LCxj3Z3t2ahCOp9kkp6Iq7rGTUxnHXlnD/VIqIqWjT2kHqysLok91vZW3j0/wLAkjXNN0KLUa0xE+F6kocYMM/OPMEk7MgK78FAqFQjF30JefQqFQKOYOM2nPscXUkCrVPDnFB9dgWVtw5DK/UiFja5I6c5qAb8nnx5SSMBpjyR4RTeBbBsu9M8jXY5L2ei5ohmJRUoajCdETKeiqJXIQSFhyb0l7zRTUYkJG3SnJfMsVaTJLq3QzJqrTI/NY3zIHTsj0ukaU30tBxrJBinaZTLcPD/ZFl83dm3nbJUcUdi0xRk6Ke/fu5+3vf/dx3l5ttfL2ziWYfm9TCoUxxmxugR5dXQW94xRwrcqWUW9A4xsTdd3pQEb+4OEd0SeKQFt6NPeYtuz1JN00nrCbDTkNUZtNnY0xZmEB45YSdRtO//rU3K+ChP8ieNlxrl+CU88bX/5y3uZ0k25P1msr8xyn+8Kl/9M57eFXYZTCmM34ca33D6XxeZHSOpgK93yaR9Z47h+g1t6QwjvhEP1PKO1hYjF+LTK9LpPBukem/2cW1RpRGKdH+6zTtWFHJWOMGY5wPBsbSMnwKFzlO/LZ1qbj3tsH9crHyWlgxhgzGeG415fxnBiSe9Uo0lQHhUKhUCjOhb78FAqFQjF3mEl7vvaqrPfW6XTydpEcVloBlvmVJblEzcqgzKpULy0g1aNvKcRY4XVGzgfkW2oWWpL+c5PznQcmVPK+VJa0Z4Nst0djLOEbZLBsqLZgOJVOI7ycL5FbS51ohmpVuhMUiM4bk7qS6x4ai0oL6XcxKevOzGw0FqCqev7xk7x9eozafEkit+CQ1c7ONVCgqYvr45bldCktgCJ2TkGj7p2A7jk87OTtjx+AJjXGGJ9Md7/w1a/k7Ws34fYy6bZFn19++D6OLcXYhER17O89FX0Cn8yoyYGH3Xzap2PRZ0j0Skw00LSKiVipyDnFJtyVCmhx1/nr057sWPErDTo1mwINKrhPF7d38/a1xVbeTi11c4nciVKuRUchlfRXguwEIlKClwMyki7I4+TwBrtPxVznzhrDThcU8YSozio5ErkunkUTS2HaJTP6mJ4zDqnVPevZmBATzdGewQt6ZliXgO+/yRhm+I0q7gPPmtN7hwhVjEKqL1hAn/GxpMWHQwqzFTJq0zvFn/laE9CVn0KhUCjmDvryUygUCsXcwfnOd77zXz9LVKFQKBSKv0Poyk+hUCgUcwd9+SkUCoVi7qAvP4VCoVDMHfTlp1AoFIq5g778FAqFQjF30JefQqFQKOYOM1Phpw9+IT5vb8Jg+Ne+/bm8/cGHj/L2n3zvQ9FnOIR59PYyGayW4UgwiqRzypRcTC4X4GiwUIHzSj+VjgQTB24J5RrcAeolbCuJpbtASE4f7P7iUh02Q64Sni/rSpXJ6aO5DHeC1iKcDqoV63+LFMPdOcbveqdUv24q6+wN+3RuTZg/v9ee/X9LPVg/9xwM1blKrPqEIRmHt8lseO8QxrpHe49Fn87p4bm/63J9RXbpsI6zSjX06gs4b3ZUmfSkOTAbYLAB7pXdnbx9c2dL7qdERtl0rRtNOJD84Ifvij5v/+Q9HHdEZrpUt+x/+p//leizuIK5F00whgVyE3p0PDuz6Hs/u4t9Up06Nsm23U1EOTvn/L9nlrOGQz/0yVGJ264r5xc7znhkLO8XuM/FnFcymgmpVY+PPye0Tx4PdpLxrX365LY0y3O7UJAGywG5rXhcn5CeBbvrshYd46Mf/1ne5jHwrHqEDhlYj8nZhuv5lUry2VYgQ342guLz5tIAfiavtUfnkLJpPhUAqNekY1ZMrlL9CRxmHD5OX86PEpnmJ2Q+79BYp6583YRUh9AkdLHoOCMj3w9cHYDLZI7HOLbuQLrCvPX5r5vzoCs/hUKhUMwd9OWnUCgUirnDTNrzzp0H4vM+eQXv7oBuuvP+w7z9H//gbdFnfRMmtTVDJsgN0EPTsTQULpTI1NTHutZNsZRNvJrow8vpEfkgc52tJJa0ZUZU1ICpE2JhfDJLTYys55dQrUBi7MzCEvbTbIkuplYF7ZGE2FHgYwzSSFIyYQi62Ys+Q9+smFkYDjFW0xDH2T4FhXhyIunE/SMMXGhwnEEVlMgv3/9Y9ImJ2jMeaI9KrZm3a3WmuyWlU2+CSmqtrObtZ0+f5e3FnU3RZ2UVtcKYFnvl1vW8/bnXb4s+TNMdkZku02+f/qI0WN/cgbl32IPBepQRJRTJ/x0bZFyeEifjijqXs2uNMR3H9d6YRsosmpBN0ZmqZBNluw+zgQWHrnXAtQpn057cZgrS2o34jrfHdKQwdTbGxBSOYFN3vlZ8bqlFe6bi4/lUaZbKA42ohijvn82SX0Z7RkzDkml/ZIUWCjQPmcrmY/ukoTmbNxM9S5cnGmFOhbGkCctksB4TfV+gUNFkJOckjw/XrBRlB63rllLdUcfn86H6m9YEYYqa65jGNB7jqawhmnHoJqZxJzPrhYWL1T3VlZ9CoVAo5g768lMoFArF3GEm7fnstC8+ewk+H3ZRFy4gKq+1JOvXXb4J1d3OVdB0xQxL2d6ZrCs3JQrCaxBl1mrl7WgqqYGyxwogfDccz6aLWDkVBFhyZ9TfJWogjCS9Mg7xuzjGxsZDjEevIyndWgOfq1X0KVG7tiCX+c0yqIoiMS8/k2JcgcePoMB9vvc8b5+dMO15LPp4Aa7d0iau25VrV/P24Ys90SeZ4Hy4LmOxAqq2VsPfs1RSxwGpNTc217AtokB6VNPRGGMeP0LdwCbVLaw1wD2HqfU/HSlZTQH7rFZxnDeXpEL00mWij6gm2jSjcwikmi/OQDE5RIuXqkxl3zGzUC6jfxgyTY+5F8aSbpql6pRKSbkfLi+YzlAA2zXRZtVISxLe+GwlK9N0xjmf/jPGmCQitWckzzWHy+pXiZjpWTo3l274xKp5x8+GhOjmi9ZUHBPlx7U9U2OfG37niwFhZa/c52RCqlBWvFI7HmGuGUs93x+ixmSpjrkfT/D3cChDQj6FMMp1XPfFCquZ5b085Xp8RbovaN5MLMV9SorTWgn3oqHwQRTJYzMG+xmPqI4rhZE4dPYy6MpPoVAoFHMHffkpFAqFYu4wk/Y86cpEwTVK2K5XW3l74zNQ4x2dSaq0RrRljRLbU6I26gtN0SftYBu9Dpbz1SKS3AuePOw4BFUxGmDZP5pSgrUjl9yFIimNSNFULOI4B6MethVLCrNehXq1WsQ5eESvtI8PRZ/2Gca0sYDjbC3R2JYl1dN0QU/UapISnYWIFFYRKTdbG6D2Dk8l3Xz75uW8HZShllpeaOXt3Ws3uYuJpziHhOgrz+e0W/z97HjfMKYRxmNpAeMZ+KBnzvblcR7uY0wTogD3n+HvzUxSP40VnENCjMzTJ6BxWVlojDExq9dIKeyQujC2En29AMe93MB8rfgzsq0tMD2ZkpqO92knkscRU/vcnyhQS3Vo6Fr5NF9jUq/aCdoFCg3MUnimVoI1H6njsNpz9njwNc3i8+nAmPbDqlpjJPXLbVabJkXZxyMZIyeF+/7F1gZTGt9kTMpJi29mtadD5gAFogYdR44788UBqYE5yX1Cc3U8lnRkRHO32gS16NIt6hu5z24Xz5wxXY+mj3vU9jPguyciWjkjpfJoIu8xpj2zhK6PQ4rfTPZhQxKfwg4R7Wcykc/qWdCVn0KhUCjmDvryUygUCsXcQV9+CoVCoZg7zIz53bjUEp8/9wZSFXYvQWKekMR1e1mmOrBc26Vgi0ucv2dJqFcWET8bDBDzG4fEZZflO9snaSvRxSYLwf3aYYaAOHfPsNwbnH1EsuFobDka+GS+nMDU2WXv2FDGQAYDnOuwS04QRFHHVem2UGxgv/HkYjG/VUpVmLpk6kwpCA/u3RN92sc4h+U1BAR6bTi/NCrSWSf2cE1GFP9zOG7ikXNDYsWraKw5PWKP4nwcNzbGmLc+83renpLcetxDrLiWVkWfW7twj3l4jPP54X94N2/v7x1xFxOTTJ5TYTg+MwxlPMIJMNa/9Zv/EH086dozC2y2PqXx5NBRksg5xVJwYYAtYn6WZJ9+l/C9SHEx2+GFHWf4Ow7zJVbaQpadn24hnF8so+6U42cUx+EUJuF4k8h7wuF4IMf/6DdlSwpfa2KOVUjOX6vJ59kssEHzlI6nXpX9OY6akhVNmlE81Iq/cS4HG2CzhoFjm2lsjSd9LlLMcJrg3mFTamOMGYwwWjweFbqvCxV5bkeUdtAb4oHWp2d4wZMOT0W6l3p9mu8UUJxaqT1nZ+c/MwoBtlXw7PSI86ErP4VCoVDMHfTlp1AoFIq5w0za882b0jj569+AWXCZVry/+CUcr4ftEXcxqYflOK1KTbVIVJZlClEsYWleorSDDslvez2ZUrHQIiPlBuTmwymWyOzwYIyUDa8ut/J2fwBHkbM2qIFGGQ4kf3kOJFUm6XRimHYRXUwpgPx9MMC2D8fE1a5IimyxyBTkxZbznQF+d0YuM8UJDiiKJF006COto0luOs+fwiFmobHMXUyxCEqEqQqHLrZDaSSxlW5y2gUF+eO3f5K3e11ct2ZNUpgpUdRFcoJp8aS0lP3TIcY6HmKsl2neFANJ46REizealGZD8+bkrCP69PpkHOxje+ns20yAUxKYwmTXkciiMPk7pga5Ll5mpTqwcTF/49G1smlP16UabXQvpVyv0ZL2c9hjlhm2E8s+fD6JlTqB/aDtWywhpwBwGkhEx1KwqNbiYitv83yrNyXlPgtjMoYOODXBOjiPzjuia+W41LYnr3P++HoO/Y6pX7s+IjvmUOTIoyqAaSL7VIjSXKjjdzWi/0NPzo8pHU6bKMxeG8+felXSq4nPbjroU2/hfhPhLmNMv4/0qBG5ulRqOLa1tbq5CHTlp1AoFIq5g778FAqFQjF3mMnHLK7I+mYbm6BB9w7g1HH/2UHeHrmSlisQazAtQunDyjE/ldTA6TEozckYFCRTJb4vl89HxzBsLpDibmUVZsdLK0uiz4gUWiOigXZuw+kkcR7n7VZJUiALi6BH2h3Qd0nC6rme6JPEUDHWG0QNpjjmjvRxNr8kGnY7uxjtOSQj5v3ncDEpkCNCEkk6wS+T6S3RxZMpjnlt9ZLoExSI9qQ6Yiw4c4jqrFq0x7MDXOsPP3w/b9cbmGsW+2YOnsG0e2cZVHTjVbjSTAuS9nhyBDp+kuIYrr/+Fo7ToqhSUraVaO7yPBwMpZNEv49x88ntZTyZYdBswSMqidsp3SOO5WiSEg0a0zUQptAvMbbOElZ+kqm8NR4+0b3MeLHam2lTY4yZDkm5THOiUMAGooGchzHRk0yl+3QNCnRtgkAqCIMS7iuX6loaMoiuWAOySBT3IpmL+8WLrQ0KdN7VCjmQfEIxS+p3GpBMqFotxxoeN6YnXTIhZ8ce65AHFFKZ9DDWNaJ3I3ufFIUJiIatUkjqqC1DT6c9dOrTNU3JuWU0tMywaduNJsaN1dXeVLo1FSgUxorsPoV6VlaV9lQoFAqF4lzoy0+hUCgUc4fZtOdGS3w+6KD+2/t3f5m3jxNQfsG6RUEs4vOojaX14zsv8nbvUCZ1p1NQVDcvg8q6cW0nb3uWsXW326c2qI5qQsbaDVnafm1lI28XKlgmbxFVuriE5OgHRMsZY0xQpppXEfr3exgP35f0CqsGE2IwmaJipsYYY4YT/H9yeEzqNym8FLh6BUnuP3/7x3m7ewoaNoslhUpMp5kMKTG1AXoktZRoI7pWU0rQHo7x90YDyrHXX7km+t+9/wH69Dt5u0rG2rZScUrGwSVKwF3bwvVsrK7KPkSPPHn4OG9PiLZ0rcpwUQyKhpXCwmA5tfugPapDnfz6rR1zEXD9OTFziPqyjZwTugYJKQhDMnt3Uqlu9Mk8OaWDnpKyzi9ICrNWp9qapAZko+1qXSpzI7pWbIxdq+K50B+fiD4ZJXknzK+ycQLRieWyfOaUmlRXkq5pPMa1XrEo3SVSlVZJEimFqLMT3mMat4yowdgyQSgUiMYt0DOMrs/kJbQ2mwYYD79jM35WyxtjTJuo8BEVDYiIkk6teyyhequNSxRaoGfB6EAazneI8u/1qM4nUfaJRTfXa3iGVijsElFIJrFCPS49U4n5NTGdQ68n3ymzoCs/hUKhUMwd9OWnUCgUirmDvvwUCoVCMXeYGfO79qqMmzzdf5i3702e5O1wFfzw6rIsTJtRbOHkDDHD8QDcda0i4wStTcQW1inumLE0OLMdCUimT7LhlOI2H737ruzTgjPNl7/1jbx9TFL6CsUp6gsyyHZ0BM7bJXeCYR8G0bHlJOGR63WF0gSGEzLGdqS01yOJdxif73hh45Wb63n70jrGZu8Z4iuJZbbsUvxqMka8KvFxnM8e/VL0ydi4nI4tI7Pl4grSFr72z39D9P+LH/xp3n5xgGK0PgVEy5ZcfIdie0srKK6ZeJgTTlGO+/FzmFZ/+N67ebvd6eTtaCTTFhKKhbkUe2IT4dB2W6Hre2Ubcb7bNzfNRcDxDJ807iwRH42ki9J0QvOF7jffpVQaaz8szWezZC5O7FgpSF6ZzKQpvstm1qHlxsFPl3IN83iBHJWSrkwH8ikeF1Px15Bifh7FyHwrXpVOyWWHcjoWlmDGv9WSzymXij93TnAvLqxsmYsgpNimUydnn0jey9U6Yv7FEsYj4vis7dBCqQKcNsQOLxVKYarVZIpaPMbzlI22OY7dsfKrXCq+vLuN594SFfDO7u2JPn1yN2L3qhLFcOvWs75eozgyjccoRGzSdeT1DShNxnUxVoUAz6lwosbWCoVCoVCcC335KRQKhWLuMJP2LFck7THsQ8JfLWNZHFTxuyiUy/zJGMv5BR9L/rVrWJo3ArkU5qUsuxtMKB2gYKUQsHKZl/0J0W+BVdDPjUFz3X3/3by9uwm6dzqhdAarll0YcU0y0BFdkgBPQkmlrS1jG0fHoIEdovkcV16SyRS5D5XMopVmYKWFcf/2N2/k7fYRaIveUEqqI3LAYJptMMFYd9svRJ+kDcpqiSiNMplxVwKM5+ampJG+8fWv5e079+7k7Z2d3bxdLUuKKk1B6bI5ebcLSjcIJB356B5SKgKi7xZo+j87kY4VGdF+7PAi9jnoiD5rV3F+xSZotkl8MYeXWhVzl82jif0z05HMhRlxjTeReuHR3+V+MjJSNpReUaAd2eYmxYwdRcjNh+jzaSQl5h5J+0eU/tI+w5xqrcsUpFWiwiZEabYHuJfCLtqp9cxJ6RgcktbHlFpwOpbUsUt0Yo32b6eyzEKD3FKWGnjOuZaRe4mOoUIpCVNR31CCPauZAiwR/bdMblOby5h3xhizQ6GjlRV8V6bUghcvDriLcFXa3cX95sfoM53Kc+t2ECqhqSLoXbs+Yp0+V2jCuWRYX8rkeygil5sxuXRxiM1kF1vT6cpPoVAoFHMHffkpFAqFYu4wk/Y8PZIZ/KMTLM2bBvTOlBwJRlNJ7wyGWL5u1smhpUR1yyLZp+BjaT0Yg4rKDKhBVpgZI2tgVWmZ7WU4PbsulEMaODbADmmfDx6hll2wtC36V1ZhgB1UQN3skKny2eET0cfNQMl0iXop0GXwLGdaVnjWXHnes7BUx7l+86tX83YSoT2aym1xfb9BD9TahJRTD+4+Fn0e/vRB3r66DnrTIceJtVc/l7d9qv9njDFf/QZozy99Db9jE/V4IumVCakdJ1RHrU60dNGX0/pjcpJ489VP5e3xGVRu7SOpeGOz8eVl0MVFonT7lunu17/9bRxPE84YQelidLVH15eppxopJW1Hk/4Z5mvKNBBR8ZlVyzIlyoxDBtUKqZEDOYYBq+7I+qTIZtxFSVEVydy738N145p7rRVpQtxq4DqWiE6snIBif3HnWd4e90G3GWOMQwPn0HmOHVZky+tRIMqtUcXc65MLSk1OXYE1Ms1nCrRclGOYkmM0X+symXHbczekZ2pKrkzLVPPu5hXMte11SXuWSpiviysIIZRoHl+5Jk3/uWZlHGIMOidEI1tKZ65dWKHamq0qjrNRlYNYrZKanuoG1tkg3QpX8TVxMzynUqI6HSPn4Szoyk+hUCgUcwd9+SkUCoVi7jCT9vzFLyRl9+IhlaMnI+iUjFPTqVR7jdng+HOgBt/47Jfy9iSWy1pWWz1/BJXe43tIsO6fSjPcpQaW05z4fLhPJtNFmfx5cITvtiagi6pE7wyGoJTqDUmVVBdALyxsXsnbX/z2V7APMm42xph/96//j7xdLGCZn5Gs1fIgFsqni/6v4pLja7lESjKqfVavSWrAJbp1OgV14xGNtL4iFa8rRFFvLuD6xgHObevTb+Tt50NJUR0eIaF4cRn9owiUStNKSN7chPqMmbgqKTKnI0lHBkVSmZGadhKBxplOLRNiOu9KlVVuXKtMUvZlOgaf6MBnz/bNRTAl82XbyOE/wc2spF9K5E5InZhwnT9XTiqP6OfFJYxvs4LrxgpkY4zxE0qAp2PjUoVVSyGepthGRO2MqOvRSNJncZNquRUxJxKDezQk84osk6plh9SBXKMxINPt0DIxL1INvrUdhHTaZLb+MjSJ6mTaskLUojFGFEKMKQHeI6WiZ/UpkGI0jdB/iUzytzdBW26uyPvFpwR4t0T7oUtVKMnXABtlc8J7lIJmrDXks2BnG/dl0cU5BA62XbBCOiWmm4n2DOiZl1khroAofK5jyGpPW908C7ryUygUCsXcQV9+CoVCoZg76MtPoVAoFHOHmTE/33IaGU8gBZ+0EaupUcyhWpbv0ooPPt6fwtFkncyOFy/dlDv2OF6DuNzRAWKQ415HdFlcAud9TK4jR13EFkpFq9CmB56/sQ6ef7MO7vh4H8dsy/Sv376dt1ev4hx6J0iPeO+n78p9UkzUJdLdoeK8ke0qERNn71gxhBmIyH3Gp/9v0pALY1qxI+L5DaWvcHyktSDH4M3P4LwLFP9KKca2QFL2xz2MjTHGfPgBYqKnZ7huJYrPbm1Jg/X1VcwdLkZbLeHYyoEV332O61il9ISzA8SObfNnQ6k1LFEfTxC3LFoG2h+//7O8XQgQrxpQysvrry6aWWif4B5jhfcCxVOLntxnnWI6hmKYY7IGGVqFiw3F2RsNyOTffP163g48OQ9HXaQ+RVNyWxlTfLksY35nHdy/boz5NaQ+nrUfNr1epBSkp/u4VjE9c8otmSpRpFQQj6T1hSrufzsGepnifJ/93Gfy9nvvU8z+JSY9PsWyipQi4loyfXYKCinVgY2Yo1i6QqV8L1O8i91iilR42PdkjIyNwhN63NOjwKSZlZJBv3MpXSSMMfcXl+Q8Hob4XYHdVigulyYyPsv1fMsUjyzS2MRW+pxH8dmiKGpOscnoJReLoCs/hUKhUMwd9OWnUCgUirnDTNqzKo0kzI3LVG/plGgLklT7qVxuuiz7LWEp22iBvotjKX8/eIGUhkYNfXYvX8rbQSoPu0MmzUkBtNitL76FbTWkBDggF4Lrb+F31RhUTfNn7+ftnrXPxR2kN/TJpPqHf/i9vP27v/2Hos/2Bo7BJyeahPIb2LXEGGM8cl4pWu4eszAlToOdQnpk3lywzF8DSjVgmX7GUmuLtui0qT4g1ZVrXoL7TUZS6avX8XdjjPmn//wf5+1DMgR//gxGu92+dBp6/AR1GF88hdF2vYLreeXKVdHn6lXsl2nlwhLRZ69Z9etoDFbI4SUo7eJHFq1VqeP6tlqog5aOMCePjh+aWTihMajQDXhpC/UAvaa8BgFRvy7J/Ad0LyYTeV9yCtKYjLLLddDFN6/LGoRcp3LQBz2bcC06I+nV5oBMwE/xu3YHx7O0Le/L9TWMVYHSnpgjKy+08vZaC+2/PAdQnSldw5CGwK6L+fobr+ftN99Eas6zp3CSaZ9KByAGG+gPKfUiCwridy7XWOTafPRoGQ/lGB68wPPIkIn5YosoTEq/iRP5jPAzjEeSUK1EupfHYytdhNIT+HcRPeu3KeXIGGNCSk/iOyklN6ChlepkKH0lTTjchS0ULHeiUplN5jEeY6qp6FkOL/KJCujKT6FQKBRzB335KRQKhWLuMJP2PNyTS9TGApabi4ugmEIy03UySQMFDpbcManx+lSmvmRRA4+f/CJvc9mtpQaMpdevSvNWtwC6ZmENdM0a1Y8rB/LYkmEHx3YMeuP4+DH234cCsbC9YSTQ//kHf5y3H/wM7WZT1q86PsUJXd2A+qzewBhMypax7RC0QZRcTMXEtbWCOrZ3+Az0bNKXVEd8BdtuET3rBmS2bCnJUqIQe30yLib1muOB4l6y3FqWFqE0dN+i+mYh+veGkvYc9DB3Rl2cZ4G4o1JFjjsb7RaIivfJwNe33CcCUlEG5MbDbi+BNXcdUrmVAuzz8YP7efu3/81s2rPfB0HD5sJswl6xqG+H1G9+QqpD+k1sKXtDqjO59xzU8U/efidvl2ufF312dkHjlhYwHiOisqZTWRNxYwv3jH+AcwvamDelslQwP3+2l7cP2vfy9ovDTt5eWoMCeOuKNJxPXMzr/pCMj0lhGg+lA9AaUa2syEzji1mFnJD6nYvZVctyHm4kZHpNbjgpO+ZYSsXjHqk/yRXmrI+/n3TIfatpqdpTUKIJKbeTlO5/S2E+HaPPsIt9ZsTIrtSlotrdwfxYoPdDTHTowUFH9OkNQCX3aZ9OCdsuenJ+uLRey8jKhcfNdsmaBV35KRQKhWLuoC8/hUKhUMwdZtKe/RNJcTG92VjB0pqTv71AUjIZLacdojf8Cvovrl0RfbY3obb64Y+QNLy+DsrslTdviD4eJUUXykh6LfhYfqfDtuhz9BSUSoeo1skBlIZPn3Xy9te+eUv0P7iDPu9///t5+8kD0EgHIzm8J6fY3uU1HJsXs1mr6GI8SqR2/Yv9r9IbgIJcaUKpWCY68OM7kn5rUk2yRaIaEoN54Fm7D0rYnuNin4MBmT/TFEtTq64cKRIdonRdUsI1G5I6WlrA3KkSPbK0gPMME8sMlyhRnpOs1nStk+MEZaal2HDaypU2WcTnA45o0JutFGQUq1A3ugXcV0dUsy+jGmbGGBMQFd2kenotCjlEiaT5hmQyfUZKv8f3QTk2mx+JPpXmm3m73CClIf2mH0rKbo+S9vt9oqhGVGfv4FD0GVEtyR4d24SSvQtrmJ8Lm9IEwa3QvXSCez4Z4ZzjsVRU1uuYY5MJ6NlGCwrobldSugxWQRepfp59vwoqmyg7Dh84nqTSS1V6TlCNSVZXHh5jnFdXWqL/YITjnkwwhgHVGixb1DPP8XYb14O931ukuDXGmN0bCDdVKtj20SEoYdtw2qG52x+SiQrRzZag2oQ01iHVaA1JCZv4Uu05yxpEV34KhUKhmDvoy0+hUCgUcwd9+SkUCoVi7jAz5lcOpGGsOwVzOtxnBxCK1RSkfD5LSYJ7o5W3G/Vl+pUsiri2DsPoX/sq9tmsUVzPyLhHqQKevLJIfK9DKQSJPNWDI7iTVMjt5NFz/H3qg/NvlKWE+KO/+HHe/vmPIGU/6IKvPptKk1o2VXHKOLaYxtDx5HFyekF2QQnviLS+3Ql48cVdxPWc57LA6rCEY5gUqRAqOfqWLecE458vx/fIGNtweoQvT8DjASFnDIeLslpFZgcRxrRGsnSXtuVbxUodCs55dMz8K8eKR7BEO6I4A8f/7P8cRz3I/ksUDx0PR+Yi2LwG14xyGTE7TqlIAjk/ysu4Tytdcl46wz2ybDkvjRKMx3iMqF1It9WDj15wF1Np4XhuvAa3pQlJ4Y/2ZXpUyIVIucAp6QSqVfmcyVZwrEOSv5+cIO0oI5n+Wbcj+rsxxmdM919G8yiN5Jy6exfxTd+DnuDTnyG3lydyPBgViplVK3hOlcsyHcAhM3uW4/t0TXtHUpswIgefBm27T6kOR9SnvSENpx0X++xS2lRA8eFSyUrZoftl/xgxu5VVpI41F+V+FpehyYjJnHtC4z4YyufhRNzbGIOEniWjSMaruYB0RnqEPsVqvaLUCWjMT6FQKBSKv4K+/BQKhUIxd5hJewaWTDclU9QCuVewctyWsmchmcyCtTB790ATlltSQhylnby9XMcSd3QGF5ZkKJfpBReOL50ejI8LRdCrmZEUxNZVpFic3MUxtGNwP29+4ZW8/fwO3C+MMead7yK9od0DrbWwCBrHGUoujR1rPDKcNVQzi+v8GSNl/7FU8M/EeEo/LIBWnhCv9fpnZbpIRiRgym3aqWdRbgVy7XGZWhTpAFSPzD43omSY0/VdzK9n+7IG4NEx5Pg726DfPJKRm1Ba2Y56oIWGI6LCiJYr+nJ+VGoN+oTxOD0FDfTw0VPD2N+HXHt9A+41D38529WF8bkvoz5iUCTJPLmTJ1Z+RZXoxEIH592+84x+dST6rLskmacQwhGZXHd6MrTw4C5ov5vXYRz+1S99MW9PLAPtEqU0vdjDMTh0PkvLDdHHoVp9x8edvP3Be6AmX+xjW8+saxCQIbhPY9UgKmzJouxqFNJYWYbby/oGmzdLk3rG1iauNVPUlaoMlWTkXCSuIj1r0+SUvzExyflH1OuMTKEpgmKeUdjGGGMCOreDM2yrSPU762QGbowxHtWMPCZHpfXLNNeqss+Izm08oDl1DIem/QM5DwdjpkHpOeOf737zV3/ImzyP+mSsbyRTaiSxDujKT6FQKBRzB335KRQKhWLuMJP2LBUktZgmWDKzR/SQlHBJKmmtEqm62pTp//bv/37eri9Jh4bGBhapp0UspStEYQSWG0f/BNRHlWgPz2D/Y39J9Fleh+nu47iTt29cx9L+9W1wtX/2R3dE/+M9qm8W4zi7HVBf44mkPReboHhiUi3FZEicuVKbVKPzKdegqOpKYa3AT99BTcRVqne21CJK1qrNV2BKkhwWMqJQU0+ej0c11ljtmcTsdIL+vmupRYnS7ZJ67e4duO+0jyX9trmOMeyTQXFWIBPjSJ7b3nOiKu8/yttcO7FUluRIleo/pmRN0RuBu/747iPRhymnxUXQhEePcD7Xr0h1M6O1TG5JdD18MuP2jGXaXcDnyirmTsnDvHFiS2VrMEdTumcnpKI8iaUyr3OE8z5+gvti9Vtw9tiguoPGyHqei0tQF5fImae1IKlBpj3bZzjOQRf7PzyAQfuoK+dHjRSRN3dBz16/vJO3F5qSaq1WcE2aDXJEKs0izCR8UhDHVPMusyg7dsOKSHGa0D3CVPxf/oEMm7lGY4Z9Dsm95v59GSYYTXBN9zu4X4qk8Gw05ZysEI9aJsecD+8gXPXsUNKz5Sr6ZKTQ3N/HtRpPZDgipvNmM/uYsgQ821aK6NGYnlMxyWcT52LxIV35KRQKhWLuoC8/hUKhUMwdZtKeUSgTQZmwmk4podAletST9EpM9FMSYyl87yMsn4NAJltfvgk6cnMHlEhGlMFpVx7b6gr6nBEfmLpQ+XU6Mkl1ckj7pfpzMZkQd/ZAp754IemEkCi8jStQe3HNPs9K6r68w0mioGeSCH2SVEqV+n1SiFECr6lJGpex/wKUxJ/+2dt5+5u/9oW8vbYsayKOeqCyum1c31r5fErHGGNSoqKjiBPB0Z+Txz0rSz8kg+U21eb77vdgaH58JBOnb14FTd4ntViFzsctyXM73Mc8ODnCcbaPOnl7Esq6gSld3yKZC7ukRDs6mYo+J1189srYz8gyfJ6FVrOVtwtEKVcoYb5ZlEpFj5TXFTrO9SXMyWomQxj7Ce4/n9S4PSrYNuzJeywa4XzufYD74oOfIhywvX1Z9KlUQBturWM/RapJWCxZpg50PJUA9/+NG9fy9iGpBjvtjuh/7Rp+9+UvfDZvX95G3T+7DiMrjQNKTHdsU4cZOCLD+iIZL9gG61UyLh9TwnePTLOTWI57s4ExcMlwvl7D3ys1nM9oLA0VTttUbzHF72pUDCC06haGpNYkRtWcdujZ5snndrlE2QBEVXJNRDbjNsYYLl3ItKWhupiOFSqJyUAjovAK58un7ktiQgRd+SkUCoVi7qAvP4VCoVDMHfTlp1AoFIq5w8yYn7QgMCbmgosO3pmsRE1TybUGFB/xCtjg0QF46FZTvn+3Nlp5e7mFGFmvDY782SOZdtA/ou+oOGZ9CXL1cUc6H5xSfCV0wNO/uIv40ON7iAPtnUoufmkTDjFlcqkIQziQNCpSQkymCubkrJO3SwWMbbVmy6upEGt2sRhEhUzAj2g/734Ayf3tW1e5i1lbRiwpnYLz75O0P7H4dy7WydLt0ZCKrxLP79qTip1kKO7SHWJbD/ekK0QWI55YobHy+ph7pWWZLnJM6RIjMmIeT9lY23KvYVk6fVegFILI6iMKO/ucBnIx6fWNyzB1L7BTSJncSaoynulQHMihCeZvYGzrlqm716MUEUp52aBYST+V8cxuD58PnuGa/PEf/Xne3rmyK/p86rMwhi5TekOBnII8R97/HPPjVKlbN67n7Zj0CJ1TaQR9efcy9YGLUY3cVj5xNWjusWvIJ6brDHTJHLxAgaxSJGO9w5BSe87IqJtiV4uLLXlo9NwdT/E7LoxbLGFO1iqyoDjHm8MQ92+9QfHHiYwTppRuEVBscEpFgO3rxk5QXTJ4j2gM/KK8L12f3Hh879x2uWzHZ9GcTjHuB1S4eGKlVMyCrvwUCoVCMXfQl59CoVAo5g4zaU/HkWt+Vu0GJMMWLIEl0w1DLKd9jyhR2utRWxpbv//e3bx9hVIdHtxDqkI4lX0OE1CdMZuljrDkHieSguiOQYXdfQDp94QoN2JdTLsvyZJXtkAbVEmKvrMNKX7B+t8iJQojpipTtRLa5ZJlhsttGveumY1aHccTJ0QRDUBH3HssHRo6JG2/ug0at0zmxJNYumn4Lo4nCHAO4z6ue0ZSZ8+1KC6mcYl6CokqmVpONGGIz4M+qLhJhuveCmR6RDTF7yKqb+gRr1UtSrrIpzQVr8gyfRzzqCLNsJPQctT9K3ROiLq91Tr3N8YY89p10IRsFM4OIpVAGgobop9ichRhgjq4bQRGx6CIBoMO/u7i+CepvJefhOjTH+MafPwRqPQ//eM/F31WN2Asv7ENk2iXjs6mwh2aBx7Nr/VVGE4XiVIeWjXimk2EOqo0dx1B01n75I/uBblOwpDoyB6lz5TKck6xaT2HA1oV3K8Fq56noedmxHUZKYfII2P8VlOGTUY0J8dt3JcFCkNl1muA3aeqlD4TkMOTm8px8iiEMU5AO4ZEuyaW43QashsOUZ30PDRWLUp2kuI6iI0ansf9Q5m2NAu68lMoFArF3EFffgqFQqGYO8ykPbPMcvNgQ1FaijrcdiU1WCjQsj9De0qKvb1DSaV1+qA3P/gAy9cCKYOWF5qiz5IPmq5CtKdPtbEetKV67YAUcOy2MAmpXtQIfbaIwjHGGGIqzKSH/YRUS25iqb0yWrKnRIEU6e9lKYgyGdNP3sWcC8KYDWyxQa6N1SEVqDHGPHv0GN+1Qd1+/rO38na9KZWGyZgMeelUE3LMSUnJZux6fhHNjwjbiiagLePQojDHNIZEqY4n+HtTMnamQCrVhFxqElINJqlUlbl0HRdIGcclDZuBpLWiegvbyzCve21WGt80s7Dc4PqT5ytEHUtlxx6+BerDpsr1JekKs/MGVJDds4O8PaGxzjI510Z0Tccpwg6srPvxX/xE9Ll+G2bSv7HyrbxdIjcQx3oEMa3FTTb6XiBFZGtBzknPIZUtjRXfe3ZIR+KCRTMJnT7G4JTCOMWxpPkqFVDWRY+dk9isWT4zmI0vEL3J9/KE5upoLOdHlZTfHtVonNI9VrQVlfQM5PvXI+eVxHq2eQ4pUcn1q1JBn3Ekn8GDIYXFfIwN36+2ST0jpXqpJXogV4qF837+CejKT6FQKBRzB335KRQKhWLuMFvtaZlU8yKX66AVKRnXEvNJA1k2j6UkRieR+xmQeGsY4YObUWKukXTT7V0owb6wA1VZL0Gf7/7xXdHn4QjHEJBSyadV9hLVGrt9FfswxpiCAb3RJaqjRIpMSRwbExG9kUQ47wGZA0zGUsnK6tXyIgy8zdaWmYXTNujiGqmgWNY2nMpE0E4bar7hCP3LVdCmr74ijYvrAbY9obp/p1SHbUrX0J4gTHkxfZdOiX6b9LiLGXVAnbjUyeGEWVfOD6aLY6ptR3n5JihJSnahgbnbJOPg0zbO7ezgQPQZkFIwJdqzWJntJcGwR+c82HOKf+fSl0zeeYHk0pcvY+5ceeOVvN0/Az1rK1e316mmId1XvT7aZyfHos+7P303b3/281CyCirOs3j+mcDouMJswVJu8igyvUnt7CWs50UNCRhs6s6q58CixcusnKRzcMgphGsgGmNMuULjQzT9kBXMpCKfWDRhkQwSmgu4XwcD3FdeQSrMWe3Z6eB3LinUnUiOU+CdP74eKZUdywQlpWsXU2J9QiG3YkGOR0K/65ziWcmm30wvvwy68lMoFArF3EFffgqFQqGYO+jLT6FQKBRzh5nBiCfH0jlhbRHOAWd7iHX4HmJH5aLc3OoS+N4Gma+aBgptFlakDLuygt99fICimWdU7HR8JmMt64vggd+8gbjU8T7JzSfyPZ9MwT87FOhbaCAecXUbMmovkTEQNrMpk+sGuyDYkuphDJ6+QvYxxTLGbTSVOv1JiD6DM8TiGrNDfmY6wfkUi+Dv2WT29Fg6vHCsIwxxPHc+foQfpXIMX7/9et6urSI9wj9G7Cf1KTbgyDjB2RnijCHFIBtVjE2zKMcwJlm3IWPtgHJEfKuIcEyy/YSuwWiEmEFak32KZMT8/BnMyu/dw9x78exQ9EnoGJrLuF+uvzY7vYHxUgX+X8F17BgXQcTpKRZojXuJDNc3qPjr6SFifp2+NDteplv7GgVLH0W4hrHljjIlKfvBHoqfbmwhLl94SchPpj249Hf5K/mRUhpmpE28HH99h5dmDc+sOqUNlMrSAcin+5zdjnwSVERWwWhDhYg9Gt84wTzm2JkTyv7jmFxdyHEmGWH/IzttgdIwQipibEh34X/C5J4v5PnxO8dyrymUcZ+zAVdK85Vdi4wxZkqOMROKO/aHGI9i1Yr5z4Cu/BQKhUIxd9CXn0KhUCjmDjNpz/svpHVyn1wMirTkDUly61ka4gm5QjSqcGHxC6ADyhbdVG9h2/Hes7yd0bbHlgvCD+7gd6cnZHLNteQqoovZrGE/xFqYrRUcZ40Us6OBdKJpNEHXDomaHA9Ymi+X7BWiQTwDOmFEFNPUke4Ekwz/n/ToGjTMbBRLOPAS1eNiiTgbXhsj6zLW66B7Y6IWnj+ThrHFEujN9Rb63PwcZO0Fkmrb9FunC8qs08G2L2+DFs9CmfpxSsbBDtGeCdE7e89lDUBOSdh7CgehHqUtjM4kRXV8hAnzgvq3Oxi3zHKSSYmyurRzKW+/9ilQi8MDWYtSwPn//1/0E6Tc+UznS6lBduqotZby9qVboGc7p/JaJ3dBeW0TFeWQm0dvIh08KuQuxHPPtSgzeag8R2ZRmLNNqv/m+Otvr0419BLi7wq+vJ4x169kaT/9ZjSR4ZWCi/BTyubRFB6JiVocZjKFies1lhqY0w47zFgm1eIKEFWZ8HPXOjeHrY/I7olTZpJMPrfZRNwX6R5oT63UDT7vhOZhf4D731WHF4VCoVAozoe+/BQKhUIxd5hJez56KBWVT2n5fPkSSLeVJii2mmWQOqE6V90xlqs+1UFLBpIqee/Ow7y9tIj9rC9gyd4bSWogIhXipEjL4gBU5XpD0loVUj55Ho4zJuVTtwfKYaEl62R1yIqGl9xVWnKXi1LKJs2KyRGBBFoDywx37wTn0I+w7V0zG2VSKgqxFFHHi4vyfEKiE7h+HFPHnbZUAH9490neHm9in9dIJTum8bTZrsVFGJS3yRXm0g6cbAJfUqXPipiXwwH6HJ5CvXp08Ej0OX4BqnNCJuYe/e+XTuT86HQwr12idFprcPopB7JPlMIp49LGVfRpgsZ9Ke35XwqWYk66v+Bar2xi3Hdv3zCMPplzF0hV2iBj6d5EUlT1VYQGlpfR9oQy0KYZL0I7/m1TnX8zsIm4ME5PJtYPMY/ENSAK0q4nOGInFzKsn0R45kREoQYWdc633GSI42GjcNdSRw8n2LZHblwZ7Se1Ch9kRMmyf31M7w2uxWmMMeRLL5xx+KhdT55PUKSNkxJ1Sur96ehirkG68lMoFArF3EFffgqFQqGYO8ykPa9eWhKfSwWsUWtk1NusYMleq0ra06Hk4nEfyr5SCQnrq+tSt1hbIVqJkhXDPiiufl/SOAkZXU9D0IQDqm1VsZbPdTKQdanuYJeSqB0ySw1KlvkrLfszoiqihJJxQ6lu4vEgNsN4xAdOJrLPwTEl9xtJs81CiWjPkNRWQ0o6LhbkeNTqoJWndHD9LiXJBlaydBFj0pngHH5xH0nhwSqu2y2L0llbwxxjqrbZRBJ2pSRNakdjjPsv7t/DF3T81bK8VtMaqLmN1c283ahiPwVfji0r4BoLmKNFUq96lpo3irGNKkmIe12pnPy7hm22wCyoQ8nWZTJB3yS1qjHGnOyBOt4ng+JGFWM9tJKlK8uoT7i8jGvNlNvLa+v9/UDK9DmPrUVBFojuLbDpP6koM0fGBkjsbRJWwtKwBQX0YfMMYyS1Lx29iaq1EuNd+h3XF2QD7iiU4SpR49VhChR9vII8N594zzjCc2pKBQA867ntFkghSuxmRPTqdCiV+bOgKz+FQqFQzB305adQKBSKuYO+/BQKhUIxd5gZ89taljGQrTVI49lglWncgl0Al2S/KRdSpThU7EgHD+bCE4o9pcRD21x6OWBtLU6pVG2hXZLxyKCIbdTJ+WBEctyYUihia58JV0KNwVGPqeCkqUiO23NJKsx96Dy7Yxk3OR5grKKXuQATApLmy5gfZP5RIGXHayThHw9xDgVK3ahUZTyBv3MK+C6jQMXZGfY56kvpt0dODg26BrdvIU1gZXlV9Pn4PszOn1IKwxe//dW8vbgkXb+f1Z/n7TrF4iqUqpC69q2A+ba9CSPmhRb6FFwZK3nyDM4yJRdjOLYKFP+qgmXttYWm+G51E2N6tI90k5RiR0XLWWOdxq1Sw/PDvn//viNi5xOK3xetVCc2f2Zp/zhEXD2zYvGciuJTLK0SUHFwKprrWflEKT3Pih5+51Kst01OR8YY4zi4FwLaDzuvRHZhai7knJyf0uVbrjCcIjKNKSWCH01WTLhcwTZqlL5WpWdTMrxYQeL/tmahQqFQKBQXgL78FAqFQjF3mEl7Nq2aSGwszQr+Atelq0qqdNCHyTMbvrpklhonlnye3A64ll1G8ujMl4c9nIBOC8g8ukBOJZ7lLjKO0Cfqg5pjkwo27R0MpfMK68V5n6UG0672GKLP2QlSGA7J2PrRYU/0OerjgMoLLzEEJkQRU52Q/RYKOJ/USFfmhDTaGdGzLtMwviVVdqg+4BFSWdZWIZNv03k+foAUCGOMqTcwd1bX4ABSIEplh6gzY4xZWGph/1QPbHENv3NSOT+WVkHhra+j/0IT7UpDOt5UaV5vLyFVIqBx2nssnWT2RnCZ8SjdYppcjIbJsov97m8TItWA6EjfksxXF1r4js4tSTHXSlWZYrKygbSSAtW8dEjO/8lT/rsfg78p2medvB0Q1Vksyfu/02F6kZ6nZAheLMi5W68hHFAjp32frtWInFv4mWfvJxOm2/h7sSRd/9OUwlXkfsX0qu9Lyn9K9TgL9DvHnZ3KUqZQVFCgMNAIz6bUmg5FClUUqB2SM9Ynx+B86MpPoVAoFHMHffkpFAqFYu4wk/asNaTzShpjae4TfeYRRTUeSuNjVxgS8LIWVJxrlbafUM2ncUxL6SIvueWxdolOCCegHSql811LjDEmIUcCn41dE3JrIRWWsZwG2Bi7XMY+HSrylsZyPKZTUAVHx6DInhyCGnxyKo+zyx+lQHMmej1sj+nmMh1zrd4SfbjG2tkZjq1ShuuHb12rmE13yb0mDnHet2+jlh2PkzHGjEYY39NTjM0SmSUHnqSb33jtet5Og/8ub18lI+ZCKvdDU8csrbBqmegRX/aJSM17+Gw/b+89Qrt9LM3fh+Tk0iTqh2nxcGBm4r+G24lklUhRbcUJaq1W3t68ciVvV2s4t8CiShfXYJTNdeGc2YUH/16iR8b2DlGQoeXwFFENTa6Nx6p4m+cbjnAvLWcIDTjkaHJ8hLqaxnKIaS628raf4jufHqKNeo27mL0jmJinDvZTq4HWrtRkiKvXxXEWqY5jnZyX4liGWvidUBduSxgPLhpgjCyWEJFiPqI6iKmnak+FQqFQKM6FvvwUCoVCMXeYSXtu3nhN/pBMVQNOZmVDU6vGU5l+F0WgyNhguT+QPBBTAC4pEllFZawk2azUyttM07Gp62Qs6cQSKbGKxIulpDZtd6C8DKyRWuQkYKIW4ymW/2EiecpJB+daWQVF1PLQZ3dF8kAblGjfIurpZYgpYZQTS5m1dF2piOpTAnoc4Vo310BBsvm0McZ0e528XaeE07NTJHvHEc75xq1Pi/5Tqhs2GmMMmP7zLTPcr37prbz9xS+jPSLFXCGWfbpd0LgvDqE4PTlF8nmxLpO6J1TH8O4dqDoDMkFvLC6IPu0TJN1zQrBD88vSDAuwyu6/JLIZbYdqstmJ6M0lGFO/+YXP4nd0v3S7lmEFm8HTjkQtuP8GaM+IDJodivWckArUGKm2zlLuQ3SzlTzeYxo1wn1VoOsz7GNWjUI5w8Y0j9nIvURKaWcin42dHsJSIdUQ7FMN02pNUqWTMRlY0DVlmrJekerXkqgbit9x0v1pR86pMoUQ2FQhInOR8qKk32dBV34KhUKhmDvoy0+hUCgUcwd9+SkUCoVi7uB85zvf+ftnqaBQKBQKxd8AuvJTKBQKxdxBX34KhUKhmDvoy0+hUCgUcwd9+SkUCoVi7qAvP4VCoVDMHf4/qr3B0AS5ChcAAAAASUVORK5CYII=\" y=\"-21.752908\"/>\n",
       "   </g>\n",
       "   <g id=\"text_1\">\n",
       "    <!-- Augmentation examples on CIFAR10 -->\n",
       "    <g transform=\"translate(120.904687 16.318125)scale(0.12 -0.12)\">\n",
       "     <defs>\n",
       "      <path d=\"M 2188 4044 \n",
       "L 1331 1722 \n",
       "L 3047 1722 \n",
       "L 2188 4044 \n",
       "z\n",
       "M 1831 4666 \n",
       "L 2547 4666 \n",
       "L 4325 0 \n",
       "L 3669 0 \n",
       "L 3244 1197 \n",
       "L 1141 1197 \n",
       "L 716 0 \n",
       "L 50 0 \n",
       "L 1831 4666 \n",
       "z\n",
       "\" id=\"DejaVuSans-41\" transform=\"scale(0.015625)\"/>\n",
       "      <path d=\"M 544 1381 \n",
       "L 544 3500 \n",
       "L 1119 3500 \n",
       "L 1119 1403 \n",
       "Q 1119 906 1312 657 \n",
       "Q 1506 409 1894 409 \n",
       "Q 2359 409 2629 706 \n",
       "Q 2900 1003 2900 1516 \n",
       "L 2900 3500 \n",
       "L 3475 3500 \n",
       "L 3475 0 \n",
       "L 2900 0 \n",
       "L 2900 538 \n",
       "Q 2691 219 2414 64 \n",
       "Q 2138 -91 1772 -91 \n",
       "Q 1169 -91 856 284 \n",
       "Q 544 659 544 1381 \n",
       "z\n",
       "M 1991 3584 \n",
       "L 1991 3584 \n",
       "z\n",
       "\" id=\"DejaVuSans-75\" transform=\"scale(0.015625)\"/>\n",
       "      <path d=\"M 2906 1791 \n",
       "Q 2906 2416 2648 2759 \n",
       "Q 2391 3103 1925 3103 \n",
       "Q 1463 3103 1205 2759 \n",
       "Q 947 2416 947 1791 \n",
       "Q 947 1169 1205 825 \n",
       "Q 1463 481 1925 481 \n",
       "Q 2391 481 2648 825 \n",
       "Q 2906 1169 2906 1791 \n",
       "z\n",
       "M 3481 434 \n",
       "Q 3481 -459 3084 -895 \n",
       "Q 2688 -1331 1869 -1331 \n",
       "Q 1566 -1331 1297 -1286 \n",
       "Q 1028 -1241 775 -1147 \n",
       "L 775 -588 \n",
       "Q 1028 -725 1275 -790 \n",
       "Q 1522 -856 1778 -856 \n",
       "Q 2344 -856 2625 -561 \n",
       "Q 2906 -266 2906 331 \n",
       "L 2906 616 \n",
       "Q 2728 306 2450 153 \n",
       "Q 2172 0 1784 0 \n",
       "Q 1141 0 747 490 \n",
       "Q 353 981 353 1791 \n",
       "Q 353 2603 747 3093 \n",
       "Q 1141 3584 1784 3584 \n",
       "Q 2172 3584 2450 3431 \n",
       "Q 2728 3278 2906 2969 \n",
       "L 2906 3500 \n",
       "L 3481 3500 \n",
       "L 3481 434 \n",
       "z\n",
       "\" id=\"DejaVuSans-67\" transform=\"scale(0.015625)\"/>\n",
       "      <path d=\"M 3328 2828 \n",
       "Q 3544 3216 3844 3400 \n",
       "Q 4144 3584 4550 3584 \n",
       "Q 5097 3584 5394 3201 \n",
       "Q 5691 2819 5691 2113 \n",
       "L 5691 0 \n",
       "L 5113 0 \n",
       "L 5113 2094 \n",
       "Q 5113 2597 4934 2840 \n",
       "Q 4756 3084 4391 3084 \n",
       "Q 3944 3084 3684 2787 \n",
       "Q 3425 2491 3425 1978 \n",
       "L 3425 0 \n",
       "L 2847 0 \n",
       "L 2847 2094 \n",
       "Q 2847 2600 2669 2842 \n",
       "Q 2491 3084 2119 3084 \n",
       "Q 1678 3084 1418 2786 \n",
       "Q 1159 2488 1159 1978 \n",
       "L 1159 0 \n",
       "L 581 0 \n",
       "L 581 3500 \n",
       "L 1159 3500 \n",
       "L 1159 2956 \n",
       "Q 1356 3278 1631 3431 \n",
       "Q 1906 3584 2284 3584 \n",
       "Q 2666 3584 2933 3390 \n",
       "Q 3200 3197 3328 2828 \n",
       "z\n",
       "\" id=\"DejaVuSans-6d\" transform=\"scale(0.015625)\"/>\n",
       "      <path d=\"M 3597 1894 \n",
       "L 3597 1613 \n",
       "L 953 1613 \n",
       "Q 991 1019 1311 708 \n",
       "Q 1631 397 2203 397 \n",
       "Q 2534 397 2845 478 \n",
       "Q 3156 559 3463 722 \n",
       "L 3463 178 \n",
       "Q 3153 47 2828 -22 \n",
       "Q 2503 -91 2169 -91 \n",
       "Q 1331 -91 842 396 \n",
       "Q 353 884 353 1716 \n",
       "Q 353 2575 817 3079 \n",
       "Q 1281 3584 2069 3584 \n",
       "Q 2775 3584 3186 3129 \n",
       "Q 3597 2675 3597 1894 \n",
       "z\n",
       "M 3022 2063 \n",
       "Q 3016 2534 2758 2815 \n",
       "Q 2500 3097 2075 3097 \n",
       "Q 1594 3097 1305 2825 \n",
       "Q 1016 2553 972 2059 \n",
       "L 3022 2063 \n",
       "z\n",
       "\" id=\"DejaVuSans-65\" transform=\"scale(0.015625)\"/>\n",
       "      <path d=\"M 3513 2113 \n",
       "L 3513 0 \n",
       "L 2938 0 \n",
       "L 2938 2094 \n",
       "Q 2938 2591 2744 2837 \n",
       "Q 2550 3084 2163 3084 \n",
       "Q 1697 3084 1428 2787 \n",
       "Q 1159 2491 1159 1978 \n",
       "L 1159 0 \n",
       "L 581 0 \n",
       "L 581 3500 \n",
       "L 1159 3500 \n",
       "L 1159 2956 \n",
       "Q 1366 3272 1645 3428 \n",
       "Q 1925 3584 2291 3584 \n",
       "Q 2894 3584 3203 3211 \n",
       "Q 3513 2838 3513 2113 \n",
       "z\n",
       "\" id=\"DejaVuSans-6e\" transform=\"scale(0.015625)\"/>\n",
       "      <path d=\"M 1172 4494 \n",
       "L 1172 3500 \n",
       "L 2356 3500 \n",
       "L 2356 3053 \n",
       "L 1172 3053 \n",
       "L 1172 1153 \n",
       "Q 1172 725 1289 603 \n",
       "Q 1406 481 1766 481 \n",
       "L 2356 481 \n",
       "L 2356 0 \n",
       "L 1766 0 \n",
       "Q 1100 0 847 248 \n",
       "Q 594 497 594 1153 \n",
       "L 594 3053 \n",
       "L 172 3053 \n",
       "L 172 3500 \n",
       "L 594 3500 \n",
       "L 594 4494 \n",
       "L 1172 4494 \n",
       "z\n",
       "\" id=\"DejaVuSans-74\" transform=\"scale(0.015625)\"/>\n",
       "      <path d=\"M 2194 1759 \n",
       "Q 1497 1759 1228 1600 \n",
       "Q 959 1441 959 1056 \n",
       "Q 959 750 1161 570 \n",
       "Q 1363 391 1709 391 \n",
       "Q 2188 391 2477 730 \n",
       "Q 2766 1069 2766 1631 \n",
       "L 2766 1759 \n",
       "L 2194 1759 \n",
       "z\n",
       "M 3341 1997 \n",
       "L 3341 0 \n",
       "L 2766 0 \n",
       "L 2766 531 \n",
       "Q 2569 213 2275 61 \n",
       "Q 1981 -91 1556 -91 \n",
       "Q 1019 -91 701 211 \n",
       "Q 384 513 384 1019 \n",
       "Q 384 1609 779 1909 \n",
       "Q 1175 2209 1959 2209 \n",
       "L 2766 2209 \n",
       "L 2766 2266 \n",
       "Q 2766 2663 2505 2880 \n",
       "Q 2244 3097 1772 3097 \n",
       "Q 1472 3097 1187 3025 \n",
       "Q 903 2953 641 2809 \n",
       "L 641 3341 \n",
       "Q 956 3463 1253 3523 \n",
       "Q 1550 3584 1831 3584 \n",
       "Q 2591 3584 2966 3190 \n",
       "Q 3341 2797 3341 1997 \n",
       "z\n",
       "\" id=\"DejaVuSans-61\" transform=\"scale(0.015625)\"/>\n",
       "      <path d=\"M 603 3500 \n",
       "L 1178 3500 \n",
       "L 1178 0 \n",
       "L 603 0 \n",
       "L 603 3500 \n",
       "z\n",
       "M 603 4863 \n",
       "L 1178 4863 \n",
       "L 1178 4134 \n",
       "L 603 4134 \n",
       "L 603 4863 \n",
       "z\n",
       "\" id=\"DejaVuSans-69\" transform=\"scale(0.015625)\"/>\n",
       "      <path d=\"M 1959 3097 \n",
       "Q 1497 3097 1228 2736 \n",
       "Q 959 2375 959 1747 \n",
       "Q 959 1119 1226 758 \n",
       "Q 1494 397 1959 397 \n",
       "Q 2419 397 2687 759 \n",
       "Q 2956 1122 2956 1747 \n",
       "Q 2956 2369 2687 2733 \n",
       "Q 2419 3097 1959 3097 \n",
       "z\n",
       "M 1959 3584 \n",
       "Q 2709 3584 3137 3096 \n",
       "Q 3566 2609 3566 1747 \n",
       "Q 3566 888 3137 398 \n",
       "Q 2709 -91 1959 -91 \n",
       "Q 1206 -91 779 398 \n",
       "Q 353 888 353 1747 \n",
       "Q 353 2609 779 3096 \n",
       "Q 1206 3584 1959 3584 \n",
       "z\n",
       "\" id=\"DejaVuSans-6f\" transform=\"scale(0.015625)\"/>\n",
       "      <path id=\"DejaVuSans-20\" transform=\"scale(0.015625)\"/>\n",
       "      <path d=\"M 3513 3500 \n",
       "L 2247 1797 \n",
       "L 3578 0 \n",
       "L 2900 0 \n",
       "L 1881 1375 \n",
       "L 863 0 \n",
       "L 184 0 \n",
       "L 1544 1831 \n",
       "L 300 3500 \n",
       "L 978 3500 \n",
       "L 1906 2253 \n",
       "L 2834 3500 \n",
       "L 3513 3500 \n",
       "z\n",
       "\" id=\"DejaVuSans-78\" transform=\"scale(0.015625)\"/>\n",
       "      <path d=\"M 1159 525 \n",
       "L 1159 -1331 \n",
       "L 581 -1331 \n",
       "L 581 3500 \n",
       "L 1159 3500 \n",
       "L 1159 2969 \n",
       "Q 1341 3281 1617 3432 \n",
       "Q 1894 3584 2278 3584 \n",
       "Q 2916 3584 3314 3078 \n",
       "Q 3713 2572 3713 1747 \n",
       "Q 3713 922 3314 415 \n",
       "Q 2916 -91 2278 -91 \n",
       "Q 1894 -91 1617 61 \n",
       "Q 1341 213 1159 525 \n",
       "z\n",
       "M 3116 1747 \n",
       "Q 3116 2381 2855 2742 \n",
       "Q 2594 3103 2138 3103 \n",
       "Q 1681 3103 1420 2742 \n",
       "Q 1159 2381 1159 1747 \n",
       "Q 1159 1113 1420 752 \n",
       "Q 1681 391 2138 391 \n",
       "Q 2594 391 2855 752 \n",
       "Q 3116 1113 3116 1747 \n",
       "z\n",
       "\" id=\"DejaVuSans-70\" transform=\"scale(0.015625)\"/>\n",
       "      <path d=\"M 603 4863 \n",
       "L 1178 4863 \n",
       "L 1178 0 \n",
       "L 603 0 \n",
       "L 603 4863 \n",
       "z\n",
       "\" id=\"DejaVuSans-6c\" transform=\"scale(0.015625)\"/>\n",
       "      <path d=\"M 2834 3397 \n",
       "L 2834 2853 \n",
       "Q 2591 2978 2328 3040 \n",
       "Q 2066 3103 1784 3103 \n",
       "Q 1356 3103 1142 2972 \n",
       "Q 928 2841 928 2578 \n",
       "Q 928 2378 1081 2264 \n",
       "Q 1234 2150 1697 2047 \n",
       "L 1894 2003 \n",
       "Q 2506 1872 2764 1633 \n",
       "Q 3022 1394 3022 966 \n",
       "Q 3022 478 2636 193 \n",
       "Q 2250 -91 1575 -91 \n",
       "Q 1294 -91 989 -36 \n",
       "Q 684 19 347 128 \n",
       "L 347 722 \n",
       "Q 666 556 975 473 \n",
       "Q 1284 391 1588 391 \n",
       "Q 1994 391 2212 530 \n",
       "Q 2431 669 2431 922 \n",
       "Q 2431 1156 2273 1281 \n",
       "Q 2116 1406 1581 1522 \n",
       "L 1381 1569 \n",
       "Q 847 1681 609 1914 \n",
       "Q 372 2147 372 2553 \n",
       "Q 372 3047 722 3315 \n",
       "Q 1072 3584 1716 3584 \n",
       "Q 2034 3584 2315 3537 \n",
       "Q 2597 3491 2834 3397 \n",
       "z\n",
       "\" id=\"DejaVuSans-73\" transform=\"scale(0.015625)\"/>\n",
       "      <path d=\"M 4122 4306 \n",
       "L 4122 3641 \n",
       "Q 3803 3938 3442 4084 \n",
       "Q 3081 4231 2675 4231 \n",
       "Q 1875 4231 1450 3742 \n",
       "Q 1025 3253 1025 2328 \n",
       "Q 1025 1406 1450 917 \n",
       "Q 1875 428 2675 428 \n",
       "Q 3081 428 3442 575 \n",
       "Q 3803 722 4122 1019 \n",
       "L 4122 359 \n",
       "Q 3791 134 3420 21 \n",
       "Q 3050 -91 2638 -91 \n",
       "Q 1578 -91 968 557 \n",
       "Q 359 1206 359 2328 \n",
       "Q 359 3453 968 4101 \n",
       "Q 1578 4750 2638 4750 \n",
       "Q 3056 4750 3426 4639 \n",
       "Q 3797 4528 4122 4306 \n",
       "z\n",
       "\" id=\"DejaVuSans-43\" transform=\"scale(0.015625)\"/>\n",
       "      <path d=\"M 628 4666 \n",
       "L 1259 4666 \n",
       "L 1259 0 \n",
       "L 628 0 \n",
       "L 628 4666 \n",
       "z\n",
       "\" id=\"DejaVuSans-49\" transform=\"scale(0.015625)\"/>\n",
       "      <path d=\"M 628 4666 \n",
       "L 3309 4666 \n",
       "L 3309 4134 \n",
       "L 1259 4134 \n",
       "L 1259 2759 \n",
       "L 3109 2759 \n",
       "L 3109 2228 \n",
       "L 1259 2228 \n",
       "L 1259 0 \n",
       "L 628 0 \n",
       "L 628 4666 \n",
       "z\n",
       "\" id=\"DejaVuSans-46\" transform=\"scale(0.015625)\"/>\n",
       "      <path d=\"M 2841 2188 \n",
       "Q 3044 2119 3236 1894 \n",
       "Q 3428 1669 3622 1275 \n",
       "L 4263 0 \n",
       "L 3584 0 \n",
       "L 2988 1197 \n",
       "Q 2756 1666 2539 1819 \n",
       "Q 2322 1972 1947 1972 \n",
       "L 1259 1972 \n",
       "L 1259 0 \n",
       "L 628 0 \n",
       "L 628 4666 \n",
       "L 2053 4666 \n",
       "Q 2853 4666 3247 4331 \n",
       "Q 3641 3997 3641 3322 \n",
       "Q 3641 2881 3436 2590 \n",
       "Q 3231 2300 2841 2188 \n",
       "z\n",
       "M 1259 4147 \n",
       "L 1259 2491 \n",
       "L 2053 2491 \n",
       "Q 2509 2491 2742 2702 \n",
       "Q 2975 2913 2975 3322 \n",
       "Q 2975 3731 2742 3939 \n",
       "Q 2509 4147 2053 4147 \n",
       "L 1259 4147 \n",
       "z\n",
       "\" id=\"DejaVuSans-52\" transform=\"scale(0.015625)\"/>\n",
       "      <path d=\"M 794 531 \n",
       "L 1825 531 \n",
       "L 1825 4091 \n",
       "L 703 3866 \n",
       "L 703 4441 \n",
       "L 1819 4666 \n",
       "L 2450 4666 \n",
       "L 2450 531 \n",
       "L 3481 531 \n",
       "L 3481 0 \n",
       "L 794 0 \n",
       "L 794 531 \n",
       "z\n",
       "\" id=\"DejaVuSans-31\" transform=\"scale(0.015625)\"/>\n",
       "      <path d=\"M 2034 4250 \n",
       "Q 1547 4250 1301 3770 \n",
       "Q 1056 3291 1056 2328 \n",
       "Q 1056 1369 1301 889 \n",
       "Q 1547 409 2034 409 \n",
       "Q 2525 409 2770 889 \n",
       "Q 3016 1369 3016 2328 \n",
       "Q 3016 3291 2770 3770 \n",
       "Q 2525 4250 2034 4250 \n",
       "z\n",
       "M 2034 4750 \n",
       "Q 2819 4750 3233 4129 \n",
       "Q 3647 3509 3647 2328 \n",
       "Q 3647 1150 3233 529 \n",
       "Q 2819 -91 2034 -91 \n",
       "Q 1250 -91 836 529 \n",
       "Q 422 1150 422 2328 \n",
       "Q 422 3509 836 4129 \n",
       "Q 1250 4750 2034 4750 \n",
       "z\n",
       "\" id=\"DejaVuSans-30\" transform=\"scale(0.015625)\"/>\n",
       "     </defs>\n",
       "     <use xlink:href=\"#DejaVuSans-41\"/>\n",
       "     <use x=\"68.408203\" xlink:href=\"#DejaVuSans-75\"/>\n",
       "     <use x=\"131.787109\" xlink:href=\"#DejaVuSans-67\"/>\n",
       "     <use x=\"195.263672\" xlink:href=\"#DejaVuSans-6d\"/>\n",
       "     <use x=\"292.675781\" xlink:href=\"#DejaVuSans-65\"/>\n",
       "     <use x=\"354.199219\" xlink:href=\"#DejaVuSans-6e\"/>\n",
       "     <use x=\"417.578125\" xlink:href=\"#DejaVuSans-74\"/>\n",
       "     <use x=\"456.787109\" xlink:href=\"#DejaVuSans-61\"/>\n",
       "     <use x=\"518.066406\" xlink:href=\"#DejaVuSans-74\"/>\n",
       "     <use x=\"557.275391\" xlink:href=\"#DejaVuSans-69\"/>\n",
       "     <use x=\"585.058594\" xlink:href=\"#DejaVuSans-6f\"/>\n",
       "     <use x=\"646.240234\" xlink:href=\"#DejaVuSans-6e\"/>\n",
       "     <use x=\"709.619141\" xlink:href=\"#DejaVuSans-20\"/>\n",
       "     <use x=\"741.40625\" xlink:href=\"#DejaVuSans-65\"/>\n",
       "     <use x=\"801.179688\" xlink:href=\"#DejaVuSans-78\"/>\n",
       "     <use x=\"860.359375\" xlink:href=\"#DejaVuSans-61\"/>\n",
       "     <use x=\"921.638672\" xlink:href=\"#DejaVuSans-6d\"/>\n",
       "     <use x=\"1019.050781\" xlink:href=\"#DejaVuSans-70\"/>\n",
       "     <use x=\"1082.527344\" xlink:href=\"#DejaVuSans-6c\"/>\n",
       "     <use x=\"1110.310547\" xlink:href=\"#DejaVuSans-65\"/>\n",
       "     <use x=\"1171.833984\" xlink:href=\"#DejaVuSans-73\"/>\n",
       "     <use x=\"1223.933594\" xlink:href=\"#DejaVuSans-20\"/>\n",
       "     <use x=\"1255.720703\" xlink:href=\"#DejaVuSans-6f\"/>\n",
       "     <use x=\"1316.902344\" xlink:href=\"#DejaVuSans-6e\"/>\n",
       "     <use x=\"1380.28125\" xlink:href=\"#DejaVuSans-20\"/>\n",
       "     <use x=\"1412.068359\" xlink:href=\"#DejaVuSans-43\"/>\n",
       "     <use x=\"1481.892578\" xlink:href=\"#DejaVuSans-49\"/>\n",
       "     <use x=\"1511.384766\" xlink:href=\"#DejaVuSans-46\"/>\n",
       "     <use x=\"1559.779297\" xlink:href=\"#DejaVuSans-41\"/>\n",
       "     <use x=\"1628.1875\" xlink:href=\"#DejaVuSans-52\"/>\n",
       "     <use x=\"1697.669922\" xlink:href=\"#DejaVuSans-31\"/>\n",
       "     <use x=\"1761.292969\" xlink:href=\"#DejaVuSans-30\"/>\n",
       "    </g>\n",
       "   </g>\n",
       "  </g>\n",
       " </g>\n",
       " <defs>\n",
       "  <clipPath id=\"pbda3513ab0\">\n",
       "   <rect height=\"226.434783\" width=\"446.4\" x=\"7.2\" y=\"22.318125\"/>\n",
       "  </clipPath>\n",
       " </defs>\n",
       "</svg>\n"
      ],
      "text/plain": [
       "<Figure size 576x576 with 1 Axes>"
      ]
     },
     "metadata": {
      "needs_background": "light"
     },
     "output_type": "display_data"
    }
   ],
   "source": [
    "NUM_IMAGES = 4\n",
    "images = [train_dataset[idx][0] for idx in range(NUM_IMAGES)]\n",
    "orig_images = [Image.fromarray(train_dataset.data[idx]) for idx in range(NUM_IMAGES)]\n",
    "orig_images = [test_transform(img) for img in orig_images]\n",
    "\n",
    "img_grid = torchvision.utils.make_grid(torch.stack(images + orig_images, dim=0), nrow=4, normalize=True, pad_value=0.5)\n",
    "img_grid = img_grid.permute(1, 2, 0)\n",
    "\n",
    "plt.figure(figsize=(8, 8))\n",
    "plt.title(\"Augmentation examples on CIFAR10\")\n",
    "plt.imshow(img_grid)\n",
    "plt.axis(\"off\")\n",
    "plt.show()\n",
    "plt.close()"
   ]
  },
  {
   "cell_type": "markdown",
   "id": "c414f978",
   "metadata": {
    "papermill": {
     "duration": 0.040925,
     "end_time": "2021-09-13T14:15:18.417487",
     "exception": false,
     "start_time": "2021-09-13T14:15:18.376562",
     "status": "completed"
    },
    "tags": []
   },
   "source": [
    "## PyTorch Lightning\n",
    "\n",
    "In this notebook and in many following ones, we will make use of the library [PyTorch Lightning](https://www.pytorchlightning.ai/).\n",
    "PyTorch Lightning is a framework that simplifies your code needed to train, evaluate, and test a model in PyTorch.\n",
    "It also handles logging into [TensorBoard](https://pytorch.org/tutorials/intermediate/tensorboard_tutorial.html), a visualization toolkit for ML experiments, and saving model checkpoints automatically with minimal code overhead from our side.\n",
    "This is extremely helpful for us as we want to focus on implementing different model architectures and spend little time on other code overhead.\n",
    "Note that at the time of writing/teaching, the framework has been released in version 1.3.\n",
    "Future versions might have a slightly changed interface and thus might not work perfectly with the code (we will try to keep it up-to-date as much as possible).\n",
    "\n",
    "Now, we will take the first step in PyTorch Lightning, and continue to explore the framework in our other tutorials.\n",
    "PyTorch Lightning comes with a lot of useful functions, such as one for setting the seed as we have seen before:"
   ]
  },
  {
   "cell_type": "code",
   "execution_count": 9,
   "id": "4fc996ca",
   "metadata": {
    "execution": {
     "iopub.execute_input": "2021-09-13T14:15:18.492767Z",
     "iopub.status.busy": "2021-09-13T14:15:18.492289Z",
     "iopub.status.idle": "2021-09-13T14:15:18.495796Z",
     "shell.execute_reply": "2021-09-13T14:15:18.496180Z"
    },
    "papermill": {
     "duration": 0.042823,
     "end_time": "2021-09-13T14:15:18.496302",
     "exception": false,
     "start_time": "2021-09-13T14:15:18.453479",
     "status": "completed"
    },
    "tags": []
   },
   "outputs": [
    {
     "name": "stderr",
     "output_type": "stream",
     "text": [
      "Global seed set to 42\n"
     ]
    },
    {
     "data": {
      "text/plain": [
       "42"
      ]
     },
     "execution_count": 9,
     "metadata": {},
     "output_type": "execute_result"
    }
   ],
   "source": [
    "# Setting the seed\n",
    "pl.seed_everything(42)"
   ]
  },
  {
   "cell_type": "markdown",
   "id": "785e5200",
   "metadata": {
    "lines_to_next_cell": 2,
    "papermill": {
     "duration": 0.039122,
     "end_time": "2021-09-13T14:15:18.572171",
     "exception": false,
     "start_time": "2021-09-13T14:15:18.533049",
     "status": "completed"
    },
    "tags": []
   },
   "source": [
    "Thus, in the future, we don't have to define our own `set_seed` function anymore.\n",
    "\n",
    "In PyTorch Lightning, we define `pl.LightningModule`'s (inheriting from `torch.nn.Module`) that organize our code into 5 main sections:\n",
    "\n",
    "1. Initialization (`__init__`), where we create all necessary parameters/models\n",
    "2. Optimizers (`configure_optimizers`) where we create the optimizers, learning rate scheduler, etc.\n",
    "3.\n",
    "Training loop (`training_step`) where we only have to define the loss calculation for a single batch (the loop of optimizer.zero_grad(), loss.backward() and optimizer.step(), as well as any logging/saving operation, is done in the background)\n",
    "4.\n",
    "Validation loop (`validation_step`) where similarly to the training, we only have to define what should happen per step\n",
    "5. Test loop (`test_step`) which is the same as validation, only on a test set.\n",
    "\n",
    "Therefore, we don't abstract the PyTorch code, but rather organize it and define some default operations that are commonly used.\n",
    "If you need to change something else in your training/validation/test loop, there are many possible functions you can overwrite (see the [docs](https://pytorch-lightning.readthedocs.io/en/stable/lightning_module.html) for details).\n",
    "\n",
    "Now we can look at an example of how a Lightning Module for training a CNN looks like:"
   ]
  },
  {
   "cell_type": "code",
   "execution_count": 10,
   "id": "7d72aa27",
   "metadata": {
    "execution": {
     "iopub.execute_input": "2021-09-13T14:15:18.656339Z",
     "iopub.status.busy": "2021-09-13T14:15:18.655851Z",
     "iopub.status.idle": "2021-09-13T14:15:18.657890Z",
     "shell.execute_reply": "2021-09-13T14:15:18.657425Z"
    },
    "papermill": {
     "duration": 0.048706,
     "end_time": "2021-09-13T14:15:18.657992",
     "exception": false,
     "start_time": "2021-09-13T14:15:18.609286",
     "status": "completed"
    },
    "tags": []
   },
   "outputs": [],
   "source": [
    "class CIFARModule(pl.LightningModule):\n",
    "    def __init__(self, model_name, model_hparams, optimizer_name, optimizer_hparams):\n",
    "        \"\"\"\n",
    "        Inputs:\n",
    "            model_name - Name of the model/CNN to run. Used for creating the model (see function below)\n",
    "            model_hparams - Hyperparameters for the model, as dictionary.\n",
    "            optimizer_name - Name of the optimizer to use. Currently supported: Adam, SGD\n",
    "            optimizer_hparams - Hyperparameters for the optimizer, as dictionary. This includes learning rate, weight decay, etc.\n",
    "        \"\"\"\n",
    "        super().__init__()\n",
    "        # Exports the hyperparameters to a YAML file, and create \"self.hparams\" namespace\n",
    "        self.save_hyperparameters()\n",
    "        # Create model\n",
    "        self.model = create_model(model_name, model_hparams)\n",
    "        # Create loss module\n",
    "        self.loss_module = nn.CrossEntropyLoss()\n",
    "        # Example input for visualizing the graph in Tensorboard\n",
    "        self.example_input_array = torch.zeros((1, 3, 32, 32), dtype=torch.float32)\n",
    "\n",
    "    def forward(self, imgs):\n",
    "        # Forward function that is run when visualizing the graph\n",
    "        return self.model(imgs)\n",
    "\n",
    "    def configure_optimizers(self):\n",
    "        # We will support Adam or SGD as optimizers.\n",
    "        if self.hparams.optimizer_name == \"Adam\":\n",
    "            # AdamW is Adam with a correct implementation of weight decay (see here\n",
    "            # for details: https://arxiv.org/pdf/1711.05101.pdf)\n",
    "            optimizer = optim.AdamW(self.parameters(), **self.hparams.optimizer_hparams)\n",
    "        elif self.hparams.optimizer_name == \"SGD\":\n",
    "            optimizer = optim.SGD(self.parameters(), **self.hparams.optimizer_hparams)\n",
    "        else:\n",
    "            assert False, f'Unknown optimizer: \"{self.hparams.optimizer_name}\"'\n",
    "\n",
    "        # We will reduce the learning rate by 0.1 after 100 and 150 epochs\n",
    "        scheduler = optim.lr_scheduler.MultiStepLR(optimizer, milestones=[100, 150], gamma=0.1)\n",
    "        return [optimizer], [scheduler]\n",
    "\n",
    "    def training_step(self, batch, batch_idx):\n",
    "        # \"batch\" is the output of the training data loader.\n",
    "        imgs, labels = batch\n",
    "        preds = self.model(imgs)\n",
    "        loss = self.loss_module(preds, labels)\n",
    "        acc = (preds.argmax(dim=-1) == labels).float().mean()\n",
    "\n",
    "        # Logs the accuracy per epoch to tensorboard (weighted average over batches)\n",
    "        self.log(\"train_acc\", acc, on_step=False, on_epoch=True)\n",
    "        self.log(\"train_loss\", loss)\n",
    "        return loss  # Return tensor to call \".backward\" on\n",
    "\n",
    "    def validation_step(self, batch, batch_idx):\n",
    "        imgs, labels = batch\n",
    "        preds = self.model(imgs).argmax(dim=-1)\n",
    "        acc = (labels == preds).float().mean()\n",
    "        # By default logs it per epoch (weighted average over batches)\n",
    "        self.log(\"val_acc\", acc)\n",
    "\n",
    "    def test_step(self, batch, batch_idx):\n",
    "        imgs, labels = batch\n",
    "        preds = self.model(imgs).argmax(dim=-1)\n",
    "        acc = (labels == preds).float().mean()\n",
    "        # By default logs it per epoch (weighted average over batches), and returns it afterwards\n",
    "        self.log(\"test_acc\", acc)"
   ]
  },
  {
   "cell_type": "markdown",
   "id": "23b33141",
   "metadata": {
    "papermill": {
     "duration": 0.037064,
     "end_time": "2021-09-13T14:15:18.732178",
     "exception": false,
     "start_time": "2021-09-13T14:15:18.695114",
     "status": "completed"
    },
    "tags": []
   },
   "source": [
    "We see that the code is organized and clear, which helps if someone else tries to understand your code.\n",
    "\n",
    "Another important part of PyTorch Lightning is the concept of callbacks.\n",
    "Callbacks are self-contained functions that contain the non-essential logic of your Lightning Module.\n",
    "They are usually called after finishing a training epoch, but can also influence other parts of your training loop.\n",
    "For instance, we will use the following two pre-defined callbacks: `LearningRateMonitor` and `ModelCheckpoint`.\n",
    "The learning rate monitor adds the current learning rate to our TensorBoard, which helps to verify that our learning rate scheduler works correctly.\n",
    "The model checkpoint callback allows you to customize the saving routine of your checkpoints.\n",
    "For instance, how many checkpoints to keep, when to save, which metric to look out for, etc.\n",
    "We import them below:"
   ]
  },
  {
   "cell_type": "code",
   "execution_count": 11,
   "id": "0eed87cb",
   "metadata": {
    "execution": {
     "iopub.execute_input": "2021-09-13T14:15:18.808142Z",
     "iopub.status.busy": "2021-09-13T14:15:18.807675Z",
     "iopub.status.idle": "2021-09-13T14:15:18.809695Z",
     "shell.execute_reply": "2021-09-13T14:15:18.809296Z"
    },
    "papermill": {
     "duration": 0.041081,
     "end_time": "2021-09-13T14:15:18.809796",
     "exception": false,
     "start_time": "2021-09-13T14:15:18.768715",
     "status": "completed"
    },
    "tags": []
   },
   "outputs": [],
   "source": [
    "# Callbacks"
   ]
  },
  {
   "cell_type": "markdown",
   "id": "adb14913",
   "metadata": {
    "papermill": {
     "duration": 0.03693,
     "end_time": "2021-09-13T14:15:18.883543",
     "exception": false,
     "start_time": "2021-09-13T14:15:18.846613",
     "status": "completed"
    },
    "tags": []
   },
   "source": [
    "To allow running multiple different models with the same Lightning module, we define a function below that maps a model name to the model class.\n",
    "At this stage, the dictionary `model_dict` is empty, but we will fill it throughout the notebook with our new models."
   ]
  },
  {
   "cell_type": "code",
   "execution_count": 12,
   "id": "7e5a3ee3",
   "metadata": {
    "execution": {
     "iopub.execute_input": "2021-09-13T14:15:18.961168Z",
     "iopub.status.busy": "2021-09-13T14:15:18.960702Z",
     "iopub.status.idle": "2021-09-13T14:15:18.962745Z",
     "shell.execute_reply": "2021-09-13T14:15:18.962329Z"
    },
    "papermill": {
     "duration": 0.042422,
     "end_time": "2021-09-13T14:15:18.962843",
     "exception": false,
     "start_time": "2021-09-13T14:15:18.920421",
     "status": "completed"
    },
    "tags": []
   },
   "outputs": [],
   "source": [
    "model_dict = {}\n",
    "\n",
    "\n",
    "def create_model(model_name, model_hparams):\n",
    "    if model_name in model_dict:\n",
    "        return model_dict[model_name](**model_hparams)\n",
    "    else:\n",
    "        assert False, f'Unknown model name \"{model_name}\". Available models are: {str(model_dict.keys())}'"
   ]
  },
  {
   "cell_type": "markdown",
   "id": "83aea5a6",
   "metadata": {
    "papermill": {
     "duration": 0.037353,
     "end_time": "2021-09-13T14:15:19.036920",
     "exception": false,
     "start_time": "2021-09-13T14:15:18.999567",
     "status": "completed"
    },
    "tags": []
   },
   "source": [
    "Similarly, to use the activation function as another hyperparameter in\n",
    "our model, we define a \"name to function\" dict below:"
   ]
  },
  {
   "cell_type": "code",
   "execution_count": 13,
   "id": "4e18fa44",
   "metadata": {
    "execution": {
     "iopub.execute_input": "2021-09-13T14:15:19.114779Z",
     "iopub.status.busy": "2021-09-13T14:15:19.114273Z",
     "iopub.status.idle": "2021-09-13T14:15:19.116372Z",
     "shell.execute_reply": "2021-09-13T14:15:19.115808Z"
    },
    "papermill": {
     "duration": 0.042147,
     "end_time": "2021-09-13T14:15:19.116475",
     "exception": false,
     "start_time": "2021-09-13T14:15:19.074328",
     "status": "completed"
    },
    "tags": []
   },
   "outputs": [],
   "source": [
    "act_fn_by_name = {\"tanh\": nn.Tanh, \"relu\": nn.ReLU, \"leakyrelu\": nn.LeakyReLU, \"gelu\": nn.GELU}"
   ]
  },
  {
   "cell_type": "markdown",
   "id": "859d8893",
   "metadata": {
    "lines_to_next_cell": 2,
    "papermill": {
     "duration": 0.037192,
     "end_time": "2021-09-13T14:15:19.191298",
     "exception": false,
     "start_time": "2021-09-13T14:15:19.154106",
     "status": "completed"
    },
    "tags": []
   },
   "source": [
    "If we pass the classes or objects directly as an argument to the Lightning module, we couldn't take advantage of PyTorch Lightning's automatically hyperparameter saving and loading.\n",
    "\n",
    "Besides the Lightning module, the second most important module in PyTorch Lightning is the `Trainer`.\n",
    "The trainer is responsible to execute the training steps defined in the Lightning module and completes the framework.\n",
    "Similar to the Lightning module, you can override any key part that you don't want to be automated, but the default settings are often the best practice to do.\n",
    "For a full overview, see the [documentation](https://pytorch-lightning.readthedocs.io/en/stable/trainer.html).\n",
    "The most important functions we use below are:\n",
    "\n",
    "* `trainer.fit`: Takes as input a lightning module, a training dataset, and an (optional) validation dataset.\n",
    "This function trains the given module on the training dataset with occasional validation (default once per epoch, can be changed)\n",
    "* `trainer.test`: Takes as input a model and a dataset on which we want to test.\n",
    "It returns the test metric on the dataset.\n",
    "\n",
    "For training and testing, we don't have to worry about things like setting the model to eval mode (`model.eval()`) as this is all done automatically.\n",
    "See below how we define a training function for our models:"
   ]
  },
  {
   "cell_type": "code",
   "execution_count": 14,
   "id": "0f84ec67",
   "metadata": {
    "execution": {
     "iopub.execute_input": "2021-09-13T14:15:19.272164Z",
     "iopub.status.busy": "2021-09-13T14:15:19.271680Z",
     "iopub.status.idle": "2021-09-13T14:15:19.273755Z",
     "shell.execute_reply": "2021-09-13T14:15:19.273286Z"
    },
    "lines_to_next_cell": 2,
    "papermill": {
     "duration": 0.045638,
     "end_time": "2021-09-13T14:15:19.273852",
     "exception": false,
     "start_time": "2021-09-13T14:15:19.228214",
     "status": "completed"
    },
    "tags": []
   },
   "outputs": [],
   "source": [
    "def train_model(model_name, save_name=None, **kwargs):\n",
    "    \"\"\"\n",
    "    Inputs:\n",
    "        model_name - Name of the model you want to run. Is used to look up the class in \"model_dict\"\n",
    "        save_name (optional) - If specified, this name will be used for creating the checkpoint and logging directory.\n",
    "    \"\"\"\n",
    "    if save_name is None:\n",
    "        save_name = model_name\n",
    "\n",
    "    # Create a PyTorch Lightning trainer with the generation callback\n",
    "    trainer = pl.Trainer(\n",
    "        default_root_dir=os.path.join(CHECKPOINT_PATH, save_name),  # Where to save models\n",
    "        # We run on a single GPU (if possible)\n",
    "        gpus=1 if str(device) == \"cuda:0\" else 0,\n",
    "        # How many epochs to train for if no patience is set\n",
    "        max_epochs=180,\n",
    "        callbacks=[\n",
    "            ModelCheckpoint(\n",
    "                save_weights_only=True, mode=\"max\", monitor=\"val_acc\"\n",
    "            ),  # Save the best checkpoint based on the maximum val_acc recorded. Saves only weights and not optimizer\n",
    "            LearningRateMonitor(\"epoch\"),\n",
    "        ],  # Log learning rate every epoch\n",
    "        progress_bar_refresh_rate=1,\n",
    "    )  # In case your notebook crashes due to the progress bar, consider increasing the refresh rate\n",
    "    trainer.logger._log_graph = True  # If True, we plot the computation graph in tensorboard\n",
    "    trainer.logger._default_hp_metric = None  # Optional logging argument that we don't need\n",
    "\n",
    "    # Check whether pretrained model exists. If yes, load it and skip training\n",
    "    pretrained_filename = os.path.join(CHECKPOINT_PATH, save_name + \".ckpt\")\n",
    "    if os.path.isfile(pretrained_filename):\n",
    "        print(f\"Found pretrained model at {pretrained_filename}, loading...\")\n",
    "        # Automatically loads the model with the saved hyperparameters\n",
    "        model = CIFARModule.load_from_checkpoint(pretrained_filename)\n",
    "    else:\n",
    "        pl.seed_everything(42)  # To be reproducable\n",
    "        model = CIFARModule(model_name=model_name, **kwargs)\n",
    "        trainer.fit(model, train_loader, val_loader)\n",
    "        model = CIFARModule.load_from_checkpoint(\n",
    "            trainer.checkpoint_callback.best_model_path\n",
    "        )  # Load best checkpoint after training\n",
    "\n",
    "    # Test best model on validation and test set\n",
    "    val_result = trainer.test(model, test_dataloaders=val_loader, verbose=False)\n",
    "    test_result = trainer.test(model, test_dataloaders=test_loader, verbose=False)\n",
    "    result = {\"test\": test_result[0][\"test_acc\"], \"val\": val_result[0][\"test_acc\"]}\n",
    "\n",
    "    return model, result"
   ]
  },
  {
   "cell_type": "markdown",
   "id": "dbba5297",
   "metadata": {
    "papermill": {
     "duration": 0.03689,
     "end_time": "2021-09-13T14:15:19.347886",
     "exception": false,
     "start_time": "2021-09-13T14:15:19.310996",
     "status": "completed"
    },
    "tags": []
   },
   "source": [
    "Finally, we can focus on the Convolutional Neural Networks we want to\n",
    "implement today: GoogleNet, ResNet, and DenseNet."
   ]
  },
  {
   "cell_type": "markdown",
   "id": "d9e3705e",
   "metadata": {
    "lines_to_next_cell": 2,
    "papermill": {
     "duration": 0.03757,
     "end_time": "2021-09-13T14:15:19.423309",
     "exception": false,
     "start_time": "2021-09-13T14:15:19.385739",
     "status": "completed"
    },
    "tags": []
   },
   "source": [
    "## Inception\n",
    "\n",
    "The [GoogleNet](https://arxiv.org/abs/1409.4842), proposed in 2014, won the ImageNet Challenge because of its usage of the Inception modules.\n",
    "In general, we will mainly focus on the concept of Inception in this tutorial instead of the specifics of the GoogleNet, as based on Inception, there have been many follow-up works ([Inception-v2](https://arxiv.org/abs/1512.00567), [Inception-v3](https://arxiv.org/abs/1512.00567), [Inception-v4](https://arxiv.org/abs/1602.07261), [Inception-ResNet](https://arxiv.org/abs/1602.07261),...).\n",
    "The follow-up works mainly focus on increasing efficiency and enabling very deep Inception networks.\n",
    "However, for a fundamental understanding, it is sufficient to look at the original Inception block.\n",
    "\n",
    "An Inception block applies four convolution blocks separately on the same feature map: a 1x1, 3x3, and 5x5 convolution, and a max pool operation.\n",
    "This allows the network to look at the same data with different receptive fields.\n",
    "Of course, learning only 5x5 convolution would be theoretically more powerful.\n",
    "However, this is not only more computation and memory heavy but also tends to overfit much easier.\n",
    "The overall inception block looks like below (figure credit - [Szegedy et al. ](https://arxiv.org/abs/1409.4842)):\n",
    "\n",
    "<center width=\"100%\"><img src=\"https://github.com/PyTorchLightning/lightning-tutorials/raw/main/course_UvA-DL/inception-resnet-densenet/inception_block.svg\" style=\"display: block; margin-left: auto; margin-right: auto;\" width=\"500px\"/></center>\n",
    "\n",
    "The additional 1x1 convolutions before the 3x3 and 5x5 convolutions are used for dimensionality reduction.\n",
    "This is especially crucial as the feature maps of all branches are merged afterward, and we don't want any explosion of feature size.\n",
    "As 5x5 convolutions are 25 times more expensive than 1x1 convolutions, we can save a lot of computation and parameters by reducing the dimensionality before the large convolutions.\n",
    "\n",
    "We can now try to implement the Inception Block ourselves:"
   ]
  },
  {
   "cell_type": "code",
   "execution_count": 15,
   "id": "970982a6",
   "metadata": {
    "execution": {
     "iopub.execute_input": "2021-09-13T14:15:19.507657Z",
     "iopub.status.busy": "2021-09-13T14:15:19.507164Z",
     "iopub.status.idle": "2021-09-13T14:15:19.508761Z",
     "shell.execute_reply": "2021-09-13T14:15:19.509148Z"
    },
    "lines_to_next_cell": 2,
    "papermill": {
     "duration": 0.04756,
     "end_time": "2021-09-13T14:15:19.509272",
     "exception": false,
     "start_time": "2021-09-13T14:15:19.461712",
     "status": "completed"
    },
    "tags": []
   },
   "outputs": [],
   "source": [
    "class InceptionBlock(nn.Module):\n",
    "    def __init__(self, c_in, c_red: dict, c_out: dict, act_fn):\n",
    "        \"\"\"\n",
    "        Inputs:\n",
    "            c_in - Number of input feature maps from the previous layers\n",
    "            c_red - Dictionary with keys \"3x3\" and \"5x5\" specifying the output of the dimensionality reducing 1x1 convolutions\n",
    "            c_out - Dictionary with keys \"1x1\", \"3x3\", \"5x5\", and \"max\"\n",
    "            act_fn - Activation class constructor (e.g. nn.ReLU)\n",
    "        \"\"\"\n",
    "        super().__init__()\n",
    "\n",
    "        # 1x1 convolution branch\n",
    "        self.conv_1x1 = nn.Sequential(\n",
    "            nn.Conv2d(c_in, c_out[\"1x1\"], kernel_size=1), nn.BatchNorm2d(c_out[\"1x1\"]), act_fn()\n",
    "        )\n",
    "\n",
    "        # 3x3 convolution branch\n",
    "        self.conv_3x3 = nn.Sequential(\n",
    "            nn.Conv2d(c_in, c_red[\"3x3\"], kernel_size=1),\n",
    "            nn.BatchNorm2d(c_red[\"3x3\"]),\n",
    "            act_fn(),\n",
    "            nn.Conv2d(c_red[\"3x3\"], c_out[\"3x3\"], kernel_size=3, padding=1),\n",
    "            nn.BatchNorm2d(c_out[\"3x3\"]),\n",
    "            act_fn(),\n",
    "        )\n",
    "\n",
    "        # 5x5 convolution branch\n",
    "        self.conv_5x5 = nn.Sequential(\n",
    "            nn.Conv2d(c_in, c_red[\"5x5\"], kernel_size=1),\n",
    "            nn.BatchNorm2d(c_red[\"5x5\"]),\n",
    "            act_fn(),\n",
    "            nn.Conv2d(c_red[\"5x5\"], c_out[\"5x5\"], kernel_size=5, padding=2),\n",
    "            nn.BatchNorm2d(c_out[\"5x5\"]),\n",
    "            act_fn(),\n",
    "        )\n",
    "\n",
    "        # Max-pool branch\n",
    "        self.max_pool = nn.Sequential(\n",
    "            nn.MaxPool2d(kernel_size=3, padding=1, stride=1),\n",
    "            nn.Conv2d(c_in, c_out[\"max\"], kernel_size=1),\n",
    "            nn.BatchNorm2d(c_out[\"max\"]),\n",
    "            act_fn(),\n",
    "        )\n",
    "\n",
    "    def forward(self, x):\n",
    "        x_1x1 = self.conv_1x1(x)\n",
    "        x_3x3 = self.conv_3x3(x)\n",
    "        x_5x5 = self.conv_5x5(x)\n",
    "        x_max = self.max_pool(x)\n",
    "        x_out = torch.cat([x_1x1, x_3x3, x_5x5, x_max], dim=1)\n",
    "        return x_out"
   ]
  },
  {
   "cell_type": "markdown",
   "id": "85f87da7",
   "metadata": {
    "lines_to_next_cell": 2,
    "papermill": {
     "duration": 0.037197,
     "end_time": "2021-09-13T14:15:19.583336",
     "exception": false,
     "start_time": "2021-09-13T14:15:19.546139",
     "status": "completed"
    },
    "tags": []
   },
   "source": [
    "The GoogleNet architecture consists of stacking multiple Inception blocks with occasional max pooling to reduce the height and width of the feature maps.\n",
    "The original GoogleNet was designed for image sizes of ImageNet (224x224 pixels) and had almost 7 million parameters.\n",
    "As we train on CIFAR10 with image sizes of 32x32, we don't require such a heavy architecture, and instead, apply a reduced version.\n",
    "The number of channels for dimensionality reduction and output per filter (1x1, 3x3, 5x5, and max pooling) need to be manually specified and can be changed if interested.\n",
    "The general intuition is to have the most filters for the 3x3\n",
    "convolutions, as they are powerful enough to take the context into\n",
    "account while requiring almost a third of the parameters of the 5x5\n",
    "convolution."
   ]
  },
  {
   "cell_type": "code",
   "execution_count": 16,
   "id": "2eee28bc",
   "metadata": {
    "execution": {
     "iopub.execute_input": "2021-09-13T14:15:19.670268Z",
     "iopub.status.busy": "2021-09-13T14:15:19.665238Z",
     "iopub.status.idle": "2021-09-13T14:15:19.672250Z",
     "shell.execute_reply": "2021-09-13T14:15:19.671844Z"
    },
    "papermill": {
     "duration": 0.051829,
     "end_time": "2021-09-13T14:15:19.672349",
     "exception": false,
     "start_time": "2021-09-13T14:15:19.620520",
     "status": "completed"
    },
    "tags": []
   },
   "outputs": [],
   "source": [
    "class GoogleNet(nn.Module):\n",
    "    def __init__(self, num_classes=10, act_fn_name=\"relu\", **kwargs):\n",
    "        super().__init__()\n",
    "        self.hparams = SimpleNamespace(\n",
    "            num_classes=num_classes, act_fn_name=act_fn_name, act_fn=act_fn_by_name[act_fn_name]\n",
    "        )\n",
    "        self._create_network()\n",
    "        self._init_params()\n",
    "\n",
    "    def _create_network(self):\n",
    "        # A first convolution on the original image to scale up the channel size\n",
    "        self.input_net = nn.Sequential(\n",
    "            nn.Conv2d(3, 64, kernel_size=3, padding=1), nn.BatchNorm2d(64), self.hparams.act_fn()\n",
    "        )\n",
    "        # Stacking inception blocks\n",
    "        self.inception_blocks = nn.Sequential(\n",
    "            InceptionBlock(\n",
    "                64,\n",
    "                c_red={\"3x3\": 32, \"5x5\": 16},\n",
    "                c_out={\"1x1\": 16, \"3x3\": 32, \"5x5\": 8, \"max\": 8},\n",
    "                act_fn=self.hparams.act_fn,\n",
    "            ),\n",
    "            InceptionBlock(\n",
    "                64,\n",
    "                c_red={\"3x3\": 32, \"5x5\": 16},\n",
    "                c_out={\"1x1\": 24, \"3x3\": 48, \"5x5\": 12, \"max\": 12},\n",
    "                act_fn=self.hparams.act_fn,\n",
    "            ),\n",
    "            nn.MaxPool2d(3, stride=2, padding=1),  # 32x32 => 16x16\n",
    "            InceptionBlock(\n",
    "                96,\n",
    "                c_red={\"3x3\": 32, \"5x5\": 16},\n",
    "                c_out={\"1x1\": 24, \"3x3\": 48, \"5x5\": 12, \"max\": 12},\n",
    "                act_fn=self.hparams.act_fn,\n",
    "            ),\n",
    "            InceptionBlock(\n",
    "                96,\n",
    "                c_red={\"3x3\": 32, \"5x5\": 16},\n",
    "                c_out={\"1x1\": 16, \"3x3\": 48, \"5x5\": 16, \"max\": 16},\n",
    "                act_fn=self.hparams.act_fn,\n",
    "            ),\n",
    "            InceptionBlock(\n",
    "                96,\n",
    "                c_red={\"3x3\": 32, \"5x5\": 16},\n",
    "                c_out={\"1x1\": 16, \"3x3\": 48, \"5x5\": 16, \"max\": 16},\n",
    "                act_fn=self.hparams.act_fn,\n",
    "            ),\n",
    "            InceptionBlock(\n",
    "                96,\n",
    "                c_red={\"3x3\": 32, \"5x5\": 16},\n",
    "                c_out={\"1x1\": 32, \"3x3\": 48, \"5x5\": 24, \"max\": 24},\n",
    "                act_fn=self.hparams.act_fn,\n",
    "            ),\n",
    "            nn.MaxPool2d(3, stride=2, padding=1),  # 16x16 => 8x8\n",
    "            InceptionBlock(\n",
    "                128,\n",
    "                c_red={\"3x3\": 48, \"5x5\": 16},\n",
    "                c_out={\"1x1\": 32, \"3x3\": 64, \"5x5\": 16, \"max\": 16},\n",
    "                act_fn=self.hparams.act_fn,\n",
    "            ),\n",
    "            InceptionBlock(\n",
    "                128,\n",
    "                c_red={\"3x3\": 48, \"5x5\": 16},\n",
    "                c_out={\"1x1\": 32, \"3x3\": 64, \"5x5\": 16, \"max\": 16},\n",
    "                act_fn=self.hparams.act_fn,\n",
    "            ),\n",
    "        )\n",
    "        # Mapping to classification output\n",
    "        self.output_net = nn.Sequential(\n",
    "            nn.AdaptiveAvgPool2d((1, 1)), nn.Flatten(), nn.Linear(128, self.hparams.num_classes)\n",
    "        )\n",
    "\n",
    "    def _init_params(self):\n",
    "        # Based on our discussion in Tutorial 4, we should initialize the\n",
    "        # convolutions according to the activation function\n",
    "        for m in self.modules():\n",
    "            if isinstance(m, nn.Conv2d):\n",
    "                nn.init.kaiming_normal_(m.weight, nonlinearity=self.hparams.act_fn_name)\n",
    "            elif isinstance(m, nn.BatchNorm2d):\n",
    "                nn.init.constant_(m.weight, 1)\n",
    "                nn.init.constant_(m.bias, 0)\n",
    "\n",
    "    def forward(self, x):\n",
    "        x = self.input_net(x)\n",
    "        x = self.inception_blocks(x)\n",
    "        x = self.output_net(x)\n",
    "        return x"
   ]
  },
  {
   "cell_type": "markdown",
   "id": "d6a90836",
   "metadata": {
    "papermill": {
     "duration": 0.037486,
     "end_time": "2021-09-13T14:15:19.747044",
     "exception": false,
     "start_time": "2021-09-13T14:15:19.709558",
     "status": "completed"
    },
    "tags": []
   },
   "source": [
    "Now, we can integrate our model to the model dictionary we defined above:"
   ]
  },
  {
   "cell_type": "code",
   "execution_count": 17,
   "id": "dd94bf4f",
   "metadata": {
    "execution": {
     "iopub.execute_input": "2021-09-13T14:15:19.824309Z",
     "iopub.status.busy": "2021-09-13T14:15:19.823835Z",
     "iopub.status.idle": "2021-09-13T14:15:19.825913Z",
     "shell.execute_reply": "2021-09-13T14:15:19.825469Z"
    },
    "papermill": {
     "duration": 0.041662,
     "end_time": "2021-09-13T14:15:19.826012",
     "exception": false,
     "start_time": "2021-09-13T14:15:19.784350",
     "status": "completed"
    },
    "tags": []
   },
   "outputs": [],
   "source": [
    "model_dict[\"GoogleNet\"] = GoogleNet"
   ]
  },
  {
   "cell_type": "markdown",
   "id": "26bbe921",
   "metadata": {
    "papermill": {
     "duration": 0.037359,
     "end_time": "2021-09-13T14:15:19.900304",
     "exception": false,
     "start_time": "2021-09-13T14:15:19.862945",
     "status": "completed"
    },
    "tags": []
   },
   "source": [
    "The training of the model is handled by PyTorch Lightning, and we just have to define the command to start.\n",
    "Note that we train for almost 200 epochs, which takes about an hour on Lisa's default GPUs (GTX1080Ti).\n",
    "We would recommend using the saved models and train your own model if you are interested."
   ]
  },
  {
   "cell_type": "code",
   "execution_count": 18,
   "id": "deabea2a",
   "metadata": {
    "execution": {
     "iopub.execute_input": "2021-09-13T14:15:19.981536Z",
     "iopub.status.busy": "2021-09-13T14:15:19.981060Z",
     "iopub.status.idle": "2021-09-13T14:15:24.747954Z",
     "shell.execute_reply": "2021-09-13T14:15:24.747452Z"
    },
    "papermill": {
     "duration": 4.810241,
     "end_time": "2021-09-13T14:15:24.748071",
     "exception": false,
     "start_time": "2021-09-13T14:15:19.937830",
     "status": "completed"
    },
    "tags": []
   },
   "outputs": [
    {
     "name": "stderr",
     "output_type": "stream",
     "text": [
      "GPU available: True, used: True\n"
     ]
    },
    {
     "name": "stderr",
     "output_type": "stream",
     "text": [
      "TPU available: False, using: 0 TPU cores\n"
     ]
    },
    {
     "name": "stderr",
     "output_type": "stream",
     "text": [
      "IPU available: False, using: 0 IPUs\n"
     ]
    },
    {
     "name": "stderr",
     "output_type": "stream",
     "text": [
      "/home/AzDevOps_azpcontainer/.local/lib/python3.9/site-packages/pytorch_lightning/trainer/trainer.py:678: LightningDeprecationWarning: `trainer.test(test_dataloaders)` is deprecated in v1.4 and will be removed in v1.6. Use `trainer.test(dataloaders)` instead.\n",
      "  rank_zero_deprecation(\n",
      "LOCAL_RANK: 0 - CUDA_VISIBLE_DEVICES: [0,1]\n"
     ]
    },
    {
     "name": "stderr",
     "output_type": "stream",
     "text": [
      "/usr/local/lib/python3.9/dist-packages/torch/_jit_internal.py:603: LightningDeprecationWarning: The `LightningModule.datamodule` property is deprecated in v1.3 and will be removed in v1.5. Access the datamodule through using `self.trainer.datamodule` instead.\n",
      "  if hasattr(mod, name):\n",
      "/usr/local/lib/python3.9/dist-packages/torch/_jit_internal.py:603: LightningDeprecationWarning: The `LightningModule.loaded_optimizer_states_dict` property is deprecated in v1.4 and will be removed in v1.6.\n",
      "  if hasattr(mod, name):\n"
     ]
    },
    {
     "name": "stdout",
     "output_type": "stream",
     "text": [
      "Found pretrained model at saved_models/ConvNets/GoogleNet.ckpt, loading...\n"
     ]
    },
    {
     "data": {
      "application/vnd.jupyter.widget-view+json": {
       "model_id": "1ef8d226b08d4f218109da3c72f3a690",
       "version_major": 2,
       "version_minor": 0
      },
      "text/plain": [
       "Testing: 0it [00:00, ?it/s]"
      ]
     },
     "metadata": {},
     "output_type": "display_data"
    },
    {
     "name": "stderr",
     "output_type": "stream",
     "text": [
      "LOCAL_RANK: 0 - CUDA_VISIBLE_DEVICES: [0,1]\n"
     ]
    },
    {
     "data": {
      "application/vnd.jupyter.widget-view+json": {
       "model_id": "2ded07ec46f04295b01e84f985dacd89",
       "version_major": 2,
       "version_minor": 0
      },
      "text/plain": [
       "Testing: 0it [00:00, ?it/s]"
      ]
     },
     "metadata": {},
     "output_type": "display_data"
    }
   ],
   "source": [
    "googlenet_model, googlenet_results = train_model(\n",
    "    model_name=\"GoogleNet\",\n",
    "    model_hparams={\"num_classes\": 10, \"act_fn_name\": \"relu\"},\n",
    "    optimizer_name=\"Adam\",\n",
    "    optimizer_hparams={\"lr\": 1e-3, \"weight_decay\": 1e-4},\n",
    ")"
   ]
  },
  {
   "cell_type": "markdown",
   "id": "332077fd",
   "metadata": {
    "papermill": {
     "duration": 0.039424,
     "end_time": "2021-09-13T14:15:24.827399",
     "exception": false,
     "start_time": "2021-09-13T14:15:24.787975",
     "status": "completed"
    },
    "tags": []
   },
   "source": [
    "We will compare the results later in the notebooks, but we can already print them here for a first glance:"
   ]
  },
  {
   "cell_type": "code",
   "execution_count": 19,
   "id": "80218b3f",
   "metadata": {
    "execution": {
     "iopub.execute_input": "2021-09-13T14:15:24.910046Z",
     "iopub.status.busy": "2021-09-13T14:15:24.909570Z",
     "iopub.status.idle": "2021-09-13T14:15:24.912108Z",
     "shell.execute_reply": "2021-09-13T14:15:24.911633Z"
    },
    "papermill": {
     "duration": 0.045588,
     "end_time": "2021-09-13T14:15:24.912210",
     "exception": false,
     "start_time": "2021-09-13T14:15:24.866622",
     "status": "completed"
    },
    "tags": []
   },
   "outputs": [
    {
     "name": "stdout",
     "output_type": "stream",
     "text": [
      "GoogleNet Results {'test': 0.8970000147819519, 'val': 0.9039999842643738}\n"
     ]
    }
   ],
   "source": [
    "print(\"GoogleNet Results\", googlenet_results)"
   ]
  },
  {
   "cell_type": "markdown",
   "id": "55288566",
   "metadata": {
    "papermill": {
     "duration": 0.039585,
     "end_time": "2021-09-13T14:15:24.991443",
     "exception": false,
     "start_time": "2021-09-13T14:15:24.951858",
     "status": "completed"
    },
    "tags": []
   },
   "source": [
    "### Tensorboard log\n",
    "\n",
    "A nice extra of PyTorch Lightning is the automatic logging into TensorBoard.\n",
    "To give you a better intuition of what TensorBoard can be used, we can look at the board that PyTorch Lightning has been generated when training the GoogleNet.\n",
    "TensorBoard provides an inline functionality for Jupyter notebooks, and we use it here:"
   ]
  },
  {
   "cell_type": "code",
   "execution_count": 20,
   "id": "b40b662c",
   "metadata": {
    "execution": {
     "iopub.execute_input": "2021-09-13T14:15:25.073996Z",
     "iopub.status.busy": "2021-09-13T14:15:25.073522Z",
     "iopub.status.idle": "2021-09-13T14:15:25.075609Z",
     "shell.execute_reply": "2021-09-13T14:15:25.075137Z"
    },
    "papermill": {
     "duration": 0.04415,
     "end_time": "2021-09-13T14:15:25.075706",
     "exception": false,
     "start_time": "2021-09-13T14:15:25.031556",
     "status": "completed"
    },
    "tags": []
   },
   "outputs": [],
   "source": [
    "# Import tensorboard\n",
    "# %load_ext tensorboard"
   ]
  },
  {
   "cell_type": "code",
   "execution_count": 21,
   "id": "a2420052",
   "metadata": {
    "execution": {
     "iopub.execute_input": "2021-09-13T14:15:25.164047Z",
     "iopub.status.busy": "2021-09-13T14:15:25.163571Z",
     "iopub.status.idle": "2021-09-13T14:15:25.165595Z",
     "shell.execute_reply": "2021-09-13T14:15:25.165193Z"
    },
    "papermill": {
     "duration": 0.044048,
     "end_time": "2021-09-13T14:15:25.165694",
     "exception": false,
     "start_time": "2021-09-13T14:15:25.121646",
     "status": "completed"
    },
    "tags": []
   },
   "outputs": [],
   "source": [
    "# Opens tensorboard in notebook. Adjust the path to your CHECKPOINT_PATH!\n",
    "# %tensorboard --logdir ../saved_models/tutorial5/tensorboards/GoogleNet/"
   ]
  },
  {
   "cell_type": "markdown",
   "id": "6bba2155",
   "metadata": {
    "papermill": {
     "duration": 0.039761,
     "end_time": "2021-09-13T14:15:25.245463",
     "exception": false,
     "start_time": "2021-09-13T14:15:25.205702",
     "status": "completed"
    },
    "tags": []
   },
   "source": [
    "<center width=\"100%\"><img src=\"https://github.com/PyTorchLightning/lightning-tutorials/raw/main/course_UvA-DL/inception-resnet-densenet/tensorboard_screenshot_GoogleNet.png\" width=\"1000px\"></center>\n",
    "\n",
    "TensorBoard is organized in multiple tabs.\n",
    "The main tab is the scalar tab where we can log the development of single numbers.\n",
    "For example, we have plotted the training loss, accuracy, learning rate, etc.\n",
    "If we look at the training or validation accuracy, we can really see the impact of using a learning rate scheduler.\n",
    "Reducing the learning rate gives our model a nice increase in training performance.\n",
    "Similarly, when looking at the training loss, we see a sudden decrease at this point.\n",
    "However, the high numbers on the training set compared to validation indicate that our model was overfitting which is inevitable for such large networks.\n",
    "\n",
    "Another interesting tab in TensorBoard is the graph tab.\n",
    "It shows us the network architecture organized by building blocks from the input to the output.\n",
    "It basically shows the operations taken in the forward step of `CIFARModule`.\n",
    "Double-click on a module to open it.\n",
    "Feel free to explore the architecture from a different perspective.\n",
    "The graph visualization can often help you to validate that your model\n",
    "is actually doing what it is supposed to do, and you don't miss any\n",
    "layers in the computation graph."
   ]
  },
  {
   "cell_type": "markdown",
   "id": "20c44ac5",
   "metadata": {
    "papermill": {
     "duration": 0.039764,
     "end_time": "2021-09-13T14:15:25.325084",
     "exception": false,
     "start_time": "2021-09-13T14:15:25.285320",
     "status": "completed"
    },
    "tags": []
   },
   "source": [
    "## ResNet\n",
    "\n",
    "The [ResNet](https://arxiv.org/abs/1512.03385) paper is one of the  [most cited AI papers](https://www.natureindex.com/news-blog/google-scholar-reveals-most-influential-papers-research-citations-twenty-twenty), and has been the foundation for neural networks with more than 1,000 layers.\n",
    "Despite its simplicity, the idea of residual connections is highly effective as it supports stable gradient propagation through the network.\n",
    "Instead of modeling $x_{l+1}=F(x_{l})$, we model $x_{l+1}=x_{l}+F(x_{l})$ where $F$ is a non-linear mapping (usually a sequence of NN modules likes convolutions, activation functions, and normalizations).\n",
    "If we do backpropagation on such residual connections, we obtain:\n",
    "\n",
    "$$\\frac{\\partial x_{l+1}}{\\partial x_{l}} = \\mathbf{I} + \\frac{\\partial F(x_{l})}{\\partial x_{l}}$$\n",
    "\n",
    "The bias towards the identity matrix guarantees a stable gradient propagation being less effected by $F$ itself.\n",
    "There have been many variants of ResNet proposed, which mostly concern the function $F$, or operations applied on the sum.\n",
    "In this tutorial, we look at two of them: the original ResNet block, and the [Pre-Activation ResNet block](https://arxiv.org/abs/1603.05027).\n",
    "We visually compare the blocks below (figure credit - [He et al. ](https://arxiv.org/abs/1603.05027)):\n",
    "\n",
    "<center width=\"100%\"><img src=\"https://github.com/PyTorchLightning/lightning-tutorials/raw/main/course_UvA-DL/inception-resnet-densenet/resnet_block.svg\" style=\"display: block; margin-left: auto; margin-right: auto;\" width=\"300px\"/></center>\n",
    "\n",
    "The original ResNet block applies a non-linear activation function, usually ReLU, after the skip connection.\n",
    "In contrast, the pre-activation ResNet block applies the non-linearity at the beginning of $F$.\n",
    "Both have their advantages and disadvantages.\n",
    "For very deep network, however, the pre-activation ResNet has shown to perform better as the gradient flow is guaranteed to have the identity matrix as calculated above, and is not harmed by any non-linear activation applied to it.\n",
    "For comparison, in this notebook, we implement both ResNet types as shallow networks.\n",
    "\n",
    "Let's start with the original ResNet block.\n",
    "The visualization above already shows what layers are included in $F$.\n",
    "One special case we have to handle is when we want to reduce the image dimensions in terms of width and height.\n",
    "The basic ResNet block requires $F(x_{l})$ to be of the same shape as $x_{l}$.\n",
    "Thus, we need to change the dimensionality of $x_{l}$ as well before adding to $F(x_{l})$.\n",
    "The original implementation used an identity mapping with stride 2 and padded additional feature dimensions with 0.\n",
    "However, the more common implementation is to use a 1x1 convolution with stride 2 as it allows us to change the feature dimensionality while being efficient in parameter and computation cost.\n",
    "The code for the ResNet block is relatively simple, and shown below:"
   ]
  },
  {
   "cell_type": "code",
   "execution_count": 22,
   "id": "46af59bb",
   "metadata": {
    "execution": {
     "iopub.execute_input": "2021-09-13T14:15:25.411242Z",
     "iopub.status.busy": "2021-09-13T14:15:25.410752Z",
     "iopub.status.idle": "2021-09-13T14:15:25.412428Z",
     "shell.execute_reply": "2021-09-13T14:15:25.412812Z"
    },
    "lines_to_next_cell": 2,
    "papermill": {
     "duration": 0.047803,
     "end_time": "2021-09-13T14:15:25.412926",
     "exception": false,
     "start_time": "2021-09-13T14:15:25.365123",
     "status": "completed"
    },
    "tags": []
   },
   "outputs": [],
   "source": [
    "\n",
    "\n",
    "class ResNetBlock(nn.Module):\n",
    "    def __init__(self, c_in, act_fn, subsample=False, c_out=-1):\n",
    "        \"\"\"\n",
    "        Inputs:\n",
    "            c_in - Number of input features\n",
    "            act_fn - Activation class constructor (e.g. nn.ReLU)\n",
    "            subsample - If True, we want to apply a stride inside the block and reduce the output shape by 2 in height and width\n",
    "            c_out - Number of output features. Note that this is only relevant if subsample is True, as otherwise, c_out = c_in\n",
    "        \"\"\"\n",
    "        super().__init__()\n",
    "        if not subsample:\n",
    "            c_out = c_in\n",
    "\n",
    "        # Network representing F\n",
    "        self.net = nn.Sequential(\n",
    "            nn.Conv2d(\n",
    "                c_in, c_out, kernel_size=3, padding=1, stride=1 if not subsample else 2, bias=False\n",
    "            ),  # No bias needed as the Batch Norm handles it\n",
    "            nn.BatchNorm2d(c_out),\n",
    "            act_fn(),\n",
    "            nn.Conv2d(c_out, c_out, kernel_size=3, padding=1, bias=False),\n",
    "            nn.BatchNorm2d(c_out),\n",
    "        )\n",
    "\n",
    "        # 1x1 convolution with stride 2 means we take the upper left value, and transform it to new output size\n",
    "        self.downsample = nn.Conv2d(c_in, c_out, kernel_size=1, stride=2) if subsample else None\n",
    "        self.act_fn = act_fn()\n",
    "\n",
    "    def forward(self, x):\n",
    "        z = self.net(x)\n",
    "        if self.downsample is not None:\n",
    "            x = self.downsample(x)\n",
    "        out = z + x\n",
    "        out = self.act_fn(out)\n",
    "        return out"
   ]
  },
  {
   "cell_type": "markdown",
   "id": "eeebd740",
   "metadata": {
    "lines_to_next_cell": 2,
    "papermill": {
     "duration": 0.039977,
     "end_time": "2021-09-13T14:15:25.493959",
     "exception": false,
     "start_time": "2021-09-13T14:15:25.453982",
     "status": "completed"
    },
    "tags": []
   },
   "source": [
    "The second block we implement is the pre-activation ResNet block.\n",
    "For this, we have to change the order of layer in `self.net`, and do not apply an activation function on the output.\n",
    "Additionally, the downsampling operation has to apply a non-linearity as well as the input, $x_l$, has not been processed by a non-linearity yet.\n",
    "Hence, the block looks as follows:"
   ]
  },
  {
   "cell_type": "code",
   "execution_count": 23,
   "id": "07ec3367",
   "metadata": {
    "execution": {
     "iopub.execute_input": "2021-09-13T14:15:25.580698Z",
     "iopub.status.busy": "2021-09-13T14:15:25.580214Z",
     "iopub.status.idle": "2021-09-13T14:15:25.582302Z",
     "shell.execute_reply": "2021-09-13T14:15:25.581786Z"
    },
    "papermill": {
     "duration": 0.047647,
     "end_time": "2021-09-13T14:15:25.582420",
     "exception": false,
     "start_time": "2021-09-13T14:15:25.534773",
     "status": "completed"
    },
    "tags": []
   },
   "outputs": [],
   "source": [
    "class PreActResNetBlock(nn.Module):\n",
    "    def __init__(self, c_in, act_fn, subsample=False, c_out=-1):\n",
    "        \"\"\"\n",
    "        Inputs:\n",
    "            c_in - Number of input features\n",
    "            act_fn - Activation class constructor (e.g. nn.ReLU)\n",
    "            subsample - If True, we want to apply a stride inside the block and reduce the output shape by 2 in height and width\n",
    "            c_out - Number of output features. Note that this is only relevant if subsample is True, as otherwise, c_out = c_in\n",
    "        \"\"\"\n",
    "        super().__init__()\n",
    "        if not subsample:\n",
    "            c_out = c_in\n",
    "\n",
    "        # Network representing F\n",
    "        self.net = nn.Sequential(\n",
    "            nn.BatchNorm2d(c_in),\n",
    "            act_fn(),\n",
    "            nn.Conv2d(c_in, c_out, kernel_size=3, padding=1, stride=1 if not subsample else 2, bias=False),\n",
    "            nn.BatchNorm2d(c_out),\n",
    "            act_fn(),\n",
    "            nn.Conv2d(c_out, c_out, kernel_size=3, padding=1, bias=False),\n",
    "        )\n",
    "\n",
    "        # 1x1 convolution needs to apply non-linearity as well as not done on skip connection\n",
    "        self.downsample = (\n",
    "            nn.Sequential(nn.BatchNorm2d(c_in), act_fn(), nn.Conv2d(c_in, c_out, kernel_size=1, stride=2, bias=False))\n",
    "            if subsample\n",
    "            else None\n",
    "        )\n",
    "\n",
    "    def forward(self, x):\n",
    "        z = self.net(x)\n",
    "        if self.downsample is not None:\n",
    "            x = self.downsample(x)\n",
    "        out = z + x\n",
    "        return out"
   ]
  },
  {
   "cell_type": "markdown",
   "id": "335b7446",
   "metadata": {
    "papermill": {
     "duration": 0.040085,
     "end_time": "2021-09-13T14:15:25.662118",
     "exception": false,
     "start_time": "2021-09-13T14:15:25.622033",
     "status": "completed"
    },
    "tags": []
   },
   "source": [
    "Similarly to the model selection, we define a dictionary to create a mapping from string to block class.\n",
    "We will use the string name as hyperparameter value in our model to choose between the ResNet blocks.\n",
    "Feel free to implement any other ResNet block type and add it here as well."
   ]
  },
  {
   "cell_type": "code",
   "execution_count": 24,
   "id": "d1d6da67",
   "metadata": {
    "execution": {
     "iopub.execute_input": "2021-09-13T14:15:25.746005Z",
     "iopub.status.busy": "2021-09-13T14:15:25.745530Z",
     "iopub.status.idle": "2021-09-13T14:15:25.747546Z",
     "shell.execute_reply": "2021-09-13T14:15:25.747139Z"
    },
    "papermill": {
     "duration": 0.045265,
     "end_time": "2021-09-13T14:15:25.747644",
     "exception": false,
     "start_time": "2021-09-13T14:15:25.702379",
     "status": "completed"
    },
    "tags": []
   },
   "outputs": [],
   "source": [
    "resnet_blocks_by_name = {\"ResNetBlock\": ResNetBlock, \"PreActResNetBlock\": PreActResNetBlock}"
   ]
  },
  {
   "cell_type": "markdown",
   "id": "9ce2f467",
   "metadata": {
    "lines_to_next_cell": 2,
    "papermill": {
     "duration": 0.039951,
     "end_time": "2021-09-13T14:15:25.827957",
     "exception": false,
     "start_time": "2021-09-13T14:15:25.788006",
     "status": "completed"
    },
    "tags": []
   },
   "source": [
    "The overall ResNet architecture consists of stacking multiple ResNet blocks, of which some are downsampling the input.\n",
    "When talking about ResNet blocks in the whole network, we usually group them by the same output shape.\n",
    "Hence, if we say the ResNet has `[3,3,3]` blocks, it means that we have 3 times a group of 3 ResNet blocks, where a subsampling is taking place in the fourth and seventh block.\n",
    "The ResNet with `[3,3,3]` blocks on CIFAR10 is visualized below.\n",
    "\n",
    "<center width=\"100%\"><img src=\"https://github.com/PyTorchLightning/lightning-tutorials/raw/main/course_UvA-DL/inception-resnet-densenet/resnet_notation.svg\" width=\"500px\"></center>\n",
    "\n",
    "The three groups operate on the resolutions $32\\times32$, $16\\times16$ and $8\\times8$ respectively.\n",
    "The blocks in orange denote ResNet blocks with downsampling.\n",
    "The same notation is used by many other implementations such as in the [torchvision library](https://pytorch.org/docs/stable/_modules/torchvision/models/resnet.html#resnet18) from PyTorch.\n",
    "Thus, our code looks as follows:"
   ]
  },
  {
   "cell_type": "code",
   "execution_count": 25,
   "id": "3abe4a8c",
   "metadata": {
    "execution": {
     "iopub.execute_input": "2021-09-13T14:15:25.917819Z",
     "iopub.status.busy": "2021-09-13T14:15:25.914885Z",
     "iopub.status.idle": "2021-09-13T14:15:25.919841Z",
     "shell.execute_reply": "2021-09-13T14:15:25.919372Z"
    },
    "papermill": {
     "duration": 0.051994,
     "end_time": "2021-09-13T14:15:25.919939",
     "exception": false,
     "start_time": "2021-09-13T14:15:25.867945",
     "status": "completed"
    },
    "tags": []
   },
   "outputs": [],
   "source": [
    "class ResNet(nn.Module):\n",
    "    def __init__(\n",
    "        self,\n",
    "        num_classes=10,\n",
    "        num_blocks=[3, 3, 3],\n",
    "        c_hidden=[16, 32, 64],\n",
    "        act_fn_name=\"relu\",\n",
    "        block_name=\"ResNetBlock\",\n",
    "        **kwargs,\n",
    "    ):\n",
    "        \"\"\"\n",
    "        Inputs:\n",
    "            num_classes - Number of classification outputs (10 for CIFAR10)\n",
    "            num_blocks - List with the number of ResNet blocks to use. The first block of each group uses downsampling, except the first.\n",
    "            c_hidden - List with the hidden dimensionalities in the different blocks. Usually multiplied by 2 the deeper we go.\n",
    "            act_fn_name - Name of the activation function to use, looked up in \"act_fn_by_name\"\n",
    "            block_name - Name of the ResNet block, looked up in \"resnet_blocks_by_name\"\n",
    "        \"\"\"\n",
    "        super().__init__()\n",
    "        assert block_name in resnet_blocks_by_name\n",
    "        self.hparams = SimpleNamespace(\n",
    "            num_classes=num_classes,\n",
    "            c_hidden=c_hidden,\n",
    "            num_blocks=num_blocks,\n",
    "            act_fn_name=act_fn_name,\n",
    "            act_fn=act_fn_by_name[act_fn_name],\n",
    "            block_class=resnet_blocks_by_name[block_name],\n",
    "        )\n",
    "        self._create_network()\n",
    "        self._init_params()\n",
    "\n",
    "    def _create_network(self):\n",
    "        c_hidden = self.hparams.c_hidden\n",
    "\n",
    "        # A first convolution on the original image to scale up the channel size\n",
    "        if self.hparams.block_class == PreActResNetBlock:  # => Don't apply non-linearity on output\n",
    "            self.input_net = nn.Sequential(nn.Conv2d(3, c_hidden[0], kernel_size=3, padding=1, bias=False))\n",
    "        else:\n",
    "            self.input_net = nn.Sequential(\n",
    "                nn.Conv2d(3, c_hidden[0], kernel_size=3, padding=1, bias=False),\n",
    "                nn.BatchNorm2d(c_hidden[0]),\n",
    "                self.hparams.act_fn(),\n",
    "            )\n",
    "\n",
    "        # Creating the ResNet blocks\n",
    "        blocks = []\n",
    "        for block_idx, block_count in enumerate(self.hparams.num_blocks):\n",
    "            for bc in range(block_count):\n",
    "                # Subsample the first block of each group, except the very first one.\n",
    "                subsample = bc == 0 and block_idx > 0\n",
    "                blocks.append(\n",
    "                    self.hparams.block_class(\n",
    "                        c_in=c_hidden[block_idx if not subsample else (block_idx - 1)],\n",
    "                        act_fn=self.hparams.act_fn,\n",
    "                        subsample=subsample,\n",
    "                        c_out=c_hidden[block_idx],\n",
    "                    )\n",
    "                )\n",
    "        self.blocks = nn.Sequential(*blocks)\n",
    "\n",
    "        # Mapping to classification output\n",
    "        self.output_net = nn.Sequential(\n",
    "            nn.AdaptiveAvgPool2d((1, 1)), nn.Flatten(), nn.Linear(c_hidden[-1], self.hparams.num_classes)\n",
    "        )\n",
    "\n",
    "    def _init_params(self):\n",
    "        # Based on our discussion in Tutorial 4, we should initialize the convolutions according to the activation function\n",
    "        # Fan-out focuses on the gradient distribution, and is commonly used in ResNets\n",
    "        for m in self.modules():\n",
    "            if isinstance(m, nn.Conv2d):\n",
    "                nn.init.kaiming_normal_(m.weight, mode=\"fan_out\", nonlinearity=self.hparams.act_fn_name)\n",
    "            elif isinstance(m, nn.BatchNorm2d):\n",
    "                nn.init.constant_(m.weight, 1)\n",
    "                nn.init.constant_(m.bias, 0)\n",
    "\n",
    "    def forward(self, x):\n",
    "        x = self.input_net(x)\n",
    "        x = self.blocks(x)\n",
    "        x = self.output_net(x)\n",
    "        return x"
   ]
  },
  {
   "cell_type": "markdown",
   "id": "dd34a3fc",
   "metadata": {
    "papermill": {
     "duration": 0.040024,
     "end_time": "2021-09-13T14:15:26.000119",
     "exception": false,
     "start_time": "2021-09-13T14:15:25.960095",
     "status": "completed"
    },
    "tags": []
   },
   "source": [
    "We also need to add the new ResNet class to our model dictionary:"
   ]
  },
  {
   "cell_type": "code",
   "execution_count": 26,
   "id": "097bdae7",
   "metadata": {
    "execution": {
     "iopub.execute_input": "2021-09-13T14:15:26.087055Z",
     "iopub.status.busy": "2021-09-13T14:15:26.086106Z",
     "iopub.status.idle": "2021-09-13T14:15:26.089685Z",
     "shell.execute_reply": "2021-09-13T14:15:26.089215Z"
    },
    "papermill": {
     "duration": 0.049101,
     "end_time": "2021-09-13T14:15:26.089783",
     "exception": false,
     "start_time": "2021-09-13T14:15:26.040682",
     "status": "completed"
    },
    "tags": []
   },
   "outputs": [],
   "source": [
    "model_dict[\"ResNet\"] = ResNet"
   ]
  },
  {
   "cell_type": "markdown",
   "id": "7eefbcd5",
   "metadata": {
    "papermill": {
     "duration": 0.040545,
     "end_time": "2021-09-13T14:15:26.170414",
     "exception": false,
     "start_time": "2021-09-13T14:15:26.129869",
     "status": "completed"
    },
    "tags": []
   },
   "source": [
    "Finally, we can train our ResNet models.\n",
    "One difference to the GoogleNet training is that we explicitly use SGD with Momentum as optimizer instead of Adam.\n",
    "Adam often leads to a slightly worse accuracy on plain, shallow ResNets.\n",
    "It is not 100% clear why Adam performs worse in this context, but one possible explanation is related to ResNet's loss surface.\n",
    "ResNet has been shown to produce smoother loss surfaces than networks without skip connection (see [Li et al., 2018](https://arxiv.org/pdf/1712.09913.pdf) for details).\n",
    "A possible visualization of the loss surface with/out skip connections is below (figure credit - [Li et al. ](https://arxiv.org/pdf/1712.09913.pdf)):\n",
    "\n",
    "<center width=\"100%\"><img src=\"https://github.com/PyTorchLightning/lightning-tutorials/raw/main/course_UvA-DL/inception-resnet-densenet/resnet_loss_surface.png\" style=\"display: block; margin-left: auto; margin-right: auto;\" width=\"600px\"/></center>\n",
    "\n",
    "The $x$ and $y$ axis shows a projection of the parameter space, and the $z$ axis shows the loss values achieved by different parameter values.\n",
    "On smooth surfaces like the one on the right, we might not require an adaptive learning rate as Adam provides.\n",
    "Instead, Adam can get stuck in local optima while SGD finds the wider minima that tend to generalize better.\n",
    "However, to answer this question in detail, we would need an extra tutorial because it is not easy to answer.\n",
    "For now, we conclude: for ResNet architectures, consider the optimizer to be an important hyperparameter, and try training with both Adam and SGD.\n",
    "Let's train the model below with SGD:"
   ]
  },
  {
   "cell_type": "code",
   "execution_count": 27,
   "id": "463311d5",
   "metadata": {
    "execution": {
     "iopub.execute_input": "2021-09-13T14:15:26.257814Z",
     "iopub.status.busy": "2021-09-13T14:15:26.255899Z",
     "iopub.status.idle": "2021-09-13T14:15:28.471978Z",
     "shell.execute_reply": "2021-09-13T14:15:28.472373Z"
    },
    "papermill": {
     "duration": 2.261184,
     "end_time": "2021-09-13T14:15:28.472519",
     "exception": false,
     "start_time": "2021-09-13T14:15:26.211335",
     "status": "completed"
    },
    "tags": []
   },
   "outputs": [
    {
     "name": "stderr",
     "output_type": "stream",
     "text": [
      "GPU available: True, used: True\n"
     ]
    },
    {
     "name": "stderr",
     "output_type": "stream",
     "text": [
      "TPU available: False, using: 0 TPU cores\n"
     ]
    },
    {
     "name": "stderr",
     "output_type": "stream",
     "text": [
      "IPU available: False, using: 0 IPUs\n"
     ]
    },
    {
     "name": "stderr",
     "output_type": "stream",
     "text": [
      "LOCAL_RANK: 0 - CUDA_VISIBLE_DEVICES: [0,1]\n"
     ]
    },
    {
     "name": "stdout",
     "output_type": "stream",
     "text": [
      "Found pretrained model at saved_models/ConvNets/ResNet.ckpt, loading...\n"
     ]
    },
    {
     "data": {
      "application/vnd.jupyter.widget-view+json": {
       "model_id": "1e14141f82764781bf5f23b9f51f093e",
       "version_major": 2,
       "version_minor": 0
      },
      "text/plain": [
       "Testing: 0it [00:00, ?it/s]"
      ]
     },
     "metadata": {},
     "output_type": "display_data"
    },
    {
     "name": "stderr",
     "output_type": "stream",
     "text": [
      "LOCAL_RANK: 0 - CUDA_VISIBLE_DEVICES: [0,1]\n"
     ]
    },
    {
     "data": {
      "application/vnd.jupyter.widget-view+json": {
       "model_id": "8068a26b43bc4a03aa7fa4fc17a0090b",
       "version_major": 2,
       "version_minor": 0
      },
      "text/plain": [
       "Testing: 0it [00:00, ?it/s]"
      ]
     },
     "metadata": {},
     "output_type": "display_data"
    }
   ],
   "source": [
    "resnet_model, resnet_results = train_model(\n",
    "    model_name=\"ResNet\",\n",
    "    model_hparams={\"num_classes\": 10, \"c_hidden\": [16, 32, 64], \"num_blocks\": [3, 3, 3], \"act_fn_name\": \"relu\"},\n",
    "    optimizer_name=\"SGD\",\n",
    "    optimizer_hparams={\"lr\": 0.1, \"momentum\": 0.9, \"weight_decay\": 1e-4},\n",
    ")"
   ]
  },
  {
   "cell_type": "markdown",
   "id": "19902651",
   "metadata": {
    "papermill": {
     "duration": 0.042078,
     "end_time": "2021-09-13T14:15:28.557452",
     "exception": false,
     "start_time": "2021-09-13T14:15:28.515374",
     "status": "completed"
    },
    "tags": []
   },
   "source": [
    "Let's also train the pre-activation ResNet as comparison:"
   ]
  },
  {
   "cell_type": "code",
   "execution_count": 28,
   "id": "06baacbe",
   "metadata": {
    "execution": {
     "iopub.execute_input": "2021-09-13T14:15:28.648328Z",
     "iopub.status.busy": "2021-09-13T14:15:28.646464Z",
     "iopub.status.idle": "2021-09-13T14:15:30.881186Z",
     "shell.execute_reply": "2021-09-13T14:15:30.881650Z"
    },
    "papermill": {
     "duration": 2.281619,
     "end_time": "2021-09-13T14:15:30.881794",
     "exception": false,
     "start_time": "2021-09-13T14:15:28.600175",
     "status": "completed"
    },
    "tags": []
   },
   "outputs": [
    {
     "name": "stderr",
     "output_type": "stream",
     "text": [
      "GPU available: True, used: True\n"
     ]
    },
    {
     "name": "stderr",
     "output_type": "stream",
     "text": [
      "TPU available: False, using: 0 TPU cores\n"
     ]
    },
    {
     "name": "stderr",
     "output_type": "stream",
     "text": [
      "IPU available: False, using: 0 IPUs\n"
     ]
    },
    {
     "name": "stderr",
     "output_type": "stream",
     "text": [
      "LOCAL_RANK: 0 - CUDA_VISIBLE_DEVICES: [0,1]\n"
     ]
    },
    {
     "name": "stdout",
     "output_type": "stream",
     "text": [
      "Found pretrained model at saved_models/ConvNets/ResNetPreAct.ckpt, loading...\n"
     ]
    },
    {
     "data": {
      "application/vnd.jupyter.widget-view+json": {
       "model_id": "a25f4ae6464d4fadb0cc92a1270b53e3",
       "version_major": 2,
       "version_minor": 0
      },
      "text/plain": [
       "Testing: 0it [00:00, ?it/s]"
      ]
     },
     "metadata": {},
     "output_type": "display_data"
    },
    {
     "name": "stderr",
     "output_type": "stream",
     "text": [
      "LOCAL_RANK: 0 - CUDA_VISIBLE_DEVICES: [0,1]\n"
     ]
    },
    {
     "data": {
      "application/vnd.jupyter.widget-view+json": {
       "model_id": "39c7acd3592d4b19b85f8006585126bf",
       "version_major": 2,
       "version_minor": 0
      },
      "text/plain": [
       "Testing: 0it [00:00, ?it/s]"
      ]
     },
     "metadata": {},
     "output_type": "display_data"
    }
   ],
   "source": [
    "resnetpreact_model, resnetpreact_results = train_model(\n",
    "    model_name=\"ResNet\",\n",
    "    model_hparams={\n",
    "        \"num_classes\": 10,\n",
    "        \"c_hidden\": [16, 32, 64],\n",
    "        \"num_blocks\": [3, 3, 3],\n",
    "        \"act_fn_name\": \"relu\",\n",
    "        \"block_name\": \"PreActResNetBlock\",\n",
    "    },\n",
    "    optimizer_name=\"SGD\",\n",
    "    optimizer_hparams={\"lr\": 0.1, \"momentum\": 0.9, \"weight_decay\": 1e-4},\n",
    "    save_name=\"ResNetPreAct\",\n",
    ")"
   ]
  },
  {
   "cell_type": "markdown",
   "id": "75769ee5",
   "metadata": {
    "papermill": {
     "duration": 0.04539,
     "end_time": "2021-09-13T14:15:30.971660",
     "exception": false,
     "start_time": "2021-09-13T14:15:30.926270",
     "status": "completed"
    },
    "tags": []
   },
   "source": [
    "### Tensorboard log\n",
    "\n",
    "Similarly to our GoogleNet model, we also have a TensorBoard log for the ResNet model. We can open it below."
   ]
  },
  {
   "cell_type": "code",
   "execution_count": 29,
   "id": "9cff56e8",
   "metadata": {
    "execution": {
     "iopub.execute_input": "2021-09-13T14:15:31.062603Z",
     "iopub.status.busy": "2021-09-13T14:15:31.062109Z",
     "iopub.status.idle": "2021-09-13T14:15:31.063801Z",
     "shell.execute_reply": "2021-09-13T14:15:31.064179Z"
    },
    "papermill": {
     "duration": 0.048946,
     "end_time": "2021-09-13T14:15:31.064294",
     "exception": false,
     "start_time": "2021-09-13T14:15:31.015348",
     "status": "completed"
    },
    "tags": []
   },
   "outputs": [],
   "source": [
    "# Opens tensorboard in notebook. Adjust the path to your CHECKPOINT_PATH! Feel free to change \"ResNet\" to \"ResNetPreAct\"\n",
    "# %tensorboard --logdir ../saved_models/tutorial5/tensorboards/ResNet/"
   ]
  },
  {
   "cell_type": "markdown",
   "id": "49fa55c6",
   "metadata": {
    "papermill": {
     "duration": 0.044264,
     "end_time": "2021-09-13T14:15:31.153427",
     "exception": false,
     "start_time": "2021-09-13T14:15:31.109163",
     "status": "completed"
    },
    "tags": []
   },
   "source": [
    "<center width=\"100%\"><img src=\"https://github.com/PyTorchLightning/lightning-tutorials/raw/main/course_UvA-DL/inception-resnet-densenet/tensorboard_screenshot_ResNet.png\" width=\"1000px\"></center>\n",
    "\n",
    "Feel free to explore the TensorBoard yourself, including the computation graph.\n",
    "In general, we can see that with SGD, the ResNet has a higher training loss than the GoogleNet in the first stage of the training.\n",
    "After reducing the learning rate however, the model achieves even higher validation accuracies.\n",
    "We compare the precise scores at the end of the notebook."
   ]
  },
  {
   "cell_type": "markdown",
   "id": "6396cefe",
   "metadata": {
    "lines_to_next_cell": 2,
    "papermill": {
     "duration": 0.043856,
     "end_time": "2021-09-13T14:15:31.241102",
     "exception": false,
     "start_time": "2021-09-13T14:15:31.197246",
     "status": "completed"
    },
    "tags": []
   },
   "source": [
    "## DenseNet\n",
    "\n",
    "[DenseNet](https://arxiv.org/abs/1608.06993) is another architecture for enabling very deep neural networks and takes a slightly different perspective on residual connections.\n",
    "Instead of modeling the difference between layers, DenseNet considers residual connections as a possible way to reuse features across layers, removing any necessity to learn redundant feature maps.\n",
    "If we go deeper into the network, the model learns abstract features to recognize patterns.\n",
    "However, some complex patterns consist of a combination of abstract features (e.g. hand, face, etc.\n",
    "), and low-level features (e.g. edges, basic color, etc.).\n",
    "To find these low-level features in the deep layers, standard CNNs have to learn copy such feature maps, which wastes a lot of parameter complexity.\n",
    "DenseNet provides an efficient way of reusing features by having each convolution depends on all previous input features, but add only a small amount of filters to it.\n",
    "See the figure below for an illustration (figure credit - [Hu et al. ](https://arxiv.org/abs/1608.06993)):\n",
    "\n",
    "<center width=\"100%\"><img src=\"https://github.com/PyTorchLightning/lightning-tutorials/raw/main/course_UvA-DL/inception-resnet-densenet/densenet_block.svg\" style=\"display: block; margin-left: auto; margin-right: auto;\" width=\"500px\"/></center>\n",
    "\n",
    "The last layer, called the transition layer, is responsible for reducing the dimensionality of the feature maps in height, width, and channel size.\n",
    "Although those technically break the identity backpropagation, there are only a few in a network so that it doesn't affect the gradient flow much.\n",
    "\n",
    "We split the implementation of the layers in DenseNet into three parts: a `DenseLayer`, and a `DenseBlock`, and a `TransitionLayer`.\n",
    "The module `DenseLayer` implements a single layer inside a dense block.\n",
    "It applies a 1x1 convolution for dimensionality reduction with a subsequential 3x3 convolution.\n",
    "The output channels are concatenated to the originals and returned.\n",
    "Note that we apply the Batch Normalization as the first layer of each block.\n",
    "This allows slightly different activations for the same features to different layers, depending on what is needed.\n",
    "Overall, we can implement it as follows:"
   ]
  },
  {
   "cell_type": "code",
   "execution_count": 30,
   "id": "166dcbfc",
   "metadata": {
    "execution": {
     "iopub.execute_input": "2021-09-13T14:15:31.336505Z",
     "iopub.status.busy": "2021-09-13T14:15:31.336027Z",
     "iopub.status.idle": "2021-09-13T14:15:31.337791Z",
     "shell.execute_reply": "2021-09-13T14:15:31.338170Z"
    },
    "lines_to_next_cell": 2,
    "papermill": {
     "duration": 0.052448,
     "end_time": "2021-09-13T14:15:31.338459",
     "exception": false,
     "start_time": "2021-09-13T14:15:31.286011",
     "status": "completed"
    },
    "tags": []
   },
   "outputs": [],
   "source": [
    "class DenseLayer(nn.Module):\n",
    "    def __init__(self, c_in, bn_size, growth_rate, act_fn):\n",
    "        \"\"\"\n",
    "        Inputs:\n",
    "            c_in - Number of input channels\n",
    "            bn_size - Bottleneck size (factor of growth rate) for the output of the 1x1 convolution. Typically between 2 and 4.\n",
    "            growth_rate - Number of output channels of the 3x3 convolution\n",
    "            act_fn - Activation class constructor (e.g. nn.ReLU)\n",
    "        \"\"\"\n",
    "        super().__init__()\n",
    "        self.net = nn.Sequential(\n",
    "            nn.BatchNorm2d(c_in),\n",
    "            act_fn(),\n",
    "            nn.Conv2d(c_in, bn_size * growth_rate, kernel_size=1, bias=False),\n",
    "            nn.BatchNorm2d(bn_size * growth_rate),\n",
    "            act_fn(),\n",
    "            nn.Conv2d(bn_size * growth_rate, growth_rate, kernel_size=3, padding=1, bias=False),\n",
    "        )\n",
    "\n",
    "    def forward(self, x):\n",
    "        out = self.net(x)\n",
    "        out = torch.cat([out, x], dim=1)\n",
    "        return out"
   ]
  },
  {
   "cell_type": "markdown",
   "id": "c0fdf435",
   "metadata": {
    "lines_to_next_cell": 2,
    "papermill": {
     "duration": 0.043808,
     "end_time": "2021-09-13T14:15:31.427040",
     "exception": false,
     "start_time": "2021-09-13T14:15:31.383232",
     "status": "completed"
    },
    "tags": []
   },
   "source": [
    "The module `DenseBlock` summarizes multiple dense layers applied in sequence.\n",
    "Each dense layer takes as input the original input concatenated with all previous layers' feature maps:"
   ]
  },
  {
   "cell_type": "code",
   "execution_count": 31,
   "id": "cc6d4ea4",
   "metadata": {
    "execution": {
     "iopub.execute_input": "2021-09-13T14:15:31.522131Z",
     "iopub.status.busy": "2021-09-13T14:15:31.521654Z",
     "iopub.status.idle": "2021-09-13T14:15:31.523754Z",
     "shell.execute_reply": "2021-09-13T14:15:31.523350Z"
    },
    "lines_to_next_cell": 2,
    "papermill": {
     "duration": 0.050894,
     "end_time": "2021-09-13T14:15:31.523853",
     "exception": false,
     "start_time": "2021-09-13T14:15:31.472959",
     "status": "completed"
    },
    "tags": []
   },
   "outputs": [],
   "source": [
    "class DenseBlock(nn.Module):\n",
    "    def __init__(self, c_in, num_layers, bn_size, growth_rate, act_fn):\n",
    "        \"\"\"\n",
    "        Inputs:\n",
    "            c_in - Number of input channels\n",
    "            num_layers - Number of dense layers to apply in the block\n",
    "            bn_size - Bottleneck size to use in the dense layers\n",
    "            growth_rate - Growth rate to use in the dense layers\n",
    "            act_fn - Activation function to use in the dense layers\n",
    "        \"\"\"\n",
    "        super().__init__()\n",
    "        layers = []\n",
    "        for layer_idx in range(num_layers):\n",
    "            # Input channels are original plus the feature maps from previous layers\n",
    "            layer_c_in = c_in + layer_idx * growth_rate\n",
    "            layers.append(DenseLayer(c_in=layer_c_in, bn_size=bn_size, growth_rate=growth_rate, act_fn=act_fn))\n",
    "        self.block = nn.Sequential(*layers)\n",
    "\n",
    "    def forward(self, x):\n",
    "        out = self.block(x)\n",
    "        return out"
   ]
  },
  {
   "cell_type": "markdown",
   "id": "8a20e10b",
   "metadata": {
    "lines_to_next_cell": 2,
    "papermill": {
     "duration": 0.044004,
     "end_time": "2021-09-13T14:15:31.612409",
     "exception": false,
     "start_time": "2021-09-13T14:15:31.568405",
     "status": "completed"
    },
    "tags": []
   },
   "source": [
    "Finally, the `TransitionLayer` takes as input the final output of a dense block and reduces its channel dimensionality using a 1x1 convolution.\n",
    "To reduce the height and width dimension, we take a slightly different approach than in ResNet and apply an average pooling with kernel size 2 and stride 2.\n",
    "This is because we don't have an additional connection to the output that would consider the full 2x2 patch instead of a single value.\n",
    "Besides, it is more parameter efficient than using a 3x3 convolution with stride 2.\n",
    "Thus, the layer is implemented as follows:"
   ]
  },
  {
   "cell_type": "code",
   "execution_count": 32,
   "id": "eef17611",
   "metadata": {
    "execution": {
     "iopub.execute_input": "2021-09-13T14:15:31.705411Z",
     "iopub.status.busy": "2021-09-13T14:15:31.704939Z",
     "iopub.status.idle": "2021-09-13T14:15:31.706638Z",
     "shell.execute_reply": "2021-09-13T14:15:31.707018Z"
    },
    "lines_to_next_cell": 2,
    "papermill": {
     "duration": 0.050156,
     "end_time": "2021-09-13T14:15:31.707131",
     "exception": false,
     "start_time": "2021-09-13T14:15:31.656975",
     "status": "completed"
    },
    "tags": []
   },
   "outputs": [],
   "source": [
    "class TransitionLayer(nn.Module):\n",
    "    def __init__(self, c_in, c_out, act_fn):\n",
    "        super().__init__()\n",
    "        self.transition = nn.Sequential(\n",
    "            nn.BatchNorm2d(c_in),\n",
    "            act_fn(),\n",
    "            nn.Conv2d(c_in, c_out, kernel_size=1, bias=False),\n",
    "            nn.AvgPool2d(kernel_size=2, stride=2),  # Average the output for each 2x2 pixel group\n",
    "        )\n",
    "\n",
    "    def forward(self, x):\n",
    "        return self.transition(x)"
   ]
  },
  {
   "cell_type": "markdown",
   "id": "36ac1df9",
   "metadata": {
    "lines_to_next_cell": 2,
    "papermill": {
     "duration": 0.044039,
     "end_time": "2021-09-13T14:15:31.795303",
     "exception": false,
     "start_time": "2021-09-13T14:15:31.751264",
     "status": "completed"
    },
    "tags": []
   },
   "source": [
    "Now we can put everything together and create our DenseNet.\n",
    "To specify the number of layers, we use a similar notation as in ResNets and pass on a list of ints representing the number of layers per block.\n",
    "After each dense block except the last one, we apply a transition layer to reduce the dimensionality by 2."
   ]
  },
  {
   "cell_type": "code",
   "execution_count": 33,
   "id": "674900af",
   "metadata": {
    "execution": {
     "iopub.execute_input": "2021-09-13T14:15:31.895952Z",
     "iopub.status.busy": "2021-09-13T14:15:31.893944Z",
     "iopub.status.idle": "2021-09-13T14:15:31.897947Z",
     "shell.execute_reply": "2021-09-13T14:15:31.897541Z"
    },
    "papermill": {
     "duration": 0.058442,
     "end_time": "2021-09-13T14:15:31.898043",
     "exception": false,
     "start_time": "2021-09-13T14:15:31.839601",
     "status": "completed"
    },
    "tags": []
   },
   "outputs": [],
   "source": [
    "class DenseNet(nn.Module):\n",
    "    def __init__(\n",
    "        self, num_classes=10, num_layers=[6, 6, 6, 6], bn_size=2, growth_rate=16, act_fn_name=\"relu\", **kwargs\n",
    "    ):\n",
    "        super().__init__()\n",
    "        self.hparams = SimpleNamespace(\n",
    "            num_classes=num_classes,\n",
    "            num_layers=num_layers,\n",
    "            bn_size=bn_size,\n",
    "            growth_rate=growth_rate,\n",
    "            act_fn_name=act_fn_name,\n",
    "            act_fn=act_fn_by_name[act_fn_name],\n",
    "        )\n",
    "        self._create_network()\n",
    "        self._init_params()\n",
    "\n",
    "    def _create_network(self):\n",
    "        c_hidden = self.hparams.growth_rate * self.hparams.bn_size  # The start number of hidden channels\n",
    "\n",
    "        # A first convolution on the original image to scale up the channel size\n",
    "        self.input_net = nn.Sequential(\n",
    "            # No batch norm or activation function as done inside the Dense layers\n",
    "            nn.Conv2d(3, c_hidden, kernel_size=3, padding=1)\n",
    "        )\n",
    "\n",
    "        # Creating the dense blocks, eventually including transition layers\n",
    "        blocks = []\n",
    "        for block_idx, num_layers in enumerate(self.hparams.num_layers):\n",
    "            blocks.append(\n",
    "                DenseBlock(\n",
    "                    c_in=c_hidden,\n",
    "                    num_layers=num_layers,\n",
    "                    bn_size=self.hparams.bn_size,\n",
    "                    growth_rate=self.hparams.growth_rate,\n",
    "                    act_fn=self.hparams.act_fn,\n",
    "                )\n",
    "            )\n",
    "            c_hidden = c_hidden + num_layers * self.hparams.growth_rate  # Overall output of the dense block\n",
    "            if block_idx < len(self.hparams.num_layers) - 1:  # Don't apply transition layer on last block\n",
    "                blocks.append(TransitionLayer(c_in=c_hidden, c_out=c_hidden // 2, act_fn=self.hparams.act_fn))\n",
    "                c_hidden = c_hidden // 2\n",
    "\n",
    "        self.blocks = nn.Sequential(*blocks)\n",
    "\n",
    "        # Mapping to classification output\n",
    "        self.output_net = nn.Sequential(\n",
    "            nn.BatchNorm2d(c_hidden),  # The features have not passed a non-linearity until here.\n",
    "            self.hparams.act_fn(),\n",
    "            nn.AdaptiveAvgPool2d((1, 1)),\n",
    "            nn.Flatten(),\n",
    "            nn.Linear(c_hidden, self.hparams.num_classes),\n",
    "        )\n",
    "\n",
    "    def _init_params(self):\n",
    "        # Based on our discussion in Tutorial 4, we should initialize the\n",
    "        # convolutions according to the activation function\n",
    "        for m in self.modules():\n",
    "            if isinstance(m, nn.Conv2d):\n",
    "                nn.init.kaiming_normal_(m.weight, nonlinearity=self.hparams.act_fn_name)\n",
    "            elif isinstance(m, nn.BatchNorm2d):\n",
    "                nn.init.constant_(m.weight, 1)\n",
    "                nn.init.constant_(m.bias, 0)\n",
    "\n",
    "    def forward(self, x):\n",
    "        x = self.input_net(x)\n",
    "        x = self.blocks(x)\n",
    "        x = self.output_net(x)\n",
    "        return x"
   ]
  },
  {
   "cell_type": "markdown",
   "id": "4331e474",
   "metadata": {
    "papermill": {
     "duration": 0.044155,
     "end_time": "2021-09-13T14:15:31.986750",
     "exception": false,
     "start_time": "2021-09-13T14:15:31.942595",
     "status": "completed"
    },
    "tags": []
   },
   "source": [
    "Let's also add the DenseNet to our model dictionary:"
   ]
  },
  {
   "cell_type": "code",
   "execution_count": 34,
   "id": "3a762af0",
   "metadata": {
    "execution": {
     "iopub.execute_input": "2021-09-13T14:15:32.079117Z",
     "iopub.status.busy": "2021-09-13T14:15:32.078643Z",
     "iopub.status.idle": "2021-09-13T14:15:32.080790Z",
     "shell.execute_reply": "2021-09-13T14:15:32.080191Z"
    },
    "papermill": {
     "duration": 0.049675,
     "end_time": "2021-09-13T14:15:32.080893",
     "exception": false,
     "start_time": "2021-09-13T14:15:32.031218",
     "status": "completed"
    },
    "tags": []
   },
   "outputs": [],
   "source": [
    "model_dict[\"DenseNet\"] = DenseNet"
   ]
  },
  {
   "cell_type": "markdown",
   "id": "fa15c253",
   "metadata": {
    "papermill": {
     "duration": 0.044403,
     "end_time": "2021-09-13T14:15:32.170856",
     "exception": false,
     "start_time": "2021-09-13T14:15:32.126453",
     "status": "completed"
    },
    "tags": []
   },
   "source": [
    "Lastly, we train our network.\n",
    "In contrast to ResNet, DenseNet does not show any issues with Adam, and hence we train it with this optimizer.\n",
    "The other hyperparameters are chosen to result in a network with a similar parameter size as the ResNet and GoogleNet.\n",
    "Commonly, when designing very deep networks, DenseNet is more parameter\n",
    "efficient than ResNet while achieving a similar or even better\n",
    "performance."
   ]
  },
  {
   "cell_type": "code",
   "execution_count": 35,
   "id": "38e0feab",
   "metadata": {
    "execution": {
     "iopub.execute_input": "2021-09-13T14:15:32.266771Z",
     "iopub.status.busy": "2021-09-13T14:15:32.266276Z",
     "iopub.status.idle": "2021-09-13T14:15:37.340857Z",
     "shell.execute_reply": "2021-09-13T14:15:37.340424Z"
    },
    "papermill": {
     "duration": 5.125611,
     "end_time": "2021-09-13T14:15:37.340978",
     "exception": false,
     "start_time": "2021-09-13T14:15:32.215367",
     "status": "completed"
    },
    "tags": []
   },
   "outputs": [
    {
     "name": "stderr",
     "output_type": "stream",
     "text": [
      "GPU available: True, used: True\n"
     ]
    },
    {
     "name": "stderr",
     "output_type": "stream",
     "text": [
      "TPU available: False, using: 0 TPU cores\n"
     ]
    },
    {
     "name": "stderr",
     "output_type": "stream",
     "text": [
      "IPU available: False, using: 0 IPUs\n"
     ]
    },
    {
     "name": "stderr",
     "output_type": "stream",
     "text": [
      "LOCAL_RANK: 0 - CUDA_VISIBLE_DEVICES: [0,1]\n"
     ]
    },
    {
     "name": "stdout",
     "output_type": "stream",
     "text": [
      "Found pretrained model at saved_models/ConvNets/DenseNet.ckpt, loading...\n"
     ]
    },
    {
     "data": {
      "application/vnd.jupyter.widget-view+json": {
       "model_id": "fa8ab29d6e964a9abd8b1fa6a2edbcee",
       "version_major": 2,
       "version_minor": 0
      },
      "text/plain": [
       "Testing: 0it [00:00, ?it/s]"
      ]
     },
     "metadata": {},
     "output_type": "display_data"
    },
    {
     "name": "stderr",
     "output_type": "stream",
     "text": [
      "LOCAL_RANK: 0 - CUDA_VISIBLE_DEVICES: [0,1]\n"
     ]
    },
    {
     "data": {
      "application/vnd.jupyter.widget-view+json": {
       "model_id": "003881de718842abb2f1bca686a5b529",
       "version_major": 2,
       "version_minor": 0
      },
      "text/plain": [
       "Testing: 0it [00:00, ?it/s]"
      ]
     },
     "metadata": {},
     "output_type": "display_data"
    }
   ],
   "source": [
    "densenet_model, densenet_results = train_model(\n",
    "    model_name=\"DenseNet\",\n",
    "    model_hparams={\n",
    "        \"num_classes\": 10,\n",
    "        \"num_layers\": [6, 6, 6, 6],\n",
    "        \"bn_size\": 2,\n",
    "        \"growth_rate\": 16,\n",
    "        \"act_fn_name\": \"relu\",\n",
    "    },\n",
    "    optimizer_name=\"Adam\",\n",
    "    optimizer_hparams={\"lr\": 1e-3, \"weight_decay\": 1e-4},\n",
    ")"
   ]
  },
  {
   "cell_type": "markdown",
   "id": "71cc978a",
   "metadata": {
    "papermill": {
     "duration": 0.04668,
     "end_time": "2021-09-13T14:15:37.435122",
     "exception": false,
     "start_time": "2021-09-13T14:15:37.388442",
     "status": "completed"
    },
    "tags": []
   },
   "source": [
    "### Tensorboard log\n",
    "\n",
    "Finally, we also have another TensorBoard for the DenseNet training. We take a look at it below:"
   ]
  },
  {
   "cell_type": "code",
   "execution_count": 36,
   "id": "33883683",
   "metadata": {
    "execution": {
     "iopub.execute_input": "2021-09-13T14:15:37.532159Z",
     "iopub.status.busy": "2021-09-13T14:15:37.531686Z",
     "iopub.status.idle": "2021-09-13T14:15:37.533738Z",
     "shell.execute_reply": "2021-09-13T14:15:37.533338Z"
    },
    "papermill": {
     "duration": 0.051494,
     "end_time": "2021-09-13T14:15:37.533837",
     "exception": false,
     "start_time": "2021-09-13T14:15:37.482343",
     "status": "completed"
    },
    "tags": []
   },
   "outputs": [],
   "source": [
    "# Opens tensorboard in notebook. Adjust the path to your CHECKPOINT_PATH! Feel free to change \"ResNet\" to \"ResNetPreAct\"\n",
    "# %tensorboard --logdir ../saved_models/tutorial5/tensorboards/DenseNet/"
   ]
  },
  {
   "cell_type": "markdown",
   "id": "e746de97",
   "metadata": {
    "papermill": {
     "duration": 0.046624,
     "end_time": "2021-09-13T14:15:37.626994",
     "exception": false,
     "start_time": "2021-09-13T14:15:37.580370",
     "status": "completed"
    },
    "tags": []
   },
   "source": [
    "<center width=\"100%\"><img src=\"https://github.com/PyTorchLightning/lightning-tutorials/raw/main/course_UvA-DL/inception-resnet-densenet/tensorboard_screenshot_DenseNet.png\" width=\"1000px\"></center>\n",
    "\n",
    "The overall course of the validation accuracy and training loss resemble the training of GoogleNet, which is also related to training the network with Adam.\n",
    "Feel free to explore the training metrics yourself."
   ]
  },
  {
   "cell_type": "markdown",
   "id": "21def174",
   "metadata": {
    "papermill": {
     "duration": 0.048446,
     "end_time": "2021-09-13T14:15:37.722036",
     "exception": false,
     "start_time": "2021-09-13T14:15:37.673590",
     "status": "completed"
    },
    "tags": []
   },
   "source": [
    "## Conclusion and Comparison\n",
    "\n",
    "After discussing each model separately, and training all of them, we can finally compare them.\n",
    "First, let's organize the results of all models in a table:"
   ]
  },
  {
   "cell_type": "code",
   "execution_count": 37,
   "id": "b6685508",
   "metadata": {
    "execution": {
     "iopub.execute_input": "2021-09-13T14:15:37.821553Z",
     "iopub.status.busy": "2021-09-13T14:15:37.821068Z",
     "iopub.status.idle": "2021-09-13T14:15:37.823785Z",
     "shell.execute_reply": "2021-09-13T14:15:37.823312Z"
    },
    "papermill": {
     "duration": 0.053711,
     "end_time": "2021-09-13T14:15:37.823887",
     "exception": false,
     "start_time": "2021-09-13T14:15:37.770176",
     "status": "completed"
    },
    "tags": []
   },
   "outputs": [
    {
     "data": {
      "text/html": [
       "<!-- Some HTML code to increase font size in the following table -->\n",
       "<style>\n",
       "th {font-size: 120%;}\n",
       "td {font-size: 120%;}\n",
       "</style>\n"
      ],
      "text/plain": [
       "<IPython.core.display.HTML object>"
      ]
     },
     "metadata": {},
     "output_type": "display_data"
    }
   ],
   "source": [
    "%%html\n",
    "<!-- Some HTML code to increase font size in the following table -->\n",
    "<style>\n",
    "th {font-size: 120%;}\n",
    "td {font-size: 120%;}\n",
    "</style>"
   ]
  },
  {
   "cell_type": "code",
   "execution_count": 38,
   "id": "0ec93fe6",
   "metadata": {
    "execution": {
     "iopub.execute_input": "2021-09-13T14:15:37.930729Z",
     "iopub.status.busy": "2021-09-13T14:15:37.924998Z",
     "iopub.status.idle": "2021-09-13T14:15:37.933860Z",
     "shell.execute_reply": "2021-09-13T14:15:37.933386Z"
    },
    "papermill": {
     "duration": 0.062807,
     "end_time": "2021-09-13T14:15:37.933961",
     "exception": false,
     "start_time": "2021-09-13T14:15:37.871154",
     "status": "completed"
    },
    "tags": []
   },
   "outputs": [
    {
     "data": {
      "text/html": [
       "<table>\n",
       "<thead>\n",
       "<tr><th>Model       </th><th>Val Accuracy  </th><th>Test Accuracy  </th><th>Num Parameters  </th></tr>\n",
       "</thead>\n",
       "<tbody>\n",
       "<tr><td>GoogleNet   </td><td>90.40%        </td><td>89.70%         </td><td>260,650         </td></tr>\n",
       "<tr><td>ResNet      </td><td>91.84%        </td><td>91.06%         </td><td>272,378         </td></tr>\n",
       "<tr><td>ResNetPreAct</td><td>91.80%        </td><td>91.07%         </td><td>272,250         </td></tr>\n",
       "<tr><td>DenseNet    </td><td>90.72%        </td><td>90.23%         </td><td>239,146         </td></tr>\n",
       "</tbody>\n",
       "</table>"
      ],
      "text/plain": [
       "<IPython.core.display.HTML object>"
      ]
     },
     "metadata": {},
     "output_type": "display_data"
    }
   ],
   "source": [
    "all_models = [\n",
    "    (\"GoogleNet\", googlenet_results, googlenet_model),\n",
    "    (\"ResNet\", resnet_results, resnet_model),\n",
    "    (\"ResNetPreAct\", resnetpreact_results, resnetpreact_model),\n",
    "    (\"DenseNet\", densenet_results, densenet_model),\n",
    "]\n",
    "table = [\n",
    "    [\n",
    "        model_name,\n",
    "        f\"{100.0*model_results['val']:4.2f}%\",\n",
    "        f\"{100.0*model_results['test']:4.2f}%\",\n",
    "        f\"{sum(np.prod(p.shape) for p in model.parameters()):,}\",\n",
    "    ]\n",
    "    for model_name, model_results, model in all_models\n",
    "]\n",
    "display(\n",
    "    HTML(\n",
    "        tabulate.tabulate(table, tablefmt=\"html\", headers=[\"Model\", \"Val Accuracy\", \"Test Accuracy\", \"Num Parameters\"])\n",
    "    )\n",
    ")"
   ]
  },
  {
   "cell_type": "markdown",
   "id": "523d3241",
   "metadata": {
    "papermill": {
     "duration": 0.051574,
     "end_time": "2021-09-13T14:15:38.033404",
     "exception": false,
     "start_time": "2021-09-13T14:15:37.981830",
     "status": "completed"
    },
    "tags": []
   },
   "source": [
    "First of all, we see that all models are performing reasonably well.\n",
    "Simple models as you have implemented them in the practical achieve considerably lower performance, which is beside the lower number of parameters also attributed to the architecture design choice.\n",
    "GoogleNet is the model to obtain the lowest performance on the validation and test set, although it is very close to DenseNet.\n",
    "A proper hyperparameter search over all the channel sizes in GoogleNet would likely improve the accuracy of the model to a similar level, but this is also expensive given a large number of hyperparameters.\n",
    "ResNet outperforms both DenseNet and GoogleNet by more than 1% on the validation set, while there is a minor difference between both versions, original and pre-activation.\n",
    "We can conclude that for shallow networks, the place of the activation function does not seem to be crucial, although papers have reported the contrary for very deep networks (e.g. [He et al. ](https://arxiv.org/abs/1603.05027)).\n",
    "\n",
    "In general, we can conclude that ResNet is a simple, but powerful architecture.\n",
    "If we would apply the models on more complex tasks with larger images and more layers inside the networks, we would likely see a bigger gap between GoogleNet and skip-connection architectures like ResNet and DenseNet.\n",
    "A comparison with deeper models on CIFAR10 can be for example found [here](https://github.com/kuangliu/pytorch-cifar).\n",
    "Interestingly, DenseNet outperforms the original ResNet on their setup but comes closely behind the Pre-Activation ResNet.\n",
    "The best model, a Dual Path Network ([Chen et.\n",
    "al](https://arxiv.org/abs/1707.01629)), is actually a combination of\n",
    "ResNet and DenseNet showing that both offer different advantages."
   ]
  },
  {
   "cell_type": "markdown",
   "id": "3cb66397",
   "metadata": {
    "papermill": {
     "duration": 0.047632,
     "end_time": "2021-09-13T14:15:38.129619",
     "exception": false,
     "start_time": "2021-09-13T14:15:38.081987",
     "status": "completed"
    },
    "tags": []
   },
   "source": [
    "### Which model should I choose for my task?\n",
    "\n",
    "We have reviewed four different models.\n",
    "So, which one should we choose if have given a new task?\n",
    "Usually, starting with a ResNet is a good idea given the superior performance of the CIFAR dataset and its simple implementation.\n",
    "Besides, for the parameter number we have chosen here, ResNet is the fastest as DenseNet and GoogleNet have many more layers that are applied in sequence in our primitive implementation.\n",
    "However, if you have a really difficult task, such as semantic\n",
    "segmentation on HD images, more complex variants of ResNet and DenseNet\n",
    "are recommended."
   ]
  },
  {
   "cell_type": "markdown",
   "id": "995a7802",
   "metadata": {
    "papermill": {
     "duration": 0.047458,
     "end_time": "2021-09-13T14:15:38.224653",
     "exception": false,
     "start_time": "2021-09-13T14:15:38.177195",
     "status": "completed"
    },
    "tags": []
   },
   "source": [
    "## Congratulations - Time to Join the Community!\n",
    "\n",
    "Congratulations on completing this notebook tutorial! If you enjoyed this and would like to join the Lightning\n",
    "movement, you can do so in the following ways!\n",
    "\n",
    "### Star [Lightning](https://github.com/PyTorchLightning/pytorch-lightning) on GitHub\n",
    "The easiest way to help our community is just by starring the GitHub repos! This helps raise awareness of the cool\n",
    "tools we're building.\n",
    "\n",
    "### Join our [Slack](https://join.slack.com/t/pytorch-lightning/shared_invite/zt-pw5v393p-qRaDgEk24~EjiZNBpSQFgQ)!\n",
    "The best way to keep up to date on the latest advancements is to join our community! Make sure to introduce yourself\n",
    "and share your interests in `#general` channel\n",
    "\n",
    "\n",
    "### Contributions !\n",
    "The best way to contribute to our community is to become a code contributor! At any time you can go to\n",
    "[Lightning](https://github.com/PyTorchLightning/pytorch-lightning) or [Bolt](https://github.com/PyTorchLightning/lightning-bolts)\n",
    "GitHub Issues page and filter for \"good first issue\".\n",
    "\n",
    "* [Lightning good first issue](https://github.com/PyTorchLightning/pytorch-lightning/issues?q=is%3Aopen+is%3Aissue+label%3A%22good+first+issue%22)\n",
    "* [Bolt good first issue](https://github.com/PyTorchLightning/lightning-bolts/issues?q=is%3Aopen+is%3Aissue+label%3A%22good+first+issue%22)\n",
    "* You can also contribute your own notebooks with useful examples !\n",
    "\n",
    "### Great thanks from the entire Pytorch Lightning Team for your interest !\n",
    "\n",
    "![Pytorch Lightning](data:image/png;base64,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){height=\"60px\" width=\"240px\"}"
   ]
  }
 ],
 "metadata": {
  "jupytext": {
   "cell_metadata_filter": "id,colab,colab_type,-all",
   "formats": "ipynb,py:percent",
   "main_language": "python"
  },
  "language_info": {
   "codemirror_mode": {
    "name": "ipython",
    "version": 3
   },
   "file_extension": ".py",
   "mimetype": "text/x-python",
   "name": "python",
   "nbconvert_exporter": "python",
   "pygments_lexer": "ipython3",
   "version": "3.9.7"
  },
  "papermill": {
   "default_parameters": {},
   "duration": 34.542259,
   "end_time": "2021-09-13T14:15:39.083133",
   "environment_variables": {},
   "exception": null,
   "input_path": "course_UvA-DL/inception-resnet-densenet/Inception_ResNet_DenseNet.ipynb",
   "output_path": ".notebooks/course_UvA-DL/inception-resnet-densenet.ipynb",
   "parameters": {},
   "start_time": "2021-09-13T14:15:04.540874",
   "version": "2.3.3"
  },
  "widgets": {
   "application/vnd.jupyter.widget-state+json": {
    "state": {
     "003881de718842abb2f1bca686a5b529": {
      "model_module": "@jupyter-widgets/controls",
      "model_module_version": "1.5.0",
      "model_name": "HBoxModel",
      "state": {
       "_dom_classes": [],
       "_model_module": "@jupyter-widgets/controls",
       "_model_module_version": "1.5.0",
       "_model_name": "HBoxModel",
       "_view_count": null,
       "_view_module": "@jupyter-widgets/controls",
       "_view_module_version": "1.5.0",
       "_view_name": "HBoxView",
       "box_style": "",
       "children": [
        "IPY_MODEL_eb3b3be426d94ce1aefe7c15a1edca30",
        "IPY_MODEL_e400be63e54f49a59bcfa7e5605b889e",
        "IPY_MODEL_c957da72c99c4df2a7a83e8339f33cc7"
       ],
       "layout": "IPY_MODEL_ab1e913f6eb64f5db3f50d4f11f338dc"
      }
     },
     "005b1030cccd4a6c88ced1365b7679f0": {
      "model_module": "@jupyter-widgets/controls",
      "model_module_version": "1.5.0",
      "model_name": "HTMLModel",
      "state": {
       "_dom_classes": [],
       "_model_module": "@jupyter-widgets/controls",
       "_model_module_version": "1.5.0",
       "_model_name": "HTMLModel",
       "_view_count": null,
       "_view_module": "@jupyter-widgets/controls",
       "_view_module_version": "1.5.0",
       "_view_name": "HTMLView",
       "description": "",
       "description_tooltip": null,
       "layout": "IPY_MODEL_139d2147af26495a8cf1ae807d114a00",
       "placeholder": "​",
       "style": "IPY_MODEL_d897f535dcd54c8fa5f1c545f1875fcd",
       "value": "Testing: 100%"
      }
     },
     "011e6884e008438d83b50b51ca84641f": {
      "model_module": "@jupyter-widgets/controls",
      "model_module_version": "1.5.0",
      "model_name": "FloatProgressModel",
      "state": {
       "_dom_classes": [],
       "_model_module": "@jupyter-widgets/controls",
       "_model_module_version": "1.5.0",
       "_model_name": "FloatProgressModel",
       "_view_count": null,
       "_view_module": "@jupyter-widgets/controls",
       "_view_module_version": "1.5.0",
       "_view_name": "ProgressView",
       "bar_style": "success",
       "description": "",
       "description_tooltip": null,
       "layout": "IPY_MODEL_a6e859f8e55347ad8e2c8af0eb96187d",
       "max": 1.0,
       "min": 0.0,
       "orientation": "horizontal",
       "style": "IPY_MODEL_604e0618ba11493a9672c6fedae64cbd",
       "value": 1.0
      }
     },
     "0280d2f9ee364a6693367f9b0a6e7152": {
      "model_module": "@jupyter-widgets/controls",
      "model_module_version": "1.5.0",
      "model_name": "DescriptionStyleModel",
      "state": {
       "_model_module": "@jupyter-widgets/controls",
       "_model_module_version": "1.5.0",
       "_model_name": "DescriptionStyleModel",
       "_view_count": null,
       "_view_module": "@jupyter-widgets/base",
       "_view_module_version": "1.2.0",
       "_view_name": "StyleView",
       "description_width": ""
      }
     },
     "0908d3fbf9fa40f89ac046b2dfb9de82": {
      "model_module": "@jupyter-widgets/controls",
      "model_module_version": "1.5.0",
      "model_name": "ProgressStyleModel",
      "state": {
       "_model_module": "@jupyter-widgets/controls",
       "_model_module_version": "1.5.0",
       "_model_name": "ProgressStyleModel",
       "_view_count": null,
       "_view_module": "@jupyter-widgets/base",
       "_view_module_version": "1.2.0",
       "_view_name": "StyleView",
       "bar_color": null,
       "description_width": ""
      }
     },
     "095e131c5d4c400abd8011655a4752f1": {
      "model_module": "@jupyter-widgets/base",
      "model_module_version": "1.2.0",
      "model_name": "LayoutModel",
      "state": {
       "_model_module": "@jupyter-widgets/base",
       "_model_module_version": "1.2.0",
       "_model_name": "LayoutModel",
       "_view_count": null,
       "_view_module": "@jupyter-widgets/base",
       "_view_module_version": "1.2.0",
       "_view_name": "LayoutView",
       "align_content": null,
       "align_items": null,
       "align_self": null,
       "border": null,
       "bottom": null,
       "display": null,
       "flex": null,
       "flex_flow": null,
       "grid_area": null,
       "grid_auto_columns": null,
       "grid_auto_flow": null,
       "grid_auto_rows": null,
       "grid_column": null,
       "grid_gap": null,
       "grid_row": null,
       "grid_template_areas": null,
       "grid_template_columns": null,
       "grid_template_rows": null,
       "height": null,
       "justify_content": null,
       "justify_items": null,
       "left": null,
       "margin": null,
       "max_height": null,
       "max_width": null,
       "min_height": null,
       "min_width": null,
       "object_fit": null,
       "object_position": null,
       "order": null,
       "overflow": null,
       "overflow_x": null,
       "overflow_y": null,
       "padding": null,
       "right": null,
       "top": null,
       "visibility": null,
       "width": null
      }
     },
     "0a908fcb7db44784a4f67d478bb361c0": {
      "model_module": "@jupyter-widgets/controls",
      "model_module_version": "1.5.0",
      "model_name": "HTMLModel",
      "state": {
       "_dom_classes": [],
       "_model_module": "@jupyter-widgets/controls",
       "_model_module_version": "1.5.0",
       "_model_name": "HTMLModel",
       "_view_count": null,
       "_view_module": "@jupyter-widgets/controls",
       "_view_module_version": "1.5.0",
       "_view_name": "HTMLView",
       "description": "",
       "description_tooltip": null,
       "layout": "IPY_MODEL_ad02c8825e2c47b0a0bcd1db5edb8f9b",
       "placeholder": "​",
       "style": "IPY_MODEL_57a739f54bca4c53a064423f8e9adca3",
       "value": " 40/40 [00:00&lt;00:00, 102.84it/s]"
      }
     },
     "11a6831c90f64d5e8d230fe8be1261ff": {
      "model_module": "@jupyter-widgets/base",
      "model_module_version": "1.2.0",
      "model_name": "LayoutModel",
      "state": {
       "_model_module": "@jupyter-widgets/base",
       "_model_module_version": "1.2.0",
       "_model_name": "LayoutModel",
       "_view_count": null,
       "_view_module": "@jupyter-widgets/base",
       "_view_module_version": "1.2.0",
       "_view_name": "LayoutView",
       "align_content": null,
       "align_items": null,
       "align_self": null,
       "border": null,
       "bottom": null,
       "display": "inline-flex",
       "flex": null,
       "flex_flow": "row wrap",
       "grid_area": null,
       "grid_auto_columns": null,
       "grid_auto_flow": null,
       "grid_auto_rows": null,
       "grid_column": null,
       "grid_gap": null,
       "grid_row": null,
       "grid_template_areas": null,
       "grid_template_columns": null,
       "grid_template_rows": null,
       "height": null,
       "justify_content": null,
       "justify_items": null,
       "left": null,
       "margin": null,
       "max_height": null,
       "max_width": null,
       "min_height": null,
       "min_width": null,
       "object_fit": null,
       "object_position": null,
       "order": null,
       "overflow": null,
       "overflow_x": null,
       "overflow_y": null,
       "padding": null,
       "right": null,
       "top": null,
       "visibility": null,
       "width": "100%"
      }
     },
     "139d2147af26495a8cf1ae807d114a00": {
      "model_module": "@jupyter-widgets/base",
      "model_module_version": "1.2.0",
      "model_name": "LayoutModel",
      "state": {
       "_model_module": "@jupyter-widgets/base",
       "_model_module_version": "1.2.0",
       "_model_name": "LayoutModel",
       "_view_count": null,
       "_view_module": "@jupyter-widgets/base",
       "_view_module_version": "1.2.0",
       "_view_name": "LayoutView",
       "align_content": null,
       "align_items": null,
       "align_self": null,
       "border": null,
       "bottom": null,
       "display": null,
       "flex": null,
       "flex_flow": null,
       "grid_area": null,
       "grid_auto_columns": null,
       "grid_auto_flow": null,
       "grid_auto_rows": null,
       "grid_column": null,
       "grid_gap": null,
       "grid_row": null,
       "grid_template_areas": null,
       "grid_template_columns": null,
       "grid_template_rows": null,
       "height": null,
       "justify_content": null,
       "justify_items": null,
       "left": null,
       "margin": null,
       "max_height": null,
       "max_width": null,
       "min_height": null,
       "min_width": null,
       "object_fit": null,
       "object_position": null,
       "order": null,
       "overflow": null,
       "overflow_x": null,
       "overflow_y": null,
       "padding": null,
       "right": null,
       "top": null,
       "visibility": null,
       "width": null
      }
     },
     "1c6ef1823e234e498c5ba285407bb0c7": {
      "model_module": "@jupyter-widgets/controls",
      "model_module_version": "1.5.0",
      "model_name": "ProgressStyleModel",
      "state": {
       "_model_module": "@jupyter-widgets/controls",
       "_model_module_version": "1.5.0",
       "_model_name": "ProgressStyleModel",
       "_view_count": null,
       "_view_module": "@jupyter-widgets/base",
       "_view_module_version": "1.2.0",
       "_view_name": "StyleView",
       "bar_color": null,
       "description_width": ""
      }
     },
     "1e14141f82764781bf5f23b9f51f093e": {
      "model_module": "@jupyter-widgets/controls",
      "model_module_version": "1.5.0",
      "model_name": "HBoxModel",
      "state": {
       "_dom_classes": [],
       "_model_module": "@jupyter-widgets/controls",
       "_model_module_version": "1.5.0",
       "_model_name": "HBoxModel",
       "_view_count": null,
       "_view_module": "@jupyter-widgets/controls",
       "_view_module_version": "1.5.0",
       "_view_name": "HBoxView",
       "box_style": "",
       "children": [
        "IPY_MODEL_3768a356fea84fa3a9b5b536d5ab2b0d",
        "IPY_MODEL_7f253ac0733745bda81388a7f73555cb",
        "IPY_MODEL_2339fdaf71cf4c60a8ad0183127ef446"
       ],
       "layout": "IPY_MODEL_a5ecebe467e9466a883774c32c5a1d41"
      }
     },
     "1ef8d226b08d4f218109da3c72f3a690": {
      "model_module": "@jupyter-widgets/controls",
      "model_module_version": "1.5.0",
      "model_name": "HBoxModel",
      "state": {
       "_dom_classes": [],
       "_model_module": "@jupyter-widgets/controls",
       "_model_module_version": "1.5.0",
       "_model_name": "HBoxModel",
       "_view_count": null,
       "_view_module": "@jupyter-widgets/controls",
       "_view_module_version": "1.5.0",
       "_view_name": "HBoxView",
       "box_style": "",
       "children": [
        "IPY_MODEL_5a290ea6223a4e70b20b8fb69bb2fd3d",
        "IPY_MODEL_e006758eaa0244ce8b6a7158840839f5",
        "IPY_MODEL_3a0048fb344c4b3c8c5b2397177059c3"
       ],
       "layout": "IPY_MODEL_b3523031eac94b1a85dd6fa3d1b07b3e"
      }
     },
     "1f0c0f6fed3d4b9fa1165eee71bd6f46": {
      "model_module": "@jupyter-widgets/base",
      "model_module_version": "1.2.0",
      "model_name": "LayoutModel",
      "state": {
       "_model_module": "@jupyter-widgets/base",
       "_model_module_version": "1.2.0",
       "_model_name": "LayoutModel",
       "_view_count": null,
       "_view_module": "@jupyter-widgets/base",
       "_view_module_version": "1.2.0",
       "_view_name": "LayoutView",
       "align_content": null,
       "align_items": null,
       "align_self": null,
       "border": null,
       "bottom": null,
       "display": null,
       "flex": null,
       "flex_flow": null,
       "grid_area": null,
       "grid_auto_columns": null,
       "grid_auto_flow": null,
       "grid_auto_rows": null,
       "grid_column": null,
       "grid_gap": null,
       "grid_row": null,
       "grid_template_areas": null,
       "grid_template_columns": null,
       "grid_template_rows": null,
       "height": null,
       "justify_content": null,
       "justify_items": null,
       "left": null,
       "margin": null,
       "max_height": null,
       "max_width": null,
       "min_height": null,
       "min_width": null,
       "object_fit": null,
       "object_position": null,
       "order": null,
       "overflow": null,
       "overflow_x": null,
       "overflow_y": null,
       "padding": null,
       "right": null,
       "top": null,
       "visibility": null,
       "width": null
      }
     },
     "221c51f26ba5400cb1e16aec008f55f0": {
      "model_module": "@jupyter-widgets/controls",
      "model_module_version": "1.5.0",
      "model_name": "DescriptionStyleModel",
      "state": {
       "_model_module": "@jupyter-widgets/controls",
       "_model_module_version": "1.5.0",
       "_model_name": "DescriptionStyleModel",
       "_view_count": null,
       "_view_module": "@jupyter-widgets/base",
       "_view_module_version": "1.2.0",
       "_view_name": "StyleView",
       "description_width": ""
      }
     },
     "22dc1f2d66a741b190911e3a276e9d34": {
      "model_module": "@jupyter-widgets/base",
      "model_module_version": "1.2.0",
      "model_name": "LayoutModel",
      "state": {
       "_model_module": "@jupyter-widgets/base",
       "_model_module_version": "1.2.0",
       "_model_name": "LayoutModel",
       "_view_count": null,
       "_view_module": "@jupyter-widgets/base",
       "_view_module_version": "1.2.0",
       "_view_name": "LayoutView",
       "align_content": null,
       "align_items": null,
       "align_self": null,
       "border": null,
       "bottom": null,
       "display": null,
       "flex": null,
       "flex_flow": null,
       "grid_area": null,
       "grid_auto_columns": null,
       "grid_auto_flow": null,
       "grid_auto_rows": null,
       "grid_column": null,
       "grid_gap": null,
       "grid_row": null,
       "grid_template_areas": null,
       "grid_template_columns": null,
       "grid_template_rows": null,
       "height": null,
       "justify_content": null,
       "justify_items": null,
       "left": null,
       "margin": null,
       "max_height": null,
       "max_width": null,
       "min_height": null,
       "min_width": null,
       "object_fit": null,
       "object_position": null,
       "order": null,
       "overflow": null,
       "overflow_x": null,
       "overflow_y": null,
       "padding": null,
       "right": null,
       "top": null,
       "visibility": null,
       "width": null
      }
     },
     "232406f72f7c4aa0a5514c5a29f0aa7b": {
      "model_module": "@jupyter-widgets/controls",
      "model_module_version": "1.5.0",
      "model_name": "DescriptionStyleModel",
      "state": {
       "_model_module": "@jupyter-widgets/controls",
       "_model_module_version": "1.5.0",
       "_model_name": "DescriptionStyleModel",
       "_view_count": null,
       "_view_module": "@jupyter-widgets/base",
       "_view_module_version": "1.2.0",
       "_view_name": "StyleView",
       "description_width": ""
      }
     },
     "2339fdaf71cf4c60a8ad0183127ef446": {
      "model_module": "@jupyter-widgets/controls",
      "model_module_version": "1.5.0",
      "model_name": "HTMLModel",
      "state": {
       "_dom_classes": [],
       "_model_module": "@jupyter-widgets/controls",
       "_model_module_version": "1.5.0",
       "_model_name": "HTMLModel",
       "_view_count": null,
       "_view_module": "@jupyter-widgets/controls",
       "_view_module_version": "1.5.0",
       "_view_name": "HTMLView",
       "description": "",
       "description_tooltip": null,
       "layout": "IPY_MODEL_1f0c0f6fed3d4b9fa1165eee71bd6f46",
       "placeholder": "​",
       "style": "IPY_MODEL_aace10d528654f98b3ba10c74b66ba48",
       "value": " 40/40 [00:00&lt;00:00, 95.18it/s]"
      }
     },
     "292833d661f5450a88dd28777b427da2": {
      "model_module": "@jupyter-widgets/controls",
      "model_module_version": "1.5.0",
      "model_name": "DescriptionStyleModel",
      "state": {
       "_model_module": "@jupyter-widgets/controls",
       "_model_module_version": "1.5.0",
       "_model_name": "DescriptionStyleModel",
       "_view_count": null,
       "_view_module": "@jupyter-widgets/base",
       "_view_module_version": "1.2.0",
       "_view_name": "StyleView",
       "description_width": ""
      }
     },
     "2a1a37659ed34fdc98de4476b118aae5": {
      "model_module": "@jupyter-widgets/controls",
      "model_module_version": "1.5.0",
      "model_name": "ProgressStyleModel",
      "state": {
       "_model_module": "@jupyter-widgets/controls",
       "_model_module_version": "1.5.0",
       "_model_name": "ProgressStyleModel",
       "_view_count": null,
       "_view_module": "@jupyter-widgets/base",
       "_view_module_version": "1.2.0",
       "_view_name": "StyleView",
       "bar_color": null,
       "description_width": ""
      }
     },
     "2ded07ec46f04295b01e84f985dacd89": {
      "model_module": "@jupyter-widgets/controls",
      "model_module_version": "1.5.0",
      "model_name": "HBoxModel",
      "state": {
       "_dom_classes": [],
       "_model_module": "@jupyter-widgets/controls",
       "_model_module_version": "1.5.0",
       "_model_name": "HBoxModel",
       "_view_count": null,
       "_view_module": "@jupyter-widgets/controls",
       "_view_module_version": "1.5.0",
       "_view_name": "HBoxView",
       "box_style": "",
       "children": [
        "IPY_MODEL_3ab4476b3d2c4b46a748e38c9668f8b9",
        "IPY_MODEL_2edda0c019194e028a209bf6d1d4d842",
        "IPY_MODEL_2e443272cae74cd391b4a92ff7b9d9af"
       ],
       "layout": "IPY_MODEL_58cd224b06a948dcbac9e78ed49e5eb0"
      }
     },
     "2e443272cae74cd391b4a92ff7b9d9af": {
      "model_module": "@jupyter-widgets/controls",
      "model_module_version": "1.5.0",
      "model_name": "HTMLModel",
      "state": {
       "_dom_classes": [],
       "_model_module": "@jupyter-widgets/controls",
       "_model_module_version": "1.5.0",
       "_model_name": "HTMLModel",
       "_view_count": null,
       "_view_module": "@jupyter-widgets/controls",
       "_view_module_version": "1.5.0",
       "_view_name": "HTMLView",
       "description": "",
       "description_tooltip": null,
       "layout": "IPY_MODEL_f3ad68fdc44444d2928005e02e927774",
       "placeholder": "​",
       "style": "IPY_MODEL_0280d2f9ee364a6693367f9b0a6e7152",
       "value": " 79/79 [00:01&lt;00:00, 65.19it/s]"
      }
     },
     "2edda0c019194e028a209bf6d1d4d842": {
      "model_module": "@jupyter-widgets/controls",
      "model_module_version": "1.5.0",
      "model_name": "FloatProgressModel",
      "state": {
       "_dom_classes": [],
       "_model_module": "@jupyter-widgets/controls",
       "_model_module_version": "1.5.0",
       "_model_name": "FloatProgressModel",
       "_view_count": null,
       "_view_module": "@jupyter-widgets/controls",
       "_view_module_version": "1.5.0",
       "_view_name": "ProgressView",
       "bar_style": "success",
       "description": "",
       "description_tooltip": null,
       "layout": "IPY_MODEL_a585778297f84d01b2204751ab377dbc",
       "max": 1.0,
       "min": 0.0,
       "orientation": "horizontal",
       "style": "IPY_MODEL_2a1a37659ed34fdc98de4476b118aae5",
       "value": 1.0
      }
     },
     "3768a356fea84fa3a9b5b536d5ab2b0d": {
      "model_module": "@jupyter-widgets/controls",
      "model_module_version": "1.5.0",
      "model_name": "HTMLModel",
      "state": {
       "_dom_classes": [],
       "_model_module": "@jupyter-widgets/controls",
       "_model_module_version": "1.5.0",
       "_model_name": "HTMLModel",
       "_view_count": null,
       "_view_module": "@jupyter-widgets/controls",
       "_view_module_version": "1.5.0",
       "_view_name": "HTMLView",
       "description": "",
       "description_tooltip": null,
       "layout": "IPY_MODEL_22dc1f2d66a741b190911e3a276e9d34",
       "placeholder": "​",
       "style": "IPY_MODEL_5bffc32e13374e15a16e7d969fcc7dd8",
       "value": "Testing: 100%"
      }
     },
     "39c7acd3592d4b19b85f8006585126bf": {
      "model_module": "@jupyter-widgets/controls",
      "model_module_version": "1.5.0",
      "model_name": "HBoxModel",
      "state": {
       "_dom_classes": [],
       "_model_module": "@jupyter-widgets/controls",
       "_model_module_version": "1.5.0",
       "_model_name": "HBoxModel",
       "_view_count": null,
       "_view_module": "@jupyter-widgets/controls",
       "_view_module_version": "1.5.0",
       "_view_name": "HBoxView",
       "box_style": "",
       "children": [
        "IPY_MODEL_bfcc0d1e466941b8b077179c0fcbf7c6",
        "IPY_MODEL_a1dae06b466446259a296f4a41265803",
        "IPY_MODEL_b735c639164c456f80bca40581f978e0"
       ],
       "layout": "IPY_MODEL_ef6c1ae9b32241f788ba9c40f9d02910"
      }
     },
     "39f2ded5ae36416cabd9b5a8487bca22": {
      "model_module": "@jupyter-widgets/controls",
      "model_module_version": "1.5.0",
      "model_name": "DescriptionStyleModel",
      "state": {
       "_model_module": "@jupyter-widgets/controls",
       "_model_module_version": "1.5.0",
       "_model_name": "DescriptionStyleModel",
       "_view_count": null,
       "_view_module": "@jupyter-widgets/base",
       "_view_module_version": "1.2.0",
       "_view_name": "StyleView",
       "description_width": ""
      }
     },
     "3a0048fb344c4b3c8c5b2397177059c3": {
      "model_module": "@jupyter-widgets/controls",
      "model_module_version": "1.5.0",
      "model_name": "HTMLModel",
      "state": {
       "_dom_classes": [],
       "_model_module": "@jupyter-widgets/controls",
       "_model_module_version": "1.5.0",
       "_model_name": "HTMLModel",
       "_view_count": null,
       "_view_module": "@jupyter-widgets/controls",
       "_view_module_version": "1.5.0",
       "_view_name": "HTMLView",
       "description": "",
       "description_tooltip": null,
       "layout": "IPY_MODEL_fea424522c7e4874b142f630ec93337b",
       "placeholder": "​",
       "style": "IPY_MODEL_39f2ded5ae36416cabd9b5a8487bca22",
       "value": " 40/40 [00:00&lt;00:00, 58.63it/s]"
      }
     },
     "3ab4476b3d2c4b46a748e38c9668f8b9": {
      "model_module": "@jupyter-widgets/controls",
      "model_module_version": "1.5.0",
      "model_name": "HTMLModel",
      "state": {
       "_dom_classes": [],
       "_model_module": "@jupyter-widgets/controls",
       "_model_module_version": "1.5.0",
       "_model_name": "HTMLModel",
       "_view_count": null,
       "_view_module": "@jupyter-widgets/controls",
       "_view_module_version": "1.5.0",
       "_view_name": "HTMLView",
       "description": "",
       "description_tooltip": null,
       "layout": "IPY_MODEL_8e2386d73d834266bb83fdac44fd17f5",
       "placeholder": "​",
       "style": "IPY_MODEL_dceed8ce93454616be2a3efe996c0d3e",
       "value": "Testing: 100%"
      }
     },
     "3fbae16b126f4217bc309a2118165356": {
      "model_module": "@jupyter-widgets/controls",
      "model_module_version": "1.5.0",
      "model_name": "HTMLModel",
      "state": {
       "_dom_classes": [],
       "_model_module": "@jupyter-widgets/controls",
       "_model_module_version": "1.5.0",
       "_model_name": "HTMLModel",
       "_view_count": null,
       "_view_module": "@jupyter-widgets/controls",
       "_view_module_version": "1.5.0",
       "_view_name": "HTMLView",
       "description": "",
       "description_tooltip": null,
       "layout": "IPY_MODEL_d5ea48048cd54645afcfded2080e95dd",
       "placeholder": "​",
       "style": "IPY_MODEL_cdca789d051f40c0a7bd641a0e5ff82e",
       "value": " 40/40 [00:00&lt;00:00, 64.21it/s]"
      }
     },
     "4274cfd933ff496795ed8ed679d7552f": {
      "model_module": "@jupyter-widgets/base",
      "model_module_version": "1.2.0",
      "model_name": "LayoutModel",
      "state": {
       "_model_module": "@jupyter-widgets/base",
       "_model_module_version": "1.2.0",
       "_model_name": "LayoutModel",
       "_view_count": null,
       "_view_module": "@jupyter-widgets/base",
       "_view_module_version": "1.2.0",
       "_view_name": "LayoutView",
       "align_content": null,
       "align_items": null,
       "align_self": null,
       "border": null,
       "bottom": null,
       "display": null,
       "flex": null,
       "flex_flow": null,
       "grid_area": null,
       "grid_auto_columns": null,
       "grid_auto_flow": null,
       "grid_auto_rows": null,
       "grid_column": null,
       "grid_gap": null,
       "grid_row": null,
       "grid_template_areas": null,
       "grid_template_columns": null,
       "grid_template_rows": null,
       "height": null,
       "justify_content": null,
       "justify_items": null,
       "left": null,
       "margin": null,
       "max_height": null,
       "max_width": null,
       "min_height": null,
       "min_width": null,
       "object_fit": null,
       "object_position": null,
       "order": null,
       "overflow": null,
       "overflow_x": null,
       "overflow_y": null,
       "padding": null,
       "right": null,
       "top": null,
       "visibility": null,
       "width": null
      }
     },
     "57a739f54bca4c53a064423f8e9adca3": {
      "model_module": "@jupyter-widgets/controls",
      "model_module_version": "1.5.0",
      "model_name": "DescriptionStyleModel",
      "state": {
       "_model_module": "@jupyter-widgets/controls",
       "_model_module_version": "1.5.0",
       "_model_name": "DescriptionStyleModel",
       "_view_count": null,
       "_view_module": "@jupyter-widgets/base",
       "_view_module_version": "1.2.0",
       "_view_name": "StyleView",
       "description_width": ""
      }
     },
     "58cd224b06a948dcbac9e78ed49e5eb0": {
      "model_module": "@jupyter-widgets/base",
      "model_module_version": "1.2.0",
      "model_name": "LayoutModel",
      "state": {
       "_model_module": "@jupyter-widgets/base",
       "_model_module_version": "1.2.0",
       "_model_name": "LayoutModel",
       "_view_count": null,
       "_view_module": "@jupyter-widgets/base",
       "_view_module_version": "1.2.0",
       "_view_name": "LayoutView",
       "align_content": null,
       "align_items": null,
       "align_self": null,
       "border": null,
       "bottom": null,
       "display": "inline-flex",
       "flex": null,
       "flex_flow": "row wrap",
       "grid_area": null,
       "grid_auto_columns": null,
       "grid_auto_flow": null,
       "grid_auto_rows": null,
       "grid_column": null,
       "grid_gap": null,
       "grid_row": null,
       "grid_template_areas": null,
       "grid_template_columns": null,
       "grid_template_rows": null,
       "height": null,
       "justify_content": null,
       "justify_items": null,
       "left": null,
       "margin": null,
       "max_height": null,
       "max_width": null,
       "min_height": null,
       "min_width": null,
       "object_fit": null,
       "object_position": null,
       "order": null,
       "overflow": null,
       "overflow_x": null,
       "overflow_y": null,
       "padding": null,
       "right": null,
       "top": null,
       "visibility": null,
       "width": "100%"
      }
     },
     "5a290ea6223a4e70b20b8fb69bb2fd3d": {
      "model_module": "@jupyter-widgets/controls",
      "model_module_version": "1.5.0",
      "model_name": "HTMLModel",
      "state": {
       "_dom_classes": [],
       "_model_module": "@jupyter-widgets/controls",
       "_model_module_version": "1.5.0",
       "_model_name": "HTMLModel",
       "_view_count": null,
       "_view_module": "@jupyter-widgets/controls",
       "_view_module_version": "1.5.0",
       "_view_name": "HTMLView",
       "description": "",
       "description_tooltip": null,
       "layout": "IPY_MODEL_fd0175274e1d471586f7ba7fd76ae282",
       "placeholder": "​",
       "style": "IPY_MODEL_6f069fcaf7cf484f91cd883f921b04d9",
       "value": "Testing: 100%"
      }
     },
     "5bffc32e13374e15a16e7d969fcc7dd8": {
      "model_module": "@jupyter-widgets/controls",
      "model_module_version": "1.5.0",
      "model_name": "DescriptionStyleModel",
      "state": {
       "_model_module": "@jupyter-widgets/controls",
       "_model_module_version": "1.5.0",
       "_model_name": "DescriptionStyleModel",
       "_view_count": null,
       "_view_module": "@jupyter-widgets/base",
       "_view_module_version": "1.2.0",
       "_view_name": "StyleView",
       "description_width": ""
      }
     },
     "5d61b651384141759a9a7024372453ea": {
      "model_module": "@jupyter-widgets/base",
      "model_module_version": "1.2.0",
      "model_name": "LayoutModel",
      "state": {
       "_model_module": "@jupyter-widgets/base",
       "_model_module_version": "1.2.0",
       "_model_name": "LayoutModel",
       "_view_count": null,
       "_view_module": "@jupyter-widgets/base",
       "_view_module_version": "1.2.0",
       "_view_name": "LayoutView",
       "align_content": null,
       "align_items": null,
       "align_self": null,
       "border": null,
       "bottom": null,
       "display": null,
       "flex": "2",
       "flex_flow": null,
       "grid_area": null,
       "grid_auto_columns": null,
       "grid_auto_flow": null,
       "grid_auto_rows": null,
       "grid_column": null,
       "grid_gap": null,
       "grid_row": null,
       "grid_template_areas": null,
       "grid_template_columns": null,
       "grid_template_rows": null,
       "height": null,
       "justify_content": null,
       "justify_items": null,
       "left": null,
       "margin": null,
       "max_height": null,
       "max_width": null,
       "min_height": null,
       "min_width": null,
       "object_fit": null,
       "object_position": null,
       "order": null,
       "overflow": null,
       "overflow_x": null,
       "overflow_y": null,
       "padding": null,
       "right": null,
       "top": null,
       "visibility": null,
       "width": null
      }
     },
     "604e0618ba11493a9672c6fedae64cbd": {
      "model_module": "@jupyter-widgets/controls",
      "model_module_version": "1.5.0",
      "model_name": "ProgressStyleModel",
      "state": {
       "_model_module": "@jupyter-widgets/controls",
       "_model_module_version": "1.5.0",
       "_model_name": "ProgressStyleModel",
       "_view_count": null,
       "_view_module": "@jupyter-widgets/base",
       "_view_module_version": "1.2.0",
       "_view_name": "StyleView",
       "bar_color": null,
       "description_width": ""
      }
     },
     "6f00605bab4644d4b5bd2ad900a101d9": {
      "model_module": "@jupyter-widgets/controls",
      "model_module_version": "1.5.0",
      "model_name": "ProgressStyleModel",
      "state": {
       "_model_module": "@jupyter-widgets/controls",
       "_model_module_version": "1.5.0",
       "_model_name": "ProgressStyleModel",
       "_view_count": null,
       "_view_module": "@jupyter-widgets/base",
       "_view_module_version": "1.2.0",
       "_view_name": "StyleView",
       "bar_color": null,
       "description_width": ""
      }
     },
     "6f069fcaf7cf484f91cd883f921b04d9": {
      "model_module": "@jupyter-widgets/controls",
      "model_module_version": "1.5.0",
      "model_name": "DescriptionStyleModel",
      "state": {
       "_model_module": "@jupyter-widgets/controls",
       "_model_module_version": "1.5.0",
       "_model_name": "DescriptionStyleModel",
       "_view_count": null,
       "_view_module": "@jupyter-widgets/base",
       "_view_module_version": "1.2.0",
       "_view_name": "StyleView",
       "description_width": ""
      }
     },
     "71a16e6c80304065a51a9df8d3a9801a": {
      "model_module": "@jupyter-widgets/controls",
      "model_module_version": "1.5.0",
      "model_name": "ProgressStyleModel",
      "state": {
       "_model_module": "@jupyter-widgets/controls",
       "_model_module_version": "1.5.0",
       "_model_name": "ProgressStyleModel",
       "_view_count": null,
       "_view_module": "@jupyter-widgets/base",
       "_view_module_version": "1.2.0",
       "_view_name": "StyleView",
       "bar_color": null,
       "description_width": ""
      }
     },
     "736ceed9c461461ea220bea732775e86": {
      "model_module": "@jupyter-widgets/controls",
      "model_module_version": "1.5.0",
      "model_name": "ProgressStyleModel",
      "state": {
       "_model_module": "@jupyter-widgets/controls",
       "_model_module_version": "1.5.0",
       "_model_name": "ProgressStyleModel",
       "_view_count": null,
       "_view_module": "@jupyter-widgets/base",
       "_view_module_version": "1.2.0",
       "_view_name": "StyleView",
       "bar_color": null,
       "description_width": ""
      }
     },
     "77ee98b5c7754a8382a235fc24cdde77": {
      "model_module": "@jupyter-widgets/base",
      "model_module_version": "1.2.0",
      "model_name": "LayoutModel",
      "state": {
       "_model_module": "@jupyter-widgets/base",
       "_model_module_version": "1.2.0",
       "_model_name": "LayoutModel",
       "_view_count": null,
       "_view_module": "@jupyter-widgets/base",
       "_view_module_version": "1.2.0",
       "_view_name": "LayoutView",
       "align_content": null,
       "align_items": null,
       "align_self": null,
       "border": null,
       "bottom": null,
       "display": null,
       "flex": "2",
       "flex_flow": null,
       "grid_area": null,
       "grid_auto_columns": null,
       "grid_auto_flow": null,
       "grid_auto_rows": null,
       "grid_column": null,
       "grid_gap": null,
       "grid_row": null,
       "grid_template_areas": null,
       "grid_template_columns": null,
       "grid_template_rows": null,
       "height": null,
       "justify_content": null,
       "justify_items": null,
       "left": null,
       "margin": null,
       "max_height": null,
       "max_width": null,
       "min_height": null,
       "min_width": null,
       "object_fit": null,
       "object_position": null,
       "order": null,
       "overflow": null,
       "overflow_x": null,
       "overflow_y": null,
       "padding": null,
       "right": null,
       "top": null,
       "visibility": null,
       "width": null
      }
     },
     "79956bb6a0ce44ea8acbb0da0a16f1bb": {
      "model_module": "@jupyter-widgets/controls",
      "model_module_version": "1.5.0",
      "model_name": "FloatProgressModel",
      "state": {
       "_dom_classes": [],
       "_model_module": "@jupyter-widgets/controls",
       "_model_module_version": "1.5.0",
       "_model_name": "FloatProgressModel",
       "_view_count": null,
       "_view_module": "@jupyter-widgets/controls",
       "_view_module_version": "1.5.0",
       "_view_name": "ProgressView",
       "bar_style": "success",
       "description": "",
       "description_tooltip": null,
       "layout": "IPY_MODEL_8c8551b798414082adff121e5cfd0b09",
       "max": 1.0,
       "min": 0.0,
       "orientation": "horizontal",
       "style": "IPY_MODEL_1c6ef1823e234e498c5ba285407bb0c7",
       "value": 1.0
      }
     },
     "7bc23466539940779d477b0e65e25d9b": {
      "model_module": "@jupyter-widgets/base",
      "model_module_version": "1.2.0",
      "model_name": "LayoutModel",
      "state": {
       "_model_module": "@jupyter-widgets/base",
       "_model_module_version": "1.2.0",
       "_model_name": "LayoutModel",
       "_view_count": null,
       "_view_module": "@jupyter-widgets/base",
       "_view_module_version": "1.2.0",
       "_view_name": "LayoutView",
       "align_content": null,
       "align_items": null,
       "align_self": null,
       "border": null,
       "bottom": null,
       "display": null,
       "flex": null,
       "flex_flow": null,
       "grid_area": null,
       "grid_auto_columns": null,
       "grid_auto_flow": null,
       "grid_auto_rows": null,
       "grid_column": null,
       "grid_gap": null,
       "grid_row": null,
       "grid_template_areas": null,
       "grid_template_columns": null,
       "grid_template_rows": null,
       "height": null,
       "justify_content": null,
       "justify_items": null,
       "left": null,
       "margin": null,
       "max_height": null,
       "max_width": null,
       "min_height": null,
       "min_width": null,
       "object_fit": null,
       "object_position": null,
       "order": null,
       "overflow": null,
       "overflow_x": null,
       "overflow_y": null,
       "padding": null,
       "right": null,
       "top": null,
       "visibility": null,
       "width": null
      }
     },
     "7c617246fb134af99b8a38598fa15d3d": {
      "model_module": "@jupyter-widgets/base",
      "model_module_version": "1.2.0",
      "model_name": "LayoutModel",
      "state": {
       "_model_module": "@jupyter-widgets/base",
       "_model_module_version": "1.2.0",
       "_model_name": "LayoutModel",
       "_view_count": null,
       "_view_module": "@jupyter-widgets/base",
       "_view_module_version": "1.2.0",
       "_view_name": "LayoutView",
       "align_content": null,
       "align_items": null,
       "align_self": null,
       "border": null,
       "bottom": null,
       "display": null,
       "flex": "2",
       "flex_flow": null,
       "grid_area": null,
       "grid_auto_columns": null,
       "grid_auto_flow": null,
       "grid_auto_rows": null,
       "grid_column": null,
       "grid_gap": null,
       "grid_row": null,
       "grid_template_areas": null,
       "grid_template_columns": null,
       "grid_template_rows": null,
       "height": null,
       "justify_content": null,
       "justify_items": null,
       "left": null,
       "margin": null,
       "max_height": null,
       "max_width": null,
       "min_height": null,
       "min_width": null,
       "object_fit": null,
       "object_position": null,
       "order": null,
       "overflow": null,
       "overflow_x": null,
       "overflow_y": null,
       "padding": null,
       "right": null,
       "top": null,
       "visibility": null,
       "width": null
      }
     },
     "7f253ac0733745bda81388a7f73555cb": {
      "model_module": "@jupyter-widgets/controls",
      "model_module_version": "1.5.0",
      "model_name": "FloatProgressModel",
      "state": {
       "_dom_classes": [],
       "_model_module": "@jupyter-widgets/controls",
       "_model_module_version": "1.5.0",
       "_model_name": "FloatProgressModel",
       "_view_count": null,
       "_view_module": "@jupyter-widgets/controls",
       "_view_module_version": "1.5.0",
       "_view_name": "ProgressView",
       "bar_style": "success",
       "description": "",
       "description_tooltip": null,
       "layout": "IPY_MODEL_77ee98b5c7754a8382a235fc24cdde77",
       "max": 1.0,
       "min": 0.0,
       "orientation": "horizontal",
       "style": "IPY_MODEL_736ceed9c461461ea220bea732775e86",
       "value": 1.0
      }
     },
     "8068a26b43bc4a03aa7fa4fc17a0090b": {
      "model_module": "@jupyter-widgets/controls",
      "model_module_version": "1.5.0",
      "model_name": "HBoxModel",
      "state": {
       "_dom_classes": [],
       "_model_module": "@jupyter-widgets/controls",
       "_model_module_version": "1.5.0",
       "_model_name": "HBoxModel",
       "_view_count": null,
       "_view_module": "@jupyter-widgets/controls",
       "_view_module_version": "1.5.0",
       "_view_name": "HBoxView",
       "box_style": "",
       "children": [
        "IPY_MODEL_e5eb32ecd7894eaca1175866b50a7a2b",
        "IPY_MODEL_79956bb6a0ce44ea8acbb0da0a16f1bb",
        "IPY_MODEL_9543c15d93284e76abd7a0805109c4f8"
       ],
       "layout": "IPY_MODEL_e55d9f1a421544d0bf223a8128bb4216"
      }
     },
     "83ff500942c344c1b38613555b0d3a43": {
      "model_module": "@jupyter-widgets/controls",
      "model_module_version": "1.5.0",
      "model_name": "ProgressStyleModel",
      "state": {
       "_model_module": "@jupyter-widgets/controls",
       "_model_module_version": "1.5.0",
       "_model_name": "ProgressStyleModel",
       "_view_count": null,
       "_view_module": "@jupyter-widgets/base",
       "_view_module_version": "1.2.0",
       "_view_name": "StyleView",
       "bar_color": null,
       "description_width": ""
      }
     },
     "88cdb2c914524133abdd92de10bd9f70": {
      "model_module": "@jupyter-widgets/base",
      "model_module_version": "1.2.0",
      "model_name": "LayoutModel",
      "state": {
       "_model_module": "@jupyter-widgets/base",
       "_model_module_version": "1.2.0",
       "_model_name": "LayoutModel",
       "_view_count": null,
       "_view_module": "@jupyter-widgets/base",
       "_view_module_version": "1.2.0",
       "_view_name": "LayoutView",
       "align_content": null,
       "align_items": null,
       "align_self": null,
       "border": null,
       "bottom": null,
       "display": null,
       "flex": null,
       "flex_flow": null,
       "grid_area": null,
       "grid_auto_columns": null,
       "grid_auto_flow": null,
       "grid_auto_rows": null,
       "grid_column": null,
       "grid_gap": null,
       "grid_row": null,
       "grid_template_areas": null,
       "grid_template_columns": null,
       "grid_template_rows": null,
       "height": null,
       "justify_content": null,
       "justify_items": null,
       "left": null,
       "margin": null,
       "max_height": null,
       "max_width": null,
       "min_height": null,
       "min_width": null,
       "object_fit": null,
       "object_position": null,
       "order": null,
       "overflow": null,
       "overflow_x": null,
       "overflow_y": null,
       "padding": null,
       "right": null,
       "top": null,
       "visibility": null,
       "width": null
      }
     },
     "8b9f6a1a3c5449099311a43a4d57753b": {
      "model_module": "@jupyter-widgets/controls",
      "model_module_version": "1.5.0",
      "model_name": "DescriptionStyleModel",
      "state": {
       "_model_module": "@jupyter-widgets/controls",
       "_model_module_version": "1.5.0",
       "_model_name": "DescriptionStyleModel",
       "_view_count": null,
       "_view_module": "@jupyter-widgets/base",
       "_view_module_version": "1.2.0",
       "_view_name": "StyleView",
       "description_width": ""
      }
     },
     "8c8551b798414082adff121e5cfd0b09": {
      "model_module": "@jupyter-widgets/base",
      "model_module_version": "1.2.0",
      "model_name": "LayoutModel",
      "state": {
       "_model_module": "@jupyter-widgets/base",
       "_model_module_version": "1.2.0",
       "_model_name": "LayoutModel",
       "_view_count": null,
       "_view_module": "@jupyter-widgets/base",
       "_view_module_version": "1.2.0",
       "_view_name": "LayoutView",
       "align_content": null,
       "align_items": null,
       "align_self": null,
       "border": null,
       "bottom": null,
       "display": null,
       "flex": "2",
       "flex_flow": null,
       "grid_area": null,
       "grid_auto_columns": null,
       "grid_auto_flow": null,
       "grid_auto_rows": null,
       "grid_column": null,
       "grid_gap": null,
       "grid_row": null,
       "grid_template_areas": null,
       "grid_template_columns": null,
       "grid_template_rows": null,
       "height": null,
       "justify_content": null,
       "justify_items": null,
       "left": null,
       "margin": null,
       "max_height": null,
       "max_width": null,
       "min_height": null,
       "min_width": null,
       "object_fit": null,
       "object_position": null,
       "order": null,
       "overflow": null,
       "overflow_x": null,
       "overflow_y": null,
       "padding": null,
       "right": null,
       "top": null,
       "visibility": null,
       "width": null
      }
     },
     "8e1650be1e444b32854b83ba521281a6": {
      "model_module": "@jupyter-widgets/controls",
      "model_module_version": "1.5.0",
      "model_name": "DescriptionStyleModel",
      "state": {
       "_model_module": "@jupyter-widgets/controls",
       "_model_module_version": "1.5.0",
       "_model_name": "DescriptionStyleModel",
       "_view_count": null,
       "_view_module": "@jupyter-widgets/base",
       "_view_module_version": "1.2.0",
       "_view_name": "StyleView",
       "description_width": ""
      }
     },
     "8e2386d73d834266bb83fdac44fd17f5": {
      "model_module": "@jupyter-widgets/base",
      "model_module_version": "1.2.0",
      "model_name": "LayoutModel",
      "state": {
       "_model_module": "@jupyter-widgets/base",
       "_model_module_version": "1.2.0",
       "_model_name": "LayoutModel",
       "_view_count": null,
       "_view_module": "@jupyter-widgets/base",
       "_view_module_version": "1.2.0",
       "_view_name": "LayoutView",
       "align_content": null,
       "align_items": null,
       "align_self": null,
       "border": null,
       "bottom": null,
       "display": null,
       "flex": null,
       "flex_flow": null,
       "grid_area": null,
       "grid_auto_columns": null,
       "grid_auto_flow": null,
       "grid_auto_rows": null,
       "grid_column": null,
       "grid_gap": null,
       "grid_row": null,
       "grid_template_areas": null,
       "grid_template_columns": null,
       "grid_template_rows": null,
       "height": null,
       "justify_content": null,
       "justify_items": null,
       "left": null,
       "margin": null,
       "max_height": null,
       "max_width": null,
       "min_height": null,
       "min_width": null,
       "object_fit": null,
       "object_position": null,
       "order": null,
       "overflow": null,
       "overflow_x": null,
       "overflow_y": null,
       "padding": null,
       "right": null,
       "top": null,
       "visibility": null,
       "width": null
      }
     },
     "9543c15d93284e76abd7a0805109c4f8": {
      "model_module": "@jupyter-widgets/controls",
      "model_module_version": "1.5.0",
      "model_name": "HTMLModel",
      "state": {
       "_dom_classes": [],
       "_model_module": "@jupyter-widgets/controls",
       "_model_module_version": "1.5.0",
       "_model_name": "HTMLModel",
       "_view_count": null,
       "_view_module": "@jupyter-widgets/controls",
       "_view_module_version": "1.5.0",
       "_view_name": "HTMLView",
       "description": "",
       "description_tooltip": null,
       "layout": "IPY_MODEL_eac044c0bc394acea5f2cb1ba6a55b8c",
       "placeholder": "​",
       "style": "IPY_MODEL_f5c930783c6d49dda10c92921d1d0733",
       "value": " 79/79 [00:00&lt;00:00, 128.02it/s]"
      }
     },
     "9821203acc074225ae055c441dbb1634": {
      "model_module": "@jupyter-widgets/controls",
      "model_module_version": "1.5.0",
      "model_name": "HTMLModel",
      "state": {
       "_dom_classes": [],
       "_model_module": "@jupyter-widgets/controls",
       "_model_module_version": "1.5.0",
       "_model_name": "HTMLModel",
       "_view_count": null,
       "_view_module": "@jupyter-widgets/controls",
       "_view_module_version": "1.5.0",
       "_view_name": "HTMLView",
       "description": "",
       "description_tooltip": null,
       "layout": "IPY_MODEL_095e131c5d4c400abd8011655a4752f1",
       "placeholder": "​",
       "style": "IPY_MODEL_221c51f26ba5400cb1e16aec008f55f0",
       "value": "Testing: 100%"
      }
     },
     "a1dae06b466446259a296f4a41265803": {
      "model_module": "@jupyter-widgets/controls",
      "model_module_version": "1.5.0",
      "model_name": "FloatProgressModel",
      "state": {
       "_dom_classes": [],
       "_model_module": "@jupyter-widgets/controls",
       "_model_module_version": "1.5.0",
       "_model_name": "FloatProgressModel",
       "_view_count": null,
       "_view_module": "@jupyter-widgets/controls",
       "_view_module_version": "1.5.0",
       "_view_name": "ProgressView",
       "bar_style": "success",
       "description": "",
       "description_tooltip": null,
       "layout": "IPY_MODEL_ee25e2aeccde4b468497acadcb450897",
       "max": 1.0,
       "min": 0.0,
       "orientation": "horizontal",
       "style": "IPY_MODEL_6f00605bab4644d4b5bd2ad900a101d9",
       "value": 1.0
      }
     },
     "a25f4ae6464d4fadb0cc92a1270b53e3": {
      "model_module": "@jupyter-widgets/controls",
      "model_module_version": "1.5.0",
      "model_name": "HBoxModel",
      "state": {
       "_dom_classes": [],
       "_model_module": "@jupyter-widgets/controls",
       "_model_module_version": "1.5.0",
       "_model_name": "HBoxModel",
       "_view_count": null,
       "_view_module": "@jupyter-widgets/controls",
       "_view_module_version": "1.5.0",
       "_view_name": "HBoxView",
       "box_style": "",
       "children": [
        "IPY_MODEL_9821203acc074225ae055c441dbb1634",
        "IPY_MODEL_af64fbf6ed614455a19a4a42703163a2",
        "IPY_MODEL_0a908fcb7db44784a4f67d478bb361c0"
       ],
       "layout": "IPY_MODEL_11a6831c90f64d5e8d230fe8be1261ff"
      }
     },
     "a585778297f84d01b2204751ab377dbc": {
      "model_module": "@jupyter-widgets/base",
      "model_module_version": "1.2.0",
      "model_name": "LayoutModel",
      "state": {
       "_model_module": "@jupyter-widgets/base",
       "_model_module_version": "1.2.0",
       "_model_name": "LayoutModel",
       "_view_count": null,
       "_view_module": "@jupyter-widgets/base",
       "_view_module_version": "1.2.0",
       "_view_name": "LayoutView",
       "align_content": null,
       "align_items": null,
       "align_self": null,
       "border": null,
       "bottom": null,
       "display": null,
       "flex": "2",
       "flex_flow": null,
       "grid_area": null,
       "grid_auto_columns": null,
       "grid_auto_flow": null,
       "grid_auto_rows": null,
       "grid_column": null,
       "grid_gap": null,
       "grid_row": null,
       "grid_template_areas": null,
       "grid_template_columns": null,
       "grid_template_rows": null,
       "height": null,
       "justify_content": null,
       "justify_items": null,
       "left": null,
       "margin": null,
       "max_height": null,
       "max_width": null,
       "min_height": null,
       "min_width": null,
       "object_fit": null,
       "object_position": null,
       "order": null,
       "overflow": null,
       "overflow_x": null,
       "overflow_y": null,
       "padding": null,
       "right": null,
       "top": null,
       "visibility": null,
       "width": null
      }
     },
     "a5ecebe467e9466a883774c32c5a1d41": {
      "model_module": "@jupyter-widgets/base",
      "model_module_version": "1.2.0",
      "model_name": "LayoutModel",
      "state": {
       "_model_module": "@jupyter-widgets/base",
       "_model_module_version": "1.2.0",
       "_model_name": "LayoutModel",
       "_view_count": null,
       "_view_module": "@jupyter-widgets/base",
       "_view_module_version": "1.2.0",
       "_view_name": "LayoutView",
       "align_content": null,
       "align_items": null,
       "align_self": null,
       "border": null,
       "bottom": null,
       "display": "inline-flex",
       "flex": null,
       "flex_flow": "row wrap",
       "grid_area": null,
       "grid_auto_columns": null,
       "grid_auto_flow": null,
       "grid_auto_rows": null,
       "grid_column": null,
       "grid_gap": null,
       "grid_row": null,
       "grid_template_areas": null,
       "grid_template_columns": null,
       "grid_template_rows": null,
       "height": null,
       "justify_content": null,
       "justify_items": null,
       "left": null,
       "margin": null,
       "max_height": null,
       "max_width": null,
       "min_height": null,
       "min_width": null,
       "object_fit": null,
       "object_position": null,
       "order": null,
       "overflow": null,
       "overflow_x": null,
       "overflow_y": null,
       "padding": null,
       "right": null,
       "top": null,
       "visibility": null,
       "width": "100%"
      }
     },
     "a6e859f8e55347ad8e2c8af0eb96187d": {
      "model_module": "@jupyter-widgets/base",
      "model_module_version": "1.2.0",
      "model_name": "LayoutModel",
      "state": {
       "_model_module": "@jupyter-widgets/base",
       "_model_module_version": "1.2.0",
       "_model_name": "LayoutModel",
       "_view_count": null,
       "_view_module": "@jupyter-widgets/base",
       "_view_module_version": "1.2.0",
       "_view_name": "LayoutView",
       "align_content": null,
       "align_items": null,
       "align_self": null,
       "border": null,
       "bottom": null,
       "display": null,
       "flex": "2",
       "flex_flow": null,
       "grid_area": null,
       "grid_auto_columns": null,
       "grid_auto_flow": null,
       "grid_auto_rows": null,
       "grid_column": null,
       "grid_gap": null,
       "grid_row": null,
       "grid_template_areas": null,
       "grid_template_columns": null,
       "grid_template_rows": null,
       "height": null,
       "justify_content": null,
       "justify_items": null,
       "left": null,
       "margin": null,
       "max_height": null,
       "max_width": null,
       "min_height": null,
       "min_width": null,
       "object_fit": null,
       "object_position": null,
       "order": null,
       "overflow": null,
       "overflow_x": null,
       "overflow_y": null,
       "padding": null,
       "right": null,
       "top": null,
       "visibility": null,
       "width": null
      }
     },
     "a6f1e4982f5c41f3b2f500f461b915bc": {
      "model_module": "@jupyter-widgets/base",
      "model_module_version": "1.2.0",
      "model_name": "LayoutModel",
      "state": {
       "_model_module": "@jupyter-widgets/base",
       "_model_module_version": "1.2.0",
       "_model_name": "LayoutModel",
       "_view_count": null,
       "_view_module": "@jupyter-widgets/base",
       "_view_module_version": "1.2.0",
       "_view_name": "LayoutView",
       "align_content": null,
       "align_items": null,
       "align_self": null,
       "border": null,
       "bottom": null,
       "display": null,
       "flex": "2",
       "flex_flow": null,
       "grid_area": null,
       "grid_auto_columns": null,
       "grid_auto_flow": null,
       "grid_auto_rows": null,
       "grid_column": null,
       "grid_gap": null,
       "grid_row": null,
       "grid_template_areas": null,
       "grid_template_columns": null,
       "grid_template_rows": null,
       "height": null,
       "justify_content": null,
       "justify_items": null,
       "left": null,
       "margin": null,
       "max_height": null,
       "max_width": null,
       "min_height": null,
       "min_width": null,
       "object_fit": null,
       "object_position": null,
       "order": null,
       "overflow": null,
       "overflow_x": null,
       "overflow_y": null,
       "padding": null,
       "right": null,
       "top": null,
       "visibility": null,
       "width": null
      }
     },
     "aace10d528654f98b3ba10c74b66ba48": {
      "model_module": "@jupyter-widgets/controls",
      "model_module_version": "1.5.0",
      "model_name": "DescriptionStyleModel",
      "state": {
       "_model_module": "@jupyter-widgets/controls",
       "_model_module_version": "1.5.0",
       "_model_name": "DescriptionStyleModel",
       "_view_count": null,
       "_view_module": "@jupyter-widgets/base",
       "_view_module_version": "1.2.0",
       "_view_name": "StyleView",
       "description_width": ""
      }
     },
     "ab1e913f6eb64f5db3f50d4f11f338dc": {
      "model_module": "@jupyter-widgets/base",
      "model_module_version": "1.2.0",
      "model_name": "LayoutModel",
      "state": {
       "_model_module": "@jupyter-widgets/base",
       "_model_module_version": "1.2.0",
       "_model_name": "LayoutModel",
       "_view_count": null,
       "_view_module": "@jupyter-widgets/base",
       "_view_module_version": "1.2.0",
       "_view_name": "LayoutView",
       "align_content": null,
       "align_items": null,
       "align_self": null,
       "border": null,
       "bottom": null,
       "display": "inline-flex",
       "flex": null,
       "flex_flow": "row wrap",
       "grid_area": null,
       "grid_auto_columns": null,
       "grid_auto_flow": null,
       "grid_auto_rows": null,
       "grid_column": null,
       "grid_gap": null,
       "grid_row": null,
       "grid_template_areas": null,
       "grid_template_columns": null,
       "grid_template_rows": null,
       "height": null,
       "justify_content": null,
       "justify_items": null,
       "left": null,
       "margin": null,
       "max_height": null,
       "max_width": null,
       "min_height": null,
       "min_width": null,
       "object_fit": null,
       "object_position": null,
       "order": null,
       "overflow": null,
       "overflow_x": null,
       "overflow_y": null,
       "padding": null,
       "right": null,
       "top": null,
       "visibility": null,
       "width": "100%"
      }
     },
     "ad02c8825e2c47b0a0bcd1db5edb8f9b": {
      "model_module": "@jupyter-widgets/base",
      "model_module_version": "1.2.0",
      "model_name": "LayoutModel",
      "state": {
       "_model_module": "@jupyter-widgets/base",
       "_model_module_version": "1.2.0",
       "_model_name": "LayoutModel",
       "_view_count": null,
       "_view_module": "@jupyter-widgets/base",
       "_view_module_version": "1.2.0",
       "_view_name": "LayoutView",
       "align_content": null,
       "align_items": null,
       "align_self": null,
       "border": null,
       "bottom": null,
       "display": null,
       "flex": null,
       "flex_flow": null,
       "grid_area": null,
       "grid_auto_columns": null,
       "grid_auto_flow": null,
       "grid_auto_rows": null,
       "grid_column": null,
       "grid_gap": null,
       "grid_row": null,
       "grid_template_areas": null,
       "grid_template_columns": null,
       "grid_template_rows": null,
       "height": null,
       "justify_content": null,
       "justify_items": null,
       "left": null,
       "margin": null,
       "max_height": null,
       "max_width": null,
       "min_height": null,
       "min_width": null,
       "object_fit": null,
       "object_position": null,
       "order": null,
       "overflow": null,
       "overflow_x": null,
       "overflow_y": null,
       "padding": null,
       "right": null,
       "top": null,
       "visibility": null,
       "width": null
      }
     },
     "af64fbf6ed614455a19a4a42703163a2": {
      "model_module": "@jupyter-widgets/controls",
      "model_module_version": "1.5.0",
      "model_name": "FloatProgressModel",
      "state": {
       "_dom_classes": [],
       "_model_module": "@jupyter-widgets/controls",
       "_model_module_version": "1.5.0",
       "_model_name": "FloatProgressModel",
       "_view_count": null,
       "_view_module": "@jupyter-widgets/controls",
       "_view_module_version": "1.5.0",
       "_view_name": "ProgressView",
       "bar_style": "success",
       "description": "",
       "description_tooltip": null,
       "layout": "IPY_MODEL_7c617246fb134af99b8a38598fa15d3d",
       "max": 1.0,
       "min": 0.0,
       "orientation": "horizontal",
       "style": "IPY_MODEL_83ff500942c344c1b38613555b0d3a43",
       "value": 1.0
      }
     },
     "b3523031eac94b1a85dd6fa3d1b07b3e": {
      "model_module": "@jupyter-widgets/base",
      "model_module_version": "1.2.0",
      "model_name": "LayoutModel",
      "state": {
       "_model_module": "@jupyter-widgets/base",
       "_model_module_version": "1.2.0",
       "_model_name": "LayoutModel",
       "_view_count": null,
       "_view_module": "@jupyter-widgets/base",
       "_view_module_version": "1.2.0",
       "_view_name": "LayoutView",
       "align_content": null,
       "align_items": null,
       "align_self": null,
       "border": null,
       "bottom": null,
       "display": "inline-flex",
       "flex": null,
       "flex_flow": "row wrap",
       "grid_area": null,
       "grid_auto_columns": null,
       "grid_auto_flow": null,
       "grid_auto_rows": null,
       "grid_column": null,
       "grid_gap": null,
       "grid_row": null,
       "grid_template_areas": null,
       "grid_template_columns": null,
       "grid_template_rows": null,
       "height": null,
       "justify_content": null,
       "justify_items": null,
       "left": null,
       "margin": null,
       "max_height": null,
       "max_width": null,
       "min_height": null,
       "min_width": null,
       "object_fit": null,
       "object_position": null,
       "order": null,
       "overflow": null,
       "overflow_x": null,
       "overflow_y": null,
       "padding": null,
       "right": null,
       "top": null,
       "visibility": null,
       "width": "100%"
      }
     },
     "b735c639164c456f80bca40581f978e0": {
      "model_module": "@jupyter-widgets/controls",
      "model_module_version": "1.5.0",
      "model_name": "HTMLModel",
      "state": {
       "_dom_classes": [],
       "_model_module": "@jupyter-widgets/controls",
       "_model_module_version": "1.5.0",
       "_model_name": "HTMLModel",
       "_view_count": null,
       "_view_module": "@jupyter-widgets/controls",
       "_view_module_version": "1.5.0",
       "_view_name": "HTMLView",
       "description": "",
       "description_tooltip": null,
       "layout": "IPY_MODEL_cab5987f859643e4b58116960ff96340",
       "placeholder": "​",
       "style": "IPY_MODEL_232406f72f7c4aa0a5514c5a29f0aa7b",
       "value": " 79/79 [00:00&lt;00:00, 131.08it/s]"
      }
     },
     "b74da2adb16848ecacc15a8225209a3d": {
      "model_module": "@jupyter-widgets/base",
      "model_module_version": "1.2.0",
      "model_name": "LayoutModel",
      "state": {
       "_model_module": "@jupyter-widgets/base",
       "_model_module_version": "1.2.0",
       "_model_name": "LayoutModel",
       "_view_count": null,
       "_view_module": "@jupyter-widgets/base",
       "_view_module_version": "1.2.0",
       "_view_name": "LayoutView",
       "align_content": null,
       "align_items": null,
       "align_self": null,
       "border": null,
       "bottom": null,
       "display": "inline-flex",
       "flex": null,
       "flex_flow": "row wrap",
       "grid_area": null,
       "grid_auto_columns": null,
       "grid_auto_flow": null,
       "grid_auto_rows": null,
       "grid_column": null,
       "grid_gap": null,
       "grid_row": null,
       "grid_template_areas": null,
       "grid_template_columns": null,
       "grid_template_rows": null,
       "height": null,
       "justify_content": null,
       "justify_items": null,
       "left": null,
       "margin": null,
       "max_height": null,
       "max_width": null,
       "min_height": null,
       "min_width": null,
       "object_fit": null,
       "object_position": null,
       "order": null,
       "overflow": null,
       "overflow_x": null,
       "overflow_y": null,
       "padding": null,
       "right": null,
       "top": null,
       "visibility": null,
       "width": "100%"
      }
     },
     "bfcc0d1e466941b8b077179c0fcbf7c6": {
      "model_module": "@jupyter-widgets/controls",
      "model_module_version": "1.5.0",
      "model_name": "HTMLModel",
      "state": {
       "_dom_classes": [],
       "_model_module": "@jupyter-widgets/controls",
       "_model_module_version": "1.5.0",
       "_model_name": "HTMLModel",
       "_view_count": null,
       "_view_module": "@jupyter-widgets/controls",
       "_view_module_version": "1.5.0",
       "_view_name": "HTMLView",
       "description": "",
       "description_tooltip": null,
       "layout": "IPY_MODEL_e33bd14f7d94481b9f5aded8c9620337",
       "placeholder": "​",
       "style": "IPY_MODEL_8b9f6a1a3c5449099311a43a4d57753b",
       "value": "Testing: 100%"
      }
     },
     "c957da72c99c4df2a7a83e8339f33cc7": {
      "model_module": "@jupyter-widgets/controls",
      "model_module_version": "1.5.0",
      "model_name": "HTMLModel",
      "state": {
       "_dom_classes": [],
       "_model_module": "@jupyter-widgets/controls",
       "_model_module_version": "1.5.0",
       "_model_name": "HTMLModel",
       "_view_count": null,
       "_view_module": "@jupyter-widgets/controls",
       "_view_module_version": "1.5.0",
       "_view_name": "HTMLView",
       "description": "",
       "description_tooltip": null,
       "layout": "IPY_MODEL_4274cfd933ff496795ed8ed679d7552f",
       "placeholder": "​",
       "style": "IPY_MODEL_8e1650be1e444b32854b83ba521281a6",
       "value": " 79/79 [00:01&lt;00:00, 70.21it/s]"
      }
     },
     "c96043372ad7441a8ea2ff52e41502e7": {
      "model_module": "@jupyter-widgets/controls",
      "model_module_version": "1.5.0",
      "model_name": "DescriptionStyleModel",
      "state": {
       "_model_module": "@jupyter-widgets/controls",
       "_model_module_version": "1.5.0",
       "_model_name": "DescriptionStyleModel",
       "_view_count": null,
       "_view_module": "@jupyter-widgets/base",
       "_view_module_version": "1.2.0",
       "_view_name": "StyleView",
       "description_width": ""
      }
     },
     "cab5987f859643e4b58116960ff96340": {
      "model_module": "@jupyter-widgets/base",
      "model_module_version": "1.2.0",
      "model_name": "LayoutModel",
      "state": {
       "_model_module": "@jupyter-widgets/base",
       "_model_module_version": "1.2.0",
       "_model_name": "LayoutModel",
       "_view_count": null,
       "_view_module": "@jupyter-widgets/base",
       "_view_module_version": "1.2.0",
       "_view_name": "LayoutView",
       "align_content": null,
       "align_items": null,
       "align_self": null,
       "border": null,
       "bottom": null,
       "display": null,
       "flex": null,
       "flex_flow": null,
       "grid_area": null,
       "grid_auto_columns": null,
       "grid_auto_flow": null,
       "grid_auto_rows": null,
       "grid_column": null,
       "grid_gap": null,
       "grid_row": null,
       "grid_template_areas": null,
       "grid_template_columns": null,
       "grid_template_rows": null,
       "height": null,
       "justify_content": null,
       "justify_items": null,
       "left": null,
       "margin": null,
       "max_height": null,
       "max_width": null,
       "min_height": null,
       "min_width": null,
       "object_fit": null,
       "object_position": null,
       "order": null,
       "overflow": null,
       "overflow_x": null,
       "overflow_y": null,
       "padding": null,
       "right": null,
       "top": null,
       "visibility": null,
       "width": null
      }
     },
     "cdca789d051f40c0a7bd641a0e5ff82e": {
      "model_module": "@jupyter-widgets/controls",
      "model_module_version": "1.5.0",
      "model_name": "DescriptionStyleModel",
      "state": {
       "_model_module": "@jupyter-widgets/controls",
       "_model_module_version": "1.5.0",
       "_model_name": "DescriptionStyleModel",
       "_view_count": null,
       "_view_module": "@jupyter-widgets/base",
       "_view_module_version": "1.2.0",
       "_view_name": "StyleView",
       "description_width": ""
      }
     },
     "d5ea48048cd54645afcfded2080e95dd": {
      "model_module": "@jupyter-widgets/base",
      "model_module_version": "1.2.0",
      "model_name": "LayoutModel",
      "state": {
       "_model_module": "@jupyter-widgets/base",
       "_model_module_version": "1.2.0",
       "_model_name": "LayoutModel",
       "_view_count": null,
       "_view_module": "@jupyter-widgets/base",
       "_view_module_version": "1.2.0",
       "_view_name": "LayoutView",
       "align_content": null,
       "align_items": null,
       "align_self": null,
       "border": null,
       "bottom": null,
       "display": null,
       "flex": null,
       "flex_flow": null,
       "grid_area": null,
       "grid_auto_columns": null,
       "grid_auto_flow": null,
       "grid_auto_rows": null,
       "grid_column": null,
       "grid_gap": null,
       "grid_row": null,
       "grid_template_areas": null,
       "grid_template_columns": null,
       "grid_template_rows": null,
       "height": null,
       "justify_content": null,
       "justify_items": null,
       "left": null,
       "margin": null,
       "max_height": null,
       "max_width": null,
       "min_height": null,
       "min_width": null,
       "object_fit": null,
       "object_position": null,
       "order": null,
       "overflow": null,
       "overflow_x": null,
       "overflow_y": null,
       "padding": null,
       "right": null,
       "top": null,
       "visibility": null,
       "width": null
      }
     },
     "d897f535dcd54c8fa5f1c545f1875fcd": {
      "model_module": "@jupyter-widgets/controls",
      "model_module_version": "1.5.0",
      "model_name": "DescriptionStyleModel",
      "state": {
       "_model_module": "@jupyter-widgets/controls",
       "_model_module_version": "1.5.0",
       "_model_name": "DescriptionStyleModel",
       "_view_count": null,
       "_view_module": "@jupyter-widgets/base",
       "_view_module_version": "1.2.0",
       "_view_name": "StyleView",
       "description_width": ""
      }
     },
     "dceed8ce93454616be2a3efe996c0d3e": {
      "model_module": "@jupyter-widgets/controls",
      "model_module_version": "1.5.0",
      "model_name": "DescriptionStyleModel",
      "state": {
       "_model_module": "@jupyter-widgets/controls",
       "_model_module_version": "1.5.0",
       "_model_name": "DescriptionStyleModel",
       "_view_count": null,
       "_view_module": "@jupyter-widgets/base",
       "_view_module_version": "1.2.0",
       "_view_name": "StyleView",
       "description_width": ""
      }
     },
     "e006758eaa0244ce8b6a7158840839f5": {
      "model_module": "@jupyter-widgets/controls",
      "model_module_version": "1.5.0",
      "model_name": "FloatProgressModel",
      "state": {
       "_dom_classes": [],
       "_model_module": "@jupyter-widgets/controls",
       "_model_module_version": "1.5.0",
       "_model_name": "FloatProgressModel",
       "_view_count": null,
       "_view_module": "@jupyter-widgets/controls",
       "_view_module_version": "1.5.0",
       "_view_name": "ProgressView",
       "bar_style": "success",
       "description": "",
       "description_tooltip": null,
       "layout": "IPY_MODEL_a6f1e4982f5c41f3b2f500f461b915bc",
       "max": 1.0,
       "min": 0.0,
       "orientation": "horizontal",
       "style": "IPY_MODEL_71a16e6c80304065a51a9df8d3a9801a",
       "value": 1.0
      }
     },
     "e33bd14f7d94481b9f5aded8c9620337": {
      "model_module": "@jupyter-widgets/base",
      "model_module_version": "1.2.0",
      "model_name": "LayoutModel",
      "state": {
       "_model_module": "@jupyter-widgets/base",
       "_model_module_version": "1.2.0",
       "_model_name": "LayoutModel",
       "_view_count": null,
       "_view_module": "@jupyter-widgets/base",
       "_view_module_version": "1.2.0",
       "_view_name": "LayoutView",
       "align_content": null,
       "align_items": null,
       "align_self": null,
       "border": null,
       "bottom": null,
       "display": null,
       "flex": null,
       "flex_flow": null,
       "grid_area": null,
       "grid_auto_columns": null,
       "grid_auto_flow": null,
       "grid_auto_rows": null,
       "grid_column": null,
       "grid_gap": null,
       "grid_row": null,
       "grid_template_areas": null,
       "grid_template_columns": null,
       "grid_template_rows": null,
       "height": null,
       "justify_content": null,
       "justify_items": null,
       "left": null,
       "margin": null,
       "max_height": null,
       "max_width": null,
       "min_height": null,
       "min_width": null,
       "object_fit": null,
       "object_position": null,
       "order": null,
       "overflow": null,
       "overflow_x": null,
       "overflow_y": null,
       "padding": null,
       "right": null,
       "top": null,
       "visibility": null,
       "width": null
      }
     },
     "e400be63e54f49a59bcfa7e5605b889e": {
      "model_module": "@jupyter-widgets/controls",
      "model_module_version": "1.5.0",
      "model_name": "FloatProgressModel",
      "state": {
       "_dom_classes": [],
       "_model_module": "@jupyter-widgets/controls",
       "_model_module_version": "1.5.0",
       "_model_name": "FloatProgressModel",
       "_view_count": null,
       "_view_module": "@jupyter-widgets/controls",
       "_view_module_version": "1.5.0",
       "_view_name": "ProgressView",
       "bar_style": "success",
       "description": "",
       "description_tooltip": null,
       "layout": "IPY_MODEL_5d61b651384141759a9a7024372453ea",
       "max": 1.0,
       "min": 0.0,
       "orientation": "horizontal",
       "style": "IPY_MODEL_0908d3fbf9fa40f89ac046b2dfb9de82",
       "value": 1.0
      }
     },
     "e55d9f1a421544d0bf223a8128bb4216": {
      "model_module": "@jupyter-widgets/base",
      "model_module_version": "1.2.0",
      "model_name": "LayoutModel",
      "state": {
       "_model_module": "@jupyter-widgets/base",
       "_model_module_version": "1.2.0",
       "_model_name": "LayoutModel",
       "_view_count": null,
       "_view_module": "@jupyter-widgets/base",
       "_view_module_version": "1.2.0",
       "_view_name": "LayoutView",
       "align_content": null,
       "align_items": null,
       "align_self": null,
       "border": null,
       "bottom": null,
       "display": "inline-flex",
       "flex": null,
       "flex_flow": "row wrap",
       "grid_area": null,
       "grid_auto_columns": null,
       "grid_auto_flow": null,
       "grid_auto_rows": null,
       "grid_column": null,
       "grid_gap": null,
       "grid_row": null,
       "grid_template_areas": null,
       "grid_template_columns": null,
       "grid_template_rows": null,
       "height": null,
       "justify_content": null,
       "justify_items": null,
       "left": null,
       "margin": null,
       "max_height": null,
       "max_width": null,
       "min_height": null,
       "min_width": null,
       "object_fit": null,
       "object_position": null,
       "order": null,
       "overflow": null,
       "overflow_x": null,
       "overflow_y": null,
       "padding": null,
       "right": null,
       "top": null,
       "visibility": null,
       "width": "100%"
      }
     },
     "e5eb32ecd7894eaca1175866b50a7a2b": {
      "model_module": "@jupyter-widgets/controls",
      "model_module_version": "1.5.0",
      "model_name": "HTMLModel",
      "state": {
       "_dom_classes": [],
       "_model_module": "@jupyter-widgets/controls",
       "_model_module_version": "1.5.0",
       "_model_name": "HTMLModel",
       "_view_count": null,
       "_view_module": "@jupyter-widgets/controls",
       "_view_module_version": "1.5.0",
       "_view_name": "HTMLView",
       "description": "",
       "description_tooltip": null,
       "layout": "IPY_MODEL_7bc23466539940779d477b0e65e25d9b",
       "placeholder": "​",
       "style": "IPY_MODEL_c96043372ad7441a8ea2ff52e41502e7",
       "value": "Testing: 100%"
      }
     },
     "eac044c0bc394acea5f2cb1ba6a55b8c": {
      "model_module": "@jupyter-widgets/base",
      "model_module_version": "1.2.0",
      "model_name": "LayoutModel",
      "state": {
       "_model_module": "@jupyter-widgets/base",
       "_model_module_version": "1.2.0",
       "_model_name": "LayoutModel",
       "_view_count": null,
       "_view_module": "@jupyter-widgets/base",
       "_view_module_version": "1.2.0",
       "_view_name": "LayoutView",
       "align_content": null,
       "align_items": null,
       "align_self": null,
       "border": null,
       "bottom": null,
       "display": null,
       "flex": null,
       "flex_flow": null,
       "grid_area": null,
       "grid_auto_columns": null,
       "grid_auto_flow": null,
       "grid_auto_rows": null,
       "grid_column": null,
       "grid_gap": null,
       "grid_row": null,
       "grid_template_areas": null,
       "grid_template_columns": null,
       "grid_template_rows": null,
       "height": null,
       "justify_content": null,
       "justify_items": null,
       "left": null,
       "margin": null,
       "max_height": null,
       "max_width": null,
       "min_height": null,
       "min_width": null,
       "object_fit": null,
       "object_position": null,
       "order": null,
       "overflow": null,
       "overflow_x": null,
       "overflow_y": null,
       "padding": null,
       "right": null,
       "top": null,
       "visibility": null,
       "width": null
      }
     },
     "eb3b3be426d94ce1aefe7c15a1edca30": {
      "model_module": "@jupyter-widgets/controls",
      "model_module_version": "1.5.0",
      "model_name": "HTMLModel",
      "state": {
       "_dom_classes": [],
       "_model_module": "@jupyter-widgets/controls",
       "_model_module_version": "1.5.0",
       "_model_name": "HTMLModel",
       "_view_count": null,
       "_view_module": "@jupyter-widgets/controls",
       "_view_module_version": "1.5.0",
       "_view_name": "HTMLView",
       "description": "",
       "description_tooltip": null,
       "layout": "IPY_MODEL_88cdb2c914524133abdd92de10bd9f70",
       "placeholder": "​",
       "style": "IPY_MODEL_292833d661f5450a88dd28777b427da2",
       "value": "Testing: 100%"
      }
     },
     "ee25e2aeccde4b468497acadcb450897": {
      "model_module": "@jupyter-widgets/base",
      "model_module_version": "1.2.0",
      "model_name": "LayoutModel",
      "state": {
       "_model_module": "@jupyter-widgets/base",
       "_model_module_version": "1.2.0",
       "_model_name": "LayoutModel",
       "_view_count": null,
       "_view_module": "@jupyter-widgets/base",
       "_view_module_version": "1.2.0",
       "_view_name": "LayoutView",
       "align_content": null,
       "align_items": null,
       "align_self": null,
       "border": null,
       "bottom": null,
       "display": null,
       "flex": "2",
       "flex_flow": null,
       "grid_area": null,
       "grid_auto_columns": null,
       "grid_auto_flow": null,
       "grid_auto_rows": null,
       "grid_column": null,
       "grid_gap": null,
       "grid_row": null,
       "grid_template_areas": null,
       "grid_template_columns": null,
       "grid_template_rows": null,
       "height": null,
       "justify_content": null,
       "justify_items": null,
       "left": null,
       "margin": null,
       "max_height": null,
       "max_width": null,
       "min_height": null,
       "min_width": null,
       "object_fit": null,
       "object_position": null,
       "order": null,
       "overflow": null,
       "overflow_x": null,
       "overflow_y": null,
       "padding": null,
       "right": null,
       "top": null,
       "visibility": null,
       "width": null
      }
     },
     "ef6c1ae9b32241f788ba9c40f9d02910": {
      "model_module": "@jupyter-widgets/base",
      "model_module_version": "1.2.0",
      "model_name": "LayoutModel",
      "state": {
       "_model_module": "@jupyter-widgets/base",
       "_model_module_version": "1.2.0",
       "_model_name": "LayoutModel",
       "_view_count": null,
       "_view_module": "@jupyter-widgets/base",
       "_view_module_version": "1.2.0",
       "_view_name": "LayoutView",
       "align_content": null,
       "align_items": null,
       "align_self": null,
       "border": null,
       "bottom": null,
       "display": "inline-flex",
       "flex": null,
       "flex_flow": "row wrap",
       "grid_area": null,
       "grid_auto_columns": null,
       "grid_auto_flow": null,
       "grid_auto_rows": null,
       "grid_column": null,
       "grid_gap": null,
       "grid_row": null,
       "grid_template_areas": null,
       "grid_template_columns": null,
       "grid_template_rows": null,
       "height": null,
       "justify_content": null,
       "justify_items": null,
       "left": null,
       "margin": null,
       "max_height": null,
       "max_width": null,
       "min_height": null,
       "min_width": null,
       "object_fit": null,
       "object_position": null,
       "order": null,
       "overflow": null,
       "overflow_x": null,
       "overflow_y": null,
       "padding": null,
       "right": null,
       "top": null,
       "visibility": null,
       "width": "100%"
      }
     },
     "f3ad68fdc44444d2928005e02e927774": {
      "model_module": "@jupyter-widgets/base",
      "model_module_version": "1.2.0",
      "model_name": "LayoutModel",
      "state": {
       "_model_module": "@jupyter-widgets/base",
       "_model_module_version": "1.2.0",
       "_model_name": "LayoutModel",
       "_view_count": null,
       "_view_module": "@jupyter-widgets/base",
       "_view_module_version": "1.2.0",
       "_view_name": "LayoutView",
       "align_content": null,
       "align_items": null,
       "align_self": null,
       "border": null,
       "bottom": null,
       "display": null,
       "flex": null,
       "flex_flow": null,
       "grid_area": null,
       "grid_auto_columns": null,
       "grid_auto_flow": null,
       "grid_auto_rows": null,
       "grid_column": null,
       "grid_gap": null,
       "grid_row": null,
       "grid_template_areas": null,
       "grid_template_columns": null,
       "grid_template_rows": null,
       "height": null,
       "justify_content": null,
       "justify_items": null,
       "left": null,
       "margin": null,
       "max_height": null,
       "max_width": null,
       "min_height": null,
       "min_width": null,
       "object_fit": null,
       "object_position": null,
       "order": null,
       "overflow": null,
       "overflow_x": null,
       "overflow_y": null,
       "padding": null,
       "right": null,
       "top": null,
       "visibility": null,
       "width": null
      }
     },
     "f5c930783c6d49dda10c92921d1d0733": {
      "model_module": "@jupyter-widgets/controls",
      "model_module_version": "1.5.0",
      "model_name": "DescriptionStyleModel",
      "state": {
       "_model_module": "@jupyter-widgets/controls",
       "_model_module_version": "1.5.0",
       "_model_name": "DescriptionStyleModel",
       "_view_count": null,
       "_view_module": "@jupyter-widgets/base",
       "_view_module_version": "1.2.0",
       "_view_name": "StyleView",
       "description_width": ""
      }
     },
     "fa8ab29d6e964a9abd8b1fa6a2edbcee": {
      "model_module": "@jupyter-widgets/controls",
      "model_module_version": "1.5.0",
      "model_name": "HBoxModel",
      "state": {
       "_dom_classes": [],
       "_model_module": "@jupyter-widgets/controls",
       "_model_module_version": "1.5.0",
       "_model_name": "HBoxModel",
       "_view_count": null,
       "_view_module": "@jupyter-widgets/controls",
       "_view_module_version": "1.5.0",
       "_view_name": "HBoxView",
       "box_style": "",
       "children": [
        "IPY_MODEL_005b1030cccd4a6c88ced1365b7679f0",
        "IPY_MODEL_011e6884e008438d83b50b51ca84641f",
        "IPY_MODEL_3fbae16b126f4217bc309a2118165356"
       ],
       "layout": "IPY_MODEL_b74da2adb16848ecacc15a8225209a3d"
      }
     },
     "fd0175274e1d471586f7ba7fd76ae282": {
      "model_module": "@jupyter-widgets/base",
      "model_module_version": "1.2.0",
      "model_name": "LayoutModel",
      "state": {
       "_model_module": "@jupyter-widgets/base",
       "_model_module_version": "1.2.0",
       "_model_name": "LayoutModel",
       "_view_count": null,
       "_view_module": "@jupyter-widgets/base",
       "_view_module_version": "1.2.0",
       "_view_name": "LayoutView",
       "align_content": null,
       "align_items": null,
       "align_self": null,
       "border": null,
       "bottom": null,
       "display": null,
       "flex": null,
       "flex_flow": null,
       "grid_area": null,
       "grid_auto_columns": null,
       "grid_auto_flow": null,
       "grid_auto_rows": null,
       "grid_column": null,
       "grid_gap": null,
       "grid_row": null,
       "grid_template_areas": null,
       "grid_template_columns": null,
       "grid_template_rows": null,
       "height": null,
       "justify_content": null,
       "justify_items": null,
       "left": null,
       "margin": null,
       "max_height": null,
       "max_width": null,
       "min_height": null,
       "min_width": null,
       "object_fit": null,
       "object_position": null,
       "order": null,
       "overflow": null,
       "overflow_x": null,
       "overflow_y": null,
       "padding": null,
       "right": null,
       "top": null,
       "visibility": null,
       "width": null
      }
     },
     "fea424522c7e4874b142f630ec93337b": {
      "model_module": "@jupyter-widgets/base",
      "model_module_version": "1.2.0",
      "model_name": "LayoutModel",
      "state": {
       "_model_module": "@jupyter-widgets/base",
       "_model_module_version": "1.2.0",
       "_model_name": "LayoutModel",
       "_view_count": null,
       "_view_module": "@jupyter-widgets/base",
       "_view_module_version": "1.2.0",
       "_view_name": "LayoutView",
       "align_content": null,
       "align_items": null,
       "align_self": null,
       "border": null,
       "bottom": null,
       "display": null,
       "flex": null,
       "flex_flow": null,
       "grid_area": null,
       "grid_auto_columns": null,
       "grid_auto_flow": null,
       "grid_auto_rows": null,
       "grid_column": null,
       "grid_gap": null,
       "grid_row": null,
       "grid_template_areas": null,
       "grid_template_columns": null,
       "grid_template_rows": null,
       "height": null,
       "justify_content": null,
       "justify_items": null,
       "left": null,
       "margin": null,
       "max_height": null,
       "max_width": null,
       "min_height": null,
       "min_width": null,
       "object_fit": null,
       "object_position": null,
       "order": null,
       "overflow": null,
       "overflow_x": null,
       "overflow_y": null,
       "padding": null,
       "right": null,
       "top": null,
       "visibility": null,
       "width": null
      }
     }
    },
    "version_major": 2,
    "version_minor": 0
   }
  }
 },
 "nbformat": 4,
 "nbformat_minor": 5
}