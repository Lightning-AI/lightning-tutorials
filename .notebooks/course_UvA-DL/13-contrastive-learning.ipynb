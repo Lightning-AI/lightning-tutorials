version https://git-lfs.github.com/spec/v1
oid sha256:22bc69c8d75a2ca553df58d3f2d7396f1e0719a869488f048e90134b5affc676
size 2042569
