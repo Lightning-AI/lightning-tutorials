{
 "cells": [
  {
   "cell_type": "markdown",
   "id": "6bfa90d7",
   "metadata": {
    "papermill": {
     "duration": 0.026736,
     "end_time": "2021-09-13T14:14:44.612745",
     "exception": false,
     "start_time": "2021-09-13T14:14:44.586009",
     "status": "completed"
    },
    "tags": []
   },
   "source": [
    "\n",
    "# Basics of Graph Neural Networks\n",
    "\n",
    "* **Author:** Phillip Lippe\n",
    "* **License:** CC BY-SA\n",
    "* **Generated:** 2021-09-13T16:08:55.310618\n",
    "\n",
    "In this tutorial, we will discuss the application of neural networks on graphs.\n",
    "Graph Neural Networks (GNNs) have recently gained increasing popularity in both applications and research,\n",
    "including domains such as social networks, knowledge graphs, recommender systems, and bioinformatics.\n",
    "While the theory and math behind GNNs might first seem complicated,\n",
    "the implementation of those models is quite simple and helps in understanding the methodology.\n",
    "Therefore, we will discuss the implementation of basic network layers of a GNN,\n",
    "namely graph convolutions, and attention layers.\n",
    "Finally, we will apply a GNN on semi-supervised node classification and molecule categorization.\n",
    "This notebook is part of a lecture series on Deep Learning at the University of Amsterdam.\n",
    "The full list of tutorials can be found at https://uvadlc-notebooks.rtfd.io.\n",
    "\n",
    "\n",
    "---\n",
    "Open in [![Open In Colab](data:image/png;base64,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){height=\"20px\" width=\"117px\"}](https://colab.research.google.com/github/PytorchLightning/lightning-tutorials/blob/publication/.notebooks/course_UvA-DL/graph-neural-networks.ipynb)\n",
    "\n",
    "Give us a ⭐ [on Github](https://www.github.com/PytorchLightning/pytorch-lightning/)\n",
    "| Check out [the documentation](https://pytorch-lightning.readthedocs.io/en/latest/)\n",
    "| Join us [on Slack](https://join.slack.com/t/pytorch-lightning/shared_invite/zt-pw5v393p-qRaDgEk24~EjiZNBpSQFgQ)"
   ]
  },
  {
   "cell_type": "markdown",
   "id": "eafbd122",
   "metadata": {
    "papermill": {
     "duration": 0.024249,
     "end_time": "2021-09-13T14:14:44.661557",
     "exception": false,
     "start_time": "2021-09-13T14:14:44.637308",
     "status": "completed"
    },
    "tags": []
   },
   "source": [
    "## Setup\n",
    "This notebook requires some packages besides pytorch-lightning."
   ]
  },
  {
   "cell_type": "code",
   "execution_count": 1,
   "id": "5cc4207d",
   "metadata": {
    "colab": {},
    "colab_type": "code",
    "execution": {
     "iopub.execute_input": "2021-09-13T14:14:44.714887Z",
     "iopub.status.busy": "2021-09-13T14:14:44.714368Z",
     "iopub.status.idle": "2021-09-13T14:14:44.716926Z",
     "shell.execute_reply": "2021-09-13T14:14:44.716394Z"
    },
    "id": "LfrJLKPFyhsK",
    "papermill": {
     "duration": 0.030164,
     "end_time": "2021-09-13T14:14:44.717043",
     "exception": false,
     "start_time": "2021-09-13T14:14:44.686879",
     "status": "completed"
    },
    "tags": []
   },
   "outputs": [],
   "source": [
    "# ! pip install --quiet \"torch-cluster\" \"torch-spline-conv\" \"torch-geometric==1.7.2\" \"torch-scatter\" \"pytorch-lightning>=1.3\" \"torch>=1.6, <1.9\" \"torchmetrics>=0.3\" \"torch-sparse\"\n",
    "# ---\n",
    "# jupyter:\n",
    "#   jupytext:\n",
    "#     formats: ipynb,py:percent\n",
    "#     text_representation:\n",
    "#       extension: .py\n",
    "#       format_name: percent\n",
    "#       format_version: '1.3'\n",
    "#       jupytext_version: 1.11.2\n",
    "#   kernelspec:\n",
    "#     display_name: Python 3\n",
    "#     language: python\n",
    "#     name: python3\n",
    "# ---"
   ]
  },
  {
   "cell_type": "markdown",
   "id": "b93dce9a",
   "metadata": {
    "papermill": {
     "duration": 0.024649,
     "end_time": "2021-09-13T14:14:44.766298",
     "exception": false,
     "start_time": "2021-09-13T14:14:44.741649",
     "status": "completed"
    },
    "tags": []
   },
   "source": [
    "We start by importing our standard libraries below."
   ]
  },
  {
   "cell_type": "code",
   "execution_count": 2,
   "id": "6eaf290f",
   "metadata": {
    "execution": {
     "iopub.execute_input": "2021-09-13T14:14:44.822608Z",
     "iopub.status.busy": "2021-09-13T14:14:44.821970Z",
     "iopub.status.idle": "2021-09-13T14:14:46.648781Z",
     "shell.execute_reply": "2021-09-13T14:14:46.649177Z"
    },
    "papermill": {
     "duration": 1.858529,
     "end_time": "2021-09-13T14:14:46.649319",
     "exception": false,
     "start_time": "2021-09-13T14:14:44.790790",
     "status": "completed"
    },
    "tags": []
   },
   "outputs": [
    {
     "name": "stderr",
     "output_type": "stream",
     "text": [
      "Global seed set to 42\n"
     ]
    }
   ],
   "source": [
    "# Standard libraries\n",
    "import os\n",
    "\n",
    "# For downloading pre-trained models\n",
    "import urllib.request\n",
    "from urllib.error import HTTPError\n",
    "\n",
    "# PyTorch Lightning\n",
    "import pytorch_lightning as pl\n",
    "\n",
    "# PyTorch\n",
    "import torch\n",
    "import torch.nn as nn\n",
    "import torch.nn.functional as F\n",
    "import torch.optim as optim\n",
    "\n",
    "# PyTorch geometric\n",
    "import torch_geometric\n",
    "import torch_geometric.data as geom_data\n",
    "import torch_geometric.nn as geom_nn\n",
    "\n",
    "# PL callbacks\n",
    "from pytorch_lightning.callbacks import ModelCheckpoint\n",
    "\n",
    "AVAIL_GPUS = min(1, torch.cuda.device_count())\n",
    "BATCH_SIZE = 256 if AVAIL_GPUS else 64\n",
    "# Path to the folder where the datasets are/should be downloaded\n",
    "DATASET_PATH = os.environ.get(\"PATH_DATASETS\", \"data/\")\n",
    "# Path to the folder where the pretrained models are saved\n",
    "CHECKPOINT_PATH = os.environ.get(\"PATH_CHECKPOINT\", \"saved_models/GNNs/\")\n",
    "\n",
    "# Setting the seed\n",
    "pl.seed_everything(42)\n",
    "\n",
    "# Ensure that all operations are deterministic on GPU (if used) for reproducibility\n",
    "torch.backends.cudnn.determinstic = True\n",
    "torch.backends.cudnn.benchmark = False"
   ]
  },
  {
   "cell_type": "markdown",
   "id": "005f160e",
   "metadata": {
    "papermill": {
     "duration": 0.0247,
     "end_time": "2021-09-13T14:14:46.709696",
     "exception": false,
     "start_time": "2021-09-13T14:14:46.684996",
     "status": "completed"
    },
    "tags": []
   },
   "source": [
    "We also have a few pre-trained models we download below."
   ]
  },
  {
   "cell_type": "code",
   "execution_count": 3,
   "id": "d33ea014",
   "metadata": {
    "execution": {
     "iopub.execute_input": "2021-09-13T14:14:46.764434Z",
     "iopub.status.busy": "2021-09-13T14:14:46.763944Z",
     "iopub.status.idle": "2021-09-13T14:14:47.103025Z",
     "shell.execute_reply": "2021-09-13T14:14:47.102511Z"
    },
    "papermill": {
     "duration": 0.368701,
     "end_time": "2021-09-13T14:14:47.103144",
     "exception": false,
     "start_time": "2021-09-13T14:14:46.734443",
     "status": "completed"
    },
    "tags": []
   },
   "outputs": [
    {
     "name": "stdout",
     "output_type": "stream",
     "text": [
      "Downloading https://raw.githubusercontent.com/phlippe/saved_models/main/tutorial7/NodeLevelMLP.ckpt...\n",
      "Downloading https://raw.githubusercontent.com/phlippe/saved_models/main/tutorial7/NodeLevelGNN.ckpt...\n",
      "Downloading https://raw.githubusercontent.com/phlippe/saved_models/main/tutorial7/GraphLevelGraphConv.ckpt...\n"
     ]
    }
   ],
   "source": [
    "# Github URL where saved models are stored for this tutorial\n",
    "base_url = \"https://raw.githubusercontent.com/phlippe/saved_models/main/tutorial7/\"\n",
    "# Files to download\n",
    "pretrained_files = [\"NodeLevelMLP.ckpt\", \"NodeLevelGNN.ckpt\", \"GraphLevelGraphConv.ckpt\"]\n",
    "\n",
    "# Create checkpoint path if it doesn't exist yet\n",
    "os.makedirs(CHECKPOINT_PATH, exist_ok=True)\n",
    "\n",
    "# For each file, check whether it already exists. If not, try downloading it.\n",
    "for file_name in pretrained_files:\n",
    "    file_path = os.path.join(CHECKPOINT_PATH, file_name)\n",
    "    if \"/\" in file_name:\n",
    "        os.makedirs(file_path.rsplit(\"/\", 1)[0], exist_ok=True)\n",
    "    if not os.path.isfile(file_path):\n",
    "        file_url = base_url + file_name\n",
    "        print(\"Downloading %s...\" % file_url)\n",
    "        try:\n",
    "            urllib.request.urlretrieve(file_url, file_path)\n",
    "        except HTTPError as e:\n",
    "            print(\n",
    "                \"Something went wrong. Please try to download the file from the GDrive folder,\"\n",
    "                \" or contact the author with the full output including the following error:\\n\",\n",
    "                e,\n",
    "            )"
   ]
  },
  {
   "cell_type": "markdown",
   "id": "d2d5e8ca",
   "metadata": {
    "papermill": {
     "duration": 0.024952,
     "end_time": "2021-09-13T14:14:47.153622",
     "exception": false,
     "start_time": "2021-09-13T14:14:47.128670",
     "status": "completed"
    },
    "tags": []
   },
   "source": [
    "## Graph Neural Networks"
   ]
  },
  {
   "cell_type": "markdown",
   "id": "e95b9769",
   "metadata": {
    "papermill": {
     "duration": 0.024829,
     "end_time": "2021-09-13T14:14:47.203456",
     "exception": false,
     "start_time": "2021-09-13T14:14:47.178627",
     "status": "completed"
    },
    "tags": []
   },
   "source": [
    "### Graph representation\n",
    "\n",
    "Before starting the discussion of specific neural network operations on graphs, we should consider how to represent a graph.\n",
    "Mathematically, a graph $\\mathcal{G}$ is defined as a tuple of a set of nodes/vertices $V$, and a set of edges/links $E$: $\\mathcal{G}=(V,E)$.\n",
    "Each edge is a pair of two vertices, and represents a connection between them.\n",
    "For instance, let's look at the following graph:\n",
    "\n",
    "<center width=\"100%\" style=\"padding:10px\"><img src=\"https://github.com/PyTorchLightning/lightning-tutorials/raw/main/course_UvA-DL/graph-neural-networks/example_graph.svg\" width=\"250px\"></center>\n",
    "\n",
    "The vertices are $V=\\{1,2,3,4\\}$, and edges $E=\\{(1,2), (2,3), (2,4), (3,4)\\}$.\n",
    "Note that for simplicity, we assume the graph to be undirected and hence don't add mirrored pairs like $(2,1)$.\n",
    "In application, vertices and edge can often have specific attributes, and edges can even be directed.\n",
    "The question is how we could represent this diversity in an efficient way for matrix operations.\n",
    "Usually, for the edges, we decide between two variants: an adjacency matrix, or a list of paired vertex indices.\n",
    "\n",
    "The **adjacency matrix** $A$ is a square matrix whose elements indicate whether pairs of vertices are adjacent,\n",
    "i.e. connected, or not.\n",
    "In the simplest case, $A_{ij}$ is 1 if there is a connection from node $i$ to $j$, and otherwise 0.\n",
    "If we have edge attributes or different categories of edges in a graph, this information can be added to the matrix as well.\n",
    "For an undirected graph, keep in mind that $A$ is a symmetric matrix ($A_{ij}=A_{ji}$).\n",
    "For the example graph above, we have the following adjacency matrix:\n",
    "\n",
    "$$\n",
    "A = \\begin{bmatrix}\n",
    "    0 & 1 & 0 & 0\\\\\n",
    "    1 & 0 & 1 & 1\\\\\n",
    "    0 & 1 & 0 & 1\\\\\n",
    "    0 & 1 & 1 & 0\n",
    "\\end{bmatrix}\n",
    "$$\n",
    "\n",
    "While expressing a graph as a list of edges is more efficient in terms of memory and (possibly) computation,\n",
    "using an adjacency matrix is more intuitive and simpler to implement.\n",
    "In our implementations below, we will rely on the adjacency matrix to keep the code simple.\n",
    "However, common libraries use edge lists, which we will discuss later more.\n",
    "Alternatively, we could also use the list of edges to define a sparse adjacency matrix with which we can work\n",
    "as if it was a dense matrix, but allows more memory-efficient operations.\n",
    "PyTorch supports this with the sub-package `torch.sparse`\n",
    "([documentation](https://pytorch.org/docs/stable/sparse.html)) which is however still in a beta-stage\n",
    "(API might change in future)."
   ]
  },
  {
   "cell_type": "markdown",
   "id": "c3a2bc8f",
   "metadata": {
    "lines_to_next_cell": 2,
    "papermill": {
     "duration": 0.024676,
     "end_time": "2021-09-13T14:14:47.253102",
     "exception": false,
     "start_time": "2021-09-13T14:14:47.228426",
     "status": "completed"
    },
    "tags": []
   },
   "source": [
    "### Graph Convolutions\n",
    "\n",
    "Graph Convolutional Networks have been introduced by [Kipf et al. ](https://openreview.net/pdf?id=SJU4ayYgl)\n",
    "in 2016 at the University of Amsterdam.\n",
    "He also wrote a great [blog post](https://tkipf.github.io/graph-convolutional-networks/) about this topic,\n",
    "which is recommended if you want to read about GCNs from a different perspective.\n",
    "GCNs are similar to convolutions in images in the sense that the \"filter\" parameters are typically shared over all locations in the graph.\n",
    "At the same time, GCNs rely on message passing methods, which means that vertices exchange information with the neighbors,\n",
    "and send \"messages\" to each other.\n",
    "Before looking at the math, we can try to visually understand how GCNs work.\n",
    "The first step is that each node creates a feature vector that represents the message it wants to send to all its neighbors.\n",
    "In the second step, the messages are sent to the neighbors, so that a node receives one message per adjacent node.\n",
    "Below we have visualized the two steps for our example graph.\n",
    "\n",
    "<center width=\"100%\" style=\"padding:10px\"><img src=\"https://github.com/PyTorchLightning/lightning-tutorials/raw/main/course_UvA-DL/graph-neural-networks/graph_message_passing.svg\" width=\"700px\"></center>\n",
    "\n",
    "If we want to formulate that in more mathematical terms, we need to first decide how to combine\n",
    "all the messages a node receives.\n",
    "As the number of messages vary across nodes, we need an operation that works for any number.\n",
    "Hence, the usual way to go is to sum or take the mean.\n",
    "Given the previous features of nodes $H^{(l)}$, the GCN layer is defined as follows:\n",
    "\n",
    "$$H^{(l+1)} = \\sigma\\left(\\hat{D}^{-1/2}\\hat{A}\\hat{D}^{-1/2}H^{(l)}W^{(l)}\\right)$$\n",
    "\n",
    "$W^{(l)}$ is the weight parameters with which we transform the input features into messages ($H^{(l)}W^{(l)}$).\n",
    "To the adjacency matrix $A$ we add the identity matrix so that each node sends its own message also to itself:\n",
    "$\\hat{A}=A+I$.\n",
    "Finally, to take the average instead of summing, we calculate the matrix $\\hat{D}$ which is a diagonal\n",
    "matrix with $D_{ii}$ denoting the number of neighbors node $i$ has.\n",
    "$\\sigma$ represents an arbitrary activation function, and not necessarily the sigmoid (usually a ReLU-based\n",
    "activation function is used in GNNs).\n",
    "\n",
    "When implementing the GCN layer in PyTorch, we can take advantage of the flexible operations on tensors.\n",
    "Instead of defining a matrix $\\hat{D}$, we can simply divide the summed messages by the number of neighbors afterward.\n",
    "Additionally, we replace the weight matrix with a linear layer, which additionally allows us to add a bias.\n",
    "Written as a PyTorch module, the GCN layer is defined as follows:"
   ]
  },
  {
   "cell_type": "code",
   "execution_count": 4,
   "id": "ded309af",
   "metadata": {
    "execution": {
     "iopub.execute_input": "2021-09-13T14:14:47.307517Z",
     "iopub.status.busy": "2021-09-13T14:14:47.307036Z",
     "iopub.status.idle": "2021-09-13T14:14:47.309109Z",
     "shell.execute_reply": "2021-09-13T14:14:47.308643Z"
    },
    "papermill": {
     "duration": 0.031306,
     "end_time": "2021-09-13T14:14:47.309207",
     "exception": false,
     "start_time": "2021-09-13T14:14:47.277901",
     "status": "completed"
    },
    "tags": []
   },
   "outputs": [],
   "source": [
    "class GCNLayer(nn.Module):\n",
    "    def __init__(self, c_in, c_out):\n",
    "        super().__init__()\n",
    "        self.projection = nn.Linear(c_in, c_out)\n",
    "\n",
    "    def forward(self, node_feats, adj_matrix):\n",
    "        \"\"\"\n",
    "        Args:\n",
    "            node_feats: Tensor with node features of shape [batch_size, num_nodes, c_in]\n",
    "            adj_matrix: Batch of adjacency matrices of the graph. If there is an edge from i to j,\n",
    "                         adj_matrix[b,i,j]=1 else 0. Supports directed edges by non-symmetric matrices.\n",
    "                         Assumes to already have added the identity connections.\n",
    "                         Shape: [batch_size, num_nodes, num_nodes]\n",
    "        \"\"\"\n",
    "        # Num neighbours = number of incoming edges\n",
    "        num_neighbours = adj_matrix.sum(dim=-1, keepdims=True)\n",
    "        node_feats = self.projection(node_feats)\n",
    "        node_feats = torch.bmm(adj_matrix, node_feats)\n",
    "        node_feats = node_feats / num_neighbours\n",
    "        return node_feats"
   ]
  },
  {
   "cell_type": "markdown",
   "id": "81e10a99",
   "metadata": {
    "papermill": {
     "duration": 0.024904,
     "end_time": "2021-09-13T14:14:47.359149",
     "exception": false,
     "start_time": "2021-09-13T14:14:47.334245",
     "status": "completed"
    },
    "tags": []
   },
   "source": [
    "To further understand the GCN layer, we can apply it to our example graph above.\n",
    "First, let's specify some node features and the adjacency matrix with added self-connections:"
   ]
  },
  {
   "cell_type": "code",
   "execution_count": 5,
   "id": "96f11cc5",
   "metadata": {
    "execution": {
     "iopub.execute_input": "2021-09-13T14:14:47.412743Z",
     "iopub.status.busy": "2021-09-13T14:14:47.412272Z",
     "iopub.status.idle": "2021-09-13T14:14:47.417148Z",
     "shell.execute_reply": "2021-09-13T14:14:47.416680Z"
    },
    "papermill": {
     "duration": 0.033156,
     "end_time": "2021-09-13T14:14:47.417246",
     "exception": false,
     "start_time": "2021-09-13T14:14:47.384090",
     "status": "completed"
    },
    "tags": []
   },
   "outputs": [
    {
     "name": "stdout",
     "output_type": "stream",
     "text": [
      "Node features:\n",
      " tensor([[[0., 1.],\n",
      "         [2., 3.],\n",
      "         [4., 5.],\n",
      "         [6., 7.]]])\n",
      "\n",
      "Adjacency matrix:\n",
      " tensor([[[1., 1., 0., 0.],\n",
      "         [1., 1., 1., 1.],\n",
      "         [0., 1., 1., 1.],\n",
      "         [0., 1., 1., 1.]]])\n"
     ]
    }
   ],
   "source": [
    "node_feats = torch.arange(8, dtype=torch.float32).view(1, 4, 2)\n",
    "adj_matrix = torch.Tensor([[[1, 1, 0, 0], [1, 1, 1, 1], [0, 1, 1, 1], [0, 1, 1, 1]]])\n",
    "\n",
    "print(\"Node features:\\n\", node_feats)\n",
    "print(\"\\nAdjacency matrix:\\n\", adj_matrix)"
   ]
  },
  {
   "cell_type": "markdown",
   "id": "52161097",
   "metadata": {
    "papermill": {
     "duration": 0.025243,
     "end_time": "2021-09-13T14:14:47.467720",
     "exception": false,
     "start_time": "2021-09-13T14:14:47.442477",
     "status": "completed"
    },
    "tags": []
   },
   "source": [
    "Next, let's apply a GCN layer to it.\n",
    "For simplicity, we initialize the linear weight matrix as an identity matrix so that the input features are equal to the messages.\n",
    "This makes it easier for us to verify the message passing operation."
   ]
  },
  {
   "cell_type": "code",
   "execution_count": 6,
   "id": "496fd621",
   "metadata": {
    "execution": {
     "iopub.execute_input": "2021-09-13T14:14:47.522477Z",
     "iopub.status.busy": "2021-09-13T14:14:47.521986Z",
     "iopub.status.idle": "2021-09-13T14:14:47.526829Z",
     "shell.execute_reply": "2021-09-13T14:14:47.527213Z"
    },
    "papermill": {
     "duration": 0.034298,
     "end_time": "2021-09-13T14:14:47.527324",
     "exception": false,
     "start_time": "2021-09-13T14:14:47.493026",
     "status": "completed"
    },
    "tags": []
   },
   "outputs": [
    {
     "name": "stdout",
     "output_type": "stream",
     "text": [
      "Adjacency matrix tensor([[[1., 1., 0., 0.],\n",
      "         [1., 1., 1., 1.],\n",
      "         [0., 1., 1., 1.],\n",
      "         [0., 1., 1., 1.]]])\n",
      "Input features tensor([[[0., 1.],\n",
      "         [2., 3.],\n",
      "         [4., 5.],\n",
      "         [6., 7.]]])\n",
      "Output features tensor([[[1., 2.],\n",
      "         [3., 4.],\n",
      "         [4., 5.],\n",
      "         [4., 5.]]])\n"
     ]
    }
   ],
   "source": [
    "layer = GCNLayer(c_in=2, c_out=2)\n",
    "layer.projection.weight.data = torch.Tensor([[1.0, 0.0], [0.0, 1.0]])\n",
    "layer.projection.bias.data = torch.Tensor([0.0, 0.0])\n",
    "\n",
    "with torch.no_grad():\n",
    "    out_feats = layer(node_feats, adj_matrix)\n",
    "\n",
    "print(\"Adjacency matrix\", adj_matrix)\n",
    "print(\"Input features\", node_feats)\n",
    "print(\"Output features\", out_feats)"
   ]
  },
  {
   "cell_type": "markdown",
   "id": "86aac952",
   "metadata": {
    "papermill": {
     "duration": 0.025633,
     "end_time": "2021-09-13T14:14:47.578455",
     "exception": false,
     "start_time": "2021-09-13T14:14:47.552822",
     "status": "completed"
    },
    "tags": []
   },
   "source": [
    "As we can see, the first node's output values are the average of itself and the second node.\n",
    "Similarly, we can verify all other nodes.\n",
    "However, in a GNN, we would also want to allow feature exchange between nodes beyond its neighbors.\n",
    "This can be achieved by applying multiple GCN layers, which gives us the final layout of a GNN.\n",
    "The GNN can be build up by a sequence of GCN layers and non-linearities such as ReLU.\n",
    "For a visualization, see below (figure credit - [Thomas Kipf, 2016](https://tkipf.github.io/graph-convolutional-networks/)).\n",
    "\n",
    "<center width=\"100%\" style=\"padding: 10px\"><img src=\"https://github.com/PyTorchLightning/lightning-tutorials/raw/main/course_UvA-DL/graph-neural-networks/gcn_network.png\" width=\"600px\"></center>\n",
    "\n",
    "However, one issue we can see from looking at the example above is that the output features for nodes 3 and 4 are\n",
    "the same because they have the same adjacent nodes (including itself).\n",
    "Therefore, GCN layers can make the network forget node-specific information if we just take a mean over all messages.\n",
    "Multiple possible improvements have been proposed.\n",
    "While the simplest option might be using residual connections, the more common approach is to either weigh\n",
    "the self-connections higher or define a separate weight matrix for the self-connections.\n",
    "Alternatively, we can use a  well-known concept: attention."
   ]
  },
  {
   "cell_type": "markdown",
   "id": "300bf7fa",
   "metadata": {
    "lines_to_next_cell": 2,
    "papermill": {
     "duration": 0.025526,
     "end_time": "2021-09-13T14:14:47.629702",
     "exception": false,
     "start_time": "2021-09-13T14:14:47.604176",
     "status": "completed"
    },
    "tags": []
   },
   "source": [
    "### Graph Attention\n",
    "\n",
    "Attention describes a weighted average of multiple elements with the weights dynamically computed based on an input\n",
    "query and elements' keys (if you don't know what attention is, it is recommended to at least go through\n",
    "the very first section called [What is Attention?](https://uvadlc-notebooks.readthedocs.io/en/latest/tutorial_notebooks/tutorial6/Transformers_and_MHAttention.html#What-is-Attention?)).\n",
    "This concept can be similarly applied to graphs, one of such is the Graph Attention Network\n",
    "(called GAT, proposed by [Velickovic et al., 2017](https://arxiv.org/abs/1710.10903)).\n",
    "Similarly to the GCN, the graph attention layer creates a message for each node using a linear layer/weight matrix.\n",
    "For the attention part, it uses the message from the node itself as a query, and the messages to average as both\n",
    "keys and values (note that this also includes the message to itself).\n",
    "The score function $f_{attn}$ is implemented as a one-layer MLP which maps the query and key to a single value.\n",
    "The MLP looks as follows (figure credit - [Velickovic et al. ](https://arxiv.org/abs/1710.10903)):\n",
    "\n",
    "<center width=\"100%\" style=\"padding:10px\"><img src=\"https://github.com/PyTorchLightning/lightning-tutorials/raw/main/course_UvA-DL/graph-neural-networks/graph_attention_MLP.svg\" width=\"250px\"></center>\n",
    "\n",
    "$h_i$ and $h_j$ are the original features from node $i$ and $j$ respectively, and represent the messages\n",
    "of the layer with $\\mathbf{W}$ as weight matrix.\n",
    "$\\mathbf{a}$ is the weight matrix of the MLP, which has the shape $[1,2\\times d_{\\text{message}}]$,\n",
    "and $\\alpha_{ij}$ the final attention weight from node $i$ to $j$.\n",
    "The calculation can be described as follows:\n",
    "\n",
    "$$\\alpha_{ij} = \\frac{\\exp\\left(\\text{LeakyReLU}\\left(\\mathbf{a}\\left[\\mathbf{W}h_i||\\mathbf{W}h_j\\right]\\right)\\right)}{\\sum_{k\\in\\mathcal{N}_i} \\exp\\left(\\text{LeakyReLU}\\left(\\mathbf{a}\\left[\\mathbf{W}h_i||\\mathbf{W}h_k\\right]\\right)\\right)}$$\n",
    "\n",
    "The operator $||$ represents the concatenation, and $\\mathcal{N}_i$ the indices of the neighbors of node $i$.\n",
    "Note that in contrast to usual practice, we apply a non-linearity (here LeakyReLU) before the softmax over elements.\n",
    "Although it seems like a minor change at first, it is crucial for the attention to depend on the original input.\n",
    "Specifically, let's remove the non-linearity for a second, and try to simplify the expression:\n",
    "\n",
    "$$\n",
    "\\begin{split}\n",
    "    \\alpha_{ij} & = \\frac{\\exp\\left(\\mathbf{a}\\left[\\mathbf{W}h_i||\\mathbf{W}h_j\\right]\\right)}{\\sum_{k\\in\\mathcal{N}_i} \\exp\\left(\\mathbf{a}\\left[\\mathbf{W}h_i||\\mathbf{W}h_k\\right]\\right)}\\\\[5pt]\n",
    "    & = \\frac{\\exp\\left(\\mathbf{a}_{:,:d/2}\\mathbf{W}h_i+\\mathbf{a}_{:,d/2:}\\mathbf{W}h_j\\right)}{\\sum_{k\\in\\mathcal{N}_i} \\exp\\left(\\mathbf{a}_{:,:d/2}\\mathbf{W}h_i+\\mathbf{a}_{:,d/2:}\\mathbf{W}h_k\\right)}\\\\[5pt]\n",
    "    & = \\frac{\\exp\\left(\\mathbf{a}_{:,:d/2}\\mathbf{W}h_i\\right)\\cdot\\exp\\left(\\mathbf{a}_{:,d/2:}\\mathbf{W}h_j\\right)}{\\sum_{k\\in\\mathcal{N}_i} \\exp\\left(\\mathbf{a}_{:,:d/2}\\mathbf{W}h_i\\right)\\cdot\\exp\\left(\\mathbf{a}_{:,d/2:}\\mathbf{W}h_k\\right)}\\\\[5pt]\n",
    "    & = \\frac{\\exp\\left(\\mathbf{a}_{:,d/2:}\\mathbf{W}h_j\\right)}{\\sum_{k\\in\\mathcal{N}_i} \\exp\\left(\\mathbf{a}_{:,d/2:}\\mathbf{W}h_k\\right)}\\\\\n",
    "\\end{split}\n",
    "$$\n",
    "\n",
    "We can see that without the non-linearity, the attention term with $h_i$ actually cancels itself out,\n",
    "resulting in the attention being independent of the node itself.\n",
    "Hence, we would have the same issue as the GCN of creating the same output features for nodes with the same neighbors.\n",
    "This is why the LeakyReLU is crucial and adds some dependency on $h_i$ to the attention.\n",
    "\n",
    "Once we obtain all attention factors, we can calculate the output features for each node by performing\n",
    "the weighted average:\n",
    "\n",
    "$$h_i'=\\sigma\\left(\\sum_{j\\in\\mathcal{N}_i}\\alpha_{ij}\\mathbf{W}h_j\\right)$$\n",
    "\n",
    "$\\sigma$ is yet another non-linearity, as in the GCN layer.\n",
    "Visually, we can represent the full message passing in an attention layer as follows\n",
    "(figure credit - [Velickovic et al. ](https://arxiv.org/abs/1710.10903)):\n",
    "\n",
    "<center width=\"100%\"><img src=\"https://github.com/PyTorchLightning/lightning-tutorials/raw/main/course_UvA-DL/graph-neural-networks/graph_attention.jpeg\" width=\"400px\"></center>\n",
    "\n",
    "To increase the expressiveness of the graph attention network, [Velickovic et al. ](https://arxiv.org/abs/1710.10903)\n",
    "proposed to extend it to multiple heads similar to the Multi-Head Attention block in Transformers.\n",
    "This results in $N$ attention layers being applied in parallel.\n",
    "In the image above, it is visualized as three different colors of arrows (green, blue, and purple)\n",
    "that are afterward concatenated.\n",
    "The average is only applied for the very final prediction layer in a network.\n",
    "\n",
    "After having discussed the graph attention layer in detail, we can implement it below:"
   ]
  },
  {
   "cell_type": "code",
   "execution_count": 7,
   "id": "cec5d0c8",
   "metadata": {
    "execution": {
     "iopub.execute_input": "2021-09-13T14:14:47.691656Z",
     "iopub.status.busy": "2021-09-13T14:14:47.688167Z",
     "iopub.status.idle": "2021-09-13T14:14:47.693703Z",
     "shell.execute_reply": "2021-09-13T14:14:47.693233Z"
    },
    "papermill": {
     "duration": 0.038173,
     "end_time": "2021-09-13T14:14:47.693801",
     "exception": false,
     "start_time": "2021-09-13T14:14:47.655628",
     "status": "completed"
    },
    "tags": []
   },
   "outputs": [],
   "source": [
    "class GATLayer(nn.Module):\n",
    "    def __init__(self, c_in, c_out, num_heads=1, concat_heads=True, alpha=0.2):\n",
    "        \"\"\"\n",
    "        Args:\n",
    "            c_in: Dimensionality of input features\n",
    "            c_out: Dimensionality of output features\n",
    "            num_heads: Number of heads, i.e. attention mechanisms to apply in parallel. The\n",
    "                        output features are equally split up over the heads if concat_heads=True.\n",
    "            concat_heads: If True, the output of the different heads is concatenated instead of averaged.\n",
    "            alpha: Negative slope of the LeakyReLU activation.\n",
    "        \"\"\"\n",
    "        super().__init__()\n",
    "        self.num_heads = num_heads\n",
    "        self.concat_heads = concat_heads\n",
    "        if self.concat_heads:\n",
    "            assert c_out % num_heads == 0, \"Number of output features must be a multiple of the count of heads.\"\n",
    "            c_out = c_out // num_heads\n",
    "\n",
    "        # Sub-modules and parameters needed in the layer\n",
    "        self.projection = nn.Linear(c_in, c_out * num_heads)\n",
    "        self.a = nn.Parameter(torch.Tensor(num_heads, 2 * c_out))  # One per head\n",
    "        self.leakyrelu = nn.LeakyReLU(alpha)\n",
    "\n",
    "        # Initialization from the original implementation\n",
    "        nn.init.xavier_uniform_(self.projection.weight.data, gain=1.414)\n",
    "        nn.init.xavier_uniform_(self.a.data, gain=1.414)\n",
    "\n",
    "    def forward(self, node_feats, adj_matrix, print_attn_probs=False):\n",
    "        \"\"\"\n",
    "        Args:\n",
    "            node_feats: Input features of the node. Shape: [batch_size, c_in]\n",
    "            adj_matrix: Adjacency matrix including self-connections. Shape: [batch_size, num_nodes, num_nodes]\n",
    "            print_attn_probs: If True, the attention weights are printed during the forward pass\n",
    "                               (for debugging purposes)\n",
    "        \"\"\"\n",
    "        batch_size, num_nodes = node_feats.size(0), node_feats.size(1)\n",
    "\n",
    "        # Apply linear layer and sort nodes by head\n",
    "        node_feats = self.projection(node_feats)\n",
    "        node_feats = node_feats.view(batch_size, num_nodes, self.num_heads, -1)\n",
    "\n",
    "        # We need to calculate the attention logits for every edge in the adjacency matrix\n",
    "        # Doing this on all possible combinations of nodes is very expensive\n",
    "        # => Create a tensor of [W*h_i||W*h_j] with i and j being the indices of all edges\n",
    "        # Returns indices where the adjacency matrix is not 0 => edges\n",
    "        edges = adj_matrix.nonzero(as_tuple=False)\n",
    "        node_feats_flat = node_feats.view(batch_size * num_nodes, self.num_heads, -1)\n",
    "        edge_indices_row = edges[:, 0] * num_nodes + edges[:, 1]\n",
    "        edge_indices_col = edges[:, 0] * num_nodes + edges[:, 2]\n",
    "        a_input = torch.cat(\n",
    "            [\n",
    "                torch.index_select(input=node_feats_flat, index=edge_indices_row, dim=0),\n",
    "                torch.index_select(input=node_feats_flat, index=edge_indices_col, dim=0),\n",
    "            ],\n",
    "            dim=-1,\n",
    "        )  # Index select returns a tensor with node_feats_flat being indexed at the desired positions\n",
    "\n",
    "        # Calculate attention MLP output (independent for each head)\n",
    "        attn_logits = torch.einsum(\"bhc,hc->bh\", a_input, self.a)\n",
    "        attn_logits = self.leakyrelu(attn_logits)\n",
    "\n",
    "        # Map list of attention values back into a matrix\n",
    "        attn_matrix = attn_logits.new_zeros(adj_matrix.shape + (self.num_heads,)).fill_(-9e15)\n",
    "        attn_matrix[adj_matrix[..., None].repeat(1, 1, 1, self.num_heads) == 1] = attn_logits.reshape(-1)\n",
    "\n",
    "        # Weighted average of attention\n",
    "        attn_probs = F.softmax(attn_matrix, dim=2)\n",
    "        if print_attn_probs:\n",
    "            print(\"Attention probs\\n\", attn_probs.permute(0, 3, 1, 2))\n",
    "        node_feats = torch.einsum(\"bijh,bjhc->bihc\", attn_probs, node_feats)\n",
    "\n",
    "        # If heads should be concatenated, we can do this by reshaping. Otherwise, take mean\n",
    "        if self.concat_heads:\n",
    "            node_feats = node_feats.reshape(batch_size, num_nodes, -1)\n",
    "        else:\n",
    "            node_feats = node_feats.mean(dim=2)\n",
    "\n",
    "        return node_feats"
   ]
  },
  {
   "cell_type": "markdown",
   "id": "ec75fdf4",
   "metadata": {
    "papermill": {
     "duration": 0.025559,
     "end_time": "2021-09-13T14:14:47.745086",
     "exception": false,
     "start_time": "2021-09-13T14:14:47.719527",
     "status": "completed"
    },
    "tags": []
   },
   "source": [
    "Again, we can apply the graph attention layer on our example graph above to understand the dynamics better.\n",
    "As before, the input layer is initialized as an identity matrix, but we set $\\mathbf{a}$\n",
    "to be a vector of arbitrary numbers to obtain different attention values.\n",
    "We use two heads to show the parallel, independent attention mechanisms working in the layer."
   ]
  },
  {
   "cell_type": "code",
   "execution_count": 8,
   "id": "024b3e05",
   "metadata": {
    "execution": {
     "iopub.execute_input": "2021-09-13T14:14:47.801106Z",
     "iopub.status.busy": "2021-09-13T14:14:47.800632Z",
     "iopub.status.idle": "2021-09-13T14:14:47.808782Z",
     "shell.execute_reply": "2021-09-13T14:14:47.808378Z"
    },
    "papermill": {
     "duration": 0.037816,
     "end_time": "2021-09-13T14:14:47.808880",
     "exception": false,
     "start_time": "2021-09-13T14:14:47.771064",
     "status": "completed"
    },
    "tags": []
   },
   "outputs": [
    {
     "name": "stdout",
     "output_type": "stream",
     "text": [
      "Attention probs\n",
      " tensor([[[[0.3543, 0.6457, 0.0000, 0.0000],\n",
      "          [0.1096, 0.1450, 0.2642, 0.4813],\n",
      "          [0.0000, 0.1858, 0.2885, 0.5257],\n",
      "          [0.0000, 0.2391, 0.2696, 0.4913]],\n",
      "\n",
      "         [[0.5100, 0.4900, 0.0000, 0.0000],\n",
      "          [0.2975, 0.2436, 0.2340, 0.2249],\n",
      "          [0.0000, 0.3838, 0.3142, 0.3019],\n",
      "          [0.0000, 0.4018, 0.3289, 0.2693]]]])\n",
      "Adjacency matrix tensor([[[1., 1., 0., 0.],\n",
      "         [1., 1., 1., 1.],\n",
      "         [0., 1., 1., 1.],\n",
      "         [0., 1., 1., 1.]]])\n",
      "Input features tensor([[[0., 1.],\n",
      "         [2., 3.],\n",
      "         [4., 5.],\n",
      "         [6., 7.]]])\n",
      "Output features tensor([[[1.2913, 1.9800],\n",
      "         [4.2344, 3.7725],\n",
      "         [4.6798, 4.8362],\n",
      "         [4.5043, 4.7351]]])\n"
     ]
    }
   ],
   "source": [
    "layer = GATLayer(2, 2, num_heads=2)\n",
    "layer.projection.weight.data = torch.Tensor([[1.0, 0.0], [0.0, 1.0]])\n",
    "layer.projection.bias.data = torch.Tensor([0.0, 0.0])\n",
    "layer.a.data = torch.Tensor([[-0.2, 0.3], [0.1, -0.1]])\n",
    "\n",
    "with torch.no_grad():\n",
    "    out_feats = layer(node_feats, adj_matrix, print_attn_probs=True)\n",
    "\n",
    "print(\"Adjacency matrix\", adj_matrix)\n",
    "print(\"Input features\", node_feats)\n",
    "print(\"Output features\", out_feats)"
   ]
  },
  {
   "cell_type": "markdown",
   "id": "50ab730b",
   "metadata": {
    "papermill": {
     "duration": 0.026025,
     "end_time": "2021-09-13T14:14:47.860879",
     "exception": false,
     "start_time": "2021-09-13T14:14:47.834854",
     "status": "completed"
    },
    "tags": []
   },
   "source": [
    "We recommend that you try to calculate the attention matrix at least for one head and one node for yourself.\n",
    "The entries are 0 where there does not exist an edge between $i$ and $j$.\n",
    "For the others, we see a diverse set of attention probabilities.\n",
    "Moreover, the output features of node 3 and 4 are now different although they have the same neighbors."
   ]
  },
  {
   "cell_type": "markdown",
   "id": "f75da4b5",
   "metadata": {
    "papermill": {
     "duration": 0.025778,
     "end_time": "2021-09-13T14:14:47.912459",
     "exception": false,
     "start_time": "2021-09-13T14:14:47.886681",
     "status": "completed"
    },
    "tags": []
   },
   "source": [
    "## PyTorch Geometric\n",
    "\n",
    "We had mentioned before that implementing graph networks with adjacency matrix is simple and straight-forward\n",
    "but can be computationally expensive for large graphs.\n",
    "Many real-world graphs can reach over 200k nodes, for which adjacency matrix-based implementations fail.\n",
    "There are a lot of optimizations possible when implementing GNNs, and luckily, there exist packages that provide such layers.\n",
    "The most popular packages for PyTorch are [PyTorch Geometric](https://pytorch-geometric.readthedocs.io/en/latest/)\n",
    "and the [Deep Graph Library](https://www.dgl.ai/) (the latter being actually framework agnostic).\n",
    "Which one to use depends on the project you are planning to do and personal taste.\n",
    "In this tutorial, we will look at PyTorch Geometric as part of the PyTorch family.\n",
    "\n",
    "PyTorch Geometric provides us a set of common graph layers, including the GCN and GAT layer we implemented above.\n",
    "Additionally, similar to PyTorch's torchvision, it provides the common graph datasets and transformations\n",
    "on those to simplify training.\n",
    "Compared to our implementation above, PyTorch Geometric uses a list of index pairs to represent the edges.\n",
    "The details of this library will be explored further in our experiments.\n",
    "\n",
    "In our tasks below, we want to allow us to pick from a multitude of graph layers.\n",
    "Thus, we define again below a dictionary to access those using a string:"
   ]
  },
  {
   "cell_type": "code",
   "execution_count": 9,
   "id": "28b19ecb",
   "metadata": {
    "execution": {
     "iopub.execute_input": "2021-09-13T14:14:47.967608Z",
     "iopub.status.busy": "2021-09-13T14:14:47.967137Z",
     "iopub.status.idle": "2021-09-13T14:14:47.969215Z",
     "shell.execute_reply": "2021-09-13T14:14:47.968819Z"
    },
    "papermill": {
     "duration": 0.030861,
     "end_time": "2021-09-13T14:14:47.969311",
     "exception": false,
     "start_time": "2021-09-13T14:14:47.938450",
     "status": "completed"
    },
    "tags": []
   },
   "outputs": [],
   "source": [
    "gnn_layer_by_name = {\"GCN\": geom_nn.GCNConv, \"GAT\": geom_nn.GATConv, \"GraphConv\": geom_nn.GraphConv}"
   ]
  },
  {
   "cell_type": "markdown",
   "id": "a6d5b865",
   "metadata": {
    "papermill": {
     "duration": 0.025934,
     "end_time": "2021-09-13T14:14:48.020991",
     "exception": false,
     "start_time": "2021-09-13T14:14:47.995057",
     "status": "completed"
    },
    "tags": []
   },
   "source": [
    "Additionally to GCN and GAT, we added the layer `geom_nn.GraphConv`\n",
    "([documentation](https://pytorch-geometric.readthedocs.io/en/latest/modules/nn.html#torch_geometric.nn.conv.GraphConv)).\n",
    "GraphConv is a GCN with a separate weight matrix for the self-connections.\n",
    "Mathematically, this would be:\n",
    "\n",
    "$$\n",
    "\\mathbf{x}_i^{(l+1)} = \\mathbf{W}^{(l + 1)}_1 \\mathbf{x}_i^{(l)} + \\mathbf{W}^{(\\ell + 1)}_2 \\sum_{j \\in \\mathcal{N}_i} \\mathbf{x}_j^{(l)}\n",
    "$$\n",
    "\n",
    "In this formula, the neighbor's messages are added instead of averaged.\n",
    "However, PyTorch Geometric provides the argument `aggr` to switch between summing, averaging, and max pooling."
   ]
  },
  {
   "cell_type": "markdown",
   "id": "bb131dd8",
   "metadata": {
    "papermill": {
     "duration": 0.026041,
     "end_time": "2021-09-13T14:14:48.073266",
     "exception": false,
     "start_time": "2021-09-13T14:14:48.047225",
     "status": "completed"
    },
    "tags": []
   },
   "source": [
    "## Experiments on graph structures\n",
    "\n",
    "Tasks on graph-structured data can be grouped into three groups: node-level, edge-level and graph-level.\n",
    "The different levels describe on which level we want to perform classification/regression.\n",
    "We will discuss all three types in more detail below."
   ]
  },
  {
   "cell_type": "markdown",
   "id": "a163f431",
   "metadata": {
    "papermill": {
     "duration": 0.025872,
     "end_time": "2021-09-13T14:14:48.125361",
     "exception": false,
     "start_time": "2021-09-13T14:14:48.099489",
     "status": "completed"
    },
    "tags": []
   },
   "source": [
    "### Node-level tasks: Semi-supervised node classification\n",
    "\n",
    "Node-level tasks have the goal to classify nodes in a graph.\n",
    "Usually, we have given a single, large graph with >1000 nodes of which a certain amount of nodes are labeled.\n",
    "We learn to classify those labeled examples during training and try to generalize to the unlabeled nodes.\n",
    "\n",
    "A popular example that we will use in this tutorial is the Cora dataset, a citation network among papers.\n",
    "The Cora consists of 2708 scientific publications with links between each other representing\n",
    "the citation of one paper by another.\n",
    "The task is to classify each publication into one of seven classes.\n",
    "Each publication is represented by a bag-of-words vector.\n",
    "This means that we have a vector of 1433 elements for each publication, where a 1 at feature $i$ indicates\n",
    "that the $i$-th word of a pre-defined dictionary is in the article.\n",
    "Binary bag-of-words representations are commonly used when we need very simple encodings,\n",
    "and already have an intuition of what words to expect in a network.\n",
    "There exist much better approaches, but we will leave this to the NLP courses to discuss.\n",
    "\n",
    "We will load the dataset below:"
   ]
  },
  {
   "cell_type": "code",
   "execution_count": 10,
   "id": "68a43f90",
   "metadata": {
    "execution": {
     "iopub.execute_input": "2021-09-13T14:14:48.180451Z",
     "iopub.status.busy": "2021-09-13T14:14:48.179464Z",
     "iopub.status.idle": "2021-09-13T14:14:50.054144Z",
     "shell.execute_reply": "2021-09-13T14:14:50.053655Z"
    },
    "papermill": {
     "duration": 1.902485,
     "end_time": "2021-09-13T14:14:50.054260",
     "exception": false,
     "start_time": "2021-09-13T14:14:48.151775",
     "status": "completed"
    },
    "tags": []
   },
   "outputs": [
    {
     "name": "stdout",
     "output_type": "stream",
     "text": [
      "Downloading https://github.com/kimiyoung/planetoid/raw/master/data/ind.cora.x\n",
      "Downloading https://github.com/kimiyoung/planetoid/raw/master/data/ind.cora.tx\n"
     ]
    },
    {
     "name": "stdout",
     "output_type": "stream",
     "text": [
      "Downloading https://github.com/kimiyoung/planetoid/raw/master/data/ind.cora.allx\n",
      "Downloading https://github.com/kimiyoung/planetoid/raw/master/data/ind.cora.y\n"
     ]
    },
    {
     "name": "stdout",
     "output_type": "stream",
     "text": [
      "Downloading https://github.com/kimiyoung/planetoid/raw/master/data/ind.cora.ty\n",
      "Downloading https://github.com/kimiyoung/planetoid/raw/master/data/ind.cora.ally\n"
     ]
    },
    {
     "name": "stdout",
     "output_type": "stream",
     "text": [
      "Downloading https://github.com/kimiyoung/planetoid/raw/master/data/ind.cora.graph\n"
     ]
    },
    {
     "name": "stdout",
     "output_type": "stream",
     "text": [
      "Downloading https://github.com/kimiyoung/planetoid/raw/master/data/ind.cora.test.index\n",
      "Processing...\n"
     ]
    },
    {
     "name": "stdout",
     "output_type": "stream",
     "text": [
      "Done!\n"
     ]
    }
   ],
   "source": [
    "cora_dataset = torch_geometric.datasets.Planetoid(root=DATASET_PATH, name=\"Cora\")"
   ]
  },
  {
   "cell_type": "markdown",
   "id": "f62181eb",
   "metadata": {
    "papermill": {
     "duration": 0.027673,
     "end_time": "2021-09-13T14:14:50.114190",
     "exception": false,
     "start_time": "2021-09-13T14:14:50.086517",
     "status": "completed"
    },
    "tags": []
   },
   "source": [
    "Let's look at how PyTorch Geometric represents the graph data.\n",
    "Note that although we have a single graph, PyTorch Geometric returns a dataset for compatibility to other datasets."
   ]
  },
  {
   "cell_type": "code",
   "execution_count": 11,
   "id": "fb9e2760",
   "metadata": {
    "execution": {
     "iopub.execute_input": "2021-09-13T14:14:50.178590Z",
     "iopub.status.busy": "2021-09-13T14:14:50.178098Z",
     "iopub.status.idle": "2021-09-13T14:14:50.180884Z",
     "shell.execute_reply": "2021-09-13T14:14:50.180412Z"
    },
    "papermill": {
     "duration": 0.038755,
     "end_time": "2021-09-13T14:14:50.180985",
     "exception": false,
     "start_time": "2021-09-13T14:14:50.142230",
     "status": "completed"
    },
    "tags": []
   },
   "outputs": [
    {
     "data": {
      "text/plain": [
       "Data(edge_index=[2, 10556], test_mask=[2708], train_mask=[2708], val_mask=[2708], x=[2708, 1433], y=[2708])"
      ]
     },
     "execution_count": 11,
     "metadata": {},
     "output_type": "execute_result"
    }
   ],
   "source": [
    "cora_dataset[0]"
   ]
  },
  {
   "cell_type": "markdown",
   "id": "bcd91946",
   "metadata": {
    "lines_to_next_cell": 2,
    "papermill": {
     "duration": 0.02764,
     "end_time": "2021-09-13T14:14:50.236421",
     "exception": false,
     "start_time": "2021-09-13T14:14:50.208781",
     "status": "completed"
    },
    "tags": []
   },
   "source": [
    "The graph is represented by a `Data` object\n",
    "([documentation](https://pytorch-geometric.readthedocs.io/en/latest/modules/data.html#torch_geometric.data.Data))\n",
    "which we can access as a standard Python namespace.\n",
    "The edge index tensor is the list of edges in the graph and contains the mirrored version of each edge for undirected graphs.\n",
    "The `train_mask`, `val_mask`, and `test_mask` are boolean masks that indicate which nodes we should use for training,\n",
    "validation, and testing.\n",
    "The `x` tensor is the feature tensor of our 2708 publications, and `y` the labels for all nodes.\n",
    "\n",
    "After having seen the data, we can implement a simple graph neural network.\n",
    "The GNN applies a sequence of graph layers (GCN, GAT, or GraphConv), ReLU as activation function,\n",
    "and dropout for regularization.\n",
    "See below for the specific implementation."
   ]
  },
  {
   "cell_type": "code",
   "execution_count": 12,
   "id": "34de4cbe",
   "metadata": {
    "execution": {
     "iopub.execute_input": "2021-09-13T14:14:50.298314Z",
     "iopub.status.busy": "2021-09-13T14:14:50.297828Z",
     "iopub.status.idle": "2021-09-13T14:14:50.299972Z",
     "shell.execute_reply": "2021-09-13T14:14:50.299505Z"
    },
    "lines_to_next_cell": 2,
    "papermill": {
     "duration": 0.03571,
     "end_time": "2021-09-13T14:14:50.300070",
     "exception": false,
     "start_time": "2021-09-13T14:14:50.264360",
     "status": "completed"
    },
    "tags": []
   },
   "outputs": [],
   "source": [
    "class GNNModel(nn.Module):\n",
    "    def __init__(\n",
    "        self,\n",
    "        c_in,\n",
    "        c_hidden,\n",
    "        c_out,\n",
    "        num_layers=2,\n",
    "        layer_name=\"GCN\",\n",
    "        dp_rate=0.1,\n",
    "        **kwargs,\n",
    "    ):\n",
    "        \"\"\"\n",
    "        Args:\n",
    "            c_in: Dimension of input features\n",
    "            c_hidden: Dimension of hidden features\n",
    "            c_out: Dimension of the output features. Usually number of classes in classification\n",
    "            num_layers: Number of \"hidden\" graph layers\n",
    "            layer_name: String of the graph layer to use\n",
    "            dp_rate: Dropout rate to apply throughout the network\n",
    "            kwargs: Additional arguments for the graph layer (e.g. number of heads for GAT)\n",
    "        \"\"\"\n",
    "        super().__init__()\n",
    "        gnn_layer = gnn_layer_by_name[layer_name]\n",
    "\n",
    "        layers = []\n",
    "        in_channels, out_channels = c_in, c_hidden\n",
    "        for l_idx in range(num_layers - 1):\n",
    "            layers += [\n",
    "                gnn_layer(in_channels=in_channels, out_channels=out_channels, **kwargs),\n",
    "                nn.ReLU(inplace=True),\n",
    "                nn.Dropout(dp_rate),\n",
    "            ]\n",
    "            in_channels = c_hidden\n",
    "        layers += [gnn_layer(in_channels=in_channels, out_channels=c_out, **kwargs)]\n",
    "        self.layers = nn.ModuleList(layers)\n",
    "\n",
    "    def forward(self, x, edge_index):\n",
    "        \"\"\"\n",
    "        Args:\n",
    "            x: Input features per node\n",
    "            edge_index: List of vertex index pairs representing the edges in the graph (PyTorch geometric notation)\n",
    "        \"\"\"\n",
    "        for layer in self.layers:\n",
    "            # For graph layers, we need to add the \"edge_index\" tensor as additional input\n",
    "            # All PyTorch Geometric graph layer inherit the class \"MessagePassing\", hence\n",
    "            # we can simply check the class type.\n",
    "            if isinstance(layer, geom_nn.MessagePassing):\n",
    "                x = layer(x, edge_index)\n",
    "            else:\n",
    "                x = layer(x)\n",
    "        return x"
   ]
  },
  {
   "cell_type": "markdown",
   "id": "bad9893b",
   "metadata": {
    "lines_to_next_cell": 2,
    "papermill": {
     "duration": 0.027773,
     "end_time": "2021-09-13T14:14:50.355825",
     "exception": false,
     "start_time": "2021-09-13T14:14:50.328052",
     "status": "completed"
    },
    "tags": []
   },
   "source": [
    "Good practice in node-level tasks is to create an MLP baseline that is applied to each node independently.\n",
    "This way we can verify whether adding the graph information to the model indeed improves the prediction, or not.\n",
    "It might also be that the features per node are already expressive enough to clearly point towards a specific class.\n",
    "To check this, we implement a simple MLP below."
   ]
  },
  {
   "cell_type": "code",
   "execution_count": 13,
   "id": "778dea67",
   "metadata": {
    "execution": {
     "iopub.execute_input": "2021-09-13T14:14:50.416311Z",
     "iopub.status.busy": "2021-09-13T14:14:50.415831Z",
     "iopub.status.idle": "2021-09-13T14:14:50.417945Z",
     "shell.execute_reply": "2021-09-13T14:14:50.417477Z"
    },
    "lines_to_next_cell": 2,
    "papermill": {
     "duration": 0.034555,
     "end_time": "2021-09-13T14:14:50.418044",
     "exception": false,
     "start_time": "2021-09-13T14:14:50.383489",
     "status": "completed"
    },
    "tags": []
   },
   "outputs": [],
   "source": [
    "class MLPModel(nn.Module):\n",
    "    def __init__(self, c_in, c_hidden, c_out, num_layers=2, dp_rate=0.1):\n",
    "        \"\"\"\n",
    "        Args:\n",
    "            c_in: Dimension of input features\n",
    "            c_hidden: Dimension of hidden features\n",
    "            c_out: Dimension of the output features. Usually number of classes in classification\n",
    "            num_layers: Number of hidden layers\n",
    "            dp_rate: Dropout rate to apply throughout the network\n",
    "        \"\"\"\n",
    "        super().__init__()\n",
    "        layers = []\n",
    "        in_channels, out_channels = c_in, c_hidden\n",
    "        for l_idx in range(num_layers - 1):\n",
    "            layers += [nn.Linear(in_channels, out_channels), nn.ReLU(inplace=True), nn.Dropout(dp_rate)]\n",
    "            in_channels = c_hidden\n",
    "        layers += [nn.Linear(in_channels, c_out)]\n",
    "        self.layers = nn.Sequential(*layers)\n",
    "\n",
    "    def forward(self, x, *args, **kwargs):\n",
    "        \"\"\"\n",
    "        Args:\n",
    "            x: Input features per node\n",
    "        \"\"\"\n",
    "        return self.layers(x)"
   ]
  },
  {
   "cell_type": "markdown",
   "id": "04538438",
   "metadata": {
    "lines_to_next_cell": 2,
    "papermill": {
     "duration": 0.027683,
     "end_time": "2021-09-13T14:14:50.473637",
     "exception": false,
     "start_time": "2021-09-13T14:14:50.445954",
     "status": "completed"
    },
    "tags": []
   },
   "source": [
    "Finally, we can merge the models into a PyTorch Lightning module which handles the training,\n",
    "validation, and testing for us."
   ]
  },
  {
   "cell_type": "code",
   "execution_count": 14,
   "id": "4a5674cc",
   "metadata": {
    "execution": {
     "iopub.execute_input": "2021-09-13T14:14:50.538136Z",
     "iopub.status.busy": "2021-09-13T14:14:50.537654Z",
     "iopub.status.idle": "2021-09-13T14:14:50.539823Z",
     "shell.execute_reply": "2021-09-13T14:14:50.539356Z"
    },
    "lines_to_next_cell": 2,
    "papermill": {
     "duration": 0.038303,
     "end_time": "2021-09-13T14:14:50.539921",
     "exception": false,
     "start_time": "2021-09-13T14:14:50.501618",
     "status": "completed"
    },
    "tags": []
   },
   "outputs": [],
   "source": [
    "class NodeLevelGNN(pl.LightningModule):\n",
    "    def __init__(self, model_name, **model_kwargs):\n",
    "        super().__init__()\n",
    "        # Saving hyperparameters\n",
    "        self.save_hyperparameters()\n",
    "\n",
    "        if model_name == \"MLP\":\n",
    "            self.model = MLPModel(**model_kwargs)\n",
    "        else:\n",
    "            self.model = GNNModel(**model_kwargs)\n",
    "        self.loss_module = nn.CrossEntropyLoss()\n",
    "\n",
    "    def forward(self, data, mode=\"train\"):\n",
    "        x, edge_index = data.x, data.edge_index\n",
    "        x = self.model(x, edge_index)\n",
    "\n",
    "        # Only calculate the loss on the nodes corresponding to the mask\n",
    "        if mode == \"train\":\n",
    "            mask = data.train_mask\n",
    "        elif mode == \"val\":\n",
    "            mask = data.val_mask\n",
    "        elif mode == \"test\":\n",
    "            mask = data.test_mask\n",
    "        else:\n",
    "            assert False, \"Unknown forward mode: %s\" % mode\n",
    "\n",
    "        loss = self.loss_module(x[mask], data.y[mask])\n",
    "        acc = (x[mask].argmax(dim=-1) == data.y[mask]).sum().float() / mask.sum()\n",
    "        return loss, acc\n",
    "\n",
    "    def configure_optimizers(self):\n",
    "        # We use SGD here, but Adam works as well\n",
    "        optimizer = optim.SGD(self.parameters(), lr=0.1, momentum=0.9, weight_decay=2e-3)\n",
    "        return optimizer\n",
    "\n",
    "    def training_step(self, batch, batch_idx):\n",
    "        loss, acc = self.forward(batch, mode=\"train\")\n",
    "        self.log(\"train_loss\", loss)\n",
    "        self.log(\"train_acc\", acc)\n",
    "        return loss\n",
    "\n",
    "    def validation_step(self, batch, batch_idx):\n",
    "        _, acc = self.forward(batch, mode=\"val\")\n",
    "        self.log(\"val_acc\", acc)\n",
    "\n",
    "    def test_step(self, batch, batch_idx):\n",
    "        _, acc = self.forward(batch, mode=\"test\")\n",
    "        self.log(\"test_acc\", acc)"
   ]
  },
  {
   "cell_type": "markdown",
   "id": "ac5fdd6a",
   "metadata": {
    "lines_to_next_cell": 2,
    "papermill": {
     "duration": 0.028167,
     "end_time": "2021-09-13T14:14:50.596033",
     "exception": false,
     "start_time": "2021-09-13T14:14:50.567866",
     "status": "completed"
    },
    "tags": []
   },
   "source": [
    "Additionally to the Lightning module, we define a training function below.\n",
    "As we have a single graph, we use a batch size of 1 for the data loader and share the same data loader for the train,\n",
    "validation, and test set (the mask is picked inside the Lightning module).\n",
    "Besides, we set the argument `progress_bar_refresh_rate` to zero as it usually shows the progress per epoch,\n",
    "but an epoch only consists of a single step.\n",
    "If you have downloaded the pre-trained models in the beginning of the tutorial, we load those instead of training from scratch.\n",
    "Finally, we test the model and return the results."
   ]
  },
  {
   "cell_type": "code",
   "execution_count": 15,
   "id": "e04e950e",
   "metadata": {
    "execution": {
     "iopub.execute_input": "2021-09-13T14:14:50.659382Z",
     "iopub.status.busy": "2021-09-13T14:14:50.658898Z",
     "iopub.status.idle": "2021-09-13T14:14:50.661015Z",
     "shell.execute_reply": "2021-09-13T14:14:50.660547Z"
    },
    "lines_to_next_cell": 2,
    "papermill": {
     "duration": 0.037219,
     "end_time": "2021-09-13T14:14:50.661112",
     "exception": false,
     "start_time": "2021-09-13T14:14:50.623893",
     "status": "completed"
    },
    "tags": []
   },
   "outputs": [],
   "source": [
    "def train_node_classifier(model_name, dataset, **model_kwargs):\n",
    "    pl.seed_everything(42)\n",
    "    node_data_loader = geom_data.DataLoader(dataset, batch_size=1)\n",
    "\n",
    "    # Create a PyTorch Lightning trainer\n",
    "    root_dir = os.path.join(CHECKPOINT_PATH, \"NodeLevel\" + model_name)\n",
    "    os.makedirs(root_dir, exist_ok=True)\n",
    "    trainer = pl.Trainer(\n",
    "        default_root_dir=root_dir,\n",
    "        callbacks=[ModelCheckpoint(save_weights_only=True, mode=\"max\", monitor=\"val_acc\")],\n",
    "        gpus=AVAIL_GPUS,\n",
    "        max_epochs=200,\n",
    "        progress_bar_refresh_rate=0,\n",
    "    )  # 0 because epoch size is 1\n",
    "    trainer.logger._default_hp_metric = None  # Optional logging argument that we don't need\n",
    "\n",
    "    # Check whether pretrained model exists. If yes, load it and skip training\n",
    "    pretrained_filename = os.path.join(CHECKPOINT_PATH, \"NodeLevel%s.ckpt\" % model_name)\n",
    "    if os.path.isfile(pretrained_filename):\n",
    "        print(\"Found pretrained model, loading...\")\n",
    "        model = NodeLevelGNN.load_from_checkpoint(pretrained_filename)\n",
    "    else:\n",
    "        pl.seed_everything()\n",
    "        model = NodeLevelGNN(\n",
    "            model_name=model_name, c_in=dataset.num_node_features, c_out=dataset.num_classes, **model_kwargs\n",
    "        )\n",
    "        trainer.fit(model, node_data_loader, node_data_loader)\n",
    "        model = NodeLevelGNN.load_from_checkpoint(trainer.checkpoint_callback.best_model_path)\n",
    "\n",
    "    # Test best model on the test set\n",
    "    test_result = trainer.test(model, test_dataloaders=node_data_loader, verbose=False)\n",
    "    batch = next(iter(node_data_loader))\n",
    "    batch = batch.to(model.device)\n",
    "    _, train_acc = model.forward(batch, mode=\"train\")\n",
    "    _, val_acc = model.forward(batch, mode=\"val\")\n",
    "    result = {\"train\": train_acc, \"val\": val_acc, \"test\": test_result[0][\"test_acc\"]}\n",
    "    return model, result"
   ]
  },
  {
   "cell_type": "markdown",
   "id": "39a7803d",
   "metadata": {
    "lines_to_next_cell": 2,
    "papermill": {
     "duration": 0.027867,
     "end_time": "2021-09-13T14:14:50.716848",
     "exception": false,
     "start_time": "2021-09-13T14:14:50.688981",
     "status": "completed"
    },
    "tags": []
   },
   "source": [
    "Now, we can train our models. First, let's train the simple MLP:"
   ]
  },
  {
   "cell_type": "code",
   "execution_count": 16,
   "id": "26cf601a",
   "metadata": {
    "execution": {
     "iopub.execute_input": "2021-09-13T14:14:50.776750Z",
     "iopub.status.busy": "2021-09-13T14:14:50.776273Z",
     "iopub.status.idle": "2021-09-13T14:14:50.778335Z",
     "shell.execute_reply": "2021-09-13T14:14:50.777938Z"
    },
    "papermill": {
     "duration": 0.033597,
     "end_time": "2021-09-13T14:14:50.778450",
     "exception": false,
     "start_time": "2021-09-13T14:14:50.744853",
     "status": "completed"
    },
    "tags": []
   },
   "outputs": [],
   "source": [
    "# Small function for printing the test scores\n",
    "def print_results(result_dict):\n",
    "    if \"train\" in result_dict:\n",
    "        print(\"Train accuracy: %4.2f%%\" % (100.0 * result_dict[\"train\"]))\n",
    "    if \"val\" in result_dict:\n",
    "        print(\"Val accuracy:   %4.2f%%\" % (100.0 * result_dict[\"val\"]))\n",
    "    print(\"Test accuracy:  %4.2f%%\" % (100.0 * result_dict[\"test\"]))"
   ]
  },
  {
   "cell_type": "code",
   "execution_count": 17,
   "id": "5303e463",
   "metadata": {
    "execution": {
     "iopub.execute_input": "2021-09-13T14:14:50.837668Z",
     "iopub.status.busy": "2021-09-13T14:14:50.837195Z",
     "iopub.status.idle": "2021-09-13T14:14:53.524373Z",
     "shell.execute_reply": "2021-09-13T14:14:53.524759Z"
    },
    "papermill": {
     "duration": 2.71837,
     "end_time": "2021-09-13T14:14:53.524903",
     "exception": false,
     "start_time": "2021-09-13T14:14:50.806533",
     "status": "completed"
    },
    "tags": []
   },
   "outputs": [
    {
     "name": "stderr",
     "output_type": "stream",
     "text": [
      "Global seed set to 42\n"
     ]
    },
    {
     "name": "stderr",
     "output_type": "stream",
     "text": [
      "GPU available: True, used: True\n"
     ]
    },
    {
     "name": "stderr",
     "output_type": "stream",
     "text": [
      "TPU available: False, using: 0 TPU cores\n"
     ]
    },
    {
     "name": "stderr",
     "output_type": "stream",
     "text": [
      "IPU available: False, using: 0 IPUs\n"
     ]
    },
    {
     "name": "stderr",
     "output_type": "stream",
     "text": [
      "/home/AzDevOps_azpcontainer/.local/lib/python3.9/site-packages/pytorch_lightning/trainer/trainer.py:678: LightningDeprecationWarning: `trainer.test(test_dataloaders)` is deprecated in v1.4 and will be removed in v1.6. Use `trainer.test(dataloaders)` instead.\n",
      "  rank_zero_deprecation(\n",
      "LOCAL_RANK: 0 - CUDA_VISIBLE_DEVICES: [0,1]\n"
     ]
    },
    {
     "name": "stdout",
     "output_type": "stream",
     "text": [
      "Found pretrained model, loading...\n"
     ]
    },
    {
     "name": "stderr",
     "output_type": "stream",
     "text": [
      "Missing logger folder: saved_models/GNNs/NodeLevelMLP/lightning_logs\n"
     ]
    },
    {
     "name": "stdout",
     "output_type": "stream",
     "text": [
      "Train accuracy: 97.14%\n",
      "Val accuracy:   54.60%\n",
      "Test accuracy:  60.60%\n"
     ]
    },
    {
     "name": "stderr",
     "output_type": "stream",
     "text": [
      "/home/AzDevOps_azpcontainer/.local/lib/python3.9/site-packages/pytorch_lightning/trainer/data_loading.py:105: UserWarning: The dataloader, test dataloader 0, does not have many workers which may be a bottleneck. Consider increasing the value of the `num_workers` argument` (try 12 which is the number of cpus on this machine) in the `DataLoader` init to improve performance.\n",
      "  rank_zero_warn(\n"
     ]
    }
   ],
   "source": [
    "node_mlp_model, node_mlp_result = train_node_classifier(\n",
    "    model_name=\"MLP\", dataset=cora_dataset, c_hidden=16, num_layers=2, dp_rate=0.1\n",
    ")\n",
    "\n",
    "print_results(node_mlp_result)"
   ]
  },
  {
   "cell_type": "markdown",
   "id": "47affaa4",
   "metadata": {
    "papermill": {
     "duration": 0.029807,
     "end_time": "2021-09-13T14:14:53.585301",
     "exception": false,
     "start_time": "2021-09-13T14:14:53.555494",
     "status": "completed"
    },
    "tags": []
   },
   "source": [
    "Although the MLP can overfit on the training dataset because of the high-dimensional input features,\n",
    "it does not perform too well on the test set.\n",
    "Let's see if we can beat this score with our graph networks:"
   ]
  },
  {
   "cell_type": "code",
   "execution_count": 18,
   "id": "96b06a2f",
   "metadata": {
    "execution": {
     "iopub.execute_input": "2021-09-13T14:14:53.648768Z",
     "iopub.status.busy": "2021-09-13T14:14:53.648299Z",
     "iopub.status.idle": "2021-09-13T14:14:53.684321Z",
     "shell.execute_reply": "2021-09-13T14:14:53.683906Z"
    },
    "papermill": {
     "duration": 0.069161,
     "end_time": "2021-09-13T14:14:53.684436",
     "exception": false,
     "start_time": "2021-09-13T14:14:53.615275",
     "status": "completed"
    },
    "tags": []
   },
   "outputs": [
    {
     "name": "stderr",
     "output_type": "stream",
     "text": [
      "Global seed set to 42\n"
     ]
    },
    {
     "name": "stderr",
     "output_type": "stream",
     "text": [
      "GPU available: True, used: True\n"
     ]
    },
    {
     "name": "stderr",
     "output_type": "stream",
     "text": [
      "TPU available: False, using: 0 TPU cores\n"
     ]
    },
    {
     "name": "stderr",
     "output_type": "stream",
     "text": [
      "IPU available: False, using: 0 IPUs\n"
     ]
    },
    {
     "name": "stderr",
     "output_type": "stream",
     "text": [
      "LOCAL_RANK: 0 - CUDA_VISIBLE_DEVICES: [0,1]\n"
     ]
    },
    {
     "name": "stderr",
     "output_type": "stream",
     "text": [
      "Missing logger folder: saved_models/GNNs/NodeLevelGNN/lightning_logs\n"
     ]
    },
    {
     "name": "stdout",
     "output_type": "stream",
     "text": [
      "Found pretrained model, loading...\n",
      "Train accuracy: 100.00%\n",
      "Val accuracy:   78.00%\n",
      "Test accuracy:  82.40%\n"
     ]
    }
   ],
   "source": [
    "node_gnn_model, node_gnn_result = train_node_classifier(\n",
    "    model_name=\"GNN\", layer_name=\"GCN\", dataset=cora_dataset, c_hidden=16, num_layers=2, dp_rate=0.1\n",
    ")\n",
    "print_results(node_gnn_result)"
   ]
  },
  {
   "cell_type": "markdown",
   "id": "5f8f62b0",
   "metadata": {
    "papermill": {
     "duration": 0.031252,
     "end_time": "2021-09-13T14:14:53.747906",
     "exception": false,
     "start_time": "2021-09-13T14:14:53.716654",
     "status": "completed"
    },
    "tags": []
   },
   "source": [
    "As we would have hoped for, the GNN model outperforms the MLP by quite a margin.\n",
    "This shows that using the graph information indeed improves our predictions and lets us generalizes better.\n",
    "\n",
    "The hyperparameters in the model have been chosen to create a relatively small network.\n",
    "This is because the first layer with an input dimension of 1433 can be relatively expensive to perform for large graphs.\n",
    "In general, GNNs can become relatively expensive for very big graphs.\n",
    "This is why such GNNs either have a small hidden size or use a special batching strategy\n",
    "where we sample a connected subgraph of the big, original graph."
   ]
  },
  {
   "cell_type": "markdown",
   "id": "f06e8a3a",
   "metadata": {
    "papermill": {
     "duration": 0.031205,
     "end_time": "2021-09-13T14:14:53.810799",
     "exception": false,
     "start_time": "2021-09-13T14:14:53.779594",
     "status": "completed"
    },
    "tags": []
   },
   "source": [
    "### Edge-level tasks: Link prediction\n",
    "\n",
    "In some applications, we might have to predict on an edge-level instead of node-level.\n",
    "The most common edge-level task in GNN is link prediction.\n",
    "Link prediction means that given a graph, we want to predict whether there will be/should be an edge between two nodes or not.\n",
    "For example, in a social network, this is used by Facebook and co to propose new friends to you.\n",
    "Again, graph level information can be crucial to perform this task.\n",
    "The output prediction is usually done by performing a similarity metric on the pair of node features,\n",
    "which should be 1 if there should be a link, and otherwise close to 0.\n",
    "To keep the tutorial short, we will not implement this task ourselves.\n",
    "Nevertheless, there are many good resources out there if you are interested in looking closer at this task.\n",
    "Tutorials and papers for this topic include:\n",
    "\n",
    "* [PyTorch Geometric example](https://github.com/rusty1s/pytorch_geometric/blob/master/examples/link_pred.py)\n",
    "* [Graph Neural Networks: A Review of Methods and Applications](https://arxiv.org/pdf/1812.08434.pdf), Zhou et al.\n",
    "2019\n",
    "* [Link Prediction Based on Graph Neural Networks](https://papers.nips.cc/paper/2018/file/53f0d7c537d99b3824f0f99d62ea2428-Paper.pdf), Zhang and Chen, 2018."
   ]
  },
  {
   "cell_type": "markdown",
   "id": "bb655956",
   "metadata": {
    "papermill": {
     "duration": 0.031276,
     "end_time": "2021-09-13T14:14:53.873607",
     "exception": false,
     "start_time": "2021-09-13T14:14:53.842331",
     "status": "completed"
    },
    "tags": []
   },
   "source": [
    "### Graph-level tasks: Graph classification\n",
    "\n",
    "Finally, in this part of the tutorial, we will have a closer look at how to apply GNNs to the task of graph classification.\n",
    "The goal is to classify an entire graph instead of single nodes or edges.\n",
    "Therefore, we are also given a dataset of multiple graphs that we need to classify based on some structural graph properties.\n",
    "The most common task for graph classification is molecular property prediction, in which molecules are represented as graphs.\n",
    "Each atom is linked to a node, and edges in the graph are the bonds between atoms.\n",
    "For example, look at the figure below.\n",
    "\n",
    "<center width=\"100%\"><img src=\"https://github.com/PyTorchLightning/lightning-tutorials/raw/main/course_UvA-DL/graph-neural-networks/molecule_graph.svg\" width=\"600px\"></center>\n",
    "\n",
    "On the left, we have an arbitrary, small molecule with different atoms, whereas the right part of the image shows the graph representation.\n",
    "The atom types are abstracted as node features (e.g. a one-hot vector), and the different bond types are used as edge features.\n",
    "For simplicity, we will neglect the edge attributes in this tutorial, but you can include by using methods like the\n",
    "[Relational Graph Convolution](https://arxiv.org/abs/1703.06103) that uses a different weight matrix for each edge type.\n",
    "\n",
    "The dataset we will use below is called the MUTAG dataset.\n",
    "It is a common small benchmark for graph classification algorithms, and contain 188 graphs with 18 nodes\n",
    "and 20 edges on average for each graph.\n",
    "The graph nodes have 7 different labels/atom types, and the binary graph labels represent \"their mutagenic effect\n",
    "on a specific gram negative bacterium\" (the specific meaning of the labels are not too important here).\n",
    "The dataset is part of a large collection of different graph classification datasets, known as the\n",
    "[TUDatasets](https://chrsmrrs.github.io/datasets/), which is directly accessible\n",
    "via `torch_geometric.datasets.TUDataset` ([documentation](https://pytorch-geometric.readthedocs.io/en/latest/modules/datasets.html#torch_geometric.datasets.TUDataset)) in PyTorch Geometric.\n",
    "We can load the dataset below."
   ]
  },
  {
   "cell_type": "code",
   "execution_count": 19,
   "id": "5abfa324",
   "metadata": {
    "execution": {
     "iopub.execute_input": "2021-09-13T14:14:53.939894Z",
     "iopub.status.busy": "2021-09-13T14:14:53.939421Z",
     "iopub.status.idle": "2021-09-13T14:14:54.766756Z",
     "shell.execute_reply": "2021-09-13T14:14:54.766302Z"
    },
    "papermill": {
     "duration": 0.861846,
     "end_time": "2021-09-13T14:14:54.766870",
     "exception": false,
     "start_time": "2021-09-13T14:14:53.905024",
     "status": "completed"
    },
    "tags": []
   },
   "outputs": [
    {
     "name": "stdout",
     "output_type": "stream",
     "text": [
      "Downloading https://www.chrsmrrs.com/graphkerneldatasets/MUTAG.zip\n"
     ]
    },
    {
     "name": "stdout",
     "output_type": "stream",
     "text": [
      "Extracting /__w/2/s/.datasets/MUTAG/MUTAG.zip\n",
      "Processing...\n",
      "Done!\n"
     ]
    }
   ],
   "source": [
    "tu_dataset = torch_geometric.datasets.TUDataset(root=DATASET_PATH, name=\"MUTAG\")"
   ]
  },
  {
   "cell_type": "markdown",
   "id": "fb1eed84",
   "metadata": {
    "papermill": {
     "duration": 0.031819,
     "end_time": "2021-09-13T14:14:54.831359",
     "exception": false,
     "start_time": "2021-09-13T14:14:54.799540",
     "status": "completed"
    },
    "tags": []
   },
   "source": [
    "Let's look at some statistics for the dataset:"
   ]
  },
  {
   "cell_type": "code",
   "execution_count": 20,
   "id": "e12a5b87",
   "metadata": {
    "execution": {
     "iopub.execute_input": "2021-09-13T14:14:54.898471Z",
     "iopub.status.busy": "2021-09-13T14:14:54.897979Z",
     "iopub.status.idle": "2021-09-13T14:14:54.901010Z",
     "shell.execute_reply": "2021-09-13T14:14:54.900545Z"
    },
    "papermill": {
     "duration": 0.038157,
     "end_time": "2021-09-13T14:14:54.901111",
     "exception": false,
     "start_time": "2021-09-13T14:14:54.862954",
     "status": "completed"
    },
    "tags": []
   },
   "outputs": [
    {
     "name": "stdout",
     "output_type": "stream",
     "text": [
      "Data object: Data(edge_attr=[7442, 4], edge_index=[2, 7442], x=[3371, 7], y=[188])\n",
      "Length: 188\n",
      "Average label: 0.66\n"
     ]
    }
   ],
   "source": [
    "print(\"Data object:\", tu_dataset.data)\n",
    "print(\"Length:\", len(tu_dataset))\n",
    "print(\"Average label: %4.2f\" % (tu_dataset.data.y.float().mean().item()))"
   ]
  },
  {
   "cell_type": "markdown",
   "id": "3ef95b83",
   "metadata": {
    "papermill": {
     "duration": 0.032184,
     "end_time": "2021-09-13T14:14:54.965777",
     "exception": false,
     "start_time": "2021-09-13T14:14:54.933593",
     "status": "completed"
    },
    "tags": []
   },
   "source": [
    "The first line shows how the dataset stores different graphs.\n",
    "The nodes, edges, and labels of each graph are concatenated to one tensor, and the dataset stores the indices\n",
    "where to split the tensors correspondingly.\n",
    "The length of the dataset is the number of graphs we have, and the \"average label\"\n",
    "denotes the percentage of the graph with label 1.\n",
    "As long as the percentage is in the range of 0.5, we have a relatively balanced dataset.\n",
    "It happens quite often that graph datasets are very imbalanced, hence checking the class balance\n",
    "is always a good thing to do.\n",
    "\n",
    "Next, we will split our dataset into a training and test part.\n",
    "Note that we do not use a validation set this time because of the small size of the dataset.\n",
    "Therefore, our model might overfit slightly on the validation set due to the noise of the evaluation,\n",
    "but we still get an estimate of the performance on untrained data."
   ]
  },
  {
   "cell_type": "code",
   "execution_count": 21,
   "id": "0eb9962a",
   "metadata": {
    "execution": {
     "iopub.execute_input": "2021-09-13T14:14:55.033438Z",
     "iopub.status.busy": "2021-09-13T14:14:55.032945Z",
     "iopub.status.idle": "2021-09-13T14:14:55.035420Z",
     "shell.execute_reply": "2021-09-13T14:14:55.035025Z"
    },
    "papermill": {
     "duration": 0.037415,
     "end_time": "2021-09-13T14:14:55.035518",
     "exception": false,
     "start_time": "2021-09-13T14:14:54.998103",
     "status": "completed"
    },
    "tags": []
   },
   "outputs": [],
   "source": [
    "torch.manual_seed(42)\n",
    "tu_dataset.shuffle()\n",
    "train_dataset = tu_dataset[:150]\n",
    "test_dataset = tu_dataset[150:]"
   ]
  },
  {
   "cell_type": "markdown",
   "id": "ec5f8d6d",
   "metadata": {
    "papermill": {
     "duration": 0.032128,
     "end_time": "2021-09-13T14:14:55.099955",
     "exception": false,
     "start_time": "2021-09-13T14:14:55.067827",
     "status": "completed"
    },
    "tags": []
   },
   "source": [
    "When using a data loader, we encounter a problem with batching $N$ graphs.\n",
    "Each graph in the batch can have a different number of nodes and edges, and hence we would require a lot of padding to obtain a single tensor.\n",
    "Torch geometric uses a different, more efficient approach: we can view the $N$ graphs in a batch as a single large graph with concatenated node and edge list.\n",
    "As there is no edge between the $N$ graphs, running GNN layers on the large graph gives us the same output as running the GNN on each graph separately.\n",
    "Visually, this batching strategy is visualized below (figure credit - PyTorch Geometric team,\n",
    "[tutorial here](https://colab.research.google.com/drive/1I8a0DfQ3fI7Njc62__mVXUlcAleUclnb?usp=sharing#scrollTo=2owRWKcuoALo)).\n",
    "\n",
    "<center width=\"100%\"><img src=\"https://github.com/PyTorchLightning/lightning-tutorials/raw/main/course_UvA-DL/graph-neural-networks/torch_geometric_stacking_graphs.png\" width=\"600px\"></center>\n",
    "\n",
    "The adjacency matrix is zero for any nodes that come from two different graphs, and otherwise according to the adjacency matrix of the individual graph.\n",
    "Luckily, this strategy is already implemented in torch geometric, and hence we can use the corresponding data loader:"
   ]
  },
  {
   "cell_type": "code",
   "execution_count": 22,
   "id": "2e917846",
   "metadata": {
    "execution": {
     "iopub.execute_input": "2021-09-13T14:14:55.168835Z",
     "iopub.status.busy": "2021-09-13T14:14:55.168356Z",
     "iopub.status.idle": "2021-09-13T14:14:55.170394Z",
     "shell.execute_reply": "2021-09-13T14:14:55.169997Z"
    },
    "papermill": {
     "duration": 0.038204,
     "end_time": "2021-09-13T14:14:55.170507",
     "exception": false,
     "start_time": "2021-09-13T14:14:55.132303",
     "status": "completed"
    },
    "tags": []
   },
   "outputs": [],
   "source": [
    "graph_train_loader = geom_data.DataLoader(train_dataset, batch_size=BATCH_SIZE, shuffle=True)\n",
    "graph_val_loader = geom_data.DataLoader(test_dataset, batch_size=BATCH_SIZE)  # Additional loader for a larger datasets\n",
    "graph_test_loader = geom_data.DataLoader(test_dataset, batch_size=BATCH_SIZE)"
   ]
  },
  {
   "cell_type": "markdown",
   "id": "47985934",
   "metadata": {
    "papermill": {
     "duration": 0.032257,
     "end_time": "2021-09-13T14:14:55.234960",
     "exception": false,
     "start_time": "2021-09-13T14:14:55.202703",
     "status": "completed"
    },
    "tags": []
   },
   "source": [
    "Let's load a batch below to see the batching in action:"
   ]
  },
  {
   "cell_type": "code",
   "execution_count": 23,
   "id": "777f859a",
   "metadata": {
    "execution": {
     "iopub.execute_input": "2021-09-13T14:14:55.302582Z",
     "iopub.status.busy": "2021-09-13T14:14:55.302085Z",
     "iopub.status.idle": "2021-09-13T14:14:55.310792Z",
     "shell.execute_reply": "2021-09-13T14:14:55.311167Z"
    },
    "papermill": {
     "duration": 0.044063,
     "end_time": "2021-09-13T14:14:55.311281",
     "exception": false,
     "start_time": "2021-09-13T14:14:55.267218",
     "status": "completed"
    },
    "tags": []
   },
   "outputs": [
    {
     "name": "stdout",
     "output_type": "stream",
     "text": [
      "Batch: Batch(batch=[687], edge_attr=[1512, 4], edge_index=[2, 1512], ptr=[39], x=[687, 7], y=[38])\n",
      "Labels: tensor([1, 1, 1, 0, 0, 0, 1, 1, 1, 0])\n",
      "Batch indices: tensor([0, 0, 0, 0, 0, 0, 0, 0, 0, 0, 0, 0, 1, 1, 1, 1, 1, 1, 1, 1, 1, 1, 1, 1,\n",
      "        1, 1, 1, 1, 1, 1, 1, 1, 1, 1, 2, 2, 2, 2, 2, 2])\n"
     ]
    }
   ],
   "source": [
    "batch = next(iter(graph_test_loader))\n",
    "print(\"Batch:\", batch)\n",
    "print(\"Labels:\", batch.y[:10])\n",
    "print(\"Batch indices:\", batch.batch[:40])"
   ]
  },
  {
   "cell_type": "markdown",
   "id": "186151cb",
   "metadata": {
    "lines_to_next_cell": 2,
    "papermill": {
     "duration": 0.032588,
     "end_time": "2021-09-13T14:14:55.376699",
     "exception": false,
     "start_time": "2021-09-13T14:14:55.344111",
     "status": "completed"
    },
    "tags": []
   },
   "source": [
    "We have 38 graphs stacked together for the test dataset.\n",
    "The batch indices, stored in `batch`, show that the first 12 nodes belong to the first graph,\n",
    "the next 22 to the second graph, and so on.\n",
    "These indices are important for performing the final prediction.\n",
    "To perform a prediction over a whole graph, we usually perform a pooling operation over all nodes after running the GNN model.\n",
    "In this case, we will use the average pooling.\n",
    "Hence, we need to know which nodes should be included in which average pool.\n",
    "Using this pooling, we can already create our graph network below.\n",
    "Specifically, we re-use our class `GNNModel` from before,\n",
    "and simply add an average pool and single linear layer for the graph prediction task."
   ]
  },
  {
   "cell_type": "code",
   "execution_count": 24,
   "id": "01dbf1a0",
   "metadata": {
    "execution": {
     "iopub.execute_input": "2021-09-13T14:14:55.447398Z",
     "iopub.status.busy": "2021-09-13T14:14:55.446881Z",
     "iopub.status.idle": "2021-09-13T14:14:55.448970Z",
     "shell.execute_reply": "2021-09-13T14:14:55.448569Z"
    },
    "lines_to_next_cell": 2,
    "papermill": {
     "duration": 0.039389,
     "end_time": "2021-09-13T14:14:55.449069",
     "exception": false,
     "start_time": "2021-09-13T14:14:55.409680",
     "status": "completed"
    },
    "tags": []
   },
   "outputs": [],
   "source": [
    "class GraphGNNModel(nn.Module):\n",
    "    def __init__(self, c_in, c_hidden, c_out, dp_rate_linear=0.5, **kwargs):\n",
    "        \"\"\"\n",
    "        Args:\n",
    "            c_in: Dimension of input features\n",
    "            c_hidden: Dimension of hidden features\n",
    "            c_out: Dimension of output features (usually number of classes)\n",
    "            dp_rate_linear: Dropout rate before the linear layer (usually much higher than inside the GNN)\n",
    "            kwargs: Additional arguments for the GNNModel object\n",
    "        \"\"\"\n",
    "        super().__init__()\n",
    "        self.GNN = GNNModel(c_in=c_in, c_hidden=c_hidden, c_out=c_hidden, **kwargs)  # Not our prediction output yet!\n",
    "        self.head = nn.Sequential(nn.Dropout(dp_rate_linear), nn.Linear(c_hidden, c_out))\n",
    "\n",
    "    def forward(self, x, edge_index, batch_idx):\n",
    "        \"\"\"\n",
    "        Args:\n",
    "            x: Input features per node\n",
    "            edge_index: List of vertex index pairs representing the edges in the graph (PyTorch geometric notation)\n",
    "            batch_idx: Index of batch element for each node\n",
    "        \"\"\"\n",
    "        x = self.GNN(x, edge_index)\n",
    "        x = geom_nn.global_mean_pool(x, batch_idx)  # Average pooling\n",
    "        x = self.head(x)\n",
    "        return x"
   ]
  },
  {
   "cell_type": "markdown",
   "id": "d8f047a7",
   "metadata": {
    "lines_to_next_cell": 2,
    "papermill": {
     "duration": 0.032866,
     "end_time": "2021-09-13T14:14:55.514756",
     "exception": false,
     "start_time": "2021-09-13T14:14:55.481890",
     "status": "completed"
    },
    "tags": []
   },
   "source": [
    "Finally, we can create a PyTorch Lightning module to handle the training.\n",
    "It is similar to the modules we have seen before and does nothing surprising in terms of training.\n",
    "As we have a binary classification task, we use the Binary Cross Entropy loss."
   ]
  },
  {
   "cell_type": "code",
   "execution_count": 25,
   "id": "1d10d04f",
   "metadata": {
    "execution": {
     "iopub.execute_input": "2021-09-13T14:14:55.588286Z",
     "iopub.status.busy": "2021-09-13T14:14:55.587802Z",
     "iopub.status.idle": "2021-09-13T14:14:55.589905Z",
     "shell.execute_reply": "2021-09-13T14:14:55.589509Z"
    },
    "lines_to_next_cell": 2,
    "papermill": {
     "duration": 0.042401,
     "end_time": "2021-09-13T14:14:55.590003",
     "exception": false,
     "start_time": "2021-09-13T14:14:55.547602",
     "status": "completed"
    },
    "tags": []
   },
   "outputs": [],
   "source": [
    "class GraphLevelGNN(pl.LightningModule):\n",
    "    def __init__(self, **model_kwargs):\n",
    "        super().__init__()\n",
    "        # Saving hyperparameters\n",
    "        self.save_hyperparameters()\n",
    "\n",
    "        self.model = GraphGNNModel(**model_kwargs)\n",
    "        self.loss_module = nn.BCEWithLogitsLoss() if self.hparams.c_out == 1 else nn.CrossEntropyLoss()\n",
    "\n",
    "    def forward(self, data, mode=\"train\"):\n",
    "        x, edge_index, batch_idx = data.x, data.edge_index, data.batch\n",
    "        x = self.model(x, edge_index, batch_idx)\n",
    "        x = x.squeeze(dim=-1)\n",
    "\n",
    "        if self.hparams.c_out == 1:\n",
    "            preds = (x > 0).float()\n",
    "            data.y = data.y.float()\n",
    "        else:\n",
    "            preds = x.argmax(dim=-1)\n",
    "        loss = self.loss_module(x, data.y)\n",
    "        acc = (preds == data.y).sum().float() / preds.shape[0]\n",
    "        return loss, acc\n",
    "\n",
    "    def configure_optimizers(self):\n",
    "        # High lr because of small dataset and small model\n",
    "        optimizer = optim.AdamW(self.parameters(), lr=1e-2, weight_decay=0.0)\n",
    "        return optimizer\n",
    "\n",
    "    def training_step(self, batch, batch_idx):\n",
    "        loss, acc = self.forward(batch, mode=\"train\")\n",
    "        self.log(\"train_loss\", loss)\n",
    "        self.log(\"train_acc\", acc)\n",
    "        return loss\n",
    "\n",
    "    def validation_step(self, batch, batch_idx):\n",
    "        _, acc = self.forward(batch, mode=\"val\")\n",
    "        self.log(\"val_acc\", acc)\n",
    "\n",
    "    def test_step(self, batch, batch_idx):\n",
    "        _, acc = self.forward(batch, mode=\"test\")\n",
    "        self.log(\"test_acc\", acc)"
   ]
  },
  {
   "cell_type": "markdown",
   "id": "d5c5ef29",
   "metadata": {
    "lines_to_next_cell": 2,
    "papermill": {
     "duration": 0.033607,
     "end_time": "2021-09-13T14:14:55.656423",
     "exception": false,
     "start_time": "2021-09-13T14:14:55.622816",
     "status": "completed"
    },
    "tags": []
   },
   "source": [
    "Below we train the model on our dataset. It resembles the typical training functions we have seen so far."
   ]
  },
  {
   "cell_type": "code",
   "execution_count": 26,
   "id": "ac3b5acc",
   "metadata": {
    "execution": {
     "iopub.execute_input": "2021-09-13T14:14:55.729166Z",
     "iopub.status.busy": "2021-09-13T14:14:55.728679Z",
     "iopub.status.idle": "2021-09-13T14:14:55.730747Z",
     "shell.execute_reply": "2021-09-13T14:14:55.730311Z"
    },
    "papermill": {
     "duration": 0.041253,
     "end_time": "2021-09-13T14:14:55.730847",
     "exception": false,
     "start_time": "2021-09-13T14:14:55.689594",
     "status": "completed"
    },
    "tags": []
   },
   "outputs": [],
   "source": [
    "def train_graph_classifier(model_name, **model_kwargs):\n",
    "    pl.seed_everything(42)\n",
    "\n",
    "    # Create a PyTorch Lightning trainer with the generation callback\n",
    "    root_dir = os.path.join(CHECKPOINT_PATH, \"GraphLevel\" + model_name)\n",
    "    os.makedirs(root_dir, exist_ok=True)\n",
    "    trainer = pl.Trainer(\n",
    "        default_root_dir=root_dir,\n",
    "        callbacks=[ModelCheckpoint(save_weights_only=True, mode=\"max\", monitor=\"val_acc\")],\n",
    "        gpus=AVAIL_GPUS,\n",
    "        max_epochs=500,\n",
    "        progress_bar_refresh_rate=0,\n",
    "    )\n",
    "    trainer.logger._default_hp_metric = None\n",
    "\n",
    "    # Check whether pretrained model exists. If yes, load it and skip training\n",
    "    pretrained_filename = os.path.join(CHECKPOINT_PATH, \"GraphLevel%s.ckpt\" % model_name)\n",
    "    if os.path.isfile(pretrained_filename):\n",
    "        print(\"Found pretrained model, loading...\")\n",
    "        model = GraphLevelGNN.load_from_checkpoint(pretrained_filename)\n",
    "    else:\n",
    "        pl.seed_everything(42)\n",
    "        model = GraphLevelGNN(\n",
    "            c_in=tu_dataset.num_node_features,\n",
    "            c_out=1 if tu_dataset.num_classes == 2 else tu_dataset.num_classes,\n",
    "            **model_kwargs,\n",
    "        )\n",
    "        trainer.fit(model, graph_train_loader, graph_val_loader)\n",
    "        model = GraphLevelGNN.load_from_checkpoint(trainer.checkpoint_callback.best_model_path)\n",
    "\n",
    "    # Test best model on validation and test set\n",
    "    train_result = trainer.test(model, test_dataloaders=graph_train_loader, verbose=False)\n",
    "    test_result = trainer.test(model, test_dataloaders=graph_test_loader, verbose=False)\n",
    "    result = {\"test\": test_result[0][\"test_acc\"], \"train\": train_result[0][\"test_acc\"]}\n",
    "    return model, result"
   ]
  },
  {
   "cell_type": "markdown",
   "id": "c1e9e59a",
   "metadata": {
    "papermill": {
     "duration": 0.033232,
     "end_time": "2021-09-13T14:14:55.797008",
     "exception": false,
     "start_time": "2021-09-13T14:14:55.763776",
     "status": "completed"
    },
    "tags": []
   },
   "source": [
    "Finally, let's perform the training and testing.\n",
    "Feel free to experiment with different GNN layers, hyperparameters, etc."
   ]
  },
  {
   "cell_type": "code",
   "execution_count": 27,
   "id": "afec2e10",
   "metadata": {
    "execution": {
     "iopub.execute_input": "2021-09-13T14:14:55.866540Z",
     "iopub.status.busy": "2021-09-13T14:14:55.866043Z",
     "iopub.status.idle": "2021-09-13T14:14:55.916948Z",
     "shell.execute_reply": "2021-09-13T14:14:55.916474Z"
    },
    "papermill": {
     "duration": 0.087004,
     "end_time": "2021-09-13T14:14:55.917055",
     "exception": false,
     "start_time": "2021-09-13T14:14:55.830051",
     "status": "completed"
    },
    "tags": []
   },
   "outputs": [
    {
     "name": "stderr",
     "output_type": "stream",
     "text": [
      "Global seed set to 42\n"
     ]
    },
    {
     "name": "stderr",
     "output_type": "stream",
     "text": [
      "GPU available: True, used: True\n"
     ]
    },
    {
     "name": "stderr",
     "output_type": "stream",
     "text": [
      "TPU available: False, using: 0 TPU cores\n"
     ]
    },
    {
     "name": "stderr",
     "output_type": "stream",
     "text": [
      "IPU available: False, using: 0 IPUs\n"
     ]
    },
    {
     "name": "stderr",
     "output_type": "stream",
     "text": [
      "LOCAL_RANK: 0 - CUDA_VISIBLE_DEVICES: [0,1]\n"
     ]
    },
    {
     "name": "stderr",
     "output_type": "stream",
     "text": [
      "Missing logger folder: saved_models/GNNs/GraphLevelGraphConv/lightning_logs\n"
     ]
    },
    {
     "name": "stderr",
     "output_type": "stream",
     "text": [
      "/home/AzDevOps_azpcontainer/.local/lib/python3.9/site-packages/pytorch_lightning/trainer/data_loading.py:372: UserWarning: Your test_dataloader has `shuffle=True`, it is best practice to turn this off for val/test/predict dataloaders.\n",
      "  rank_zero_warn(\n",
      "LOCAL_RANK: 0 - CUDA_VISIBLE_DEVICES: [0,1]\n"
     ]
    },
    {
     "name": "stdout",
     "output_type": "stream",
     "text": [
      "Found pretrained model, loading...\n"
     ]
    }
   ],
   "source": [
    "model, result = train_graph_classifier(\n",
    "    model_name=\"GraphConv\", c_hidden=256, layer_name=\"GraphConv\", num_layers=3, dp_rate_linear=0.5, dp_rate=0.0\n",
    ")"
   ]
  },
  {
   "cell_type": "code",
   "execution_count": 28,
   "id": "a8a5a4fa",
   "metadata": {
    "execution": {
     "iopub.execute_input": "2021-09-13T14:14:55.989998Z",
     "iopub.status.busy": "2021-09-13T14:14:55.989525Z",
     "iopub.status.idle": "2021-09-13T14:14:55.992077Z",
     "shell.execute_reply": "2021-09-13T14:14:55.991608Z"
    },
    "papermill": {
     "duration": 0.040006,
     "end_time": "2021-09-13T14:14:55.992177",
     "exception": false,
     "start_time": "2021-09-13T14:14:55.952171",
     "status": "completed"
    },
    "tags": []
   },
   "outputs": [
    {
     "name": "stdout",
     "output_type": "stream",
     "text": [
      "Train performance: 92.67%\n",
      "Test performance:  92.11%\n"
     ]
    }
   ],
   "source": [
    "print(\"Train performance: %4.2f%%\" % (100.0 * result[\"train\"]))\n",
    "print(\"Test performance:  %4.2f%%\" % (100.0 * result[\"test\"]))"
   ]
  },
  {
   "cell_type": "markdown",
   "id": "f1cbab65",
   "metadata": {
    "papermill": {
     "duration": 0.035042,
     "end_time": "2021-09-13T14:14:56.062118",
     "exception": false,
     "start_time": "2021-09-13T14:14:56.027076",
     "status": "completed"
    },
    "tags": []
   },
   "source": [
    "The test performance shows that we obtain quite good scores on an unseen part of the dataset.\n",
    "It should be noted that as we have been using the test set for validation as well, we might have overfitted slightly to this set.\n",
    "Nevertheless, the experiment shows us that GNNs can be indeed powerful to predict the properties of graphs and/or molecules."
   ]
  },
  {
   "cell_type": "markdown",
   "id": "0c1ea592",
   "metadata": {
    "papermill": {
     "duration": 0.03526,
     "end_time": "2021-09-13T14:14:56.132719",
     "exception": false,
     "start_time": "2021-09-13T14:14:56.097459",
     "status": "completed"
    },
    "tags": []
   },
   "source": [
    "## Conclusion\n",
    "\n",
    "In this tutorial, we have seen the application of neural networks to graph structures.\n",
    "We looked at how a graph can be represented (adjacency matrix or edge list),\n",
    "and discussed the implementation of common graph layers: GCN and GAT.\n",
    "The implementations showed the practical side of the layers, which is often easier than the theory.\n",
    "Finally, we experimented with different tasks, on node-, edge- and graph-level.\n",
    "Overall, we have seen that including graph information in the predictions can be crucial for achieving high performance.\n",
    "There are a lot of applications that benefit from GNNs,\n",
    "and the importance of these networks will likely increase over the next years."
   ]
  },
  {
   "cell_type": "markdown",
   "id": "f975b8d9",
   "metadata": {
    "papermill": {
     "duration": 0.034787,
     "end_time": "2021-09-13T14:14:56.202997",
     "exception": false,
     "start_time": "2021-09-13T14:14:56.168210",
     "status": "completed"
    },
    "tags": []
   },
   "source": [
    "## Congratulations - Time to Join the Community!\n",
    "\n",
    "Congratulations on completing this notebook tutorial! If you enjoyed this and would like to join the Lightning\n",
    "movement, you can do so in the following ways!\n",
    "\n",
    "### Star [Lightning](https://github.com/PyTorchLightning/pytorch-lightning) on GitHub\n",
    "The easiest way to help our community is just by starring the GitHub repos! This helps raise awareness of the cool\n",
    "tools we're building.\n",
    "\n",
    "### Join our [Slack](https://join.slack.com/t/pytorch-lightning/shared_invite/zt-pw5v393p-qRaDgEk24~EjiZNBpSQFgQ)!\n",
    "The best way to keep up to date on the latest advancements is to join our community! Make sure to introduce yourself\n",
    "and share your interests in `#general` channel\n",
    "\n",
    "\n",
    "### Contributions !\n",
    "The best way to contribute to our community is to become a code contributor! At any time you can go to\n",
    "[Lightning](https://github.com/PyTorchLightning/pytorch-lightning) or [Bolt](https://github.com/PyTorchLightning/lightning-bolts)\n",
    "GitHub Issues page and filter for \"good first issue\".\n",
    "\n",
    "* [Lightning good first issue](https://github.com/PyTorchLightning/pytorch-lightning/issues?q=is%3Aopen+is%3Aissue+label%3A%22good+first+issue%22)\n",
    "* [Bolt good first issue](https://github.com/PyTorchLightning/lightning-bolts/issues?q=is%3Aopen+is%3Aissue+label%3A%22good+first+issue%22)\n",
    "* You can also contribute your own notebooks with useful examples !\n",
    "\n",
    "### Great thanks from the entire Pytorch Lightning Team for your interest !\n",
    "\n",
    "![Pytorch Lightning](data:image/png;base64,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){height=\"60px\" width=\"240px\"}"
   ]
  }
 ],
 "metadata": {
  "jupytext": {
   "cell_metadata_filter": "colab_type,colab,id,-all",
   "formats": "ipynb,py:percent",
   "main_language": "python"
  },
  "language_info": {
   "codemirror_mode": {
    "name": "ipython",
    "version": 3
   },
   "file_extension": ".py",
   "mimetype": "text/x-python",
   "name": "python",
   "nbconvert_exporter": "python",
   "pygments_lexer": "ipython3",
   "version": "3.9.7"
  },
  "papermill": {
   "default_parameters": {},
   "duration": 13.524402,
   "end_time": "2021-09-13T14:14:56.844390",
   "environment_variables": {},
   "exception": null,
   "input_path": "course_UvA-DL/graph-neural-networks/GNN_overview.ipynb",
   "output_path": ".notebooks/course_UvA-DL/graph-neural-networks.ipynb",
   "parameters": {},
   "start_time": "2021-09-13T14:14:43.319988",
   "version": "2.3.3"
  }
 },
 "nbformat": 4,
 "nbformat_minor": 5
}