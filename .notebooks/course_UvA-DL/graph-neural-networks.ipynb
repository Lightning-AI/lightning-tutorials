{
 "cells": [
  {
   "cell_type": "markdown",
   "id": "70233a0a",
   "metadata": {
    "papermill": {
     "duration": 0.02668,
     "end_time": "2021-08-03T21:09:51.273853",
     "exception": false,
     "start_time": "2021-08-03T21:09:51.247173",
     "status": "completed"
    },
    "tags": []
   },
   "source": [
    "\n",
    "# Basics of Graph Neural Networks\n",
    "\n",
    "* **Author:** Phillip Lippe\n",
    "* **License:** CC BY-SA\n",
    "* **Generated:** 2021-08-03T23:06:45.405230\n",
    "\n",
    "In this tutorial, we will discuss the application of neural networks on graphs.\n",
    "Graph Neural Networks (GNNs) have recently gained increasing popularity in both applications and research,\n",
    "including domains such as social networks, knowledge graphs, recommender systems, and bioinformatics.\n",
    "While the theory and math behind GNNs might first seem complicated,\n",
    "the implementation of those models is quite simple and helps in understanding the methodology.\n",
    "Therefore, we will discuss the implementation of basic network layers of a GNN,\n",
    "namely graph convolutions, and attention layers.\n",
    "Finally, we will apply a GNN on semi-supervised node classification and molecule categorization.\n",
    "This notebook is part of a lecture series on Deep Learning at the University of Amsterdam.\n",
    "The full list of tutorials can be found at https://uvadlc-notebooks.rtfd.io.\n",
    "\n",
    "\n",
    "---\n",
    "Open in [![Open In Colab](data:image/png;base64,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){height=\"20px\" width=\"117px\"}](https://colab.research.google.com/github/PytorchLightning/lightning-tutorials/blob/publication/.notebooks/course_UvA-DL/graph-neural-networks.ipynb)\n",
    "\n",
    "Give us a ⭐ [on Github](https://www.github.com/PytorchLightning/pytorch-lightning/)\n",
    "| Check out [the documentation](https://pytorch-lightning.readthedocs.io/en/latest/)\n",
    "| Join us [on Slack](https://join.slack.com/t/pytorch-lightning/shared_invite/zt-pw5v393p-qRaDgEk24~EjiZNBpSQFgQ)"
   ]
  },
  {
   "cell_type": "markdown",
   "id": "d0c422d4",
   "metadata": {
    "papermill": {
     "duration": 0.024444,
     "end_time": "2021-08-03T21:09:51.322854",
     "exception": false,
     "start_time": "2021-08-03T21:09:51.298410",
     "status": "completed"
    },
    "tags": []
   },
   "source": [
    "### Setup\n",
    "This notebook requires some packages besides pytorch-lightning."
   ]
  },
  {
   "cell_type": "code",
   "execution_count": 1,
   "id": "63fd1ffd",
   "metadata": {
    "colab": {},
    "colab_type": "code",
    "execution": {
     "iopub.execute_input": "2021-08-03T21:09:51.380293Z",
     "iopub.status.busy": "2021-08-03T21:09:51.379821Z",
     "iopub.status.idle": "2021-08-03T21:09:53.790868Z",
     "shell.execute_reply": "2021-08-03T21:09:53.791267Z"
    },
    "id": "LfrJLKPFyhsK",
    "papermill": {
     "duration": 2.444306,
     "end_time": "2021-08-03T21:09:53.791522",
     "exception": false,
     "start_time": "2021-08-03T21:09:51.347216",
     "status": "completed"
    },
    "tags": []
   },
   "outputs": [],
   "source": [
    "! pip install --quiet \"torch-scatter\" \"torch-cluster\" \"torch>=1.6, <1.9\" \"torch-spline-conv\" \"torchmetrics>=0.3\" \"torch-geometric\" \"pytorch-lightning>=1.3\" \"torch-sparse\"\n",
    "# ---\n",
    "# jupyter:\n",
    "#   jupytext:\n",
    "#     formats: ipynb,py:percent\n",
    "#     text_representation:\n",
    "#       extension: .py\n",
    "#       format_name: percent\n",
    "#       format_version: '1.3'\n",
    "#       jupytext_version: 1.11.2\n",
    "#   kernelspec:\n",
    "#     display_name: Python 3\n",
    "#     language: python\n",
    "#     name: python3\n",
    "# ---"
   ]
  },
  {
   "cell_type": "markdown",
   "id": "1956565a",
   "metadata": {
    "papermill": {
     "duration": 0.024459,
     "end_time": "2021-08-03T21:09:53.841439",
     "exception": false,
     "start_time": "2021-08-03T21:09:53.816980",
     "status": "completed"
    },
    "tags": []
   },
   "source": [
    "We start by importing our standard libraries below."
   ]
  },
  {
   "cell_type": "code",
   "execution_count": 2,
   "id": "4409d7d0",
   "metadata": {
    "execution": {
     "iopub.execute_input": "2021-08-03T21:09:53.896213Z",
     "iopub.status.busy": "2021-08-03T21:09:53.895736Z",
     "iopub.status.idle": "2021-08-03T21:09:55.841284Z",
     "shell.execute_reply": "2021-08-03T21:09:55.840798Z"
    },
    "papermill": {
     "duration": 1.975678,
     "end_time": "2021-08-03T21:09:55.841399",
     "exception": false,
     "start_time": "2021-08-03T21:09:53.865721",
     "status": "completed"
    },
    "tags": []
   },
   "outputs": [
    {
     "name": "stderr",
     "output_type": "stream",
     "text": [
      "Global seed set to 42\n"
     ]
    }
   ],
   "source": [
    "# Standard libraries\n",
    "import os\n",
    "# For downloading pre-trained models\n",
    "import urllib.request\n",
    "from urllib.error import HTTPError\n",
    "\n",
    "# PyTorch Lightning\n",
    "import pytorch_lightning as pl\n",
    "# PyTorch\n",
    "import torch\n",
    "import torch.nn as nn\n",
    "import torch.nn.functional as F\n",
    "import torch.optim as optim\n",
    "# PyTorch geometric\n",
    "import torch_geometric\n",
    "import torch_geometric.data as geom_data\n",
    "import torch_geometric.nn as geom_nn\n",
    "# PL callbacks\n",
    "from pytorch_lightning.callbacks import ModelCheckpoint\n",
    "\n",
    "AVAIL_GPUS = min(1, torch.cuda.device_count())\n",
    "BATCH_SIZE = 256 if AVAIL_GPUS else 64\n",
    "# Path to the folder where the datasets are/should be downloaded\n",
    "DATASET_PATH = os.environ.get('PATH_DATASETS', \"data/\")\n",
    "# Path to the folder where the pretrained models are saved\n",
    "CHECKPOINT_PATH = os.environ.get('PATH_CHECKPOINT', \"saved_models/GNNs/\")\n",
    "\n",
    "# Setting the seed\n",
    "pl.seed_everything(42)\n",
    "\n",
    "# Ensure that all operations are deterministic on GPU (if used) for reproducibility\n",
    "torch.backends.cudnn.determinstic = True\n",
    "torch.backends.cudnn.benchmark = False"
   ]
  },
  {
   "cell_type": "markdown",
   "id": "3328005a",
   "metadata": {
    "papermill": {
     "duration": 0.025334,
     "end_time": "2021-08-03T21:09:55.894152",
     "exception": false,
     "start_time": "2021-08-03T21:09:55.868818",
     "status": "completed"
    },
    "tags": []
   },
   "source": [
    "We also have a few pre-trained models we download below."
   ]
  },
  {
   "cell_type": "code",
   "execution_count": 3,
   "id": "07881f97",
   "metadata": {
    "execution": {
     "iopub.execute_input": "2021-08-03T21:09:55.950122Z",
     "iopub.status.busy": "2021-08-03T21:09:55.948723Z",
     "iopub.status.idle": "2021-08-03T21:09:56.262229Z",
     "shell.execute_reply": "2021-08-03T21:09:56.261736Z"
    },
    "papermill": {
     "duration": 0.343359,
     "end_time": "2021-08-03T21:09:56.262348",
     "exception": false,
     "start_time": "2021-08-03T21:09:55.918989",
     "status": "completed"
    },
    "tags": []
   },
   "outputs": [
    {
     "name": "stdout",
     "output_type": "stream",
     "text": [
      "Downloading https://raw.githubusercontent.com/phlippe/saved_models/main/tutorial7/NodeLevelMLP.ckpt...\n",
      "Downloading https://raw.githubusercontent.com/phlippe/saved_models/main/tutorial7/NodeLevelGNN.ckpt...\n",
      "Downloading https://raw.githubusercontent.com/phlippe/saved_models/main/tutorial7/GraphLevelGraphConv.ckpt...\n"
     ]
    }
   ],
   "source": [
    "# Github URL where saved models are stored for this tutorial\n",
    "base_url = \"https://raw.githubusercontent.com/phlippe/saved_models/main/tutorial7/\"\n",
    "# Files to download\n",
    "pretrained_files = [\"NodeLevelMLP.ckpt\", \"NodeLevelGNN.ckpt\", \"GraphLevelGraphConv.ckpt\"]\n",
    "\n",
    "# Create checkpoint path if it doesn't exist yet\n",
    "os.makedirs(CHECKPOINT_PATH, exist_ok=True)\n",
    "\n",
    "# For each file, check whether it already exists. If not, try downloading it.\n",
    "for file_name in pretrained_files:\n",
    "    file_path = os.path.join(CHECKPOINT_PATH, file_name)\n",
    "    if \"/\" in file_name:\n",
    "        os.makedirs(file_path.rsplit(\"/\", 1)[0], exist_ok=True)\n",
    "    if not os.path.isfile(file_path):\n",
    "        file_url = base_url + file_name\n",
    "        print(\"Downloading %s...\" % file_url)\n",
    "        try:\n",
    "            urllib.request.urlretrieve(file_url, file_path)\n",
    "        except HTTPError as e:\n",
    "            print(\n",
    "                \"Something went wrong. Please try to download the file from the GDrive folder,\"\n",
    "                \" or contact the author with the full output including the following error:\\n\", e\n",
    "            )"
   ]
  },
  {
   "cell_type": "markdown",
   "id": "a293a5b4",
   "metadata": {
    "papermill": {
     "duration": 0.024964,
     "end_time": "2021-08-03T21:09:56.312900",
     "exception": false,
     "start_time": "2021-08-03T21:09:56.287936",
     "status": "completed"
    },
    "tags": []
   },
   "source": [
    "## Graph Neural Networks"
   ]
  },
  {
   "cell_type": "markdown",
   "id": "0648f956",
   "metadata": {
    "papermill": {
     "duration": 0.024873,
     "end_time": "2021-08-03T21:09:56.363240",
     "exception": false,
     "start_time": "2021-08-03T21:09:56.338367",
     "status": "completed"
    },
    "tags": []
   },
   "source": [
    "### Graph representation\n",
    "\n",
    "Before starting the discussion of specific neural network operations on graphs, we should consider how to represent a graph.\n",
    "Mathematically, a graph $\\mathcal{G}$ is defined as a tuple of a set of nodes/vertices $V$, and a set of edges/links $E$: $\\mathcal{G}=(V,E)$.\n",
    "Each edge is a pair of two vertices, and represents a connection between them.\n",
    "For instance, let's look at the following graph:\n",
    "\n",
    "<center width=\"100%\" style=\"padding:10px\"><img src=\"https://github.com/PyTorchLightning/lightning-tutorials/raw/main/course_UvA-DL/graph-neural-networks/example_graph.svg\" width=\"250px\"></center>\n",
    "\n",
    "The vertices are $V=\\{1,2,3,4\\}$, and edges $E=\\{(1,2), (2,3), (2,4), (3,4)\\}$.\n",
    "Note that for simplicity, we assume the graph to be undirected and hence don't add mirrored pairs like $(2,1)$.\n",
    "In application, vertices and edge can often have specific attributes, and edges can even be directed.\n",
    "The question is how we could represent this diversity in an efficient way for matrix operations.\n",
    "Usually, for the edges, we decide between two variants: an adjacency matrix, or a list of paired vertex indices.\n",
    "\n",
    "The **adjacency matrix** $A$ is a square matrix whose elements indicate whether pairs of vertices are adjacent,\n",
    "i.e. connected, or not.\n",
    "In the simplest case, $A_{ij}$ is 1 if there is a connection from node $i$ to $j$, and otherwise 0.\n",
    "If we have edge attributes or different categories of edges in a graph, this information can be added to the matrix as well.\n",
    "For an undirected graph, keep in mind that $A$ is a symmetric matrix ($A_{ij}=A_{ji}$).\n",
    "For the example graph above, we have the following adjacency matrix:\n",
    "\n",
    "$$\n",
    "A = \\begin{bmatrix}\n",
    "    0 & 1 & 0 & 0\\\\\n",
    "    1 & 0 & 1 & 1\\\\\n",
    "    0 & 1 & 0 & 1\\\\\n",
    "    0 & 1 & 1 & 0\n",
    "\\end{bmatrix}\n",
    "$$\n",
    "\n",
    "While expressing a graph as a list of edges is more efficient in terms of memory and (possibly) computation,\n",
    "using an adjacency matrix is more intuitive and simpler to implement.\n",
    "In our implementations below, we will rely on the adjacency matrix to keep the code simple.\n",
    "However, common libraries use edge lists, which we will discuss later more.\n",
    "Alternatively, we could also use the list of edges to define a sparse adjacency matrix with which we can work\n",
    "as if it was a dense matrix, but allows more memory-efficient operations.\n",
    "PyTorch supports this with the sub-package `torch.sparse`\n",
    "([documentation](https://pytorch.org/docs/stable/sparse.html)) which is however still in a beta-stage\n",
    "(API might change in future)."
   ]
  },
  {
   "cell_type": "markdown",
   "id": "d30efb4a",
   "metadata": {
    "lines_to_next_cell": 2,
    "papermill": {
     "duration": 0.02514,
     "end_time": "2021-08-03T21:09:56.413544",
     "exception": false,
     "start_time": "2021-08-03T21:09:56.388404",
     "status": "completed"
    },
    "tags": []
   },
   "source": [
    "### Graph Convolutions\n",
    "\n",
    "Graph Convolutional Networks have been introduced by [Kipf et al. ](https://openreview.net/pdf?id=SJU4ayYgl)\n",
    "in 2016 at the University of Amsterdam.\n",
    "He also wrote a great [blog post](https://tkipf.github.io/graph-convolutional-networks/) about this topic,\n",
    "which is recommended if you want to read about GCNs from a different perspective.\n",
    "GCNs are similar to convolutions in images in the sense that the \"filter\" parameters are typically shared over all locations in the graph.\n",
    "At the same time, GCNs rely on message passing methods, which means that vertices exchange information with the neighbors,\n",
    "and send \"messages\" to each other.\n",
    "Before looking at the math, we can try to visually understand how GCNs work.\n",
    "The first step is that each node creates a feature vector that represents the message it wants to send to all its neighbors.\n",
    "In the second step, the messages are sent to the neighbors, so that a node receives one message per adjacent node.\n",
    "Below we have visualized the two steps for our example graph.\n",
    "\n",
    "<center width=\"100%\" style=\"padding:10px\"><img src=\"https://github.com/PyTorchLightning/lightning-tutorials/raw/main/course_UvA-DL/graph-neural-networks/graph_message_passing.svg\" width=\"700px\"></center>\n",
    "\n",
    "If we want to formulate that in more mathematical terms, we need to first decide how to combine\n",
    "all the messages a node receives.\n",
    "As the number of messages vary across nodes, we need an operation that works for any number.\n",
    "Hence, the usual way to go is to sum or take the mean.\n",
    "Given the previous features of nodes $H^{(l)}$, the GCN layer is defined as follows:\n",
    "\n",
    "$$H^{(l+1)} = \\sigma\\left(\\hat{D}^{-1/2}\\hat{A}\\hat{D}^{-1/2}H^{(l)}W^{(l)}\\right)$$\n",
    "\n",
    "$W^{(l)}$ is the weight parameters with which we transform the input features into messages ($H^{(l)}W^{(l)}$).\n",
    "To the adjacency matrix $A$ we add the identity matrix so that each node sends its own message also to itself:\n",
    "$\\hat{A}=A+I$.\n",
    "Finally, to take the average instead of summing, we calculate the matrix $\\hat{D}$ which is a diagonal\n",
    "matrix with $D_{ii}$ denoting the number of neighbors node $i$ has.\n",
    "$\\sigma$ represents an arbitrary activation function, and not necessarily the sigmoid (usually a ReLU-based\n",
    "activation function is used in GNNs).\n",
    "\n",
    "When implementing the GCN layer in PyTorch, we can take advantage of the flexible operations on tensors.\n",
    "Instead of defining a matrix $\\hat{D}$, we can simply divide the summed messages by the number of neighbors afterward.\n",
    "Additionally, we replace the weight matrix with a linear layer, which additionally allows us to add a bias.\n",
    "Written as a PyTorch module, the GCN layer is defined as follows:"
   ]
  },
  {
   "cell_type": "code",
   "execution_count": 4,
   "id": "5d6b7bb9",
   "metadata": {
    "execution": {
     "iopub.execute_input": "2021-08-03T21:09:56.468471Z",
     "iopub.status.busy": "2021-08-03T21:09:56.467998Z",
     "iopub.status.idle": "2021-08-03T21:09:56.470166Z",
     "shell.execute_reply": "2021-08-03T21:09:56.469772Z"
    },
    "papermill": {
     "duration": 0.0316,
     "end_time": "2021-08-03T21:09:56.470267",
     "exception": false,
     "start_time": "2021-08-03T21:09:56.438667",
     "status": "completed"
    },
    "tags": []
   },
   "outputs": [],
   "source": [
    "class GCNLayer(nn.Module):\n",
    "\n",
    "    def __init__(self, c_in, c_out):\n",
    "        super().__init__()\n",
    "        self.projection = nn.Linear(c_in, c_out)\n",
    "\n",
    "    def forward(self, node_feats, adj_matrix):\n",
    "        \"\"\"\n",
    "        Args:\n",
    "            node_feats: Tensor with node features of shape [batch_size, num_nodes, c_in]\n",
    "            adj_matrix: Batch of adjacency matrices of the graph. If there is an edge from i to j,\n",
    "                         adj_matrix[b,i,j]=1 else 0. Supports directed edges by non-symmetric matrices.\n",
    "                         Assumes to already have added the identity connections.\n",
    "                         Shape: [batch_size, num_nodes, num_nodes]\n",
    "        \"\"\"\n",
    "        # Num neighbours = number of incoming edges\n",
    "        num_neighbours = adj_matrix.sum(dim=-1, keepdims=True)\n",
    "        node_feats = self.projection(node_feats)\n",
    "        node_feats = torch.bmm(adj_matrix, node_feats)\n",
    "        node_feats = node_feats / num_neighbours\n",
    "        return node_feats"
   ]
  },
  {
   "cell_type": "markdown",
   "id": "1cc24d32",
   "metadata": {
    "papermill": {
     "duration": 0.026167,
     "end_time": "2021-08-03T21:09:56.521559",
     "exception": false,
     "start_time": "2021-08-03T21:09:56.495392",
     "status": "completed"
    },
    "tags": []
   },
   "source": [
    "To further understand the GCN layer, we can apply it to our example graph above.\n",
    "First, let's specify some node features and the adjacency matrix with added self-connections:"
   ]
  },
  {
   "cell_type": "code",
   "execution_count": 5,
   "id": "927f29f3",
   "metadata": {
    "execution": {
     "iopub.execute_input": "2021-08-03T21:09:56.575775Z",
     "iopub.status.busy": "2021-08-03T21:09:56.575278Z",
     "iopub.status.idle": "2021-08-03T21:09:56.580310Z",
     "shell.execute_reply": "2021-08-03T21:09:56.579909Z"
    },
    "papermill": {
     "duration": 0.033707,
     "end_time": "2021-08-03T21:09:56.580410",
     "exception": false,
     "start_time": "2021-08-03T21:09:56.546703",
     "status": "completed"
    },
    "tags": []
   },
   "outputs": [
    {
     "name": "stdout",
     "output_type": "stream",
     "text": [
      "Node features:\n",
      " tensor([[[0., 1.],\n",
      "         [2., 3.],\n",
      "         [4., 5.],\n",
      "         [6., 7.]]])\n",
      "\n",
      "Adjacency matrix:\n",
      " tensor([[[1., 1., 0., 0.],\n",
      "         [1., 1., 1., 1.],\n",
      "         [0., 1., 1., 1.],\n",
      "         [0., 1., 1., 1.]]])\n"
     ]
    }
   ],
   "source": [
    "node_feats = torch.arange(8, dtype=torch.float32).view(1, 4, 2)\n",
    "adj_matrix = torch.Tensor([[[1, 1, 0, 0], [1, 1, 1, 1], [0, 1, 1, 1], [0, 1, 1, 1]]])\n",
    "\n",
    "print(\"Node features:\\n\", node_feats)\n",
    "print(\"\\nAdjacency matrix:\\n\", adj_matrix)"
   ]
  },
  {
   "cell_type": "markdown",
   "id": "f5aee2c1",
   "metadata": {
    "papermill": {
     "duration": 0.025228,
     "end_time": "2021-08-03T21:09:56.631216",
     "exception": false,
     "start_time": "2021-08-03T21:09:56.605988",
     "status": "completed"
    },
    "tags": []
   },
   "source": [
    "Next, let's apply a GCN layer to it.\n",
    "For simplicity, we initialize the linear weight matrix as an identity matrix so that the input features are equal to the messages.\n",
    "This makes it easier for us to verify the message passing operation."
   ]
  },
  {
   "cell_type": "code",
   "execution_count": 6,
   "id": "5f98c756",
   "metadata": {
    "execution": {
     "iopub.execute_input": "2021-08-03T21:09:56.686787Z",
     "iopub.status.busy": "2021-08-03T21:09:56.686323Z",
     "iopub.status.idle": "2021-08-03T21:09:56.691505Z",
     "shell.execute_reply": "2021-08-03T21:09:56.691088Z"
    },
    "papermill": {
     "duration": 0.035091,
     "end_time": "2021-08-03T21:09:56.691605",
     "exception": false,
     "start_time": "2021-08-03T21:09:56.656514",
     "status": "completed"
    },
    "tags": []
   },
   "outputs": [
    {
     "name": "stdout",
     "output_type": "stream",
     "text": [
      "Adjacency matrix tensor([[[1., 1., 0., 0.],\n",
      "         [1., 1., 1., 1.],\n",
      "         [0., 1., 1., 1.],\n",
      "         [0., 1., 1., 1.]]])\n",
      "Input features tensor([[[0., 1.],\n",
      "         [2., 3.],\n",
      "         [4., 5.],\n",
      "         [6., 7.]]])\n",
      "Output features tensor([[[1., 2.],\n",
      "         [3., 4.],\n",
      "         [4., 5.],\n",
      "         [4., 5.]]])\n"
     ]
    }
   ],
   "source": [
    "layer = GCNLayer(c_in=2, c_out=2)\n",
    "layer.projection.weight.data = torch.Tensor([[1., 0.], [0., 1.]])\n",
    "layer.projection.bias.data = torch.Tensor([0., 0.])\n",
    "\n",
    "with torch.no_grad():\n",
    "    out_feats = layer(node_feats, adj_matrix)\n",
    "\n",
    "print(\"Adjacency matrix\", adj_matrix)\n",
    "print(\"Input features\", node_feats)\n",
    "print(\"Output features\", out_feats)"
   ]
  },
  {
   "cell_type": "markdown",
   "id": "f289c18c",
   "metadata": {
    "papermill": {
     "duration": 0.026079,
     "end_time": "2021-08-03T21:09:56.744187",
     "exception": false,
     "start_time": "2021-08-03T21:09:56.718108",
     "status": "completed"
    },
    "tags": []
   },
   "source": [
    "As we can see, the first node's output values are the average of itself and the second node.\n",
    "Similarly, we can verify all other nodes.\n",
    "However, in a GNN, we would also want to allow feature exchange between nodes beyond its neighbors.\n",
    "This can be achieved by applying multiple GCN layers, which gives us the final layout of a GNN.\n",
    "The GNN can be build up by a sequence of GCN layers and non-linearities such as ReLU.\n",
    "For a visualization, see below (figure credit - [Thomas Kipf, 2016](https://tkipf.github.io/graph-convolutional-networks/)).\n",
    "\n",
    "<center width=\"100%\" style=\"padding: 10px\"><img src=\"https://github.com/PyTorchLightning/lightning-tutorials/raw/main/course_UvA-DL/graph-neural-networks/gcn_network.png\" width=\"600px\"></center>\n",
    "\n",
    "However, one issue we can see from looking at the example above is that the output features for nodes 3 and 4 are\n",
    "the same because they have the same adjacent nodes (including itself).\n",
    "Therefore, GCN layers can make the network forget node-specific information if we just take a mean over all messages.\n",
    "Multiple possible improvements have been proposed.\n",
    "While the simplest option might be using residual connections, the more common approach is to either weigh\n",
    "the self-connections higher or define a separate weight matrix for the self-connections.\n",
    "Alternatively, we can use a  well-known concept: attention."
   ]
  },
  {
   "cell_type": "markdown",
   "id": "9e565dfa",
   "metadata": {
    "lines_to_next_cell": 2,
    "papermill": {
     "duration": 0.025731,
     "end_time": "2021-08-03T21:09:56.795482",
     "exception": false,
     "start_time": "2021-08-03T21:09:56.769751",
     "status": "completed"
    },
    "tags": []
   },
   "source": [
    "### Graph Attention\n",
    "\n",
    "Attention describes a weighted average of multiple elements with the weights dynamically computed based on an input\n",
    "query and elements' keys (if you don't know what attention is, it is recommended to at least go through\n",
    "the very first section called [What is Attention?](https://uvadlc-notebooks.readthedocs.io/en/latest/tutorial_notebooks/tutorial6/Transformers_and_MHAttention.html#What-is-Attention?)).\n",
    "This concept can be similarly applied to graphs, one of such is the Graph Attention Network\n",
    "(called GAT, proposed by [Velickovic et al., 2017](https://arxiv.org/abs/1710.10903)).\n",
    "Similarly to the GCN, the graph attention layer creates a message for each node using a linear layer/weight matrix.\n",
    "For the attention part, it uses the message from the node itself as a query, and the messages to average as both\n",
    "keys and values (note that this also includes the message to itself).\n",
    "The score function $f_{attn}$ is implemented as a one-layer MLP which maps the query and key to a single value.\n",
    "The MLP looks as follows (figure credit - [Velickovic et al. ](https://arxiv.org/abs/1710.10903)):\n",
    "\n",
    "<center width=\"100%\" style=\"padding:10px\"><img src=\"https://github.com/PyTorchLightning/lightning-tutorials/raw/main/course_UvA-DL/graph-neural-networks/graph_attention_MLP.svg\" width=\"250px\"></center>\n",
    "\n",
    "$h_i$ and $h_j$ are the original features from node $i$ and $j$ respectively, and represent the messages\n",
    "of the layer with $\\mathbf{W}$ as weight matrix.\n",
    "$\\mathbf{a}$ is the weight matrix of the MLP, which has the shape $[1,2\\times d_{\\text{message}}]$,\n",
    "and $\\alpha_{ij}$ the final attention weight from node $i$ to $j$.\n",
    "The calculation can be described as follows:\n",
    "\n",
    "$$\\alpha_{ij} = \\frac{\\exp\\left(\\text{LeakyReLU}\\left(\\mathbf{a}\\left[\\mathbf{W}h_i||\\mathbf{W}h_j\\right]\\right)\\right)}{\\sum_{k\\in\\mathcal{N}_i} \\exp\\left(\\text{LeakyReLU}\\left(\\mathbf{a}\\left[\\mathbf{W}h_i||\\mathbf{W}h_k\\right]\\right)\\right)}$$\n",
    "\n",
    "The operator $||$ represents the concatenation, and $\\mathcal{N}_i$ the indices of the neighbors of node $i$.\n",
    "Note that in contrast to usual practice, we apply a non-linearity (here LeakyReLU) before the softmax over elements.\n",
    "Although it seems like a minor change at first, it is crucial for the attention to depend on the original input.\n",
    "Specifically, let's remove the non-linearity for a second, and try to simplify the expression:\n",
    "\n",
    "$$\n",
    "\\begin{split}\n",
    "    \\alpha_{ij} & = \\frac{\\exp\\left(\\mathbf{a}\\left[\\mathbf{W}h_i||\\mathbf{W}h_j\\right]\\right)}{\\sum_{k\\in\\mathcal{N}_i} \\exp\\left(\\mathbf{a}\\left[\\mathbf{W}h_i||\\mathbf{W}h_k\\right]\\right)}\\\\[5pt]\n",
    "    & = \\frac{\\exp\\left(\\mathbf{a}_{:,:d/2}\\mathbf{W}h_i+\\mathbf{a}_{:,d/2:}\\mathbf{W}h_j\\right)}{\\sum_{k\\in\\mathcal{N}_i} \\exp\\left(\\mathbf{a}_{:,:d/2}\\mathbf{W}h_i+\\mathbf{a}_{:,d/2:}\\mathbf{W}h_k\\right)}\\\\[5pt]\n",
    "    & = \\frac{\\exp\\left(\\mathbf{a}_{:,:d/2}\\mathbf{W}h_i\\right)\\cdot\\exp\\left(\\mathbf{a}_{:,d/2:}\\mathbf{W}h_j\\right)}{\\sum_{k\\in\\mathcal{N}_i} \\exp\\left(\\mathbf{a}_{:,:d/2}\\mathbf{W}h_i\\right)\\cdot\\exp\\left(\\mathbf{a}_{:,d/2:}\\mathbf{W}h_k\\right)}\\\\[5pt]\n",
    "    & = \\frac{\\exp\\left(\\mathbf{a}_{:,d/2:}\\mathbf{W}h_j\\right)}{\\sum_{k\\in\\mathcal{N}_i} \\exp\\left(\\mathbf{a}_{:,d/2:}\\mathbf{W}h_k\\right)}\\\\\n",
    "\\end{split}\n",
    "$$\n",
    "\n",
    "We can see that without the non-linearity, the attention term with $h_i$ actually cancels itself out,\n",
    "resulting in the attention being independent of the node itself.\n",
    "Hence, we would have the same issue as the GCN of creating the same output features for nodes with the same neighbors.\n",
    "This is why the LeakyReLU is crucial and adds some dependency on $h_i$ to the attention.\n",
    "\n",
    "Once we obtain all attention factors, we can calculate the output features for each node by performing\n",
    "the weighted average:\n",
    "\n",
    "$$h_i'=\\sigma\\left(\\sum_{j\\in\\mathcal{N}_i}\\alpha_{ij}\\mathbf{W}h_j\\right)$$\n",
    "\n",
    "$\\sigma$ is yet another non-linearity, as in the GCN layer.\n",
    "Visually, we can represent the full message passing in an attention layer as follows\n",
    "(figure credit - [Velickovic et al. ](https://arxiv.org/abs/1710.10903)):\n",
    "\n",
    "<center width=\"100%\"><img src=\"https://github.com/PyTorchLightning/lightning-tutorials/raw/main/course_UvA-DL/graph-neural-networks/graph_attention.jpeg\" width=\"400px\"></center>\n",
    "\n",
    "To increase the expressiveness of the graph attention network, [Velickovic et al. ](https://arxiv.org/abs/1710.10903)\n",
    "proposed to extend it to multiple heads similar to the Multi-Head Attention block in Transformers.\n",
    "This results in $N$ attention layers being applied in parallel.\n",
    "In the image above, it is visualized as three different colors of arrows (green, blue, and purple)\n",
    "that are afterward concatenated.\n",
    "The average is only applied for the very final prediction layer in a network.\n",
    "\n",
    "After having discussed the graph attention layer in detail, we can implement it below:"
   ]
  },
  {
   "cell_type": "code",
   "execution_count": 7,
   "id": "2c90e0da",
   "metadata": {
    "execution": {
     "iopub.execute_input": "2021-08-03T21:09:56.859493Z",
     "iopub.status.busy": "2021-08-03T21:09:56.858981Z",
     "iopub.status.idle": "2021-08-03T21:09:56.861174Z",
     "shell.execute_reply": "2021-08-03T21:09:56.860776Z"
    },
    "papermill": {
     "duration": 0.038944,
     "end_time": "2021-08-03T21:09:56.861278",
     "exception": false,
     "start_time": "2021-08-03T21:09:56.822334",
     "status": "completed"
    },
    "tags": []
   },
   "outputs": [],
   "source": [
    "class GATLayer(nn.Module):\n",
    "\n",
    "    def __init__(self, c_in, c_out, num_heads=1, concat_heads=True, alpha=0.2):\n",
    "        \"\"\"\n",
    "        Args:\n",
    "            c_in: Dimensionality of input features\n",
    "            c_out: Dimensionality of output features\n",
    "            num_heads: Number of heads, i.e. attention mechanisms to apply in parallel. The\n",
    "                        output features are equally split up over the heads if concat_heads=True.\n",
    "            concat_heads: If True, the output of the different heads is concatenated instead of averaged.\n",
    "            alpha: Negative slope of the LeakyReLU activation.\n",
    "        \"\"\"\n",
    "        super().__init__()\n",
    "        self.num_heads = num_heads\n",
    "        self.concat_heads = concat_heads\n",
    "        if self.concat_heads:\n",
    "            assert c_out % num_heads == 0, \"Number of output features must be a multiple of the count of heads.\"\n",
    "            c_out = c_out // num_heads\n",
    "\n",
    "        # Sub-modules and parameters needed in the layer\n",
    "        self.projection = nn.Linear(c_in, c_out * num_heads)\n",
    "        self.a = nn.Parameter(torch.Tensor(num_heads, 2 * c_out))  # One per head\n",
    "        self.leakyrelu = nn.LeakyReLU(alpha)\n",
    "\n",
    "        # Initialization from the original implementation\n",
    "        nn.init.xavier_uniform_(self.projection.weight.data, gain=1.414)\n",
    "        nn.init.xavier_uniform_(self.a.data, gain=1.414)\n",
    "\n",
    "    def forward(self, node_feats, adj_matrix, print_attn_probs=False):\n",
    "        \"\"\"\n",
    "        Args:\n",
    "            node_feats: Input features of the node. Shape: [batch_size, c_in]\n",
    "            adj_matrix: Adjacency matrix including self-connections. Shape: [batch_size, num_nodes, num_nodes]\n",
    "            print_attn_probs: If True, the attention weights are printed during the forward pass\n",
    "                               (for debugging purposes)\n",
    "        \"\"\"\n",
    "        batch_size, num_nodes = node_feats.size(0), node_feats.size(1)\n",
    "\n",
    "        # Apply linear layer and sort nodes by head\n",
    "        node_feats = self.projection(node_feats)\n",
    "        node_feats = node_feats.view(batch_size, num_nodes, self.num_heads, -1)\n",
    "\n",
    "        # We need to calculate the attention logits for every edge in the adjacency matrix\n",
    "        # Doing this on all possible combinations of nodes is very expensive\n",
    "        # => Create a tensor of [W*h_i||W*h_j] with i and j being the indices of all edges\n",
    "        # Returns indices where the adjacency matrix is not 0 => edges\n",
    "        edges = adj_matrix.nonzero(as_tuple=False)\n",
    "        node_feats_flat = node_feats.view(batch_size * num_nodes, self.num_heads, -1)\n",
    "        edge_indices_row = edges[:, 0] * num_nodes + edges[:, 1]\n",
    "        edge_indices_col = edges[:, 0] * num_nodes + edges[:, 2]\n",
    "        a_input = torch.cat(\n",
    "            [\n",
    "                torch.index_select(input=node_feats_flat, index=edge_indices_row, dim=0),\n",
    "                torch.index_select(input=node_feats_flat, index=edge_indices_col, dim=0)\n",
    "            ],\n",
    "            dim=-1\n",
    "        )  # Index select returns a tensor with node_feats_flat being indexed at the desired positions\n",
    "\n",
    "        # Calculate attention MLP output (independent for each head)\n",
    "        attn_logits = torch.einsum('bhc,hc->bh', a_input, self.a)\n",
    "        attn_logits = self.leakyrelu(attn_logits)\n",
    "\n",
    "        # Map list of attention values back into a matrix\n",
    "        attn_matrix = attn_logits.new_zeros(adj_matrix.shape + (self.num_heads, )).fill_(-9e15)\n",
    "        attn_matrix[adj_matrix[..., None].repeat(1, 1, 1, self.num_heads) == 1] = attn_logits.reshape(-1)\n",
    "\n",
    "        # Weighted average of attention\n",
    "        attn_probs = F.softmax(attn_matrix, dim=2)\n",
    "        if print_attn_probs:\n",
    "            print(\"Attention probs\\n\", attn_probs.permute(0, 3, 1, 2))\n",
    "        node_feats = torch.einsum('bijh,bjhc->bihc', attn_probs, node_feats)\n",
    "\n",
    "        # If heads should be concatenated, we can do this by reshaping. Otherwise, take mean\n",
    "        if self.concat_heads:\n",
    "            node_feats = node_feats.reshape(batch_size, num_nodes, -1)\n",
    "        else:\n",
    "            node_feats = node_feats.mean(dim=2)\n",
    "\n",
    "        return node_feats"
   ]
  },
  {
   "cell_type": "markdown",
   "id": "47e8d98c",
   "metadata": {
    "papermill": {
     "duration": 0.026274,
     "end_time": "2021-08-03T21:09:56.913288",
     "exception": false,
     "start_time": "2021-08-03T21:09:56.887014",
     "status": "completed"
    },
    "tags": []
   },
   "source": [
    "Again, we can apply the graph attention layer on our example graph above to understand the dynamics better.\n",
    "As before, the input layer is initialized as an identity matrix, but we set $\\mathbf{a}$\n",
    "to be a vector of arbitrary numbers to obtain different attention values.\n",
    "We use two heads to show the parallel, independent attention mechanisms working in the layer."
   ]
  },
  {
   "cell_type": "code",
   "execution_count": 8,
   "id": "74e7303c",
   "metadata": {
    "execution": {
     "iopub.execute_input": "2021-08-03T21:09:56.969434Z",
     "iopub.status.busy": "2021-08-03T21:09:56.967001Z",
     "iopub.status.idle": "2021-08-03T21:09:56.979445Z",
     "shell.execute_reply": "2021-08-03T21:09:56.978944Z"
    },
    "papermill": {
     "duration": 0.040227,
     "end_time": "2021-08-03T21:09:56.979550",
     "exception": false,
     "start_time": "2021-08-03T21:09:56.939323",
     "status": "completed"
    },
    "tags": []
   },
   "outputs": [
    {
     "name": "stdout",
     "output_type": "stream",
     "text": [
      "Attention probs\n",
      " tensor([[[[0.3543, 0.6457, 0.0000, 0.0000],\n",
      "          [0.1096, 0.1450, 0.2642, 0.4813],\n",
      "          [0.0000, 0.1858, 0.2885, 0.5257],\n",
      "          [0.0000, 0.2391, 0.2696, 0.4913]],\n",
      "\n",
      "         [[0.5100, 0.4900, 0.0000, 0.0000],\n",
      "          [0.2975, 0.2436, 0.2340, 0.2249],\n",
      "          [0.0000, 0.3838, 0.3142, 0.3019],\n",
      "          [0.0000, 0.4018, 0.3289, 0.2693]]]])\n",
      "Adjacency matrix tensor([[[1., 1., 0., 0.],\n",
      "         [1., 1., 1., 1.],\n",
      "         [0., 1., 1., 1.],\n",
      "         [0., 1., 1., 1.]]])\n",
      "Input features tensor([[[0., 1.],\n",
      "         [2., 3.],\n",
      "         [4., 5.],\n",
      "         [6., 7.]]])\n",
      "Output features tensor([[[1.2913, 1.9800],\n",
      "         [4.2344, 3.7725],\n",
      "         [4.6798, 4.8362],\n",
      "         [4.5043, 4.7351]]])\n"
     ]
    }
   ],
   "source": [
    "layer = GATLayer(2, 2, num_heads=2)\n",
    "layer.projection.weight.data = torch.Tensor([[1., 0.], [0., 1.]])\n",
    "layer.projection.bias.data = torch.Tensor([0., 0.])\n",
    "layer.a.data = torch.Tensor([[-0.2, 0.3], [0.1, -0.1]])\n",
    "\n",
    "with torch.no_grad():\n",
    "    out_feats = layer(node_feats, adj_matrix, print_attn_probs=True)\n",
    "\n",
    "print(\"Adjacency matrix\", adj_matrix)\n",
    "print(\"Input features\", node_feats)\n",
    "print(\"Output features\", out_feats)"
   ]
  },
  {
   "cell_type": "markdown",
   "id": "4bbc8a5f",
   "metadata": {
    "papermill": {
     "duration": 0.049375,
     "end_time": "2021-08-03T21:09:57.055387",
     "exception": false,
     "start_time": "2021-08-03T21:09:57.006012",
     "status": "completed"
    },
    "tags": []
   },
   "source": [
    "We recommend that you try to calculate the attention matrix at least for one head and one node for yourself.\n",
    "The entries are 0 where there does not exist an edge between $i$ and $j$.\n",
    "For the others, we see a diverse set of attention probabilities.\n",
    "Moreover, the output features of node 3 and 4 are now different although they have the same neighbors."
   ]
  },
  {
   "cell_type": "markdown",
   "id": "9b1da722",
   "metadata": {
    "papermill": {
     "duration": 0.026694,
     "end_time": "2021-08-03T21:09:57.108859",
     "exception": false,
     "start_time": "2021-08-03T21:09:57.082165",
     "status": "completed"
    },
    "tags": []
   },
   "source": [
    "## PyTorch Geometric\n",
    "\n",
    "We had mentioned before that implementing graph networks with adjacency matrix is simple and straight-forward\n",
    "but can be computationally expensive for large graphs.\n",
    "Many real-world graphs can reach over 200k nodes, for which adjacency matrix-based implementations fail.\n",
    "There are a lot of optimizations possible when implementing GNNs, and luckily, there exist packages that provide such layers.\n",
    "The most popular packages for PyTorch are [PyTorch Geometric](https://pytorch-geometric.readthedocs.io/en/latest/)\n",
    "and the [Deep Graph Library](https://www.dgl.ai/) (the latter being actually framework agnostic).\n",
    "Which one to use depends on the project you are planning to do and personal taste.\n",
    "In this tutorial, we will look at PyTorch Geometric as part of the PyTorch family.\n",
    "\n",
    "PyTorch Geometric provides us a set of common graph layers, including the GCN and GAT layer we implemented above.\n",
    "Additionally, similar to PyTorch's torchvision, it provides the common graph datasets and transformations\n",
    "on those to simplify training.\n",
    "Compared to our implementation above, PyTorch Geometric uses a list of index pairs to represent the edges.\n",
    "The details of this library will be explored further in our experiments.\n",
    "\n",
    "In our tasks below, we want to allow us to pick from a multitude of graph layers.\n",
    "Thus, we define again below a dictionary to access those using a string:"
   ]
  },
  {
   "cell_type": "code",
   "execution_count": 9,
   "id": "3e93a68a",
   "metadata": {
    "execution": {
     "iopub.execute_input": "2021-08-03T21:09:57.166578Z",
     "iopub.status.busy": "2021-08-03T21:09:57.166118Z",
     "iopub.status.idle": "2021-08-03T21:09:57.168258Z",
     "shell.execute_reply": "2021-08-03T21:09:57.167864Z"
    },
    "papermill": {
     "duration": 0.033098,
     "end_time": "2021-08-03T21:09:57.168358",
     "exception": false,
     "start_time": "2021-08-03T21:09:57.135260",
     "status": "completed"
    },
    "tags": []
   },
   "outputs": [],
   "source": [
    "gnn_layer_by_name = {\"GCN\": geom_nn.GCNConv, \"GAT\": geom_nn.GATConv, \"GraphConv\": geom_nn.GraphConv}"
   ]
  },
  {
   "cell_type": "markdown",
   "id": "24f2422e",
   "metadata": {
    "papermill": {
     "duration": 0.026422,
     "end_time": "2021-08-03T21:09:57.221929",
     "exception": false,
     "start_time": "2021-08-03T21:09:57.195507",
     "status": "completed"
    },
    "tags": []
   },
   "source": [
    "Additionally to GCN and GAT, we added the layer `geom_nn.GraphConv`\n",
    "([documentation](https://pytorch-geometric.readthedocs.io/en/latest/modules/nn.html#torch_geometric.nn.conv.GraphConv)).\n",
    "GraphConv is a GCN with a separate weight matrix for the self-connections.\n",
    "Mathematically, this would be:\n",
    "\n",
    "$$\n",
    "\\mathbf{x}_i^{(l+1)} = \\mathbf{W}^{(l + 1)}_1 \\mathbf{x}_i^{(l)} + \\mathbf{W}^{(\\ell + 1)}_2 \\sum_{j \\in \\mathcal{N}_i} \\mathbf{x}_j^{(l)}\n",
    "$$\n",
    "\n",
    "In this formula, the neighbor's messages are added instead of averaged.\n",
    "However, PyTorch Geometric provides the argument `aggr` to switch between summing, averaging, and max pooling."
   ]
  },
  {
   "cell_type": "markdown",
   "id": "82ecb773",
   "metadata": {
    "papermill": {
     "duration": 0.027952,
     "end_time": "2021-08-03T21:09:57.276364",
     "exception": false,
     "start_time": "2021-08-03T21:09:57.248412",
     "status": "completed"
    },
    "tags": []
   },
   "source": [
    "## Experiments on graph structures\n",
    "\n",
    "Tasks on graph-structured data can be grouped into three groups: node-level, edge-level and graph-level.\n",
    "The different levels describe on which level we want to perform classification/regression.\n",
    "We will discuss all three types in more detail below."
   ]
  },
  {
   "cell_type": "markdown",
   "id": "e8ba2f34",
   "metadata": {
    "papermill": {
     "duration": 0.026204,
     "end_time": "2021-08-03T21:09:57.329317",
     "exception": false,
     "start_time": "2021-08-03T21:09:57.303113",
     "status": "completed"
    },
    "tags": []
   },
   "source": [
    "### Node-level tasks: Semi-supervised node classification\n",
    "\n",
    "Node-level tasks have the goal to classify nodes in a graph.\n",
    "Usually, we have given a single, large graph with >1000 nodes of which a certain amount of nodes are labeled.\n",
    "We learn to classify those labeled examples during training and try to generalize to the unlabeled nodes.\n",
    "\n",
    "A popular example that we will use in this tutorial is the Cora dataset, a citation network among papers.\n",
    "The Cora consists of 2708 scientific publications with links between each other representing\n",
    "the citation of one paper by another.\n",
    "The task is to classify each publication into one of seven classes.\n",
    "Each publication is represented by a bag-of-words vector.\n",
    "This means that we have a vector of 1433 elements for each publication, where a 1 at feature $i$ indicates\n",
    "that the $i$-th word of a pre-defined dictionary is in the article.\n",
    "Binary bag-of-words representations are commonly used when we need very simple encodings,\n",
    "and already have an intuition of what words to expect in a network.\n",
    "There exist much better approaches, but we will leave this to the NLP courses to discuss.\n",
    "\n",
    "We will load the dataset below:"
   ]
  },
  {
   "cell_type": "code",
   "execution_count": 10,
   "id": "50e954c7",
   "metadata": {
    "execution": {
     "iopub.execute_input": "2021-08-03T21:09:57.385228Z",
     "iopub.status.busy": "2021-08-03T21:09:57.384768Z",
     "iopub.status.idle": "2021-08-03T21:09:58.957718Z",
     "shell.execute_reply": "2021-08-03T21:09:58.957237Z"
    },
    "papermill": {
     "duration": 1.602097,
     "end_time": "2021-08-03T21:09:58.957837",
     "exception": false,
     "start_time": "2021-08-03T21:09:57.355740",
     "status": "completed"
    },
    "tags": []
   },
   "outputs": [
    {
     "name": "stdout",
     "output_type": "stream",
     "text": [
      "Downloading https://github.com/kimiyoung/planetoid/raw/master/data/ind.cora.x\n",
      "Downloading https://github.com/kimiyoung/planetoid/raw/master/data/ind.cora.tx\n"
     ]
    },
    {
     "name": "stdout",
     "output_type": "stream",
     "text": [
      "Downloading https://github.com/kimiyoung/planetoid/raw/master/data/ind.cora.allx\n",
      "Downloading https://github.com/kimiyoung/planetoid/raw/master/data/ind.cora.y\n"
     ]
    },
    {
     "name": "stdout",
     "output_type": "stream",
     "text": [
      "Downloading https://github.com/kimiyoung/planetoid/raw/master/data/ind.cora.ty\n",
      "Downloading https://github.com/kimiyoung/planetoid/raw/master/data/ind.cora.ally\n"
     ]
    },
    {
     "name": "stdout",
     "output_type": "stream",
     "text": [
      "Downloading https://github.com/kimiyoung/planetoid/raw/master/data/ind.cora.graph\n",
      "Downloading https://github.com/kimiyoung/planetoid/raw/master/data/ind.cora.test.index\n"
     ]
    },
    {
     "name": "stdout",
     "output_type": "stream",
     "text": [
      "Processing...\n",
      "Done!\n"
     ]
    }
   ],
   "source": [
    "cora_dataset = torch_geometric.datasets.Planetoid(root=DATASET_PATH, name=\"Cora\")"
   ]
  },
  {
   "cell_type": "markdown",
   "id": "2eed9ba8",
   "metadata": {
    "papermill": {
     "duration": 0.027553,
     "end_time": "2021-08-03T21:09:59.013526",
     "exception": false,
     "start_time": "2021-08-03T21:09:58.985973",
     "status": "completed"
    },
    "tags": []
   },
   "source": [
    "Let's look at how PyTorch Geometric represents the graph data.\n",
    "Note that although we have a single graph, PyTorch Geometric returns a dataset for compatibility to other datasets."
   ]
  },
  {
   "cell_type": "code",
   "execution_count": 11,
   "id": "9703c361",
   "metadata": {
    "execution": {
     "iopub.execute_input": "2021-08-03T21:09:59.078267Z",
     "iopub.status.busy": "2021-08-03T21:09:59.077806Z",
     "iopub.status.idle": "2021-08-03T21:09:59.080543Z",
     "shell.execute_reply": "2021-08-03T21:09:59.080142Z"
    },
    "papermill": {
     "duration": 0.03952,
     "end_time": "2021-08-03T21:09:59.080645",
     "exception": false,
     "start_time": "2021-08-03T21:09:59.041125",
     "status": "completed"
    },
    "tags": []
   },
   "outputs": [
    {
     "data": {
      "text/plain": [
       "Data(edge_index=[2, 10556], test_mask=[2708], train_mask=[2708], val_mask=[2708], x=[2708, 1433], y=[2708])"
      ]
     },
     "execution_count": 11,
     "metadata": {},
     "output_type": "execute_result"
    }
   ],
   "source": [
    "cora_dataset[0]"
   ]
  },
  {
   "cell_type": "markdown",
   "id": "3839cfbd",
   "metadata": {
    "lines_to_next_cell": 2,
    "papermill": {
     "duration": 0.027812,
     "end_time": "2021-08-03T21:09:59.136956",
     "exception": false,
     "start_time": "2021-08-03T21:09:59.109144",
     "status": "completed"
    },
    "tags": []
   },
   "source": [
    "The graph is represented by a `Data` object\n",
    "([documentation](https://pytorch-geometric.readthedocs.io/en/latest/modules/data.html#torch_geometric.data.Data))\n",
    "which we can access as a standard Python namespace.\n",
    "The edge index tensor is the list of edges in the graph and contains the mirrored version of each edge for undirected graphs.\n",
    "The `train_mask`, `val_mask`, and `test_mask` are boolean masks that indicate which nodes we should use for training,\n",
    "validation, and testing.\n",
    "The `x` tensor is the feature tensor of our 2708 publications, and `y` the labels for all nodes.\n",
    "\n",
    "After having seen the data, we can implement a simple graph neural network.\n",
    "The GNN applies a sequence of graph layers (GCN, GAT, or GraphConv), ReLU as activation function,\n",
    "and dropout for regularization.\n",
    "See below for the specific implementation."
   ]
  },
  {
   "cell_type": "code",
   "execution_count": 12,
   "id": "f343ff56",
   "metadata": {
    "execution": {
     "iopub.execute_input": "2021-08-03T21:09:59.200023Z",
     "iopub.status.busy": "2021-08-03T21:09:59.199539Z",
     "iopub.status.idle": "2021-08-03T21:09:59.201521Z",
     "shell.execute_reply": "2021-08-03T21:09:59.201056Z"
    },
    "lines_to_next_cell": 2,
    "papermill": {
     "duration": 0.037028,
     "end_time": "2021-08-03T21:09:59.201625",
     "exception": false,
     "start_time": "2021-08-03T21:09:59.164597",
     "status": "completed"
    },
    "tags": []
   },
   "outputs": [],
   "source": [
    "class GNNModel(nn.Module):\n",
    "\n",
    "    def __init__(\n",
    "        self,\n",
    "        c_in,\n",
    "        c_hidden,\n",
    "        c_out,\n",
    "        num_layers=2,\n",
    "        layer_name=\"GCN\",\n",
    "        dp_rate=0.1,\n",
    "        **kwargs,\n",
    "    ):\n",
    "        \"\"\"\n",
    "        Args:\n",
    "            c_in: Dimension of input features\n",
    "            c_hidden: Dimension of hidden features\n",
    "            c_out: Dimension of the output features. Usually number of classes in classification\n",
    "            num_layers: Number of \"hidden\" graph layers\n",
    "            layer_name: String of the graph layer to use\n",
    "            dp_rate: Dropout rate to apply throughout the network\n",
    "            kwargs: Additional arguments for the graph layer (e.g. number of heads for GAT)\n",
    "        \"\"\"\n",
    "        super().__init__()\n",
    "        gnn_layer = gnn_layer_by_name[layer_name]\n",
    "\n",
    "        layers = []\n",
    "        in_channels, out_channels = c_in, c_hidden\n",
    "        for l_idx in range(num_layers - 1):\n",
    "            layers += [\n",
    "                gnn_layer(in_channels=in_channels, out_channels=out_channels, **kwargs),\n",
    "                nn.ReLU(inplace=True),\n",
    "                nn.Dropout(dp_rate)\n",
    "            ]\n",
    "            in_channels = c_hidden\n",
    "        layers += [gnn_layer(in_channels=in_channels, out_channels=c_out, **kwargs)]\n",
    "        self.layers = nn.ModuleList(layers)\n",
    "\n",
    "    def forward(self, x, edge_index):\n",
    "        \"\"\"\n",
    "        Args:\n",
    "            x: Input features per node\n",
    "            edge_index: List of vertex index pairs representing the edges in the graph (PyTorch geometric notation)\n",
    "        \"\"\"\n",
    "        for layer in self.layers:\n",
    "            # For graph layers, we need to add the \"edge_index\" tensor as additional input\n",
    "            # All PyTorch Geometric graph layer inherit the class \"MessagePassing\", hence\n",
    "            # we can simply check the class type.\n",
    "            if isinstance(layer, geom_nn.MessagePassing):\n",
    "                x = layer(x, edge_index)\n",
    "            else:\n",
    "                x = layer(x)\n",
    "        return x"
   ]
  },
  {
   "cell_type": "markdown",
   "id": "c01cdbca",
   "metadata": {
    "lines_to_next_cell": 2,
    "papermill": {
     "duration": 0.027932,
     "end_time": "2021-08-03T21:09:59.258138",
     "exception": false,
     "start_time": "2021-08-03T21:09:59.230206",
     "status": "completed"
    },
    "tags": []
   },
   "source": [
    "Good practice in node-level tasks is to create an MLP baseline that is applied to each node independently.\n",
    "This way we can verify whether adding the graph information to the model indeed improves the prediction, or not.\n",
    "It might also be that the features per node are already expressive enough to clearly point towards a specific class.\n",
    "To check this, we implement a simple MLP below."
   ]
  },
  {
   "cell_type": "code",
   "execution_count": 13,
   "id": "0b5b76ca",
   "metadata": {
    "execution": {
     "iopub.execute_input": "2021-08-03T21:09:59.326157Z",
     "iopub.status.busy": "2021-08-03T21:09:59.325679Z",
     "iopub.status.idle": "2021-08-03T21:09:59.328332Z",
     "shell.execute_reply": "2021-08-03T21:09:59.327318Z"
    },
    "lines_to_next_cell": 2,
    "papermill": {
     "duration": 0.042249,
     "end_time": "2021-08-03T21:09:59.328440",
     "exception": false,
     "start_time": "2021-08-03T21:09:59.286191",
     "status": "completed"
    },
    "tags": []
   },
   "outputs": [],
   "source": [
    "class MLPModel(nn.Module):\n",
    "\n",
    "    def __init__(self, c_in, c_hidden, c_out, num_layers=2, dp_rate=0.1):\n",
    "        \"\"\"\n",
    "        Args:\n",
    "            c_in: Dimension of input features\n",
    "            c_hidden: Dimension of hidden features\n",
    "            c_out: Dimension of the output features. Usually number of classes in classification\n",
    "            num_layers: Number of hidden layers\n",
    "            dp_rate: Dropout rate to apply throughout the network\n",
    "        \"\"\"\n",
    "        super().__init__()\n",
    "        layers = []\n",
    "        in_channels, out_channels = c_in, c_hidden\n",
    "        for l_idx in range(num_layers - 1):\n",
    "            layers += [nn.Linear(in_channels, out_channels), nn.ReLU(inplace=True), nn.Dropout(dp_rate)]\n",
    "            in_channels = c_hidden\n",
    "        layers += [nn.Linear(in_channels, c_out)]\n",
    "        self.layers = nn.Sequential(*layers)\n",
    "\n",
    "    def forward(self, x, *args, **kwargs):\n",
    "        \"\"\"\n",
    "        Args:\n",
    "            x: Input features per node\n",
    "        \"\"\"\n",
    "        return self.layers(x)"
   ]
  },
  {
   "cell_type": "markdown",
   "id": "35c97b2d",
   "metadata": {
    "lines_to_next_cell": 2,
    "papermill": {
     "duration": 0.035451,
     "end_time": "2021-08-03T21:09:59.391689",
     "exception": false,
     "start_time": "2021-08-03T21:09:59.356238",
     "status": "completed"
    },
    "tags": []
   },
   "source": [
    "Finally, we can merge the models into a PyTorch Lightning module which handles the training,\n",
    "validation, and testing for us."
   ]
  },
  {
   "cell_type": "code",
   "execution_count": 14,
   "id": "d325406a",
   "metadata": {
    "execution": {
     "iopub.execute_input": "2021-08-03T21:09:59.473986Z",
     "iopub.status.busy": "2021-08-03T21:09:59.473510Z",
     "iopub.status.idle": "2021-08-03T21:09:59.475575Z",
     "shell.execute_reply": "2021-08-03T21:09:59.475094Z"
    },
    "lines_to_next_cell": 2,
    "papermill": {
     "duration": 0.046022,
     "end_time": "2021-08-03T21:09:59.475677",
     "exception": false,
     "start_time": "2021-08-03T21:09:59.429655",
     "status": "completed"
    },
    "tags": []
   },
   "outputs": [],
   "source": [
    "class NodeLevelGNN(pl.LightningModule):\n",
    "\n",
    "    def __init__(self, model_name, **model_kwargs):\n",
    "        super().__init__()\n",
    "        # Saving hyperparameters\n",
    "        self.save_hyperparameters()\n",
    "\n",
    "        if model_name == \"MLP\":\n",
    "            self.model = MLPModel(**model_kwargs)\n",
    "        else:\n",
    "            self.model = GNNModel(**model_kwargs)\n",
    "        self.loss_module = nn.CrossEntropyLoss()\n",
    "\n",
    "    def forward(self, data, mode=\"train\"):\n",
    "        x, edge_index = data.x, data.edge_index\n",
    "        x = self.model(x, edge_index)\n",
    "\n",
    "        # Only calculate the loss on the nodes corresponding to the mask\n",
    "        if mode == \"train\":\n",
    "            mask = data.train_mask\n",
    "        elif mode == \"val\":\n",
    "            mask = data.val_mask\n",
    "        elif mode == \"test\":\n",
    "            mask = data.test_mask\n",
    "        else:\n",
    "            assert False, \"Unknown forward mode: %s\" % mode\n",
    "\n",
    "        loss = self.loss_module(x[mask], data.y[mask])\n",
    "        acc = (x[mask].argmax(dim=-1) == data.y[mask]).sum().float() / mask.sum()\n",
    "        return loss, acc\n",
    "\n",
    "    def configure_optimizers(self):\n",
    "        # We use SGD here, but Adam works as well\n",
    "        optimizer = optim.SGD(self.parameters(), lr=0.1, momentum=0.9, weight_decay=2e-3)\n",
    "        return optimizer\n",
    "\n",
    "    def training_step(self, batch, batch_idx):\n",
    "        loss, acc = self.forward(batch, mode=\"train\")\n",
    "        self.log('train_loss', loss)\n",
    "        self.log('train_acc', acc)\n",
    "        return loss\n",
    "\n",
    "    def validation_step(self, batch, batch_idx):\n",
    "        _, acc = self.forward(batch, mode=\"val\")\n",
    "        self.log('val_acc', acc)\n",
    "\n",
    "    def test_step(self, batch, batch_idx):\n",
    "        _, acc = self.forward(batch, mode=\"test\")\n",
    "        self.log('test_acc', acc)"
   ]
  },
  {
   "cell_type": "markdown",
   "id": "91152f4e",
   "metadata": {
    "lines_to_next_cell": 2,
    "papermill": {
     "duration": 0.028386,
     "end_time": "2021-08-03T21:09:59.532446",
     "exception": false,
     "start_time": "2021-08-03T21:09:59.504060",
     "status": "completed"
    },
    "tags": []
   },
   "source": [
    "Additionally to the Lightning module, we define a training function below.\n",
    "As we have a single graph, we use a batch size of 1 for the data loader and share the same data loader for the train,\n",
    "validation, and test set (the mask is picked inside the Lightning module).\n",
    "Besides, we set the argument `progress_bar_refresh_rate` to zero as it usually shows the progress per epoch,\n",
    "but an epoch only consists of a single step.\n",
    "If you have downloaded the pre-trained models in the beginning of the tutorial, we load those instead of training from scratch.\n",
    "Finally, we test the model and return the results."
   ]
  },
  {
   "cell_type": "code",
   "execution_count": 15,
   "id": "a1f05fd0",
   "metadata": {
    "execution": {
     "iopub.execute_input": "2021-08-03T21:09:59.596334Z",
     "iopub.status.busy": "2021-08-03T21:09:59.595862Z",
     "iopub.status.idle": "2021-08-03T21:09:59.597938Z",
     "shell.execute_reply": "2021-08-03T21:09:59.597473Z"
    },
    "lines_to_next_cell": 2,
    "papermill": {
     "duration": 0.037083,
     "end_time": "2021-08-03T21:09:59.598040",
     "exception": false,
     "start_time": "2021-08-03T21:09:59.560957",
     "status": "completed"
    },
    "tags": []
   },
   "outputs": [],
   "source": [
    "def train_node_classifier(model_name, dataset, **model_kwargs):\n",
    "    pl.seed_everything(42)\n",
    "    node_data_loader = geom_data.DataLoader(dataset, batch_size=1)\n",
    "\n",
    "    # Create a PyTorch Lightning trainer\n",
    "    root_dir = os.path.join(CHECKPOINT_PATH, \"NodeLevel\" + model_name)\n",
    "    os.makedirs(root_dir, exist_ok=True)\n",
    "    trainer = pl.Trainer(\n",
    "        default_root_dir=root_dir,\n",
    "        callbacks=[ModelCheckpoint(save_weights_only=True, mode=\"max\", monitor=\"val_acc\")],\n",
    "        gpus=AVAIL_GPUS,\n",
    "        max_epochs=200,\n",
    "        progress_bar_refresh_rate=0\n",
    "    )  # 0 because epoch size is 1\n",
    "    trainer.logger._default_hp_metric = None  # Optional logging argument that we don't need\n",
    "\n",
    "    # Check whether pretrained model exists. If yes, load it and skip training\n",
    "    pretrained_filename = os.path.join(CHECKPOINT_PATH, \"NodeLevel%s.ckpt\" % model_name)\n",
    "    if os.path.isfile(pretrained_filename):\n",
    "        print(\"Found pretrained model, loading...\")\n",
    "        model = NodeLevelGNN.load_from_checkpoint(pretrained_filename)\n",
    "    else:\n",
    "        pl.seed_everything()\n",
    "        model = NodeLevelGNN(\n",
    "            model_name=model_name, c_in=dataset.num_node_features, c_out=dataset.num_classes, **model_kwargs\n",
    "        )\n",
    "        trainer.fit(model, node_data_loader, node_data_loader)\n",
    "        model = NodeLevelGNN.load_from_checkpoint(trainer.checkpoint_callback.best_model_path)\n",
    "\n",
    "    # Test best model on the test set\n",
    "    test_result = trainer.test(model, test_dataloaders=node_data_loader, verbose=False)\n",
    "    batch = next(iter(node_data_loader))\n",
    "    batch = batch.to(model.device)\n",
    "    _, train_acc = model.forward(batch, mode=\"train\")\n",
    "    _, val_acc = model.forward(batch, mode=\"val\")\n",
    "    result = {\"train\": train_acc, \"val\": val_acc, \"test\": test_result[0]['test_acc']}\n",
    "    return model, result"
   ]
  },
  {
   "cell_type": "markdown",
   "id": "4289e7b9",
   "metadata": {
    "lines_to_next_cell": 2,
    "papermill": {
     "duration": 0.031206,
     "end_time": "2021-08-03T21:09:59.657742",
     "exception": false,
     "start_time": "2021-08-03T21:09:59.626536",
     "status": "completed"
    },
    "tags": []
   },
   "source": [
    "Now, we can train our models. First, let's train the simple MLP:"
   ]
  },
  {
   "cell_type": "code",
   "execution_count": 16,
   "id": "790aaf63",
   "metadata": {
    "execution": {
     "iopub.execute_input": "2021-08-03T21:09:59.718329Z",
     "iopub.status.busy": "2021-08-03T21:09:59.717858Z",
     "iopub.status.idle": "2021-08-03T21:09:59.719619Z",
     "shell.execute_reply": "2021-08-03T21:09:59.719995Z"
    },
    "papermill": {
     "duration": 0.034009,
     "end_time": "2021-08-03T21:09:59.720114",
     "exception": false,
     "start_time": "2021-08-03T21:09:59.686105",
     "status": "completed"
    },
    "tags": []
   },
   "outputs": [],
   "source": [
    "# Small function for printing the test scores\n",
    "def print_results(result_dict):\n",
    "    if \"train\" in result_dict:\n",
    "        print(\"Train accuracy: %4.2f%%\" % (100.0 * result_dict[\"train\"]))\n",
    "    if \"val\" in result_dict:\n",
    "        print(\"Val accuracy:   %4.2f%%\" % (100.0 * result_dict[\"val\"]))\n",
    "    print(\"Test accuracy:  %4.2f%%\" % (100.0 * result_dict[\"test\"]))"
   ]
  },
  {
   "cell_type": "code",
   "execution_count": 17,
   "id": "f21b96a6",
   "metadata": {
    "execution": {
     "iopub.execute_input": "2021-08-03T21:09:59.779819Z",
     "iopub.status.busy": "2021-08-03T21:09:59.779329Z",
     "iopub.status.idle": "2021-08-03T21:10:35.962573Z",
     "shell.execute_reply": "2021-08-03T21:10:35.962158Z"
    },
    "papermill": {
     "duration": 36.2143,
     "end_time": "2021-08-03T21:10:35.962688",
     "exception": false,
     "start_time": "2021-08-03T21:09:59.748388",
     "status": "completed"
    },
    "tags": []
   },
   "outputs": [
    {
     "name": "stderr",
     "output_type": "stream",
     "text": [
      "Global seed set to 42\n"
     ]
    },
    {
     "name": "stderr",
     "output_type": "stream",
     "text": [
      "GPU available: True, used: True\n"
     ]
    },
    {
     "name": "stderr",
     "output_type": "stream",
     "text": [
      "TPU available: False, using: 0 TPU cores\n"
     ]
    },
    {
     "name": "stderr",
     "output_type": "stream",
     "text": [
      "IPU available: False, using: 0 IPUs\n"
     ]
    },
    {
     "name": "stderr",
     "output_type": "stream",
     "text": [
      "/home/AzDevOps_azpcontainer/.local/lib/python3.9/site-packages/pytorch_lightning/trainer/trainer.py:679: LightningDeprecationWarning: `trainer.test(test_dataloaders)` is deprecated in v1.4 and will be removed in v1.6. Use `trainer.test(dataloaders)` instead.\n",
      "  rank_zero_deprecation(\n",
      "LOCAL_RANK: 0 - CUDA_VISIBLE_DEVICES: [0,1]\n"
     ]
    },
    {
     "name": "stdout",
     "output_type": "stream",
     "text": [
      "Found pretrained model, loading...\n"
     ]
    },
    {
     "name": "stderr",
     "output_type": "stream",
     "text": [
      "Missing logger folder: saved_models/GNNs/NodeLevelMLP/lightning_logs\n"
     ]
    },
    {
     "name": "stdout",
     "output_type": "stream",
     "text": [
      "Train accuracy: 97.14%\n",
      "Val accuracy:   54.60%\n",
      "Test accuracy:  60.60%\n"
     ]
    },
    {
     "name": "stderr",
     "output_type": "stream",
     "text": [
      "/home/AzDevOps_azpcontainer/.local/lib/python3.9/site-packages/pytorch_lightning/trainer/data_loading.py:105: UserWarning: The dataloader, test dataloader 0, does not have many workers which may be a bottleneck. Consider increasing the value of the `num_workers` argument` (try 12 which is the number of cpus on this machine) in the `DataLoader` init to improve performance.\n",
      "  rank_zero_warn(\n"
     ]
    }
   ],
   "source": [
    "node_mlp_model, node_mlp_result = train_node_classifier(\n",
    "    model_name=\"MLP\", dataset=cora_dataset, c_hidden=16, num_layers=2, dp_rate=0.1\n",
    ")\n",
    "\n",
    "print_results(node_mlp_result)"
   ]
  },
  {
   "cell_type": "markdown",
   "id": "e1a9671b",
   "metadata": {
    "papermill": {
     "duration": 0.029959,
     "end_time": "2021-08-03T21:10:36.023298",
     "exception": false,
     "start_time": "2021-08-03T21:10:35.993339",
     "status": "completed"
    },
    "tags": []
   },
   "source": [
    "Although the MLP can overfit on the training dataset because of the high-dimensional input features,\n",
    "it does not perform too well on the test set.\n",
    "Let's see if we can beat this score with our graph networks:"
   ]
  },
  {
   "cell_type": "code",
   "execution_count": 18,
   "id": "02d2e7f4",
   "metadata": {
    "execution": {
     "iopub.execute_input": "2021-08-03T21:10:36.087429Z",
     "iopub.status.busy": "2021-08-03T21:10:36.086939Z",
     "iopub.status.idle": "2021-08-03T21:10:36.122421Z",
     "shell.execute_reply": "2021-08-03T21:10:36.122005Z"
    },
    "papermill": {
     "duration": 0.068895,
     "end_time": "2021-08-03T21:10:36.122541",
     "exception": false,
     "start_time": "2021-08-03T21:10:36.053646",
     "status": "completed"
    },
    "tags": []
   },
   "outputs": [
    {
     "name": "stderr",
     "output_type": "stream",
     "text": [
      "Global seed set to 42\n"
     ]
    },
    {
     "name": "stderr",
     "output_type": "stream",
     "text": [
      "GPU available: True, used: True\n"
     ]
    },
    {
     "name": "stderr",
     "output_type": "stream",
     "text": [
      "TPU available: False, using: 0 TPU cores\n"
     ]
    },
    {
     "name": "stderr",
     "output_type": "stream",
     "text": [
      "IPU available: False, using: 0 IPUs\n"
     ]
    },
    {
     "name": "stderr",
     "output_type": "stream",
     "text": [
      "LOCAL_RANK: 0 - CUDA_VISIBLE_DEVICES: [0,1]\n"
     ]
    },
    {
     "name": "stderr",
     "output_type": "stream",
     "text": [
      "Missing logger folder: saved_models/GNNs/NodeLevelGNN/lightning_logs\n"
     ]
    },
    {
     "name": "stdout",
     "output_type": "stream",
     "text": [
      "Found pretrained model, loading...\n",
      "Train accuracy: 100.00%\n",
      "Val accuracy:   78.00%\n",
      "Test accuracy:  82.40%\n"
     ]
    }
   ],
   "source": [
    "node_gnn_model, node_gnn_result = train_node_classifier(\n",
    "    model_name=\"GNN\", layer_name=\"GCN\", dataset=cora_dataset, c_hidden=16, num_layers=2, dp_rate=0.1\n",
    ")\n",
    "print_results(node_gnn_result)"
   ]
  },
  {
   "cell_type": "markdown",
   "id": "04203ae9",
   "metadata": {
    "papermill": {
     "duration": 0.031677,
     "end_time": "2021-08-03T21:10:36.187959",
     "exception": false,
     "start_time": "2021-08-03T21:10:36.156282",
     "status": "completed"
    },
    "tags": []
   },
   "source": [
    "As we would have hoped for, the GNN model outperforms the MLP by quite a margin.\n",
    "This shows that using the graph information indeed improves our predictions and lets us generalizes better.\n",
    "\n",
    "The hyperparameters in the model have been chosen to create a relatively small network.\n",
    "This is because the first layer with an input dimension of 1433 can be relatively expensive to perform for large graphs.\n",
    "In general, GNNs can become relatively expensive for very big graphs.\n",
    "This is why such GNNs either have a small hidden size or use a special batching strategy\n",
    "where we sample a connected subgraph of the big, original graph."
   ]
  },
  {
   "cell_type": "markdown",
   "id": "c4ce31dd",
   "metadata": {
    "papermill": {
     "duration": 0.032204,
     "end_time": "2021-08-03T21:10:36.251887",
     "exception": false,
     "start_time": "2021-08-03T21:10:36.219683",
     "status": "completed"
    },
    "tags": []
   },
   "source": [
    "### Edge-level tasks: Link prediction\n",
    "\n",
    "In some applications, we might have to predict on an edge-level instead of node-level.\n",
    "The most common edge-level task in GNN is link prediction.\n",
    "Link prediction means that given a graph, we want to predict whether there will be/should be an edge between two nodes or not.\n",
    "For example, in a social network, this is used by Facebook and co to propose new friends to you.\n",
    "Again, graph level information can be crucial to perform this task.\n",
    "The output prediction is usually done by performing a similarity metric on the pair of node features,\n",
    "which should be 1 if there should be a link, and otherwise close to 0.\n",
    "To keep the tutorial short, we will not implement this task ourselves.\n",
    "Nevertheless, there are many good resources out there if you are interested in looking closer at this task.\n",
    "Tutorials and papers for this topic include:\n",
    "\n",
    "* [PyTorch Geometric example](https://github.com/rusty1s/pytorch_geometric/blob/master/examples/link_pred.py)\n",
    "* [Graph Neural Networks: A Review of Methods and Applications](https://arxiv.org/pdf/1812.08434.pdf), Zhou et al.\n",
    "2019\n",
    "* [Link Prediction Based on Graph Neural Networks](https://papers.nips.cc/paper/2018/file/53f0d7c537d99b3824f0f99d62ea2428-Paper.pdf), Zhang and Chen, 2018."
   ]
  },
  {
   "cell_type": "markdown",
   "id": "e8f00781",
   "metadata": {
    "papermill": {
     "duration": 0.03529,
     "end_time": "2021-08-03T21:10:36.319161",
     "exception": false,
     "start_time": "2021-08-03T21:10:36.283871",
     "status": "completed"
    },
    "tags": []
   },
   "source": [
    "### Graph-level tasks: Graph classification\n",
    "\n",
    "Finally, in this part of the tutorial, we will have a closer look at how to apply GNNs to the task of graph classification.\n",
    "The goal is to classify an entire graph instead of single nodes or edges.\n",
    "Therefore, we are also given a dataset of multiple graphs that we need to classify based on some structural graph properties.\n",
    "The most common task for graph classification is molecular property prediction, in which molecules are represented as graphs.\n",
    "Each atom is linked to a node, and edges in the graph are the bonds between atoms.\n",
    "For example, look at the figure below.\n",
    "\n",
    "<center width=\"100%\"><img src=\"https://github.com/PyTorchLightning/lightning-tutorials/raw/main/course_UvA-DL/graph-neural-networks/molecule_graph.svg\" width=\"600px\"></center>\n",
    "\n",
    "On the left, we have an arbitrary, small molecule with different atoms, whereas the right part of the image shows the graph representation.\n",
    "The atom types are abstracted as node features (e.g. a one-hot vector), and the different bond types are used as edge features.\n",
    "For simplicity, we will neglect the edge attributes in this tutorial, but you can include by using methods like the\n",
    "[Relational Graph Convolution](https://arxiv.org/abs/1703.06103) that uses a different weight matrix for each edge type.\n",
    "\n",
    "The dataset we will use below is called the MUTAG dataset.\n",
    "It is a common small benchmark for graph classification algorithms, and contain 188 graphs with 18 nodes\n",
    "and 20 edges on average for each graph.\n",
    "The graph nodes have 7 different labels/atom types, and the binary graph labels represent \"their mutagenic effect\n",
    "on a specific gram negative bacterium\" (the specific meaning of the labels are not too important here).\n",
    "The dataset is part of a large collection of different graph classification datasets, known as the\n",
    "[TUDatasets](https://chrsmrrs.github.io/datasets/), which is directly accessible\n",
    "via `torch_geometric.datasets.TUDataset` ([documentation](https://pytorch-geometric.readthedocs.io/en/latest/modules/datasets.html#torch_geometric.datasets.TUDataset)) in PyTorch Geometric.\n",
    "We can load the dataset below."
   ]
  },
  {
   "cell_type": "code",
   "execution_count": 19,
   "id": "977079d8",
   "metadata": {
    "execution": {
     "iopub.execute_input": "2021-08-03T21:10:36.390650Z",
     "iopub.status.busy": "2021-08-03T21:10:36.390150Z",
     "iopub.status.idle": "2021-08-03T21:10:37.018777Z",
     "shell.execute_reply": "2021-08-03T21:10:37.018292Z"
    },
    "papermill": {
     "duration": 0.664959,
     "end_time": "2021-08-03T21:10:37.018892",
     "exception": false,
     "start_time": "2021-08-03T21:10:36.353933",
     "status": "completed"
    },
    "tags": []
   },
   "outputs": [
    {
     "name": "stdout",
     "output_type": "stream",
     "text": [
      "Downloading https://www.chrsmrrs.com/graphkerneldatasets/MUTAG.zip\n"
     ]
    },
    {
     "name": "stdout",
     "output_type": "stream",
     "text": [
      "Extracting /__w/1/s/.datasets/MUTAG/MUTAG.zip\n",
      "Processing...\n",
      "Done!\n"
     ]
    }
   ],
   "source": [
    "tu_dataset = torch_geometric.datasets.TUDataset(root=DATASET_PATH, name=\"MUTAG\")"
   ]
  },
  {
   "cell_type": "markdown",
   "id": "31367b77",
   "metadata": {
    "papermill": {
     "duration": 0.034137,
     "end_time": "2021-08-03T21:10:37.085789",
     "exception": false,
     "start_time": "2021-08-03T21:10:37.051652",
     "status": "completed"
    },
    "tags": []
   },
   "source": [
    "Let's look at some statistics for the dataset:"
   ]
  },
  {
   "cell_type": "code",
   "execution_count": 20,
   "id": "e4081d9c",
   "metadata": {
    "execution": {
     "iopub.execute_input": "2021-08-03T21:10:37.154168Z",
     "iopub.status.busy": "2021-08-03T21:10:37.153703Z",
     "iopub.status.idle": "2021-08-03T21:10:37.157151Z",
     "shell.execute_reply": "2021-08-03T21:10:37.156754Z"
    },
    "papermill": {
     "duration": 0.039132,
     "end_time": "2021-08-03T21:10:37.157254",
     "exception": false,
     "start_time": "2021-08-03T21:10:37.118122",
     "status": "completed"
    },
    "tags": []
   },
   "outputs": [
    {
     "name": "stdout",
     "output_type": "stream",
     "text": [
      "Data object: Data(edge_attr=[7442, 4], edge_index=[2, 7442], x=[3371, 7], y=[188])\n",
      "Length: 188\n",
      "Average label: 0.66\n"
     ]
    }
   ],
   "source": [
    "print(\"Data object:\", tu_dataset.data)\n",
    "print(\"Length:\", len(tu_dataset))\n",
    "print(\"Average label: %4.2f\" % (tu_dataset.data.y.float().mean().item()))"
   ]
  },
  {
   "cell_type": "markdown",
   "id": "297a54a3",
   "metadata": {
    "papermill": {
     "duration": 0.032383,
     "end_time": "2021-08-03T21:10:37.222159",
     "exception": false,
     "start_time": "2021-08-03T21:10:37.189776",
     "status": "completed"
    },
    "tags": []
   },
   "source": [
    "The first line shows how the dataset stores different graphs.\n",
    "The nodes, edges, and labels of each graph are concatenated to one tensor, and the dataset stores the indices\n",
    "where to split the tensors correspondingly.\n",
    "The length of the dataset is the number of graphs we have, and the \"average label\"\n",
    "denotes the percentage of the graph with label 1.\n",
    "As long as the percentage is in the range of 0.5, we have a relatively balanced dataset.\n",
    "It happens quite often that graph datasets are very imbalanced, hence checking the class balance\n",
    "is always a good thing to do.\n",
    "\n",
    "Next, we will split our dataset into a training and test part.\n",
    "Note that we do not use a validation set this time because of the small size of the dataset.\n",
    "Therefore, our model might overfit slightly on the validation set due to the noise of the evaluation,\n",
    "but we still get an estimate of the performance on untrained data."
   ]
  },
  {
   "cell_type": "code",
   "execution_count": 21,
   "id": "879a1d4e",
   "metadata": {
    "execution": {
     "iopub.execute_input": "2021-08-03T21:10:37.290876Z",
     "iopub.status.busy": "2021-08-03T21:10:37.290416Z",
     "iopub.status.idle": "2021-08-03T21:10:37.292250Z",
     "shell.execute_reply": "2021-08-03T21:10:37.292622Z"
    },
    "papermill": {
     "duration": 0.038049,
     "end_time": "2021-08-03T21:10:37.292736",
     "exception": false,
     "start_time": "2021-08-03T21:10:37.254687",
     "status": "completed"
    },
    "tags": []
   },
   "outputs": [],
   "source": [
    "torch.manual_seed(42)\n",
    "tu_dataset.shuffle()\n",
    "train_dataset = tu_dataset[:150]\n",
    "test_dataset = tu_dataset[150:]"
   ]
  },
  {
   "cell_type": "markdown",
   "id": "38eb72d0",
   "metadata": {
    "papermill": {
     "duration": 0.032645,
     "end_time": "2021-08-03T21:10:37.360365",
     "exception": false,
     "start_time": "2021-08-03T21:10:37.327720",
     "status": "completed"
    },
    "tags": []
   },
   "source": [
    "When using a data loader, we encounter a problem with batching $N$ graphs.\n",
    "Each graph in the batch can have a different number of nodes and edges, and hence we would require a lot of padding to obtain a single tensor.\n",
    "Torch geometric uses a different, more efficient approach: we can view the $N$ graphs in a batch as a single large graph with concatenated node and edge list.\n",
    "As there is no edge between the $N$ graphs, running GNN layers on the large graph gives us the same output as running the GNN on each graph separately.\n",
    "Visually, this batching strategy is visualized below (figure credit - PyTorch Geometric team,\n",
    "[tutorial here](https://colab.research.google.com/drive/1I8a0DfQ3fI7Njc62__mVXUlcAleUclnb?usp=sharing#scrollTo=2owRWKcuoALo)).\n",
    "\n",
    "<center width=\"100%\"><img src=\"https://github.com/PyTorchLightning/lightning-tutorials/raw/main/course_UvA-DL/graph-neural-networks/torch_geometric_stacking_graphs.png\" width=\"600px\"></center>\n",
    "\n",
    "The adjacency matrix is zero for any nodes that come from two different graphs, and otherwise according to the adjacency matrix of the individual graph.\n",
    "Luckily, this strategy is already implemented in torch geometric, and hence we can use the corresponding data loader:"
   ]
  },
  {
   "cell_type": "code",
   "execution_count": 22,
   "id": "e46fdc57",
   "metadata": {
    "execution": {
     "iopub.execute_input": "2021-08-03T21:10:37.430533Z",
     "iopub.status.busy": "2021-08-03T21:10:37.430070Z",
     "iopub.status.idle": "2021-08-03T21:10:37.431789Z",
     "shell.execute_reply": "2021-08-03T21:10:37.432167Z"
    },
    "papermill": {
     "duration": 0.038912,
     "end_time": "2021-08-03T21:10:37.432288",
     "exception": false,
     "start_time": "2021-08-03T21:10:37.393376",
     "status": "completed"
    },
    "tags": []
   },
   "outputs": [],
   "source": [
    "graph_train_loader = geom_data.DataLoader(train_dataset, batch_size=BATCH_SIZE, shuffle=True)\n",
    "graph_val_loader = geom_data.DataLoader(\n",
    "    test_dataset, batch_size=BATCH_SIZE\n",
    ")  # Additional loader for a larger datasets\n",
    "graph_test_loader = geom_data.DataLoader(test_dataset, batch_size=BATCH_SIZE)"
   ]
  },
  {
   "cell_type": "markdown",
   "id": "d1992979",
   "metadata": {
    "papermill": {
     "duration": 0.032599,
     "end_time": "2021-08-03T21:10:37.498510",
     "exception": false,
     "start_time": "2021-08-03T21:10:37.465911",
     "status": "completed"
    },
    "tags": []
   },
   "source": [
    "Let's load a batch below to see the batching in action:"
   ]
  },
  {
   "cell_type": "code",
   "execution_count": 23,
   "id": "0defe5a5",
   "metadata": {
    "execution": {
     "iopub.execute_input": "2021-08-03T21:10:37.567405Z",
     "iopub.status.busy": "2021-08-03T21:10:37.566009Z",
     "iopub.status.idle": "2021-08-03T21:10:37.575411Z",
     "shell.execute_reply": "2021-08-03T21:10:37.574929Z"
    },
    "papermill": {
     "duration": 0.044153,
     "end_time": "2021-08-03T21:10:37.575515",
     "exception": false,
     "start_time": "2021-08-03T21:10:37.531362",
     "status": "completed"
    },
    "tags": []
   },
   "outputs": [
    {
     "name": "stdout",
     "output_type": "stream",
     "text": [
      "Batch: Batch(batch=[687], edge_attr=[1512, 4], edge_index=[2, 1512], ptr=[39], x=[687, 7], y=[38])\n",
      "Labels: tensor([1, 1, 1, 0, 0, 0, 1, 1, 1, 0])\n",
      "Batch indices: tensor([0, 0, 0, 0, 0, 0, 0, 0, 0, 0, 0, 0, 1, 1, 1, 1, 1, 1, 1, 1, 1, 1, 1, 1,\n",
      "        1, 1, 1, 1, 1, 1, 1, 1, 1, 1, 2, 2, 2, 2, 2, 2])\n"
     ]
    }
   ],
   "source": [
    "batch = next(iter(graph_test_loader))\n",
    "print(\"Batch:\", batch)\n",
    "print(\"Labels:\", batch.y[:10])\n",
    "print(\"Batch indices:\", batch.batch[:40])"
   ]
  },
  {
   "cell_type": "markdown",
   "id": "640d9895",
   "metadata": {
    "lines_to_next_cell": 2,
    "papermill": {
     "duration": 0.032928,
     "end_time": "2021-08-03T21:10:37.641425",
     "exception": false,
     "start_time": "2021-08-03T21:10:37.608497",
     "status": "completed"
    },
    "tags": []
   },
   "source": [
    "We have 38 graphs stacked together for the test dataset.\n",
    "The batch indices, stored in `batch`, show that the first 12 nodes belong to the first graph,\n",
    "the next 22 to the second graph, and so on.\n",
    "These indices are important for performing the final prediction.\n",
    "To perform a prediction over a whole graph, we usually perform a pooling operation over all nodes after running the GNN model.\n",
    "In this case, we will use the average pooling.\n",
    "Hence, we need to know which nodes should be included in which average pool.\n",
    "Using this pooling, we can already create our graph network below.\n",
    "Specifically, we re-use our class `GNNModel` from before,\n",
    "and simply add an average pool and single linear layer for the graph prediction task."
   ]
  },
  {
   "cell_type": "code",
   "execution_count": 24,
   "id": "e744cf3a",
   "metadata": {
    "execution": {
     "iopub.execute_input": "2021-08-03T21:10:37.712620Z",
     "iopub.status.busy": "2021-08-03T21:10:37.712150Z",
     "iopub.status.idle": "2021-08-03T21:10:37.714296Z",
     "shell.execute_reply": "2021-08-03T21:10:37.713836Z"
    },
    "lines_to_next_cell": 2,
    "papermill": {
     "duration": 0.040086,
     "end_time": "2021-08-03T21:10:37.714396",
     "exception": false,
     "start_time": "2021-08-03T21:10:37.674310",
     "status": "completed"
    },
    "tags": []
   },
   "outputs": [],
   "source": [
    "class GraphGNNModel(nn.Module):\n",
    "\n",
    "    def __init__(self, c_in, c_hidden, c_out, dp_rate_linear=0.5, **kwargs):\n",
    "        \"\"\"\n",
    "        Args:\n",
    "            c_in: Dimension of input features\n",
    "            c_hidden: Dimension of hidden features\n",
    "            c_out: Dimension of output features (usually number of classes)\n",
    "            dp_rate_linear: Dropout rate before the linear layer (usually much higher than inside the GNN)\n",
    "            kwargs: Additional arguments for the GNNModel object\n",
    "        \"\"\"\n",
    "        super().__init__()\n",
    "        self.GNN = GNNModel(\n",
    "            c_in=c_in,\n",
    "            c_hidden=c_hidden,\n",
    "            c_out=c_hidden,  # Not our prediction output yet!\n",
    "            **kwargs\n",
    "        )\n",
    "        self.head = nn.Sequential(nn.Dropout(dp_rate_linear), nn.Linear(c_hidden, c_out))\n",
    "\n",
    "    def forward(self, x, edge_index, batch_idx):\n",
    "        \"\"\"\n",
    "        Args:\n",
    "            x: Input features per node\n",
    "            edge_index: List of vertex index pairs representing the edges in the graph (PyTorch geometric notation)\n",
    "            batch_idx: Index of batch element for each node\n",
    "        \"\"\"\n",
    "        x = self.GNN(x, edge_index)\n",
    "        x = geom_nn.global_mean_pool(x, batch_idx)  # Average pooling\n",
    "        x = self.head(x)\n",
    "        return x"
   ]
  },
  {
   "cell_type": "markdown",
   "id": "05306b13",
   "metadata": {
    "lines_to_next_cell": 2,
    "papermill": {
     "duration": 0.042538,
     "end_time": "2021-08-03T21:10:37.790662",
     "exception": false,
     "start_time": "2021-08-03T21:10:37.748124",
     "status": "completed"
    },
    "tags": []
   },
   "source": [
    "Finally, we can create a PyTorch Lightning module to handle the training.\n",
    "It is similar to the modules we have seen before and does nothing surprising in terms of training.\n",
    "As we have a binary classification task, we use the Binary Cross Entropy loss."
   ]
  },
  {
   "cell_type": "code",
   "execution_count": 25,
   "id": "3e299725",
   "metadata": {
    "execution": {
     "iopub.execute_input": "2021-08-03T21:10:37.865391Z",
     "iopub.status.busy": "2021-08-03T21:10:37.864918Z",
     "iopub.status.idle": "2021-08-03T21:10:37.866994Z",
     "shell.execute_reply": "2021-08-03T21:10:37.866601Z"
    },
    "lines_to_next_cell": 2,
    "papermill": {
     "duration": 0.043253,
     "end_time": "2021-08-03T21:10:37.867097",
     "exception": false,
     "start_time": "2021-08-03T21:10:37.823844",
     "status": "completed"
    },
    "tags": []
   },
   "outputs": [],
   "source": [
    "class GraphLevelGNN(pl.LightningModule):\n",
    "\n",
    "    def __init__(self, **model_kwargs):\n",
    "        super().__init__()\n",
    "        # Saving hyperparameters\n",
    "        self.save_hyperparameters()\n",
    "\n",
    "        self.model = GraphGNNModel(**model_kwargs)\n",
    "        self.loss_module = nn.BCEWithLogitsLoss() if self.hparams.c_out == 1 else nn.CrossEntropyLoss()\n",
    "\n",
    "    def forward(self, data, mode=\"train\"):\n",
    "        x, edge_index, batch_idx = data.x, data.edge_index, data.batch\n",
    "        x = self.model(x, edge_index, batch_idx)\n",
    "        x = x.squeeze(dim=-1)\n",
    "\n",
    "        if self.hparams.c_out == 1:\n",
    "            preds = (x > 0).float()\n",
    "            data.y = data.y.float()\n",
    "        else:\n",
    "            preds = x.argmax(dim=-1)\n",
    "        loss = self.loss_module(x, data.y)\n",
    "        acc = (preds == data.y).sum().float() / preds.shape[0]\n",
    "        return loss, acc\n",
    "\n",
    "    def configure_optimizers(self):\n",
    "        # High lr because of small dataset and small model\n",
    "        optimizer = optim.AdamW(self.parameters(), lr=1e-2, weight_decay=0.0)\n",
    "        return optimizer\n",
    "\n",
    "    def training_step(self, batch, batch_idx):\n",
    "        loss, acc = self.forward(batch, mode=\"train\")\n",
    "        self.log('train_loss', loss)\n",
    "        self.log('train_acc', acc)\n",
    "        return loss\n",
    "\n",
    "    def validation_step(self, batch, batch_idx):\n",
    "        _, acc = self.forward(batch, mode=\"val\")\n",
    "        self.log('val_acc', acc)\n",
    "\n",
    "    def test_step(self, batch, batch_idx):\n",
    "        _, acc = self.forward(batch, mode=\"test\")\n",
    "        self.log('test_acc', acc)"
   ]
  },
  {
   "cell_type": "markdown",
   "id": "5edc1459",
   "metadata": {
    "lines_to_next_cell": 2,
    "papermill": {
     "duration": 0.033063,
     "end_time": "2021-08-03T21:10:37.933799",
     "exception": false,
     "start_time": "2021-08-03T21:10:37.900736",
     "status": "completed"
    },
    "tags": []
   },
   "source": [
    "Below we train the model on our dataset. It resembles the typical training functions we have seen so far."
   ]
  },
  {
   "cell_type": "code",
   "execution_count": 26,
   "id": "5eab94c8",
   "metadata": {
    "execution": {
     "iopub.execute_input": "2021-08-03T21:10:38.007043Z",
     "iopub.status.busy": "2021-08-03T21:10:38.006566Z",
     "iopub.status.idle": "2021-08-03T21:10:38.008673Z",
     "shell.execute_reply": "2021-08-03T21:10:38.008211Z"
    },
    "papermill": {
     "duration": 0.041777,
     "end_time": "2021-08-03T21:10:38.008774",
     "exception": false,
     "start_time": "2021-08-03T21:10:37.966997",
     "status": "completed"
    },
    "tags": []
   },
   "outputs": [],
   "source": [
    "def train_graph_classifier(model_name, **model_kwargs):\n",
    "    pl.seed_everything(42)\n",
    "\n",
    "    # Create a PyTorch Lightning trainer with the generation callback\n",
    "    root_dir = os.path.join(CHECKPOINT_PATH, \"GraphLevel\" + model_name)\n",
    "    os.makedirs(root_dir, exist_ok=True)\n",
    "    trainer = pl.Trainer(\n",
    "        default_root_dir=root_dir,\n",
    "        callbacks=[ModelCheckpoint(save_weights_only=True, mode=\"max\", monitor=\"val_acc\")],\n",
    "        gpus=AVAIL_GPUS,\n",
    "        max_epochs=500,\n",
    "        progress_bar_refresh_rate=0\n",
    "    )\n",
    "    trainer.logger._default_hp_metric = None\n",
    "\n",
    "    # Check whether pretrained model exists. If yes, load it and skip training\n",
    "    pretrained_filename = os.path.join(CHECKPOINT_PATH, \"GraphLevel%s.ckpt\" % model_name)\n",
    "    if os.path.isfile(pretrained_filename):\n",
    "        print(\"Found pretrained model, loading...\")\n",
    "        model = GraphLevelGNN.load_from_checkpoint(pretrained_filename)\n",
    "    else:\n",
    "        pl.seed_everything(42)\n",
    "        model = GraphLevelGNN(\n",
    "            c_in=tu_dataset.num_node_features,\n",
    "            c_out=1 if tu_dataset.num_classes == 2 else tu_dataset.num_classes,\n",
    "            **model_kwargs\n",
    "        )\n",
    "        trainer.fit(model, graph_train_loader, graph_val_loader)\n",
    "        model = GraphLevelGNN.load_from_checkpoint(trainer.checkpoint_callback.best_model_path)\n",
    "\n",
    "    # Test best model on validation and test set\n",
    "    train_result = trainer.test(model, test_dataloaders=graph_train_loader, verbose=False)\n",
    "    test_result = trainer.test(model, test_dataloaders=graph_test_loader, verbose=False)\n",
    "    result = {\"test\": test_result[0]['test_acc'], \"train\": train_result[0]['test_acc']}\n",
    "    return model, result"
   ]
  },
  {
   "cell_type": "markdown",
   "id": "30e19d24",
   "metadata": {
    "papermill": {
     "duration": 0.033348,
     "end_time": "2021-08-03T21:10:38.075710",
     "exception": false,
     "start_time": "2021-08-03T21:10:38.042362",
     "status": "completed"
    },
    "tags": []
   },
   "source": [
    "Finally, let's perform the training and testing.\n",
    "Feel free to experiment with different GNN layers, hyperparameters, etc."
   ]
  },
  {
   "cell_type": "code",
   "execution_count": 27,
   "id": "995a786e",
   "metadata": {
    "execution": {
     "iopub.execute_input": "2021-08-03T21:10:38.145793Z",
     "iopub.status.busy": "2021-08-03T21:10:38.145333Z",
     "iopub.status.idle": "2021-08-03T21:10:38.195334Z",
     "shell.execute_reply": "2021-08-03T21:10:38.195732Z"
    },
    "papermill": {
     "duration": 0.086812,
     "end_time": "2021-08-03T21:10:38.195860",
     "exception": false,
     "start_time": "2021-08-03T21:10:38.109048",
     "status": "completed"
    },
    "tags": []
   },
   "outputs": [
    {
     "name": "stderr",
     "output_type": "stream",
     "text": [
      "Global seed set to 42\n"
     ]
    },
    {
     "name": "stderr",
     "output_type": "stream",
     "text": [
      "GPU available: True, used: True\n"
     ]
    },
    {
     "name": "stderr",
     "output_type": "stream",
     "text": [
      "TPU available: False, using: 0 TPU cores\n"
     ]
    },
    {
     "name": "stderr",
     "output_type": "stream",
     "text": [
      "IPU available: False, using: 0 IPUs\n"
     ]
    },
    {
     "name": "stderr",
     "output_type": "stream",
     "text": [
      "LOCAL_RANK: 0 - CUDA_VISIBLE_DEVICES: [0,1]\n"
     ]
    },
    {
     "name": "stderr",
     "output_type": "stream",
     "text": [
      "Missing logger folder: saved_models/GNNs/GraphLevelGraphConv/lightning_logs\n"
     ]
    },
    {
     "name": "stderr",
     "output_type": "stream",
     "text": [
      "/home/AzDevOps_azpcontainer/.local/lib/python3.9/site-packages/pytorch_lightning/trainer/data_loading.py:372: UserWarning: Your test_dataloader has `shuffle=True`, it is best practice to turn this off for val/test/predict dataloaders.\n",
      "  rank_zero_warn(\n",
      "LOCAL_RANK: 0 - CUDA_VISIBLE_DEVICES: [0,1]\n"
     ]
    },
    {
     "name": "stdout",
     "output_type": "stream",
     "text": [
      "Found pretrained model, loading...\n"
     ]
    }
   ],
   "source": [
    "model, result = train_graph_classifier(\n",
    "    model_name=\"GraphConv\",\n",
    "    c_hidden=256,\n",
    "    layer_name=\"GraphConv\",\n",
    "    num_layers=3,\n",
    "    dp_rate_linear=0.5,\n",
    "    dp_rate=0.0\n",
    ")"
   ]
  },
  {
   "cell_type": "code",
   "execution_count": 28,
   "id": "b40bf741",
   "metadata": {
    "execution": {
     "iopub.execute_input": "2021-08-03T21:10:38.270199Z",
     "iopub.status.busy": "2021-08-03T21:10:38.269735Z",
     "iopub.status.idle": "2021-08-03T21:10:38.272155Z",
     "shell.execute_reply": "2021-08-03T21:10:38.272531Z"
    },
    "papermill": {
     "duration": 0.04166,
     "end_time": "2021-08-03T21:10:38.272652",
     "exception": false,
     "start_time": "2021-08-03T21:10:38.230992",
     "status": "completed"
    },
    "tags": []
   },
   "outputs": [
    {
     "name": "stdout",
     "output_type": "stream",
     "text": [
      "Train performance: 92.67%\n",
      "Test performance:  92.11%\n"
     ]
    }
   ],
   "source": [
    "print(\"Train performance: %4.2f%%\" % (100.0 * result['train']))\n",
    "print(\"Test performance:  %4.2f%%\" % (100.0 * result['test']))"
   ]
  },
  {
   "cell_type": "markdown",
   "id": "3e3f53f1",
   "metadata": {
    "papermill": {
     "duration": 0.03555,
     "end_time": "2021-08-03T21:10:38.343246",
     "exception": false,
     "start_time": "2021-08-03T21:10:38.307696",
     "status": "completed"
    },
    "tags": []
   },
   "source": [
    "The test performance shows that we obtain quite good scores on an unseen part of the dataset.\n",
    "It should be noted that as we have been using the test set for validation as well, we might have overfitted slightly to this set.\n",
    "Nevertheless, the experiment shows us that GNNs can be indeed powerful to predict the properties of graphs and/or molecules."
   ]
  },
  {
   "cell_type": "markdown",
   "id": "c63929a2",
   "metadata": {
    "papermill": {
     "duration": 0.034891,
     "end_time": "2021-08-03T21:10:38.413582",
     "exception": false,
     "start_time": "2021-08-03T21:10:38.378691",
     "status": "completed"
    },
    "tags": []
   },
   "source": [
    "## Conclusion\n",
    "\n",
    "In this tutorial, we have seen the application of neural networks to graph structures.\n",
    "We looked at how a graph can be represented (adjacency matrix or edge list),\n",
    "and discussed the implementation of common graph layers: GCN and GAT.\n",
    "The implementations showed the practical side of the layers, which is often easier than the theory.\n",
    "Finally, we experimented with different tasks, on node-, edge- and graph-level.\n",
    "Overall, we have seen that including graph information in the predictions can be crucial for achieving high performance.\n",
    "There are a lot of applications that benefit from GNNs,\n",
    "and the importance of these networks will likely increase over the next years."
   ]
  },
  {
   "cell_type": "markdown",
   "id": "a9cef9fd",
   "metadata": {
    "papermill": {
     "duration": 0.035431,
     "end_time": "2021-08-03T21:10:38.484270",
     "exception": false,
     "start_time": "2021-08-03T21:10:38.448839",
     "status": "completed"
    },
    "tags": []
   },
   "source": [
    "## Congratulations - Time to Join the Community!\n",
    "\n",
    "Congratulations on completing this notebook tutorial! If you enjoyed this and would like to join the Lightning\n",
    "movement, you can do so in the following ways!\n",
    "\n",
    "### Star [Lightning](https://github.com/PyTorchLightning/pytorch-lightning) on GitHub\n",
    "The easiest way to help our community is just by starring the GitHub repos! This helps raise awareness of the cool\n",
    "tools we're building.\n",
    "\n",
    "### Join our [Slack](https://join.slack.com/t/pytorch-lightning/shared_invite/zt-pw5v393p-qRaDgEk24~EjiZNBpSQFgQ)!\n",
    "The best way to keep up to date on the latest advancements is to join our community! Make sure to introduce yourself\n",
    "and share your interests in `#general` channel\n",
    "\n",
    "\n",
    "### Contributions !\n",
    "The best way to contribute to our community is to become a code contributor! At any time you can go to\n",
    "[Lightning](https://github.com/PyTorchLightning/pytorch-lightning) or [Bolt](https://github.com/PyTorchLightning/lightning-bolts)\n",
    "GitHub Issues page and filter for \"good first issue\".\n",
    "\n",
    "* [Lightning good first issue](https://github.com/PyTorchLightning/pytorch-lightning/issues?q=is%3Aopen+is%3Aissue+label%3A%22good+first+issue%22)\n",
    "* [Bolt good first issue](https://github.com/PyTorchLightning/lightning-bolts/issues?q=is%3Aopen+is%3Aissue+label%3A%22good+first+issue%22)\n",
    "* You can also contribute your own notebooks with useful examples !\n",
    "\n",
    "### Great thanks from the entire Pytorch Lightning Team for your interest !\n",
    "\n",
    "![Pytorch Lightning](data:image/png;base64,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){height=\"60px\" width=\"240px\"}"
   ]
  }
 ],
 "metadata": {
  "jupytext": {
   "cell_metadata_filter": "colab,colab_type,id,-all",
   "formats": "ipynb,py:percent",
   "main_language": "python"
  },
  "language_info": {
   "codemirror_mode": {
    "name": "ipython",
    "version": 3
   },
   "file_extension": ".py",
   "mimetype": "text/x-python",
   "name": "python",
   "nbconvert_exporter": "python",
   "pygments_lexer": "ipython3",
   "version": "3.9.6"
  },
  "papermill": {
   "default_parameters": {},
   "duration": 49.268813,
   "end_time": "2021-08-03T21:10:39.704330",
   "environment_variables": {},
   "exception": null,
   "input_path": "course_UvA-DL/graph-neural-networks/GNN_overview.ipynb",
   "output_path": ".notebooks/course_UvA-DL/graph-neural-networks.ipynb",
   "parameters": {},
   "start_time": "2021-08-03T21:09:50.435517",
   "version": "2.3.3"
  }
 },
 "nbformat": 4,
 "nbformat_minor": 5
}