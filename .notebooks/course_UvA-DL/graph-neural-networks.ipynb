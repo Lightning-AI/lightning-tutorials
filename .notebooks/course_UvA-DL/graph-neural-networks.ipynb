{
 "cells": [
  {
   "cell_type": "markdown",
   "id": "5943d24d",
   "metadata": {
    "papermill": {
     "duration": 0.025623,
     "end_time": "2021-09-14T22:57:14.910318",
     "exception": false,
     "start_time": "2021-09-14T22:57:14.884695",
     "status": "completed"
    },
    "tags": []
   },
   "source": [
    "\n",
    "# Basics of Graph Neural Networks\n",
    "\n",
    "* **Author:** Phillip Lippe\n",
    "* **License:** CC BY-SA\n",
    "* **Generated:** 2021-09-15T00:46:59.980722\n",
    "\n",
    "In this tutorial, we will discuss the application of neural networks on graphs.\n",
    "Graph Neural Networks (GNNs) have recently gained increasing popularity in both applications and research,\n",
    "including domains such as social networks, knowledge graphs, recommender systems, and bioinformatics.\n",
    "While the theory and math behind GNNs might first seem complicated,\n",
    "the implementation of those models is quite simple and helps in understanding the methodology.\n",
    "Therefore, we will discuss the implementation of basic network layers of a GNN,\n",
    "namely graph convolutions, and attention layers.\n",
    "Finally, we will apply a GNN on semi-supervised node classification and molecule categorization.\n",
    "This notebook is part of a lecture series on Deep Learning at the University of Amsterdam.\n",
    "The full list of tutorials can be found at https://uvadlc-notebooks.rtfd.io.\n",
    "\n",
    "\n",
    "---\n",
    "Open in [![Open In Colab](data:image/png;base64,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){height=\"20px\" width=\"117px\"}](https://colab.research.google.com/github/PytorchLightning/lightning-tutorials/blob/publication/.notebooks/course_UvA-DL/graph-neural-networks.ipynb)\n",
    "\n",
    "Give us a ⭐ [on Github](https://www.github.com/PytorchLightning/pytorch-lightning/)\n",
    "| Check out [the documentation](https://pytorch-lightning.readthedocs.io/en/latest/)\n",
    "| Join us [on Slack](https://join.slack.com/t/pytorch-lightning/shared_invite/zt-pw5v393p-qRaDgEk24~EjiZNBpSQFgQ)"
   ]
  },
  {
   "cell_type": "markdown",
   "id": "1dc0767e",
   "metadata": {
    "papermill": {
     "duration": 0.023743,
     "end_time": "2021-09-14T22:57:14.958391",
     "exception": false,
     "start_time": "2021-09-14T22:57:14.934648",
     "status": "completed"
    },
    "tags": []
   },
   "source": [
    "## Setup\n",
    "This notebook requires some packages besides pytorch-lightning."
   ]
  },
  {
   "cell_type": "code",
   "execution_count": 1,
   "id": "61d22a64",
   "metadata": {
    "colab": {},
    "colab_type": "code",
    "execution": {
     "iopub.execute_input": "2021-09-14T22:57:15.011296Z",
     "iopub.status.busy": "2021-09-14T22:57:15.010825Z",
     "iopub.status.idle": "2021-09-14T22:57:15.013345Z",
     "shell.execute_reply": "2021-09-14T22:57:15.012828Z"
    },
    "id": "LfrJLKPFyhsK",
    "lines_to_next_cell": 0,
    "papermill": {
     "duration": 0.029968,
     "end_time": "2021-09-14T22:57:15.013455",
     "exception": false,
     "start_time": "2021-09-14T22:57:14.983487",
     "status": "completed"
    },
    "tags": []
   },
   "outputs": [],
   "source": [
    "# ! pip install --quiet \"torch-cluster\" \"torch>=1.6, <1.9\" \"pytorch-lightning>=1.3\" \"torchmetrics>=0.3\" \"torch-scatter\" \"torch-spline-conv\" \"torch-sparse\" \"torch-geometric==1.7.2\""
   ]
  },
  {
   "cell_type": "markdown",
   "id": "b29457a8",
   "metadata": {
    "papermill": {
     "duration": 0.024147,
     "end_time": "2021-09-14T22:57:15.061980",
     "exception": false,
     "start_time": "2021-09-14T22:57:15.037833",
     "status": "completed"
    },
    "tags": []
   },
   "source": [
    "<iframe width=\"560\" height=\"315\" src=\"https://www.youtube.com/embed/fK7d56Ly9q8\" title=\"YouTube video player\" frameborder=\"0\" allow=\"accelerometer; autoplay; clipboard-write; encrypted-media; gyroscope; picture-in-picture\" allowfullscreen></iframe>\n",
    "We start by importing our standard libraries below."
   ]
  },
  {
   "cell_type": "code",
   "execution_count": 2,
   "id": "d03b9ae8",
   "metadata": {
    "execution": {
     "iopub.execute_input": "2021-09-14T22:57:15.118680Z",
     "iopub.status.busy": "2021-09-14T22:57:15.118206Z",
     "iopub.status.idle": "2021-09-14T22:57:16.941125Z",
     "shell.execute_reply": "2021-09-14T22:57:16.941516Z"
    },
    "papermill": {
     "duration": 1.855056,
     "end_time": "2021-09-14T22:57:16.941657",
     "exception": false,
     "start_time": "2021-09-14T22:57:15.086601",
     "status": "completed"
    },
    "tags": []
   },
   "outputs": [
    {
     "name": "stderr",
     "output_type": "stream",
     "text": [
      "Global seed set to 42\n"
     ]
    }
   ],
   "source": [
    "# Standard libraries\n",
    "import os\n",
    "\n",
    "# For downloading pre-trained models\n",
    "import urllib.request\n",
    "from urllib.error import HTTPError\n",
    "\n",
    "# PyTorch Lightning\n",
    "import pytorch_lightning as pl\n",
    "\n",
    "# PyTorch\n",
    "import torch\n",
    "import torch.nn as nn\n",
    "import torch.nn.functional as F\n",
    "import torch.optim as optim\n",
    "\n",
    "# PyTorch geometric\n",
    "import torch_geometric\n",
    "import torch_geometric.data as geom_data\n",
    "import torch_geometric.nn as geom_nn\n",
    "\n",
    "# PL callbacks\n",
    "from pytorch_lightning.callbacks import ModelCheckpoint\n",
    "\n",
    "AVAIL_GPUS = min(1, torch.cuda.device_count())\n",
    "BATCH_SIZE = 256 if AVAIL_GPUS else 64\n",
    "# Path to the folder where the datasets are/should be downloaded\n",
    "DATASET_PATH = os.environ.get(\"PATH_DATASETS\", \"data/\")\n",
    "# Path to the folder where the pretrained models are saved\n",
    "CHECKPOINT_PATH = os.environ.get(\"PATH_CHECKPOINT\", \"saved_models/GNNs/\")\n",
    "\n",
    "# Setting the seed\n",
    "pl.seed_everything(42)\n",
    "\n",
    "# Ensure that all operations are deterministic on GPU (if used) for reproducibility\n",
    "torch.backends.cudnn.determinstic = True\n",
    "torch.backends.cudnn.benchmark = False"
   ]
  },
  {
   "cell_type": "markdown",
   "id": "f40f8083",
   "metadata": {
    "papermill": {
     "duration": 0.024757,
     "end_time": "2021-09-14T22:57:16.992285",
     "exception": false,
     "start_time": "2021-09-14T22:57:16.967528",
     "status": "completed"
    },
    "tags": []
   },
   "source": [
    "We also have a few pre-trained models we download below."
   ]
  },
  {
   "cell_type": "code",
   "execution_count": 3,
   "id": "a5aeb0af",
   "metadata": {
    "execution": {
     "iopub.execute_input": "2021-09-14T22:57:17.047588Z",
     "iopub.status.busy": "2021-09-14T22:57:17.046296Z",
     "iopub.status.idle": "2021-09-14T22:57:17.381967Z",
     "shell.execute_reply": "2021-09-14T22:57:17.381534Z"
    },
    "papermill": {
     "duration": 0.365199,
     "end_time": "2021-09-14T22:57:17.382086",
     "exception": false,
     "start_time": "2021-09-14T22:57:17.016887",
     "status": "completed"
    },
    "tags": []
   },
   "outputs": [
    {
     "name": "stdout",
     "output_type": "stream",
     "text": [
      "Downloading https://raw.githubusercontent.com/phlippe/saved_models/main/tutorial7/NodeLevelMLP.ckpt...\n",
      "Downloading https://raw.githubusercontent.com/phlippe/saved_models/main/tutorial7/NodeLevelGNN.ckpt...\n",
      "Downloading https://raw.githubusercontent.com/phlippe/saved_models/main/tutorial7/GraphLevelGraphConv.ckpt...\n"
     ]
    }
   ],
   "source": [
    "# Github URL where saved models are stored for this tutorial\n",
    "base_url = \"https://raw.githubusercontent.com/phlippe/saved_models/main/tutorial7/\"\n",
    "# Files to download\n",
    "pretrained_files = [\"NodeLevelMLP.ckpt\", \"NodeLevelGNN.ckpt\", \"GraphLevelGraphConv.ckpt\"]\n",
    "\n",
    "# Create checkpoint path if it doesn't exist yet\n",
    "os.makedirs(CHECKPOINT_PATH, exist_ok=True)\n",
    "\n",
    "# For each file, check whether it already exists. If not, try downloading it.\n",
    "for file_name in pretrained_files:\n",
    "    file_path = os.path.join(CHECKPOINT_PATH, file_name)\n",
    "    if \"/\" in file_name:\n",
    "        os.makedirs(file_path.rsplit(\"/\", 1)[0], exist_ok=True)\n",
    "    if not os.path.isfile(file_path):\n",
    "        file_url = base_url + file_name\n",
    "        print(\"Downloading %s...\" % file_url)\n",
    "        try:\n",
    "            urllib.request.urlretrieve(file_url, file_path)\n",
    "        except HTTPError as e:\n",
    "            print(\n",
    "                \"Something went wrong. Please try to download the file from the GDrive folder,\"\n",
    "                \" or contact the author with the full output including the following error:\\n\",\n",
    "                e,\n",
    "            )"
   ]
  },
  {
   "cell_type": "markdown",
   "id": "aecf1c4f",
   "metadata": {
    "papermill": {
     "duration": 0.02464,
     "end_time": "2021-09-14T22:57:17.432161",
     "exception": false,
     "start_time": "2021-09-14T22:57:17.407521",
     "status": "completed"
    },
    "tags": []
   },
   "source": [
    "## Graph Neural Networks"
   ]
  },
  {
   "cell_type": "markdown",
   "id": "83b8aa5c",
   "metadata": {
    "papermill": {
     "duration": 0.024653,
     "end_time": "2021-09-14T22:57:17.481687",
     "exception": false,
     "start_time": "2021-09-14T22:57:17.457034",
     "status": "completed"
    },
    "tags": []
   },
   "source": [
    "### Graph representation\n",
    "\n",
    "Before starting the discussion of specific neural network operations on graphs, we should consider how to represent a graph.\n",
    "Mathematically, a graph $\\mathcal{G}$ is defined as a tuple of a set of nodes/vertices $V$, and a set of edges/links $E$: $\\mathcal{G}=(V,E)$.\n",
    "Each edge is a pair of two vertices, and represents a connection between them.\n",
    "For instance, let's look at the following graph:\n",
    "\n",
    "<center width=\"100%\" style=\"padding:10px\"><img src=\"https://github.com/PyTorchLightning/lightning-tutorials/raw/main/course_UvA-DL/graph-neural-networks/example_graph.svg\" width=\"250px\"></center>\n",
    "\n",
    "The vertices are $V=\\{1,2,3,4\\}$, and edges $E=\\{(1,2), (2,3), (2,4), (3,4)\\}$.\n",
    "Note that for simplicity, we assume the graph to be undirected and hence don't add mirrored pairs like $(2,1)$.\n",
    "In application, vertices and edge can often have specific attributes, and edges can even be directed.\n",
    "The question is how we could represent this diversity in an efficient way for matrix operations.\n",
    "Usually, for the edges, we decide between two variants: an adjacency matrix, or a list of paired vertex indices.\n",
    "\n",
    "The **adjacency matrix** $A$ is a square matrix whose elements indicate whether pairs of vertices are adjacent,\n",
    "i.e. connected, or not.\n",
    "In the simplest case, $A_{ij}$ is 1 if there is a connection from node $i$ to $j$, and otherwise 0.\n",
    "If we have edge attributes or different categories of edges in a graph, this information can be added to the matrix as well.\n",
    "For an undirected graph, keep in mind that $A$ is a symmetric matrix ($A_{ij}=A_{ji}$).\n",
    "For the example graph above, we have the following adjacency matrix:\n",
    "\n",
    "$$\n",
    "A = \\begin{bmatrix}\n",
    "    0 & 1 & 0 & 0\\\\\n",
    "    1 & 0 & 1 & 1\\\\\n",
    "    0 & 1 & 0 & 1\\\\\n",
    "    0 & 1 & 1 & 0\n",
    "\\end{bmatrix}\n",
    "$$\n",
    "\n",
    "While expressing a graph as a list of edges is more efficient in terms of memory and (possibly) computation,\n",
    "using an adjacency matrix is more intuitive and simpler to implement.\n",
    "In our implementations below, we will rely on the adjacency matrix to keep the code simple.\n",
    "However, common libraries use edge lists, which we will discuss later more.\n",
    "Alternatively, we could also use the list of edges to define a sparse adjacency matrix with which we can work\n",
    "as if it was a dense matrix, but allows more memory-efficient operations.\n",
    "PyTorch supports this with the sub-package `torch.sparse`\n",
    "([documentation](https://pytorch.org/docs/stable/sparse.html)) which is however still in a beta-stage\n",
    "(API might change in future)."
   ]
  },
  {
   "cell_type": "markdown",
   "id": "e6351200",
   "metadata": {
    "lines_to_next_cell": 2,
    "papermill": {
     "duration": 0.024756,
     "end_time": "2021-09-14T22:57:17.531902",
     "exception": false,
     "start_time": "2021-09-14T22:57:17.507146",
     "status": "completed"
    },
    "tags": []
   },
   "source": [
    "### Graph Convolutions\n",
    "\n",
    "Graph Convolutional Networks have been introduced by [Kipf et al. ](https://openreview.net/pdf?id=SJU4ayYgl)\n",
    "in 2016 at the University of Amsterdam.\n",
    "He also wrote a great [blog post](https://tkipf.github.io/graph-convolutional-networks/) about this topic,\n",
    "which is recommended if you want to read about GCNs from a different perspective.\n",
    "GCNs are similar to convolutions in images in the sense that the \"filter\" parameters are typically shared over all locations in the graph.\n",
    "At the same time, GCNs rely on message passing methods, which means that vertices exchange information with the neighbors,\n",
    "and send \"messages\" to each other.\n",
    "Before looking at the math, we can try to visually understand how GCNs work.\n",
    "The first step is that each node creates a feature vector that represents the message it wants to send to all its neighbors.\n",
    "In the second step, the messages are sent to the neighbors, so that a node receives one message per adjacent node.\n",
    "Below we have visualized the two steps for our example graph.\n",
    "\n",
    "<center width=\"100%\" style=\"padding:10px\"><img src=\"https://github.com/PyTorchLightning/lightning-tutorials/raw/main/course_UvA-DL/graph-neural-networks/graph_message_passing.svg\" width=\"700px\"></center>\n",
    "\n",
    "If we want to formulate that in more mathematical terms, we need to first decide how to combine\n",
    "all the messages a node receives.\n",
    "As the number of messages vary across nodes, we need an operation that works for any number.\n",
    "Hence, the usual way to go is to sum or take the mean.\n",
    "Given the previous features of nodes $H^{(l)}$, the GCN layer is defined as follows:\n",
    "\n",
    "$$H^{(l+1)} = \\sigma\\left(\\hat{D}^{-1/2}\\hat{A}\\hat{D}^{-1/2}H^{(l)}W^{(l)}\\right)$$\n",
    "\n",
    "$W^{(l)}$ is the weight parameters with which we transform the input features into messages ($H^{(l)}W^{(l)}$).\n",
    "To the adjacency matrix $A$ we add the identity matrix so that each node sends its own message also to itself:\n",
    "$\\hat{A}=A+I$.\n",
    "Finally, to take the average instead of summing, we calculate the matrix $\\hat{D}$ which is a diagonal\n",
    "matrix with $D_{ii}$ denoting the number of neighbors node $i$ has.\n",
    "$\\sigma$ represents an arbitrary activation function, and not necessarily the sigmoid (usually a ReLU-based\n",
    "activation function is used in GNNs).\n",
    "\n",
    "When implementing the GCN layer in PyTorch, we can take advantage of the flexible operations on tensors.\n",
    "Instead of defining a matrix $\\hat{D}$, we can simply divide the summed messages by the number of neighbors afterward.\n",
    "Additionally, we replace the weight matrix with a linear layer, which additionally allows us to add a bias.\n",
    "Written as a PyTorch module, the GCN layer is defined as follows:"
   ]
  },
  {
   "cell_type": "code",
   "execution_count": 4,
   "id": "2536f24d",
   "metadata": {
    "execution": {
     "iopub.execute_input": "2021-09-14T22:57:17.587340Z",
     "iopub.status.busy": "2021-09-14T22:57:17.586859Z",
     "iopub.status.idle": "2021-09-14T22:57:17.588883Z",
     "shell.execute_reply": "2021-09-14T22:57:17.588485Z"
    },
    "papermill": {
     "duration": 0.031987,
     "end_time": "2021-09-14T22:57:17.588981",
     "exception": false,
     "start_time": "2021-09-14T22:57:17.556994",
     "status": "completed"
    },
    "tags": []
   },
   "outputs": [],
   "source": [
    "class GCNLayer(nn.Module):\n",
    "    def __init__(self, c_in, c_out):\n",
    "        super().__init__()\n",
    "        self.projection = nn.Linear(c_in, c_out)\n",
    "\n",
    "    def forward(self, node_feats, adj_matrix):\n",
    "        \"\"\"\n",
    "        Args:\n",
    "            node_feats: Tensor with node features of shape [batch_size, num_nodes, c_in]\n",
    "            adj_matrix: Batch of adjacency matrices of the graph. If there is an edge from i to j,\n",
    "                         adj_matrix[b,i,j]=1 else 0. Supports directed edges by non-symmetric matrices.\n",
    "                         Assumes to already have added the identity connections.\n",
    "                         Shape: [batch_size, num_nodes, num_nodes]\n",
    "        \"\"\"\n",
    "        # Num neighbours = number of incoming edges\n",
    "        num_neighbours = adj_matrix.sum(dim=-1, keepdims=True)\n",
    "        node_feats = self.projection(node_feats)\n",
    "        node_feats = torch.bmm(adj_matrix, node_feats)\n",
    "        node_feats = node_feats / num_neighbours\n",
    "        return node_feats"
   ]
  },
  {
   "cell_type": "markdown",
   "id": "e01d5eb5",
   "metadata": {
    "papermill": {
     "duration": 0.02491,
     "end_time": "2021-09-14T22:57:17.638839",
     "exception": false,
     "start_time": "2021-09-14T22:57:17.613929",
     "status": "completed"
    },
    "tags": []
   },
   "source": [
    "To further understand the GCN layer, we can apply it to our example graph above.\n",
    "First, let's specify some node features and the adjacency matrix with added self-connections:"
   ]
  },
  {
   "cell_type": "code",
   "execution_count": 5,
   "id": "b62069f7",
   "metadata": {
    "execution": {
     "iopub.execute_input": "2021-09-14T22:57:17.694074Z",
     "iopub.status.busy": "2021-09-14T22:57:17.693597Z",
     "iopub.status.idle": "2021-09-14T22:57:17.698536Z",
     "shell.execute_reply": "2021-09-14T22:57:17.698069Z"
    },
    "papermill": {
     "duration": 0.034145,
     "end_time": "2021-09-14T22:57:17.698639",
     "exception": false,
     "start_time": "2021-09-14T22:57:17.664494",
     "status": "completed"
    },
    "tags": []
   },
   "outputs": [
    {
     "name": "stdout",
     "output_type": "stream",
     "text": [
      "Node features:\n",
      " tensor([[[0., 1.],\n",
      "         [2., 3.],\n",
      "         [4., 5.],\n",
      "         [6., 7.]]])\n",
      "\n",
      "Adjacency matrix:\n",
      " tensor([[[1., 1., 0., 0.],\n",
      "         [1., 1., 1., 1.],\n",
      "         [0., 1., 1., 1.],\n",
      "         [0., 1., 1., 1.]]])\n"
     ]
    }
   ],
   "source": [
    "node_feats = torch.arange(8, dtype=torch.float32).view(1, 4, 2)\n",
    "adj_matrix = torch.Tensor([[[1, 1, 0, 0], [1, 1, 1, 1], [0, 1, 1, 1], [0, 1, 1, 1]]])\n",
    "\n",
    "print(\"Node features:\\n\", node_feats)\n",
    "print(\"\\nAdjacency matrix:\\n\", adj_matrix)"
   ]
  },
  {
   "cell_type": "markdown",
   "id": "a273fa9d",
   "metadata": {
    "papermill": {
     "duration": 0.025352,
     "end_time": "2021-09-14T22:57:17.749338",
     "exception": false,
     "start_time": "2021-09-14T22:57:17.723986",
     "status": "completed"
    },
    "tags": []
   },
   "source": [
    "Next, let's apply a GCN layer to it.\n",
    "For simplicity, we initialize the linear weight matrix as an identity matrix so that the input features are equal to the messages.\n",
    "This makes it easier for us to verify the message passing operation."
   ]
  },
  {
   "cell_type": "code",
   "execution_count": 6,
   "id": "b8f374df",
   "metadata": {
    "execution": {
     "iopub.execute_input": "2021-09-14T22:57:17.804111Z",
     "iopub.status.busy": "2021-09-14T22:57:17.803560Z",
     "iopub.status.idle": "2021-09-14T22:57:17.808566Z",
     "shell.execute_reply": "2021-09-14T22:57:17.808949Z"
    },
    "papermill": {
     "duration": 0.03439,
     "end_time": "2021-09-14T22:57:17.809064",
     "exception": false,
     "start_time": "2021-09-14T22:57:17.774674",
     "status": "completed"
    },
    "tags": []
   },
   "outputs": [
    {
     "name": "stdout",
     "output_type": "stream",
     "text": [
      "Adjacency matrix tensor([[[1., 1., 0., 0.],\n",
      "         [1., 1., 1., 1.],\n",
      "         [0., 1., 1., 1.],\n",
      "         [0., 1., 1., 1.]]])\n",
      "Input features tensor([[[0., 1.],\n",
      "         [2., 3.],\n",
      "         [4., 5.],\n",
      "         [6., 7.]]])\n",
      "Output features tensor([[[1., 2.],\n",
      "         [3., 4.],\n",
      "         [4., 5.],\n",
      "         [4., 5.]]])\n"
     ]
    }
   ],
   "source": [
    "layer = GCNLayer(c_in=2, c_out=2)\n",
    "layer.projection.weight.data = torch.Tensor([[1.0, 0.0], [0.0, 1.0]])\n",
    "layer.projection.bias.data = torch.Tensor([0.0, 0.0])\n",
    "\n",
    "with torch.no_grad():\n",
    "    out_feats = layer(node_feats, adj_matrix)\n",
    "\n",
    "print(\"Adjacency matrix\", adj_matrix)\n",
    "print(\"Input features\", node_feats)\n",
    "print(\"Output features\", out_feats)"
   ]
  },
  {
   "cell_type": "markdown",
   "id": "39ec1cfb",
   "metadata": {
    "papermill": {
     "duration": 0.025529,
     "end_time": "2021-09-14T22:57:17.860868",
     "exception": false,
     "start_time": "2021-09-14T22:57:17.835339",
     "status": "completed"
    },
    "tags": []
   },
   "source": [
    "As we can see, the first node's output values are the average of itself and the second node.\n",
    "Similarly, we can verify all other nodes.\n",
    "However, in a GNN, we would also want to allow feature exchange between nodes beyond its neighbors.\n",
    "This can be achieved by applying multiple GCN layers, which gives us the final layout of a GNN.\n",
    "The GNN can be build up by a sequence of GCN layers and non-linearities such as ReLU.\n",
    "For a visualization, see below (figure credit - [Thomas Kipf, 2016](https://tkipf.github.io/graph-convolutional-networks/)).\n",
    "\n",
    "<center width=\"100%\" style=\"padding: 10px\"><img src=\"https://github.com/PyTorchLightning/lightning-tutorials/raw/main/course_UvA-DL/graph-neural-networks/gcn_network.png\" width=\"600px\"></center>\n",
    "\n",
    "However, one issue we can see from looking at the example above is that the output features for nodes 3 and 4 are\n",
    "the same because they have the same adjacent nodes (including itself).\n",
    "Therefore, GCN layers can make the network forget node-specific information if we just take a mean over all messages.\n",
    "Multiple possible improvements have been proposed.\n",
    "While the simplest option might be using residual connections, the more common approach is to either weigh\n",
    "the self-connections higher or define a separate weight matrix for the self-connections.\n",
    "Alternatively, we can use a  well-known concept: attention."
   ]
  },
  {
   "cell_type": "markdown",
   "id": "5437d199",
   "metadata": {
    "lines_to_next_cell": 2,
    "papermill": {
     "duration": 0.025573,
     "end_time": "2021-09-14T22:57:17.912016",
     "exception": false,
     "start_time": "2021-09-14T22:57:17.886443",
     "status": "completed"
    },
    "tags": []
   },
   "source": [
    "### Graph Attention\n",
    "\n",
    "Attention describes a weighted average of multiple elements with the weights dynamically computed based on an input\n",
    "query and elements' keys (if you don't know what attention is, it is recommended to at least go through\n",
    "the very first section called [What is Attention?](https://uvadlc-notebooks.readthedocs.io/en/latest/tutorial_notebooks/tutorial6/Transformers_and_MHAttention.html#What-is-Attention?)).\n",
    "This concept can be similarly applied to graphs, one of such is the Graph Attention Network\n",
    "(called GAT, proposed by [Velickovic et al., 2017](https://arxiv.org/abs/1710.10903)).\n",
    "Similarly to the GCN, the graph attention layer creates a message for each node using a linear layer/weight matrix.\n",
    "For the attention part, it uses the message from the node itself as a query, and the messages to average as both\n",
    "keys and values (note that this also includes the message to itself).\n",
    "The score function $f_{attn}$ is implemented as a one-layer MLP which maps the query and key to a single value.\n",
    "The MLP looks as follows (figure credit - [Velickovic et al. ](https://arxiv.org/abs/1710.10903)):\n",
    "\n",
    "<center width=\"100%\" style=\"padding:10px\"><img src=\"https://github.com/PyTorchLightning/lightning-tutorials/raw/main/course_UvA-DL/graph-neural-networks/graph_attention_MLP.svg\" width=\"250px\"></center>\n",
    "\n",
    "$h_i$ and $h_j$ are the original features from node $i$ and $j$ respectively, and represent the messages\n",
    "of the layer with $\\mathbf{W}$ as weight matrix.\n",
    "$\\mathbf{a}$ is the weight matrix of the MLP, which has the shape $[1,2\\times d_{\\text{message}}]$,\n",
    "and $\\alpha_{ij}$ the final attention weight from node $i$ to $j$.\n",
    "The calculation can be described as follows:\n",
    "\n",
    "$$\\alpha_{ij} = \\frac{\\exp\\left(\\text{LeakyReLU}\\left(\\mathbf{a}\\left[\\mathbf{W}h_i||\\mathbf{W}h_j\\right]\\right)\\right)}{\\sum_{k\\in\\mathcal{N}_i} \\exp\\left(\\text{LeakyReLU}\\left(\\mathbf{a}\\left[\\mathbf{W}h_i||\\mathbf{W}h_k\\right]\\right)\\right)}$$\n",
    "\n",
    "The operator $||$ represents the concatenation, and $\\mathcal{N}_i$ the indices of the neighbors of node $i$.\n",
    "Note that in contrast to usual practice, we apply a non-linearity (here LeakyReLU) before the softmax over elements.\n",
    "Although it seems like a minor change at first, it is crucial for the attention to depend on the original input.\n",
    "Specifically, let's remove the non-linearity for a second, and try to simplify the expression:\n",
    "\n",
    "$$\n",
    "\\begin{split}\n",
    "    \\alpha_{ij} & = \\frac{\\exp\\left(\\mathbf{a}\\left[\\mathbf{W}h_i||\\mathbf{W}h_j\\right]\\right)}{\\sum_{k\\in\\mathcal{N}_i} \\exp\\left(\\mathbf{a}\\left[\\mathbf{W}h_i||\\mathbf{W}h_k\\right]\\right)}\\\\[5pt]\n",
    "    & = \\frac{\\exp\\left(\\mathbf{a}_{:,:d/2}\\mathbf{W}h_i+\\mathbf{a}_{:,d/2:}\\mathbf{W}h_j\\right)}{\\sum_{k\\in\\mathcal{N}_i} \\exp\\left(\\mathbf{a}_{:,:d/2}\\mathbf{W}h_i+\\mathbf{a}_{:,d/2:}\\mathbf{W}h_k\\right)}\\\\[5pt]\n",
    "    & = \\frac{\\exp\\left(\\mathbf{a}_{:,:d/2}\\mathbf{W}h_i\\right)\\cdot\\exp\\left(\\mathbf{a}_{:,d/2:}\\mathbf{W}h_j\\right)}{\\sum_{k\\in\\mathcal{N}_i} \\exp\\left(\\mathbf{a}_{:,:d/2}\\mathbf{W}h_i\\right)\\cdot\\exp\\left(\\mathbf{a}_{:,d/2:}\\mathbf{W}h_k\\right)}\\\\[5pt]\n",
    "    & = \\frac{\\exp\\left(\\mathbf{a}_{:,d/2:}\\mathbf{W}h_j\\right)}{\\sum_{k\\in\\mathcal{N}_i} \\exp\\left(\\mathbf{a}_{:,d/2:}\\mathbf{W}h_k\\right)}\\\\\n",
    "\\end{split}\n",
    "$$\n",
    "\n",
    "We can see that without the non-linearity, the attention term with $h_i$ actually cancels itself out,\n",
    "resulting in the attention being independent of the node itself.\n",
    "Hence, we would have the same issue as the GCN of creating the same output features for nodes with the same neighbors.\n",
    "This is why the LeakyReLU is crucial and adds some dependency on $h_i$ to the attention.\n",
    "\n",
    "Once we obtain all attention factors, we can calculate the output features for each node by performing\n",
    "the weighted average:\n",
    "\n",
    "$$h_i'=\\sigma\\left(\\sum_{j\\in\\mathcal{N}_i}\\alpha_{ij}\\mathbf{W}h_j\\right)$$\n",
    "\n",
    "$\\sigma$ is yet another non-linearity, as in the GCN layer.\n",
    "Visually, we can represent the full message passing in an attention layer as follows\n",
    "(figure credit - [Velickovic et al. ](https://arxiv.org/abs/1710.10903)):\n",
    "\n",
    "<center width=\"100%\"><img src=\"https://github.com/PyTorchLightning/lightning-tutorials/raw/main/course_UvA-DL/graph-neural-networks/graph_attention.jpeg\" width=\"400px\"></center>\n",
    "\n",
    "To increase the expressiveness of the graph attention network, [Velickovic et al. ](https://arxiv.org/abs/1710.10903)\n",
    "proposed to extend it to multiple heads similar to the Multi-Head Attention block in Transformers.\n",
    "This results in $N$ attention layers being applied in parallel.\n",
    "In the image above, it is visualized as three different colors of arrows (green, blue, and purple)\n",
    "that are afterward concatenated.\n",
    "The average is only applied for the very final prediction layer in a network.\n",
    "\n",
    "After having discussed the graph attention layer in detail, we can implement it below:"
   ]
  },
  {
   "cell_type": "code",
   "execution_count": 7,
   "id": "4faa1a85",
   "metadata": {
    "execution": {
     "iopub.execute_input": "2021-09-14T22:57:17.973509Z",
     "iopub.status.busy": "2021-09-14T22:57:17.970193Z",
     "iopub.status.idle": "2021-09-14T22:57:17.975622Z",
     "shell.execute_reply": "2021-09-14T22:57:17.975220Z"
    },
    "papermill": {
     "duration": 0.038056,
     "end_time": "2021-09-14T22:57:17.975739",
     "exception": false,
     "start_time": "2021-09-14T22:57:17.937683",
     "status": "completed"
    },
    "tags": []
   },
   "outputs": [],
   "source": [
    "class GATLayer(nn.Module):\n",
    "    def __init__(self, c_in, c_out, num_heads=1, concat_heads=True, alpha=0.2):\n",
    "        \"\"\"\n",
    "        Args:\n",
    "            c_in: Dimensionality of input features\n",
    "            c_out: Dimensionality of output features\n",
    "            num_heads: Number of heads, i.e. attention mechanisms to apply in parallel. The\n",
    "                        output features are equally split up over the heads if concat_heads=True.\n",
    "            concat_heads: If True, the output of the different heads is concatenated instead of averaged.\n",
    "            alpha: Negative slope of the LeakyReLU activation.\n",
    "        \"\"\"\n",
    "        super().__init__()\n",
    "        self.num_heads = num_heads\n",
    "        self.concat_heads = concat_heads\n",
    "        if self.concat_heads:\n",
    "            assert c_out % num_heads == 0, \"Number of output features must be a multiple of the count of heads.\"\n",
    "            c_out = c_out // num_heads\n",
    "\n",
    "        # Sub-modules and parameters needed in the layer\n",
    "        self.projection = nn.Linear(c_in, c_out * num_heads)\n",
    "        self.a = nn.Parameter(torch.Tensor(num_heads, 2 * c_out))  # One per head\n",
    "        self.leakyrelu = nn.LeakyReLU(alpha)\n",
    "\n",
    "        # Initialization from the original implementation\n",
    "        nn.init.xavier_uniform_(self.projection.weight.data, gain=1.414)\n",
    "        nn.init.xavier_uniform_(self.a.data, gain=1.414)\n",
    "\n",
    "    def forward(self, node_feats, adj_matrix, print_attn_probs=False):\n",
    "        \"\"\"\n",
    "        Args:\n",
    "            node_feats: Input features of the node. Shape: [batch_size, c_in]\n",
    "            adj_matrix: Adjacency matrix including self-connections. Shape: [batch_size, num_nodes, num_nodes]\n",
    "            print_attn_probs: If True, the attention weights are printed during the forward pass\n",
    "                               (for debugging purposes)\n",
    "        \"\"\"\n",
    "        batch_size, num_nodes = node_feats.size(0), node_feats.size(1)\n",
    "\n",
    "        # Apply linear layer and sort nodes by head\n",
    "        node_feats = self.projection(node_feats)\n",
    "        node_feats = node_feats.view(batch_size, num_nodes, self.num_heads, -1)\n",
    "\n",
    "        # We need to calculate the attention logits for every edge in the adjacency matrix\n",
    "        # Doing this on all possible combinations of nodes is very expensive\n",
    "        # => Create a tensor of [W*h_i||W*h_j] with i and j being the indices of all edges\n",
    "        # Returns indices where the adjacency matrix is not 0 => edges\n",
    "        edges = adj_matrix.nonzero(as_tuple=False)\n",
    "        node_feats_flat = node_feats.view(batch_size * num_nodes, self.num_heads, -1)\n",
    "        edge_indices_row = edges[:, 0] * num_nodes + edges[:, 1]\n",
    "        edge_indices_col = edges[:, 0] * num_nodes + edges[:, 2]\n",
    "        a_input = torch.cat(\n",
    "            [\n",
    "                torch.index_select(input=node_feats_flat, index=edge_indices_row, dim=0),\n",
    "                torch.index_select(input=node_feats_flat, index=edge_indices_col, dim=0),\n",
    "            ],\n",
    "            dim=-1,\n",
    "        )  # Index select returns a tensor with node_feats_flat being indexed at the desired positions\n",
    "\n",
    "        # Calculate attention MLP output (independent for each head)\n",
    "        attn_logits = torch.einsum(\"bhc,hc->bh\", a_input, self.a)\n",
    "        attn_logits = self.leakyrelu(attn_logits)\n",
    "\n",
    "        # Map list of attention values back into a matrix\n",
    "        attn_matrix = attn_logits.new_zeros(adj_matrix.shape + (self.num_heads,)).fill_(-9e15)\n",
    "        attn_matrix[adj_matrix[..., None].repeat(1, 1, 1, self.num_heads) == 1] = attn_logits.reshape(-1)\n",
    "\n",
    "        # Weighted average of attention\n",
    "        attn_probs = F.softmax(attn_matrix, dim=2)\n",
    "        if print_attn_probs:\n",
    "            print(\"Attention probs\\n\", attn_probs.permute(0, 3, 1, 2))\n",
    "        node_feats = torch.einsum(\"bijh,bjhc->bihc\", attn_probs, node_feats)\n",
    "\n",
    "        # If heads should be concatenated, we can do this by reshaping. Otherwise, take mean\n",
    "        if self.concat_heads:\n",
    "            node_feats = node_feats.reshape(batch_size, num_nodes, -1)\n",
    "        else:\n",
    "            node_feats = node_feats.mean(dim=2)\n",
    "\n",
    "        return node_feats"
   ]
  },
  {
   "cell_type": "markdown",
   "id": "53564708",
   "metadata": {
    "papermill": {
     "duration": 0.02543,
     "end_time": "2021-09-14T22:57:18.027300",
     "exception": false,
     "start_time": "2021-09-14T22:57:18.001870",
     "status": "completed"
    },
    "tags": []
   },
   "source": [
    "Again, we can apply the graph attention layer on our example graph above to understand the dynamics better.\n",
    "As before, the input layer is initialized as an identity matrix, but we set $\\mathbf{a}$\n",
    "to be a vector of arbitrary numbers to obtain different attention values.\n",
    "We use two heads to show the parallel, independent attention mechanisms working in the layer."
   ]
  },
  {
   "cell_type": "code",
   "execution_count": 8,
   "id": "0dcf31bf",
   "metadata": {
    "execution": {
     "iopub.execute_input": "2021-09-14T22:57:18.083375Z",
     "iopub.status.busy": "2021-09-14T22:57:18.082904Z",
     "iopub.status.idle": "2021-09-14T22:57:18.090241Z",
     "shell.execute_reply": "2021-09-14T22:57:18.089837Z"
    },
    "papermill": {
     "duration": 0.037126,
     "end_time": "2021-09-14T22:57:18.090340",
     "exception": false,
     "start_time": "2021-09-14T22:57:18.053214",
     "status": "completed"
    },
    "tags": []
   },
   "outputs": [
    {
     "name": "stdout",
     "output_type": "stream",
     "text": [
      "Attention probs\n",
      " tensor([[[[0.3543, 0.6457, 0.0000, 0.0000],\n",
      "          [0.1096, 0.1450, 0.2642, 0.4813],\n",
      "          [0.0000, 0.1858, 0.2885, 0.5257],\n",
      "          [0.0000, 0.2391, 0.2696, 0.4913]],\n",
      "\n",
      "         [[0.5100, 0.4900, 0.0000, 0.0000],\n",
      "          [0.2975, 0.2436, 0.2340, 0.2249],\n",
      "          [0.0000, 0.3838, 0.3142, 0.3019],\n",
      "          [0.0000, 0.4018, 0.3289, 0.2693]]]])\n",
      "Adjacency matrix tensor([[[1., 1., 0., 0.],\n",
      "         [1., 1., 1., 1.],\n",
      "         [0., 1., 1., 1.],\n",
      "         [0., 1., 1., 1.]]])\n",
      "Input features tensor([[[0., 1.],\n",
      "         [2., 3.],\n",
      "         [4., 5.],\n",
      "         [6., 7.]]])\n",
      "Output features tensor([[[1.2913, 1.9800],\n",
      "         [4.2344, 3.7725],\n",
      "         [4.6798, 4.8362],\n",
      "         [4.5043, 4.7351]]])\n"
     ]
    }
   ],
   "source": [
    "layer = GATLayer(2, 2, num_heads=2)\n",
    "layer.projection.weight.data = torch.Tensor([[1.0, 0.0], [0.0, 1.0]])\n",
    "layer.projection.bias.data = torch.Tensor([0.0, 0.0])\n",
    "layer.a.data = torch.Tensor([[-0.2, 0.3], [0.1, -0.1]])\n",
    "\n",
    "with torch.no_grad():\n",
    "    out_feats = layer(node_feats, adj_matrix, print_attn_probs=True)\n",
    "\n",
    "print(\"Adjacency matrix\", adj_matrix)\n",
    "print(\"Input features\", node_feats)\n",
    "print(\"Output features\", out_feats)"
   ]
  },
  {
   "cell_type": "markdown",
   "id": "80067f1a",
   "metadata": {
    "papermill": {
     "duration": 0.026384,
     "end_time": "2021-09-14T22:57:18.142567",
     "exception": false,
     "start_time": "2021-09-14T22:57:18.116183",
     "status": "completed"
    },
    "tags": []
   },
   "source": [
    "We recommend that you try to calculate the attention matrix at least for one head and one node for yourself.\n",
    "The entries are 0 where there does not exist an edge between $i$ and $j$.\n",
    "For the others, we see a diverse set of attention probabilities.\n",
    "Moreover, the output features of node 3 and 4 are now different although they have the same neighbors."
   ]
  },
  {
   "cell_type": "markdown",
   "id": "acb91213",
   "metadata": {
    "papermill": {
     "duration": 0.025721,
     "end_time": "2021-09-14T22:57:18.194067",
     "exception": false,
     "start_time": "2021-09-14T22:57:18.168346",
     "status": "completed"
    },
    "tags": []
   },
   "source": [
    "## PyTorch Geometric\n",
    "\n",
    "We had mentioned before that implementing graph networks with adjacency matrix is simple and straight-forward\n",
    "but can be computationally expensive for large graphs.\n",
    "Many real-world graphs can reach over 200k nodes, for which adjacency matrix-based implementations fail.\n",
    "There are a lot of optimizations possible when implementing GNNs, and luckily, there exist packages that provide such layers.\n",
    "The most popular packages for PyTorch are [PyTorch Geometric](https://pytorch-geometric.readthedocs.io/en/latest/)\n",
    "and the [Deep Graph Library](https://www.dgl.ai/) (the latter being actually framework agnostic).\n",
    "Which one to use depends on the project you are planning to do and personal taste.\n",
    "In this tutorial, we will look at PyTorch Geometric as part of the PyTorch family.\n",
    "\n",
    "PyTorch Geometric provides us a set of common graph layers, including the GCN and GAT layer we implemented above.\n",
    "Additionally, similar to PyTorch's torchvision, it provides the common graph datasets and transformations\n",
    "on those to simplify training.\n",
    "Compared to our implementation above, PyTorch Geometric uses a list of index pairs to represent the edges.\n",
    "The details of this library will be explored further in our experiments.\n",
    "\n",
    "In our tasks below, we want to allow us to pick from a multitude of graph layers.\n",
    "Thus, we define again below a dictionary to access those using a string:"
   ]
  },
  {
   "cell_type": "code",
   "execution_count": 9,
   "id": "a5e63594",
   "metadata": {
    "execution": {
     "iopub.execute_input": "2021-09-14T22:57:18.249133Z",
     "iopub.status.busy": "2021-09-14T22:57:18.248665Z",
     "iopub.status.idle": "2021-09-14T22:57:18.250721Z",
     "shell.execute_reply": "2021-09-14T22:57:18.250325Z"
    },
    "papermill": {
     "duration": 0.030852,
     "end_time": "2021-09-14T22:57:18.250817",
     "exception": false,
     "start_time": "2021-09-14T22:57:18.219965",
     "status": "completed"
    },
    "tags": []
   },
   "outputs": [],
   "source": [
    "gnn_layer_by_name = {\"GCN\": geom_nn.GCNConv, \"GAT\": geom_nn.GATConv, \"GraphConv\": geom_nn.GraphConv}"
   ]
  },
  {
   "cell_type": "markdown",
   "id": "5b9bba84",
   "metadata": {
    "papermill": {
     "duration": 0.026677,
     "end_time": "2021-09-14T22:57:18.303684",
     "exception": false,
     "start_time": "2021-09-14T22:57:18.277007",
     "status": "completed"
    },
    "tags": []
   },
   "source": [
    "Additionally to GCN and GAT, we added the layer `geom_nn.GraphConv`\n",
    "([documentation](https://pytorch-geometric.readthedocs.io/en/latest/modules/nn.html#torch_geometric.nn.conv.GraphConv)).\n",
    "GraphConv is a GCN with a separate weight matrix for the self-connections.\n",
    "Mathematically, this would be:\n",
    "\n",
    "$$\n",
    "\\mathbf{x}_i^{(l+1)} = \\mathbf{W}^{(l + 1)}_1 \\mathbf{x}_i^{(l)} + \\mathbf{W}^{(\\ell + 1)}_2 \\sum_{j \\in \\mathcal{N}_i} \\mathbf{x}_j^{(l)}\n",
    "$$\n",
    "\n",
    "In this formula, the neighbor's messages are added instead of averaged.\n",
    "However, PyTorch Geometric provides the argument `aggr` to switch between summing, averaging, and max pooling."
   ]
  },
  {
   "cell_type": "markdown",
   "id": "3246a33d",
   "metadata": {
    "papermill": {
     "duration": 0.026071,
     "end_time": "2021-09-14T22:57:18.356048",
     "exception": false,
     "start_time": "2021-09-14T22:57:18.329977",
     "status": "completed"
    },
    "tags": []
   },
   "source": [
    "## Experiments on graph structures\n",
    "\n",
    "<iframe width=\"560\" height=\"315\" src=\"https://www.youtube.com/embed/ZCNSUWe4a_Q\" title=\"YouTube video player\" frameborder=\"0\" allow=\"accelerometer; autoplay; clipboard-write; encrypted-media; gyroscope; picture-in-picture\" allowfullscreen></iframe>\n",
    "\n",
    "Tasks on graph-structured data can be grouped into three groups: node-level, edge-level and graph-level.\n",
    "The different levels describe on which level we want to perform classification/regression.\n",
    "We will discuss all three types in more detail below."
   ]
  },
  {
   "cell_type": "markdown",
   "id": "a349026a",
   "metadata": {
    "papermill": {
     "duration": 0.027103,
     "end_time": "2021-09-14T22:57:18.409105",
     "exception": false,
     "start_time": "2021-09-14T22:57:18.382002",
     "status": "completed"
    },
    "tags": []
   },
   "source": [
    "### Node-level tasks: Semi-supervised node classification\n",
    "\n",
    "Node-level tasks have the goal to classify nodes in a graph.\n",
    "Usually, we have given a single, large graph with >1000 nodes of which a certain amount of nodes are labeled.\n",
    "We learn to classify those labeled examples during training and try to generalize to the unlabeled nodes.\n",
    "\n",
    "A popular example that we will use in this tutorial is the Cora dataset, a citation network among papers.\n",
    "The Cora consists of 2708 scientific publications with links between each other representing\n",
    "the citation of one paper by another.\n",
    "The task is to classify each publication into one of seven classes.\n",
    "Each publication is represented by a bag-of-words vector.\n",
    "This means that we have a vector of 1433 elements for each publication, where a 1 at feature $i$ indicates\n",
    "that the $i$-th word of a pre-defined dictionary is in the article.\n",
    "Binary bag-of-words representations are commonly used when we need very simple encodings,\n",
    "and already have an intuition of what words to expect in a network.\n",
    "There exist much better approaches, but we will leave this to the NLP courses to discuss.\n",
    "\n",
    "We will load the dataset below:"
   ]
  },
  {
   "cell_type": "code",
   "execution_count": 10,
   "id": "26d503b8",
   "metadata": {
    "execution": {
     "iopub.execute_input": "2021-09-14T22:57:18.464977Z",
     "iopub.status.busy": "2021-09-14T22:57:18.464507Z",
     "iopub.status.idle": "2021-09-14T22:57:20.064982Z",
     "shell.execute_reply": "2021-09-14T22:57:20.064505Z"
    },
    "papermill": {
     "duration": 1.6299,
     "end_time": "2021-09-14T22:57:20.065094",
     "exception": false,
     "start_time": "2021-09-14T22:57:18.435194",
     "status": "completed"
    },
    "tags": []
   },
   "outputs": [
    {
     "name": "stdout",
     "output_type": "stream",
     "text": [
      "Downloading https://github.com/kimiyoung/planetoid/raw/master/data/ind.cora.x\n",
      "Downloading https://github.com/kimiyoung/planetoid/raw/master/data/ind.cora.tx\n"
     ]
    },
    {
     "name": "stdout",
     "output_type": "stream",
     "text": [
      "Downloading https://github.com/kimiyoung/planetoid/raw/master/data/ind.cora.allx\n",
      "Downloading https://github.com/kimiyoung/planetoid/raw/master/data/ind.cora.y\n"
     ]
    },
    {
     "name": "stdout",
     "output_type": "stream",
     "text": [
      "Downloading https://github.com/kimiyoung/planetoid/raw/master/data/ind.cora.ty\n",
      "Downloading https://github.com/kimiyoung/planetoid/raw/master/data/ind.cora.ally\n"
     ]
    },
    {
     "name": "stdout",
     "output_type": "stream",
     "text": [
      "Downloading https://github.com/kimiyoung/planetoid/raw/master/data/ind.cora.graph\n",
      "Downloading https://github.com/kimiyoung/planetoid/raw/master/data/ind.cora.test.index\n"
     ]
    },
    {
     "name": "stdout",
     "output_type": "stream",
     "text": [
      "Processing...\n",
      "Done!\n"
     ]
    }
   ],
   "source": [
    "cora_dataset = torch_geometric.datasets.Planetoid(root=DATASET_PATH, name=\"Cora\")"
   ]
  },
  {
   "cell_type": "markdown",
   "id": "3d3a92f8",
   "metadata": {
    "papermill": {
     "duration": 0.026955,
     "end_time": "2021-09-14T22:57:20.119394",
     "exception": false,
     "start_time": "2021-09-14T22:57:20.092439",
     "status": "completed"
    },
    "tags": []
   },
   "source": [
    "Let's look at how PyTorch Geometric represents the graph data.\n",
    "Note that although we have a single graph, PyTorch Geometric returns a dataset for compatibility to other datasets."
   ]
  },
  {
   "cell_type": "code",
   "execution_count": 11,
   "id": "4b6cac8b",
   "metadata": {
    "execution": {
     "iopub.execute_input": "2021-09-14T22:57:20.181174Z",
     "iopub.status.busy": "2021-09-14T22:57:20.174793Z",
     "iopub.status.idle": "2021-09-14T22:57:20.183872Z",
     "shell.execute_reply": "2021-09-14T22:57:20.183380Z"
    },
    "papermill": {
     "duration": 0.037727,
     "end_time": "2021-09-14T22:57:20.183969",
     "exception": false,
     "start_time": "2021-09-14T22:57:20.146242",
     "status": "completed"
    },
    "tags": []
   },
   "outputs": [
    {
     "data": {
      "text/plain": [
       "Data(edge_index=[2, 10556], test_mask=[2708], train_mask=[2708], val_mask=[2708], x=[2708, 1433], y=[2708])"
      ]
     },
     "execution_count": 11,
     "metadata": {},
     "output_type": "execute_result"
    }
   ],
   "source": [
    "cora_dataset[0]"
   ]
  },
  {
   "cell_type": "markdown",
   "id": "e63472f0",
   "metadata": {
    "lines_to_next_cell": 2,
    "papermill": {
     "duration": 0.029568,
     "end_time": "2021-09-14T22:57:20.240803",
     "exception": false,
     "start_time": "2021-09-14T22:57:20.211235",
     "status": "completed"
    },
    "tags": []
   },
   "source": [
    "The graph is represented by a `Data` object\n",
    "([documentation](https://pytorch-geometric.readthedocs.io/en/latest/modules/data.html#torch_geometric.data.Data))\n",
    "which we can access as a standard Python namespace.\n",
    "The edge index tensor is the list of edges in the graph and contains the mirrored version of each edge for undirected graphs.\n",
    "The `train_mask`, `val_mask`, and `test_mask` are boolean masks that indicate which nodes we should use for training,\n",
    "validation, and testing.\n",
    "The `x` tensor is the feature tensor of our 2708 publications, and `y` the labels for all nodes.\n",
    "\n",
    "After having seen the data, we can implement a simple graph neural network.\n",
    "The GNN applies a sequence of graph layers (GCN, GAT, or GraphConv), ReLU as activation function,\n",
    "and dropout for regularization.\n",
    "See below for the specific implementation."
   ]
  },
  {
   "cell_type": "code",
   "execution_count": 12,
   "id": "6feecae1",
   "metadata": {
    "execution": {
     "iopub.execute_input": "2021-09-14T22:57:20.302058Z",
     "iopub.status.busy": "2021-09-14T22:57:20.301583Z",
     "iopub.status.idle": "2021-09-14T22:57:20.303712Z",
     "shell.execute_reply": "2021-09-14T22:57:20.303231Z"
    },
    "lines_to_next_cell": 2,
    "papermill": {
     "duration": 0.035722,
     "end_time": "2021-09-14T22:57:20.303837",
     "exception": false,
     "start_time": "2021-09-14T22:57:20.268115",
     "status": "completed"
    },
    "tags": []
   },
   "outputs": [],
   "source": [
    "class GNNModel(nn.Module):\n",
    "    def __init__(\n",
    "        self,\n",
    "        c_in,\n",
    "        c_hidden,\n",
    "        c_out,\n",
    "        num_layers=2,\n",
    "        layer_name=\"GCN\",\n",
    "        dp_rate=0.1,\n",
    "        **kwargs,\n",
    "    ):\n",
    "        \"\"\"\n",
    "        Args:\n",
    "            c_in: Dimension of input features\n",
    "            c_hidden: Dimension of hidden features\n",
    "            c_out: Dimension of the output features. Usually number of classes in classification\n",
    "            num_layers: Number of \"hidden\" graph layers\n",
    "            layer_name: String of the graph layer to use\n",
    "            dp_rate: Dropout rate to apply throughout the network\n",
    "            kwargs: Additional arguments for the graph layer (e.g. number of heads for GAT)\n",
    "        \"\"\"\n",
    "        super().__init__()\n",
    "        gnn_layer = gnn_layer_by_name[layer_name]\n",
    "\n",
    "        layers = []\n",
    "        in_channels, out_channels = c_in, c_hidden\n",
    "        for l_idx in range(num_layers - 1):\n",
    "            layers += [\n",
    "                gnn_layer(in_channels=in_channels, out_channels=out_channels, **kwargs),\n",
    "                nn.ReLU(inplace=True),\n",
    "                nn.Dropout(dp_rate),\n",
    "            ]\n",
    "            in_channels = c_hidden\n",
    "        layers += [gnn_layer(in_channels=in_channels, out_channels=c_out, **kwargs)]\n",
    "        self.layers = nn.ModuleList(layers)\n",
    "\n",
    "    def forward(self, x, edge_index):\n",
    "        \"\"\"\n",
    "        Args:\n",
    "            x: Input features per node\n",
    "            edge_index: List of vertex index pairs representing the edges in the graph (PyTorch geometric notation)\n",
    "        \"\"\"\n",
    "        for layer in self.layers:\n",
    "            # For graph layers, we need to add the \"edge_index\" tensor as additional input\n",
    "            # All PyTorch Geometric graph layer inherit the class \"MessagePassing\", hence\n",
    "            # we can simply check the class type.\n",
    "            if isinstance(layer, geom_nn.MessagePassing):\n",
    "                x = layer(x, edge_index)\n",
    "            else:\n",
    "                x = layer(x)\n",
    "        return x"
   ]
  },
  {
   "cell_type": "markdown",
   "id": "2d5aa953",
   "metadata": {
    "lines_to_next_cell": 2,
    "papermill": {
     "duration": 0.027322,
     "end_time": "2021-09-14T22:57:20.358625",
     "exception": false,
     "start_time": "2021-09-14T22:57:20.331303",
     "status": "completed"
    },
    "tags": []
   },
   "source": [
    "Good practice in node-level tasks is to create an MLP baseline that is applied to each node independently.\n",
    "This way we can verify whether adding the graph information to the model indeed improves the prediction, or not.\n",
    "It might also be that the features per node are already expressive enough to clearly point towards a specific class.\n",
    "To check this, we implement a simple MLP below."
   ]
  },
  {
   "cell_type": "code",
   "execution_count": 13,
   "id": "28e3af4e",
   "metadata": {
    "execution": {
     "iopub.execute_input": "2021-09-14T22:57:20.419135Z",
     "iopub.status.busy": "2021-09-14T22:57:20.418667Z",
     "iopub.status.idle": "2021-09-14T22:57:20.420720Z",
     "shell.execute_reply": "2021-09-14T22:57:20.420324Z"
    },
    "lines_to_next_cell": 2,
    "papermill": {
     "duration": 0.034792,
     "end_time": "2021-09-14T22:57:20.420813",
     "exception": false,
     "start_time": "2021-09-14T22:57:20.386021",
     "status": "completed"
    },
    "tags": []
   },
   "outputs": [],
   "source": [
    "class MLPModel(nn.Module):\n",
    "    def __init__(self, c_in, c_hidden, c_out, num_layers=2, dp_rate=0.1):\n",
    "        \"\"\"\n",
    "        Args:\n",
    "            c_in: Dimension of input features\n",
    "            c_hidden: Dimension of hidden features\n",
    "            c_out: Dimension of the output features. Usually number of classes in classification\n",
    "            num_layers: Number of hidden layers\n",
    "            dp_rate: Dropout rate to apply throughout the network\n",
    "        \"\"\"\n",
    "        super().__init__()\n",
    "        layers = []\n",
    "        in_channels, out_channels = c_in, c_hidden\n",
    "        for l_idx in range(num_layers - 1):\n",
    "            layers += [nn.Linear(in_channels, out_channels), nn.ReLU(inplace=True), nn.Dropout(dp_rate)]\n",
    "            in_channels = c_hidden\n",
    "        layers += [nn.Linear(in_channels, c_out)]\n",
    "        self.layers = nn.Sequential(*layers)\n",
    "\n",
    "    def forward(self, x, *args, **kwargs):\n",
    "        \"\"\"\n",
    "        Args:\n",
    "            x: Input features per node\n",
    "        \"\"\"\n",
    "        return self.layers(x)"
   ]
  },
  {
   "cell_type": "markdown",
   "id": "b8ad0bb3",
   "metadata": {
    "lines_to_next_cell": 2,
    "papermill": {
     "duration": 0.027289,
     "end_time": "2021-09-14T22:57:20.475462",
     "exception": false,
     "start_time": "2021-09-14T22:57:20.448173",
     "status": "completed"
    },
    "tags": []
   },
   "source": [
    "Finally, we can merge the models into a PyTorch Lightning module which handles the training,\n",
    "validation, and testing for us."
   ]
  },
  {
   "cell_type": "code",
   "execution_count": 14,
   "id": "9f3b2eef",
   "metadata": {
    "execution": {
     "iopub.execute_input": "2021-09-14T22:57:20.538521Z",
     "iopub.status.busy": "2021-09-14T22:57:20.538051Z",
     "iopub.status.idle": "2021-09-14T22:57:20.540099Z",
     "shell.execute_reply": "2021-09-14T22:57:20.539705Z"
    },
    "lines_to_next_cell": 2,
    "papermill": {
     "duration": 0.036915,
     "end_time": "2021-09-14T22:57:20.540193",
     "exception": false,
     "start_time": "2021-09-14T22:57:20.503278",
     "status": "completed"
    },
    "tags": []
   },
   "outputs": [],
   "source": [
    "class NodeLevelGNN(pl.LightningModule):\n",
    "    def __init__(self, model_name, **model_kwargs):\n",
    "        super().__init__()\n",
    "        # Saving hyperparameters\n",
    "        self.save_hyperparameters()\n",
    "\n",
    "        if model_name == \"MLP\":\n",
    "            self.model = MLPModel(**model_kwargs)\n",
    "        else:\n",
    "            self.model = GNNModel(**model_kwargs)\n",
    "        self.loss_module = nn.CrossEntropyLoss()\n",
    "\n",
    "    def forward(self, data, mode=\"train\"):\n",
    "        x, edge_index = data.x, data.edge_index\n",
    "        x = self.model(x, edge_index)\n",
    "\n",
    "        # Only calculate the loss on the nodes corresponding to the mask\n",
    "        if mode == \"train\":\n",
    "            mask = data.train_mask\n",
    "        elif mode == \"val\":\n",
    "            mask = data.val_mask\n",
    "        elif mode == \"test\":\n",
    "            mask = data.test_mask\n",
    "        else:\n",
    "            assert False, \"Unknown forward mode: %s\" % mode\n",
    "\n",
    "        loss = self.loss_module(x[mask], data.y[mask])\n",
    "        acc = (x[mask].argmax(dim=-1) == data.y[mask]).sum().float() / mask.sum()\n",
    "        return loss, acc\n",
    "\n",
    "    def configure_optimizers(self):\n",
    "        # We use SGD here, but Adam works as well\n",
    "        optimizer = optim.SGD(self.parameters(), lr=0.1, momentum=0.9, weight_decay=2e-3)\n",
    "        return optimizer\n",
    "\n",
    "    def training_step(self, batch, batch_idx):\n",
    "        loss, acc = self.forward(batch, mode=\"train\")\n",
    "        self.log(\"train_loss\", loss)\n",
    "        self.log(\"train_acc\", acc)\n",
    "        return loss\n",
    "\n",
    "    def validation_step(self, batch, batch_idx):\n",
    "        _, acc = self.forward(batch, mode=\"val\")\n",
    "        self.log(\"val_acc\", acc)\n",
    "\n",
    "    def test_step(self, batch, batch_idx):\n",
    "        _, acc = self.forward(batch, mode=\"test\")\n",
    "        self.log(\"test_acc\", acc)"
   ]
  },
  {
   "cell_type": "markdown",
   "id": "fa05e26a",
   "metadata": {
    "lines_to_next_cell": 2,
    "papermill": {
     "duration": 0.027655,
     "end_time": "2021-09-14T22:57:20.595118",
     "exception": false,
     "start_time": "2021-09-14T22:57:20.567463",
     "status": "completed"
    },
    "tags": []
   },
   "source": [
    "Additionally to the Lightning module, we define a training function below.\n",
    "As we have a single graph, we use a batch size of 1 for the data loader and share the same data loader for the train,\n",
    "validation, and test set (the mask is picked inside the Lightning module).\n",
    "Besides, we set the argument `progress_bar_refresh_rate` to zero as it usually shows the progress per epoch,\n",
    "but an epoch only consists of a single step.\n",
    "If you have downloaded the pre-trained models in the beginning of the tutorial, we load those instead of training from scratch.\n",
    "Finally, we test the model and return the results."
   ]
  },
  {
   "cell_type": "code",
   "execution_count": 15,
   "id": "bae0b761",
   "metadata": {
    "execution": {
     "iopub.execute_input": "2021-09-14T22:57:20.658498Z",
     "iopub.status.busy": "2021-09-14T22:57:20.658026Z",
     "iopub.status.idle": "2021-09-14T22:57:20.659623Z",
     "shell.execute_reply": "2021-09-14T22:57:20.660017Z"
    },
    "lines_to_next_cell": 2,
    "papermill": {
     "duration": 0.03734,
     "end_time": "2021-09-14T22:57:20.660126",
     "exception": false,
     "start_time": "2021-09-14T22:57:20.622786",
     "status": "completed"
    },
    "tags": []
   },
   "outputs": [],
   "source": [
    "def train_node_classifier(model_name, dataset, **model_kwargs):\n",
    "    pl.seed_everything(42)\n",
    "    node_data_loader = geom_data.DataLoader(dataset, batch_size=1)\n",
    "\n",
    "    # Create a PyTorch Lightning trainer\n",
    "    root_dir = os.path.join(CHECKPOINT_PATH, \"NodeLevel\" + model_name)\n",
    "    os.makedirs(root_dir, exist_ok=True)\n",
    "    trainer = pl.Trainer(\n",
    "        default_root_dir=root_dir,\n",
    "        callbacks=[ModelCheckpoint(save_weights_only=True, mode=\"max\", monitor=\"val_acc\")],\n",
    "        gpus=AVAIL_GPUS,\n",
    "        max_epochs=200,\n",
    "        progress_bar_refresh_rate=0,\n",
    "    )  # 0 because epoch size is 1\n",
    "    trainer.logger._default_hp_metric = None  # Optional logging argument that we don't need\n",
    "\n",
    "    # Check whether pretrained model exists. If yes, load it and skip training\n",
    "    pretrained_filename = os.path.join(CHECKPOINT_PATH, \"NodeLevel%s.ckpt\" % model_name)\n",
    "    if os.path.isfile(pretrained_filename):\n",
    "        print(\"Found pretrained model, loading...\")\n",
    "        model = NodeLevelGNN.load_from_checkpoint(pretrained_filename)\n",
    "    else:\n",
    "        pl.seed_everything()\n",
    "        model = NodeLevelGNN(\n",
    "            model_name=model_name, c_in=dataset.num_node_features, c_out=dataset.num_classes, **model_kwargs\n",
    "        )\n",
    "        trainer.fit(model, node_data_loader, node_data_loader)\n",
    "        model = NodeLevelGNN.load_from_checkpoint(trainer.checkpoint_callback.best_model_path)\n",
    "\n",
    "    # Test best model on the test set\n",
    "    test_result = trainer.test(model, test_dataloaders=node_data_loader, verbose=False)\n",
    "    batch = next(iter(node_data_loader))\n",
    "    batch = batch.to(model.device)\n",
    "    _, train_acc = model.forward(batch, mode=\"train\")\n",
    "    _, val_acc = model.forward(batch, mode=\"val\")\n",
    "    result = {\"train\": train_acc, \"val\": val_acc, \"test\": test_result[0][\"test_acc\"]}\n",
    "    return model, result"
   ]
  },
  {
   "cell_type": "markdown",
   "id": "5d84635a",
   "metadata": {
    "lines_to_next_cell": 2,
    "papermill": {
     "duration": 0.027822,
     "end_time": "2021-09-14T22:57:20.715367",
     "exception": false,
     "start_time": "2021-09-14T22:57:20.687545",
     "status": "completed"
    },
    "tags": []
   },
   "source": [
    "Now, we can train our models. First, let's train the simple MLP:"
   ]
  },
  {
   "cell_type": "code",
   "execution_count": 16,
   "id": "27f1807e",
   "metadata": {
    "execution": {
     "iopub.execute_input": "2021-09-14T22:57:20.774297Z",
     "iopub.status.busy": "2021-09-14T22:57:20.773830Z",
     "iopub.status.idle": "2021-09-14T22:57:20.775986Z",
     "shell.execute_reply": "2021-09-14T22:57:20.775574Z"
    },
    "papermill": {
     "duration": 0.033258,
     "end_time": "2021-09-14T22:57:20.776083",
     "exception": false,
     "start_time": "2021-09-14T22:57:20.742825",
     "status": "completed"
    },
    "tags": []
   },
   "outputs": [],
   "source": [
    "# Small function for printing the test scores\n",
    "def print_results(result_dict):\n",
    "    if \"train\" in result_dict:\n",
    "        print(\"Train accuracy: %4.2f%%\" % (100.0 * result_dict[\"train\"]))\n",
    "    if \"val\" in result_dict:\n",
    "        print(\"Val accuracy:   %4.2f%%\" % (100.0 * result_dict[\"val\"]))\n",
    "    print(\"Test accuracy:  %4.2f%%\" % (100.0 * result_dict[\"test\"]))"
   ]
  },
  {
   "cell_type": "code",
   "execution_count": 17,
   "id": "de2a8a7c",
   "metadata": {
    "execution": {
     "iopub.execute_input": "2021-09-14T22:57:20.834458Z",
     "iopub.status.busy": "2021-09-14T22:57:20.833992Z",
     "iopub.status.idle": "2021-09-14T22:57:23.541320Z",
     "shell.execute_reply": "2021-09-14T22:57:23.540845Z"
    },
    "papermill": {
     "duration": 2.737864,
     "end_time": "2021-09-14T22:57:23.541434",
     "exception": false,
     "start_time": "2021-09-14T22:57:20.803570",
     "status": "completed"
    },
    "tags": []
   },
   "outputs": [
    {
     "name": "stderr",
     "output_type": "stream",
     "text": [
      "Global seed set to 42\n"
     ]
    },
    {
     "name": "stderr",
     "output_type": "stream",
     "text": [
      "GPU available: True, used: True\n"
     ]
    },
    {
     "name": "stderr",
     "output_type": "stream",
     "text": [
      "TPU available: False, using: 0 TPU cores\n"
     ]
    },
    {
     "name": "stderr",
     "output_type": "stream",
     "text": [
      "IPU available: False, using: 0 IPUs\n"
     ]
    },
    {
     "name": "stderr",
     "output_type": "stream",
     "text": [
      "/home/AzDevOps_azpcontainer/.local/lib/python3.9/site-packages/pytorch_lightning/trainer/trainer.py:678: LightningDeprecationWarning: `trainer.test(test_dataloaders)` is deprecated in v1.4 and will be removed in v1.6. Use `trainer.test(dataloaders)` instead.\n",
      "  rank_zero_deprecation(\n",
      "LOCAL_RANK: 0 - CUDA_VISIBLE_DEVICES: [0,1]\n"
     ]
    },
    {
     "name": "stdout",
     "output_type": "stream",
     "text": [
      "Found pretrained model, loading...\n"
     ]
    },
    {
     "name": "stderr",
     "output_type": "stream",
     "text": [
      "Missing logger folder: saved_models/GNNs/NodeLevelMLP/lightning_logs\n"
     ]
    },
    {
     "name": "stdout",
     "output_type": "stream",
     "text": [
      "Train accuracy: 97.14%\n",
      "Val accuracy:   54.60%\n",
      "Test accuracy:  60.60%\n"
     ]
    },
    {
     "name": "stderr",
     "output_type": "stream",
     "text": [
      "/home/AzDevOps_azpcontainer/.local/lib/python3.9/site-packages/pytorch_lightning/trainer/data_loading.py:105: UserWarning: The dataloader, test dataloader 0, does not have many workers which may be a bottleneck. Consider increasing the value of the `num_workers` argument` (try 12 which is the number of cpus on this machine) in the `DataLoader` init to improve performance.\n",
      "  rank_zero_warn(\n"
     ]
    }
   ],
   "source": [
    "node_mlp_model, node_mlp_result = train_node_classifier(\n",
    "    model_name=\"MLP\", dataset=cora_dataset, c_hidden=16, num_layers=2, dp_rate=0.1\n",
    ")\n",
    "\n",
    "print_results(node_mlp_result)"
   ]
  },
  {
   "cell_type": "markdown",
   "id": "61040ce9",
   "metadata": {
    "papermill": {
     "duration": 0.030173,
     "end_time": "2021-09-14T22:57:23.608204",
     "exception": false,
     "start_time": "2021-09-14T22:57:23.578031",
     "status": "completed"
    },
    "tags": []
   },
   "source": [
    "Although the MLP can overfit on the training dataset because of the high-dimensional input features,\n",
    "it does not perform too well on the test set.\n",
    "Let's see if we can beat this score with our graph networks:"
   ]
  },
  {
   "cell_type": "code",
   "execution_count": 18,
   "id": "151bca0d",
   "metadata": {
    "execution": {
     "iopub.execute_input": "2021-09-14T22:57:23.671095Z",
     "iopub.status.busy": "2021-09-14T22:57:23.670626Z",
     "iopub.status.idle": "2021-09-14T22:57:23.706725Z",
     "shell.execute_reply": "2021-09-14T22:57:23.706295Z"
    },
    "papermill": {
     "duration": 0.069019,
     "end_time": "2021-09-14T22:57:23.706836",
     "exception": false,
     "start_time": "2021-09-14T22:57:23.637817",
     "status": "completed"
    },
    "tags": []
   },
   "outputs": [
    {
     "name": "stderr",
     "output_type": "stream",
     "text": [
      "Global seed set to 42\n"
     ]
    },
    {
     "name": "stderr",
     "output_type": "stream",
     "text": [
      "GPU available: True, used: True\n"
     ]
    },
    {
     "name": "stderr",
     "output_type": "stream",
     "text": [
      "TPU available: False, using: 0 TPU cores\n"
     ]
    },
    {
     "name": "stderr",
     "output_type": "stream",
     "text": [
      "IPU available: False, using: 0 IPUs\n"
     ]
    },
    {
     "name": "stderr",
     "output_type": "stream",
     "text": [
      "LOCAL_RANK: 0 - CUDA_VISIBLE_DEVICES: [0,1]\n"
     ]
    },
    {
     "name": "stderr",
     "output_type": "stream",
     "text": [
      "Missing logger folder: saved_models/GNNs/NodeLevelGNN/lightning_logs\n"
     ]
    },
    {
     "name": "stdout",
     "output_type": "stream",
     "text": [
      "Found pretrained model, loading...\n",
      "Train accuracy: 100.00%\n",
      "Val accuracy:   78.00%\n",
      "Test accuracy:  82.40%\n"
     ]
    }
   ],
   "source": [
    "node_gnn_model, node_gnn_result = train_node_classifier(\n",
    "    model_name=\"GNN\", layer_name=\"GCN\", dataset=cora_dataset, c_hidden=16, num_layers=2, dp_rate=0.1\n",
    ")\n",
    "print_results(node_gnn_result)"
   ]
  },
  {
   "cell_type": "markdown",
   "id": "a94c2609",
   "metadata": {
    "papermill": {
     "duration": 0.032882,
     "end_time": "2021-09-14T22:57:23.771483",
     "exception": false,
     "start_time": "2021-09-14T22:57:23.738601",
     "status": "completed"
    },
    "tags": []
   },
   "source": [
    "As we would have hoped for, the GNN model outperforms the MLP by quite a margin.\n",
    "This shows that using the graph information indeed improves our predictions and lets us generalizes better.\n",
    "\n",
    "The hyperparameters in the model have been chosen to create a relatively small network.\n",
    "This is because the first layer with an input dimension of 1433 can be relatively expensive to perform for large graphs.\n",
    "In general, GNNs can become relatively expensive for very big graphs.\n",
    "This is why such GNNs either have a small hidden size or use a special batching strategy\n",
    "where we sample a connected subgraph of the big, original graph."
   ]
  },
  {
   "cell_type": "markdown",
   "id": "61a2d0be",
   "metadata": {
    "papermill": {
     "duration": 0.031013,
     "end_time": "2021-09-14T22:57:23.833697",
     "exception": false,
     "start_time": "2021-09-14T22:57:23.802684",
     "status": "completed"
    },
    "tags": []
   },
   "source": [
    "### Edge-level tasks: Link prediction\n",
    "\n",
    "In some applications, we might have to predict on an edge-level instead of node-level.\n",
    "The most common edge-level task in GNN is link prediction.\n",
    "Link prediction means that given a graph, we want to predict whether there will be/should be an edge between two nodes or not.\n",
    "For example, in a social network, this is used by Facebook and co to propose new friends to you.\n",
    "Again, graph level information can be crucial to perform this task.\n",
    "The output prediction is usually done by performing a similarity metric on the pair of node features,\n",
    "which should be 1 if there should be a link, and otherwise close to 0.\n",
    "To keep the tutorial short, we will not implement this task ourselves.\n",
    "Nevertheless, there are many good resources out there if you are interested in looking closer at this task.\n",
    "Tutorials and papers for this topic include:\n",
    "\n",
    "* [PyTorch Geometric example](https://github.com/rusty1s/pytorch_geometric/blob/master/examples/link_pred.py)\n",
    "* [Graph Neural Networks: A Review of Methods and Applications](https://arxiv.org/pdf/1812.08434.pdf), Zhou et al.\n",
    "2019\n",
    "* [Link Prediction Based on Graph Neural Networks](https://papers.nips.cc/paper/2018/file/53f0d7c537d99b3824f0f99d62ea2428-Paper.pdf), Zhang and Chen, 2018."
   ]
  },
  {
   "cell_type": "markdown",
   "id": "8898bf07",
   "metadata": {
    "papermill": {
     "duration": 0.031532,
     "end_time": "2021-09-14T22:57:23.896359",
     "exception": false,
     "start_time": "2021-09-14T22:57:23.864827",
     "status": "completed"
    },
    "tags": []
   },
   "source": [
    "### Graph-level tasks: Graph classification\n",
    "\n",
    "Finally, in this part of the tutorial, we will have a closer look at how to apply GNNs to the task of graph classification.\n",
    "The goal is to classify an entire graph instead of single nodes or edges.\n",
    "Therefore, we are also given a dataset of multiple graphs that we need to classify based on some structural graph properties.\n",
    "The most common task for graph classification is molecular property prediction, in which molecules are represented as graphs.\n",
    "Each atom is linked to a node, and edges in the graph are the bonds between atoms.\n",
    "For example, look at the figure below.\n",
    "\n",
    "<center width=\"100%\"><img src=\"https://github.com/PyTorchLightning/lightning-tutorials/raw/main/course_UvA-DL/graph-neural-networks/molecule_graph.svg\" width=\"600px\"></center>\n",
    "\n",
    "On the left, we have an arbitrary, small molecule with different atoms, whereas the right part of the image shows the graph representation.\n",
    "The atom types are abstracted as node features (e.g. a one-hot vector), and the different bond types are used as edge features.\n",
    "For simplicity, we will neglect the edge attributes in this tutorial, but you can include by using methods like the\n",
    "[Relational Graph Convolution](https://arxiv.org/abs/1703.06103) that uses a different weight matrix for each edge type.\n",
    "\n",
    "The dataset we will use below is called the MUTAG dataset.\n",
    "It is a common small benchmark for graph classification algorithms, and contain 188 graphs with 18 nodes\n",
    "and 20 edges on average for each graph.\n",
    "The graph nodes have 7 different labels/atom types, and the binary graph labels represent \"their mutagenic effect\n",
    "on a specific gram negative bacterium\" (the specific meaning of the labels are not too important here).\n",
    "The dataset is part of a large collection of different graph classification datasets, known as the\n",
    "[TUDatasets](https://chrsmrrs.github.io/datasets/), which is directly accessible\n",
    "via `torch_geometric.datasets.TUDataset` ([documentation](https://pytorch-geometric.readthedocs.io/en/latest/modules/datasets.html#torch_geometric.datasets.TUDataset)) in PyTorch Geometric.\n",
    "We can load the dataset below."
   ]
  },
  {
   "cell_type": "code",
   "execution_count": 19,
   "id": "706dd7a5",
   "metadata": {
    "execution": {
     "iopub.execute_input": "2021-09-14T22:57:23.962320Z",
     "iopub.status.busy": "2021-09-14T22:57:23.961857Z",
     "iopub.status.idle": "2021-09-14T22:57:24.581542Z",
     "shell.execute_reply": "2021-09-14T22:57:24.581134Z"
    },
    "papermill": {
     "duration": 0.654116,
     "end_time": "2021-09-14T22:57:24.581652",
     "exception": false,
     "start_time": "2021-09-14T22:57:23.927536",
     "status": "completed"
    },
    "tags": []
   },
   "outputs": [
    {
     "name": "stdout",
     "output_type": "stream",
     "text": [
      "Downloading https://www.chrsmrrs.com/graphkerneldatasets/MUTAG.zip\n"
     ]
    },
    {
     "name": "stdout",
     "output_type": "stream",
     "text": [
      "Extracting /__w/2/s/.datasets/MUTAG/MUTAG.zip\n",
      "Processing...\n",
      "Done!\n"
     ]
    }
   ],
   "source": [
    "tu_dataset = torch_geometric.datasets.TUDataset(root=DATASET_PATH, name=\"MUTAG\")"
   ]
  },
  {
   "cell_type": "markdown",
   "id": "94960735",
   "metadata": {
    "papermill": {
     "duration": 0.031557,
     "end_time": "2021-09-14T22:57:24.645309",
     "exception": false,
     "start_time": "2021-09-14T22:57:24.613752",
     "status": "completed"
    },
    "tags": []
   },
   "source": [
    "Let's look at some statistics for the dataset:"
   ]
  },
  {
   "cell_type": "code",
   "execution_count": 20,
   "id": "f9c74a38",
   "metadata": {
    "execution": {
     "iopub.execute_input": "2021-09-14T22:57:24.712139Z",
     "iopub.status.busy": "2021-09-14T22:57:24.711650Z",
     "iopub.status.idle": "2021-09-14T22:57:24.714696Z",
     "shell.execute_reply": "2021-09-14T22:57:24.714236Z"
    },
    "papermill": {
     "duration": 0.037988,
     "end_time": "2021-09-14T22:57:24.714797",
     "exception": false,
     "start_time": "2021-09-14T22:57:24.676809",
     "status": "completed"
    },
    "tags": []
   },
   "outputs": [
    {
     "name": "stdout",
     "output_type": "stream",
     "text": [
      "Data object: Data(edge_attr=[7442, 4], edge_index=[2, 7442], x=[3371, 7], y=[188])\n",
      "Length: 188\n",
      "Average label: 0.66\n"
     ]
    }
   ],
   "source": [
    "print(\"Data object:\", tu_dataset.data)\n",
    "print(\"Length:\", len(tu_dataset))\n",
    "print(\"Average label: %4.2f\" % (tu_dataset.data.y.float().mean().item()))"
   ]
  },
  {
   "cell_type": "markdown",
   "id": "962359ec",
   "metadata": {
    "papermill": {
     "duration": 0.031745,
     "end_time": "2021-09-14T22:57:24.778525",
     "exception": false,
     "start_time": "2021-09-14T22:57:24.746780",
     "status": "completed"
    },
    "tags": []
   },
   "source": [
    "The first line shows how the dataset stores different graphs.\n",
    "The nodes, edges, and labels of each graph are concatenated to one tensor, and the dataset stores the indices\n",
    "where to split the tensors correspondingly.\n",
    "The length of the dataset is the number of graphs we have, and the \"average label\"\n",
    "denotes the percentage of the graph with label 1.\n",
    "As long as the percentage is in the range of 0.5, we have a relatively balanced dataset.\n",
    "It happens quite often that graph datasets are very imbalanced, hence checking the class balance\n",
    "is always a good thing to do.\n",
    "\n",
    "Next, we will split our dataset into a training and test part.\n",
    "Note that we do not use a validation set this time because of the small size of the dataset.\n",
    "Therefore, our model might overfit slightly on the validation set due to the noise of the evaluation,\n",
    "but we still get an estimate of the performance on untrained data."
   ]
  },
  {
   "cell_type": "code",
   "execution_count": 21,
   "id": "13d501c4",
   "metadata": {
    "execution": {
     "iopub.execute_input": "2021-09-14T22:57:24.845439Z",
     "iopub.status.busy": "2021-09-14T22:57:24.844976Z",
     "iopub.status.idle": "2021-09-14T22:57:24.847025Z",
     "shell.execute_reply": "2021-09-14T22:57:24.846632Z"
    },
    "papermill": {
     "duration": 0.036886,
     "end_time": "2021-09-14T22:57:24.847118",
     "exception": false,
     "start_time": "2021-09-14T22:57:24.810232",
     "status": "completed"
    },
    "tags": []
   },
   "outputs": [],
   "source": [
    "torch.manual_seed(42)\n",
    "tu_dataset.shuffle()\n",
    "train_dataset = tu_dataset[:150]\n",
    "test_dataset = tu_dataset[150:]"
   ]
  },
  {
   "cell_type": "markdown",
   "id": "a3c27d01",
   "metadata": {
    "papermill": {
     "duration": 0.031601,
     "end_time": "2021-09-14T22:57:24.910405",
     "exception": false,
     "start_time": "2021-09-14T22:57:24.878804",
     "status": "completed"
    },
    "tags": []
   },
   "source": [
    "When using a data loader, we encounter a problem with batching $N$ graphs.\n",
    "Each graph in the batch can have a different number of nodes and edges, and hence we would require a lot of padding to obtain a single tensor.\n",
    "Torch geometric uses a different, more efficient approach: we can view the $N$ graphs in a batch as a single large graph with concatenated node and edge list.\n",
    "As there is no edge between the $N$ graphs, running GNN layers on the large graph gives us the same output as running the GNN on each graph separately.\n",
    "Visually, this batching strategy is visualized below (figure credit - PyTorch Geometric team,\n",
    "[tutorial here](https://colab.research.google.com/drive/1I8a0DfQ3fI7Njc62__mVXUlcAleUclnb?usp=sharing#scrollTo=2owRWKcuoALo)).\n",
    "\n",
    "<center width=\"100%\"><img src=\"https://github.com/PyTorchLightning/lightning-tutorials/raw/main/course_UvA-DL/graph-neural-networks/torch_geometric_stacking_graphs.png\" width=\"600px\"></center>\n",
    "\n",
    "The adjacency matrix is zero for any nodes that come from two different graphs, and otherwise according to the adjacency matrix of the individual graph.\n",
    "Luckily, this strategy is already implemented in torch geometric, and hence we can use the corresponding data loader:"
   ]
  },
  {
   "cell_type": "code",
   "execution_count": 22,
   "id": "afacb461",
   "metadata": {
    "execution": {
     "iopub.execute_input": "2021-09-14T22:57:24.977199Z",
     "iopub.status.busy": "2021-09-14T22:57:24.976736Z",
     "iopub.status.idle": "2021-09-14T22:57:24.978731Z",
     "shell.execute_reply": "2021-09-14T22:57:24.978341Z"
    },
    "papermill": {
     "duration": 0.036802,
     "end_time": "2021-09-14T22:57:24.978826",
     "exception": false,
     "start_time": "2021-09-14T22:57:24.942024",
     "status": "completed"
    },
    "tags": []
   },
   "outputs": [],
   "source": [
    "graph_train_loader = geom_data.DataLoader(train_dataset, batch_size=BATCH_SIZE, shuffle=True)\n",
    "graph_val_loader = geom_data.DataLoader(test_dataset, batch_size=BATCH_SIZE)  # Additional loader for a larger datasets\n",
    "graph_test_loader = geom_data.DataLoader(test_dataset, batch_size=BATCH_SIZE)"
   ]
  },
  {
   "cell_type": "markdown",
   "id": "36e2cd43",
   "metadata": {
    "papermill": {
     "duration": 0.032335,
     "end_time": "2021-09-14T22:57:25.042958",
     "exception": false,
     "start_time": "2021-09-14T22:57:25.010623",
     "status": "completed"
    },
    "tags": []
   },
   "source": [
    "Let's load a batch below to see the batching in action:"
   ]
  },
  {
   "cell_type": "code",
   "execution_count": 23,
   "id": "b04dff0c",
   "metadata": {
    "execution": {
     "iopub.execute_input": "2021-09-14T22:57:25.111059Z",
     "iopub.status.busy": "2021-09-14T22:57:25.110596Z",
     "iopub.status.idle": "2021-09-14T22:57:25.118626Z",
     "shell.execute_reply": "2021-09-14T22:57:25.119002Z"
    },
    "papermill": {
     "duration": 0.044085,
     "end_time": "2021-09-14T22:57:25.119123",
     "exception": false,
     "start_time": "2021-09-14T22:57:25.075038",
     "status": "completed"
    },
    "tags": []
   },
   "outputs": [
    {
     "name": "stdout",
     "output_type": "stream",
     "text": [
      "Batch: Batch(batch=[687], edge_attr=[1512, 4], edge_index=[2, 1512], ptr=[39], x=[687, 7], y=[38])\n",
      "Labels: tensor([1, 1, 1, 0, 0, 0, 1, 1, 1, 0])\n",
      "Batch indices: tensor([0, 0, 0, 0, 0, 0, 0, 0, 0, 0, 0, 0, 1, 1, 1, 1, 1, 1, 1, 1, 1, 1, 1, 1,\n",
      "        1, 1, 1, 1, 1, 1, 1, 1, 1, 1, 2, 2, 2, 2, 2, 2])\n"
     ]
    }
   ],
   "source": [
    "batch = next(iter(graph_test_loader))\n",
    "print(\"Batch:\", batch)\n",
    "print(\"Labels:\", batch.y[:10])\n",
    "print(\"Batch indices:\", batch.batch[:40])"
   ]
  },
  {
   "cell_type": "markdown",
   "id": "2831974b",
   "metadata": {
    "lines_to_next_cell": 2,
    "papermill": {
     "duration": 0.032312,
     "end_time": "2021-09-14T22:57:25.183640",
     "exception": false,
     "start_time": "2021-09-14T22:57:25.151328",
     "status": "completed"
    },
    "tags": []
   },
   "source": [
    "We have 38 graphs stacked together for the test dataset.\n",
    "The batch indices, stored in `batch`, show that the first 12 nodes belong to the first graph,\n",
    "the next 22 to the second graph, and so on.\n",
    "These indices are important for performing the final prediction.\n",
    "To perform a prediction over a whole graph, we usually perform a pooling operation over all nodes after running the GNN model.\n",
    "In this case, we will use the average pooling.\n",
    "Hence, we need to know which nodes should be included in which average pool.\n",
    "Using this pooling, we can already create our graph network below.\n",
    "Specifically, we re-use our class `GNNModel` from before,\n",
    "and simply add an average pool and single linear layer for the graph prediction task."
   ]
  },
  {
   "cell_type": "code",
   "execution_count": 24,
   "id": "9861dc39",
   "metadata": {
    "execution": {
     "iopub.execute_input": "2021-09-14T22:57:25.253204Z",
     "iopub.status.busy": "2021-09-14T22:57:25.252730Z",
     "iopub.status.idle": "2021-09-14T22:57:25.254851Z",
     "shell.execute_reply": "2021-09-14T22:57:25.254391Z"
    },
    "lines_to_next_cell": 2,
    "papermill": {
     "duration": 0.039024,
     "end_time": "2021-09-14T22:57:25.254949",
     "exception": false,
     "start_time": "2021-09-14T22:57:25.215925",
     "status": "completed"
    },
    "tags": []
   },
   "outputs": [],
   "source": [
    "class GraphGNNModel(nn.Module):\n",
    "    def __init__(self, c_in, c_hidden, c_out, dp_rate_linear=0.5, **kwargs):\n",
    "        \"\"\"\n",
    "        Args:\n",
    "            c_in: Dimension of input features\n",
    "            c_hidden: Dimension of hidden features\n",
    "            c_out: Dimension of output features (usually number of classes)\n",
    "            dp_rate_linear: Dropout rate before the linear layer (usually much higher than inside the GNN)\n",
    "            kwargs: Additional arguments for the GNNModel object\n",
    "        \"\"\"\n",
    "        super().__init__()\n",
    "        self.GNN = GNNModel(c_in=c_in, c_hidden=c_hidden, c_out=c_hidden, **kwargs)  # Not our prediction output yet!\n",
    "        self.head = nn.Sequential(nn.Dropout(dp_rate_linear), nn.Linear(c_hidden, c_out))\n",
    "\n",
    "    def forward(self, x, edge_index, batch_idx):\n",
    "        \"\"\"\n",
    "        Args:\n",
    "            x: Input features per node\n",
    "            edge_index: List of vertex index pairs representing the edges in the graph (PyTorch geometric notation)\n",
    "            batch_idx: Index of batch element for each node\n",
    "        \"\"\"\n",
    "        x = self.GNN(x, edge_index)\n",
    "        x = geom_nn.global_mean_pool(x, batch_idx)  # Average pooling\n",
    "        x = self.head(x)\n",
    "        return x"
   ]
  },
  {
   "cell_type": "markdown",
   "id": "ff37b002",
   "metadata": {
    "lines_to_next_cell": 2,
    "papermill": {
     "duration": 0.032564,
     "end_time": "2021-09-14T22:57:25.319872",
     "exception": false,
     "start_time": "2021-09-14T22:57:25.287308",
     "status": "completed"
    },
    "tags": []
   },
   "source": [
    "Finally, we can create a PyTorch Lightning module to handle the training.\n",
    "It is similar to the modules we have seen before and does nothing surprising in terms of training.\n",
    "As we have a binary classification task, we use the Binary Cross Entropy loss."
   ]
  },
  {
   "cell_type": "code",
   "execution_count": 25,
   "id": "4cb60e44",
   "metadata": {
    "execution": {
     "iopub.execute_input": "2021-09-14T22:57:25.393018Z",
     "iopub.status.busy": "2021-09-14T22:57:25.387011Z",
     "iopub.status.idle": "2021-09-14T22:57:25.395049Z",
     "shell.execute_reply": "2021-09-14T22:57:25.394606Z"
    },
    "lines_to_next_cell": 2,
    "papermill": {
     "duration": 0.043006,
     "end_time": "2021-09-14T22:57:25.395149",
     "exception": false,
     "start_time": "2021-09-14T22:57:25.352143",
     "status": "completed"
    },
    "tags": []
   },
   "outputs": [],
   "source": [
    "class GraphLevelGNN(pl.LightningModule):\n",
    "    def __init__(self, **model_kwargs):\n",
    "        super().__init__()\n",
    "        # Saving hyperparameters\n",
    "        self.save_hyperparameters()\n",
    "\n",
    "        self.model = GraphGNNModel(**model_kwargs)\n",
    "        self.loss_module = nn.BCEWithLogitsLoss() if self.hparams.c_out == 1 else nn.CrossEntropyLoss()\n",
    "\n",
    "    def forward(self, data, mode=\"train\"):\n",
    "        x, edge_index, batch_idx = data.x, data.edge_index, data.batch\n",
    "        x = self.model(x, edge_index, batch_idx)\n",
    "        x = x.squeeze(dim=-1)\n",
    "\n",
    "        if self.hparams.c_out == 1:\n",
    "            preds = (x > 0).float()\n",
    "            data.y = data.y.float()\n",
    "        else:\n",
    "            preds = x.argmax(dim=-1)\n",
    "        loss = self.loss_module(x, data.y)\n",
    "        acc = (preds == data.y).sum().float() / preds.shape[0]\n",
    "        return loss, acc\n",
    "\n",
    "    def configure_optimizers(self):\n",
    "        # High lr because of small dataset and small model\n",
    "        optimizer = optim.AdamW(self.parameters(), lr=1e-2, weight_decay=0.0)\n",
    "        return optimizer\n",
    "\n",
    "    def training_step(self, batch, batch_idx):\n",
    "        loss, acc = self.forward(batch, mode=\"train\")\n",
    "        self.log(\"train_loss\", loss)\n",
    "        self.log(\"train_acc\", acc)\n",
    "        return loss\n",
    "\n",
    "    def validation_step(self, batch, batch_idx):\n",
    "        _, acc = self.forward(batch, mode=\"val\")\n",
    "        self.log(\"val_acc\", acc)\n",
    "\n",
    "    def test_step(self, batch, batch_idx):\n",
    "        _, acc = self.forward(batch, mode=\"test\")\n",
    "        self.log(\"test_acc\", acc)"
   ]
  },
  {
   "cell_type": "markdown",
   "id": "dd048c89",
   "metadata": {
    "lines_to_next_cell": 2,
    "papermill": {
     "duration": 0.032389,
     "end_time": "2021-09-14T22:57:25.459974",
     "exception": false,
     "start_time": "2021-09-14T22:57:25.427585",
     "status": "completed"
    },
    "tags": []
   },
   "source": [
    "Below we train the model on our dataset. It resembles the typical training functions we have seen so far."
   ]
  },
  {
   "cell_type": "code",
   "execution_count": 26,
   "id": "97a9d015",
   "metadata": {
    "execution": {
     "iopub.execute_input": "2021-09-14T22:57:25.531046Z",
     "iopub.status.busy": "2021-09-14T22:57:25.530572Z",
     "iopub.status.idle": "2021-09-14T22:57:25.532595Z",
     "shell.execute_reply": "2021-09-14T22:57:25.532141Z"
    },
    "papermill": {
     "duration": 0.040616,
     "end_time": "2021-09-14T22:57:25.532690",
     "exception": false,
     "start_time": "2021-09-14T22:57:25.492074",
     "status": "completed"
    },
    "tags": []
   },
   "outputs": [],
   "source": [
    "def train_graph_classifier(model_name, **model_kwargs):\n",
    "    pl.seed_everything(42)\n",
    "\n",
    "    # Create a PyTorch Lightning trainer with the generation callback\n",
    "    root_dir = os.path.join(CHECKPOINT_PATH, \"GraphLevel\" + model_name)\n",
    "    os.makedirs(root_dir, exist_ok=True)\n",
    "    trainer = pl.Trainer(\n",
    "        default_root_dir=root_dir,\n",
    "        callbacks=[ModelCheckpoint(save_weights_only=True, mode=\"max\", monitor=\"val_acc\")],\n",
    "        gpus=AVAIL_GPUS,\n",
    "        max_epochs=500,\n",
    "        progress_bar_refresh_rate=0,\n",
    "    )\n",
    "    trainer.logger._default_hp_metric = None\n",
    "\n",
    "    # Check whether pretrained model exists. If yes, load it and skip training\n",
    "    pretrained_filename = os.path.join(CHECKPOINT_PATH, \"GraphLevel%s.ckpt\" % model_name)\n",
    "    if os.path.isfile(pretrained_filename):\n",
    "        print(\"Found pretrained model, loading...\")\n",
    "        model = GraphLevelGNN.load_from_checkpoint(pretrained_filename)\n",
    "    else:\n",
    "        pl.seed_everything(42)\n",
    "        model = GraphLevelGNN(\n",
    "            c_in=tu_dataset.num_node_features,\n",
    "            c_out=1 if tu_dataset.num_classes == 2 else tu_dataset.num_classes,\n",
    "            **model_kwargs,\n",
    "        )\n",
    "        trainer.fit(model, graph_train_loader, graph_val_loader)\n",
    "        model = GraphLevelGNN.load_from_checkpoint(trainer.checkpoint_callback.best_model_path)\n",
    "\n",
    "    # Test best model on validation and test set\n",
    "    train_result = trainer.test(model, test_dataloaders=graph_train_loader, verbose=False)\n",
    "    test_result = trainer.test(model, test_dataloaders=graph_test_loader, verbose=False)\n",
    "    result = {\"test\": test_result[0][\"test_acc\"], \"train\": train_result[0][\"test_acc\"]}\n",
    "    return model, result"
   ]
  },
  {
   "cell_type": "markdown",
   "id": "c0e55de2",
   "metadata": {
    "papermill": {
     "duration": 0.032381,
     "end_time": "2021-09-14T22:57:25.597424",
     "exception": false,
     "start_time": "2021-09-14T22:57:25.565043",
     "status": "completed"
    },
    "tags": []
   },
   "source": [
    "Finally, let's perform the training and testing.\n",
    "Feel free to experiment with different GNN layers, hyperparameters, etc."
   ]
  },
  {
   "cell_type": "code",
   "execution_count": 27,
   "id": "c14d7e19",
   "metadata": {
    "execution": {
     "iopub.execute_input": "2021-09-14T22:57:25.666336Z",
     "iopub.status.busy": "2021-09-14T22:57:25.665867Z",
     "iopub.status.idle": "2021-09-14T22:57:25.717971Z",
     "shell.execute_reply": "2021-09-14T22:57:25.717560Z"
    },
    "papermill": {
     "duration": 0.088282,
     "end_time": "2021-09-14T22:57:25.718080",
     "exception": false,
     "start_time": "2021-09-14T22:57:25.629798",
     "status": "completed"
    },
    "tags": []
   },
   "outputs": [
    {
     "name": "stderr",
     "output_type": "stream",
     "text": [
      "Global seed set to 42\n"
     ]
    },
    {
     "name": "stderr",
     "output_type": "stream",
     "text": [
      "GPU available: True, used: True\n"
     ]
    },
    {
     "name": "stderr",
     "output_type": "stream",
     "text": [
      "TPU available: False, using: 0 TPU cores\n"
     ]
    },
    {
     "name": "stderr",
     "output_type": "stream",
     "text": [
      "IPU available: False, using: 0 IPUs\n"
     ]
    },
    {
     "name": "stderr",
     "output_type": "stream",
     "text": [
      "LOCAL_RANK: 0 - CUDA_VISIBLE_DEVICES: [0,1]\n"
     ]
    },
    {
     "name": "stderr",
     "output_type": "stream",
     "text": [
      "Missing logger folder: saved_models/GNNs/GraphLevelGraphConv/lightning_logs\n"
     ]
    },
    {
     "name": "stderr",
     "output_type": "stream",
     "text": [
      "/home/AzDevOps_azpcontainer/.local/lib/python3.9/site-packages/pytorch_lightning/trainer/data_loading.py:372: UserWarning: Your test_dataloader has `shuffle=True`, it is best practice to turn this off for val/test/predict dataloaders.\n",
      "  rank_zero_warn(\n",
      "LOCAL_RANK: 0 - CUDA_VISIBLE_DEVICES: [0,1]\n"
     ]
    },
    {
     "name": "stdout",
     "output_type": "stream",
     "text": [
      "Found pretrained model, loading...\n"
     ]
    }
   ],
   "source": [
    "model, result = train_graph_classifier(\n",
    "    model_name=\"GraphConv\", c_hidden=256, layer_name=\"GraphConv\", num_layers=3, dp_rate_linear=0.5, dp_rate=0.0\n",
    ")"
   ]
  },
  {
   "cell_type": "code",
   "execution_count": 28,
   "id": "8c57f9b6",
   "metadata": {
    "execution": {
     "iopub.execute_input": "2021-09-14T22:57:25.790190Z",
     "iopub.status.busy": "2021-09-14T22:57:25.789731Z",
     "iopub.status.idle": "2021-09-14T22:57:25.792245Z",
     "shell.execute_reply": "2021-09-14T22:57:25.791855Z"
    },
    "papermill": {
     "duration": 0.039688,
     "end_time": "2021-09-14T22:57:25.792338",
     "exception": false,
     "start_time": "2021-09-14T22:57:25.752650",
     "status": "completed"
    },
    "tags": []
   },
   "outputs": [
    {
     "name": "stdout",
     "output_type": "stream",
     "text": [
      "Train performance: 92.67%\n",
      "Test performance:  92.11%\n"
     ]
    }
   ],
   "source": [
    "print(\"Train performance: %4.2f%%\" % (100.0 * result[\"train\"]))\n",
    "print(\"Test performance:  %4.2f%%\" % (100.0 * result[\"test\"]))"
   ]
  },
  {
   "cell_type": "markdown",
   "id": "a999d9f7",
   "metadata": {
    "papermill": {
     "duration": 0.034356,
     "end_time": "2021-09-14T22:57:25.861114",
     "exception": false,
     "start_time": "2021-09-14T22:57:25.826758",
     "status": "completed"
    },
    "tags": []
   },
   "source": [
    "The test performance shows that we obtain quite good scores on an unseen part of the dataset.\n",
    "It should be noted that as we have been using the test set for validation as well, we might have overfitted slightly to this set.\n",
    "Nevertheless, the experiment shows us that GNNs can be indeed powerful to predict the properties of graphs and/or molecules."
   ]
  },
  {
   "cell_type": "markdown",
   "id": "e89ec33b",
   "metadata": {
    "papermill": {
     "duration": 0.034609,
     "end_time": "2021-09-14T22:57:25.930229",
     "exception": false,
     "start_time": "2021-09-14T22:57:25.895620",
     "status": "completed"
    },
    "tags": []
   },
   "source": [
    "## Conclusion\n",
    "\n",
    "In this tutorial, we have seen the application of neural networks to graph structures.\n",
    "We looked at how a graph can be represented (adjacency matrix or edge list),\n",
    "and discussed the implementation of common graph layers: GCN and GAT.\n",
    "The implementations showed the practical side of the layers, which is often easier than the theory.\n",
    "Finally, we experimented with different tasks, on node-, edge- and graph-level.\n",
    "Overall, we have seen that including graph information in the predictions can be crucial for achieving high performance.\n",
    "There are a lot of applications that benefit from GNNs,\n",
    "and the importance of these networks will likely increase over the next years."
   ]
  },
  {
   "cell_type": "markdown",
   "id": "017403db",
   "metadata": {
    "papermill": {
     "duration": 0.034366,
     "end_time": "2021-09-14T22:57:25.999366",
     "exception": false,
     "start_time": "2021-09-14T22:57:25.965000",
     "status": "completed"
    },
    "tags": []
   },
   "source": [
    "## Congratulations - Time to Join the Community!\n",
    "\n",
    "Congratulations on completing this notebook tutorial! If you enjoyed this and would like to join the Lightning\n",
    "movement, you can do so in the following ways!\n",
    "\n",
    "### Star [Lightning](https://github.com/PyTorchLightning/pytorch-lightning) on GitHub\n",
    "The easiest way to help our community is just by starring the GitHub repos! This helps raise awareness of the cool\n",
    "tools we're building.\n",
    "\n",
    "### Join our [Slack](https://join.slack.com/t/pytorch-lightning/shared_invite/zt-pw5v393p-qRaDgEk24~EjiZNBpSQFgQ)!\n",
    "The best way to keep up to date on the latest advancements is to join our community! Make sure to introduce yourself\n",
    "and share your interests in `#general` channel\n",
    "\n",
    "\n",
    "### Contributions !\n",
    "The best way to contribute to our community is to become a code contributor! At any time you can go to\n",
    "[Lightning](https://github.com/PyTorchLightning/pytorch-lightning) or [Bolt](https://github.com/PyTorchLightning/lightning-bolts)\n",
    "GitHub Issues page and filter for \"good first issue\".\n",
    "\n",
    "* [Lightning good first issue](https://github.com/PyTorchLightning/pytorch-lightning/issues?q=is%3Aopen+is%3Aissue+label%3A%22good+first+issue%22)\n",
    "* [Bolt good first issue](https://github.com/PyTorchLightning/lightning-bolts/issues?q=is%3Aopen+is%3Aissue+label%3A%22good+first+issue%22)\n",
    "* You can also contribute your own notebooks with useful examples !\n",
    "\n",
    "### Great thanks from the entire Pytorch Lightning Team for your interest !\n",
    "\n",
    "![Pytorch Lightning](data:image/png;base64,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){height=\"60px\" width=\"240px\"}"
   ]
  }
 ],
 "metadata": {
  "jupytext": {
   "cell_metadata_filter": "colab_type,colab,id,-all",
   "formats": "ipynb,py:percent",
   "main_language": "python"
  },
  "language_info": {
   "codemirror_mode": {
    "name": "ipython",
    "version": 3
   },
   "file_extension": ".py",
   "mimetype": "text/x-python",
   "name": "python",
   "nbconvert_exporter": "python",
   "pygments_lexer": "ipython3",
   "version": "3.9.7"
  },
  "papermill": {
   "default_parameters": {},
   "duration": 13.015531,
   "end_time": "2021-09-14T22:57:26.641241",
   "environment_variables": {},
   "exception": null,
   "input_path": "course_UvA-DL/graph-neural-networks/GNN_overview.ipynb",
   "output_path": ".notebooks/course_UvA-DL/graph-neural-networks.ipynb",
   "parameters": {},
   "start_time": "2021-09-14T22:57:13.625710",
   "version": "2.3.3"
  }
 },
 "nbformat": 4,
 "nbformat_minor": 5
}