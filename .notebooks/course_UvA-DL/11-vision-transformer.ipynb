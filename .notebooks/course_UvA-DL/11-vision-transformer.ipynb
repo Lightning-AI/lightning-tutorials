version https://git-lfs.github.com/spec/v1
oid sha256:a99d3e5c0387a867b8786f92aa292b6077cfe38a073ecace4b6bd4a7d3b40cca
size 421917
