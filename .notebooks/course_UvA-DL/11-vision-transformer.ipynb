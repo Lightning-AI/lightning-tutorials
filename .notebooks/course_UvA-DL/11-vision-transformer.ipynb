version https://git-lfs.github.com/spec/v1
oid sha256:cefaac9a95f087a2a346625ef1e1f0c66d071f8f450ba643356eec2a3a5f0c5f
size 417512
