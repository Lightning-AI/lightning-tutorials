version https://git-lfs.github.com/spec/v1
oid sha256:3bd2e92a2432809c9fff0eba3bce1725f6b24a2f24acd3e40da06df6a0d865e0
size 416222
