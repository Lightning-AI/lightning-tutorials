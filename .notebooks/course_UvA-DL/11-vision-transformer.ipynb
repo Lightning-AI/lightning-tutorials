version https://git-lfs.github.com/spec/v1
oid sha256:0a9a0b4ada46bb8ed48e48458d24bfd95328d8809999befe293ce2b28dd4f44f
size 417581
