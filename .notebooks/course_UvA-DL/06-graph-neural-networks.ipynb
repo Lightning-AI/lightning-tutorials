version https://git-lfs.github.com/spec/v1
oid sha256:11e650462c5fe910772cd644dde1b8252ffb1abe8eefaa6300384819a66bf9e5
size 106771
