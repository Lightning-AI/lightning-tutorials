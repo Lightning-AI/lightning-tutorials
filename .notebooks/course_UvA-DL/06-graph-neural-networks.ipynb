{
 "cells": [
  {
   "cell_type": "markdown",
   "id": "5af2dec5",
   "metadata": {
    "papermill": {
     "duration": 0.100057,
     "end_time": "2021-12-04T13:40:45.936721",
     "exception": false,
     "start_time": "2021-12-04T13:40:45.836664",
     "status": "completed"
    },
    "tags": []
   },
   "source": [
    "\n",
    "# Tutorial 6: Basics of Graph Neural Networks\n",
    "\n",
    "* **Author:** Phillip Lippe\n",
    "* **License:** CC BY-SA\n",
    "* **Generated:** 2021-12-04T14:25:10.894299\n",
    "\n",
    "In this tutorial, we will discuss the application of neural networks on graphs.\n",
    "Graph Neural Networks (GNNs) have recently gained increasing popularity in both applications and research,\n",
    "including domains such as social networks, knowledge graphs, recommender systems, and bioinformatics.\n",
    "While the theory and math behind GNNs might first seem complicated,\n",
    "the implementation of those models is quite simple and helps in understanding the methodology.\n",
    "Therefore, we will discuss the implementation of basic network layers of a GNN,\n",
    "namely graph convolutions, and attention layers.\n",
    "Finally, we will apply a GNN on semi-supervised node classification and molecule categorization.\n",
    "This notebook is part of a lecture series on Deep Learning at the University of Amsterdam.\n",
    "The full list of tutorials can be found at https://uvadlc-notebooks.rtfd.io.\n",
    "\n",
    "\n",
    "---\n",
    "Open in [![Open In Colab](data:image/png;base64,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){height=\"20px\" width=\"117px\"}](https://colab.research.google.com/github/PytorchLightning/lightning-tutorials/blob/publication/.notebooks/course_UvA-DL/06-graph-neural-networks.ipynb)\n",
    "\n",
    "Give us a ⭐ [on Github](https://www.github.com/PytorchLightning/pytorch-lightning/)\n",
    "| Check out [the documentation](https://pytorch-lightning.readthedocs.io/en/latest/)\n",
    "| Join us [on Slack](https://join.slack.com/t/pytorch-lightning/shared_invite/zt-pw5v393p-qRaDgEk24~EjiZNBpSQFgQ)"
   ]
  },
  {
   "cell_type": "markdown",
   "id": "e9104cd1",
   "metadata": {
    "papermill": {
     "duration": 0.099388,
     "end_time": "2021-12-04T13:40:46.133986",
     "exception": false,
     "start_time": "2021-12-04T13:40:46.034598",
     "status": "completed"
    },
    "tags": []
   },
   "source": [
    "## Setup\n",
    "This notebook requires some packages besides pytorch-lightning."
   ]
  },
  {
   "cell_type": "code",
   "execution_count": 1,
   "id": "41d0758e",
   "metadata": {
    "colab": {},
    "colab_type": "code",
    "execution": {
     "iopub.execute_input": "2021-12-04T13:40:46.338660Z",
     "iopub.status.busy": "2021-12-04T13:40:46.338171Z",
     "iopub.status.idle": "2021-12-04T13:40:48.881043Z",
     "shell.execute_reply": "2021-12-04T13:40:48.881478Z"
    },
    "id": "LfrJLKPFyhsK",
    "lines_to_next_cell": 0,
    "papermill": {
     "duration": 2.648676,
     "end_time": "2021-12-04T13:40:48.881793",
     "exception": false,
     "start_time": "2021-12-04T13:40:46.233117",
     "status": "completed"
    },
    "tags": []
   },
   "outputs": [],
   "source": [
    "! pip install --quiet \"torch>=1.6, <1.9\" \"torch-cluster\" \"torch-geometric==2.0.2\" \"torch-spline-conv\" \"torch-sparse\" \"torchmetrics>=0.3\" \"pytorch-lightning>=1.3\" \"torch-scatter\""
   ]
  },
  {
   "cell_type": "markdown",
   "id": "a4281ab2",
   "metadata": {
    "papermill": {
     "duration": 0.099065,
     "end_time": "2021-12-04T13:40:49.080367",
     "exception": false,
     "start_time": "2021-12-04T13:40:48.981302",
     "status": "completed"
    },
    "tags": []
   },
   "source": [
    "<div class=\"center-wrapper\"><div class=\"video-wrapper\"><iframe src=\"https://www.youtube.com/embed/fK7d56Ly9q8\" title=\"YouTube video player\" frameborder=\"0\" allow=\"accelerometer; autoplay; clipboard-write; encrypted-media; gyroscope; picture-in-picture\" allowfullscreen></iframe></div></div>\n",
    "We start by importing our standard libraries below."
   ]
  },
  {
   "cell_type": "code",
   "execution_count": 2,
   "id": "1b8c4ddf",
   "metadata": {
    "execution": {
     "iopub.execute_input": "2021-12-04T13:40:49.282093Z",
     "iopub.status.busy": "2021-12-04T13:40:49.281589Z",
     "iopub.status.idle": "2021-12-04T13:40:51.146699Z",
     "shell.execute_reply": "2021-12-04T13:40:51.147104Z"
    },
    "papermill": {
     "duration": 1.969495,
     "end_time": "2021-12-04T13:40:51.147281",
     "exception": false,
     "start_time": "2021-12-04T13:40:49.177786",
     "status": "completed"
    },
    "tags": []
   },
   "outputs": [
    {
     "name": "stderr",
     "output_type": "stream",
     "text": [
      "Global seed set to 42\n"
     ]
    }
   ],
   "source": [
    "# Standard libraries\n",
    "import os\n",
    "\n",
    "# For downloading pre-trained models\n",
    "import urllib.request\n",
    "from urllib.error import HTTPError\n",
    "\n",
    "# PyTorch Lightning\n",
    "import pytorch_lightning as pl\n",
    "\n",
    "# PyTorch\n",
    "import torch\n",
    "import torch.nn as nn\n",
    "import torch.nn.functional as F\n",
    "import torch.optim as optim\n",
    "\n",
    "# PyTorch geometric\n",
    "import torch_geometric\n",
    "import torch_geometric.data as geom_data\n",
    "import torch_geometric.nn as geom_nn\n",
    "\n",
    "# PL callbacks\n",
    "from pytorch_lightning.callbacks import ModelCheckpoint\n",
    "\n",
    "AVAIL_GPUS = min(1, torch.cuda.device_count())\n",
    "BATCH_SIZE = 256 if AVAIL_GPUS else 64\n",
    "# Path to the folder where the datasets are/should be downloaded\n",
    "DATASET_PATH = os.environ.get(\"PATH_DATASETS\", \"data/\")\n",
    "# Path to the folder where the pretrained models are saved\n",
    "CHECKPOINT_PATH = os.environ.get(\"PATH_CHECKPOINT\", \"saved_models/GNNs/\")\n",
    "\n",
    "# Setting the seed\n",
    "pl.seed_everything(42)\n",
    "\n",
    "# Ensure that all operations are deterministic on GPU (if used) for reproducibility\n",
    "torch.backends.cudnn.determinstic = True\n",
    "torch.backends.cudnn.benchmark = False"
   ]
  },
  {
   "cell_type": "markdown",
   "id": "f3067bec",
   "metadata": {
    "papermill": {
     "duration": 0.099024,
     "end_time": "2021-12-04T13:40:51.347741",
     "exception": false,
     "start_time": "2021-12-04T13:40:51.248717",
     "status": "completed"
    },
    "tags": []
   },
   "source": [
    "We also have a few pre-trained models we download below."
   ]
  },
  {
   "cell_type": "code",
   "execution_count": 3,
   "id": "6728dd84",
   "metadata": {
    "execution": {
     "iopub.execute_input": "2021-12-04T13:40:51.550906Z",
     "iopub.status.busy": "2021-12-04T13:40:51.550403Z",
     "iopub.status.idle": "2021-12-04T13:40:51.774756Z",
     "shell.execute_reply": "2021-12-04T13:40:51.774301Z"
    },
    "papermill": {
     "duration": 0.327668,
     "end_time": "2021-12-04T13:40:51.774889",
     "exception": false,
     "start_time": "2021-12-04T13:40:51.447221",
     "status": "completed"
    },
    "tags": []
   },
   "outputs": [
    {
     "name": "stdout",
     "output_type": "stream",
     "text": [
      "Downloading https://raw.githubusercontent.com/phlippe/saved_models/main/tutorial7/NodeLevelMLP.ckpt...\n",
      "Downloading https://raw.githubusercontent.com/phlippe/saved_models/main/tutorial7/NodeLevelGNN.ckpt...\n",
      "Downloading https://raw.githubusercontent.com/phlippe/saved_models/main/tutorial7/GraphLevelGraphConv.ckpt...\n"
     ]
    }
   ],
   "source": [
    "# Github URL where saved models are stored for this tutorial\n",
    "base_url = \"https://raw.githubusercontent.com/phlippe/saved_models/main/tutorial7/\"\n",
    "# Files to download\n",
    "pretrained_files = [\"NodeLevelMLP.ckpt\", \"NodeLevelGNN.ckpt\", \"GraphLevelGraphConv.ckpt\"]\n",
    "\n",
    "# Create checkpoint path if it doesn't exist yet\n",
    "os.makedirs(CHECKPOINT_PATH, exist_ok=True)\n",
    "\n",
    "# For each file, check whether it already exists. If not, try downloading it.\n",
    "for file_name in pretrained_files:\n",
    "    file_path = os.path.join(CHECKPOINT_PATH, file_name)\n",
    "    if \"/\" in file_name:\n",
    "        os.makedirs(file_path.rsplit(\"/\", 1)[0], exist_ok=True)\n",
    "    if not os.path.isfile(file_path):\n",
    "        file_url = base_url + file_name\n",
    "        print(\"Downloading %s...\" % file_url)\n",
    "        try:\n",
    "            urllib.request.urlretrieve(file_url, file_path)\n",
    "        except HTTPError as e:\n",
    "            print(\n",
    "                \"Something went wrong. Please try to download the file from the GDrive folder,\"\n",
    "                \" or contact the author with the full output including the following error:\\n\",\n",
    "                e,\n",
    "            )"
   ]
  },
  {
   "cell_type": "markdown",
   "id": "35673912",
   "metadata": {
    "papermill": {
     "duration": 0.099388,
     "end_time": "2021-12-04T13:40:51.978273",
     "exception": false,
     "start_time": "2021-12-04T13:40:51.878885",
     "status": "completed"
    },
    "tags": []
   },
   "source": [
    "## Graph Neural Networks"
   ]
  },
  {
   "cell_type": "markdown",
   "id": "9c3f8ac2",
   "metadata": {
    "papermill": {
     "duration": 0.099249,
     "end_time": "2021-12-04T13:40:52.179640",
     "exception": false,
     "start_time": "2021-12-04T13:40:52.080391",
     "status": "completed"
    },
    "tags": []
   },
   "source": [
    "### Graph representation\n",
    "\n",
    "Before starting the discussion of specific neural network operations on graphs, we should consider how to represent a graph.\n",
    "Mathematically, a graph $\\mathcal{G}$ is defined as a tuple of a set of nodes/vertices $V$, and a set of edges/links $E$: $\\mathcal{G}=(V,E)$.\n",
    "Each edge is a pair of two vertices, and represents a connection between them.\n",
    "For instance, let's look at the following graph:\n",
    "\n",
    "<center width=\"100%\" style=\"padding:10px\"><img src=\"https://github.com/PyTorchLightning/lightning-tutorials/raw/main/course_UvA-DL/06-graph-neural-networks/example_graph.svg\" width=\"250px\"></center>\n",
    "\n",
    "The vertices are $V=\\{1,2,3,4\\}$, and edges $E=\\{(1,2), (2,3), (2,4), (3,4)\\}$.\n",
    "Note that for simplicity, we assume the graph to be undirected and hence don't add mirrored pairs like $(2,1)$.\n",
    "In application, vertices and edge can often have specific attributes, and edges can even be directed.\n",
    "The question is how we could represent this diversity in an efficient way for matrix operations.\n",
    "Usually, for the edges, we decide between two variants: an adjacency matrix, or a list of paired vertex indices.\n",
    "\n",
    "The **adjacency matrix** $A$ is a square matrix whose elements indicate whether pairs of vertices are adjacent,\n",
    "i.e. connected, or not.\n",
    "In the simplest case, $A_{ij}$ is 1 if there is a connection from node $i$ to $j$, and otherwise 0.\n",
    "If we have edge attributes or different categories of edges in a graph, this information can be added to the matrix as well.\n",
    "For an undirected graph, keep in mind that $A$ is a symmetric matrix ($A_{ij}=A_{ji}$).\n",
    "For the example graph above, we have the following adjacency matrix:\n",
    "\n",
    "$$\n",
    "A = \\begin{bmatrix}\n",
    "    0 & 1 & 0 & 0\\\\\n",
    "    1 & 0 & 1 & 1\\\\\n",
    "    0 & 1 & 0 & 1\\\\\n",
    "    0 & 1 & 1 & 0\n",
    "\\end{bmatrix}\n",
    "$$\n",
    "\n",
    "While expressing a graph as a list of edges is more efficient in terms of memory and (possibly) computation,\n",
    "using an adjacency matrix is more intuitive and simpler to implement.\n",
    "In our implementations below, we will rely on the adjacency matrix to keep the code simple.\n",
    "However, common libraries use edge lists, which we will discuss later more.\n",
    "Alternatively, we could also use the list of edges to define a sparse adjacency matrix with which we can work\n",
    "as if it was a dense matrix, but allows more memory-efficient operations.\n",
    "PyTorch supports this with the sub-package `torch.sparse`\n",
    "([documentation](https://pytorch.org/docs/stable/sparse.html)) which is however still in a beta-stage\n",
    "(API might change in future)."
   ]
  },
  {
   "cell_type": "markdown",
   "id": "6842ad8a",
   "metadata": {
    "lines_to_next_cell": 2,
    "papermill": {
     "duration": 0.099527,
     "end_time": "2021-12-04T13:40:52.378314",
     "exception": false,
     "start_time": "2021-12-04T13:40:52.278787",
     "status": "completed"
    },
    "tags": []
   },
   "source": [
    "### Graph Convolutions\n",
    "\n",
    "Graph Convolutional Networks have been introduced by [Kipf et al. ](https://openreview.net/pdf?id=SJU4ayYgl)\n",
    "in 2016 at the University of Amsterdam.\n",
    "He also wrote a great [blog post](https://tkipf.github.io/graph-convolutional-networks/) about this topic,\n",
    "which is recommended if you want to read about GCNs from a different perspective.\n",
    "GCNs are similar to convolutions in images in the sense that the \"filter\" parameters are typically shared over all locations in the graph.\n",
    "At the same time, GCNs rely on message passing methods, which means that vertices exchange information with the neighbors,\n",
    "and send \"messages\" to each other.\n",
    "Before looking at the math, we can try to visually understand how GCNs work.\n",
    "The first step is that each node creates a feature vector that represents the message it wants to send to all its neighbors.\n",
    "In the second step, the messages are sent to the neighbors, so that a node receives one message per adjacent node.\n",
    "Below we have visualized the two steps for our example graph.\n",
    "\n",
    "<center width=\"100%\" style=\"padding:10px\"><img src=\"https://github.com/PyTorchLightning/lightning-tutorials/raw/main/course_UvA-DL/06-graph-neural-networks/graph_message_passing.svg\" width=\"700px\"></center>\n",
    "\n",
    "If we want to formulate that in more mathematical terms, we need to first decide how to combine\n",
    "all the messages a node receives.\n",
    "As the number of messages vary across nodes, we need an operation that works for any number.\n",
    "Hence, the usual way to go is to sum or take the mean.\n",
    "Given the previous features of nodes $H^{(l)}$, the GCN layer is defined as follows:\n",
    "\n",
    "$$H^{(l+1)} = \\sigma\\left(\\hat{D}^{-1/2}\\hat{A}\\hat{D}^{-1/2}H^{(l)}W^{(l)}\\right)$$\n",
    "\n",
    "$W^{(l)}$ is the weight parameters with which we transform the input features into messages ($H^{(l)}W^{(l)}$).\n",
    "To the adjacency matrix $A$ we add the identity matrix so that each node sends its own message also to itself:\n",
    "$\\hat{A}=A+I$.\n",
    "Finally, to take the average instead of summing, we calculate the matrix $\\hat{D}$ which is a diagonal\n",
    "matrix with $D_{ii}$ denoting the number of neighbors node $i$ has.\n",
    "$\\sigma$ represents an arbitrary activation function, and not necessarily the sigmoid (usually a ReLU-based\n",
    "activation function is used in GNNs).\n",
    "\n",
    "When implementing the GCN layer in PyTorch, we can take advantage of the flexible operations on tensors.\n",
    "Instead of defining a matrix $\\hat{D}$, we can simply divide the summed messages by the number of neighbors afterward.\n",
    "Additionally, we replace the weight matrix with a linear layer, which additionally allows us to add a bias.\n",
    "Written as a PyTorch module, the GCN layer is defined as follows:"
   ]
  },
  {
   "cell_type": "code",
   "execution_count": 4,
   "id": "4e2076b7",
   "metadata": {
    "execution": {
     "iopub.execute_input": "2021-12-04T13:40:52.583401Z",
     "iopub.status.busy": "2021-12-04T13:40:52.582901Z",
     "iopub.status.idle": "2021-12-04T13:40:52.584895Z",
     "shell.execute_reply": "2021-12-04T13:40:52.584471Z"
    },
    "papermill": {
     "duration": 0.106687,
     "end_time": "2021-12-04T13:40:52.585009",
     "exception": false,
     "start_time": "2021-12-04T13:40:52.478322",
     "status": "completed"
    },
    "tags": []
   },
   "outputs": [],
   "source": [
    "class GCNLayer(nn.Module):\n",
    "    def __init__(self, c_in, c_out):\n",
    "        super().__init__()\n",
    "        self.projection = nn.Linear(c_in, c_out)\n",
    "\n",
    "    def forward(self, node_feats, adj_matrix):\n",
    "        \"\"\"\n",
    "        Args:\n",
    "            node_feats: Tensor with node features of shape [batch_size, num_nodes, c_in]\n",
    "            adj_matrix: Batch of adjacency matrices of the graph. If there is an edge from i to j,\n",
    "                         adj_matrix[b,i,j]=1 else 0. Supports directed edges by non-symmetric matrices.\n",
    "                         Assumes to already have added the identity connections.\n",
    "                         Shape: [batch_size, num_nodes, num_nodes]\n",
    "        \"\"\"\n",
    "        # Num neighbours = number of incoming edges\n",
    "        num_neighbours = adj_matrix.sum(dim=-1, keepdims=True)\n",
    "        node_feats = self.projection(node_feats)\n",
    "        node_feats = torch.bmm(adj_matrix, node_feats)\n",
    "        node_feats = node_feats / num_neighbours\n",
    "        return node_feats"
   ]
  },
  {
   "cell_type": "markdown",
   "id": "0f427faf",
   "metadata": {
    "papermill": {
     "duration": 0.098807,
     "end_time": "2021-12-04T13:40:52.782931",
     "exception": false,
     "start_time": "2021-12-04T13:40:52.684124",
     "status": "completed"
    },
    "tags": []
   },
   "source": [
    "To further understand the GCN layer, we can apply it to our example graph above.\n",
    "First, let's specify some node features and the adjacency matrix with added self-connections:"
   ]
  },
  {
   "cell_type": "code",
   "execution_count": 5,
   "id": "283c9277",
   "metadata": {
    "execution": {
     "iopub.execute_input": "2021-12-04T13:40:52.990316Z",
     "iopub.status.busy": "2021-12-04T13:40:52.989827Z",
     "iopub.status.idle": "2021-12-04T13:40:52.994720Z",
     "shell.execute_reply": "2021-12-04T13:40:52.995141Z"
    },
    "papermill": {
     "duration": 0.112477,
     "end_time": "2021-12-04T13:40:52.995275",
     "exception": false,
     "start_time": "2021-12-04T13:40:52.882798",
     "status": "completed"
    },
    "tags": []
   },
   "outputs": [
    {
     "name": "stdout",
     "output_type": "stream",
     "text": [
      "Node features:\n",
      " tensor([[[0., 1.],\n",
      "         [2., 3.],\n",
      "         [4., 5.],\n",
      "         [6., 7.]]])\n",
      "\n",
      "Adjacency matrix:\n",
      " tensor([[[1., 1., 0., 0.],\n",
      "         [1., 1., 1., 1.],\n",
      "         [0., 1., 1., 1.],\n",
      "         [0., 1., 1., 1.]]])\n"
     ]
    }
   ],
   "source": [
    "node_feats = torch.arange(8, dtype=torch.float32).view(1, 4, 2)\n",
    "adj_matrix = torch.Tensor([[[1, 1, 0, 0], [1, 1, 1, 1], [0, 1, 1, 1], [0, 1, 1, 1]]])\n",
    "\n",
    "print(\"Node features:\\n\", node_feats)\n",
    "print(\"\\nAdjacency matrix:\\n\", adj_matrix)"
   ]
  },
  {
   "cell_type": "markdown",
   "id": "8b0bf411",
   "metadata": {
    "papermill": {
     "duration": 0.100177,
     "end_time": "2021-12-04T13:40:53.196657",
     "exception": false,
     "start_time": "2021-12-04T13:40:53.096480",
     "status": "completed"
    },
    "tags": []
   },
   "source": [
    "Next, let's apply a GCN layer to it.\n",
    "For simplicity, we initialize the linear weight matrix as an identity matrix so that the input features are equal to the messages.\n",
    "This makes it easier for us to verify the message passing operation."
   ]
  },
  {
   "cell_type": "code",
   "execution_count": 6,
   "id": "3afa0e4c",
   "metadata": {
    "execution": {
     "iopub.execute_input": "2021-12-04T13:40:53.402035Z",
     "iopub.status.busy": "2021-12-04T13:40:53.401548Z",
     "iopub.status.idle": "2021-12-04T13:40:53.407320Z",
     "shell.execute_reply": "2021-12-04T13:40:53.406826Z"
    },
    "papermill": {
     "duration": 0.110097,
     "end_time": "2021-12-04T13:40:53.407430",
     "exception": false,
     "start_time": "2021-12-04T13:40:53.297333",
     "status": "completed"
    },
    "tags": []
   },
   "outputs": [
    {
     "name": "stdout",
     "output_type": "stream",
     "text": [
      "Adjacency matrix tensor([[[1., 1., 0., 0.],\n",
      "         [1., 1., 1., 1.],\n",
      "         [0., 1., 1., 1.],\n",
      "         [0., 1., 1., 1.]]])\n",
      "Input features tensor([[[0., 1.],\n",
      "         [2., 3.],\n",
      "         [4., 5.],\n",
      "         [6., 7.]]])\n",
      "Output features tensor([[[1., 2.],\n",
      "         [3., 4.],\n",
      "         [4., 5.],\n",
      "         [4., 5.]]])\n"
     ]
    }
   ],
   "source": [
    "layer = GCNLayer(c_in=2, c_out=2)\n",
    "layer.projection.weight.data = torch.Tensor([[1.0, 0.0], [0.0, 1.0]])\n",
    "layer.projection.bias.data = torch.Tensor([0.0, 0.0])\n",
    "\n",
    "with torch.no_grad():\n",
    "    out_feats = layer(node_feats, adj_matrix)\n",
    "\n",
    "print(\"Adjacency matrix\", adj_matrix)\n",
    "print(\"Input features\", node_feats)\n",
    "print(\"Output features\", out_feats)"
   ]
  },
  {
   "cell_type": "markdown",
   "id": "4f374580",
   "metadata": {
    "papermill": {
     "duration": 0.10154,
     "end_time": "2021-12-04T13:40:53.609776",
     "exception": false,
     "start_time": "2021-12-04T13:40:53.508236",
     "status": "completed"
    },
    "tags": []
   },
   "source": [
    "As we can see, the first node's output values are the average of itself and the second node.\n",
    "Similarly, we can verify all other nodes.\n",
    "However, in a GNN, we would also want to allow feature exchange between nodes beyond its neighbors.\n",
    "This can be achieved by applying multiple GCN layers, which gives us the final layout of a GNN.\n",
    "The GNN can be build up by a sequence of GCN layers and non-linearities such as ReLU.\n",
    "For a visualization, see below (figure credit - [Thomas Kipf, 2016](https://tkipf.github.io/graph-convolutional-networks/)).\n",
    "\n",
    "<center width=\"100%\" style=\"padding: 10px\"><img src=\"https://github.com/PyTorchLightning/lightning-tutorials/raw/main/course_UvA-DL/06-graph-neural-networks/gcn_network.png\" width=\"600px\"></center>\n",
    "\n",
    "However, one issue we can see from looking at the example above is that the output features for nodes 3 and 4 are\n",
    "the same because they have the same adjacent nodes (including itself).\n",
    "Therefore, GCN layers can make the network forget node-specific information if we just take a mean over all messages.\n",
    "Multiple possible improvements have been proposed.\n",
    "While the simplest option might be using residual connections, the more common approach is to either weigh\n",
    "the self-connections higher or define a separate weight matrix for the self-connections.\n",
    "Alternatively, we can use a  well-known concept: attention."
   ]
  },
  {
   "cell_type": "markdown",
   "id": "a1642fe3",
   "metadata": {
    "lines_to_next_cell": 2,
    "papermill": {
     "duration": 0.101218,
     "end_time": "2021-12-04T13:40:53.811510",
     "exception": false,
     "start_time": "2021-12-04T13:40:53.710292",
     "status": "completed"
    },
    "tags": []
   },
   "source": [
    "### Graph Attention\n",
    "\n",
    "Attention describes a weighted average of multiple elements with the weights dynamically computed based on an input\n",
    "query and elements' keys (if you don't know what attention is, it is recommended to at least go through\n",
    "the very first section called [What is Attention?](https://uvadlc-notebooks.readthedocs.io/en/latest/tutorial_notebooks/tutorial6/Transformers_and_MHAttention.html#What-is-Attention?)).\n",
    "This concept can be similarly applied to graphs, one of such is the Graph Attention Network\n",
    "(called GAT, proposed by [Velickovic et al., 2017](https://arxiv.org/abs/1710.10903)).\n",
    "Similarly to the GCN, the graph attention layer creates a message for each node using a linear layer/weight matrix.\n",
    "For the attention part, it uses the message from the node itself as a query, and the messages to average as both\n",
    "keys and values (note that this also includes the message to itself).\n",
    "The score function $f_{attn}$ is implemented as a one-layer MLP which maps the query and key to a single value.\n",
    "The MLP looks as follows (figure credit - [Velickovic et al. ](https://arxiv.org/abs/1710.10903)):\n",
    "\n",
    "<center width=\"100%\" style=\"padding:10px\"><img src=\"https://github.com/PyTorchLightning/lightning-tutorials/raw/main/course_UvA-DL/06-graph-neural-networks/graph_attention_MLP.svg\" width=\"250px\"></center>\n",
    "\n",
    "$h_i$ and $h_j$ are the original features from node $i$ and $j$ respectively, and represent the messages\n",
    "of the layer with $\\mathbf{W}$ as weight matrix.\n",
    "$\\mathbf{a}$ is the weight matrix of the MLP, which has the shape $[1,2\\times d_{\\text{message}}]$,\n",
    "and $\\alpha_{ij}$ the final attention weight from node $i$ to $j$.\n",
    "The calculation can be described as follows:\n",
    "\n",
    "$$\\alpha_{ij} = \\frac{\\exp\\left(\\text{LeakyReLU}\\left(\\mathbf{a}\\left[\\mathbf{W}h_i||\\mathbf{W}h_j\\right]\\right)\\right)}{\\sum_{k\\in\\mathcal{N}_i} \\exp\\left(\\text{LeakyReLU}\\left(\\mathbf{a}\\left[\\mathbf{W}h_i||\\mathbf{W}h_k\\right]\\right)\\right)}$$\n",
    "\n",
    "The operator $||$ represents the concatenation, and $\\mathcal{N}_i$ the indices of the neighbors of node $i$.\n",
    "Note that in contrast to usual practice, we apply a non-linearity (here LeakyReLU) before the softmax over elements.\n",
    "Although it seems like a minor change at first, it is crucial for the attention to depend on the original input.\n",
    "Specifically, let's remove the non-linearity for a second, and try to simplify the expression:\n",
    "\n",
    "$$\n",
    "\\begin{split}\n",
    "    \\alpha_{ij} & = \\frac{\\exp\\left(\\mathbf{a}\\left[\\mathbf{W}h_i||\\mathbf{W}h_j\\right]\\right)}{\\sum_{k\\in\\mathcal{N}_i} \\exp\\left(\\mathbf{a}\\left[\\mathbf{W}h_i||\\mathbf{W}h_k\\right]\\right)}\\\\[5pt]\n",
    "    & = \\frac{\\exp\\left(\\mathbf{a}_{:,:d/2}\\mathbf{W}h_i+\\mathbf{a}_{:,d/2:}\\mathbf{W}h_j\\right)}{\\sum_{k\\in\\mathcal{N}_i} \\exp\\left(\\mathbf{a}_{:,:d/2}\\mathbf{W}h_i+\\mathbf{a}_{:,d/2:}\\mathbf{W}h_k\\right)}\\\\[5pt]\n",
    "    & = \\frac{\\exp\\left(\\mathbf{a}_{:,:d/2}\\mathbf{W}h_i\\right)\\cdot\\exp\\left(\\mathbf{a}_{:,d/2:}\\mathbf{W}h_j\\right)}{\\sum_{k\\in\\mathcal{N}_i} \\exp\\left(\\mathbf{a}_{:,:d/2}\\mathbf{W}h_i\\right)\\cdot\\exp\\left(\\mathbf{a}_{:,d/2:}\\mathbf{W}h_k\\right)}\\\\[5pt]\n",
    "    & = \\frac{\\exp\\left(\\mathbf{a}_{:,d/2:}\\mathbf{W}h_j\\right)}{\\sum_{k\\in\\mathcal{N}_i} \\exp\\left(\\mathbf{a}_{:,d/2:}\\mathbf{W}h_k\\right)}\\\\\n",
    "\\end{split}\n",
    "$$\n",
    "\n",
    "We can see that without the non-linearity, the attention term with $h_i$ actually cancels itself out,\n",
    "resulting in the attention being independent of the node itself.\n",
    "Hence, we would have the same issue as the GCN of creating the same output features for nodes with the same neighbors.\n",
    "This is why the LeakyReLU is crucial and adds some dependency on $h_i$ to the attention.\n",
    "\n",
    "Once we obtain all attention factors, we can calculate the output features for each node by performing\n",
    "the weighted average:\n",
    "\n",
    "$$h_i'=\\sigma\\left(\\sum_{j\\in\\mathcal{N}_i}\\alpha_{ij}\\mathbf{W}h_j\\right)$$\n",
    "\n",
    "$\\sigma$ is yet another non-linearity, as in the GCN layer.\n",
    "Visually, we can represent the full message passing in an attention layer as follows\n",
    "(figure credit - [Velickovic et al. ](https://arxiv.org/abs/1710.10903)):\n",
    "\n",
    "<center width=\"100%\"><img src=\"https://github.com/PyTorchLightning/lightning-tutorials/raw/main/course_UvA-DL/06-graph-neural-networks/graph_attention.jpeg\" width=\"400px\"></center>\n",
    "\n",
    "To increase the expressiveness of the graph attention network, [Velickovic et al. ](https://arxiv.org/abs/1710.10903)\n",
    "proposed to extend it to multiple heads similar to the Multi-Head Attention block in Transformers.\n",
    "This results in $N$ attention layers being applied in parallel.\n",
    "In the image above, it is visualized as three different colors of arrows (green, blue, and purple)\n",
    "that are afterward concatenated.\n",
    "The average is only applied for the very final prediction layer in a network.\n",
    "\n",
    "After having discussed the graph attention layer in detail, we can implement it below:"
   ]
  },
  {
   "cell_type": "code",
   "execution_count": 7,
   "id": "611b8d3e",
   "metadata": {
    "execution": {
     "iopub.execute_input": "2021-12-04T13:40:54.024148Z",
     "iopub.status.busy": "2021-12-04T13:40:54.015241Z",
     "iopub.status.idle": "2021-12-04T13:40:54.026276Z",
     "shell.execute_reply": "2021-12-04T13:40:54.025792Z"
    },
    "papermill": {
     "duration": 0.113584,
     "end_time": "2021-12-04T13:40:54.026379",
     "exception": false,
     "start_time": "2021-12-04T13:40:53.912795",
     "status": "completed"
    },
    "tags": []
   },
   "outputs": [],
   "source": [
    "class GATLayer(nn.Module):\n",
    "    def __init__(self, c_in, c_out, num_heads=1, concat_heads=True, alpha=0.2):\n",
    "        \"\"\"\n",
    "        Args:\n",
    "            c_in: Dimensionality of input features\n",
    "            c_out: Dimensionality of output features\n",
    "            num_heads: Number of heads, i.e. attention mechanisms to apply in parallel. The\n",
    "                        output features are equally split up over the heads if concat_heads=True.\n",
    "            concat_heads: If True, the output of the different heads is concatenated instead of averaged.\n",
    "            alpha: Negative slope of the LeakyReLU activation.\n",
    "        \"\"\"\n",
    "        super().__init__()\n",
    "        self.num_heads = num_heads\n",
    "        self.concat_heads = concat_heads\n",
    "        if self.concat_heads:\n",
    "            assert c_out % num_heads == 0, \"Number of output features must be a multiple of the count of heads.\"\n",
    "            c_out = c_out // num_heads\n",
    "\n",
    "        # Sub-modules and parameters needed in the layer\n",
    "        self.projection = nn.Linear(c_in, c_out * num_heads)\n",
    "        self.a = nn.Parameter(torch.Tensor(num_heads, 2 * c_out))  # One per head\n",
    "        self.leakyrelu = nn.LeakyReLU(alpha)\n",
    "\n",
    "        # Initialization from the original implementation\n",
    "        nn.init.xavier_uniform_(self.projection.weight.data, gain=1.414)\n",
    "        nn.init.xavier_uniform_(self.a.data, gain=1.414)\n",
    "\n",
    "    def forward(self, node_feats, adj_matrix, print_attn_probs=False):\n",
    "        \"\"\"\n",
    "        Args:\n",
    "            node_feats: Input features of the node. Shape: [batch_size, c_in]\n",
    "            adj_matrix: Adjacency matrix including self-connections. Shape: [batch_size, num_nodes, num_nodes]\n",
    "            print_attn_probs: If True, the attention weights are printed during the forward pass\n",
    "                               (for debugging purposes)\n",
    "        \"\"\"\n",
    "        batch_size, num_nodes = node_feats.size(0), node_feats.size(1)\n",
    "\n",
    "        # Apply linear layer and sort nodes by head\n",
    "        node_feats = self.projection(node_feats)\n",
    "        node_feats = node_feats.view(batch_size, num_nodes, self.num_heads, -1)\n",
    "\n",
    "        # We need to calculate the attention logits for every edge in the adjacency matrix\n",
    "        # Doing this on all possible combinations of nodes is very expensive\n",
    "        # => Create a tensor of [W*h_i||W*h_j] with i and j being the indices of all edges\n",
    "        # Returns indices where the adjacency matrix is not 0 => edges\n",
    "        edges = adj_matrix.nonzero(as_tuple=False)\n",
    "        node_feats_flat = node_feats.view(batch_size * num_nodes, self.num_heads, -1)\n",
    "        edge_indices_row = edges[:, 0] * num_nodes + edges[:, 1]\n",
    "        edge_indices_col = edges[:, 0] * num_nodes + edges[:, 2]\n",
    "        a_input = torch.cat(\n",
    "            [\n",
    "                torch.index_select(input=node_feats_flat, index=edge_indices_row, dim=0),\n",
    "                torch.index_select(input=node_feats_flat, index=edge_indices_col, dim=0),\n",
    "            ],\n",
    "            dim=-1,\n",
    "        )  # Index select returns a tensor with node_feats_flat being indexed at the desired positions\n",
    "\n",
    "        # Calculate attention MLP output (independent for each head)\n",
    "        attn_logits = torch.einsum(\"bhc,hc->bh\", a_input, self.a)\n",
    "        attn_logits = self.leakyrelu(attn_logits)\n",
    "\n",
    "        # Map list of attention values back into a matrix\n",
    "        attn_matrix = attn_logits.new_zeros(adj_matrix.shape + (self.num_heads,)).fill_(-9e15)\n",
    "        attn_matrix[adj_matrix[..., None].repeat(1, 1, 1, self.num_heads) == 1] = attn_logits.reshape(-1)\n",
    "\n",
    "        # Weighted average of attention\n",
    "        attn_probs = F.softmax(attn_matrix, dim=2)\n",
    "        if print_attn_probs:\n",
    "            print(\"Attention probs\\n\", attn_probs.permute(0, 3, 1, 2))\n",
    "        node_feats = torch.einsum(\"bijh,bjhc->bihc\", attn_probs, node_feats)\n",
    "\n",
    "        # If heads should be concatenated, we can do this by reshaping. Otherwise, take mean\n",
    "        if self.concat_heads:\n",
    "            node_feats = node_feats.reshape(batch_size, num_nodes, -1)\n",
    "        else:\n",
    "            node_feats = node_feats.mean(dim=2)\n",
    "\n",
    "        return node_feats"
   ]
  },
  {
   "cell_type": "markdown",
   "id": "ccceb1a6",
   "metadata": {
    "papermill": {
     "duration": 0.100061,
     "end_time": "2021-12-04T13:40:54.228451",
     "exception": false,
     "start_time": "2021-12-04T13:40:54.128390",
     "status": "completed"
    },
    "tags": []
   },
   "source": [
    "Again, we can apply the graph attention layer on our example graph above to understand the dynamics better.\n",
    "As before, the input layer is initialized as an identity matrix, but we set $\\mathbf{a}$\n",
    "to be a vector of arbitrary numbers to obtain different attention values.\n",
    "We use two heads to show the parallel, independent attention mechanisms working in the layer."
   ]
  },
  {
   "cell_type": "code",
   "execution_count": 8,
   "id": "dde973a4",
   "metadata": {
    "execution": {
     "iopub.execute_input": "2021-12-04T13:40:54.437829Z",
     "iopub.status.busy": "2021-12-04T13:40:54.437301Z",
     "iopub.status.idle": "2021-12-04T13:40:54.446383Z",
     "shell.execute_reply": "2021-12-04T13:40:54.445964Z"
    },
    "papermill": {
     "duration": 0.116427,
     "end_time": "2021-12-04T13:40:54.446490",
     "exception": false,
     "start_time": "2021-12-04T13:40:54.330063",
     "status": "completed"
    },
    "tags": []
   },
   "outputs": [
    {
     "name": "stdout",
     "output_type": "stream",
     "text": [
      "Attention probs\n",
      " tensor([[[[0.3543, 0.6457, 0.0000, 0.0000],\n",
      "          [0.1096, 0.1450, 0.2642, 0.4813],\n",
      "          [0.0000, 0.1858, 0.2885, 0.5257],\n",
      "          [0.0000, 0.2391, 0.2696, 0.4913]],\n",
      "\n",
      "         [[0.5100, 0.4900, 0.0000, 0.0000],\n",
      "          [0.2975, 0.2436, 0.2340, 0.2249],\n",
      "          [0.0000, 0.3838, 0.3142, 0.3019],\n",
      "          [0.0000, 0.4018, 0.3289, 0.2693]]]])\n",
      "Adjacency matrix tensor([[[1., 1., 0., 0.],\n",
      "         [1., 1., 1., 1.],\n",
      "         [0., 1., 1., 1.],\n",
      "         [0., 1., 1., 1.]]])\n",
      "Input features tensor([[[0., 1.],\n",
      "         [2., 3.],\n",
      "         [4., 5.],\n",
      "         [6., 7.]]])\n",
      "Output features tensor([[[1.2913, 1.9800],\n",
      "         [4.2344, 3.7725],\n",
      "         [4.6798, 4.8362],\n",
      "         [4.5043, 4.7351]]])\n"
     ]
    }
   ],
   "source": [
    "layer = GATLayer(2, 2, num_heads=2)\n",
    "layer.projection.weight.data = torch.Tensor([[1.0, 0.0], [0.0, 1.0]])\n",
    "layer.projection.bias.data = torch.Tensor([0.0, 0.0])\n",
    "layer.a.data = torch.Tensor([[-0.2, 0.3], [0.1, -0.1]])\n",
    "\n",
    "with torch.no_grad():\n",
    "    out_feats = layer(node_feats, adj_matrix, print_attn_probs=True)\n",
    "\n",
    "print(\"Adjacency matrix\", adj_matrix)\n",
    "print(\"Input features\", node_feats)\n",
    "print(\"Output features\", out_feats)"
   ]
  },
  {
   "cell_type": "markdown",
   "id": "a2a3e57e",
   "metadata": {
    "papermill": {
     "duration": 0.102866,
     "end_time": "2021-12-04T13:40:54.652404",
     "exception": false,
     "start_time": "2021-12-04T13:40:54.549538",
     "status": "completed"
    },
    "tags": []
   },
   "source": [
    "We recommend that you try to calculate the attention matrix at least for one head and one node for yourself.\n",
    "The entries are 0 where there does not exist an edge between $i$ and $j$.\n",
    "For the others, we see a diverse set of attention probabilities.\n",
    "Moreover, the output features of node 3 and 4 are now different although they have the same neighbors."
   ]
  },
  {
   "cell_type": "markdown",
   "id": "ea9db472",
   "metadata": {
    "papermill": {
     "duration": 0.102698,
     "end_time": "2021-12-04T13:40:54.857371",
     "exception": false,
     "start_time": "2021-12-04T13:40:54.754673",
     "status": "completed"
    },
    "tags": []
   },
   "source": [
    "## PyTorch Geometric\n",
    "\n",
    "We had mentioned before that implementing graph networks with adjacency matrix is simple and straight-forward\n",
    "but can be computationally expensive for large graphs.\n",
    "Many real-world graphs can reach over 200k nodes, for which adjacency matrix-based implementations fail.\n",
    "There are a lot of optimizations possible when implementing GNNs, and luckily, there exist packages that provide such layers.\n",
    "The most popular packages for PyTorch are [PyTorch Geometric](https://pytorch-geometric.readthedocs.io/en/latest/)\n",
    "and the [Deep Graph Library](https://www.dgl.ai/) (the latter being actually framework agnostic).\n",
    "Which one to use depends on the project you are planning to do and personal taste.\n",
    "In this tutorial, we will look at PyTorch Geometric as part of the PyTorch family.\n",
    "\n",
    "PyTorch Geometric provides us a set of common graph layers, including the GCN and GAT layer we implemented above.\n",
    "Additionally, similar to PyTorch's torchvision, it provides the common graph datasets and transformations\n",
    "on those to simplify training.\n",
    "Compared to our implementation above, PyTorch Geometric uses a list of index pairs to represent the edges.\n",
    "The details of this library will be explored further in our experiments.\n",
    "\n",
    "In our tasks below, we want to allow us to pick from a multitude of graph layers.\n",
    "Thus, we define again below a dictionary to access those using a string:"
   ]
  },
  {
   "cell_type": "code",
   "execution_count": 9,
   "id": "6eb3c8e6",
   "metadata": {
    "execution": {
     "iopub.execute_input": "2021-12-04T13:40:55.065640Z",
     "iopub.status.busy": "2021-12-04T13:40:55.065148Z",
     "iopub.status.idle": "2021-12-04T13:40:55.067224Z",
     "shell.execute_reply": "2021-12-04T13:40:55.066807Z"
    },
    "papermill": {
     "duration": 0.10822,
     "end_time": "2021-12-04T13:40:55.067335",
     "exception": false,
     "start_time": "2021-12-04T13:40:54.959115",
     "status": "completed"
    },
    "tags": []
   },
   "outputs": [],
   "source": [
    "gnn_layer_by_name = {\"GCN\": geom_nn.GCNConv, \"GAT\": geom_nn.GATConv, \"GraphConv\": geom_nn.GraphConv}"
   ]
  },
  {
   "cell_type": "markdown",
   "id": "c4c7479e",
   "metadata": {
    "papermill": {
     "duration": 0.101662,
     "end_time": "2021-12-04T13:40:55.273104",
     "exception": false,
     "start_time": "2021-12-04T13:40:55.171442",
     "status": "completed"
    },
    "tags": []
   },
   "source": [
    "Additionally to GCN and GAT, we added the layer `geom_nn.GraphConv`\n",
    "([documentation](https://pytorch-geometric.readthedocs.io/en/latest/modules/nn.html#torch_geometric.nn.conv.GraphConv)).\n",
    "GraphConv is a GCN with a separate weight matrix for the self-connections.\n",
    "Mathematically, this would be:\n",
    "\n",
    "$$\n",
    "\\mathbf{x}_i^{(l+1)} = \\mathbf{W}^{(l + 1)}_1 \\mathbf{x}_i^{(l)} + \\mathbf{W}^{(\\ell + 1)}_2 \\sum_{j \\in \\mathcal{N}_i} \\mathbf{x}_j^{(l)}\n",
    "$$\n",
    "\n",
    "In this formula, the neighbor's messages are added instead of averaged.\n",
    "However, PyTorch Geometric provides the argument `aggr` to switch between summing, averaging, and max pooling."
   ]
  },
  {
   "cell_type": "markdown",
   "id": "03357bad",
   "metadata": {
    "papermill": {
     "duration": 0.10187,
     "end_time": "2021-12-04T13:40:55.478980",
     "exception": false,
     "start_time": "2021-12-04T13:40:55.377110",
     "status": "completed"
    },
    "tags": []
   },
   "source": [
    "## Experiments on graph structures\n",
    "\n",
    "<div class=\"center-wrapper\"><div class=\"video-wrapper\"><iframe src=\"https://www.youtube.com/embed/ZCNSUWe4a_Q\" title=\"YouTube video player\" frameborder=\"0\" allow=\"accelerometer; autoplay; clipboard-write; encrypted-media; gyroscope; picture-in-picture\" allowfullscreen></iframe></div></div>\n",
    "\n",
    "Tasks on graph-structured data can be grouped into three groups: node-level, edge-level and graph-level.\n",
    "The different levels describe on which level we want to perform classification/regression.\n",
    "We will discuss all three types in more detail below."
   ]
  },
  {
   "cell_type": "markdown",
   "id": "14c0e9b0",
   "metadata": {
    "papermill": {
     "duration": 0.102852,
     "end_time": "2021-12-04T13:40:55.684456",
     "exception": false,
     "start_time": "2021-12-04T13:40:55.581604",
     "status": "completed"
    },
    "tags": []
   },
   "source": [
    "### Node-level tasks: Semi-supervised node classification\n",
    "\n",
    "Node-level tasks have the goal to classify nodes in a graph.\n",
    "Usually, we have given a single, large graph with >1000 nodes of which a certain amount of nodes are labeled.\n",
    "We learn to classify those labeled examples during training and try to generalize to the unlabeled nodes.\n",
    "\n",
    "A popular example that we will use in this tutorial is the Cora dataset, a citation network among papers.\n",
    "The Cora consists of 2708 scientific publications with links between each other representing\n",
    "the citation of one paper by another.\n",
    "The task is to classify each publication into one of seven classes.\n",
    "Each publication is represented by a bag-of-words vector.\n",
    "This means that we have a vector of 1433 elements for each publication, where a 1 at feature $i$ indicates\n",
    "that the $i$-th word of a pre-defined dictionary is in the article.\n",
    "Binary bag-of-words representations are commonly used when we need very simple encodings,\n",
    "and already have an intuition of what words to expect in a network.\n",
    "There exist much better approaches, but we will leave this to the NLP courses to discuss.\n",
    "\n",
    "We will load the dataset below:"
   ]
  },
  {
   "cell_type": "code",
   "execution_count": 10,
   "id": "20f29928",
   "metadata": {
    "execution": {
     "iopub.execute_input": "2021-12-04T13:40:55.893368Z",
     "iopub.status.busy": "2021-12-04T13:40:55.892878Z",
     "iopub.status.idle": "2021-12-04T13:40:56.975970Z",
     "shell.execute_reply": "2021-12-04T13:40:56.976405Z"
    },
    "papermill": {
     "duration": 1.190499,
     "end_time": "2021-12-04T13:40:56.976583",
     "exception": false,
     "start_time": "2021-12-04T13:40:55.786084",
     "status": "completed"
    },
    "tags": []
   },
   "outputs": [
    {
     "name": "stderr",
     "output_type": "stream",
     "text": [
      "Downloading https://github.com/kimiyoung/planetoid/raw/master/data/ind.cora.x\n",
      "Downloading https://github.com/kimiyoung/planetoid/raw/master/data/ind.cora.tx\n"
     ]
    },
    {
     "name": "stderr",
     "output_type": "stream",
     "text": [
      "Downloading https://github.com/kimiyoung/planetoid/raw/master/data/ind.cora.allx\n",
      "Downloading https://github.com/kimiyoung/planetoid/raw/master/data/ind.cora.y\n"
     ]
    },
    {
     "name": "stderr",
     "output_type": "stream",
     "text": [
      "Downloading https://github.com/kimiyoung/planetoid/raw/master/data/ind.cora.ty\n",
      "Downloading https://github.com/kimiyoung/planetoid/raw/master/data/ind.cora.ally\n"
     ]
    },
    {
     "name": "stderr",
     "output_type": "stream",
     "text": [
      "Downloading https://github.com/kimiyoung/planetoid/raw/master/data/ind.cora.graph\n",
      "Downloading https://github.com/kimiyoung/planetoid/raw/master/data/ind.cora.test.index\n"
     ]
    },
    {
     "name": "stderr",
     "output_type": "stream",
     "text": [
      "Processing...\n",
      "Done!\n"
     ]
    }
   ],
   "source": [
    "cora_dataset = torch_geometric.datasets.Planetoid(root=DATASET_PATH, name=\"Cora\")"
   ]
  },
  {
   "cell_type": "markdown",
   "id": "8a7f8168",
   "metadata": {
    "papermill": {
     "duration": 0.105469,
     "end_time": "2021-12-04T13:40:57.189937",
     "exception": false,
     "start_time": "2021-12-04T13:40:57.084468",
     "status": "completed"
    },
    "tags": []
   },
   "source": [
    "Let's look at how PyTorch Geometric represents the graph data.\n",
    "Note that although we have a single graph, PyTorch Geometric returns a dataset for compatibility to other datasets."
   ]
  },
  {
   "cell_type": "code",
   "execution_count": 11,
   "id": "c9412901",
   "metadata": {
    "execution": {
     "iopub.execute_input": "2021-12-04T13:40:57.415965Z",
     "iopub.status.busy": "2021-12-04T13:40:57.415477Z",
     "iopub.status.idle": "2021-12-04T13:40:57.418384Z",
     "shell.execute_reply": "2021-12-04T13:40:57.418780Z"
    },
    "papermill": {
     "duration": 0.120636,
     "end_time": "2021-12-04T13:40:57.418919",
     "exception": false,
     "start_time": "2021-12-04T13:40:57.298283",
     "status": "completed"
    },
    "tags": []
   },
   "outputs": [
    {
     "data": {
      "text/plain": [
       "Data(x=[2708, 1433], edge_index=[2, 10556], y=[2708], train_mask=[2708], val_mask=[2708], test_mask=[2708])"
      ]
     },
     "execution_count": 11,
     "metadata": {},
     "output_type": "execute_result"
    }
   ],
   "source": [
    "cora_dataset[0]"
   ]
  },
  {
   "cell_type": "markdown",
   "id": "dc618e0c",
   "metadata": {
    "lines_to_next_cell": 2,
    "papermill": {
     "duration": 0.106058,
     "end_time": "2021-12-04T13:40:57.633408",
     "exception": false,
     "start_time": "2021-12-04T13:40:57.527350",
     "status": "completed"
    },
    "tags": []
   },
   "source": [
    "The graph is represented by a `Data` object\n",
    "([documentation](https://pytorch-geometric.readthedocs.io/en/latest/modules/data.html#torch_geometric.data.Data))\n",
    "which we can access as a standard Python namespace.\n",
    "The edge index tensor is the list of edges in the graph and contains the mirrored version of each edge for undirected graphs.\n",
    "The `train_mask`, `val_mask`, and `test_mask` are boolean masks that indicate which nodes we should use for training,\n",
    "validation, and testing.\n",
    "The `x` tensor is the feature tensor of our 2708 publications, and `y` the labels for all nodes.\n",
    "\n",
    "After having seen the data, we can implement a simple graph neural network.\n",
    "The GNN applies a sequence of graph layers (GCN, GAT, or GraphConv), ReLU as activation function,\n",
    "and dropout for regularization.\n",
    "See below for the specific implementation."
   ]
  },
  {
   "cell_type": "code",
   "execution_count": 12,
   "id": "2a61d2a2",
   "metadata": {
    "execution": {
     "iopub.execute_input": "2021-12-04T13:40:57.854757Z",
     "iopub.status.busy": "2021-12-04T13:40:57.854259Z",
     "iopub.status.idle": "2021-12-04T13:40:57.855952Z",
     "shell.execute_reply": "2021-12-04T13:40:57.856390Z"
    },
    "lines_to_next_cell": 2,
    "papermill": {
     "duration": 0.11574,
     "end_time": "2021-12-04T13:40:57.856525",
     "exception": false,
     "start_time": "2021-12-04T13:40:57.740785",
     "status": "completed"
    },
    "tags": []
   },
   "outputs": [],
   "source": [
    "class GNNModel(nn.Module):\n",
    "    def __init__(\n",
    "        self,\n",
    "        c_in,\n",
    "        c_hidden,\n",
    "        c_out,\n",
    "        num_layers=2,\n",
    "        layer_name=\"GCN\",\n",
    "        dp_rate=0.1,\n",
    "        **kwargs,\n",
    "    ):\n",
    "        \"\"\"\n",
    "        Args:\n",
    "            c_in: Dimension of input features\n",
    "            c_hidden: Dimension of hidden features\n",
    "            c_out: Dimension of the output features. Usually number of classes in classification\n",
    "            num_layers: Number of \"hidden\" graph layers\n",
    "            layer_name: String of the graph layer to use\n",
    "            dp_rate: Dropout rate to apply throughout the network\n",
    "            kwargs: Additional arguments for the graph layer (e.g. number of heads for GAT)\n",
    "        \"\"\"\n",
    "        super().__init__()\n",
    "        gnn_layer = gnn_layer_by_name[layer_name]\n",
    "\n",
    "        layers = []\n",
    "        in_channels, out_channels = c_in, c_hidden\n",
    "        for l_idx in range(num_layers - 1):\n",
    "            layers += [\n",
    "                gnn_layer(in_channels=in_channels, out_channels=out_channels, **kwargs),\n",
    "                nn.ReLU(inplace=True),\n",
    "                nn.Dropout(dp_rate),\n",
    "            ]\n",
    "            in_channels = c_hidden\n",
    "        layers += [gnn_layer(in_channels=in_channels, out_channels=c_out, **kwargs)]\n",
    "        self.layers = nn.ModuleList(layers)\n",
    "\n",
    "    def forward(self, x, edge_index):\n",
    "        \"\"\"\n",
    "        Args:\n",
    "            x: Input features per node\n",
    "            edge_index: List of vertex index pairs representing the edges in the graph (PyTorch geometric notation)\n",
    "        \"\"\"\n",
    "        for layer in self.layers:\n",
    "            # For graph layers, we need to add the \"edge_index\" tensor as additional input\n",
    "            # All PyTorch Geometric graph layer inherit the class \"MessagePassing\", hence\n",
    "            # we can simply check the class type.\n",
    "            if isinstance(layer, geom_nn.MessagePassing):\n",
    "                x = layer(x, edge_index)\n",
    "            else:\n",
    "                x = layer(x)\n",
    "        return x"
   ]
  },
  {
   "cell_type": "markdown",
   "id": "cb235a1f",
   "metadata": {
    "lines_to_next_cell": 2,
    "papermill": {
     "duration": 0.106414,
     "end_time": "2021-12-04T13:40:58.069568",
     "exception": false,
     "start_time": "2021-12-04T13:40:57.963154",
     "status": "completed"
    },
    "tags": []
   },
   "source": [
    "Good practice in node-level tasks is to create an MLP baseline that is applied to each node independently.\n",
    "This way we can verify whether adding the graph information to the model indeed improves the prediction, or not.\n",
    "It might also be that the features per node are already expressive enough to clearly point towards a specific class.\n",
    "To check this, we implement a simple MLP below."
   ]
  },
  {
   "cell_type": "code",
   "execution_count": 13,
   "id": "140ab80c",
   "metadata": {
    "execution": {
     "iopub.execute_input": "2021-12-04T13:40:58.290169Z",
     "iopub.status.busy": "2021-12-04T13:40:58.289679Z",
     "iopub.status.idle": "2021-12-04T13:40:58.291833Z",
     "shell.execute_reply": "2021-12-04T13:40:58.291357Z"
    },
    "lines_to_next_cell": 2,
    "papermill": {
     "duration": 0.11393,
     "end_time": "2021-12-04T13:40:58.291936",
     "exception": false,
     "start_time": "2021-12-04T13:40:58.178006",
     "status": "completed"
    },
    "tags": []
   },
   "outputs": [],
   "source": [
    "class MLPModel(nn.Module):\n",
    "    def __init__(self, c_in, c_hidden, c_out, num_layers=2, dp_rate=0.1):\n",
    "        \"\"\"\n",
    "        Args:\n",
    "            c_in: Dimension of input features\n",
    "            c_hidden: Dimension of hidden features\n",
    "            c_out: Dimension of the output features. Usually number of classes in classification\n",
    "            num_layers: Number of hidden layers\n",
    "            dp_rate: Dropout rate to apply throughout the network\n",
    "        \"\"\"\n",
    "        super().__init__()\n",
    "        layers = []\n",
    "        in_channels, out_channels = c_in, c_hidden\n",
    "        for l_idx in range(num_layers - 1):\n",
    "            layers += [nn.Linear(in_channels, out_channels), nn.ReLU(inplace=True), nn.Dropout(dp_rate)]\n",
    "            in_channels = c_hidden\n",
    "        layers += [nn.Linear(in_channels, c_out)]\n",
    "        self.layers = nn.Sequential(*layers)\n",
    "\n",
    "    def forward(self, x, *args, **kwargs):\n",
    "        \"\"\"\n",
    "        Args:\n",
    "            x: Input features per node\n",
    "        \"\"\"\n",
    "        return self.layers(x)"
   ]
  },
  {
   "cell_type": "markdown",
   "id": "5d778faf",
   "metadata": {
    "lines_to_next_cell": 2,
    "papermill": {
     "duration": 0.106951,
     "end_time": "2021-12-04T13:40:58.507148",
     "exception": false,
     "start_time": "2021-12-04T13:40:58.400197",
     "status": "completed"
    },
    "tags": []
   },
   "source": [
    "Finally, we can merge the models into a PyTorch Lightning module which handles the training,\n",
    "validation, and testing for us."
   ]
  },
  {
   "cell_type": "code",
   "execution_count": 14,
   "id": "3a7f17e5",
   "metadata": {
    "execution": {
     "iopub.execute_input": "2021-12-04T13:40:58.734590Z",
     "iopub.status.busy": "2021-12-04T13:40:58.734095Z",
     "iopub.status.idle": "2021-12-04T13:40:58.736282Z",
     "shell.execute_reply": "2021-12-04T13:40:58.735831Z"
    },
    "lines_to_next_cell": 2,
    "papermill": {
     "duration": 0.118274,
     "end_time": "2021-12-04T13:40:58.736389",
     "exception": false,
     "start_time": "2021-12-04T13:40:58.618115",
     "status": "completed"
    },
    "tags": []
   },
   "outputs": [],
   "source": [
    "class NodeLevelGNN(pl.LightningModule):\n",
    "    def __init__(self, model_name, **model_kwargs):\n",
    "        super().__init__()\n",
    "        # Saving hyperparameters\n",
    "        self.save_hyperparameters()\n",
    "\n",
    "        if model_name == \"MLP\":\n",
    "            self.model = MLPModel(**model_kwargs)\n",
    "        else:\n",
    "            self.model = GNNModel(**model_kwargs)\n",
    "        self.loss_module = nn.CrossEntropyLoss()\n",
    "\n",
    "    def forward(self, data, mode=\"train\"):\n",
    "        x, edge_index = data.x, data.edge_index\n",
    "        x = self.model(x, edge_index)\n",
    "\n",
    "        # Only calculate the loss on the nodes corresponding to the mask\n",
    "        if mode == \"train\":\n",
    "            mask = data.train_mask\n",
    "        elif mode == \"val\":\n",
    "            mask = data.val_mask\n",
    "        elif mode == \"test\":\n",
    "            mask = data.test_mask\n",
    "        else:\n",
    "            assert False, \"Unknown forward mode: %s\" % mode\n",
    "\n",
    "        loss = self.loss_module(x[mask], data.y[mask])\n",
    "        acc = (x[mask].argmax(dim=-1) == data.y[mask]).sum().float() / mask.sum()\n",
    "        return loss, acc\n",
    "\n",
    "    def configure_optimizers(self):\n",
    "        # We use SGD here, but Adam works as well\n",
    "        optimizer = optim.SGD(self.parameters(), lr=0.1, momentum=0.9, weight_decay=2e-3)\n",
    "        return optimizer\n",
    "\n",
    "    def training_step(self, batch, batch_idx):\n",
    "        loss, acc = self.forward(batch, mode=\"train\")\n",
    "        self.log(\"train_loss\", loss)\n",
    "        self.log(\"train_acc\", acc)\n",
    "        return loss\n",
    "\n",
    "    def validation_step(self, batch, batch_idx):\n",
    "        _, acc = self.forward(batch, mode=\"val\")\n",
    "        self.log(\"val_acc\", acc)\n",
    "\n",
    "    def test_step(self, batch, batch_idx):\n",
    "        _, acc = self.forward(batch, mode=\"test\")\n",
    "        self.log(\"test_acc\", acc)"
   ]
  },
  {
   "cell_type": "markdown",
   "id": "22c2ca39",
   "metadata": {
    "lines_to_next_cell": 2,
    "papermill": {
     "duration": 0.107459,
     "end_time": "2021-12-04T13:40:58.950509",
     "exception": false,
     "start_time": "2021-12-04T13:40:58.843050",
     "status": "completed"
    },
    "tags": []
   },
   "source": [
    "Additionally to the Lightning module, we define a training function below.\n",
    "As we have a single graph, we use a batch size of 1 for the data loader and share the same data loader for the train,\n",
    "validation, and test set (the mask is picked inside the Lightning module).\n",
    "Besides, we set the argument `progress_bar_refresh_rate` to zero as it usually shows the progress per epoch,\n",
    "but an epoch only consists of a single step.\n",
    "If you have downloaded the pre-trained models in the beginning of the tutorial, we load those instead of training from scratch.\n",
    "Finally, we test the model and return the results."
   ]
  },
  {
   "cell_type": "code",
   "execution_count": 15,
   "id": "61866f38",
   "metadata": {
    "execution": {
     "iopub.execute_input": "2021-12-04T13:40:59.172512Z",
     "iopub.status.busy": "2021-12-04T13:40:59.171930Z",
     "iopub.status.idle": "2021-12-04T13:40:59.174022Z",
     "shell.execute_reply": "2021-12-04T13:40:59.173541Z"
    },
    "lines_to_next_cell": 2,
    "papermill": {
     "duration": 0.117114,
     "end_time": "2021-12-04T13:40:59.174127",
     "exception": false,
     "start_time": "2021-12-04T13:40:59.057013",
     "status": "completed"
    },
    "tags": []
   },
   "outputs": [],
   "source": [
    "def train_node_classifier(model_name, dataset, **model_kwargs):\n",
    "    pl.seed_everything(42)\n",
    "    node_data_loader = geom_data.DataLoader(dataset, batch_size=1)\n",
    "\n",
    "    # Create a PyTorch Lightning trainer\n",
    "    root_dir = os.path.join(CHECKPOINT_PATH, \"NodeLevel\" + model_name)\n",
    "    os.makedirs(root_dir, exist_ok=True)\n",
    "    trainer = pl.Trainer(\n",
    "        default_root_dir=root_dir,\n",
    "        callbacks=[ModelCheckpoint(save_weights_only=True, mode=\"max\", monitor=\"val_acc\")],\n",
    "        gpus=AVAIL_GPUS,\n",
    "        max_epochs=200,\n",
    "        progress_bar_refresh_rate=0,\n",
    "    )  # 0 because epoch size is 1\n",
    "    trainer.logger._default_hp_metric = None  # Optional logging argument that we don't need\n",
    "\n",
    "    # Check whether pretrained model exists. If yes, load it and skip training\n",
    "    pretrained_filename = os.path.join(CHECKPOINT_PATH, \"NodeLevel%s.ckpt\" % model_name)\n",
    "    if os.path.isfile(pretrained_filename):\n",
    "        print(\"Found pretrained model, loading...\")\n",
    "        model = NodeLevelGNN.load_from_checkpoint(pretrained_filename)\n",
    "    else:\n",
    "        pl.seed_everything()\n",
    "        model = NodeLevelGNN(\n",
    "            model_name=model_name, c_in=dataset.num_node_features, c_out=dataset.num_classes, **model_kwargs\n",
    "        )\n",
    "        trainer.fit(model, node_data_loader, node_data_loader)\n",
    "        model = NodeLevelGNN.load_from_checkpoint(trainer.checkpoint_callback.best_model_path)\n",
    "\n",
    "    # Test best model on the test set\n",
    "    test_result = trainer.test(model, test_dataloaders=node_data_loader, verbose=False)\n",
    "    batch = next(iter(node_data_loader))\n",
    "    batch = batch.to(model.device)\n",
    "    _, train_acc = model.forward(batch, mode=\"train\")\n",
    "    _, val_acc = model.forward(batch, mode=\"val\")\n",
    "    result = {\"train\": train_acc, \"val\": val_acc, \"test\": test_result[0][\"test_acc\"]}\n",
    "    return model, result"
   ]
  },
  {
   "cell_type": "markdown",
   "id": "151fdc66",
   "metadata": {
    "lines_to_next_cell": 2,
    "papermill": {
     "duration": 0.106787,
     "end_time": "2021-12-04T13:40:59.388726",
     "exception": false,
     "start_time": "2021-12-04T13:40:59.281939",
     "status": "completed"
    },
    "tags": []
   },
   "source": [
    "Now, we can train our models. First, let's train the simple MLP:"
   ]
  },
  {
   "cell_type": "code",
   "execution_count": 16,
   "id": "d3813ddf",
   "metadata": {
    "execution": {
     "iopub.execute_input": "2021-12-04T13:40:59.610538Z",
     "iopub.status.busy": "2021-12-04T13:40:59.610051Z",
     "iopub.status.idle": "2021-12-04T13:40:59.611768Z",
     "shell.execute_reply": "2021-12-04T13:40:59.612184Z"
    },
    "papermill": {
     "duration": 0.115278,
     "end_time": "2021-12-04T13:40:59.612321",
     "exception": false,
     "start_time": "2021-12-04T13:40:59.497043",
     "status": "completed"
    },
    "tags": []
   },
   "outputs": [],
   "source": [
    "# Small function for printing the test scores\n",
    "def print_results(result_dict):\n",
    "    if \"train\" in result_dict:\n",
    "        print(\"Train accuracy: %4.2f%%\" % (100.0 * result_dict[\"train\"]))\n",
    "    if \"val\" in result_dict:\n",
    "        print(\"Val accuracy:   %4.2f%%\" % (100.0 * result_dict[\"val\"]))\n",
    "    print(\"Test accuracy:  %4.2f%%\" % (100.0 * result_dict[\"test\"]))"
   ]
  },
  {
   "cell_type": "code",
   "execution_count": 17,
   "id": "4910e369",
   "metadata": {
    "execution": {
     "iopub.execute_input": "2021-12-04T13:40:59.829056Z",
     "iopub.status.busy": "2021-12-04T13:40:59.828579Z",
     "iopub.status.idle": "2021-12-04T13:41:02.608738Z",
     "shell.execute_reply": "2021-12-04T13:41:02.609141Z"
    },
    "papermill": {
     "duration": 2.890461,
     "end_time": "2021-12-04T13:41:02.609319",
     "exception": false,
     "start_time": "2021-12-04T13:40:59.718858",
     "status": "completed"
    },
    "tags": []
   },
   "outputs": [
    {
     "name": "stderr",
     "output_type": "stream",
     "text": [
      "Global seed set to 42\n"
     ]
    },
    {
     "name": "stderr",
     "output_type": "stream",
     "text": [
      "/home/AzDevOps_azpcontainer/.local/lib/python3.9/site-packages/torch_geometric/deprecation.py:13: UserWarning: 'data.DataLoader' is deprecated, use 'loader.DataLoader' instead\n",
      "  warnings.warn(out)\n",
      "/home/AzDevOps_azpcontainer/.local/lib/python3.9/site-packages/pytorch_lightning/trainer/connectors/callback_connector.py:90: LightningDeprecationWarning: Setting `Trainer(progress_bar_refresh_rate=0)` is deprecated in v1.5 and will be removed in v1.7. Please pass `pytorch_lightning.callbacks.progress.TQDMProgressBar` with `refresh_rate` directly to the Trainer's `callbacks` argument instead. Or, to disable the progress bar pass `enable_progress_bar = False` to the Trainer.\n",
      "  rank_zero_deprecation(\n",
      "GPU available: True, used: True\n"
     ]
    },
    {
     "name": "stderr",
     "output_type": "stream",
     "text": [
      "TPU available: False, using: 0 TPU cores\n"
     ]
    },
    {
     "name": "stderr",
     "output_type": "stream",
     "text": [
      "IPU available: False, using: 0 IPUs\n"
     ]
    },
    {
     "name": "stderr",
     "output_type": "stream",
     "text": [
      "/home/AzDevOps_azpcontainer/.local/lib/python3.9/site-packages/pytorch_lightning/trainer/trainer.py:901: LightningDeprecationWarning: `trainer.test(test_dataloaders)` is deprecated in v1.4 and will be removed in v1.6. Use `trainer.test(dataloaders)` instead.\n",
      "  rank_zero_deprecation(\n",
      "LOCAL_RANK: 0 - CUDA_VISIBLE_DEVICES: [0,1]\n"
     ]
    },
    {
     "name": "stdout",
     "output_type": "stream",
     "text": [
      "Found pretrained model, loading...\n"
     ]
    },
    {
     "name": "stderr",
     "output_type": "stream",
     "text": [
      "Missing logger folder: saved_models/GNNs/NodeLevelMLP/lightning_logs\n"
     ]
    },
    {
     "name": "stdout",
     "output_type": "stream",
     "text": [
      "Train accuracy: 97.14%\n",
      "Val accuracy:   54.60%\n",
      "Test accuracy:  60.60%\n"
     ]
    },
    {
     "name": "stderr",
     "output_type": "stream",
     "text": [
      "/home/AzDevOps_azpcontainer/.local/lib/python3.9/site-packages/pytorch_lightning/trainer/data_loading.py:111: UserWarning: The dataloader, test_dataloader 0, does not have many workers which may be a bottleneck. Consider increasing the value of the `num_workers` argument` (try 12 which is the number of cpus on this machine) in the `DataLoader` init to improve performance.\n",
      "  rank_zero_warn(\n",
      "/home/AzDevOps_azpcontainer/.local/lib/python3.9/site-packages/pytorch_lightning/utilities/data.py:59: UserWarning: Trying to infer the `batch_size` from an ambiguous collection. The batch size we found is 1. To avoid any miscalculations, use `self.log(..., batch_size=batch_size)`.\n",
      "  warning_cache.warn(\n"
     ]
    }
   ],
   "source": [
    "node_mlp_model, node_mlp_result = train_node_classifier(\n",
    "    model_name=\"MLP\", dataset=cora_dataset, c_hidden=16, num_layers=2, dp_rate=0.1\n",
    ")\n",
    "\n",
    "print_results(node_mlp_result)"
   ]
  },
  {
   "cell_type": "markdown",
   "id": "67009375",
   "metadata": {
    "papermill": {
     "duration": 0.113349,
     "end_time": "2021-12-04T13:41:02.853298",
     "exception": false,
     "start_time": "2021-12-04T13:41:02.739949",
     "status": "completed"
    },
    "tags": []
   },
   "source": [
    "Although the MLP can overfit on the training dataset because of the high-dimensional input features,\n",
    "it does not perform too well on the test set.\n",
    "Let's see if we can beat this score with our graph networks:"
   ]
  },
  {
   "cell_type": "code",
   "execution_count": 18,
   "id": "14f61f57",
   "metadata": {
    "execution": {
     "iopub.execute_input": "2021-12-04T13:41:03.088606Z",
     "iopub.status.busy": "2021-12-04T13:41:03.088115Z",
     "iopub.status.idle": "2021-12-04T13:41:03.130729Z",
     "shell.execute_reply": "2021-12-04T13:41:03.130253Z"
    },
    "papermill": {
     "duration": 0.160868,
     "end_time": "2021-12-04T13:41:03.130865",
     "exception": false,
     "start_time": "2021-12-04T13:41:02.969997",
     "status": "completed"
    },
    "tags": []
   },
   "outputs": [
    {
     "name": "stderr",
     "output_type": "stream",
     "text": [
      "Global seed set to 42\n"
     ]
    },
    {
     "name": "stderr",
     "output_type": "stream",
     "text": [
      "GPU available: True, used: True\n"
     ]
    },
    {
     "name": "stderr",
     "output_type": "stream",
     "text": [
      "TPU available: False, using: 0 TPU cores\n"
     ]
    },
    {
     "name": "stderr",
     "output_type": "stream",
     "text": [
      "IPU available: False, using: 0 IPUs\n"
     ]
    },
    {
     "name": "stderr",
     "output_type": "stream",
     "text": [
      "LOCAL_RANK: 0 - CUDA_VISIBLE_DEVICES: [0,1]\n"
     ]
    },
    {
     "name": "stderr",
     "output_type": "stream",
     "text": [
      "Missing logger folder: saved_models/GNNs/NodeLevelGNN/lightning_logs\n"
     ]
    },
    {
     "name": "stdout",
     "output_type": "stream",
     "text": [
      "Found pretrained model, loading...\n",
      "Train accuracy: 100.00%\n",
      "Val accuracy:   78.60%\n",
      "Test accuracy:  82.40%\n"
     ]
    }
   ],
   "source": [
    "node_gnn_model, node_gnn_result = train_node_classifier(\n",
    "    model_name=\"GNN\", layer_name=\"GCN\", dataset=cora_dataset, c_hidden=16, num_layers=2, dp_rate=0.1\n",
    ")\n",
    "print_results(node_gnn_result)"
   ]
  },
  {
   "cell_type": "markdown",
   "id": "467447b4",
   "metadata": {
    "papermill": {
     "duration": 0.119431,
     "end_time": "2021-12-04T13:41:03.370537",
     "exception": false,
     "start_time": "2021-12-04T13:41:03.251106",
     "status": "completed"
    },
    "tags": []
   },
   "source": [
    "As we would have hoped for, the GNN model outperforms the MLP by quite a margin.\n",
    "This shows that using the graph information indeed improves our predictions and lets us generalizes better.\n",
    "\n",
    "The hyperparameters in the model have been chosen to create a relatively small network.\n",
    "This is because the first layer with an input dimension of 1433 can be relatively expensive to perform for large graphs.\n",
    "In general, GNNs can become relatively expensive for very big graphs.\n",
    "This is why such GNNs either have a small hidden size or use a special batching strategy\n",
    "where we sample a connected subgraph of the big, original graph."
   ]
  },
  {
   "cell_type": "markdown",
   "id": "3276db43",
   "metadata": {
    "papermill": {
     "duration": 0.117586,
     "end_time": "2021-12-04T13:41:03.606408",
     "exception": false,
     "start_time": "2021-12-04T13:41:03.488822",
     "status": "completed"
    },
    "tags": []
   },
   "source": [
    "### Edge-level tasks: Link prediction\n",
    "\n",
    "In some applications, we might have to predict on an edge-level instead of node-level.\n",
    "The most common edge-level task in GNN is link prediction.\n",
    "Link prediction means that given a graph, we want to predict whether there will be/should be an edge between two nodes or not.\n",
    "For example, in a social network, this is used by Facebook and co to propose new friends to you.\n",
    "Again, graph level information can be crucial to perform this task.\n",
    "The output prediction is usually done by performing a similarity metric on the pair of node features,\n",
    "which should be 1 if there should be a link, and otherwise close to 0.\n",
    "To keep the tutorial short, we will not implement this task ourselves.\n",
    "Nevertheless, there are many good resources out there if you are interested in looking closer at this task.\n",
    "Tutorials and papers for this topic include:\n",
    "\n",
    "* [PyTorch Geometric example](https://github.com/rusty1s/pytorch_geometric/blob/master/examples/link_pred.py)\n",
    "* [Graph Neural Networks: A Review of Methods and Applications](https://arxiv.org/pdf/1812.08434.pdf), Zhou et al.\n",
    "2019\n",
    "* [Link Prediction Based on Graph Neural Networks](https://papers.nips.cc/paper/2018/file/53f0d7c537d99b3824f0f99d62ea2428-Paper.pdf), Zhang and Chen, 2018."
   ]
  },
  {
   "cell_type": "markdown",
   "id": "99da6e30",
   "metadata": {
    "papermill": {
     "duration": 0.119348,
     "end_time": "2021-12-04T13:41:03.846512",
     "exception": false,
     "start_time": "2021-12-04T13:41:03.727164",
     "status": "completed"
    },
    "tags": []
   },
   "source": [
    "### Graph-level tasks: Graph classification\n",
    "\n",
    "Finally, in this part of the tutorial, we will have a closer look at how to apply GNNs to the task of graph classification.\n",
    "The goal is to classify an entire graph instead of single nodes or edges.\n",
    "Therefore, we are also given a dataset of multiple graphs that we need to classify based on some structural graph properties.\n",
    "The most common task for graph classification is molecular property prediction, in which molecules are represented as graphs.\n",
    "Each atom is linked to a node, and edges in the graph are the bonds between atoms.\n",
    "For example, look at the figure below.\n",
    "\n",
    "<center width=\"100%\"><img src=\"https://github.com/PyTorchLightning/lightning-tutorials/raw/main/course_UvA-DL/06-graph-neural-networks/molecule_graph.svg\" width=\"600px\"></center>\n",
    "\n",
    "On the left, we have an arbitrary, small molecule with different atoms, whereas the right part of the image shows the graph representation.\n",
    "The atom types are abstracted as node features (e.g. a one-hot vector), and the different bond types are used as edge features.\n",
    "For simplicity, we will neglect the edge attributes in this tutorial, but you can include by using methods like the\n",
    "[Relational Graph Convolution](https://arxiv.org/abs/1703.06103) that uses a different weight matrix for each edge type.\n",
    "\n",
    "The dataset we will use below is called the MUTAG dataset.\n",
    "It is a common small benchmark for graph classification algorithms, and contain 188 graphs with 18 nodes\n",
    "and 20 edges on average for each graph.\n",
    "The graph nodes have 7 different labels/atom types, and the binary graph labels represent \"their mutagenic effect\n",
    "on a specific gram negative bacterium\" (the specific meaning of the labels are not too important here).\n",
    "The dataset is part of a large collection of different graph classification datasets, known as the\n",
    "[TUDatasets](https://chrsmrrs.github.io/datasets/), which is directly accessible\n",
    "via `torch_geometric.datasets.TUDataset` ([documentation](https://pytorch-geometric.readthedocs.io/en/latest/modules/datasets.html#torch_geometric.datasets.TUDataset)) in PyTorch Geometric.\n",
    "We can load the dataset below."
   ]
  },
  {
   "cell_type": "code",
   "execution_count": 19,
   "id": "5e46d072",
   "metadata": {
    "execution": {
     "iopub.execute_input": "2021-12-04T13:41:04.088338Z",
     "iopub.status.busy": "2021-12-04T13:41:04.087817Z",
     "iopub.status.idle": "2021-12-04T13:41:04.676875Z",
     "shell.execute_reply": "2021-12-04T13:41:04.677273Z"
    },
    "papermill": {
     "duration": 0.711438,
     "end_time": "2021-12-04T13:41:04.677450",
     "exception": false,
     "start_time": "2021-12-04T13:41:03.966012",
     "status": "completed"
    },
    "tags": []
   },
   "outputs": [
    {
     "name": "stderr",
     "output_type": "stream",
     "text": [
      "Downloading https://www.chrsmrrs.com/graphkerneldatasets/MUTAG.zip\n"
     ]
    },
    {
     "name": "stderr",
     "output_type": "stream",
     "text": [
      "Extracting /__w/2/s/.datasets/MUTAG/MUTAG.zip\n",
      "Processing...\n",
      "Done!\n"
     ]
    }
   ],
   "source": [
    "tu_dataset = torch_geometric.datasets.TUDataset(root=DATASET_PATH, name=\"MUTAG\")"
   ]
  },
  {
   "cell_type": "markdown",
   "id": "8eb9ff56",
   "metadata": {
    "papermill": {
     "duration": 0.120178,
     "end_time": "2021-12-04T13:41:04.918354",
     "exception": false,
     "start_time": "2021-12-04T13:41:04.798176",
     "status": "completed"
    },
    "tags": []
   },
   "source": [
    "Let's look at some statistics for the dataset:"
   ]
  },
  {
   "cell_type": "code",
   "execution_count": 20,
   "id": "ab00dd07",
   "metadata": {
    "execution": {
     "iopub.execute_input": "2021-12-04T13:41:05.176938Z",
     "iopub.status.busy": "2021-12-04T13:41:05.176439Z",
     "iopub.status.idle": "2021-12-04T13:41:05.179151Z",
     "shell.execute_reply": "2021-12-04T13:41:05.179545Z"
    },
    "papermill": {
     "duration": 0.140974,
     "end_time": "2021-12-04T13:41:05.179685",
     "exception": false,
     "start_time": "2021-12-04T13:41:05.038711",
     "status": "completed"
    },
    "tags": []
   },
   "outputs": [
    {
     "name": "stdout",
     "output_type": "stream",
     "text": [
      "Data object: Data(x=[3371, 7], edge_index=[2, 7442], edge_attr=[7442, 4], y=[188])\n",
      "Length: 188\n",
      "Average label: 0.66\n"
     ]
    }
   ],
   "source": [
    "print(\"Data object:\", tu_dataset.data)\n",
    "print(\"Length:\", len(tu_dataset))\n",
    "print(\"Average label: %4.2f\" % (tu_dataset.data.y.float().mean().item()))"
   ]
  },
  {
   "cell_type": "markdown",
   "id": "7271fe1d",
   "metadata": {
    "papermill": {
     "duration": 0.12379,
     "end_time": "2021-12-04T13:41:05.425117",
     "exception": false,
     "start_time": "2021-12-04T13:41:05.301327",
     "status": "completed"
    },
    "tags": []
   },
   "source": [
    "The first line shows how the dataset stores different graphs.\n",
    "The nodes, edges, and labels of each graph are concatenated to one tensor, and the dataset stores the indices\n",
    "where to split the tensors correspondingly.\n",
    "The length of the dataset is the number of graphs we have, and the \"average label\"\n",
    "denotes the percentage of the graph with label 1.\n",
    "As long as the percentage is in the range of 0.5, we have a relatively balanced dataset.\n",
    "It happens quite often that graph datasets are very imbalanced, hence checking the class balance\n",
    "is always a good thing to do.\n",
    "\n",
    "Next, we will split our dataset into a training and test part.\n",
    "Note that we do not use a validation set this time because of the small size of the dataset.\n",
    "Therefore, our model might overfit slightly on the validation set due to the noise of the evaluation,\n",
    "but we still get an estimate of the performance on untrained data."
   ]
  },
  {
   "cell_type": "code",
   "execution_count": 21,
   "id": "77e2daad",
   "metadata": {
    "execution": {
     "iopub.execute_input": "2021-12-04T13:41:05.672701Z",
     "iopub.status.busy": "2021-12-04T13:41:05.672216Z",
     "iopub.status.idle": "2021-12-04T13:41:05.674269Z",
     "shell.execute_reply": "2021-12-04T13:41:05.673789Z"
    },
    "papermill": {
     "duration": 0.127033,
     "end_time": "2021-12-04T13:41:05.674378",
     "exception": false,
     "start_time": "2021-12-04T13:41:05.547345",
     "status": "completed"
    },
    "tags": []
   },
   "outputs": [],
   "source": [
    "torch.manual_seed(42)\n",
    "tu_dataset.shuffle()\n",
    "train_dataset = tu_dataset[:150]\n",
    "test_dataset = tu_dataset[150:]"
   ]
  },
  {
   "cell_type": "markdown",
   "id": "03218d77",
   "metadata": {
    "papermill": {
     "duration": 0.123173,
     "end_time": "2021-12-04T13:41:05.918460",
     "exception": false,
     "start_time": "2021-12-04T13:41:05.795287",
     "status": "completed"
    },
    "tags": []
   },
   "source": [
    "When using a data loader, we encounter a problem with batching $N$ graphs.\n",
    "Each graph in the batch can have a different number of nodes and edges, and hence we would require a lot of padding to obtain a single tensor.\n",
    "Torch geometric uses a different, more efficient approach: we can view the $N$ graphs in a batch as a single large graph with concatenated node and edge list.\n",
    "As there is no edge between the $N$ graphs, running GNN layers on the large graph gives us the same output as running the GNN on each graph separately.\n",
    "Visually, this batching strategy is visualized below (figure credit - PyTorch Geometric team,\n",
    "[tutorial here](https://colab.research.google.com/drive/1I8a0DfQ3fI7Njc62__mVXUlcAleUclnb?usp=sharing#scrollTo=2owRWKcuoALo)).\n",
    "\n",
    "<center width=\"100%\"><img src=\"https://github.com/PyTorchLightning/lightning-tutorials/raw/main/course_UvA-DL/06-graph-neural-networks/torch_geometric_stacking_graphs.png\" width=\"600px\"></center>\n",
    "\n",
    "The adjacency matrix is zero for any nodes that come from two different graphs, and otherwise according to the adjacency matrix of the individual graph.\n",
    "Luckily, this strategy is already implemented in torch geometric, and hence we can use the corresponding data loader:"
   ]
  },
  {
   "cell_type": "code",
   "execution_count": 22,
   "id": "8b5fda2a",
   "metadata": {
    "execution": {
     "iopub.execute_input": "2021-12-04T13:41:06.169239Z",
     "iopub.status.busy": "2021-12-04T13:41:06.168749Z",
     "iopub.status.idle": "2021-12-04T13:41:06.170802Z",
     "shell.execute_reply": "2021-12-04T13:41:06.170380Z"
    },
    "papermill": {
     "duration": 0.128301,
     "end_time": "2021-12-04T13:41:06.170914",
     "exception": false,
     "start_time": "2021-12-04T13:41:06.042613",
     "status": "completed"
    },
    "tags": []
   },
   "outputs": [],
   "source": [
    "graph_train_loader = geom_data.DataLoader(train_dataset, batch_size=BATCH_SIZE, shuffle=True)\n",
    "graph_val_loader = geom_data.DataLoader(test_dataset, batch_size=BATCH_SIZE)  # Additional loader for a larger datasets\n",
    "graph_test_loader = geom_data.DataLoader(test_dataset, batch_size=BATCH_SIZE)"
   ]
  },
  {
   "cell_type": "markdown",
   "id": "b4c22c36",
   "metadata": {
    "papermill": {
     "duration": 0.123031,
     "end_time": "2021-12-04T13:41:06.416257",
     "exception": false,
     "start_time": "2021-12-04T13:41:06.293226",
     "status": "completed"
    },
    "tags": []
   },
   "source": [
    "Let's load a batch below to see the batching in action:"
   ]
  },
  {
   "cell_type": "code",
   "execution_count": 23,
   "id": "3b5b0ff7",
   "metadata": {
    "execution": {
     "iopub.execute_input": "2021-12-04T13:41:06.664096Z",
     "iopub.status.busy": "2021-12-04T13:41:06.663593Z",
     "iopub.status.idle": "2021-12-04T13:41:06.682048Z",
     "shell.execute_reply": "2021-12-04T13:41:06.681550Z"
    },
    "papermill": {
     "duration": 0.143912,
     "end_time": "2021-12-04T13:41:06.682167",
     "exception": false,
     "start_time": "2021-12-04T13:41:06.538255",
     "status": "completed"
    },
    "tags": []
   },
   "outputs": [
    {
     "name": "stdout",
     "output_type": "stream",
     "text": [
      "Batch: DataBatch(edge_index=[2, 1512], x=[687, 7], edge_attr=[1512, 4], y=[38], batch=[687], ptr=[39])\n",
      "Labels: tensor([1, 1, 1, 0, 0, 0, 1, 1, 1, 0])\n",
      "Batch indices: tensor([0, 0, 0, 0, 0, 0, 0, 0, 0, 0, 0, 0, 1, 1, 1, 1, 1, 1, 1, 1, 1, 1, 1, 1,\n",
      "        1, 1, 1, 1, 1, 1, 1, 1, 1, 1, 2, 2, 2, 2, 2, 2])\n"
     ]
    }
   ],
   "source": [
    "batch = next(iter(graph_test_loader))\n",
    "print(\"Batch:\", batch)\n",
    "print(\"Labels:\", batch.y[:10])\n",
    "print(\"Batch indices:\", batch.batch[:40])"
   ]
  },
  {
   "cell_type": "markdown",
   "id": "107d7f26",
   "metadata": {
    "lines_to_next_cell": 2,
    "papermill": {
     "duration": 0.122643,
     "end_time": "2021-12-04T13:41:06.928523",
     "exception": false,
     "start_time": "2021-12-04T13:41:06.805880",
     "status": "completed"
    },
    "tags": []
   },
   "source": [
    "We have 38 graphs stacked together for the test dataset.\n",
    "The batch indices, stored in `batch`, show that the first 12 nodes belong to the first graph,\n",
    "the next 22 to the second graph, and so on.\n",
    "These indices are important for performing the final prediction.\n",
    "To perform a prediction over a whole graph, we usually perform a pooling operation over all nodes after running the GNN model.\n",
    "In this case, we will use the average pooling.\n",
    "Hence, we need to know which nodes should be included in which average pool.\n",
    "Using this pooling, we can already create our graph network below.\n",
    "Specifically, we re-use our class `GNNModel` from before,\n",
    "and simply add an average pool and single linear layer for the graph prediction task."
   ]
  },
  {
   "cell_type": "code",
   "execution_count": 24,
   "id": "775db834",
   "metadata": {
    "execution": {
     "iopub.execute_input": "2021-12-04T13:41:07.177704Z",
     "iopub.status.busy": "2021-12-04T13:41:07.177211Z",
     "iopub.status.idle": "2021-12-04T13:41:07.179269Z",
     "shell.execute_reply": "2021-12-04T13:41:07.178788Z"
    },
    "lines_to_next_cell": 2,
    "papermill": {
     "duration": 0.128892,
     "end_time": "2021-12-04T13:41:07.179373",
     "exception": false,
     "start_time": "2021-12-04T13:41:07.050481",
     "status": "completed"
    },
    "tags": []
   },
   "outputs": [],
   "source": [
    "class GraphGNNModel(nn.Module):\n",
    "    def __init__(self, c_in, c_hidden, c_out, dp_rate_linear=0.5, **kwargs):\n",
    "        \"\"\"\n",
    "        Args:\n",
    "            c_in: Dimension of input features\n",
    "            c_hidden: Dimension of hidden features\n",
    "            c_out: Dimension of output features (usually number of classes)\n",
    "            dp_rate_linear: Dropout rate before the linear layer (usually much higher than inside the GNN)\n",
    "            kwargs: Additional arguments for the GNNModel object\n",
    "        \"\"\"\n",
    "        super().__init__()\n",
    "        self.GNN = GNNModel(c_in=c_in, c_hidden=c_hidden, c_out=c_hidden, **kwargs)  # Not our prediction output yet!\n",
    "        self.head = nn.Sequential(nn.Dropout(dp_rate_linear), nn.Linear(c_hidden, c_out))\n",
    "\n",
    "    def forward(self, x, edge_index, batch_idx):\n",
    "        \"\"\"\n",
    "        Args:\n",
    "            x: Input features per node\n",
    "            edge_index: List of vertex index pairs representing the edges in the graph (PyTorch geometric notation)\n",
    "            batch_idx: Index of batch element for each node\n",
    "        \"\"\"\n",
    "        x = self.GNN(x, edge_index)\n",
    "        x = geom_nn.global_mean_pool(x, batch_idx)  # Average pooling\n",
    "        x = self.head(x)\n",
    "        return x"
   ]
  },
  {
   "cell_type": "markdown",
   "id": "02f82f9d",
   "metadata": {
    "lines_to_next_cell": 2,
    "papermill": {
     "duration": 0.125081,
     "end_time": "2021-12-04T13:41:07.426533",
     "exception": false,
     "start_time": "2021-12-04T13:41:07.301452",
     "status": "completed"
    },
    "tags": []
   },
   "source": [
    "Finally, we can create a PyTorch Lightning module to handle the training.\n",
    "It is similar to the modules we have seen before and does nothing surprising in terms of training.\n",
    "As we have a binary classification task, we use the Binary Cross Entropy loss."
   ]
  },
  {
   "cell_type": "code",
   "execution_count": 25,
   "id": "21fa44b6",
   "metadata": {
    "execution": {
     "iopub.execute_input": "2021-12-04T13:41:07.690257Z",
     "iopub.status.busy": "2021-12-04T13:41:07.689753Z",
     "iopub.status.idle": "2021-12-04T13:41:07.691356Z",
     "shell.execute_reply": "2021-12-04T13:41:07.691747Z"
    },
    "lines_to_next_cell": 2,
    "papermill": {
     "duration": 0.13367,
     "end_time": "2021-12-04T13:41:07.691889",
     "exception": false,
     "start_time": "2021-12-04T13:41:07.558219",
     "status": "completed"
    },
    "tags": []
   },
   "outputs": [],
   "source": [
    "class GraphLevelGNN(pl.LightningModule):\n",
    "    def __init__(self, **model_kwargs):\n",
    "        super().__init__()\n",
    "        # Saving hyperparameters\n",
    "        self.save_hyperparameters()\n",
    "\n",
    "        self.model = GraphGNNModel(**model_kwargs)\n",
    "        self.loss_module = nn.BCEWithLogitsLoss() if self.hparams.c_out == 1 else nn.CrossEntropyLoss()\n",
    "\n",
    "    def forward(self, data, mode=\"train\"):\n",
    "        x, edge_index, batch_idx = data.x, data.edge_index, data.batch\n",
    "        x = self.model(x, edge_index, batch_idx)\n",
    "        x = x.squeeze(dim=-1)\n",
    "\n",
    "        if self.hparams.c_out == 1:\n",
    "            preds = (x > 0).float()\n",
    "            data.y = data.y.float()\n",
    "        else:\n",
    "            preds = x.argmax(dim=-1)\n",
    "        loss = self.loss_module(x, data.y)\n",
    "        acc = (preds == data.y).sum().float() / preds.shape[0]\n",
    "        return loss, acc\n",
    "\n",
    "    def configure_optimizers(self):\n",
    "        # High lr because of small dataset and small model\n",
    "        optimizer = optim.AdamW(self.parameters(), lr=1e-2, weight_decay=0.0)\n",
    "        return optimizer\n",
    "\n",
    "    def training_step(self, batch, batch_idx):\n",
    "        loss, acc = self.forward(batch, mode=\"train\")\n",
    "        self.log(\"train_loss\", loss)\n",
    "        self.log(\"train_acc\", acc)\n",
    "        return loss\n",
    "\n",
    "    def validation_step(self, batch, batch_idx):\n",
    "        _, acc = self.forward(batch, mode=\"val\")\n",
    "        self.log(\"val_acc\", acc)\n",
    "\n",
    "    def test_step(self, batch, batch_idx):\n",
    "        _, acc = self.forward(batch, mode=\"test\")\n",
    "        self.log(\"test_acc\", acc)"
   ]
  },
  {
   "cell_type": "markdown",
   "id": "6c530b72",
   "metadata": {
    "lines_to_next_cell": 2,
    "papermill": {
     "duration": 0.121927,
     "end_time": "2021-12-04T13:41:07.935843",
     "exception": false,
     "start_time": "2021-12-04T13:41:07.813916",
     "status": "completed"
    },
    "tags": []
   },
   "source": [
    "Below we train the model on our dataset. It resembles the typical training functions we have seen so far."
   ]
  },
  {
   "cell_type": "code",
   "execution_count": 26,
   "id": "a9f3beef",
   "metadata": {
    "execution": {
     "iopub.execute_input": "2021-12-04T13:41:08.195880Z",
     "iopub.status.busy": "2021-12-04T13:41:08.190844Z",
     "iopub.status.idle": "2021-12-04T13:41:08.198010Z",
     "shell.execute_reply": "2021-12-04T13:41:08.197520Z"
    },
    "papermill": {
     "duration": 0.136517,
     "end_time": "2021-12-04T13:41:08.198120",
     "exception": false,
     "start_time": "2021-12-04T13:41:08.061603",
     "status": "completed"
    },
    "tags": []
   },
   "outputs": [],
   "source": [
    "def train_graph_classifier(model_name, **model_kwargs):\n",
    "    pl.seed_everything(42)\n",
    "\n",
    "    # Create a PyTorch Lightning trainer with the generation callback\n",
    "    root_dir = os.path.join(CHECKPOINT_PATH, \"GraphLevel\" + model_name)\n",
    "    os.makedirs(root_dir, exist_ok=True)\n",
    "    trainer = pl.Trainer(\n",
    "        default_root_dir=root_dir,\n",
    "        callbacks=[ModelCheckpoint(save_weights_only=True, mode=\"max\", monitor=\"val_acc\")],\n",
    "        gpus=AVAIL_GPUS,\n",
    "        max_epochs=500,\n",
    "        progress_bar_refresh_rate=0,\n",
    "    )\n",
    "    trainer.logger._default_hp_metric = None\n",
    "\n",
    "    # Check whether pretrained model exists. If yes, load it and skip training\n",
    "    pretrained_filename = os.path.join(CHECKPOINT_PATH, \"GraphLevel%s.ckpt\" % model_name)\n",
    "    if os.path.isfile(pretrained_filename):\n",
    "        print(\"Found pretrained model, loading...\")\n",
    "        model = GraphLevelGNN.load_from_checkpoint(pretrained_filename)\n",
    "    else:\n",
    "        pl.seed_everything(42)\n",
    "        model = GraphLevelGNN(\n",
    "            c_in=tu_dataset.num_node_features,\n",
    "            c_out=1 if tu_dataset.num_classes == 2 else tu_dataset.num_classes,\n",
    "            **model_kwargs,\n",
    "        )\n",
    "        trainer.fit(model, graph_train_loader, graph_val_loader)\n",
    "        model = GraphLevelGNN.load_from_checkpoint(trainer.checkpoint_callback.best_model_path)\n",
    "\n",
    "    # Test best model on validation and test set\n",
    "    train_result = trainer.test(model, test_dataloaders=graph_train_loader, verbose=False)\n",
    "    test_result = trainer.test(model, test_dataloaders=graph_test_loader, verbose=False)\n",
    "    result = {\"test\": test_result[0][\"test_acc\"], \"train\": train_result[0][\"test_acc\"]}\n",
    "    return model, result"
   ]
  },
  {
   "cell_type": "markdown",
   "id": "54319b31",
   "metadata": {
    "papermill": {
     "duration": 0.121786,
     "end_time": "2021-12-04T13:41:08.443355",
     "exception": false,
     "start_time": "2021-12-04T13:41:08.321569",
     "status": "completed"
    },
    "tags": []
   },
   "source": [
    "Finally, let's perform the training and testing.\n",
    "Feel free to experiment with different GNN layers, hyperparameters, etc."
   ]
  },
  {
   "cell_type": "code",
   "execution_count": 27,
   "id": "be9c6cd6",
   "metadata": {
    "execution": {
     "iopub.execute_input": "2021-12-04T13:41:08.691821Z",
     "iopub.status.busy": "2021-12-04T13:41:08.691335Z",
     "iopub.status.idle": "2021-12-04T13:41:08.751858Z",
     "shell.execute_reply": "2021-12-04T13:41:08.751415Z"
    },
    "papermill": {
     "duration": 0.185795,
     "end_time": "2021-12-04T13:41:08.751982",
     "exception": false,
     "start_time": "2021-12-04T13:41:08.566187",
     "status": "completed"
    },
    "tags": []
   },
   "outputs": [
    {
     "name": "stderr",
     "output_type": "stream",
     "text": [
      "Global seed set to 42\n"
     ]
    },
    {
     "name": "stderr",
     "output_type": "stream",
     "text": [
      "GPU available: True, used: True\n"
     ]
    },
    {
     "name": "stderr",
     "output_type": "stream",
     "text": [
      "TPU available: False, using: 0 TPU cores\n"
     ]
    },
    {
     "name": "stderr",
     "output_type": "stream",
     "text": [
      "IPU available: False, using: 0 IPUs\n"
     ]
    },
    {
     "name": "stderr",
     "output_type": "stream",
     "text": [
      "LOCAL_RANK: 0 - CUDA_VISIBLE_DEVICES: [0,1]\n"
     ]
    },
    {
     "name": "stderr",
     "output_type": "stream",
     "text": [
      "Missing logger folder: saved_models/GNNs/GraphLevelGraphConv/lightning_logs\n"
     ]
    },
    {
     "name": "stderr",
     "output_type": "stream",
     "text": [
      "/home/AzDevOps_azpcontainer/.local/lib/python3.9/site-packages/pytorch_lightning/trainer/data_loading.py:453: UserWarning: Your `test_dataloader` has `shuffle=True`,it is strongly recommended that you turn this off for val/test/predict dataloaders.\n",
      "  rank_zero_warn(\n",
      "/home/AzDevOps_azpcontainer/.local/lib/python3.9/site-packages/pytorch_lightning/utilities/data.py:59: UserWarning: Trying to infer the `batch_size` from an ambiguous collection. The batch size we found is 10. To avoid any miscalculations, use `self.log(..., batch_size=batch_size)`.\n",
      "  warning_cache.warn(\n",
      "LOCAL_RANK: 0 - CUDA_VISIBLE_DEVICES: [0,1]\n"
     ]
    },
    {
     "name": "stdout",
     "output_type": "stream",
     "text": [
      "Found pretrained model, loading...\n"
     ]
    }
   ],
   "source": [
    "model, result = train_graph_classifier(\n",
    "    model_name=\"GraphConv\", c_hidden=256, layer_name=\"GraphConv\", num_layers=3, dp_rate_linear=0.5, dp_rate=0.0\n",
    ")"
   ]
  },
  {
   "cell_type": "code",
   "execution_count": 28,
   "id": "87bf0287",
   "metadata": {
    "execution": {
     "iopub.execute_input": "2021-12-04T13:41:09.013202Z",
     "iopub.status.busy": "2021-12-04T13:41:09.012712Z",
     "iopub.status.idle": "2021-12-04T13:41:09.015328Z",
     "shell.execute_reply": "2021-12-04T13:41:09.014834Z"
    },
    "papermill": {
     "duration": 0.134016,
     "end_time": "2021-12-04T13:41:09.015434",
     "exception": false,
     "start_time": "2021-12-04T13:41:08.881418",
     "status": "completed"
    },
    "tags": []
   },
   "outputs": [
    {
     "name": "stdout",
     "output_type": "stream",
     "text": [
      "Train performance: 92.67%\n",
      "Test performance:  92.11%\n"
     ]
    }
   ],
   "source": [
    "print(\"Train performance: %4.2f%%\" % (100.0 * result[\"train\"]))\n",
    "print(\"Test performance:  %4.2f%%\" % (100.0 * result[\"test\"]))"
   ]
  },
  {
   "cell_type": "markdown",
   "id": "26145680",
   "metadata": {
    "papermill": {
     "duration": 0.128521,
     "end_time": "2021-12-04T13:41:09.273779",
     "exception": false,
     "start_time": "2021-12-04T13:41:09.145258",
     "status": "completed"
    },
    "tags": []
   },
   "source": [
    "The test performance shows that we obtain quite good scores on an unseen part of the dataset.\n",
    "It should be noted that as we have been using the test set for validation as well, we might have overfitted slightly to this set.\n",
    "Nevertheless, the experiment shows us that GNNs can be indeed powerful to predict the properties of graphs and/or molecules."
   ]
  },
  {
   "cell_type": "markdown",
   "id": "3e64c36d",
   "metadata": {
    "papermill": {
     "duration": 0.130267,
     "end_time": "2021-12-04T13:41:09.532893",
     "exception": false,
     "start_time": "2021-12-04T13:41:09.402626",
     "status": "completed"
    },
    "tags": []
   },
   "source": [
    "## Conclusion\n",
    "\n",
    "In this tutorial, we have seen the application of neural networks to graph structures.\n",
    "We looked at how a graph can be represented (adjacency matrix or edge list),\n",
    "and discussed the implementation of common graph layers: GCN and GAT.\n",
    "The implementations showed the practical side of the layers, which is often easier than the theory.\n",
    "Finally, we experimented with different tasks, on node-, edge- and graph-level.\n",
    "Overall, we have seen that including graph information in the predictions can be crucial for achieving high performance.\n",
    "There are a lot of applications that benefit from GNNs,\n",
    "and the importance of these networks will likely increase over the next years."
   ]
  },
  {
   "cell_type": "markdown",
   "id": "89159e6c",
   "metadata": {
    "papermill": {
     "duration": 0.12946,
     "end_time": "2021-12-04T13:41:09.793581",
     "exception": false,
     "start_time": "2021-12-04T13:41:09.664121",
     "status": "completed"
    },
    "tags": []
   },
   "source": [
    "## Congratulations - Time to Join the Community!\n",
    "\n",
    "Congratulations on completing this notebook tutorial! If you enjoyed this and would like to join the Lightning\n",
    "movement, you can do so in the following ways!\n",
    "\n",
    "### Star [Lightning](https://github.com/PyTorchLightning/pytorch-lightning) on GitHub\n",
    "The easiest way to help our community is just by starring the GitHub repos! This helps raise awareness of the cool\n",
    "tools we're building.\n",
    "\n",
    "### Join our [Slack](https://join.slack.com/t/pytorch-lightning/shared_invite/zt-pw5v393p-qRaDgEk24~EjiZNBpSQFgQ)!\n",
    "The best way to keep up to date on the latest advancements is to join our community! Make sure to introduce yourself\n",
    "and share your interests in `#general` channel\n",
    "\n",
    "\n",
    "### Contributions !\n",
    "The best way to contribute to our community is to become a code contributor! At any time you can go to\n",
    "[Lightning](https://github.com/PyTorchLightning/pytorch-lightning) or [Bolt](https://github.com/PyTorchLightning/lightning-bolts)\n",
    "GitHub Issues page and filter for \"good first issue\".\n",
    "\n",
    "* [Lightning good first issue](https://github.com/PyTorchLightning/pytorch-lightning/issues?q=is%3Aopen+is%3Aissue+label%3A%22good+first+issue%22)\n",
    "* [Bolt good first issue](https://github.com/PyTorchLightning/lightning-bolts/issues?q=is%3Aopen+is%3Aissue+label%3A%22good+first+issue%22)\n",
    "* You can also contribute your own notebooks with useful examples !\n",
    "\n",
    "### Great thanks from the entire Pytorch Lightning Team for your interest !\n",
    "\n",
    "![Pytorch Lightning](data:image/png;base64,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){height=\"60px\" width=\"240px\"}"
   ]
  }
 ],
 "metadata": {
  "jupytext": {
   "cell_metadata_filter": "colab_type,id,colab,-all",
   "formats": "ipynb,py:percent",
   "main_language": "python"
  },
  "language_info": {
   "codemirror_mode": {
    "name": "ipython",
    "version": 3
   },
   "file_extension": ".py",
   "mimetype": "text/x-python",
   "name": "python",
   "nbconvert_exporter": "python",
   "pygments_lexer": "ipython3",
   "version": "3.9.7"
  },
  "papermill": {
   "default_parameters": {},
   "duration": 26.199549,
   "end_time": "2021-12-04T13:41:10.651365",
   "environment_variables": {},
   "exception": null,
   "input_path": "course_UvA-DL/06-graph-neural-networks/GNN_overview.ipynb",
   "output_path": ".notebooks/course_UvA-DL/06-graph-neural-networks.ipynb",
   "parameters": {},
   "start_time": "2021-12-04T13:40:44.451816",
   "version": "2.3.3"
  }
 },
 "nbformat": 4,
 "nbformat_minor": 5
}