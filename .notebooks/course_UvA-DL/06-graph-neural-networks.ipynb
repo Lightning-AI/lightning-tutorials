version https://git-lfs.github.com/spec/v1
oid sha256:a1436959afa0eebe2c430b2fead38a5fb40ff17e8682e58c9e5daff010879aec
size 106594
