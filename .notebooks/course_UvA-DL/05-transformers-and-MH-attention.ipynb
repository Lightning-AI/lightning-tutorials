version https://git-lfs.github.com/spec/v1
oid sha256:ad69bd93039e37091d2d19686b4f6c058497933ff5e2ee1336918a534eef8663
size 3024480
