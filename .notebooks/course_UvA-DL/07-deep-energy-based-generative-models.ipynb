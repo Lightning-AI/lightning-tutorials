version https://git-lfs.github.com/spec/v1
oid sha256:b0b86f5b1b8ae29c7bb2a7c8a8114c9cb5be05447dfcb1c5425fb46945ab7bd8
size 597794
