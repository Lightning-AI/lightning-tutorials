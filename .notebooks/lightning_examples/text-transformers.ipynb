version https://git-lfs.github.com/spec/v1
oid sha256:3cbc61f93d3642bde38d4076aeaaa92f350973c1201b0728ce9cfc50914e692d
size 921356
