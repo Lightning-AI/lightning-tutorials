version https://git-lfs.github.com/spec/v1
oid sha256:0d0cab22df7cc1f1c4d74f33d66cbb268ca7bdb5a7c73324aee22f6ef7562088
size 921300
