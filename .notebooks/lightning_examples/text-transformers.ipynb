version https://git-lfs.github.com/spec/v1
oid sha256:717f73ad10f70544101a0ac009f667a623b55c20e6cf23c40fabb8a0d6ac97e5
size 921395
