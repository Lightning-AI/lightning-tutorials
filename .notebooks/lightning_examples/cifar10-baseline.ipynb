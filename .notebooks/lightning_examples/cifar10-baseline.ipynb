version https://git-lfs.github.com/spec/v1
oid sha256:db4cad81b681ede3ffe1e76e238cb73a90cd392ed311c423ee80f216e0864e99
size 371302
