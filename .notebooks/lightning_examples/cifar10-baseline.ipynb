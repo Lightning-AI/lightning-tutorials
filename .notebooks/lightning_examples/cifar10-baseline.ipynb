version https://git-lfs.github.com/spec/v1
oid sha256:d838f2625c361e727e0c1b602a90da55ca338f1cffa84c13d034081d170e3c86
size 348289
