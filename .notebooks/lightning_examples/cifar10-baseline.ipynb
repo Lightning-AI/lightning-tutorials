version https://git-lfs.github.com/spec/v1
oid sha256:959d4de739acd4db267ebb76939ad734180f10688f2a1a630cfe5b6354136bf9
size 346016
