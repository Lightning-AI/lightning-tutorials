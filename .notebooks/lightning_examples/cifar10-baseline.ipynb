version https://git-lfs.github.com/spec/v1
oid sha256:aec40867861bd568a6c6a4a967fd558956a4c651f7ad188fbabf1fc183e73cac
size 344491
