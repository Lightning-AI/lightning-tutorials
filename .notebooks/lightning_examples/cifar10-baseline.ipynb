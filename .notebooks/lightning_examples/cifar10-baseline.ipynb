version https://git-lfs.github.com/spec/v1
oid sha256:2e2add5ede577c571ae3a5ed835bcc26573b5978e4dba00292e8cd11e21535db
size 339722
