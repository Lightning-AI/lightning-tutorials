version https://git-lfs.github.com/spec/v1
oid sha256:40c4970d1097b16f21bb1a7e0338e489623b6c1463154dde40aee2a422d921cb
size 602484
