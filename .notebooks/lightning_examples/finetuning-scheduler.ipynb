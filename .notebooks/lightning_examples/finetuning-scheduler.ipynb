version https://git-lfs.github.com/spec/v1
oid sha256:16fc06509dfa2f21dc42bea2e54e82820a74f8c37061c6be30feb068e6faca1d
size 763984
