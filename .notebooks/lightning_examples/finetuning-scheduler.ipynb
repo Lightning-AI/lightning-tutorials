version https://git-lfs.github.com/spec/v1
oid sha256:7e60f3963d97067f10f0ef3d7fb317715a07d9d344ccf19a6f26be0a12283dd1
size 764790
