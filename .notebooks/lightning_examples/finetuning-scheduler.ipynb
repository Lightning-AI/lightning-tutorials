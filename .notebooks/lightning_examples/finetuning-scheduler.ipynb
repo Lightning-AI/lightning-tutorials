version https://git-lfs.github.com/spec/v1
oid sha256:c56d8248ba84c072c1142c366b3b32f944813593447bee0fed14e0b6fdcfe72a
size 764215
