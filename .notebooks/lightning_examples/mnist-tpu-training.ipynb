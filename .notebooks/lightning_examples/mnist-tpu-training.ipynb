version https://git-lfs.github.com/spec/v1
oid sha256:e21308ffd021b75bf3b341773a7e371e99ccb7860d3617102c7558b917faab05
size 14467
