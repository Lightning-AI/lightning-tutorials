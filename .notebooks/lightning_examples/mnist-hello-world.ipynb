version https://git-lfs.github.com/spec/v1
oid sha256:3c83c43485cef8632ba4efc8f3fff8972f9fc715e54a9ad015342ad0fee53ce4
size 171619
