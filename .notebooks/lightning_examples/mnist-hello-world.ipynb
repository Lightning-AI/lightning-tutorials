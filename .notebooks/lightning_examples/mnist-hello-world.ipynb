version https://git-lfs.github.com/spec/v1
oid sha256:8626b95f69692d3eac866e2737821ed1b206c6038345e61c482d441c7ca919de
size 171337
