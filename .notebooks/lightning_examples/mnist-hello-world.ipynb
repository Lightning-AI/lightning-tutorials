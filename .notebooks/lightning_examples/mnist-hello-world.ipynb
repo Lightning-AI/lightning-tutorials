version https://git-lfs.github.com/spec/v1
oid sha256:6d7c91f9024cb8c0232db5dc8e79e74df403ebada29f8bb9434ea1aa9ba29776
size 176195
