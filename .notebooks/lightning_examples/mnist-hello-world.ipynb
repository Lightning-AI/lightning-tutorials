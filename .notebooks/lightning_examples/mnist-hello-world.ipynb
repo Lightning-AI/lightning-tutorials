version https://git-lfs.github.com/spec/v1
oid sha256:4b0950ae47a97a14d7e74254d1b5234ef58575c36aef5b6c07277dae93c8877a
size 172254
