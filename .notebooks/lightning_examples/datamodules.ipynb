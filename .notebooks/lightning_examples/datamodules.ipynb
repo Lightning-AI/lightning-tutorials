version https://git-lfs.github.com/spec/v1
oid sha256:0769e8f5d1a38adeff3cbaa69d006963056efa5ab69dbd3771ae6848f33dd5c0
size 235850
