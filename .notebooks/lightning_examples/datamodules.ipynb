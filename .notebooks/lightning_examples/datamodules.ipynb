version https://git-lfs.github.com/spec/v1
oid sha256:b1b276222258b6c9d0299c5f8793b9bb92010a085cd59613e4de1ab8844c3149
size 235306
