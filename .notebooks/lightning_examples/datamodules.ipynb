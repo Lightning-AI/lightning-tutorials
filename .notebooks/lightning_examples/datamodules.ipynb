version https://git-lfs.github.com/spec/v1
oid sha256:fe0c0e716b98418dbedef8f4edd944578abd493725c2b12e4e89b7c710385d08
size 269865
