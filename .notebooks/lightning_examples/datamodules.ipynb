version https://git-lfs.github.com/spec/v1
oid sha256:a40867e91ec70295eb29782d8d50a212c372a8458be6b82a9b0b113a235ebb98
size 249303
