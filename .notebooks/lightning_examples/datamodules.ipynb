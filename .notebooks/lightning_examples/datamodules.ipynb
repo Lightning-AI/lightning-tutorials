version https://git-lfs.github.com/spec/v1
oid sha256:f198b4a4f31cb0543e319880124c9ad2b98f9cdde2f6f3b0ea730a5dd1e1c505
size 235551
