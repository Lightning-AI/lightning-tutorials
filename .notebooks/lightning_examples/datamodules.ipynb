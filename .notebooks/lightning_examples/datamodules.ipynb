version https://git-lfs.github.com/spec/v1
oid sha256:88003c7d6e71430ac9c2aeccda22c5d0fbf161d537e81d7b49dc069baf06b153
size 241753
