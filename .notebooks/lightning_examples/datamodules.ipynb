version https://git-lfs.github.com/spec/v1
oid sha256:f4171f4818cbe117489d67801448fcb8b0bc7eebca5ed25b62eef50b3fc93f39
size 237273
