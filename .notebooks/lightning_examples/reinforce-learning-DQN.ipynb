{
 "cells": [
  {
   "cell_type": "markdown",
   "id": "33ee930f",
   "metadata": {
    "papermill": {
     "duration": 0.009212,
     "end_time": "2021-08-03T21:12:54.893191",
     "exception": false,
     "start_time": "2021-08-03T21:12:54.883979",
     "status": "completed"
    },
    "tags": []
   },
   "source": [
    "\n",
    "# How to train a Deep Q Network\n",
    "\n",
    "* **Author:** PL team\n",
    "* **License:** CC BY-SA\n",
    "* **Generated:** 2021-08-03T23:06:50.284107\n",
    "\n",
    "Main takeaways:\n",
    "\n",
    "1. RL has the same flow as previous models we have seen, with a few additions\n",
    "2. Handle unsupervised learning by using an IterableDataset where the dataset itself is constantly updated during training\n",
    "3. Each training step carries has the agent taking an action in the environment and storing the experience in the IterableDataset\n",
    "\n",
    "\n",
    "---\n",
    "Open in [![Open In Colab](data:image/png;base64,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){height=\"20px\" width=\"117px\"}](https://colab.research.google.com/github/PytorchLightning/lightning-tutorials/blob/publication/.notebooks/lightning_examples/reinforce-learning-DQN.ipynb)\n",
    "\n",
    "Give us a ⭐ [on Github](https://www.github.com/PytorchLightning/pytorch-lightning/)\n",
    "| Check out [the documentation](https://pytorch-lightning.readthedocs.io/en/latest/)\n",
    "| Join us [on Slack](https://join.slack.com/t/pytorch-lightning/shared_invite/zt-pw5v393p-qRaDgEk24~EjiZNBpSQFgQ)"
   ]
  },
  {
   "cell_type": "markdown",
   "id": "5e4429df",
   "metadata": {
    "papermill": {
     "duration": 0.007844,
     "end_time": "2021-08-03T21:12:54.909073",
     "exception": false,
     "start_time": "2021-08-03T21:12:54.901229",
     "status": "completed"
    },
    "tags": []
   },
   "source": [
    "### Setup\n",
    "This notebook requires some packages besides pytorch-lightning."
   ]
  },
  {
   "cell_type": "code",
   "execution_count": 1,
   "id": "09d4201d",
   "metadata": {
    "colab": {},
    "colab_type": "code",
    "execution": {
     "iopub.execute_input": "2021-08-03T21:12:54.932104Z",
     "iopub.status.busy": "2021-08-03T21:12:54.931630Z",
     "iopub.status.idle": "2021-08-03T21:12:57.286090Z",
     "shell.execute_reply": "2021-08-03T21:12:57.286495Z"
    },
    "id": "LfrJLKPFyhsK",
    "lines_to_next_cell": 0,
    "papermill": {
     "duration": 2.369927,
     "end_time": "2021-08-03T21:12:57.286729",
     "exception": false,
     "start_time": "2021-08-03T21:12:54.916802",
     "status": "completed"
    },
    "tags": []
   },
   "outputs": [],
   "source": [
    "! pip install --quiet \"torchmetrics>=0.3\" \"gym\" \"pytorch-lightning>=1.3\" \"torch>=1.6, <1.9\""
   ]
  },
  {
   "cell_type": "code",
   "execution_count": 2,
   "id": "b4652af1",
   "metadata": {
    "execution": {
     "iopub.execute_input": "2021-08-03T21:12:57.308171Z",
     "iopub.status.busy": "2021-08-03T21:12:57.307690Z",
     "iopub.status.idle": "2021-08-03T21:12:58.457751Z",
     "shell.execute_reply": "2021-08-03T21:12:58.457327Z"
    },
    "papermill": {
     "duration": 1.162644,
     "end_time": "2021-08-03T21:12:58.457876",
     "exception": false,
     "start_time": "2021-08-03T21:12:57.295232",
     "status": "completed"
    },
    "tags": []
   },
   "outputs": [],
   "source": [
    "import os\n",
    "from collections import deque, namedtuple, OrderedDict\n",
    "from typing import List, Tuple\n",
    "\n",
    "import gym\n",
    "import numpy as np\n",
    "import torch\n",
    "from pytorch_lightning import LightningModule, Trainer\n",
    "from pytorch_lightning.utilities import DistributedType\n",
    "from torch import nn, Tensor\n",
    "from torch.optim import Adam, Optimizer\n",
    "from torch.utils.data import DataLoader\n",
    "from torch.utils.data.dataset import IterableDataset\n",
    "\n",
    "PATH_DATASETS = os.environ.get('PATH_DATASETS', '.')\n",
    "AVAIL_GPUS = min(1, torch.cuda.device_count())"
   ]
  },
  {
   "cell_type": "code",
   "execution_count": 3,
   "id": "93a165ef",
   "metadata": {
    "execution": {
     "iopub.execute_input": "2021-08-03T21:12:58.479062Z",
     "iopub.status.busy": "2021-08-03T21:12:58.478592Z",
     "iopub.status.idle": "2021-08-03T21:12:58.480720Z",
     "shell.execute_reply": "2021-08-03T21:12:58.480321Z"
    },
    "papermill": {
     "duration": 0.0146,
     "end_time": "2021-08-03T21:12:58.480819",
     "exception": false,
     "start_time": "2021-08-03T21:12:58.466219",
     "status": "completed"
    },
    "tags": []
   },
   "outputs": [],
   "source": [
    "class DQN(nn.Module):\n",
    "    \"\"\"Simple MLP network.\"\"\"\n",
    "\n",
    "    def __init__(self, obs_size: int, n_actions: int, hidden_size: int = 128):\n",
    "        \"\"\"\n",
    "        Args:\n",
    "            obs_size: observation/state size of the environment\n",
    "            n_actions: number of discrete actions available in the environment\n",
    "            hidden_size: size of hidden layers\n",
    "        \"\"\"\n",
    "        super().__init__()\n",
    "        self.net = nn.Sequential(\n",
    "            nn.Linear(obs_size, hidden_size),\n",
    "            nn.ReLU(),\n",
    "            nn.Linear(hidden_size, n_actions),\n",
    "        )\n",
    "\n",
    "    def forward(self, x):\n",
    "        return self.net(x.float())"
   ]
  },
  {
   "cell_type": "markdown",
   "id": "f0b70e2a",
   "metadata": {
    "papermill": {
     "duration": 0.007871,
     "end_time": "2021-08-03T21:12:58.496584",
     "exception": false,
     "start_time": "2021-08-03T21:12:58.488713",
     "status": "completed"
    },
    "tags": []
   },
   "source": [
    "### Memory"
   ]
  },
  {
   "cell_type": "code",
   "execution_count": 4,
   "id": "757c7cbc",
   "metadata": {
    "execution": {
     "iopub.execute_input": "2021-08-03T21:12:58.515504Z",
     "iopub.status.busy": "2021-08-03T21:12:58.515015Z",
     "iopub.status.idle": "2021-08-03T21:12:58.517086Z",
     "shell.execute_reply": "2021-08-03T21:12:58.516623Z"
    },
    "papermill": {
     "duration": 0.012659,
     "end_time": "2021-08-03T21:12:58.517183",
     "exception": false,
     "start_time": "2021-08-03T21:12:58.504524",
     "status": "completed"
    },
    "tags": []
   },
   "outputs": [],
   "source": [
    "\n",
    "# Named tuple for storing experience steps gathered in training\n",
    "Experience = namedtuple(\n",
    "    'Experience',\n",
    "    field_names=['state', 'action', 'reward', 'done', 'new_state'],\n",
    ")"
   ]
  },
  {
   "cell_type": "code",
   "execution_count": 5,
   "id": "feb22df0",
   "metadata": {
    "execution": {
     "iopub.execute_input": "2021-08-03T21:12:58.538981Z",
     "iopub.status.busy": "2021-08-03T21:12:58.538509Z",
     "iopub.status.idle": "2021-08-03T21:12:58.540631Z",
     "shell.execute_reply": "2021-08-03T21:12:58.540164Z"
    },
    "papermill": {
     "duration": 0.015576,
     "end_time": "2021-08-03T21:12:58.540728",
     "exception": false,
     "start_time": "2021-08-03T21:12:58.525152",
     "status": "completed"
    },
    "tags": []
   },
   "outputs": [],
   "source": [
    "class ReplayBuffer:\n",
    "    \"\"\"Replay Buffer for storing past experiences allowing the agent to learn from them.\n",
    "\n",
    "    Args:\n",
    "        capacity: size of the buffer\n",
    "    \"\"\"\n",
    "\n",
    "    def __init__(self, capacity: int) -> None:\n",
    "        self.buffer = deque(maxlen=capacity)\n",
    "\n",
    "    def __len__(self) -> None:\n",
    "        return len(self.buffer)\n",
    "\n",
    "    def append(self, experience: Experience) -> None:\n",
    "        \"\"\"Add experience to the buffer.\n",
    "\n",
    "        Args:\n",
    "            experience: tuple (state, action, reward, done, new_state)\n",
    "        \"\"\"\n",
    "        self.buffer.append(experience)\n",
    "\n",
    "    def sample(self, batch_size: int) -> Tuple:\n",
    "        indices = np.random.choice(len(self.buffer), batch_size, replace=False)\n",
    "        states, actions, rewards, dones, next_states = zip(*(self.buffer[idx] for idx in indices))\n",
    "\n",
    "        return (\n",
    "            np.array(states),\n",
    "            np.array(actions),\n",
    "            np.array(rewards, dtype=np.float32),\n",
    "            np.array(dones, dtype=np.bool),\n",
    "            np.array(next_states),\n",
    "        )"
   ]
  },
  {
   "cell_type": "code",
   "execution_count": 6,
   "id": "6fd135bb",
   "metadata": {
    "execution": {
     "iopub.execute_input": "2021-08-03T21:12:58.561220Z",
     "iopub.status.busy": "2021-08-03T21:12:58.560752Z",
     "iopub.status.idle": "2021-08-03T21:12:58.562841Z",
     "shell.execute_reply": "2021-08-03T21:12:58.562442Z"
    },
    "lines_to_next_cell": 2,
    "papermill": {
     "duration": 0.014126,
     "end_time": "2021-08-03T21:12:58.562939",
     "exception": false,
     "start_time": "2021-08-03T21:12:58.548813",
     "status": "completed"
    },
    "tags": []
   },
   "outputs": [],
   "source": [
    "class RLDataset(IterableDataset):\n",
    "    \"\"\"Iterable Dataset containing the ExperienceBuffer which will be updated with new experiences during training.\n",
    "\n",
    "    Args:\n",
    "        buffer: replay buffer\n",
    "        sample_size: number of experiences to sample at a time\n",
    "    \"\"\"\n",
    "\n",
    "    def __init__(self, buffer: ReplayBuffer, sample_size: int = 200) -> None:\n",
    "        self.buffer = buffer\n",
    "        self.sample_size = sample_size\n",
    "\n",
    "    def __iter__(self) -> Tuple:\n",
    "        states, actions, rewards, dones, new_states = self.buffer.sample(self.sample_size)\n",
    "        for i in range(len(dones)):\n",
    "            yield states[i], actions[i], rewards[i], dones[i], new_states[i]"
   ]
  },
  {
   "cell_type": "markdown",
   "id": "af5ddb4c",
   "metadata": {
    "lines_to_next_cell": 2,
    "papermill": {
     "duration": 0.008291,
     "end_time": "2021-08-03T21:12:58.579527",
     "exception": false,
     "start_time": "2021-08-03T21:12:58.571236",
     "status": "completed"
    },
    "tags": []
   },
   "source": [
    "### Agent"
   ]
  },
  {
   "cell_type": "code",
   "execution_count": 7,
   "id": "a3255c2a",
   "metadata": {
    "execution": {
     "iopub.execute_input": "2021-08-03T21:12:58.603482Z",
     "iopub.status.busy": "2021-08-03T21:12:58.597546Z",
     "iopub.status.idle": "2021-08-03T21:12:58.605428Z",
     "shell.execute_reply": "2021-08-03T21:12:58.605029Z"
    },
    "lines_to_next_cell": 2,
    "papermill": {
     "duration": 0.017916,
     "end_time": "2021-08-03T21:12:58.605528",
     "exception": false,
     "start_time": "2021-08-03T21:12:58.587612",
     "status": "completed"
    },
    "tags": []
   },
   "outputs": [],
   "source": [
    "class Agent:\n",
    "    \"\"\"Base Agent class handeling the interaction with the environment.\"\"\"\n",
    "\n",
    "    def __init__(self, env: gym.Env, replay_buffer: ReplayBuffer) -> None:\n",
    "        \"\"\"\n",
    "        Args:\n",
    "            env: training environment\n",
    "            replay_buffer: replay buffer storing experiences\n",
    "        \"\"\"\n",
    "        self.env = env\n",
    "        self.replay_buffer = replay_buffer\n",
    "        self.reset()\n",
    "        self.state = self.env.reset()\n",
    "\n",
    "    def reset(self) -> None:\n",
    "        \"\"\"Resents the environment and updates the state.\"\"\"\n",
    "        self.state = self.env.reset()\n",
    "\n",
    "    def get_action(self, net: nn.Module, epsilon: float, device: str) -> int:\n",
    "        \"\"\"Using the given network, decide what action to carry out using an epsilon-greedy policy.\n",
    "\n",
    "        Args:\n",
    "            net: DQN network\n",
    "            epsilon: value to determine likelihood of taking a random action\n",
    "            device: current device\n",
    "\n",
    "        Returns:\n",
    "            action\n",
    "        \"\"\"\n",
    "        if np.random.random() < epsilon:\n",
    "            action = self.env.action_space.sample()\n",
    "        else:\n",
    "            state = torch.tensor([self.state])\n",
    "\n",
    "            if device not in ['cpu']:\n",
    "                state = state.cuda(device)\n",
    "\n",
    "            q_values = net(state)\n",
    "            _, action = torch.max(q_values, dim=1)\n",
    "            action = int(action.item())\n",
    "\n",
    "        return action\n",
    "\n",
    "    @torch.no_grad()\n",
    "    def play_step(\n",
    "        self,\n",
    "        net: nn.Module,\n",
    "        epsilon: float = 0.0,\n",
    "        device: str = 'cpu',\n",
    "    ) -> Tuple[float, bool]:\n",
    "        \"\"\"Carries out a single interaction step between the agent and the environment.\n",
    "\n",
    "        Args:\n",
    "            net: DQN network\n",
    "            epsilon: value to determine likelihood of taking a random action\n",
    "            device: current device\n",
    "\n",
    "        Returns:\n",
    "            reward, done\n",
    "        \"\"\"\n",
    "\n",
    "        action = self.get_action(net, epsilon, device)\n",
    "\n",
    "        # do step in the environment\n",
    "        new_state, reward, done, _ = self.env.step(action)\n",
    "\n",
    "        exp = Experience(self.state, action, reward, done, new_state)\n",
    "\n",
    "        self.replay_buffer.append(exp)\n",
    "\n",
    "        self.state = new_state\n",
    "        if done:\n",
    "            self.reset()\n",
    "        return reward, done"
   ]
  },
  {
   "cell_type": "markdown",
   "id": "5ac8e265",
   "metadata": {
    "lines_to_next_cell": 2,
    "papermill": {
     "duration": 0.008363,
     "end_time": "2021-08-03T21:12:58.622580",
     "exception": false,
     "start_time": "2021-08-03T21:12:58.614217",
     "status": "completed"
    },
    "tags": []
   },
   "source": [
    "### DQN Lightning Module"
   ]
  },
  {
   "cell_type": "code",
   "execution_count": 8,
   "id": "9226b51d",
   "metadata": {
    "execution": {
     "iopub.execute_input": "2021-08-03T21:12:58.646301Z",
     "iopub.status.busy": "2021-08-03T21:12:58.641025Z",
     "iopub.status.idle": "2021-08-03T21:12:58.656412Z",
     "shell.execute_reply": "2021-08-03T21:12:58.655949Z"
    },
    "papermill": {
     "duration": 0.025661,
     "end_time": "2021-08-03T21:12:58.656510",
     "exception": false,
     "start_time": "2021-08-03T21:12:58.630849",
     "status": "completed"
    },
    "tags": []
   },
   "outputs": [],
   "source": [
    "class DQNLightning(LightningModule):\n",
    "    \"\"\"Basic DQN Model.\"\"\"\n",
    "\n",
    "    def __init__(\n",
    "        self,\n",
    "        batch_size: int = 16,\n",
    "        lr: float = 1e-2,\n",
    "        env: str = \"CartPole-v0\",\n",
    "        gamma: float = 0.99,\n",
    "        sync_rate: int = 10,\n",
    "        replay_size: int = 1000,\n",
    "        warm_start_size: int = 1000,\n",
    "        eps_last_frame: int = 1000,\n",
    "        eps_start: float = 1.0,\n",
    "        eps_end: float = 0.01,\n",
    "        episode_length: int = 200,\n",
    "        warm_start_steps: int = 1000,\n",
    "    ) -> None:\n",
    "        \"\"\"\n",
    "        Args:\n",
    "            batch_size: size of the batches\")\n",
    "            lr: learning rate\n",
    "            env: gym environment tag\n",
    "            gamma: discount factor\n",
    "            sync_rate: how many frames do we update the target network\n",
    "            replay_size: capacity of the replay buffer\n",
    "            warm_start_size: how many samples do we use to fill our buffer at the start of training\n",
    "            eps_last_frame: what frame should epsilon stop decaying\n",
    "            eps_start: starting value of epsilon\n",
    "            eps_end: final value of epsilon\n",
    "            episode_length: max length of an episode\n",
    "            warm_start_steps: max episode reward in the environment\n",
    "        \"\"\"\n",
    "        super().__init__()\n",
    "        self.save_hyperparameters()\n",
    "\n",
    "        self.env = gym.make(self.hparams.env)\n",
    "        obs_size = self.env.observation_space.shape[0]\n",
    "        n_actions = self.env.action_space.n\n",
    "\n",
    "        self.net = DQN(obs_size, n_actions)\n",
    "        self.target_net = DQN(obs_size, n_actions)\n",
    "\n",
    "        self.buffer = ReplayBuffer(self.hparams.replay_size)\n",
    "        self.agent = Agent(self.env, self.buffer)\n",
    "        self.total_reward = 0\n",
    "        self.episode_reward = 0\n",
    "        self.populate(self.hparams.warm_start_steps)\n",
    "\n",
    "    def populate(self, steps: int = 1000) -> None:\n",
    "        \"\"\"Carries out several random steps through the environment to initially fill up the replay buffer with\n",
    "        experiences.\n",
    "\n",
    "        Args:\n",
    "            steps: number of random steps to populate the buffer with\n",
    "        \"\"\"\n",
    "        for i in range(steps):\n",
    "            self.agent.play_step(self.net, epsilon=1.0)\n",
    "\n",
    "    def forward(self, x: Tensor) -> Tensor:\n",
    "        \"\"\"Passes in a state x through the network and gets the q_values of each action as an output.\n",
    "\n",
    "        Args:\n",
    "            x: environment state\n",
    "\n",
    "        Returns:\n",
    "            q values\n",
    "        \"\"\"\n",
    "        output = self.net(x)\n",
    "        return output\n",
    "\n",
    "    def dqn_mse_loss(self, batch: Tuple[Tensor, Tensor]) -> Tensor:\n",
    "        \"\"\"Calculates the mse loss using a mini batch from the replay buffer.\n",
    "\n",
    "        Args:\n",
    "            batch: current mini batch of replay data\n",
    "\n",
    "        Returns:\n",
    "            loss\n",
    "        \"\"\"\n",
    "        states, actions, rewards, dones, next_states = batch\n",
    "\n",
    "        state_action_values = self.net(states).gather(1, actions.unsqueeze(-1)).squeeze(-1)\n",
    "\n",
    "        with torch.no_grad():\n",
    "            next_state_values = self.target_net(next_states).max(1)[0]\n",
    "            next_state_values[dones] = 0.0\n",
    "            next_state_values = next_state_values.detach()\n",
    "\n",
    "        expected_state_action_values = next_state_values * self.hparams.gamma + rewards\n",
    "\n",
    "        return nn.MSELoss()(state_action_values, expected_state_action_values)\n",
    "\n",
    "    def training_step(self, batch: Tuple[Tensor, Tensor], nb_batch) -> OrderedDict:\n",
    "        \"\"\"Carries out a single step through the environment to update the replay buffer. Then calculates loss\n",
    "        based on the minibatch recieved.\n",
    "\n",
    "        Args:\n",
    "            batch: current mini batch of replay data\n",
    "            nb_batch: batch number\n",
    "\n",
    "        Returns:\n",
    "            Training loss and log metrics\n",
    "        \"\"\"\n",
    "        device = self.get_device(batch)\n",
    "        epsilon = max(\n",
    "            self.hparams.eps_end,\n",
    "            self.hparams.eps_start - self.global_step + 1 / self.hparams.eps_last_frame,\n",
    "        )\n",
    "\n",
    "        # step through environment with agent\n",
    "        reward, done = self.agent.play_step(self.net, epsilon, device)\n",
    "        self.episode_reward += reward\n",
    "\n",
    "        # calculates training loss\n",
    "        loss = self.dqn_mse_loss(batch)\n",
    "\n",
    "        if self.trainer._distrib_type in {DistributedType.DP, DistributedType.DDP2}:\n",
    "            loss = loss.unsqueeze(0)\n",
    "\n",
    "        if done:\n",
    "            self.total_reward = self.episode_reward\n",
    "            self.episode_reward = 0\n",
    "\n",
    "        # Soft update of target network\n",
    "        if self.global_step % self.hparams.sync_rate == 0:\n",
    "            self.target_net.load_state_dict(self.net.state_dict())\n",
    "\n",
    "        log = {\n",
    "            'total_reward': torch.tensor(self.total_reward).to(device),\n",
    "            'reward': torch.tensor(reward).to(device),\n",
    "            'train_loss': loss\n",
    "        }\n",
    "        status = {\n",
    "            'steps': torch.tensor(self.global_step).to(device),\n",
    "            'total_reward': torch.tensor(self.total_reward).to(device)\n",
    "        }\n",
    "\n",
    "        return OrderedDict({'loss': loss, 'log': log, 'progress_bar': status})\n",
    "\n",
    "    def configure_optimizers(self) -> List[Optimizer]:\n",
    "        \"\"\"Initialize Adam optimizer.\"\"\"\n",
    "        optimizer = Adam(self.net.parameters(), lr=self.hparams.lr)\n",
    "        return [optimizer]\n",
    "\n",
    "    def __dataloader(self) -> DataLoader:\n",
    "        \"\"\"Initialize the Replay Buffer dataset used for retrieving experiences.\"\"\"\n",
    "        dataset = RLDataset(self.buffer, self.hparams.episode_length)\n",
    "        dataloader = DataLoader(\n",
    "            dataset=dataset,\n",
    "            batch_size=self.hparams.batch_size,\n",
    "        )\n",
    "        return dataloader\n",
    "\n",
    "    def train_dataloader(self) -> DataLoader:\n",
    "        \"\"\"Get train loader.\"\"\"\n",
    "        return self.__dataloader()\n",
    "\n",
    "    def get_device(self, batch) -> str:\n",
    "        \"\"\"Retrieve device currently being used by minibatch.\"\"\"\n",
    "        return batch[0].device.index if self.on_gpu else 'cpu'"
   ]
  },
  {
   "cell_type": "markdown",
   "id": "66b55a92",
   "metadata": {
    "papermill": {
     "duration": 0.008238,
     "end_time": "2021-08-03T21:12:58.673068",
     "exception": false,
     "start_time": "2021-08-03T21:12:58.664830",
     "status": "completed"
    },
    "tags": []
   },
   "source": [
    "### Trainer"
   ]
  },
  {
   "cell_type": "code",
   "execution_count": 9,
   "id": "94edb8d6",
   "metadata": {
    "execution": {
     "iopub.execute_input": "2021-08-03T21:12:58.693321Z",
     "iopub.status.busy": "2021-08-03T21:12:58.692858Z",
     "iopub.status.idle": "2021-08-03T21:13:13.866229Z",
     "shell.execute_reply": "2021-08-03T21:13:13.865807Z"
    },
    "papermill": {
     "duration": 15.184783,
     "end_time": "2021-08-03T21:13:13.866348",
     "exception": false,
     "start_time": "2021-08-03T21:12:58.681565",
     "status": "completed"
    },
    "tags": []
   },
   "outputs": [
    {
     "name": "stderr",
     "output_type": "stream",
     "text": [
      "GPU available: True, used: True\n"
     ]
    },
    {
     "name": "stderr",
     "output_type": "stream",
     "text": [
      "TPU available: False, using: 0 TPU cores\n"
     ]
    },
    {
     "name": "stderr",
     "output_type": "stream",
     "text": [
      "IPU available: False, using: 0 IPUs\n"
     ]
    },
    {
     "name": "stderr",
     "output_type": "stream",
     "text": [
      "LOCAL_RANK: 0 - CUDA_VISIBLE_DEVICES: [0,1]\n"
     ]
    },
    {
     "name": "stderr",
     "output_type": "stream",
     "text": [
      "\n",
      "  | Name       | Type | Params\n",
      "------------------------------------\n",
      "0 | net        | DQN  | 898   \n",
      "1 | target_net | DQN  | 898   \n",
      "------------------------------------\n",
      "1.8 K     Trainable params\n",
      "0         Non-trainable params\n",
      "1.8 K     Total params\n",
      "0.007     Total estimated model params size (MB)\n"
     ]
    },
    {
     "name": "stderr",
     "output_type": "stream",
     "text": [
      "/home/AzDevOps_azpcontainer/.local/lib/python3.9/site-packages/pytorch_lightning/trainer/data_loading.py:105: UserWarning: The dataloader, train dataloader, does not have many workers which may be a bottleneck. Consider increasing the value of the `num_workers` argument` (try 12 which is the number of cpus on this machine) in the `DataLoader` init to improve performance.\n",
      "  rank_zero_warn(\n"
     ]
    },
    {
     "data": {
      "application/vnd.jupyter.widget-view+json": {
       "model_id": "6794e2f89ac947259d7c3c410b7b48f5",
       "version_major": 2,
       "version_minor": 0
      },
      "text/plain": [
       "Training: -1it [00:00, ?it/s]"
      ]
     },
     "metadata": {},
     "output_type": "display_data"
    },
    {
     "name": "stderr",
     "output_type": "stream",
     "text": [
      "/tmp/ipykernel_2790/3638216480.py:30: DeprecationWarning: `np.bool` is a deprecated alias for the builtin `bool`. To silence this warning, use `bool` by itself. Doing this will not modify any behavior and is safe. If you specifically wanted the numpy scalar type, use `np.bool_` here.\n",
      "Deprecated in NumPy 1.20; for more details and guidance: https://numpy.org/devdocs/release/1.20.0-notes.html#deprecations\n",
      "  np.array(dones, dtype=np.bool),\n",
      "/home/AzDevOps_azpcontainer/.local/lib/python3.9/site-packages/pytorch_lightning/trainer/connectors/logger_connector/result.py:397: LightningDeprecationWarning: One of the returned values {'log', 'progress_bar'} has a `grad_fn`. We will detach it automatically but this behaviour will change in v1.6. Please detach it manually: `return {'loss': ..., 'something': something.detach()}`\n",
      "  warning_cache.deprecation(\n"
     ]
    }
   ],
   "source": [
    "\n",
    "model = DQNLightning()\n",
    "\n",
    "trainer = Trainer(\n",
    "    gpus=AVAIL_GPUS,\n",
    "    max_epochs=200,\n",
    "    val_check_interval=100,\n",
    ")\n",
    "\n",
    "trainer.fit(model)"
   ]
  },
  {
   "cell_type": "code",
   "execution_count": 10,
   "id": "ae146c9b",
   "metadata": {
    "execution": {
     "iopub.execute_input": "2021-08-03T21:13:13.892862Z",
     "iopub.status.busy": "2021-08-03T21:13:13.892404Z",
     "iopub.status.idle": "2021-08-03T21:13:15.440290Z",
     "shell.execute_reply": "2021-08-03T21:13:15.439895Z"
    },
    "papermill": {
     "duration": 1.562716,
     "end_time": "2021-08-03T21:13:15.440409",
     "exception": false,
     "start_time": "2021-08-03T21:13:13.877693",
     "status": "completed"
    },
    "tags": []
   },
   "outputs": [
    {
     "data": {
      "text/html": [
       "\n",
       "      <iframe id=\"tensorboard-frame-dee57f21bbfc364c\" width=\"100%\" height=\"800\" frameborder=\"0\">\n",
       "      </iframe>\n",
       "      <script>\n",
       "        (function() {\n",
       "          const frame = document.getElementById(\"tensorboard-frame-dee57f21bbfc364c\");\n",
       "          const url = new URL(\"/\", window.location);\n",
       "          const port = 6006;\n",
       "          if (port) {\n",
       "            url.port = port;\n",
       "          }\n",
       "          frame.src = url;\n",
       "        })();\n",
       "      </script>\n",
       "    "
      ],
      "text/plain": [
       "<IPython.core.display.HTML object>"
      ]
     },
     "metadata": {},
     "output_type": "display_data"
    }
   ],
   "source": [
    "# Start tensorboard.\n",
    "%load_ext tensorboard\n",
    "%tensorboard --logdir lightning_logs/"
   ]
  },
  {
   "cell_type": "markdown",
   "id": "901c6418",
   "metadata": {
    "papermill": {
     "duration": 0.010517,
     "end_time": "2021-08-03T21:13:15.461961",
     "exception": false,
     "start_time": "2021-08-03T21:13:15.451444",
     "status": "completed"
    },
    "tags": []
   },
   "source": [
    "## Congratulations - Time to Join the Community!\n",
    "\n",
    "Congratulations on completing this notebook tutorial! If you enjoyed this and would like to join the Lightning\n",
    "movement, you can do so in the following ways!\n",
    "\n",
    "### Star [Lightning](https://github.com/PyTorchLightning/pytorch-lightning) on GitHub\n",
    "The easiest way to help our community is just by starring the GitHub repos! This helps raise awareness of the cool\n",
    "tools we're building.\n",
    "\n",
    "### Join our [Slack](https://join.slack.com/t/pytorch-lightning/shared_invite/zt-pw5v393p-qRaDgEk24~EjiZNBpSQFgQ)!\n",
    "The best way to keep up to date on the latest advancements is to join our community! Make sure to introduce yourself\n",
    "and share your interests in `#general` channel\n",
    "\n",
    "\n",
    "### Contributions !\n",
    "The best way to contribute to our community is to become a code contributor! At any time you can go to\n",
    "[Lightning](https://github.com/PyTorchLightning/pytorch-lightning) or [Bolt](https://github.com/PyTorchLightning/lightning-bolts)\n",
    "GitHub Issues page and filter for \"good first issue\".\n",
    "\n",
    "* [Lightning good first issue](https://github.com/PyTorchLightning/pytorch-lightning/issues?q=is%3Aopen+is%3Aissue+label%3A%22good+first+issue%22)\n",
    "* [Bolt good first issue](https://github.com/PyTorchLightning/lightning-bolts/issues?q=is%3Aopen+is%3Aissue+label%3A%22good+first+issue%22)\n",
    "* You can also contribute your own notebooks with useful examples !\n",
    "\n",
    "### Great thanks from the entire Pytorch Lightning Team for your interest !\n",
    "\n",
    "![Pytorch Lightning](data:image/png;base64,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){height=\"60px\" width=\"240px\"}"
   ]
  }
 ],
 "metadata": {
  "jupytext": {
   "cell_metadata_filter": "id,colab_type,colab,-all",
   "formats": "ipynb,py:percent",
   "main_language": "python"
  },
  "language_info": {
   "codemirror_mode": {
    "name": "ipython",
    "version": 3
   },
   "file_extension": ".py",
   "mimetype": "text/x-python",
   "name": "python",
   "nbconvert_exporter": "python",
   "pygments_lexer": "ipython3",
   "version": "3.9.6"
  },
  "papermill": {
   "default_parameters": {},
   "duration": 21.892546,
   "end_time": "2021-08-03T21:13:15.978966",
   "environment_variables": {},
   "exception": null,
   "input_path": "lightning_examples/reinforce-learning-DQN/dqn.ipynb",
   "output_path": ".notebooks/lightning_examples/reinforce-learning-DQN.ipynb",
   "parameters": {},
   "start_time": "2021-08-03T21:12:54.086420",
   "version": "2.3.3"
  },
  "widgets": {
   "application/vnd.jupyter.widget-state+json": {
    "state": {
     "075dcb10b0c14c9f9b8db02d2825331b": {
      "model_module": "@jupyter-widgets/controls",
      "model_module_version": "1.5.0",
      "model_name": "FloatProgressModel",
      "state": {
       "_dom_classes": [],
       "_model_module": "@jupyter-widgets/controls",
       "_model_module_version": "1.5.0",
       "_model_name": "FloatProgressModel",
       "_view_count": null,
       "_view_module": "@jupyter-widgets/controls",
       "_view_module_version": "1.5.0",
       "_view_name": "ProgressView",
       "bar_style": "success",
       "description": "",
       "description_tooltip": null,
       "layout": "IPY_MODEL_a5281e13e3cc4cadb252e8a7d38a2991",
       "max": 1.0,
       "min": 0.0,
       "orientation": "horizontal",
       "style": "IPY_MODEL_4d766b8f12274d9599a263ad1e12a195",
       "value": 1.0
      }
     },
     "102e7a3742f74bb2b9b7dde9258fd482": {
      "model_module": "@jupyter-widgets/controls",
      "model_module_version": "1.5.0",
      "model_name": "DescriptionStyleModel",
      "state": {
       "_model_module": "@jupyter-widgets/controls",
       "_model_module_version": "1.5.0",
       "_model_name": "DescriptionStyleModel",
       "_view_count": null,
       "_view_module": "@jupyter-widgets/base",
       "_view_module_version": "1.2.0",
       "_view_name": "StyleView",
       "description_width": ""
      }
     },
     "3c56efdd17ee4018b9428e4c404f40c1": {
      "model_module": "@jupyter-widgets/base",
      "model_module_version": "1.2.0",
      "model_name": "LayoutModel",
      "state": {
       "_model_module": "@jupyter-widgets/base",
       "_model_module_version": "1.2.0",
       "_model_name": "LayoutModel",
       "_view_count": null,
       "_view_module": "@jupyter-widgets/base",
       "_view_module_version": "1.2.0",
       "_view_name": "LayoutView",
       "align_content": null,
       "align_items": null,
       "align_self": null,
       "border": null,
       "bottom": null,
       "display": null,
       "flex": null,
       "flex_flow": null,
       "grid_area": null,
       "grid_auto_columns": null,
       "grid_auto_flow": null,
       "grid_auto_rows": null,
       "grid_column": null,
       "grid_gap": null,
       "grid_row": null,
       "grid_template_areas": null,
       "grid_template_columns": null,
       "grid_template_rows": null,
       "height": null,
       "justify_content": null,
       "justify_items": null,
       "left": null,
       "margin": null,
       "max_height": null,
       "max_width": null,
       "min_height": null,
       "min_width": null,
       "object_fit": null,
       "object_position": null,
       "order": null,
       "overflow": null,
       "overflow_x": null,
       "overflow_y": null,
       "padding": null,
       "right": null,
       "top": null,
       "visibility": null,
       "width": null
      }
     },
     "4d766b8f12274d9599a263ad1e12a195": {
      "model_module": "@jupyter-widgets/controls",
      "model_module_version": "1.5.0",
      "model_name": "ProgressStyleModel",
      "state": {
       "_model_module": "@jupyter-widgets/controls",
       "_model_module_version": "1.5.0",
       "_model_name": "ProgressStyleModel",
       "_view_count": null,
       "_view_module": "@jupyter-widgets/base",
       "_view_module_version": "1.2.0",
       "_view_name": "StyleView",
       "bar_color": null,
       "description_width": ""
      }
     },
     "55364c7d03ef47f9b66b31561ec2c7b7": {
      "model_module": "@jupyter-widgets/controls",
      "model_module_version": "1.5.0",
      "model_name": "DescriptionStyleModel",
      "state": {
       "_model_module": "@jupyter-widgets/controls",
       "_model_module_version": "1.5.0",
       "_model_name": "DescriptionStyleModel",
       "_view_count": null,
       "_view_module": "@jupyter-widgets/base",
       "_view_module_version": "1.2.0",
       "_view_name": "StyleView",
       "description_width": ""
      }
     },
     "6794e2f89ac947259d7c3c410b7b48f5": {
      "model_module": "@jupyter-widgets/controls",
      "model_module_version": "1.5.0",
      "model_name": "HBoxModel",
      "state": {
       "_dom_classes": [],
       "_model_module": "@jupyter-widgets/controls",
       "_model_module_version": "1.5.0",
       "_model_name": "HBoxModel",
       "_view_count": null,
       "_view_module": "@jupyter-widgets/controls",
       "_view_module_version": "1.5.0",
       "_view_name": "HBoxView",
       "box_style": "",
       "children": [
        "IPY_MODEL_d4d45f722b184ba29759effaffa07d7a",
        "IPY_MODEL_075dcb10b0c14c9f9b8db02d2825331b",
        "IPY_MODEL_db2cc74409834e4eacc0e57a2e10bf88"
       ],
       "layout": "IPY_MODEL_83a49ce3b10740b488767117b9bf8e2e"
      }
     },
     "83a49ce3b10740b488767117b9bf8e2e": {
      "model_module": "@jupyter-widgets/base",
      "model_module_version": "1.2.0",
      "model_name": "LayoutModel",
      "state": {
       "_model_module": "@jupyter-widgets/base",
       "_model_module_version": "1.2.0",
       "_model_name": "LayoutModel",
       "_view_count": null,
       "_view_module": "@jupyter-widgets/base",
       "_view_module_version": "1.2.0",
       "_view_name": "LayoutView",
       "align_content": null,
       "align_items": null,
       "align_self": null,
       "border": null,
       "bottom": null,
       "display": "inline-flex",
       "flex": null,
       "flex_flow": "row wrap",
       "grid_area": null,
       "grid_auto_columns": null,
       "grid_auto_flow": null,
       "grid_auto_rows": null,
       "grid_column": null,
       "grid_gap": null,
       "grid_row": null,
       "grid_template_areas": null,
       "grid_template_columns": null,
       "grid_template_rows": null,
       "height": null,
       "justify_content": null,
       "justify_items": null,
       "left": null,
       "margin": null,
       "max_height": null,
       "max_width": null,
       "min_height": null,
       "min_width": null,
       "object_fit": null,
       "object_position": null,
       "order": null,
       "overflow": null,
       "overflow_x": null,
       "overflow_y": null,
       "padding": null,
       "right": null,
       "top": null,
       "visibility": null,
       "width": "100%"
      }
     },
     "a5281e13e3cc4cadb252e8a7d38a2991": {
      "model_module": "@jupyter-widgets/base",
      "model_module_version": "1.2.0",
      "model_name": "LayoutModel",
      "state": {
       "_model_module": "@jupyter-widgets/base",
       "_model_module_version": "1.2.0",
       "_model_name": "LayoutModel",
       "_view_count": null,
       "_view_module": "@jupyter-widgets/base",
       "_view_module_version": "1.2.0",
       "_view_name": "LayoutView",
       "align_content": null,
       "align_items": null,
       "align_self": null,
       "border": null,
       "bottom": null,
       "display": null,
       "flex": "2",
       "flex_flow": null,
       "grid_area": null,
       "grid_auto_columns": null,
       "grid_auto_flow": null,
       "grid_auto_rows": null,
       "grid_column": null,
       "grid_gap": null,
       "grid_row": null,
       "grid_template_areas": null,
       "grid_template_columns": null,
       "grid_template_rows": null,
       "height": null,
       "justify_content": null,
       "justify_items": null,
       "left": null,
       "margin": null,
       "max_height": null,
       "max_width": null,
       "min_height": null,
       "min_width": null,
       "object_fit": null,
       "object_position": null,
       "order": null,
       "overflow": null,
       "overflow_x": null,
       "overflow_y": null,
       "padding": null,
       "right": null,
       "top": null,
       "visibility": null,
       "width": null
      }
     },
     "a7967e1e905b482184f39a6f70db5094": {
      "model_module": "@jupyter-widgets/base",
      "model_module_version": "1.2.0",
      "model_name": "LayoutModel",
      "state": {
       "_model_module": "@jupyter-widgets/base",
       "_model_module_version": "1.2.0",
       "_model_name": "LayoutModel",
       "_view_count": null,
       "_view_module": "@jupyter-widgets/base",
       "_view_module_version": "1.2.0",
       "_view_name": "LayoutView",
       "align_content": null,
       "align_items": null,
       "align_self": null,
       "border": null,
       "bottom": null,
       "display": null,
       "flex": null,
       "flex_flow": null,
       "grid_area": null,
       "grid_auto_columns": null,
       "grid_auto_flow": null,
       "grid_auto_rows": null,
       "grid_column": null,
       "grid_gap": null,
       "grid_row": null,
       "grid_template_areas": null,
       "grid_template_columns": null,
       "grid_template_rows": null,
       "height": null,
       "justify_content": null,
       "justify_items": null,
       "left": null,
       "margin": null,
       "max_height": null,
       "max_width": null,
       "min_height": null,
       "min_width": null,
       "object_fit": null,
       "object_position": null,
       "order": null,
       "overflow": null,
       "overflow_x": null,
       "overflow_y": null,
       "padding": null,
       "right": null,
       "top": null,
       "visibility": null,
       "width": null
      }
     },
     "d4d45f722b184ba29759effaffa07d7a": {
      "model_module": "@jupyter-widgets/controls",
      "model_module_version": "1.5.0",
      "model_name": "HTMLModel",
      "state": {
       "_dom_classes": [],
       "_model_module": "@jupyter-widgets/controls",
       "_model_module_version": "1.5.0",
       "_model_name": "HTMLModel",
       "_view_count": null,
       "_view_module": "@jupyter-widgets/controls",
       "_view_module_version": "1.5.0",
       "_view_name": "HTMLView",
       "description": "",
       "description_tooltip": null,
       "layout": "IPY_MODEL_3c56efdd17ee4018b9428e4c404f40c1",
       "placeholder": "​",
       "style": "IPY_MODEL_102e7a3742f74bb2b9b7dde9258fd482",
       "value": "Epoch 199: "
      }
     },
     "db2cc74409834e4eacc0e57a2e10bf88": {
      "model_module": "@jupyter-widgets/controls",
      "model_module_version": "1.5.0",
      "model_name": "HTMLModel",
      "state": {
       "_dom_classes": [],
       "_model_module": "@jupyter-widgets/controls",
       "_model_module_version": "1.5.0",
       "_model_name": "HTMLModel",
       "_view_count": null,
       "_view_module": "@jupyter-widgets/controls",
       "_view_module_version": "1.5.0",
       "_view_name": "HTMLView",
       "description": "",
       "description_tooltip": null,
       "layout": "IPY_MODEL_a7967e1e905b482184f39a6f70db5094",
       "placeholder": "​",
       "style": "IPY_MODEL_55364c7d03ef47f9b66b31561ec2c7b7",
       "value": " 13/? [00:00&lt;00:00, 223.94it/s, loss=25.5, v_num=0]"
      }
     }
    },
    "version_major": 2,
    "version_minor": 0
   }
  }
 },
 "nbformat": 4,
 "nbformat_minor": 5
}