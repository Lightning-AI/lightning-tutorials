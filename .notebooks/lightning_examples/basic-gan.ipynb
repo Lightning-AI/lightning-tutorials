version https://git-lfs.github.com/spec/v1
oid sha256:bbf976e0cb4d96ffdf559ff5508bea5204fc964c08643335e8d91fe5cd3181de
size 45203
