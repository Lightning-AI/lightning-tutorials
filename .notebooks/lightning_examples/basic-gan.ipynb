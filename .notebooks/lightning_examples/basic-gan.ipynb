version https://git-lfs.github.com/spec/v1
oid sha256:64f5f16caa214a58ce93ca85a9ec751be8585d10a9bae8ad75f1963e0b935d42
size 45065
