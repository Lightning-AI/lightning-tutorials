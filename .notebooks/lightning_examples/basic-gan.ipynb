version https://git-lfs.github.com/spec/v1
oid sha256:9617544391d238630a0ec4b5fe3fbbedd3a0e29ccd96ee3ea06dbf120f5d5cb3
size 45932
