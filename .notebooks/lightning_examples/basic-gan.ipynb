version https://git-lfs.github.com/spec/v1
oid sha256:b49e966e7a2028a954c6ad1c612d7038c82a6ca11488313242033a5911eb1d39
size 44925
