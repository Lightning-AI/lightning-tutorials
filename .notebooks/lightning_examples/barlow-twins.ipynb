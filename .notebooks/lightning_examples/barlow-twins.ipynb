version https://git-lfs.github.com/spec/v1
oid sha256:8fb790f178894693b99fba8aa2950c22df9c335fb29b8688b7fceae1a5e37e11
size 285504
