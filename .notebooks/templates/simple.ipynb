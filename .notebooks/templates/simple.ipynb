version https://git-lfs.github.com/spec/v1
oid sha256:b42cdea2c6387adfb3db4a1f0d867d92730e53780c265d64650f3587ea71e4d5
size 89898
