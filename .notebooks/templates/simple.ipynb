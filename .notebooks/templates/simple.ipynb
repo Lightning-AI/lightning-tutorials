version https://git-lfs.github.com/spec/v1
oid sha256:5e10af9148d24444309ed63efc8456d97e47be36bb0581fce26ab6d703db8029
size 90114
