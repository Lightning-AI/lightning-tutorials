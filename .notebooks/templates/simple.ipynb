version https://git-lfs.github.com/spec/v1
oid sha256:e887fec135dad8697e3a3a8f7a340d584d8d745ecbd8676b13b59b141558ddea
size 89899
